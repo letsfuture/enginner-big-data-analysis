{
 "cells": [
  {
   "cell_type": "code",
   "execution_count": 1,
   "id": "cb32dc7e",
   "metadata": {},
   "outputs": [],
   "source": [
    "import pandas as pd\n",
    "import datetime"
   ]
  },
  {
   "cell_type": "markdown",
   "id": "0fb77464",
   "metadata": {},
   "source": [
    "# 유튜브 인기동영상 데이터"
   ]
  },
  {
   "cell_type": "code",
   "execution_count": 2,
   "id": "01056376",
   "metadata": {},
   "outputs": [],
   "source": [
    "df = pd.read_csv(\"https://raw.githubusercontent.com/Datamanim/datarepo/main/youtube/youtube.csv\",index_col=0)"
   ]
  },
  {
   "cell_type": "code",
   "execution_count": 3,
   "id": "8899dbcc",
   "metadata": {},
   "outputs": [
    {
     "data": {
      "text/html": [
       "<div>\n",
       "<style scoped>\n",
       "    .dataframe tbody tr th:only-of-type {\n",
       "        vertical-align: middle;\n",
       "    }\n",
       "\n",
       "    .dataframe tbody tr th {\n",
       "        vertical-align: top;\n",
       "    }\n",
       "\n",
       "    .dataframe thead th {\n",
       "        text-align: right;\n",
       "    }\n",
       "</style>\n",
       "<table border=\"1\" class=\"dataframe\">\n",
       "  <thead>\n",
       "    <tr style=\"text-align: right;\">\n",
       "      <th></th>\n",
       "      <th>title</th>\n",
       "      <th>channelTitle</th>\n",
       "      <th>categoryId</th>\n",
       "      <th>view_count</th>\n",
       "      <th>likes</th>\n",
       "      <th>dislikes</th>\n",
       "      <th>comment_count</th>\n",
       "      <th>channelId</th>\n",
       "      <th>trending_date2</th>\n",
       "    </tr>\n",
       "  </thead>\n",
       "  <tbody>\n",
       "    <tr>\n",
       "      <th>0</th>\n",
       "      <td>[신병] 물자창고</td>\n",
       "      <td>장삐쭈</td>\n",
       "      <td>23</td>\n",
       "      <td>1893473</td>\n",
       "      <td>38249</td>\n",
       "      <td>730</td>\n",
       "      <td>8595</td>\n",
       "      <td>UChbE5OZQ6dRHECsX0tEPEZQ</td>\n",
       "      <td>2021-01-01</td>\n",
       "    </tr>\n",
       "    <tr>\n",
       "      <th>1</th>\n",
       "      <td>RAIN(비) - 나로 바꾸자 Switch to me (duet with JYP) MV</td>\n",
       "      <td>RAIN's Official Channel</td>\n",
       "      <td>10</td>\n",
       "      <td>2600864</td>\n",
       "      <td>0</td>\n",
       "      <td>0</td>\n",
       "      <td>20129</td>\n",
       "      <td>UCxXgIeE5hxWxHG6dz9Scg2w</td>\n",
       "      <td>2021-01-01</td>\n",
       "    </tr>\n",
       "    <tr>\n",
       "      <th>2</th>\n",
       "      <td>2020년 제야의 종 온라인 타종행사 | 보신각 현장 행사는 진행하지 않습니다.</td>\n",
       "      <td>서울시 · Seoul</td>\n",
       "      <td>29</td>\n",
       "      <td>347049</td>\n",
       "      <td>3564</td>\n",
       "      <td>120</td>\n",
       "      <td>178</td>\n",
       "      <td>UCZUPZW5idAxYp-Asj__lVAA</td>\n",
       "      <td>2021-01-01</td>\n",
       "    </tr>\n",
       "    <tr>\n",
       "      <th>3</th>\n",
       "      <td>고기남자의 칠면조 파티</td>\n",
       "      <td>고기남자 MeatMan</td>\n",
       "      <td>26</td>\n",
       "      <td>528458</td>\n",
       "      <td>15372</td>\n",
       "      <td>280</td>\n",
       "      <td>3470</td>\n",
       "      <td>UCT3CumbFIJiW33uq0UI3zlg</td>\n",
       "      <td>2021-01-01</td>\n",
       "    </tr>\n",
       "    <tr>\n",
       "      <th>4</th>\n",
       "      <td>골목 3mc를 분노하게 만든 마음고생이 심했을 공릉 백반집 사장님의 푸념?! [예능...</td>\n",
       "      <td>스브스밥집</td>\n",
       "      <td>24</td>\n",
       "      <td>494904</td>\n",
       "      <td>3918</td>\n",
       "      <td>111</td>\n",
       "      <td>3142</td>\n",
       "      <td>UCdWgRSfttvDucq4ApcCg5Mw</td>\n",
       "      <td>2021-01-01</td>\n",
       "    </tr>\n",
       "  </tbody>\n",
       "</table>\n",
       "</div>"
      ],
      "text/plain": [
       "                                               title             channelTitle  \\\n",
       "0                                          [신병] 물자창고                      장삐쭈   \n",
       "1   RAIN(비) - 나로 바꾸자 Switch to me (duet with JYP) MV  RAIN's Official Channel   \n",
       "2       2020년 제야의 종 온라인 타종행사 | 보신각 현장 행사는 진행하지 않습니다.              서울시 · Seoul   \n",
       "3                                       고기남자의 칠면조 파티             고기남자 MeatMan   \n",
       "4  골목 3mc를 분노하게 만든 마음고생이 심했을 공릉 백반집 사장님의 푸념?! [예능...                    스브스밥집   \n",
       "\n",
       "   categoryId  view_count  likes  dislikes  comment_count  \\\n",
       "0          23     1893473  38249       730           8595   \n",
       "1          10     2600864      0         0          20129   \n",
       "2          29      347049   3564       120            178   \n",
       "3          26      528458  15372       280           3470   \n",
       "4          24      494904   3918       111           3142   \n",
       "\n",
       "                  channelId trending_date2  \n",
       "0  UChbE5OZQ6dRHECsX0tEPEZQ     2021-01-01  \n",
       "1  UCxXgIeE5hxWxHG6dz9Scg2w     2021-01-01  \n",
       "2  UCZUPZW5idAxYp-Asj__lVAA     2021-01-01  \n",
       "3  UCT3CumbFIJiW33uq0UI3zlg     2021-01-01  \n",
       "4  UCdWgRSfttvDucq4ApcCg5Mw     2021-01-01  "
      ]
     },
     "execution_count": 3,
     "metadata": {},
     "output_type": "execute_result"
    }
   ],
   "source": [
    "df.head()"
   ]
  },
  {
   "cell_type": "markdown",
   "id": "8fb85b7d",
   "metadata": {},
   "source": [
    "**Question 01. 인기동영상 제작횟수가 많은 채널 상위 10개명을 출력하라 (날짜기준, 중복포함)**"
   ]
  },
  {
   "cell_type": "code",
   "execution_count": 4,
   "id": "2bbbcbf6",
   "metadata": {},
   "outputs": [
    {
     "data": {
      "text/plain": [
       "UCszFjh7CEfwDb7UUGb4RzCQ    372\n",
       "UClzB2iZ5jPoTNz0S-QU6Wiw    318\n",
       "UCtm_QoN2SIxwCE-59shX7Qg    318\n",
       "UCaKod3X1Tn4c7Ci0iUKcvzQ    313\n",
       "UCiwQRG2sCcfjKkgxMEdJGPg    293\n",
       "UChbE5OZQ6dRHECsX0tEPEZQ    283\n",
       "UCLkAepWjdylmXSltofFvsYQ    275\n",
       "UCQ2O-iftmnlfrBuNsUUTofQ    274\n",
       "UCtfriFvIe5gIe8wRWb8UTMg    258\n",
       "UCRuSxVu4iqTK5kCh90ntAgA    255\n",
       "Name: channelId, dtype: int64"
      ]
     },
     "execution_count": 4,
     "metadata": {},
     "output_type": "execute_result"
    }
   ],
   "source": [
    "df.channelId.value_counts().head(10)"
   ]
  },
  {
   "cell_type": "code",
   "execution_count": 5,
   "id": "851b6f9c",
   "metadata": {},
   "outputs": [
    {
     "data": {
      "text/plain": [
       "Index(['UCszFjh7CEfwDb7UUGb4RzCQ', 'UClzB2iZ5jPoTNz0S-QU6Wiw',\n",
       "       'UCtm_QoN2SIxwCE-59shX7Qg', 'UCaKod3X1Tn4c7Ci0iUKcvzQ',\n",
       "       'UCiwQRG2sCcfjKkgxMEdJGPg', 'UChbE5OZQ6dRHECsX0tEPEZQ',\n",
       "       'UCLkAepWjdylmXSltofFvsYQ', 'UCQ2O-iftmnlfrBuNsUUTofQ',\n",
       "       'UCtfriFvIe5gIe8wRWb8UTMg', 'UCRuSxVu4iqTK5kCh90ntAgA'],\n",
       "      dtype='object')"
      ]
     },
     "execution_count": 5,
     "metadata": {},
     "output_type": "execute_result"
    }
   ],
   "source": [
    "df.channelId.value_counts().head(10).index"
   ]
  },
  {
   "cell_type": "code",
   "execution_count": 6,
   "id": "ba62c244",
   "metadata": {},
   "outputs": [
    {
     "data": {
      "text/plain": [
       "['장삐쭈',\n",
       " '총몇명',\n",
       " '파뿌리',\n",
       " '짤툰',\n",
       " '런닝맨 - 스브스 공식 채널',\n",
       " '엠뚜루마뚜루 : MBC 공식 종합 채널',\n",
       " 'SPOTV',\n",
       " '채널 십오야',\n",
       " '이과장',\n",
       " 'BANGTANTV']"
      ]
     },
     "execution_count": 6,
     "metadata": {},
     "output_type": "execute_result"
    }
   ],
   "source": [
    "Ans = list(df.loc[df.channelId.isin(df.channelId.value_counts().head(10).index)].channelTitle.unique())\n",
    "Ans"
   ]
  },
  {
   "cell_type": "markdown",
   "id": "cbbf4210",
   "metadata": {},
   "source": [
    "**Question 02. dislikes 수가 like 수보다 높은 동영상을 제작한 채널을 모두 출력하라**"
   ]
  },
  {
   "cell_type": "code",
   "execution_count": 7,
   "id": "9922596f",
   "metadata": {},
   "outputs": [
    {
     "data": {
      "text/plain": [
       "['핫도그TV',\n",
       " 'ASMR 애정TV',\n",
       " '하얀트리HayanTree',\n",
       " '양팡 YangPang',\n",
       " '철구형 (CHULTUBE)',\n",
       " '왜냐맨하우스',\n",
       " '(MUTUBE)와꾸대장봉준',\n",
       " '오메킴TV',\n",
       " '육지담',\n",
       " 'MapleStory_KR',\n",
       " 'ROAD FIGHTING CHAMPIONSHIP',\n",
       " '사나이 김기훈',\n",
       " '나혼자산다 STUDIO',\n",
       " 'Gen.G esports']"
      ]
     },
     "execution_count": 7,
     "metadata": {},
     "output_type": "execute_result"
    }
   ],
   "source": [
    "list(df[df['dislikes'] > df['likes']].channelTitle.unique())"
   ]
  },
  {
   "cell_type": "markdown",
   "id": "77d1daa7",
   "metadata": {},
   "source": [
    "**Quesiton 03. channelId의 경우 고유값이므로 이를 통해 채널명을 한 번이라도 바꾼 채널의 갯수를 구하여라**"
   ]
  },
  {
   "cell_type": "code",
   "execution_count": 8,
   "id": "1602e7c8",
   "metadata": {
    "scrolled": false
   },
   "outputs": [
    {
     "data": {
      "text/html": [
       "<div>\n",
       "<style scoped>\n",
       "    .dataframe tbody tr th:only-of-type {\n",
       "        vertical-align: middle;\n",
       "    }\n",
       "\n",
       "    .dataframe tbody tr th {\n",
       "        vertical-align: top;\n",
       "    }\n",
       "\n",
       "    .dataframe thead th {\n",
       "        text-align: right;\n",
       "    }\n",
       "</style>\n",
       "<table border=\"1\" class=\"dataframe\">\n",
       "  <thead>\n",
       "    <tr style=\"text-align: right;\">\n",
       "      <th></th>\n",
       "      <th>channelTitle</th>\n",
       "      <th>channelId</th>\n",
       "    </tr>\n",
       "  </thead>\n",
       "  <tbody>\n",
       "    <tr>\n",
       "      <th>0</th>\n",
       "      <td>장삐쭈</td>\n",
       "      <td>UChbE5OZQ6dRHECsX0tEPEZQ</td>\n",
       "    </tr>\n",
       "    <tr>\n",
       "      <th>1</th>\n",
       "      <td>RAIN's Official Channel</td>\n",
       "      <td>UCxXgIeE5hxWxHG6dz9Scg2w</td>\n",
       "    </tr>\n",
       "    <tr>\n",
       "      <th>2</th>\n",
       "      <td>서울시 · Seoul</td>\n",
       "      <td>UCZUPZW5idAxYp-Asj__lVAA</td>\n",
       "    </tr>\n",
       "    <tr>\n",
       "      <th>3</th>\n",
       "      <td>고기남자 MeatMan</td>\n",
       "      <td>UCT3CumbFIJiW33uq0UI3zlg</td>\n",
       "    </tr>\n",
       "    <tr>\n",
       "      <th>4</th>\n",
       "      <td>스브스밥집</td>\n",
       "      <td>UCdWgRSfttvDucq4ApcCg5Mw</td>\n",
       "    </tr>\n",
       "    <tr>\n",
       "      <th>...</th>\n",
       "      <td>...</td>\n",
       "      <td>...</td>\n",
       "    </tr>\n",
       "    <tr>\n",
       "      <th>60023</th>\n",
       "      <td>멸치형</td>\n",
       "      <td>UCsiuN8Jco3LbbuTyGuqRgKg</td>\n",
       "    </tr>\n",
       "    <tr>\n",
       "      <th>60028</th>\n",
       "      <td>키키TV, 전지적 예능 시점</td>\n",
       "      <td>UCRnEWJKVc5FpC-9Z3CBt2ZQ</td>\n",
       "    </tr>\n",
       "    <tr>\n",
       "      <th>60035</th>\n",
       "      <td>기용이tv</td>\n",
       "      <td>UCkMN06eC97XL1qR1bExdwWg</td>\n",
       "    </tr>\n",
       "    <tr>\n",
       "      <th>60036</th>\n",
       "      <td>INSSAOPPA G [인싸오빠]</td>\n",
       "      <td>UCp9G3sWsE42Qo9jgnB1ta2Q</td>\n",
       "    </tr>\n",
       "    <tr>\n",
       "      <th>60068</th>\n",
       "      <td>한국닌텐도 공식 채널</td>\n",
       "      <td>UCRCK5FCJtomQT3b88jXI_DA</td>\n",
       "    </tr>\n",
       "  </tbody>\n",
       "</table>\n",
       "<p>1843 rows × 2 columns</p>\n",
       "</div>"
      ],
      "text/plain": [
       "                  channelTitle                 channelId\n",
       "0                          장삐쭈  UChbE5OZQ6dRHECsX0tEPEZQ\n",
       "1      RAIN's Official Channel  UCxXgIeE5hxWxHG6dz9Scg2w\n",
       "2                  서울시 · Seoul  UCZUPZW5idAxYp-Asj__lVAA\n",
       "3                 고기남자 MeatMan  UCT3CumbFIJiW33uq0UI3zlg\n",
       "4                        스브스밥집  UCdWgRSfttvDucq4ApcCg5Mw\n",
       "...                        ...                       ...\n",
       "60023                      멸치형  UCsiuN8Jco3LbbuTyGuqRgKg\n",
       "60028          키키TV, 전지적 예능 시점  UCRnEWJKVc5FpC-9Z3CBt2ZQ\n",
       "60035                    기용이tv  UCkMN06eC97XL1qR1bExdwWg\n",
       "60036       INSSAOPPA G [인싸오빠]  UCp9G3sWsE42Qo9jgnB1ta2Q\n",
       "60068              한국닌텐도 공식 채널  UCRCK5FCJtomQT3b88jXI_DA\n",
       "\n",
       "[1843 rows x 2 columns]"
      ]
     },
     "execution_count": 8,
     "metadata": {},
     "output_type": "execute_result"
    }
   ],
   "source": [
    "df[['channelTitle', 'channelId']].drop_duplicates()"
   ]
  },
  {
   "cell_type": "code",
   "execution_count": 9,
   "id": "c2b48932",
   "metadata": {},
   "outputs": [
    {
     "data": {
      "text/plain": [
       "UCtQYhzJWFai1y30UIA3uwYQ    3\n",
       "UC98TOxKQk4aLcx0EjIK0LkQ    3\n",
       "UC4nEQI74rZkFKlUSwi0ur4A    2\n",
       "UCn64fSqF2l4rkkjtQUpku2A    2\n",
       "UCjO3ji06DxmTM1RrzLVwmkA    2\n",
       "                           ..\n",
       "UCuZu8NrpBG4WPXRi-hPBl-A    1\n",
       "UCDrAR1OWC2MD4s0JLetN0MA    1\n",
       "UCx2MVBsdTJ_sv0LiUpSQU2Q    1\n",
       "UCu2R3TCLSxYV8pRyBGNOh2g    1\n",
       "UCRCK5FCJtomQT3b88jXI_DA    1\n",
       "Name: channelId, Length: 1770, dtype: int64"
      ]
     },
     "execution_count": 9,
     "metadata": {},
     "output_type": "execute_result"
    }
   ],
   "source": [
    "df[['channelTitle', 'channelId']].drop_duplicates().channelId.value_counts()"
   ]
  },
  {
   "cell_type": "code",
   "execution_count": 10,
   "id": "4f400408",
   "metadata": {},
   "outputs": [
    {
     "name": "stdout",
     "output_type": "stream",
     "text": [
      "71\n"
     ]
    }
   ],
   "source": [
    "change = df[['channelTitle', 'channelId']].drop_duplicates().channelId.value_counts()\n",
    "target = change[change>1]\n",
    "print(len(target))"
   ]
  },
  {
   "cell_type": "markdown",
   "id": "072b833b",
   "metadata": {},
   "source": [
    "**Question 04. 일요일에 인기있었던 영상들중 가장많은 영상 종류(categoryId)는 무엇인가?**"
   ]
  },
  {
   "cell_type": "code",
   "execution_count": 11,
   "id": "50ed858d",
   "metadata": {},
   "outputs": [
    {
     "data": {
      "text/html": [
       "<div>\n",
       "<style scoped>\n",
       "    .dataframe tbody tr th:only-of-type {\n",
       "        vertical-align: middle;\n",
       "    }\n",
       "\n",
       "    .dataframe tbody tr th {\n",
       "        vertical-align: top;\n",
       "    }\n",
       "\n",
       "    .dataframe thead th {\n",
       "        text-align: right;\n",
       "    }\n",
       "</style>\n",
       "<table border=\"1\" class=\"dataframe\">\n",
       "  <thead>\n",
       "    <tr style=\"text-align: right;\">\n",
       "      <th></th>\n",
       "      <th>title</th>\n",
       "      <th>channelTitle</th>\n",
       "      <th>categoryId</th>\n",
       "      <th>view_count</th>\n",
       "      <th>likes</th>\n",
       "      <th>dislikes</th>\n",
       "      <th>comment_count</th>\n",
       "      <th>channelId</th>\n",
       "      <th>trending_date2</th>\n",
       "    </tr>\n",
       "  </thead>\n",
       "  <tbody>\n",
       "    <tr>\n",
       "      <th>0</th>\n",
       "      <td>[신병] 물자창고</td>\n",
       "      <td>장삐쭈</td>\n",
       "      <td>23</td>\n",
       "      <td>1893473</td>\n",
       "      <td>38249</td>\n",
       "      <td>730</td>\n",
       "      <td>8595</td>\n",
       "      <td>UChbE5OZQ6dRHECsX0tEPEZQ</td>\n",
       "      <td>2021-01-01</td>\n",
       "    </tr>\n",
       "    <tr>\n",
       "      <th>1</th>\n",
       "      <td>RAIN(비) - 나로 바꾸자 Switch to me (duet with JYP) MV</td>\n",
       "      <td>RAIN's Official Channel</td>\n",
       "      <td>10</td>\n",
       "      <td>2600864</td>\n",
       "      <td>0</td>\n",
       "      <td>0</td>\n",
       "      <td>20129</td>\n",
       "      <td>UCxXgIeE5hxWxHG6dz9Scg2w</td>\n",
       "      <td>2021-01-01</td>\n",
       "    </tr>\n",
       "    <tr>\n",
       "      <th>2</th>\n",
       "      <td>2020년 제야의 종 온라인 타종행사 | 보신각 현장 행사는 진행하지 않습니다.</td>\n",
       "      <td>서울시 · Seoul</td>\n",
       "      <td>29</td>\n",
       "      <td>347049</td>\n",
       "      <td>3564</td>\n",
       "      <td>120</td>\n",
       "      <td>178</td>\n",
       "      <td>UCZUPZW5idAxYp-Asj__lVAA</td>\n",
       "      <td>2021-01-01</td>\n",
       "    </tr>\n",
       "    <tr>\n",
       "      <th>3</th>\n",
       "      <td>고기남자의 칠면조 파티</td>\n",
       "      <td>고기남자 MeatMan</td>\n",
       "      <td>26</td>\n",
       "      <td>528458</td>\n",
       "      <td>15372</td>\n",
       "      <td>280</td>\n",
       "      <td>3470</td>\n",
       "      <td>UCT3CumbFIJiW33uq0UI3zlg</td>\n",
       "      <td>2021-01-01</td>\n",
       "    </tr>\n",
       "    <tr>\n",
       "      <th>4</th>\n",
       "      <td>골목 3mc를 분노하게 만든 마음고생이 심했을 공릉 백반집 사장님의 푸념?! [예능...</td>\n",
       "      <td>스브스밥집</td>\n",
       "      <td>24</td>\n",
       "      <td>494904</td>\n",
       "      <td>3918</td>\n",
       "      <td>111</td>\n",
       "      <td>3142</td>\n",
       "      <td>UCdWgRSfttvDucq4ApcCg5Mw</td>\n",
       "      <td>2021-01-01</td>\n",
       "    </tr>\n",
       "  </tbody>\n",
       "</table>\n",
       "</div>"
      ],
      "text/plain": [
       "                                               title             channelTitle  \\\n",
       "0                                          [신병] 물자창고                      장삐쭈   \n",
       "1   RAIN(비) - 나로 바꾸자 Switch to me (duet with JYP) MV  RAIN's Official Channel   \n",
       "2       2020년 제야의 종 온라인 타종행사 | 보신각 현장 행사는 진행하지 않습니다.              서울시 · Seoul   \n",
       "3                                       고기남자의 칠면조 파티             고기남자 MeatMan   \n",
       "4  골목 3mc를 분노하게 만든 마음고생이 심했을 공릉 백반집 사장님의 푸념?! [예능...                    스브스밥집   \n",
       "\n",
       "   categoryId  view_count  likes  dislikes  comment_count  \\\n",
       "0          23     1893473  38249       730           8595   \n",
       "1          10     2600864      0         0          20129   \n",
       "2          29      347049   3564       120            178   \n",
       "3          26      528458  15372       280           3470   \n",
       "4          24      494904   3918       111           3142   \n",
       "\n",
       "                  channelId trending_date2  \n",
       "0  UChbE5OZQ6dRHECsX0tEPEZQ     2021-01-01  \n",
       "1  UCxXgIeE5hxWxHG6dz9Scg2w     2021-01-01  \n",
       "2  UCZUPZW5idAxYp-Asj__lVAA     2021-01-01  \n",
       "3  UCT3CumbFIJiW33uq0UI3zlg     2021-01-01  \n",
       "4  UCdWgRSfttvDucq4ApcCg5Mw     2021-01-01  "
      ]
     },
     "execution_count": 11,
     "metadata": {},
     "output_type": "execute_result"
    }
   ],
   "source": [
    "df.head()"
   ]
  },
  {
   "cell_type": "code",
   "execution_count": 12,
   "id": "5ff5dcb9",
   "metadata": {},
   "outputs": [
    {
     "data": {
      "text/plain": [
       "24"
      ]
     },
     "execution_count": 12,
     "metadata": {},
     "output_type": "execute_result"
    }
   ],
   "source": [
    "df['trending_date2'] = pd.to_datetime(df['trending_date2'])\n",
    "df[df['trending_date2'].dt.day_name()=='Sunday']['categoryId'].value_counts().index[0]"
   ]
  },
  {
   "cell_type": "markdown",
   "id": "6052366d",
   "metadata": {},
   "source": [
    "**Question 05. 각 요일별 인기 영상들의 categoryId는 각각 몇개 씩인지 하나의 데이터 프레임으로 표현하라**"
   ]
  },
  {
   "cell_type": "code",
   "execution_count": 13,
   "id": "75efcf25",
   "metadata": {},
   "outputs": [
    {
     "data": {
      "text/html": [
       "<div>\n",
       "<style scoped>\n",
       "    .dataframe tbody tr th:only-of-type {\n",
       "        vertical-align: middle;\n",
       "    }\n",
       "\n",
       "    .dataframe tbody tr th {\n",
       "        vertical-align: top;\n",
       "    }\n",
       "\n",
       "    .dataframe thead th {\n",
       "        text-align: right;\n",
       "    }\n",
       "</style>\n",
       "<table border=\"1\" class=\"dataframe\">\n",
       "  <thead>\n",
       "    <tr style=\"text-align: right;\">\n",
       "      <th></th>\n",
       "      <th>trending_date2</th>\n",
       "      <th>categoryId</th>\n",
       "      <th>size</th>\n",
       "    </tr>\n",
       "  </thead>\n",
       "  <tbody>\n",
       "    <tr>\n",
       "      <th>0</th>\n",
       "      <td>Friday</td>\n",
       "      <td>1</td>\n",
       "      <td>243</td>\n",
       "    </tr>\n",
       "    <tr>\n",
       "      <th>1</th>\n",
       "      <td>Friday</td>\n",
       "      <td>2</td>\n",
       "      <td>120</td>\n",
       "    </tr>\n",
       "    <tr>\n",
       "      <th>2</th>\n",
       "      <td>Friday</td>\n",
       "      <td>10</td>\n",
       "      <td>833</td>\n",
       "    </tr>\n",
       "    <tr>\n",
       "      <th>3</th>\n",
       "      <td>Friday</td>\n",
       "      <td>15</td>\n",
       "      <td>187</td>\n",
       "    </tr>\n",
       "    <tr>\n",
       "      <th>4</th>\n",
       "      <td>Friday</td>\n",
       "      <td>17</td>\n",
       "      <td>633</td>\n",
       "    </tr>\n",
       "    <tr>\n",
       "      <th>...</th>\n",
       "      <td>...</td>\n",
       "      <td>...</td>\n",
       "      <td>...</td>\n",
       "    </tr>\n",
       "    <tr>\n",
       "      <th>100</th>\n",
       "      <td>Wednesday</td>\n",
       "      <td>25</td>\n",
       "      <td>468</td>\n",
       "    </tr>\n",
       "    <tr>\n",
       "      <th>101</th>\n",
       "      <td>Wednesday</td>\n",
       "      <td>26</td>\n",
       "      <td>385</td>\n",
       "    </tr>\n",
       "    <tr>\n",
       "      <th>102</th>\n",
       "      <td>Wednesday</td>\n",
       "      <td>27</td>\n",
       "      <td>212</td>\n",
       "    </tr>\n",
       "    <tr>\n",
       "      <th>103</th>\n",
       "      <td>Wednesday</td>\n",
       "      <td>28</td>\n",
       "      <td>165</td>\n",
       "    </tr>\n",
       "    <tr>\n",
       "      <th>104</th>\n",
       "      <td>Wednesday</td>\n",
       "      <td>29</td>\n",
       "      <td>12</td>\n",
       "    </tr>\n",
       "  </tbody>\n",
       "</table>\n",
       "<p>105 rows × 3 columns</p>\n",
       "</div>"
      ],
      "text/plain": [
       "    trending_date2  categoryId  size\n",
       "0           Friday           1   243\n",
       "1           Friday           2   120\n",
       "2           Friday          10   833\n",
       "3           Friday          15   187\n",
       "4           Friday          17   633\n",
       "..             ...         ...   ...\n",
       "100      Wednesday          25   468\n",
       "101      Wednesday          26   385\n",
       "102      Wednesday          27   212\n",
       "103      Wednesday          28   165\n",
       "104      Wednesday          29    12\n",
       "\n",
       "[105 rows x 3 columns]"
      ]
     },
     "execution_count": 13,
     "metadata": {},
     "output_type": "execute_result"
    }
   ],
   "source": [
    "target = df.groupby([df['trending_date2'].dt.day_name(), 'categoryId'], as_index=False).size()\n",
    "target"
   ]
  },
  {
   "cell_type": "code",
   "execution_count": 14,
   "id": "0f06e631",
   "metadata": {},
   "outputs": [
    {
     "data": {
      "text/html": [
       "<div>\n",
       "<style scoped>\n",
       "    .dataframe tbody tr th:only-of-type {\n",
       "        vertical-align: middle;\n",
       "    }\n",
       "\n",
       "    .dataframe tbody tr th {\n",
       "        vertical-align: top;\n",
       "    }\n",
       "\n",
       "    .dataframe thead tr th {\n",
       "        text-align: left;\n",
       "    }\n",
       "\n",
       "    .dataframe thead tr:last-of-type th {\n",
       "        text-align: right;\n",
       "    }\n",
       "</style>\n",
       "<table border=\"1\" class=\"dataframe\">\n",
       "  <thead>\n",
       "    <tr>\n",
       "      <th></th>\n",
       "      <th colspan=\"7\" halign=\"left\">size</th>\n",
       "    </tr>\n",
       "    <tr>\n",
       "      <th>trending_date2</th>\n",
       "      <th>Friday</th>\n",
       "      <th>Monday</th>\n",
       "      <th>Saturday</th>\n",
       "      <th>Sunday</th>\n",
       "      <th>Thursday</th>\n",
       "      <th>Tuesday</th>\n",
       "      <th>Wednesday</th>\n",
       "    </tr>\n",
       "    <tr>\n",
       "      <th>categoryId</th>\n",
       "      <th></th>\n",
       "      <th></th>\n",
       "      <th></th>\n",
       "      <th></th>\n",
       "      <th></th>\n",
       "      <th></th>\n",
       "      <th></th>\n",
       "    </tr>\n",
       "  </thead>\n",
       "  <tbody>\n",
       "    <tr>\n",
       "      <th>1</th>\n",
       "      <td>243</td>\n",
       "      <td>263</td>\n",
       "      <td>255</td>\n",
       "      <td>274</td>\n",
       "      <td>246</td>\n",
       "      <td>257</td>\n",
       "      <td>234</td>\n",
       "    </tr>\n",
       "    <tr>\n",
       "      <th>2</th>\n",
       "      <td>120</td>\n",
       "      <td>105</td>\n",
       "      <td>119</td>\n",
       "      <td>99</td>\n",
       "      <td>128</td>\n",
       "      <td>119</td>\n",
       "      <td>129</td>\n",
       "    </tr>\n",
       "    <tr>\n",
       "      <th>10</th>\n",
       "      <td>833</td>\n",
       "      <td>837</td>\n",
       "      <td>776</td>\n",
       "      <td>830</td>\n",
       "      <td>890</td>\n",
       "      <td>894</td>\n",
       "      <td>917</td>\n",
       "    </tr>\n",
       "    <tr>\n",
       "      <th>15</th>\n",
       "      <td>187</td>\n",
       "      <td>215</td>\n",
       "      <td>198</td>\n",
       "      <td>217</td>\n",
       "      <td>207</td>\n",
       "      <td>208</td>\n",
       "      <td>207</td>\n",
       "    </tr>\n",
       "    <tr>\n",
       "      <th>17</th>\n",
       "      <td>633</td>\n",
       "      <td>668</td>\n",
       "      <td>592</td>\n",
       "      <td>636</td>\n",
       "      <td>682</td>\n",
       "      <td>708</td>\n",
       "      <td>706</td>\n",
       "    </tr>\n",
       "    <tr>\n",
       "      <th>19</th>\n",
       "      <td>90</td>\n",
       "      <td>92</td>\n",
       "      <td>87</td>\n",
       "      <td>91</td>\n",
       "      <td>92</td>\n",
       "      <td>89</td>\n",
       "      <td>85</td>\n",
       "    </tr>\n",
       "    <tr>\n",
       "      <th>20</th>\n",
       "      <td>283</td>\n",
       "      <td>298</td>\n",
       "      <td>296</td>\n",
       "      <td>289</td>\n",
       "      <td>282</td>\n",
       "      <td>285</td>\n",
       "      <td>291</td>\n",
       "    </tr>\n",
       "    <tr>\n",
       "      <th>22</th>\n",
       "      <td>1288</td>\n",
       "      <td>1373</td>\n",
       "      <td>1289</td>\n",
       "      <td>1337</td>\n",
       "      <td>1341</td>\n",
       "      <td>1375</td>\n",
       "      <td>1333</td>\n",
       "    </tr>\n",
       "    <tr>\n",
       "      <th>23</th>\n",
       "      <td>568</td>\n",
       "      <td>594</td>\n",
       "      <td>570</td>\n",
       "      <td>556</td>\n",
       "      <td>560</td>\n",
       "      <td>569</td>\n",
       "      <td>566</td>\n",
       "    </tr>\n",
       "    <tr>\n",
       "      <th>24</th>\n",
       "      <td>2976</td>\n",
       "      <td>3148</td>\n",
       "      <td>3066</td>\n",
       "      <td>3096</td>\n",
       "      <td>2954</td>\n",
       "      <td>3084</td>\n",
       "      <td>3090</td>\n",
       "    </tr>\n",
       "    <tr>\n",
       "      <th>25</th>\n",
       "      <td>444</td>\n",
       "      <td>453</td>\n",
       "      <td>422</td>\n",
       "      <td>437</td>\n",
       "      <td>470</td>\n",
       "      <td>452</td>\n",
       "      <td>468</td>\n",
       "    </tr>\n",
       "    <tr>\n",
       "      <th>26</th>\n",
       "      <td>369</td>\n",
       "      <td>378</td>\n",
       "      <td>364</td>\n",
       "      <td>363</td>\n",
       "      <td>375</td>\n",
       "      <td>394</td>\n",
       "      <td>385</td>\n",
       "    </tr>\n",
       "    <tr>\n",
       "      <th>27</th>\n",
       "      <td>183</td>\n",
       "      <td>205</td>\n",
       "      <td>183</td>\n",
       "      <td>199</td>\n",
       "      <td>194</td>\n",
       "      <td>194</td>\n",
       "      <td>212</td>\n",
       "    </tr>\n",
       "    <tr>\n",
       "      <th>28</th>\n",
       "      <td>171</td>\n",
       "      <td>160</td>\n",
       "      <td>173</td>\n",
       "      <td>167</td>\n",
       "      <td>166</td>\n",
       "      <td>161</td>\n",
       "      <td>165</td>\n",
       "    </tr>\n",
       "    <tr>\n",
       "      <th>29</th>\n",
       "      <td>12</td>\n",
       "      <td>10</td>\n",
       "      <td>10</td>\n",
       "      <td>9</td>\n",
       "      <td>13</td>\n",
       "      <td>11</td>\n",
       "      <td>12</td>\n",
       "    </tr>\n",
       "  </tbody>\n",
       "</table>\n",
       "</div>"
      ],
      "text/plain": [
       "                 size                                                  \n",
       "trending_date2 Friday Monday Saturday Sunday Thursday Tuesday Wednesday\n",
       "categoryId                                                             \n",
       "1                 243    263      255    274      246     257       234\n",
       "2                 120    105      119     99      128     119       129\n",
       "10                833    837      776    830      890     894       917\n",
       "15                187    215      198    217      207     208       207\n",
       "17                633    668      592    636      682     708       706\n",
       "19                 90     92       87     91       92      89        85\n",
       "20                283    298      296    289      282     285       291\n",
       "22               1288   1373     1289   1337     1341    1375      1333\n",
       "23                568    594      570    556      560     569       566\n",
       "24               2976   3148     3066   3096     2954    3084      3090\n",
       "25                444    453      422    437      470     452       468\n",
       "26                369    378      364    363      375     394       385\n",
       "27                183    205      183    199      194     194       212\n",
       "28                171    160      173    167      166     161       165\n",
       "29                 12     10       10      9       13      11        12"
      ]
     },
     "execution_count": 14,
     "metadata": {},
     "output_type": "execute_result"
    }
   ],
   "source": [
    "Ans = target.pivot(index='categoryId', columns='trending_date2')\n",
    "Ans"
   ]
  },
  {
   "cell_type": "markdown",
   "id": "62c1e068",
   "metadata": {},
   "source": [
    "**Question 06.  viewcount 대비 댓글 수가 가장 높은 영상을 확인하라 (view_count값이 0인 경우는 제외한다)**"
   ]
  },
  {
   "cell_type": "code",
   "execution_count": 15,
   "id": "472a77ed",
   "metadata": {},
   "outputs": [
    {
     "data": {
      "text/html": [
       "<div>\n",
       "<style scoped>\n",
       "    .dataframe tbody tr th:only-of-type {\n",
       "        vertical-align: middle;\n",
       "    }\n",
       "\n",
       "    .dataframe tbody tr th {\n",
       "        vertical-align: top;\n",
       "    }\n",
       "\n",
       "    .dataframe thead th {\n",
       "        text-align: right;\n",
       "    }\n",
       "</style>\n",
       "<table border=\"1\" class=\"dataframe\">\n",
       "  <thead>\n",
       "    <tr style=\"text-align: right;\">\n",
       "      <th></th>\n",
       "      <th>title</th>\n",
       "      <th>channelTitle</th>\n",
       "      <th>categoryId</th>\n",
       "      <th>view_count</th>\n",
       "      <th>likes</th>\n",
       "      <th>dislikes</th>\n",
       "      <th>comment_count</th>\n",
       "      <th>channelId</th>\n",
       "      <th>trending_date2</th>\n",
       "    </tr>\n",
       "  </thead>\n",
       "  <tbody>\n",
       "    <tr>\n",
       "      <th>0</th>\n",
       "      <td>[신병] 물자창고</td>\n",
       "      <td>장삐쭈</td>\n",
       "      <td>23</td>\n",
       "      <td>1893473</td>\n",
       "      <td>38249</td>\n",
       "      <td>730</td>\n",
       "      <td>8595</td>\n",
       "      <td>UChbE5OZQ6dRHECsX0tEPEZQ</td>\n",
       "      <td>2021-01-01</td>\n",
       "    </tr>\n",
       "    <tr>\n",
       "      <th>1</th>\n",
       "      <td>RAIN(비) - 나로 바꾸자 Switch to me (duet with JYP) MV</td>\n",
       "      <td>RAIN's Official Channel</td>\n",
       "      <td>10</td>\n",
       "      <td>2600864</td>\n",
       "      <td>0</td>\n",
       "      <td>0</td>\n",
       "      <td>20129</td>\n",
       "      <td>UCxXgIeE5hxWxHG6dz9Scg2w</td>\n",
       "      <td>2021-01-01</td>\n",
       "    </tr>\n",
       "    <tr>\n",
       "      <th>2</th>\n",
       "      <td>2020년 제야의 종 온라인 타종행사 | 보신각 현장 행사는 진행하지 않습니다.</td>\n",
       "      <td>서울시 · Seoul</td>\n",
       "      <td>29</td>\n",
       "      <td>347049</td>\n",
       "      <td>3564</td>\n",
       "      <td>120</td>\n",
       "      <td>178</td>\n",
       "      <td>UCZUPZW5idAxYp-Asj__lVAA</td>\n",
       "      <td>2021-01-01</td>\n",
       "    </tr>\n",
       "    <tr>\n",
       "      <th>3</th>\n",
       "      <td>고기남자의 칠면조 파티</td>\n",
       "      <td>고기남자 MeatMan</td>\n",
       "      <td>26</td>\n",
       "      <td>528458</td>\n",
       "      <td>15372</td>\n",
       "      <td>280</td>\n",
       "      <td>3470</td>\n",
       "      <td>UCT3CumbFIJiW33uq0UI3zlg</td>\n",
       "      <td>2021-01-01</td>\n",
       "    </tr>\n",
       "    <tr>\n",
       "      <th>4</th>\n",
       "      <td>골목 3mc를 분노하게 만든 마음고생이 심했을 공릉 백반집 사장님의 푸념?! [예능...</td>\n",
       "      <td>스브스밥집</td>\n",
       "      <td>24</td>\n",
       "      <td>494904</td>\n",
       "      <td>3918</td>\n",
       "      <td>111</td>\n",
       "      <td>3142</td>\n",
       "      <td>UCdWgRSfttvDucq4ApcCg5Mw</td>\n",
       "      <td>2021-01-01</td>\n",
       "    </tr>\n",
       "  </tbody>\n",
       "</table>\n",
       "</div>"
      ],
      "text/plain": [
       "                                               title             channelTitle  \\\n",
       "0                                          [신병] 물자창고                      장삐쭈   \n",
       "1   RAIN(비) - 나로 바꾸자 Switch to me (duet with JYP) MV  RAIN's Official Channel   \n",
       "2       2020년 제야의 종 온라인 타종행사 | 보신각 현장 행사는 진행하지 않습니다.              서울시 · Seoul   \n",
       "3                                       고기남자의 칠면조 파티             고기남자 MeatMan   \n",
       "4  골목 3mc를 분노하게 만든 마음고생이 심했을 공릉 백반집 사장님의 푸념?! [예능...                    스브스밥집   \n",
       "\n",
       "   categoryId  view_count  likes  dislikes  comment_count  \\\n",
       "0          23     1893473  38249       730           8595   \n",
       "1          10     2600864      0         0          20129   \n",
       "2          29      347049   3564       120            178   \n",
       "3          26      528458  15372       280           3470   \n",
       "4          24      494904   3918       111           3142   \n",
       "\n",
       "                  channelId trending_date2  \n",
       "0  UChbE5OZQ6dRHECsX0tEPEZQ     2021-01-01  \n",
       "1  UCxXgIeE5hxWxHG6dz9Scg2w     2021-01-01  \n",
       "2  UCZUPZW5idAxYp-Asj__lVAA     2021-01-01  \n",
       "3  UCT3CumbFIJiW33uq0UI3zlg     2021-01-01  \n",
       "4  UCdWgRSfttvDucq4ApcCg5Mw     2021-01-01  "
      ]
     },
     "execution_count": 15,
     "metadata": {},
     "output_type": "execute_result"
    }
   ],
   "source": [
    "df.head()"
   ]
  },
  {
   "cell_type": "code",
   "execution_count": 16,
   "id": "202cd6b1",
   "metadata": {},
   "outputs": [
    {
     "data": {
      "text/plain": [
       "'60분 동안 댓글이 달리지 않으면, 영상이 삭제됩니다. (챌린지)'"
      ]
     },
     "execution_count": 16,
     "metadata": {},
     "output_type": "execute_result"
    }
   ],
   "source": [
    "target = df.loc[df.view_count!=0]\n",
    "targetCopy = target.copy()\n",
    "targetCopy['ratio'] = (target['comment_count'] / target['view_count']).dropna()\n",
    "Ans = targetCopy.sort_values(by='ratio', ascending=False).iloc[0].title\n",
    "Ans"
   ]
  },
  {
   "cell_type": "markdown",
   "id": "11328e75",
   "metadata": {},
   "source": [
    "**Question 07. viewcount 대비 댓글 수가 가장 낮은 영상을 확인하라 (view_counts, ratio값이 0인 경우는 제외한다)**"
   ]
  },
  {
   "cell_type": "code",
   "execution_count": 17,
   "id": "a020d2dc",
   "metadata": {},
   "outputs": [
    {
     "data": {
      "text/plain": [
       "'Join the BTS #PermissiontoDance Challenge only on YouTube #Shorts'"
      ]
     },
     "execution_count": 17,
     "metadata": {},
     "output_type": "execute_result"
    }
   ],
   "source": [
    "ratio = (target['comment_count'] / target['view_count']).dropna().sort_values()\n",
    "ratio[ratio!=0].index[0]\n",
    "Ans = df.iloc[ratio[ratio!=0].index[0]].title\n",
    "Ans"
   ]
  },
  {
   "cell_type": "code",
   "execution_count": 18,
   "id": "bc8c3b03",
   "metadata": {},
   "outputs": [
    {
     "data": {
      "text/plain": [
       "50071    0.000000\n",
       "25225    0.000000\n",
       "52155    0.000000\n",
       "54884    0.000000\n",
       "10772    0.000000\n",
       "           ...   \n",
       "51494    0.150621\n",
       "52786    0.150693\n",
       "51264    0.153998\n",
       "51047    0.159655\n",
       "50830    0.161516\n",
       "Length: 60386, dtype: float64"
      ]
     },
     "execution_count": 18,
     "metadata": {},
     "output_type": "execute_result"
    }
   ],
   "source": [
    "ratio"
   ]
  },
  {
   "cell_type": "code",
   "execution_count": 19,
   "id": "c9d6b569",
   "metadata": {},
   "outputs": [
    {
     "data": {
      "text/plain": [
       "46005"
      ]
     },
     "execution_count": 19,
     "metadata": {},
     "output_type": "execute_result"
    }
   ],
   "source": [
    "ratio[ratio!=0].index[0]"
   ]
  },
  {
   "cell_type": "code",
   "execution_count": 20,
   "id": "473ab0b5",
   "metadata": {},
   "outputs": [
    {
     "data": {
      "text/plain": [
       "title             Join the BTS #PermissiontoDance Challenge only...\n",
       "channelTitle                                                YouTube\n",
       "categoryId                                                       27\n",
       "view_count                                                 46458563\n",
       "likes                                                             0\n",
       "dislikes                                                          0\n",
       "comment_count                                                     1\n",
       "channelId                                  UCBR8-60-B28hp2BmDPdntcQ\n",
       "trending_date2                                  2021-08-09 00:00:00\n",
       "Name: 46005, dtype: object"
      ]
     },
     "execution_count": 20,
     "metadata": {},
     "output_type": "execute_result"
    }
   ],
   "source": [
    "df.iloc[ratio[ratio!=0].index[0]]"
   ]
  },
  {
   "cell_type": "markdown",
   "id": "2822138a",
   "metadata": {},
   "source": [
    "**Question 08. like 대비 dislike의 수가 가장 적은 영상은 무엇인가? (like, dislike 값이 0인경우는 제외한다)**"
   ]
  },
  {
   "cell_type": "code",
   "execution_count": 21,
   "id": "342b8990",
   "metadata": {},
   "outputs": [
    {
     "data": {
      "text/plain": [
       "'[줌터뷰] *최초공개* 사부작즈🐰🐶의 비공식 이름은 아이라인즈? 꿀조합 티키타카 가득한 NCT 127 도영&정우의 줌터뷰'"
      ]
     },
     "execution_count": 21,
     "metadata": {},
     "output_type": "execute_result"
    }
   ],
   "source": [
    "target = df.loc[(df.likes!=0) & (df.dislikes!=0)]\n",
    "num = (target['dislikes'] / target['likes']).sort_values().index[0]\n",
    "Ans = df.iloc[num].title\n",
    "Ans"
   ]
  },
  {
   "cell_type": "code",
   "execution_count": 22,
   "id": "0cf49f4d",
   "metadata": {},
   "outputs": [
    {
     "data": {
      "text/html": [
       "<div>\n",
       "<style scoped>\n",
       "    .dataframe tbody tr th:only-of-type {\n",
       "        vertical-align: middle;\n",
       "    }\n",
       "\n",
       "    .dataframe tbody tr th {\n",
       "        vertical-align: top;\n",
       "    }\n",
       "\n",
       "    .dataframe thead th {\n",
       "        text-align: right;\n",
       "    }\n",
       "</style>\n",
       "<table border=\"1\" class=\"dataframe\">\n",
       "  <thead>\n",
       "    <tr style=\"text-align: right;\">\n",
       "      <th></th>\n",
       "      <th>title</th>\n",
       "      <th>channelTitle</th>\n",
       "      <th>categoryId</th>\n",
       "      <th>view_count</th>\n",
       "      <th>likes</th>\n",
       "      <th>dislikes</th>\n",
       "      <th>comment_count</th>\n",
       "      <th>channelId</th>\n",
       "      <th>trending_date2</th>\n",
       "    </tr>\n",
       "  </thead>\n",
       "  <tbody>\n",
       "    <tr>\n",
       "      <th>0</th>\n",
       "      <td>[신병] 물자창고</td>\n",
       "      <td>장삐쭈</td>\n",
       "      <td>23</td>\n",
       "      <td>1893473</td>\n",
       "      <td>38249</td>\n",
       "      <td>730</td>\n",
       "      <td>8595</td>\n",
       "      <td>UChbE5OZQ6dRHECsX0tEPEZQ</td>\n",
       "      <td>2021-01-01</td>\n",
       "    </tr>\n",
       "    <tr>\n",
       "      <th>2</th>\n",
       "      <td>2020년 제야의 종 온라인 타종행사 | 보신각 현장 행사는 진행하지 않습니다.</td>\n",
       "      <td>서울시 · Seoul</td>\n",
       "      <td>29</td>\n",
       "      <td>347049</td>\n",
       "      <td>3564</td>\n",
       "      <td>120</td>\n",
       "      <td>178</td>\n",
       "      <td>UCZUPZW5idAxYp-Asj__lVAA</td>\n",
       "      <td>2021-01-01</td>\n",
       "    </tr>\n",
       "    <tr>\n",
       "      <th>3</th>\n",
       "      <td>고기남자의 칠면조 파티</td>\n",
       "      <td>고기남자 MeatMan</td>\n",
       "      <td>26</td>\n",
       "      <td>528458</td>\n",
       "      <td>15372</td>\n",
       "      <td>280</td>\n",
       "      <td>3470</td>\n",
       "      <td>UCT3CumbFIJiW33uq0UI3zlg</td>\n",
       "      <td>2021-01-01</td>\n",
       "    </tr>\n",
       "    <tr>\n",
       "      <th>4</th>\n",
       "      <td>골목 3mc를 분노하게 만든 마음고생이 심했을 공릉 백반집 사장님의 푸념?! [예능...</td>\n",
       "      <td>스브스밥집</td>\n",
       "      <td>24</td>\n",
       "      <td>494904</td>\n",
       "      <td>3918</td>\n",
       "      <td>111</td>\n",
       "      <td>3142</td>\n",
       "      <td>UCdWgRSfttvDucq4ApcCg5Mw</td>\n",
       "      <td>2021-01-01</td>\n",
       "    </tr>\n",
       "    <tr>\n",
       "      <th>5</th>\n",
       "      <td>(EN/CN/ID) 월드스타 한 분 더 모셨습니다. 비x박진영 &amp; 싸이, 비주얼 가...</td>\n",
       "      <td>시즌비시즌 Season B Season</td>\n",
       "      <td>24</td>\n",
       "      <td>1274464</td>\n",
       "      <td>26660</td>\n",
       "      <td>368</td>\n",
       "      <td>2701</td>\n",
       "      <td>UCZf4ZESHAIuRtZ-eoMSL97A</td>\n",
       "      <td>2021-01-01</td>\n",
       "    </tr>\n",
       "    <tr>\n",
       "      <th>...</th>\n",
       "      <td>...</td>\n",
       "      <td>...</td>\n",
       "      <td>...</td>\n",
       "      <td>...</td>\n",
       "      <td>...</td>\n",
       "      <td>...</td>\n",
       "      <td>...</td>\n",
       "      <td>...</td>\n",
       "      <td>...</td>\n",
       "    </tr>\n",
       "    <tr>\n",
       "      <th>60394</th>\n",
       "      <td>*풀코스로 먹습니다* 🍗치킨 + 🍕피자 + 🥧디저트</td>\n",
       "      <td>공룡</td>\n",
       "      <td>22</td>\n",
       "      <td>538190</td>\n",
       "      <td>16671</td>\n",
       "      <td>209</td>\n",
       "      <td>3117</td>\n",
       "      <td>UCWf4QKgnTyvmehcRqw-JldQ</td>\n",
       "      <td>2021-10-19</td>\n",
       "    </tr>\n",
       "    <tr>\n",
       "      <th>60395</th>\n",
       "      <td>[놀면 뭐하니? 예고] 우린 깐부잖아🦑 놀뭐에 등장한 월드클래스 초대손님!! MBC...</td>\n",
       "      <td>놀면 뭐하니?</td>\n",
       "      <td>24</td>\n",
       "      <td>1607562</td>\n",
       "      <td>14615</td>\n",
       "      <td>258</td>\n",
       "      <td>1141</td>\n",
       "      <td>UCx6jsZ02B4K3SECUrkgPyzg</td>\n",
       "      <td>2021-10-19</td>\n",
       "    </tr>\n",
       "    <tr>\n",
       "      <th>60396</th>\n",
       "      <td>먹방 전쟁 : 사랑스러War (feat. 401 정육식당)</td>\n",
       "      <td>김종국 GYM JONG KOOK</td>\n",
       "      <td>17</td>\n",
       "      <td>1125911</td>\n",
       "      <td>26490</td>\n",
       "      <td>263</td>\n",
       "      <td>1915</td>\n",
       "      <td>UCoe-0EVDJnjlSoPK8ygcGwQ</td>\n",
       "      <td>2021-10-19</td>\n",
       "    </tr>\n",
       "    <tr>\n",
       "      <th>60397</th>\n",
       "      <td>＂너.. 광수지?＂ 협상에 거짓말부터 던지는 광수 닮은꼴 김연경 선수 [런닝맨|21...</td>\n",
       "      <td>스브스 예능맛집</td>\n",
       "      <td>24</td>\n",
       "      <td>1741773</td>\n",
       "      <td>14994</td>\n",
       "      <td>304</td>\n",
       "      <td>802</td>\n",
       "      <td>UCnx4Fi4cmkLGDiFfZ311wWw</td>\n",
       "      <td>2021-10-19</td>\n",
       "    </tr>\n",
       "    <tr>\n",
       "      <th>60398</th>\n",
       "      <td>ENHYPEN (엔하이픈) 'Tamed-Dashed' Official MV</td>\n",
       "      <td>HYBE LABELS</td>\n",
       "      <td>10</td>\n",
       "      <td>13753485</td>\n",
       "      <td>1784532</td>\n",
       "      <td>9737</td>\n",
       "      <td>195461</td>\n",
       "      <td>UC3IZKseVpdzPSBaWxBxundA</td>\n",
       "      <td>2021-10-19</td>\n",
       "    </tr>\n",
       "  </tbody>\n",
       "</table>\n",
       "<p>59693 rows × 9 columns</p>\n",
       "</div>"
      ],
      "text/plain": [
       "                                                   title  \\\n",
       "0                                              [신병] 물자창고   \n",
       "2           2020년 제야의 종 온라인 타종행사 | 보신각 현장 행사는 진행하지 않습니다.   \n",
       "3                                           고기남자의 칠면조 파티   \n",
       "4      골목 3mc를 분노하게 만든 마음고생이 심했을 공릉 백반집 사장님의 푸념?! [예능...   \n",
       "5      (EN/CN/ID) 월드스타 한 분 더 모셨습니다. 비x박진영 & 싸이, 비주얼 가...   \n",
       "...                                                  ...   \n",
       "60394                       *풀코스로 먹습니다* 🍗치킨 + 🍕피자 + 🥧디저트   \n",
       "60395  [놀면 뭐하니? 예고] 우린 깐부잖아🦑 놀뭐에 등장한 월드클래스 초대손님!! MBC...   \n",
       "60396                   먹방 전쟁 : 사랑스러War (feat. 401 정육식당)   \n",
       "60397  ＂너.. 광수지?＂ 협상에 거짓말부터 던지는 광수 닮은꼴 김연경 선수 [런닝맨|21...   \n",
       "60398          ENHYPEN (엔하이픈) 'Tamed-Dashed' Official MV   \n",
       "\n",
       "                channelTitle  categoryId  view_count    likes  dislikes  \\\n",
       "0                        장삐쭈          23     1893473    38249       730   \n",
       "2                서울시 · Seoul          29      347049     3564       120   \n",
       "3               고기남자 MeatMan          26      528458    15372       280   \n",
       "4                      스브스밥집          24      494904     3918       111   \n",
       "5      시즌비시즌 Season B Season          24     1274464    26660       368   \n",
       "...                      ...         ...         ...      ...       ...   \n",
       "60394                     공룡          22      538190    16671       209   \n",
       "60395                놀면 뭐하니?          24     1607562    14615       258   \n",
       "60396      김종국 GYM JONG KOOK          17     1125911    26490       263   \n",
       "60397               스브스 예능맛집          24     1741773    14994       304   \n",
       "60398            HYBE LABELS          10    13753485  1784532      9737   \n",
       "\n",
       "       comment_count                 channelId trending_date2  \n",
       "0               8595  UChbE5OZQ6dRHECsX0tEPEZQ     2021-01-01  \n",
       "2                178  UCZUPZW5idAxYp-Asj__lVAA     2021-01-01  \n",
       "3               3470  UCT3CumbFIJiW33uq0UI3zlg     2021-01-01  \n",
       "4               3142  UCdWgRSfttvDucq4ApcCg5Mw     2021-01-01  \n",
       "5               2701  UCZf4ZESHAIuRtZ-eoMSL97A     2021-01-01  \n",
       "...              ...                       ...            ...  \n",
       "60394           3117  UCWf4QKgnTyvmehcRqw-JldQ     2021-10-19  \n",
       "60395           1141  UCx6jsZ02B4K3SECUrkgPyzg     2021-10-19  \n",
       "60396           1915  UCoe-0EVDJnjlSoPK8ygcGwQ     2021-10-19  \n",
       "60397            802  UCnx4Fi4cmkLGDiFfZ311wWw     2021-10-19  \n",
       "60398         195461  UC3IZKseVpdzPSBaWxBxundA     2021-10-19  \n",
       "\n",
       "[59693 rows x 9 columns]"
      ]
     },
     "execution_count": 22,
     "metadata": {},
     "output_type": "execute_result"
    }
   ],
   "source": [
    "target"
   ]
  },
  {
   "cell_type": "code",
   "execution_count": 23,
   "id": "752b3a89",
   "metadata": {},
   "outputs": [
    {
     "data": {
      "text/plain": [
       "11477     0.000523\n",
       "12168     0.000598\n",
       "11969     0.000602\n",
       "11740     0.000620\n",
       "12386     0.000626\n",
       "           ...    \n",
       "26887    12.657785\n",
       "27108    12.807119\n",
       "27355    12.936469\n",
       "27578    13.009868\n",
       "27789    13.082719\n",
       "Length: 59693, dtype: float64"
      ]
     },
     "execution_count": 23,
     "metadata": {},
     "output_type": "execute_result"
    }
   ],
   "source": [
    "(target['dislikes'] / target['likes']).sort_values()"
   ]
  },
  {
   "cell_type": "code",
   "execution_count": 24,
   "id": "9fb1d50a",
   "metadata": {},
   "outputs": [
    {
     "data": {
      "text/plain": [
       "Int64Index([11477, 12168, 11969, 11740, 12386, 51744, 51952, 51526, 52172,\n",
       "            51086,\n",
       "            ...\n",
       "            27773, 27991, 26229, 26447, 26669, 26887, 27108, 27355, 27578,\n",
       "            27789],\n",
       "           dtype='int64', length=59693)"
      ]
     },
     "execution_count": 24,
     "metadata": {},
     "output_type": "execute_result"
    }
   ],
   "source": [
    "(target['dislikes'] / target['likes']).sort_values().index"
   ]
  },
  {
   "cell_type": "code",
   "execution_count": 25,
   "id": "4d96de48",
   "metadata": {},
   "outputs": [
    {
     "data": {
      "text/plain": [
       "11477"
      ]
     },
     "execution_count": 25,
     "metadata": {},
     "output_type": "execute_result"
    }
   ],
   "source": [
    "(target['dislikes'] / target['likes']).sort_values().index[0]"
   ]
  },
  {
   "cell_type": "markdown",
   "id": "784c4bde",
   "metadata": {},
   "source": [
    "**Quesiton 09. 가장 많은 트렌드 영상을 제작한 채널의 이름은 무엇인가? (날짜기준, 중복포함)**"
   ]
  },
  {
   "cell_type": "code",
   "execution_count": 26,
   "id": "80f33276",
   "metadata": {},
   "outputs": [
    {
     "data": {
      "text/plain": [
       "'짤툰'"
      ]
     },
     "execution_count": 26,
     "metadata": {},
     "output_type": "execute_result"
    }
   ],
   "source": [
    "df.loc[df.channelId==df.channelId.value_counts().index[0]].channelTitle.unique()[0]"
   ]
  },
  {
   "cell_type": "markdown",
   "id": "ffe5e85d",
   "metadata": {},
   "source": [
    "**Question 10. 20회(20일)이상 인기동영상 리스트에 포함된 동영상의 숫자는?**"
   ]
  },
  {
   "cell_type": "code",
   "execution_count": 27,
   "id": "5c8161e7",
   "metadata": {},
   "outputs": [
    {
     "data": {
      "text/plain": [
       "40"
      ]
     },
     "execution_count": 27,
     "metadata": {},
     "output_type": "execute_result"
    }
   ],
   "source": [
    "(df[['title', 'channelId']].value_counts()>=20).sum()"
   ]
  },
  {
   "cell_type": "markdown",
   "id": "fe9a7ebf",
   "metadata": {},
   "source": [
    "# 유튜브 공범 콘텐츠 동영상 데이터"
   ]
  },
  {
   "cell_type": "code",
   "execution_count": 28,
   "id": "b24fd731",
   "metadata": {},
   "outputs": [
    {
     "data": {
      "text/html": [
       "<div>\n",
       "<style scoped>\n",
       "    .dataframe tbody tr th:only-of-type {\n",
       "        vertical-align: middle;\n",
       "    }\n",
       "\n",
       "    .dataframe tbody tr th {\n",
       "        vertical-align: top;\n",
       "    }\n",
       "\n",
       "    .dataframe thead th {\n",
       "        text-align: right;\n",
       "    }\n",
       "</style>\n",
       "<table border=\"1\" class=\"dataframe\">\n",
       "  <thead>\n",
       "    <tr style=\"text-align: right;\">\n",
       "      <th></th>\n",
       "      <th>channelid</th>\n",
       "      <th>subcnt</th>\n",
       "      <th>viewcnt</th>\n",
       "      <th>videocnt</th>\n",
       "      <th>ct</th>\n",
       "      <th>channelname</th>\n",
       "    </tr>\n",
       "  </thead>\n",
       "  <tbody>\n",
       "    <tr>\n",
       "      <th>0</th>\n",
       "      <td>UCkQCwnkQfgSuPTTnw_Y7v7w</td>\n",
       "      <td>1310000</td>\n",
       "      <td>410238653</td>\n",
       "      <td>736</td>\n",
       "      <td>2021-09-30 03:01:03</td>\n",
       "      <td>꽈뚜룹</td>\n",
       "    </tr>\n",
       "    <tr>\n",
       "      <th>1</th>\n",
       "      <td>UCkQCwnkQfgSuPTTnw_Y7v7w</td>\n",
       "      <td>1310000</td>\n",
       "      <td>412531322</td>\n",
       "      <td>736</td>\n",
       "      <td>2021-09-30 09:01:03</td>\n",
       "      <td>꽈뚜룹</td>\n",
       "    </tr>\n",
       "    <tr>\n",
       "      <th>2</th>\n",
       "      <td>UCkQCwnkQfgSuPTTnw_Y7v7w</td>\n",
       "      <td>1310000</td>\n",
       "      <td>412531322</td>\n",
       "      <td>735</td>\n",
       "      <td>2021-09-30 15:01:03</td>\n",
       "      <td>꽈뚜룹</td>\n",
       "    </tr>\n",
       "    <tr>\n",
       "      <th>3</th>\n",
       "      <td>UCkQCwnkQfgSuPTTnw_Y7v7w</td>\n",
       "      <td>1310000</td>\n",
       "      <td>412531322</td>\n",
       "      <td>737</td>\n",
       "      <td>2021-09-30 21:01:03</td>\n",
       "      <td>꽈뚜룹</td>\n",
       "    </tr>\n",
       "    <tr>\n",
       "      <th>4</th>\n",
       "      <td>UCkQCwnkQfgSuPTTnw_Y7v7w</td>\n",
       "      <td>1320000</td>\n",
       "      <td>412531322</td>\n",
       "      <td>737</td>\n",
       "      <td>2021-10-01 03:01:04</td>\n",
       "      <td>꽈뚜룹</td>\n",
       "    </tr>\n",
       "  </tbody>\n",
       "</table>\n",
       "</div>"
      ],
      "text/plain": [
       "                  channelid   subcnt    viewcnt  videocnt  \\\n",
       "0  UCkQCwnkQfgSuPTTnw_Y7v7w  1310000  410238653       736   \n",
       "1  UCkQCwnkQfgSuPTTnw_Y7v7w  1310000  412531322       736   \n",
       "2  UCkQCwnkQfgSuPTTnw_Y7v7w  1310000  412531322       735   \n",
       "3  UCkQCwnkQfgSuPTTnw_Y7v7w  1310000  412531322       737   \n",
       "4  UCkQCwnkQfgSuPTTnw_Y7v7w  1320000  412531322       737   \n",
       "\n",
       "                    ct channelname  \n",
       "0  2021-09-30 03:01:03         꽈뚜룹  \n",
       "1  2021-09-30 09:01:03         꽈뚜룹  \n",
       "2  2021-09-30 15:01:03         꽈뚜룹  \n",
       "3  2021-09-30 21:01:03         꽈뚜룹  \n",
       "4  2021-10-01 03:01:04         꽈뚜룹  "
      ]
     },
     "metadata": {},
     "output_type": "display_data"
    },
    {
     "data": {
      "text/html": [
       "<div>\n",
       "<style scoped>\n",
       "    .dataframe tbody tr th:only-of-type {\n",
       "        vertical-align: middle;\n",
       "    }\n",
       "\n",
       "    .dataframe tbody tr th {\n",
       "        vertical-align: top;\n",
       "    }\n",
       "\n",
       "    .dataframe thead th {\n",
       "        text-align: right;\n",
       "    }\n",
       "</style>\n",
       "<table border=\"1\" class=\"dataframe\">\n",
       "  <thead>\n",
       "    <tr style=\"text-align: right;\">\n",
       "      <th></th>\n",
       "      <th>videopk</th>\n",
       "      <th>viewcnt</th>\n",
       "      <th>likecnt</th>\n",
       "      <th>dislikecnt</th>\n",
       "      <th>favoritecnt</th>\n",
       "      <th>cmcnt</th>\n",
       "      <th>ct</th>\n",
       "      <th>videoname</th>\n",
       "    </tr>\n",
       "  </thead>\n",
       "  <tbody>\n",
       "    <tr>\n",
       "      <th>0</th>\n",
       "      <td>c5JQp6xafqc</td>\n",
       "      <td>1667010</td>\n",
       "      <td>30474</td>\n",
       "      <td>706</td>\n",
       "      <td>0</td>\n",
       "      <td>6587</td>\n",
       "      <td>2021-10-10 15:20:03</td>\n",
       "      <td>공범 EP1</td>\n",
       "    </tr>\n",
       "    <tr>\n",
       "      <th>1</th>\n",
       "      <td>c5JQp6xafqc</td>\n",
       "      <td>1669089</td>\n",
       "      <td>30495</td>\n",
       "      <td>707</td>\n",
       "      <td>0</td>\n",
       "      <td>6589</td>\n",
       "      <td>2021-10-10 15:30:03</td>\n",
       "      <td>공범 EP1</td>\n",
       "    </tr>\n",
       "    <tr>\n",
       "      <th>2</th>\n",
       "      <td>c5JQp6xafqc</td>\n",
       "      <td>1674759</td>\n",
       "      <td>30522</td>\n",
       "      <td>711</td>\n",
       "      <td>0</td>\n",
       "      <td>6596</td>\n",
       "      <td>2021-10-10 15:40:02</td>\n",
       "      <td>공범 EP1</td>\n",
       "    </tr>\n",
       "    <tr>\n",
       "      <th>3</th>\n",
       "      <td>c5JQp6xafqc</td>\n",
       "      <td>1677026</td>\n",
       "      <td>30555</td>\n",
       "      <td>712</td>\n",
       "      <td>0</td>\n",
       "      <td>6604</td>\n",
       "      <td>2021-10-10 15:50:03</td>\n",
       "      <td>공범 EP1</td>\n",
       "    </tr>\n",
       "    <tr>\n",
       "      <th>4</th>\n",
       "      <td>c5JQp6xafqc</td>\n",
       "      <td>1681824</td>\n",
       "      <td>30585</td>\n",
       "      <td>713</td>\n",
       "      <td>0</td>\n",
       "      <td>6600</td>\n",
       "      <td>2021-10-10 16:00:03</td>\n",
       "      <td>공범 EP1</td>\n",
       "    </tr>\n",
       "  </tbody>\n",
       "</table>\n",
       "</div>"
      ],
      "text/plain": [
       "       videopk  viewcnt  likecnt  dislikecnt  favoritecnt  cmcnt  \\\n",
       "0  c5JQp6xafqc  1667010    30474         706            0   6587   \n",
       "1  c5JQp6xafqc  1669089    30495         707            0   6589   \n",
       "2  c5JQp6xafqc  1674759    30522         711            0   6596   \n",
       "3  c5JQp6xafqc  1677026    30555         712            0   6604   \n",
       "4  c5JQp6xafqc  1681824    30585         713            0   6600   \n",
       "\n",
       "                    ct videoname  \n",
       "0  2021-10-10 15:20:03    공범 EP1  \n",
       "1  2021-10-10 15:30:03    공범 EP1  \n",
       "2  2021-10-10 15:40:02    공범 EP1  \n",
       "3  2021-10-10 15:50:03    공범 EP1  \n",
       "4  2021-10-10 16:00:03    공범 EP1  "
      ]
     },
     "metadata": {},
     "output_type": "display_data"
    }
   ],
   "source": [
    "channel = pd.read_csv('https://raw.githubusercontent.com/Datamanim/datarepo/main/youtube/channelInfo.csv')\n",
    "video = pd.read_csv('https://raw.githubusercontent.com/Datamanim/datarepo/main/youtube/videoInfo.csv')\n",
    "\n",
    "display(channel.head())\n",
    "display(video.head())"
   ]
  },
  {
   "cell_type": "markdown",
   "id": "4c171ebb",
   "metadata": {},
   "source": [
    "**Question 11. 각 데이터의 ‘ct’컬럼을 시간으로 인식할수 있게 datatype을 변경하고 video 데이터의 videoname의 각 value 마다 몇 개의 데이터씩 가지고 있는지 확인하라**"
   ]
  },
  {
   "cell_type": "code",
   "execution_count": 29,
   "id": "50d5628d",
   "metadata": {},
   "outputs": [],
   "source": [
    "channel['ct'] = pd.to_datetime(channel['ct'])\n",
    "video['ct'] = pd.to_datetime(video['ct'])"
   ]
  },
  {
   "cell_type": "code",
   "execution_count": 30,
   "id": "1ee4c862",
   "metadata": {},
   "outputs": [
    {
     "data": {
      "text/plain": [
       " 공범 EP1    3492\n",
       " 공범 EP2    3204\n",
       " 공범 EP3    2568\n",
       " 공범 EP4    2280\n",
       " 공범 EP5    1562\n",
       " 공범 EP6    1274\n",
       " 공범 EP7     555\n",
       " 공범 EP8     266\n",
       "Name: videoname, dtype: int64"
      ]
     },
     "execution_count": 30,
     "metadata": {},
     "output_type": "execute_result"
    }
   ],
   "source": [
    "video['videoname'].value_counts()"
   ]
  },
  {
   "cell_type": "markdown",
   "id": "84a9018b",
   "metadata": {},
   "source": [
    "**Question 12. 수집된 각 video의 가장 최신화 된 날짜의 viewcount값을 출력하라**"
   ]
  },
  {
   "cell_type": "code",
   "execution_count": 31,
   "id": "0a382e33",
   "metadata": {},
   "outputs": [
    {
     "data": {
      "text/html": [
       "<div>\n",
       "<style scoped>\n",
       "    .dataframe tbody tr th:only-of-type {\n",
       "        vertical-align: middle;\n",
       "    }\n",
       "\n",
       "    .dataframe tbody tr th {\n",
       "        vertical-align: top;\n",
       "    }\n",
       "\n",
       "    .dataframe thead th {\n",
       "        text-align: right;\n",
       "    }\n",
       "</style>\n",
       "<table border=\"1\" class=\"dataframe\">\n",
       "  <thead>\n",
       "    <tr style=\"text-align: right;\">\n",
       "      <th></th>\n",
       "      <th>viewcnt</th>\n",
       "      <th>videoname</th>\n",
       "      <th>ct</th>\n",
       "    </tr>\n",
       "  </thead>\n",
       "  <tbody>\n",
       "    <tr>\n",
       "      <th>0</th>\n",
       "      <td>3180532</td>\n",
       "      <td>공범 EP1</td>\n",
       "      <td>2021-11-01 15:30:03</td>\n",
       "    </tr>\n",
       "    <tr>\n",
       "      <th>1</th>\n",
       "      <td>2199328</td>\n",
       "      <td>공범 EP2</td>\n",
       "      <td>2021-11-01 15:30:03</td>\n",
       "    </tr>\n",
       "    <tr>\n",
       "      <th>2</th>\n",
       "      <td>1671294</td>\n",
       "      <td>공범 EP3</td>\n",
       "      <td>2021-11-01 15:30:03</td>\n",
       "    </tr>\n",
       "    <tr>\n",
       "      <th>3</th>\n",
       "      <td>1818493</td>\n",
       "      <td>공범 EP4</td>\n",
       "      <td>2021-11-01 15:30:03</td>\n",
       "    </tr>\n",
       "    <tr>\n",
       "      <th>4</th>\n",
       "      <td>1503435</td>\n",
       "      <td>공범 EP5</td>\n",
       "      <td>2021-11-01 15:30:04</td>\n",
       "    </tr>\n",
       "    <tr>\n",
       "      <th>5</th>\n",
       "      <td>1750222</td>\n",
       "      <td>공범 EP6</td>\n",
       "      <td>2021-11-01 15:30:04</td>\n",
       "    </tr>\n",
       "    <tr>\n",
       "      <th>6</th>\n",
       "      <td>1630200</td>\n",
       "      <td>공범 EP7</td>\n",
       "      <td>2021-11-01 15:30:05</td>\n",
       "    </tr>\n",
       "    <tr>\n",
       "      <th>7</th>\n",
       "      <td>1289088</td>\n",
       "      <td>공범 EP8</td>\n",
       "      <td>2021-11-01 15:30:05</td>\n",
       "    </tr>\n",
       "  </tbody>\n",
       "</table>\n",
       "</div>"
      ],
      "text/plain": [
       "   viewcnt videoname                  ct\n",
       "0  3180532    공범 EP1 2021-11-01 15:30:03\n",
       "1  2199328    공범 EP2 2021-11-01 15:30:03\n",
       "2  1671294    공범 EP3 2021-11-01 15:30:03\n",
       "3  1818493    공범 EP4 2021-11-01 15:30:03\n",
       "4  1503435    공범 EP5 2021-11-01 15:30:04\n",
       "5  1750222    공범 EP6 2021-11-01 15:30:04\n",
       "6  1630200    공범 EP7 2021-11-01 15:30:05\n",
       "7  1289088    공범 EP8 2021-11-01 15:30:05"
      ]
     },
     "execution_count": 31,
     "metadata": {},
     "output_type": "execute_result"
    }
   ],
   "source": [
    "video.sort_values(['videoname', 'ct']).drop_duplicates('videoname', keep='last')[['viewcnt', 'videoname', 'ct']].reset_index(drop=True)"
   ]
  },
  {
   "cell_type": "code",
   "execution_count": 32,
   "id": "92346a4b",
   "metadata": {},
   "outputs": [
    {
     "data": {
      "text/html": [
       "<div>\n",
       "<style scoped>\n",
       "    .dataframe tbody tr th:only-of-type {\n",
       "        vertical-align: middle;\n",
       "    }\n",
       "\n",
       "    .dataframe tbody tr th {\n",
       "        vertical-align: top;\n",
       "    }\n",
       "\n",
       "    .dataframe thead th {\n",
       "        text-align: right;\n",
       "    }\n",
       "</style>\n",
       "<table border=\"1\" class=\"dataframe\">\n",
       "  <thead>\n",
       "    <tr style=\"text-align: right;\">\n",
       "      <th></th>\n",
       "      <th>videopk</th>\n",
       "      <th>viewcnt</th>\n",
       "      <th>likecnt</th>\n",
       "      <th>dislikecnt</th>\n",
       "      <th>favoritecnt</th>\n",
       "      <th>cmcnt</th>\n",
       "      <th>ct</th>\n",
       "      <th>videoname</th>\n",
       "    </tr>\n",
       "  </thead>\n",
       "  <tbody>\n",
       "    <tr>\n",
       "      <th>10</th>\n",
       "      <td>c5JQp6xafqc</td>\n",
       "      <td>6396</td>\n",
       "      <td>680</td>\n",
       "      <td>3</td>\n",
       "      <td>0</td>\n",
       "      <td>226</td>\n",
       "      <td>2021-10-07 19:10:03</td>\n",
       "      <td>공범 EP1</td>\n",
       "    </tr>\n",
       "    <tr>\n",
       "      <th>11</th>\n",
       "      <td>c5JQp6xafqc</td>\n",
       "      <td>13087</td>\n",
       "      <td>1113</td>\n",
       "      <td>7</td>\n",
       "      <td>0</td>\n",
       "      <td>273</td>\n",
       "      <td>2021-10-07 19:20:02</td>\n",
       "      <td>공범 EP1</td>\n",
       "    </tr>\n",
       "    <tr>\n",
       "      <th>12</th>\n",
       "      <td>c5JQp6xafqc</td>\n",
       "      <td>19991</td>\n",
       "      <td>1446</td>\n",
       "      <td>12</td>\n",
       "      <td>0</td>\n",
       "      <td>363</td>\n",
       "      <td>2021-10-07 19:30:03</td>\n",
       "      <td>공범 EP1</td>\n",
       "    </tr>\n",
       "    <tr>\n",
       "      <th>13</th>\n",
       "      <td>c5JQp6xafqc</td>\n",
       "      <td>27451</td>\n",
       "      <td>1859</td>\n",
       "      <td>19</td>\n",
       "      <td>0</td>\n",
       "      <td>479</td>\n",
       "      <td>2021-10-07 19:40:03</td>\n",
       "      <td>공범 EP1</td>\n",
       "    </tr>\n",
       "    <tr>\n",
       "      <th>14</th>\n",
       "      <td>c5JQp6xafqc</td>\n",
       "      <td>36559</td>\n",
       "      <td>2306</td>\n",
       "      <td>23</td>\n",
       "      <td>0</td>\n",
       "      <td>602</td>\n",
       "      <td>2021-10-07 19:50:03</td>\n",
       "      <td>공범 EP1</td>\n",
       "    </tr>\n",
       "    <tr>\n",
       "      <th>...</th>\n",
       "      <td>...</td>\n",
       "      <td>...</td>\n",
       "      <td>...</td>\n",
       "      <td>...</td>\n",
       "      <td>...</td>\n",
       "      <td>...</td>\n",
       "      <td>...</td>\n",
       "      <td>...</td>\n",
       "    </tr>\n",
       "    <tr>\n",
       "      <th>15196</th>\n",
       "      <td>yZt-h-KcmUE</td>\n",
       "      <td>1285474</td>\n",
       "      <td>25582</td>\n",
       "      <td>3615</td>\n",
       "      <td>0</td>\n",
       "      <td>31603</td>\n",
       "      <td>2021-11-01 14:50:06</td>\n",
       "      <td>공범 EP8</td>\n",
       "    </tr>\n",
       "    <tr>\n",
       "      <th>15197</th>\n",
       "      <td>yZt-h-KcmUE</td>\n",
       "      <td>1286376</td>\n",
       "      <td>25592</td>\n",
       "      <td>3617</td>\n",
       "      <td>0</td>\n",
       "      <td>31627</td>\n",
       "      <td>2021-11-01 15:00:05</td>\n",
       "      <td>공범 EP8</td>\n",
       "    </tr>\n",
       "    <tr>\n",
       "      <th>15198</th>\n",
       "      <td>yZt-h-KcmUE</td>\n",
       "      <td>1287172</td>\n",
       "      <td>25597</td>\n",
       "      <td>3619</td>\n",
       "      <td>0</td>\n",
       "      <td>31643</td>\n",
       "      <td>2021-11-01 15:10:05</td>\n",
       "      <td>공범 EP8</td>\n",
       "    </tr>\n",
       "    <tr>\n",
       "      <th>15199</th>\n",
       "      <td>yZt-h-KcmUE</td>\n",
       "      <td>1288138</td>\n",
       "      <td>25606</td>\n",
       "      <td>3619</td>\n",
       "      <td>0</td>\n",
       "      <td>31648</td>\n",
       "      <td>2021-11-01 15:20:04</td>\n",
       "      <td>공범 EP8</td>\n",
       "    </tr>\n",
       "    <tr>\n",
       "      <th>15200</th>\n",
       "      <td>yZt-h-KcmUE</td>\n",
       "      <td>1289088</td>\n",
       "      <td>25616</td>\n",
       "      <td>3621</td>\n",
       "      <td>0</td>\n",
       "      <td>31663</td>\n",
       "      <td>2021-11-01 15:30:05</td>\n",
       "      <td>공범 EP8</td>\n",
       "    </tr>\n",
       "  </tbody>\n",
       "</table>\n",
       "<p>15201 rows × 8 columns</p>\n",
       "</div>"
      ],
      "text/plain": [
       "           videopk  viewcnt  likecnt  dislikecnt  favoritecnt  cmcnt  \\\n",
       "10     c5JQp6xafqc     6396      680           3            0    226   \n",
       "11     c5JQp6xafqc    13087     1113           7            0    273   \n",
       "12     c5JQp6xafqc    19991     1446          12            0    363   \n",
       "13     c5JQp6xafqc    27451     1859          19            0    479   \n",
       "14     c5JQp6xafqc    36559     2306          23            0    602   \n",
       "...            ...      ...      ...         ...          ...    ...   \n",
       "15196  yZt-h-KcmUE  1285474    25582        3615            0  31603   \n",
       "15197  yZt-h-KcmUE  1286376    25592        3617            0  31627   \n",
       "15198  yZt-h-KcmUE  1287172    25597        3619            0  31643   \n",
       "15199  yZt-h-KcmUE  1288138    25606        3619            0  31648   \n",
       "15200  yZt-h-KcmUE  1289088    25616        3621            0  31663   \n",
       "\n",
       "                       ct videoname  \n",
       "10    2021-10-07 19:10:03    공범 EP1  \n",
       "11    2021-10-07 19:20:02    공범 EP1  \n",
       "12    2021-10-07 19:30:03    공범 EP1  \n",
       "13    2021-10-07 19:40:03    공범 EP1  \n",
       "14    2021-10-07 19:50:03    공범 EP1  \n",
       "...                   ...       ...  \n",
       "15196 2021-11-01 14:50:06    공범 EP8  \n",
       "15197 2021-11-01 15:00:05    공범 EP8  \n",
       "15198 2021-11-01 15:10:05    공범 EP8  \n",
       "15199 2021-11-01 15:20:04    공범 EP8  \n",
       "15200 2021-11-01 15:30:05    공범 EP8  \n",
       "\n",
       "[15201 rows x 8 columns]"
      ]
     },
     "execution_count": 32,
     "metadata": {},
     "output_type": "execute_result"
    }
   ],
   "source": [
    "video.sort_values(['videoname', 'ct'])"
   ]
  },
  {
   "cell_type": "code",
   "execution_count": 33,
   "id": "90c89a34",
   "metadata": {},
   "outputs": [
    {
     "data": {
      "text/html": [
       "<div>\n",
       "<style scoped>\n",
       "    .dataframe tbody tr th:only-of-type {\n",
       "        vertical-align: middle;\n",
       "    }\n",
       "\n",
       "    .dataframe tbody tr th {\n",
       "        vertical-align: top;\n",
       "    }\n",
       "\n",
       "    .dataframe thead th {\n",
       "        text-align: right;\n",
       "    }\n",
       "</style>\n",
       "<table border=\"1\" class=\"dataframe\">\n",
       "  <thead>\n",
       "    <tr style=\"text-align: right;\">\n",
       "      <th></th>\n",
       "      <th>videopk</th>\n",
       "      <th>viewcnt</th>\n",
       "      <th>likecnt</th>\n",
       "      <th>dislikecnt</th>\n",
       "      <th>favoritecnt</th>\n",
       "      <th>cmcnt</th>\n",
       "      <th>ct</th>\n",
       "      <th>videoname</th>\n",
       "    </tr>\n",
       "  </thead>\n",
       "  <tbody>\n",
       "    <tr>\n",
       "      <th>3491</th>\n",
       "      <td>c5JQp6xafqc</td>\n",
       "      <td>3180532</td>\n",
       "      <td>41043</td>\n",
       "      <td>1113</td>\n",
       "      <td>0</td>\n",
       "      <td>7674</td>\n",
       "      <td>2021-11-01 15:30:03</td>\n",
       "      <td>공범 EP1</td>\n",
       "    </tr>\n",
       "    <tr>\n",
       "      <th>6695</th>\n",
       "      <td>23QQ1ru9YQg</td>\n",
       "      <td>2199328</td>\n",
       "      <td>25566</td>\n",
       "      <td>763</td>\n",
       "      <td>0</td>\n",
       "      <td>9171</td>\n",
       "      <td>2021-11-01 15:30:03</td>\n",
       "      <td>공범 EP2</td>\n",
       "    </tr>\n",
       "    <tr>\n",
       "      <th>9263</th>\n",
       "      <td>GygoAk1hDU0</td>\n",
       "      <td>1671294</td>\n",
       "      <td>22719</td>\n",
       "      <td>508</td>\n",
       "      <td>0</td>\n",
       "      <td>12499</td>\n",
       "      <td>2021-11-01 15:30:03</td>\n",
       "      <td>공범 EP3</td>\n",
       "    </tr>\n",
       "    <tr>\n",
       "      <th>11543</th>\n",
       "      <td>bK0_3Vbfvs8</td>\n",
       "      <td>1818493</td>\n",
       "      <td>22703</td>\n",
       "      <td>408</td>\n",
       "      <td>0</td>\n",
       "      <td>16949</td>\n",
       "      <td>2021-11-01 15:30:03</td>\n",
       "      <td>공범 EP4</td>\n",
       "    </tr>\n",
       "    <tr>\n",
       "      <th>13105</th>\n",
       "      <td>hv7FBjskAu0</td>\n",
       "      <td>1503435</td>\n",
       "      <td>19926</td>\n",
       "      <td>421</td>\n",
       "      <td>0</td>\n",
       "      <td>12434</td>\n",
       "      <td>2021-11-01 15:30:04</td>\n",
       "      <td>공범 EP5</td>\n",
       "    </tr>\n",
       "    <tr>\n",
       "      <th>14934</th>\n",
       "      <td>AxGKHmXyuAE</td>\n",
       "      <td>1750222</td>\n",
       "      <td>24494</td>\n",
       "      <td>389</td>\n",
       "      <td>0</td>\n",
       "      <td>13025</td>\n",
       "      <td>2021-11-01 15:30:04</td>\n",
       "      <td>공범 EP6</td>\n",
       "    </tr>\n",
       "    <tr>\n",
       "      <th>13660</th>\n",
       "      <td>QUjQbgj5IXM</td>\n",
       "      <td>1630200</td>\n",
       "      <td>29335</td>\n",
       "      <td>400</td>\n",
       "      <td>0</td>\n",
       "      <td>18247</td>\n",
       "      <td>2021-11-01 15:30:05</td>\n",
       "      <td>공범 EP7</td>\n",
       "    </tr>\n",
       "    <tr>\n",
       "      <th>15200</th>\n",
       "      <td>yZt-h-KcmUE</td>\n",
       "      <td>1289088</td>\n",
       "      <td>25616</td>\n",
       "      <td>3621</td>\n",
       "      <td>0</td>\n",
       "      <td>31663</td>\n",
       "      <td>2021-11-01 15:30:05</td>\n",
       "      <td>공범 EP8</td>\n",
       "    </tr>\n",
       "  </tbody>\n",
       "</table>\n",
       "</div>"
      ],
      "text/plain": [
       "           videopk  viewcnt  likecnt  dislikecnt  favoritecnt  cmcnt  \\\n",
       "3491   c5JQp6xafqc  3180532    41043        1113            0   7674   \n",
       "6695   23QQ1ru9YQg  2199328    25566         763            0   9171   \n",
       "9263   GygoAk1hDU0  1671294    22719         508            0  12499   \n",
       "11543  bK0_3Vbfvs8  1818493    22703         408            0  16949   \n",
       "13105  hv7FBjskAu0  1503435    19926         421            0  12434   \n",
       "14934  AxGKHmXyuAE  1750222    24494         389            0  13025   \n",
       "13660  QUjQbgj5IXM  1630200    29335         400            0  18247   \n",
       "15200  yZt-h-KcmUE  1289088    25616        3621            0  31663   \n",
       "\n",
       "                       ct videoname  \n",
       "3491  2021-11-01 15:30:03    공범 EP1  \n",
       "6695  2021-11-01 15:30:03    공범 EP2  \n",
       "9263  2021-11-01 15:30:03    공범 EP3  \n",
       "11543 2021-11-01 15:30:03    공범 EP4  \n",
       "13105 2021-11-01 15:30:04    공범 EP5  \n",
       "14934 2021-11-01 15:30:04    공범 EP6  \n",
       "13660 2021-11-01 15:30:05    공범 EP7  \n",
       "15200 2021-11-01 15:30:05    공범 EP8  "
      ]
     },
     "execution_count": 33,
     "metadata": {},
     "output_type": "execute_result"
    }
   ],
   "source": [
    "video.sort_values(['videoname', 'ct']).drop_duplicates('videoname', keep='last')"
   ]
  },
  {
   "cell_type": "code",
   "execution_count": 34,
   "id": "04046e2e",
   "metadata": {},
   "outputs": [
    {
     "data": {
      "text/html": [
       "<div>\n",
       "<style scoped>\n",
       "    .dataframe tbody tr th:only-of-type {\n",
       "        vertical-align: middle;\n",
       "    }\n",
       "\n",
       "    .dataframe tbody tr th {\n",
       "        vertical-align: top;\n",
       "    }\n",
       "\n",
       "    .dataframe thead th {\n",
       "        text-align: right;\n",
       "    }\n",
       "</style>\n",
       "<table border=\"1\" class=\"dataframe\">\n",
       "  <thead>\n",
       "    <tr style=\"text-align: right;\">\n",
       "      <th></th>\n",
       "      <th>viewcnt</th>\n",
       "      <th>videoname</th>\n",
       "      <th>ct</th>\n",
       "    </tr>\n",
       "  </thead>\n",
       "  <tbody>\n",
       "    <tr>\n",
       "      <th>3491</th>\n",
       "      <td>3180532</td>\n",
       "      <td>공범 EP1</td>\n",
       "      <td>2021-11-01 15:30:03</td>\n",
       "    </tr>\n",
       "    <tr>\n",
       "      <th>6695</th>\n",
       "      <td>2199328</td>\n",
       "      <td>공범 EP2</td>\n",
       "      <td>2021-11-01 15:30:03</td>\n",
       "    </tr>\n",
       "    <tr>\n",
       "      <th>9263</th>\n",
       "      <td>1671294</td>\n",
       "      <td>공범 EP3</td>\n",
       "      <td>2021-11-01 15:30:03</td>\n",
       "    </tr>\n",
       "    <tr>\n",
       "      <th>11543</th>\n",
       "      <td>1818493</td>\n",
       "      <td>공범 EP4</td>\n",
       "      <td>2021-11-01 15:30:03</td>\n",
       "    </tr>\n",
       "    <tr>\n",
       "      <th>13105</th>\n",
       "      <td>1503435</td>\n",
       "      <td>공범 EP5</td>\n",
       "      <td>2021-11-01 15:30:04</td>\n",
       "    </tr>\n",
       "    <tr>\n",
       "      <th>14934</th>\n",
       "      <td>1750222</td>\n",
       "      <td>공범 EP6</td>\n",
       "      <td>2021-11-01 15:30:04</td>\n",
       "    </tr>\n",
       "    <tr>\n",
       "      <th>13660</th>\n",
       "      <td>1630200</td>\n",
       "      <td>공범 EP7</td>\n",
       "      <td>2021-11-01 15:30:05</td>\n",
       "    </tr>\n",
       "    <tr>\n",
       "      <th>15200</th>\n",
       "      <td>1289088</td>\n",
       "      <td>공범 EP8</td>\n",
       "      <td>2021-11-01 15:30:05</td>\n",
       "    </tr>\n",
       "  </tbody>\n",
       "</table>\n",
       "</div>"
      ],
      "text/plain": [
       "       viewcnt videoname                  ct\n",
       "3491   3180532    공범 EP1 2021-11-01 15:30:03\n",
       "6695   2199328    공범 EP2 2021-11-01 15:30:03\n",
       "9263   1671294    공범 EP3 2021-11-01 15:30:03\n",
       "11543  1818493    공범 EP4 2021-11-01 15:30:03\n",
       "13105  1503435    공범 EP5 2021-11-01 15:30:04\n",
       "14934  1750222    공범 EP6 2021-11-01 15:30:04\n",
       "13660  1630200    공범 EP7 2021-11-01 15:30:05\n",
       "15200  1289088    공범 EP8 2021-11-01 15:30:05"
      ]
     },
     "execution_count": 34,
     "metadata": {},
     "output_type": "execute_result"
    }
   ],
   "source": [
    "video.sort_values(['videoname', 'ct']).drop_duplicates('videoname', keep='last')[['viewcnt', 'videoname', 'ct']]"
   ]
  },
  {
   "cell_type": "code",
   "execution_count": 35,
   "id": "aa6f6fcb",
   "metadata": {},
   "outputs": [
    {
     "data": {
      "text/html": [
       "<div>\n",
       "<style scoped>\n",
       "    .dataframe tbody tr th:only-of-type {\n",
       "        vertical-align: middle;\n",
       "    }\n",
       "\n",
       "    .dataframe tbody tr th {\n",
       "        vertical-align: top;\n",
       "    }\n",
       "\n",
       "    .dataframe thead th {\n",
       "        text-align: right;\n",
       "    }\n",
       "</style>\n",
       "<table border=\"1\" class=\"dataframe\">\n",
       "  <thead>\n",
       "    <tr style=\"text-align: right;\">\n",
       "      <th></th>\n",
       "      <th>viewcnt</th>\n",
       "      <th>videoname</th>\n",
       "      <th>ct</th>\n",
       "    </tr>\n",
       "  </thead>\n",
       "  <tbody>\n",
       "    <tr>\n",
       "      <th>0</th>\n",
       "      <td>3180532</td>\n",
       "      <td>공범 EP1</td>\n",
       "      <td>2021-11-01 15:30:03</td>\n",
       "    </tr>\n",
       "    <tr>\n",
       "      <th>1</th>\n",
       "      <td>2199328</td>\n",
       "      <td>공범 EP2</td>\n",
       "      <td>2021-11-01 15:30:03</td>\n",
       "    </tr>\n",
       "    <tr>\n",
       "      <th>2</th>\n",
       "      <td>1671294</td>\n",
       "      <td>공범 EP3</td>\n",
       "      <td>2021-11-01 15:30:03</td>\n",
       "    </tr>\n",
       "    <tr>\n",
       "      <th>3</th>\n",
       "      <td>1818493</td>\n",
       "      <td>공범 EP4</td>\n",
       "      <td>2021-11-01 15:30:03</td>\n",
       "    </tr>\n",
       "    <tr>\n",
       "      <th>4</th>\n",
       "      <td>1503435</td>\n",
       "      <td>공범 EP5</td>\n",
       "      <td>2021-11-01 15:30:04</td>\n",
       "    </tr>\n",
       "    <tr>\n",
       "      <th>5</th>\n",
       "      <td>1750222</td>\n",
       "      <td>공범 EP6</td>\n",
       "      <td>2021-11-01 15:30:04</td>\n",
       "    </tr>\n",
       "    <tr>\n",
       "      <th>6</th>\n",
       "      <td>1630200</td>\n",
       "      <td>공범 EP7</td>\n",
       "      <td>2021-11-01 15:30:05</td>\n",
       "    </tr>\n",
       "    <tr>\n",
       "      <th>7</th>\n",
       "      <td>1289088</td>\n",
       "      <td>공범 EP8</td>\n",
       "      <td>2021-11-01 15:30:05</td>\n",
       "    </tr>\n",
       "  </tbody>\n",
       "</table>\n",
       "</div>"
      ],
      "text/plain": [
       "   viewcnt videoname                  ct\n",
       "0  3180532    공범 EP1 2021-11-01 15:30:03\n",
       "1  2199328    공범 EP2 2021-11-01 15:30:03\n",
       "2  1671294    공범 EP3 2021-11-01 15:30:03\n",
       "3  1818493    공범 EP4 2021-11-01 15:30:03\n",
       "4  1503435    공범 EP5 2021-11-01 15:30:04\n",
       "5  1750222    공범 EP6 2021-11-01 15:30:04\n",
       "6  1630200    공범 EP7 2021-11-01 15:30:05\n",
       "7  1289088    공범 EP8 2021-11-01 15:30:05"
      ]
     },
     "execution_count": 35,
     "metadata": {},
     "output_type": "execute_result"
    }
   ],
   "source": [
    "video.sort_values(['videoname', 'ct']).drop_duplicates('videoname', keep='last')[['viewcnt', 'videoname', 'ct']].reset_index(drop=True)"
   ]
  },
  {
   "cell_type": "markdown",
   "id": "4d0cdc5a",
   "metadata": {},
   "source": [
    "**Question 13. Channel 데이터중 2021-10-03일 이후 각 채널의 처음 기록 됐던 구독자 수(subcnt)를 출력하라**"
   ]
  },
  {
   "cell_type": "code",
   "execution_count": 36,
   "id": "fbab1419",
   "metadata": {},
   "outputs": [
    {
     "data": {
      "text/html": [
       "<div>\n",
       "<style scoped>\n",
       "    .dataframe tbody tr th:only-of-type {\n",
       "        vertical-align: middle;\n",
       "    }\n",
       "\n",
       "    .dataframe tbody tr th {\n",
       "        vertical-align: top;\n",
       "    }\n",
       "\n",
       "    .dataframe thead th {\n",
       "        text-align: right;\n",
       "    }\n",
       "</style>\n",
       "<table border=\"1\" class=\"dataframe\">\n",
       "  <thead>\n",
       "    <tr style=\"text-align: right;\">\n",
       "      <th></th>\n",
       "      <th>channelname</th>\n",
       "      <th>subcnt</th>\n",
       "    </tr>\n",
       "  </thead>\n",
       "  <tbody>\n",
       "    <tr>\n",
       "      <th>0</th>\n",
       "      <td>논리왕 전기</td>\n",
       "      <td>922000</td>\n",
       "    </tr>\n",
       "    <tr>\n",
       "      <th>1</th>\n",
       "      <td>야전삽짱재</td>\n",
       "      <td>257000</td>\n",
       "    </tr>\n",
       "    <tr>\n",
       "      <th>2</th>\n",
       "      <td>츄정ChuJeong</td>\n",
       "      <td>322000</td>\n",
       "    </tr>\n",
       "    <tr>\n",
       "      <th>3</th>\n",
       "      <td>김농밀의 농밀한 삶</td>\n",
       "      <td>7520</td>\n",
       "    </tr>\n",
       "    <tr>\n",
       "      <th>4</th>\n",
       "      <td>릴펄 Lilpearl</td>\n",
       "      <td>10100</td>\n",
       "    </tr>\n",
       "    <tr>\n",
       "      <th>5</th>\n",
       "      <td>와글와글 WagleWagle</td>\n",
       "      <td>55000</td>\n",
       "    </tr>\n",
       "    <tr>\n",
       "      <th>6</th>\n",
       "      <td>조나단</td>\n",
       "      <td>215000</td>\n",
       "    </tr>\n",
       "    <tr>\n",
       "      <th>7</th>\n",
       "      <td>형사!탐정되다</td>\n",
       "      <td>14900</td>\n",
       "    </tr>\n",
       "    <tr>\n",
       "      <th>8</th>\n",
       "      <td>Balming Tiger</td>\n",
       "      <td>54300</td>\n",
       "    </tr>\n",
       "    <tr>\n",
       "      <th>9</th>\n",
       "      <td>곽토리 kwak tori</td>\n",
       "      <td>471000</td>\n",
       "    </tr>\n",
       "    <tr>\n",
       "      <th>10</th>\n",
       "      <td>꽈뚜룹</td>\n",
       "      <td>1330000</td>\n",
       "    </tr>\n",
       "  </tbody>\n",
       "</table>\n",
       "</div>"
      ],
      "text/plain": [
       "        channelname   subcnt\n",
       "0            논리왕 전기   922000\n",
       "1             야전삽짱재   257000\n",
       "2        츄정ChuJeong   322000\n",
       "3        김농밀의 농밀한 삶     7520\n",
       "4       릴펄 Lilpearl    10100\n",
       "5   와글와글 WagleWagle    55000\n",
       "6               조나단   215000\n",
       "7           형사!탐정되다    14900\n",
       "8     Balming Tiger    54300\n",
       "9     곽토리 kwak tori   471000\n",
       "10              꽈뚜룹  1330000"
      ]
     },
     "execution_count": 36,
     "metadata": {},
     "output_type": "execute_result"
    }
   ],
   "source": [
    "channel[channel['ct']>'2021-10-03'].sort_values(['ct', 'channelname']).drop_duplicates('channelname')[['channelname', 'subcnt']].reset_index(drop=True)"
   ]
  },
  {
   "cell_type": "markdown",
   "id": "192df82a",
   "metadata": {},
   "source": [
    "**Question 14. 각 채널의 2021-10-03 03:00:00 ~ 2021-11-01 15:00:00 까지 구독자수 (subcnt) 의 증가량을 구하여라**"
   ]
  },
  {
   "cell_type": "code",
   "execution_count": 37,
   "id": "641f4792",
   "metadata": {},
   "outputs": [
    {
     "data": {
      "text/html": [
       "<div>\n",
       "<style scoped>\n",
       "    .dataframe tbody tr th:only-of-type {\n",
       "        vertical-align: middle;\n",
       "    }\n",
       "\n",
       "    .dataframe tbody tr th {\n",
       "        vertical-align: top;\n",
       "    }\n",
       "\n",
       "    .dataframe thead th {\n",
       "        text-align: right;\n",
       "    }\n",
       "</style>\n",
       "<table border=\"1\" class=\"dataframe\">\n",
       "  <thead>\n",
       "    <tr style=\"text-align: right;\">\n",
       "      <th></th>\n",
       "      <th>title</th>\n",
       "      <th>channelTitle</th>\n",
       "      <th>categoryId</th>\n",
       "      <th>view_count</th>\n",
       "      <th>likes</th>\n",
       "      <th>dislikes</th>\n",
       "      <th>comment_count</th>\n",
       "      <th>channelId</th>\n",
       "      <th>trending_date2</th>\n",
       "    </tr>\n",
       "  </thead>\n",
       "  <tbody>\n",
       "    <tr>\n",
       "      <th>0</th>\n",
       "      <td>[신병] 물자창고</td>\n",
       "      <td>장삐쭈</td>\n",
       "      <td>23</td>\n",
       "      <td>1893473</td>\n",
       "      <td>38249</td>\n",
       "      <td>730</td>\n",
       "      <td>8595</td>\n",
       "      <td>UChbE5OZQ6dRHECsX0tEPEZQ</td>\n",
       "      <td>2021-01-01</td>\n",
       "    </tr>\n",
       "    <tr>\n",
       "      <th>1</th>\n",
       "      <td>RAIN(비) - 나로 바꾸자 Switch to me (duet with JYP) MV</td>\n",
       "      <td>RAIN's Official Channel</td>\n",
       "      <td>10</td>\n",
       "      <td>2600864</td>\n",
       "      <td>0</td>\n",
       "      <td>0</td>\n",
       "      <td>20129</td>\n",
       "      <td>UCxXgIeE5hxWxHG6dz9Scg2w</td>\n",
       "      <td>2021-01-01</td>\n",
       "    </tr>\n",
       "    <tr>\n",
       "      <th>2</th>\n",
       "      <td>2020년 제야의 종 온라인 타종행사 | 보신각 현장 행사는 진행하지 않습니다.</td>\n",
       "      <td>서울시 · Seoul</td>\n",
       "      <td>29</td>\n",
       "      <td>347049</td>\n",
       "      <td>3564</td>\n",
       "      <td>120</td>\n",
       "      <td>178</td>\n",
       "      <td>UCZUPZW5idAxYp-Asj__lVAA</td>\n",
       "      <td>2021-01-01</td>\n",
       "    </tr>\n",
       "    <tr>\n",
       "      <th>3</th>\n",
       "      <td>고기남자의 칠면조 파티</td>\n",
       "      <td>고기남자 MeatMan</td>\n",
       "      <td>26</td>\n",
       "      <td>528458</td>\n",
       "      <td>15372</td>\n",
       "      <td>280</td>\n",
       "      <td>3470</td>\n",
       "      <td>UCT3CumbFIJiW33uq0UI3zlg</td>\n",
       "      <td>2021-01-01</td>\n",
       "    </tr>\n",
       "    <tr>\n",
       "      <th>4</th>\n",
       "      <td>골목 3mc를 분노하게 만든 마음고생이 심했을 공릉 백반집 사장님의 푸념?! [예능...</td>\n",
       "      <td>스브스밥집</td>\n",
       "      <td>24</td>\n",
       "      <td>494904</td>\n",
       "      <td>3918</td>\n",
       "      <td>111</td>\n",
       "      <td>3142</td>\n",
       "      <td>UCdWgRSfttvDucq4ApcCg5Mw</td>\n",
       "      <td>2021-01-01</td>\n",
       "    </tr>\n",
       "  </tbody>\n",
       "</table>\n",
       "</div>"
      ],
      "text/plain": [
       "                                               title             channelTitle  \\\n",
       "0                                          [신병] 물자창고                      장삐쭈   \n",
       "1   RAIN(비) - 나로 바꾸자 Switch to me (duet with JYP) MV  RAIN's Official Channel   \n",
       "2       2020년 제야의 종 온라인 타종행사 | 보신각 현장 행사는 진행하지 않습니다.              서울시 · Seoul   \n",
       "3                                       고기남자의 칠면조 파티             고기남자 MeatMan   \n",
       "4  골목 3mc를 분노하게 만든 마음고생이 심했을 공릉 백반집 사장님의 푸념?! [예능...                    스브스밥집   \n",
       "\n",
       "   categoryId  view_count  likes  dislikes  comment_count  \\\n",
       "0          23     1893473  38249       730           8595   \n",
       "1          10     2600864      0         0          20129   \n",
       "2          29      347049   3564       120            178   \n",
       "3          26      528458  15372       280           3470   \n",
       "4          24      494904   3918       111           3142   \n",
       "\n",
       "                  channelId trending_date2  \n",
       "0  UChbE5OZQ6dRHECsX0tEPEZQ     2021-01-01  \n",
       "1  UCxXgIeE5hxWxHG6dz9Scg2w     2021-01-01  \n",
       "2  UCZUPZW5idAxYp-Asj__lVAA     2021-01-01  \n",
       "3  UCT3CumbFIJiW33uq0UI3zlg     2021-01-01  \n",
       "4  UCdWgRSfttvDucq4ApcCg5Mw     2021-01-01  "
      ]
     },
     "execution_count": 37,
     "metadata": {},
     "output_type": "execute_result"
    }
   ],
   "source": [
    "df.head()"
   ]
  },
  {
   "cell_type": "code",
   "execution_count": 38,
   "id": "95394848",
   "metadata": {},
   "outputs": [],
   "source": [
    "end = channel.loc[channel.ct.dt.strftime('%Y-%m-%d %H') == '2021-11-01 15']\n",
    "start = channel.loc[channel.ct.dt.strftime('%Y-%m-%d %H') == '2021-10-03 03']"
   ]
  },
  {
   "cell_type": "code",
   "execution_count": 39,
   "id": "a9b68d29",
   "metadata": {},
   "outputs": [
    {
     "data": {
      "text/html": [
       "<div>\n",
       "<style scoped>\n",
       "    .dataframe tbody tr th:only-of-type {\n",
       "        vertical-align: middle;\n",
       "    }\n",
       "\n",
       "    .dataframe tbody tr th {\n",
       "        vertical-align: top;\n",
       "    }\n",
       "\n",
       "    .dataframe thead th {\n",
       "        text-align: right;\n",
       "    }\n",
       "</style>\n",
       "<table border=\"1\" class=\"dataframe\">\n",
       "  <thead>\n",
       "    <tr style=\"text-align: right;\">\n",
       "      <th></th>\n",
       "      <th>channelname</th>\n",
       "      <th>del</th>\n",
       "    </tr>\n",
       "  </thead>\n",
       "  <tbody>\n",
       "    <tr>\n",
       "      <th>0</th>\n",
       "      <td>꽈뚜룹</td>\n",
       "      <td>70000</td>\n",
       "    </tr>\n",
       "    <tr>\n",
       "      <th>1</th>\n",
       "      <td>야전삽짱재</td>\n",
       "      <td>11000</td>\n",
       "    </tr>\n",
       "    <tr>\n",
       "      <th>2</th>\n",
       "      <td>츄정ChuJeong</td>\n",
       "      <td>1000</td>\n",
       "    </tr>\n",
       "    <tr>\n",
       "      <th>3</th>\n",
       "      <td>논리왕 전기</td>\n",
       "      <td>-11000</td>\n",
       "    </tr>\n",
       "    <tr>\n",
       "      <th>4</th>\n",
       "      <td>와글와글 WagleWagle</td>\n",
       "      <td>0</td>\n",
       "    </tr>\n",
       "    <tr>\n",
       "      <th>5</th>\n",
       "      <td>조나단</td>\n",
       "      <td>12000</td>\n",
       "    </tr>\n",
       "    <tr>\n",
       "      <th>6</th>\n",
       "      <td>형사!탐정되다</td>\n",
       "      <td>10300</td>\n",
       "    </tr>\n",
       "    <tr>\n",
       "      <th>7</th>\n",
       "      <td>김농밀의 농밀한 삶</td>\n",
       "      <td>1540</td>\n",
       "    </tr>\n",
       "    <tr>\n",
       "      <th>8</th>\n",
       "      <td>릴펄 Lilpearl</td>\n",
       "      <td>11000</td>\n",
       "    </tr>\n",
       "    <tr>\n",
       "      <th>9</th>\n",
       "      <td>곽토리 kwak tori</td>\n",
       "      <td>-2000</td>\n",
       "    </tr>\n",
       "    <tr>\n",
       "      <th>10</th>\n",
       "      <td>Balming Tiger</td>\n",
       "      <td>2500</td>\n",
       "    </tr>\n",
       "  </tbody>\n",
       "</table>\n",
       "</div>"
      ],
      "text/plain": [
       "        channelname    del\n",
       "0               꽈뚜룹  70000\n",
       "1             야전삽짱재  11000\n",
       "2        츄정ChuJeong   1000\n",
       "3            논리왕 전기 -11000\n",
       "4   와글와글 WagleWagle      0\n",
       "5               조나단  12000\n",
       "6           형사!탐정되다  10300\n",
       "7        김농밀의 농밀한 삶   1540\n",
       "8       릴펄 Lilpearl  11000\n",
       "9     곽토리 kwak tori  -2000\n",
       "10    Balming Tiger   2500"
      ]
     },
     "metadata": {},
     "output_type": "display_data"
    }
   ],
   "source": [
    "end_df = end[['channelname', 'subcnt']].reset_index(drop=True)\n",
    "start_df = start[['channelname', 'subcnt']].reset_index(drop=True)\n",
    "\n",
    "end_df.columns = ['channelname', 'end_sub']\n",
    "start_df.columns = ['channelname', 'start_sub']\n",
    "\n",
    "tt = pd.merge(start_df, end_df)\n",
    "tt['del'] = tt['end_sub'] - tt['start_sub']\n",
    "result = tt[['channelname', 'del']]\n",
    "display(result)"
   ]
  },
  {
   "cell_type": "markdown",
   "id": "a94de3d6",
   "metadata": {},
   "source": [
    "**Question 15. 공범 EP1의 비디오정보 데이터 중 수집 간격이 5분 이하, 20분 이상인 데이터 구간(해당 시점 전,후) 의 시각을 모두 출력하라**"
   ]
  },
  {
   "cell_type": "code",
   "execution_count": 40,
   "id": "a1cb526f",
   "metadata": {},
   "outputs": [
    {
     "data": {
      "text/html": [
       "<div>\n",
       "<style scoped>\n",
       "    .dataframe tbody tr th:only-of-type {\n",
       "        vertical-align: middle;\n",
       "    }\n",
       "\n",
       "    .dataframe tbody tr th {\n",
       "        vertical-align: top;\n",
       "    }\n",
       "\n",
       "    .dataframe thead th {\n",
       "        text-align: right;\n",
       "    }\n",
       "</style>\n",
       "<table border=\"1\" class=\"dataframe\">\n",
       "  <thead>\n",
       "    <tr style=\"text-align: right;\">\n",
       "      <th></th>\n",
       "      <th>videopk</th>\n",
       "      <th>viewcnt</th>\n",
       "      <th>likecnt</th>\n",
       "      <th>dislikecnt</th>\n",
       "      <th>favoritecnt</th>\n",
       "      <th>cmcnt</th>\n",
       "      <th>ct</th>\n",
       "      <th>videoname</th>\n",
       "    </tr>\n",
       "  </thead>\n",
       "  <tbody>\n",
       "    <tr>\n",
       "      <th>0</th>\n",
       "      <td>c5JQp6xafqc</td>\n",
       "      <td>6396</td>\n",
       "      <td>680</td>\n",
       "      <td>3</td>\n",
       "      <td>0</td>\n",
       "      <td>226</td>\n",
       "      <td>2021-10-07 19:10:03</td>\n",
       "      <td>공범 EP1</td>\n",
       "    </tr>\n",
       "    <tr>\n",
       "      <th>1</th>\n",
       "      <td>c5JQp6xafqc</td>\n",
       "      <td>13087</td>\n",
       "      <td>1113</td>\n",
       "      <td>7</td>\n",
       "      <td>0</td>\n",
       "      <td>273</td>\n",
       "      <td>2021-10-07 19:20:02</td>\n",
       "      <td>공범 EP1</td>\n",
       "    </tr>\n",
       "    <tr>\n",
       "      <th>2</th>\n",
       "      <td>c5JQp6xafqc</td>\n",
       "      <td>19991</td>\n",
       "      <td>1446</td>\n",
       "      <td>12</td>\n",
       "      <td>0</td>\n",
       "      <td>363</td>\n",
       "      <td>2021-10-07 19:30:03</td>\n",
       "      <td>공범 EP1</td>\n",
       "    </tr>\n",
       "    <tr>\n",
       "      <th>3</th>\n",
       "      <td>c5JQp6xafqc</td>\n",
       "      <td>27451</td>\n",
       "      <td>1859</td>\n",
       "      <td>19</td>\n",
       "      <td>0</td>\n",
       "      <td>479</td>\n",
       "      <td>2021-10-07 19:40:03</td>\n",
       "      <td>공범 EP1</td>\n",
       "    </tr>\n",
       "    <tr>\n",
       "      <th>4</th>\n",
       "      <td>c5JQp6xafqc</td>\n",
       "      <td>36559</td>\n",
       "      <td>2306</td>\n",
       "      <td>23</td>\n",
       "      <td>0</td>\n",
       "      <td>602</td>\n",
       "      <td>2021-10-07 19:50:03</td>\n",
       "      <td>공범 EP1</td>\n",
       "    </tr>\n",
       "    <tr>\n",
       "      <th>...</th>\n",
       "      <td>...</td>\n",
       "      <td>...</td>\n",
       "      <td>...</td>\n",
       "      <td>...</td>\n",
       "      <td>...</td>\n",
       "      <td>...</td>\n",
       "      <td>...</td>\n",
       "      <td>...</td>\n",
       "    </tr>\n",
       "    <tr>\n",
       "      <th>3487</th>\n",
       "      <td>c5JQp6xafqc</td>\n",
       "      <td>3179698</td>\n",
       "      <td>41040</td>\n",
       "      <td>1113</td>\n",
       "      <td>0</td>\n",
       "      <td>7673</td>\n",
       "      <td>2021-11-01 14:50:04</td>\n",
       "      <td>공범 EP1</td>\n",
       "    </tr>\n",
       "    <tr>\n",
       "      <th>3488</th>\n",
       "      <td>c5JQp6xafqc</td>\n",
       "      <td>3179971</td>\n",
       "      <td>41042</td>\n",
       "      <td>1113</td>\n",
       "      <td>0</td>\n",
       "      <td>7673</td>\n",
       "      <td>2021-11-01 15:00:03</td>\n",
       "      <td>공범 EP1</td>\n",
       "    </tr>\n",
       "    <tr>\n",
       "      <th>3489</th>\n",
       "      <td>c5JQp6xafqc</td>\n",
       "      <td>3179971</td>\n",
       "      <td>41042</td>\n",
       "      <td>1113</td>\n",
       "      <td>0</td>\n",
       "      <td>7673</td>\n",
       "      <td>2021-11-01 15:10:03</td>\n",
       "      <td>공범 EP1</td>\n",
       "    </tr>\n",
       "    <tr>\n",
       "      <th>3490</th>\n",
       "      <td>c5JQp6xafqc</td>\n",
       "      <td>3180332</td>\n",
       "      <td>41043</td>\n",
       "      <td>1113</td>\n",
       "      <td>0</td>\n",
       "      <td>7674</td>\n",
       "      <td>2021-11-01 15:20:02</td>\n",
       "      <td>공범 EP1</td>\n",
       "    </tr>\n",
       "    <tr>\n",
       "      <th>3491</th>\n",
       "      <td>c5JQp6xafqc</td>\n",
       "      <td>3180532</td>\n",
       "      <td>41043</td>\n",
       "      <td>1113</td>\n",
       "      <td>0</td>\n",
       "      <td>7674</td>\n",
       "      <td>2021-11-01 15:30:03</td>\n",
       "      <td>공범 EP1</td>\n",
       "    </tr>\n",
       "  </tbody>\n",
       "</table>\n",
       "<p>3492 rows × 8 columns</p>\n",
       "</div>"
      ],
      "text/plain": [
       "          videopk  viewcnt  likecnt  dislikecnt  favoritecnt  cmcnt  \\\n",
       "0     c5JQp6xafqc     6396      680           3            0    226   \n",
       "1     c5JQp6xafqc    13087     1113           7            0    273   \n",
       "2     c5JQp6xafqc    19991     1446          12            0    363   \n",
       "3     c5JQp6xafqc    27451     1859          19            0    479   \n",
       "4     c5JQp6xafqc    36559     2306          23            0    602   \n",
       "...           ...      ...      ...         ...          ...    ...   \n",
       "3487  c5JQp6xafqc  3179698    41040        1113            0   7673   \n",
       "3488  c5JQp6xafqc  3179971    41042        1113            0   7673   \n",
       "3489  c5JQp6xafqc  3179971    41042        1113            0   7673   \n",
       "3490  c5JQp6xafqc  3180332    41043        1113            0   7674   \n",
       "3491  c5JQp6xafqc  3180532    41043        1113            0   7674   \n",
       "\n",
       "                      ct videoname  \n",
       "0    2021-10-07 19:10:03    공범 EP1  \n",
       "1    2021-10-07 19:20:02    공범 EP1  \n",
       "2    2021-10-07 19:30:03    공범 EP1  \n",
       "3    2021-10-07 19:40:03    공범 EP1  \n",
       "4    2021-10-07 19:50:03    공범 EP1  \n",
       "...                  ...       ...  \n",
       "3487 2021-11-01 14:50:04    공범 EP1  \n",
       "3488 2021-11-01 15:00:03    공범 EP1  \n",
       "3489 2021-11-01 15:10:03    공범 EP1  \n",
       "3490 2021-11-01 15:20:02    공범 EP1  \n",
       "3491 2021-11-01 15:30:03    공범 EP1  \n",
       "\n",
       "[3492 rows x 8 columns]"
      ]
     },
     "execution_count": 40,
     "metadata": {},
     "output_type": "execute_result"
    }
   ],
   "source": [
    "ep1 = video.loc[video.videoname.str.contains('EP1')].sort_values(by='ct').reset_index(drop=True)\n",
    "ep1"
   ]
  },
  {
   "cell_type": "code",
   "execution_count": 41,
   "id": "4e758a48",
   "metadata": {},
   "outputs": [
    {
     "data": {
      "text/html": [
       "<div>\n",
       "<style scoped>\n",
       "    .dataframe tbody tr th:only-of-type {\n",
       "        vertical-align: middle;\n",
       "    }\n",
       "\n",
       "    .dataframe tbody tr th {\n",
       "        vertical-align: top;\n",
       "    }\n",
       "\n",
       "    .dataframe thead th {\n",
       "        text-align: right;\n",
       "    }\n",
       "</style>\n",
       "<table border=\"1\" class=\"dataframe\">\n",
       "  <thead>\n",
       "    <tr style=\"text-align: right;\">\n",
       "      <th></th>\n",
       "      <th>videopk</th>\n",
       "      <th>viewcnt</th>\n",
       "      <th>likecnt</th>\n",
       "      <th>dislikecnt</th>\n",
       "      <th>favoritecnt</th>\n",
       "      <th>cmcnt</th>\n",
       "      <th>ct</th>\n",
       "      <th>videoname</th>\n",
       "    </tr>\n",
       "  </thead>\n",
       "  <tbody>\n",
       "    <tr>\n",
       "      <th>721</th>\n",
       "      <td>c5JQp6xafqc</td>\n",
       "      <td>2228250</td>\n",
       "      <td>34559</td>\n",
       "      <td>849</td>\n",
       "      <td>0</td>\n",
       "      <td>7191</td>\n",
       "      <td>2021-10-13 09:41:37</td>\n",
       "      <td>공범 EP1</td>\n",
       "    </tr>\n",
       "    <tr>\n",
       "      <th>722</th>\n",
       "      <td>c5JQp6xafqc</td>\n",
       "      <td>2228250</td>\n",
       "      <td>34559</td>\n",
       "      <td>849</td>\n",
       "      <td>0</td>\n",
       "      <td>7191</td>\n",
       "      <td>2021-10-13 09:41:37</td>\n",
       "      <td>공범 EP1</td>\n",
       "    </tr>\n",
       "    <tr>\n",
       "      <th>1636</th>\n",
       "      <td>c5JQp6xafqc</td>\n",
       "      <td>2707933</td>\n",
       "      <td>37901</td>\n",
       "      <td>988</td>\n",
       "      <td>0</td>\n",
       "      <td>7410</td>\n",
       "      <td>2021-10-19 18:20:03</td>\n",
       "      <td>공범 EP1</td>\n",
       "    </tr>\n",
       "  </tbody>\n",
       "</table>\n",
       "</div>"
      ],
      "text/plain": [
       "          videopk  viewcnt  likecnt  dislikecnt  favoritecnt  cmcnt  \\\n",
       "721   c5JQp6xafqc  2228250    34559         849            0   7191   \n",
       "722   c5JQp6xafqc  2228250    34559         849            0   7191   \n",
       "1636  c5JQp6xafqc  2707933    37901         988            0   7410   \n",
       "\n",
       "                      ct videoname  \n",
       "721  2021-10-13 09:41:37    공범 EP1  \n",
       "722  2021-10-13 09:41:37    공범 EP1  \n",
       "1636 2021-10-19 18:20:03    공범 EP1  "
      ]
     },
     "execution_count": 41,
     "metadata": {},
     "output_type": "execute_result"
    }
   ],
   "source": [
    "ep1[(ep1.ct.diff(1) >= datetime.timedelta(minutes=20)) |\n",
    "    (ep1.ct.diff(1) <= datetime.timedelta(minutes=5))]"
   ]
  },
  {
   "cell_type": "code",
   "execution_count": 42,
   "id": "92cafd4a",
   "metadata": {},
   "outputs": [
    {
     "data": {
      "text/html": [
       "<div>\n",
       "<style scoped>\n",
       "    .dataframe tbody tr th:only-of-type {\n",
       "        vertical-align: middle;\n",
       "    }\n",
       "\n",
       "    .dataframe tbody tr th {\n",
       "        vertical-align: top;\n",
       "    }\n",
       "\n",
       "    .dataframe thead th {\n",
       "        text-align: right;\n",
       "    }\n",
       "</style>\n",
       "<table border=\"1\" class=\"dataframe\">\n",
       "  <thead>\n",
       "    <tr style=\"text-align: right;\">\n",
       "      <th></th>\n",
       "      <th>videopk</th>\n",
       "      <th>viewcnt</th>\n",
       "      <th>likecnt</th>\n",
       "      <th>dislikecnt</th>\n",
       "      <th>favoritecnt</th>\n",
       "      <th>cmcnt</th>\n",
       "      <th>ct</th>\n",
       "      <th>videoname</th>\n",
       "    </tr>\n",
       "  </thead>\n",
       "  <tbody>\n",
       "    <tr>\n",
       "      <th>720</th>\n",
       "      <td>c5JQp6xafqc</td>\n",
       "      <td>2153676</td>\n",
       "      <td>34104</td>\n",
       "      <td>830</td>\n",
       "      <td>0</td>\n",
       "      <td>7120</td>\n",
       "      <td>2021-10-12 19:20:03</td>\n",
       "      <td>공범 EP1</td>\n",
       "    </tr>\n",
       "    <tr>\n",
       "      <th>721</th>\n",
       "      <td>c5JQp6xafqc</td>\n",
       "      <td>2228250</td>\n",
       "      <td>34559</td>\n",
       "      <td>849</td>\n",
       "      <td>0</td>\n",
       "      <td>7191</td>\n",
       "      <td>2021-10-13 09:41:37</td>\n",
       "      <td>공범 EP1</td>\n",
       "    </tr>\n",
       "    <tr>\n",
       "      <th>722</th>\n",
       "      <td>c5JQp6xafqc</td>\n",
       "      <td>2228250</td>\n",
       "      <td>34559</td>\n",
       "      <td>849</td>\n",
       "      <td>0</td>\n",
       "      <td>7191</td>\n",
       "      <td>2021-10-13 09:41:37</td>\n",
       "      <td>공범 EP1</td>\n",
       "    </tr>\n",
       "    <tr>\n",
       "      <th>723</th>\n",
       "      <td>c5JQp6xafqc</td>\n",
       "      <td>2228669</td>\n",
       "      <td>34566</td>\n",
       "      <td>849</td>\n",
       "      <td>0</td>\n",
       "      <td>7194</td>\n",
       "      <td>2021-10-13 09:50:03</td>\n",
       "      <td>공범 EP1</td>\n",
       "    </tr>\n",
       "    <tr>\n",
       "      <th>1635</th>\n",
       "      <td>c5JQp6xafqc</td>\n",
       "      <td>2706691</td>\n",
       "      <td>37893</td>\n",
       "      <td>987</td>\n",
       "      <td>0</td>\n",
       "      <td>7410</td>\n",
       "      <td>2021-10-19 17:50:02</td>\n",
       "      <td>공범 EP1</td>\n",
       "    </tr>\n",
       "    <tr>\n",
       "      <th>1636</th>\n",
       "      <td>c5JQp6xafqc</td>\n",
       "      <td>2707933</td>\n",
       "      <td>37901</td>\n",
       "      <td>988</td>\n",
       "      <td>0</td>\n",
       "      <td>7410</td>\n",
       "      <td>2021-10-19 18:20:03</td>\n",
       "      <td>공범 EP1</td>\n",
       "    </tr>\n",
       "    <tr>\n",
       "      <th>1637</th>\n",
       "      <td>c5JQp6xafqc</td>\n",
       "      <td>2708448</td>\n",
       "      <td>37903</td>\n",
       "      <td>988</td>\n",
       "      <td>0</td>\n",
       "      <td>7410</td>\n",
       "      <td>2021-10-19 18:30:03</td>\n",
       "      <td>공범 EP1</td>\n",
       "    </tr>\n",
       "  </tbody>\n",
       "</table>\n",
       "</div>"
      ],
      "text/plain": [
       "          videopk  viewcnt  likecnt  dislikecnt  favoritecnt  cmcnt  \\\n",
       "720   c5JQp6xafqc  2153676    34104         830            0   7120   \n",
       "721   c5JQp6xafqc  2228250    34559         849            0   7191   \n",
       "722   c5JQp6xafqc  2228250    34559         849            0   7191   \n",
       "723   c5JQp6xafqc  2228669    34566         849            0   7194   \n",
       "1635  c5JQp6xafqc  2706691    37893         987            0   7410   \n",
       "1636  c5JQp6xafqc  2707933    37901         988            0   7410   \n",
       "1637  c5JQp6xafqc  2708448    37903         988            0   7410   \n",
       "\n",
       "                      ct videoname  \n",
       "720  2021-10-12 19:20:03    공범 EP1  \n",
       "721  2021-10-13 09:41:37    공범 EP1  \n",
       "722  2021-10-13 09:41:37    공범 EP1  \n",
       "723  2021-10-13 09:50:03    공범 EP1  \n",
       "1635 2021-10-19 17:50:02    공범 EP1  \n",
       "1636 2021-10-19 18:20:03    공범 EP1  \n",
       "1637 2021-10-19 18:30:03    공범 EP1  "
      ]
     },
     "execution_count": 42,
     "metadata": {},
     "output_type": "execute_result"
    }
   ],
   "source": [
    "ep1[ep1.index.isin([720, 721, 722, 723, 1635, 1636, 1637])]"
   ]
  },
  {
   "cell_type": "markdown",
   "id": "91cc09e0",
   "metadata": {},
   "source": [
    "**Question 16. 각 에피소드의 시작날짜(년-월-일)를 에피소드 이름과 묶어 데이터프레임으로 만들고 출력하라**"
   ]
  },
  {
   "cell_type": "code",
   "execution_count": 43,
   "id": "e023f346",
   "metadata": {},
   "outputs": [
    {
     "data": {
      "text/html": [
       "<div>\n",
       "<style scoped>\n",
       "    .dataframe tbody tr th:only-of-type {\n",
       "        vertical-align: middle;\n",
       "    }\n",
       "\n",
       "    .dataframe tbody tr th {\n",
       "        vertical-align: top;\n",
       "    }\n",
       "\n",
       "    .dataframe thead th {\n",
       "        text-align: right;\n",
       "    }\n",
       "</style>\n",
       "<table border=\"1\" class=\"dataframe\">\n",
       "  <thead>\n",
       "    <tr style=\"text-align: right;\">\n",
       "      <th></th>\n",
       "      <th>date</th>\n",
       "      <th>videoname</th>\n",
       "    </tr>\n",
       "  </thead>\n",
       "  <tbody>\n",
       "    <tr>\n",
       "      <th>10</th>\n",
       "      <td>2021-10-07</td>\n",
       "      <td>공범 EP1</td>\n",
       "    </tr>\n",
       "    <tr>\n",
       "      <th>3496</th>\n",
       "      <td>2021-10-09</td>\n",
       "      <td>공범 EP2</td>\n",
       "    </tr>\n",
       "    <tr>\n",
       "      <th>6696</th>\n",
       "      <td>2021-10-14</td>\n",
       "      <td>공범 EP3</td>\n",
       "    </tr>\n",
       "    <tr>\n",
       "      <th>9264</th>\n",
       "      <td>2021-10-16</td>\n",
       "      <td>공범 EP4</td>\n",
       "    </tr>\n",
       "    <tr>\n",
       "      <th>11544</th>\n",
       "      <td>2021-10-21</td>\n",
       "      <td>공범 EP5</td>\n",
       "    </tr>\n",
       "    <tr>\n",
       "      <th>13661</th>\n",
       "      <td>2021-10-23</td>\n",
       "      <td>공범 EP6</td>\n",
       "    </tr>\n",
       "    <tr>\n",
       "      <th>13106</th>\n",
       "      <td>2021-10-28</td>\n",
       "      <td>공범 EP7</td>\n",
       "    </tr>\n",
       "    <tr>\n",
       "      <th>14935</th>\n",
       "      <td>2021-10-30</td>\n",
       "      <td>공범 EP8</td>\n",
       "    </tr>\n",
       "  </tbody>\n",
       "</table>\n",
       "</div>"
      ],
      "text/plain": [
       "             date videoname\n",
       "10     2021-10-07    공범 EP1\n",
       "3496   2021-10-09    공범 EP2\n",
       "6696   2021-10-14    공범 EP3\n",
       "9264   2021-10-16    공범 EP4\n",
       "11544  2021-10-21    공범 EP5\n",
       "13661  2021-10-23    공범 EP6\n",
       "13106  2021-10-28    공범 EP7\n",
       "14935  2021-10-30    공범 EP8"
      ]
     },
     "metadata": {},
     "output_type": "display_data"
    }
   ],
   "source": [
    "start_date = video.sort_values(['ct', 'videoname']).drop_duplicates('videoname')[['ct', 'videoname']]\n",
    "start_date['date'] = start_date.ct.dt.date\n",
    "answer = start_date[['date', 'videoname']]\n",
    "display(answer)"
   ]
  },
  {
   "cell_type": "markdown",
   "id": "e259b3b5",
   "metadata": {},
   "source": [
    "**Quesion 17. 공개된 날의 21시의 viewcnt, ct, videoname 으로 구성된 데이터 프레임을 viewcnt를 내림차순으로 정렬하여 출력하라**"
   ]
  },
  {
   "cell_type": "code",
   "execution_count": 44,
   "id": "995238fb",
   "metadata": {},
   "outputs": [],
   "source": [
    "video['time'] = video.ct.dt.hour\n",
    "\n",
    "answer = video.loc[video['time']==21]\\\n",
    "        .sort_values(['ct', 'videoname'])\\\n",
    "        .drop_duplicates('videoname')\\\n",
    "        .sort_values('viewcnt', ascending=False)[['ct', 'videoname', 'viewcnt']]\\\n",
    "        .reset_index(drop=True)"
   ]
  },
  {
   "cell_type": "code",
   "execution_count": 45,
   "id": "05492e85",
   "metadata": {},
   "outputs": [
    {
     "data": {
      "text/html": [
       "<div>\n",
       "<style scoped>\n",
       "    .dataframe tbody tr th:only-of-type {\n",
       "        vertical-align: middle;\n",
       "    }\n",
       "\n",
       "    .dataframe tbody tr th {\n",
       "        vertical-align: top;\n",
       "    }\n",
       "\n",
       "    .dataframe thead th {\n",
       "        text-align: right;\n",
       "    }\n",
       "</style>\n",
       "<table border=\"1\" class=\"dataframe\">\n",
       "  <thead>\n",
       "    <tr style=\"text-align: right;\">\n",
       "      <th></th>\n",
       "      <th>ct</th>\n",
       "      <th>videoname</th>\n",
       "      <th>viewcnt</th>\n",
       "    </tr>\n",
       "  </thead>\n",
       "  <tbody>\n",
       "    <tr>\n",
       "      <th>0</th>\n",
       "      <td>2021-10-30 21:00:08</td>\n",
       "      <td>공범 EP8</td>\n",
       "      <td>264029</td>\n",
       "    </tr>\n",
       "    <tr>\n",
       "      <th>1</th>\n",
       "      <td>2021-10-28 21:00:04</td>\n",
       "      <td>공범 EP7</td>\n",
       "      <td>252032</td>\n",
       "    </tr>\n",
       "    <tr>\n",
       "      <th>2</th>\n",
       "      <td>2021-10-16 21:00:04</td>\n",
       "      <td>공범 EP4</td>\n",
       "      <td>217674</td>\n",
       "    </tr>\n",
       "    <tr>\n",
       "      <th>3</th>\n",
       "      <td>2021-10-23 21:00:06</td>\n",
       "      <td>공범 EP6</td>\n",
       "      <td>213899</td>\n",
       "    </tr>\n",
       "    <tr>\n",
       "      <th>4</th>\n",
       "      <td>2021-10-21 21:00:04</td>\n",
       "      <td>공범 EP5</td>\n",
       "      <td>201179</td>\n",
       "    </tr>\n",
       "    <tr>\n",
       "      <th>5</th>\n",
       "      <td>2021-10-09 21:00:03</td>\n",
       "      <td>공범 EP2</td>\n",
       "      <td>148144</td>\n",
       "    </tr>\n",
       "    <tr>\n",
       "      <th>6</th>\n",
       "      <td>2021-10-14 21:00:04</td>\n",
       "      <td>공범 EP3</td>\n",
       "      <td>147183</td>\n",
       "    </tr>\n",
       "    <tr>\n",
       "      <th>7</th>\n",
       "      <td>2021-10-07 21:00:03</td>\n",
       "      <td>공범 EP1</td>\n",
       "      <td>117340</td>\n",
       "    </tr>\n",
       "  </tbody>\n",
       "</table>\n",
       "</div>"
      ],
      "text/plain": [
       "                   ct videoname  viewcnt\n",
       "0 2021-10-30 21:00:08    공범 EP8   264029\n",
       "1 2021-10-28 21:00:04    공범 EP7   252032\n",
       "2 2021-10-16 21:00:04    공범 EP4   217674\n",
       "3 2021-10-23 21:00:06    공범 EP6   213899\n",
       "4 2021-10-21 21:00:04    공범 EP5   201179\n",
       "5 2021-10-09 21:00:03    공범 EP2   148144\n",
       "6 2021-10-14 21:00:04    공범 EP3   147183\n",
       "7 2021-10-07 21:00:03    공범 EP1   117340"
      ]
     },
     "execution_count": 45,
     "metadata": {},
     "output_type": "execute_result"
    }
   ],
   "source": [
    "answer"
   ]
  },
  {
   "cell_type": "markdown",
   "id": "d1dc4fc4",
   "metadata": {},
   "source": [
    "**Question 18. video 정보의 가장 최근 데이터들에서 각 에피소드의 싫어요/좋아요 비율을 ratio 컬럼으로 만들고 videoname, ratio로 구성된 데이터 프레임을 ratio를 오름차순으로 정렬하라**"
   ]
  },
  {
   "cell_type": "code",
   "execution_count": 46,
   "id": "a8af97cc",
   "metadata": {},
   "outputs": [
    {
     "data": {
      "text/html": [
       "<div>\n",
       "<style scoped>\n",
       "    .dataframe tbody tr th:only-of-type {\n",
       "        vertical-align: middle;\n",
       "    }\n",
       "\n",
       "    .dataframe tbody tr th {\n",
       "        vertical-align: top;\n",
       "    }\n",
       "\n",
       "    .dataframe thead th {\n",
       "        text-align: right;\n",
       "    }\n",
       "</style>\n",
       "<table border=\"1\" class=\"dataframe\">\n",
       "  <thead>\n",
       "    <tr style=\"text-align: right;\">\n",
       "      <th></th>\n",
       "      <th>ct</th>\n",
       "      <th>videoname</th>\n",
       "      <th>dislikecnt</th>\n",
       "      <th>likecnt</th>\n",
       "    </tr>\n",
       "  </thead>\n",
       "  <tbody>\n",
       "    <tr>\n",
       "      <th>11543</th>\n",
       "      <td>2021-11-01 15:30:03</td>\n",
       "      <td>공범 EP4</td>\n",
       "      <td>408</td>\n",
       "      <td>22703</td>\n",
       "    </tr>\n",
       "    <tr>\n",
       "      <th>3491</th>\n",
       "      <td>2021-11-01 15:30:03</td>\n",
       "      <td>공범 EP1</td>\n",
       "      <td>1113</td>\n",
       "      <td>41043</td>\n",
       "    </tr>\n",
       "    <tr>\n",
       "      <th>9263</th>\n",
       "      <td>2021-11-01 15:30:03</td>\n",
       "      <td>공범 EP3</td>\n",
       "      <td>508</td>\n",
       "      <td>22719</td>\n",
       "    </tr>\n",
       "    <tr>\n",
       "      <th>6695</th>\n",
       "      <td>2021-11-01 15:30:03</td>\n",
       "      <td>공범 EP2</td>\n",
       "      <td>763</td>\n",
       "      <td>25566</td>\n",
       "    </tr>\n",
       "    <tr>\n",
       "      <th>13105</th>\n",
       "      <td>2021-11-01 15:30:04</td>\n",
       "      <td>공범 EP5</td>\n",
       "      <td>421</td>\n",
       "      <td>19926</td>\n",
       "    </tr>\n",
       "    <tr>\n",
       "      <th>14934</th>\n",
       "      <td>2021-11-01 15:30:04</td>\n",
       "      <td>공범 EP6</td>\n",
       "      <td>389</td>\n",
       "      <td>24494</td>\n",
       "    </tr>\n",
       "    <tr>\n",
       "      <th>13660</th>\n",
       "      <td>2021-11-01 15:30:05</td>\n",
       "      <td>공범 EP7</td>\n",
       "      <td>400</td>\n",
       "      <td>29335</td>\n",
       "    </tr>\n",
       "    <tr>\n",
       "      <th>15200</th>\n",
       "      <td>2021-11-01 15:30:05</td>\n",
       "      <td>공범 EP8</td>\n",
       "      <td>3621</td>\n",
       "      <td>25616</td>\n",
       "    </tr>\n",
       "  </tbody>\n",
       "</table>\n",
       "</div>"
      ],
      "text/plain": [
       "                       ct videoname  dislikecnt  likecnt\n",
       "11543 2021-11-01 15:30:03    공범 EP4         408    22703\n",
       "3491  2021-11-01 15:30:03    공범 EP1        1113    41043\n",
       "9263  2021-11-01 15:30:03    공범 EP3         508    22719\n",
       "6695  2021-11-01 15:30:03    공범 EP2         763    25566\n",
       "13105 2021-11-01 15:30:04    공범 EP5         421    19926\n",
       "14934 2021-11-01 15:30:04    공범 EP6         389    24494\n",
       "13660 2021-11-01 15:30:05    공범 EP7         400    29335\n",
       "15200 2021-11-01 15:30:05    공범 EP8        3621    25616"
      ]
     },
     "execution_count": 46,
     "metadata": {},
     "output_type": "execute_result"
    }
   ],
   "source": [
    "target = video.sort_values('ct').drop_duplicates('videoname', keep='last')[['ct', 'videoname', 'dislikecnt', 'likecnt']]\n",
    "target"
   ]
  },
  {
   "cell_type": "code",
   "execution_count": 47,
   "id": "9be1af10",
   "metadata": {},
   "outputs": [
    {
     "data": {
      "text/html": [
       "<div>\n",
       "<style scoped>\n",
       "    .dataframe tbody tr th:only-of-type {\n",
       "        vertical-align: middle;\n",
       "    }\n",
       "\n",
       "    .dataframe tbody tr th {\n",
       "        vertical-align: top;\n",
       "    }\n",
       "\n",
       "    .dataframe thead th {\n",
       "        text-align: right;\n",
       "    }\n",
       "</style>\n",
       "<table border=\"1\" class=\"dataframe\">\n",
       "  <thead>\n",
       "    <tr style=\"text-align: right;\">\n",
       "      <th></th>\n",
       "      <th>videoname</th>\n",
       "      <th>ratio</th>\n",
       "    </tr>\n",
       "  </thead>\n",
       "  <tbody>\n",
       "    <tr>\n",
       "      <th>0</th>\n",
       "      <td>공범 EP7</td>\n",
       "      <td>0.013636</td>\n",
       "    </tr>\n",
       "    <tr>\n",
       "      <th>1</th>\n",
       "      <td>공범 EP6</td>\n",
       "      <td>0.015881</td>\n",
       "    </tr>\n",
       "    <tr>\n",
       "      <th>2</th>\n",
       "      <td>공범 EP4</td>\n",
       "      <td>0.017971</td>\n",
       "    </tr>\n",
       "    <tr>\n",
       "      <th>3</th>\n",
       "      <td>공범 EP5</td>\n",
       "      <td>0.021128</td>\n",
       "    </tr>\n",
       "    <tr>\n",
       "      <th>4</th>\n",
       "      <td>공범 EP3</td>\n",
       "      <td>0.022360</td>\n",
       "    </tr>\n",
       "    <tr>\n",
       "      <th>5</th>\n",
       "      <td>공범 EP1</td>\n",
       "      <td>0.027118</td>\n",
       "    </tr>\n",
       "    <tr>\n",
       "      <th>6</th>\n",
       "      <td>공범 EP2</td>\n",
       "      <td>0.029844</td>\n",
       "    </tr>\n",
       "    <tr>\n",
       "      <th>7</th>\n",
       "      <td>공범 EP8</td>\n",
       "      <td>0.141357</td>\n",
       "    </tr>\n",
       "  </tbody>\n",
       "</table>\n",
       "</div>"
      ],
      "text/plain": [
       "  videoname     ratio\n",
       "0    공범 EP7  0.013636\n",
       "1    공범 EP6  0.015881\n",
       "2    공범 EP4  0.017971\n",
       "3    공범 EP5  0.021128\n",
       "4    공범 EP3  0.022360\n",
       "5    공범 EP1  0.027118\n",
       "6    공범 EP2  0.029844\n",
       "7    공범 EP8  0.141357"
      ]
     },
     "execution_count": 47,
     "metadata": {},
     "output_type": "execute_result"
    }
   ],
   "source": [
    "target['ratio'] = target['dislikecnt'] / target['likecnt']\n",
    "target.sort_values(by='ratio')[['videoname', 'ratio']].reset_index(drop=True)"
   ]
  },
  {
   "cell_type": "markdown",
   "id": "71ed464a",
   "metadata": {},
   "source": [
    "**Question 19. 2021-11-01 00:00:00 ~ 15:00:00까지 각 에피소드별 viewcnt의 증가량을 데이터 프레임으로 만드시오**"
   ]
  },
  {
   "cell_type": "code",
   "execution_count": 48,
   "id": "9c78a003",
   "metadata": {},
   "outputs": [
    {
     "data": {
      "text/html": [
       "<div>\n",
       "<style scoped>\n",
       "    .dataframe tbody tr th:only-of-type {\n",
       "        vertical-align: middle;\n",
       "    }\n",
       "\n",
       "    .dataframe tbody tr th {\n",
       "        vertical-align: top;\n",
       "    }\n",
       "\n",
       "    .dataframe thead th {\n",
       "        text-align: right;\n",
       "    }\n",
       "</style>\n",
       "<table border=\"1\" class=\"dataframe\">\n",
       "  <thead>\n",
       "    <tr style=\"text-align: right;\">\n",
       "      <th></th>\n",
       "      <th>viewcnt</th>\n",
       "    </tr>\n",
       "    <tr>\n",
       "      <th>videoname</th>\n",
       "      <th></th>\n",
       "    </tr>\n",
       "  </thead>\n",
       "  <tbody>\n",
       "    <tr>\n",
       "      <th>공범 EP1</th>\n",
       "      <td>13298</td>\n",
       "    </tr>\n",
       "    <tr>\n",
       "      <th>공범 EP2</th>\n",
       "      <td>10300</td>\n",
       "    </tr>\n",
       "    <tr>\n",
       "      <th>공범 EP3</th>\n",
       "      <td>9927</td>\n",
       "    </tr>\n",
       "    <tr>\n",
       "      <th>공범 EP4</th>\n",
       "      <td>9824</td>\n",
       "    </tr>\n",
       "    <tr>\n",
       "      <th>공범 EP5</th>\n",
       "      <td>10824</td>\n",
       "    </tr>\n",
       "    <tr>\n",
       "      <th>공범 EP6</th>\n",
       "      <td>14141</td>\n",
       "    </tr>\n",
       "    <tr>\n",
       "      <th>공범 EP7</th>\n",
       "      <td>26949</td>\n",
       "    </tr>\n",
       "    <tr>\n",
       "      <th>공범 EP8</th>\n",
       "      <td>89147</td>\n",
       "    </tr>\n",
       "  </tbody>\n",
       "</table>\n",
       "</div>"
      ],
      "text/plain": [
       "           viewcnt\n",
       "videoname         \n",
       " 공범 EP1      13298\n",
       " 공범 EP2      10300\n",
       " 공범 EP3       9927\n",
       " 공범 EP4       9824\n",
       " 공범 EP5      10824\n",
       " 공범 EP6      14141\n",
       " 공범 EP7      26949\n",
       " 공범 EP8      89147"
      ]
     },
     "execution_count": 48,
     "metadata": {},
     "output_type": "execute_result"
    }
   ],
   "source": [
    "start = pd.to_datetime('2021-11-01 00:00:00')\n",
    "end = pd.to_datetime('2021-11-01 15:00:00')\n",
    "\n",
    "target = video.loc[(video.ct >= start) & (video.ct <= end)].reset_index(drop=True)\n",
    "target\n",
    "\n",
    "def check(x):\n",
    "    result = max(x) - min(x)\n",
    "    return result\n",
    "\n",
    "answer = target[['videoname', 'viewcnt']].groupby('videoname').agg(check)\n",
    "answer"
   ]
  },
  {
   "cell_type": "markdown",
   "id": "02b3aaac",
   "metadata": {},
   "source": [
    "**Question 20. video 데이터 중에서 중복되는 데이터가 존재한다. 중복되는 각 데이터의 시간대와 videoname 을 구하여라**"
   ]
  },
  {
   "cell_type": "code",
   "execution_count": 49,
   "id": "2fd3968c",
   "metadata": {},
   "outputs": [
    {
     "data": {
      "text/html": [
       "<div>\n",
       "<style scoped>\n",
       "    .dataframe tbody tr th:only-of-type {\n",
       "        vertical-align: middle;\n",
       "    }\n",
       "\n",
       "    .dataframe tbody tr th {\n",
       "        vertical-align: top;\n",
       "    }\n",
       "\n",
       "    .dataframe thead th {\n",
       "        text-align: right;\n",
       "    }\n",
       "</style>\n",
       "<table border=\"1\" class=\"dataframe\">\n",
       "  <thead>\n",
       "    <tr style=\"text-align: right;\">\n",
       "      <th></th>\n",
       "      <th>ct</th>\n",
       "      <th>videoname</th>\n",
       "    </tr>\n",
       "  </thead>\n",
       "  <tbody>\n",
       "    <tr>\n",
       "      <th>722</th>\n",
       "      <td>2021-10-13 09:41:37</td>\n",
       "      <td>공범 EP1</td>\n",
       "    </tr>\n",
       "    <tr>\n",
       "      <th>3927</th>\n",
       "      <td>2021-10-13 09:41:37</td>\n",
       "      <td>공범 EP2</td>\n",
       "    </tr>\n",
       "  </tbody>\n",
       "</table>\n",
       "</div>"
      ],
      "text/plain": [
       "                      ct videoname\n",
       "722  2021-10-13 09:41:37    공범 EP1\n",
       "3927 2021-10-13 09:41:37    공범 EP2"
      ]
     },
     "execution_count": 49,
     "metadata": {},
     "output_type": "execute_result"
    }
   ],
   "source": [
    "video[video.duplicated()==True][['ct', 'videoname']]"
   ]
  },
  {
   "cell_type": "code",
   "execution_count": 50,
   "id": "1e0d8dd7",
   "metadata": {},
   "outputs": [],
   "source": [
    "# video[video.index.isin(set(video.index) - set(video.drop_duplicates().index))]"
   ]
  },
  {
   "cell_type": "markdown",
   "id": "c06edf93",
   "metadata": {},
   "source": [
    "# 월드컵 출전선수 골 기록 데이터"
   ]
  },
  {
   "cell_type": "code",
   "execution_count": 51,
   "id": "9e82a934",
   "metadata": {},
   "outputs": [],
   "source": [
    "df = pd.read_csv('https://raw.githubusercontent.com/Datamanim/datarepo/main/worldcup/worldcupgoals.csv')"
   ]
  },
  {
   "cell_type": "code",
   "execution_count": 52,
   "id": "0e4c5a66",
   "metadata": {},
   "outputs": [
    {
     "data": {
      "text/html": [
       "<div>\n",
       "<style scoped>\n",
       "    .dataframe tbody tr th:only-of-type {\n",
       "        vertical-align: middle;\n",
       "    }\n",
       "\n",
       "    .dataframe tbody tr th {\n",
       "        vertical-align: top;\n",
       "    }\n",
       "\n",
       "    .dataframe thead th {\n",
       "        text-align: right;\n",
       "    }\n",
       "</style>\n",
       "<table border=\"1\" class=\"dataframe\">\n",
       "  <thead>\n",
       "    <tr style=\"text-align: right;\">\n",
       "      <th></th>\n",
       "      <th>Player</th>\n",
       "      <th>Goals</th>\n",
       "      <th>Years</th>\n",
       "      <th>Country</th>\n",
       "    </tr>\n",
       "  </thead>\n",
       "  <tbody>\n",
       "    <tr>\n",
       "      <th>0</th>\n",
       "      <td>Miroslav Klose</td>\n",
       "      <td>16</td>\n",
       "      <td>2002-2006-2010-2014</td>\n",
       "      <td>Germany</td>\n",
       "    </tr>\n",
       "    <tr>\n",
       "      <th>1</th>\n",
       "      <td>Ronaldo</td>\n",
       "      <td>15</td>\n",
       "      <td>1998-2002-2006</td>\n",
       "      <td>Brazil</td>\n",
       "    </tr>\n",
       "    <tr>\n",
       "      <th>2</th>\n",
       "      <td>Gerd Muller</td>\n",
       "      <td>14</td>\n",
       "      <td>1970-1974</td>\n",
       "      <td>Germany</td>\n",
       "    </tr>\n",
       "    <tr>\n",
       "      <th>3</th>\n",
       "      <td>Just Fontaine</td>\n",
       "      <td>13</td>\n",
       "      <td>1958</td>\n",
       "      <td>France</td>\n",
       "    </tr>\n",
       "    <tr>\n",
       "      <th>4</th>\n",
       "      <td>Pele</td>\n",
       "      <td>12</td>\n",
       "      <td>1958-1962-1966-1970</td>\n",
       "      <td>Brazil</td>\n",
       "    </tr>\n",
       "  </tbody>\n",
       "</table>\n",
       "</div>"
      ],
      "text/plain": [
       "           Player  Goals                Years  Country\n",
       "0  Miroslav Klose     16  2002-2006-2010-2014  Germany\n",
       "1         Ronaldo     15       1998-2002-2006   Brazil\n",
       "2     Gerd Muller     14            1970-1974  Germany\n",
       "3   Just Fontaine     13                 1958   France\n",
       "4            Pele     12  1958-1962-1966-1970   Brazil"
      ]
     },
     "execution_count": 52,
     "metadata": {},
     "output_type": "execute_result"
    }
   ],
   "source": [
    "df.head()"
   ]
  },
  {
   "cell_type": "markdown",
   "id": "6a7dee30",
   "metadata": {},
   "source": [
    "**Question 21. 주어진 전체 기간의 각 나라별 골득점수 상위 5개 국가와 그 득점수를 데이터프레임형태로 출력하라**"
   ]
  },
  {
   "cell_type": "code",
   "execution_count": 53,
   "id": "c40a7ceb",
   "metadata": {},
   "outputs": [
    {
     "data": {
      "text/html": [
       "<div>\n",
       "<style scoped>\n",
       "    .dataframe tbody tr th:only-of-type {\n",
       "        vertical-align: middle;\n",
       "    }\n",
       "\n",
       "    .dataframe tbody tr th {\n",
       "        vertical-align: top;\n",
       "    }\n",
       "\n",
       "    .dataframe thead th {\n",
       "        text-align: right;\n",
       "    }\n",
       "</style>\n",
       "<table border=\"1\" class=\"dataframe\">\n",
       "  <thead>\n",
       "    <tr style=\"text-align: right;\">\n",
       "      <th></th>\n",
       "      <th>Goals</th>\n",
       "    </tr>\n",
       "    <tr>\n",
       "      <th>Country</th>\n",
       "      <th></th>\n",
       "    </tr>\n",
       "  </thead>\n",
       "  <tbody>\n",
       "    <tr>\n",
       "      <th>Brazil</th>\n",
       "      <td>228</td>\n",
       "    </tr>\n",
       "    <tr>\n",
       "      <th>Germany</th>\n",
       "      <td>226</td>\n",
       "    </tr>\n",
       "    <tr>\n",
       "      <th>Argentina</th>\n",
       "      <td>135</td>\n",
       "    </tr>\n",
       "    <tr>\n",
       "      <th>Italy</th>\n",
       "      <td>123</td>\n",
       "    </tr>\n",
       "    <tr>\n",
       "      <th>France</th>\n",
       "      <td>115</td>\n",
       "    </tr>\n",
       "  </tbody>\n",
       "</table>\n",
       "</div>"
      ],
      "text/plain": [
       "           Goals\n",
       "Country         \n",
       "Brazil       228\n",
       "Germany      226\n",
       "Argentina    135\n",
       "Italy        123\n",
       "France       115"
      ]
     },
     "execution_count": 53,
     "metadata": {},
     "output_type": "execute_result"
    }
   ],
   "source": [
    "df.groupby('Country').sum('Goals').sort_values('Goals', ascending=False).head(5)"
   ]
  },
  {
   "cell_type": "markdown",
   "id": "89723403",
   "metadata": {},
   "source": [
    "**Question 22. 주어진 전체 기간동안 골 득점을 한 선수가 가장 많은 나라 상위 5개 국가와 그 선수 숫자를 데이터 프레임 형식으로 출력하라**"
   ]
  },
  {
   "cell_type": "code",
   "execution_count": 54,
   "id": "68232d99",
   "metadata": {
    "scrolled": false
   },
   "outputs": [
    {
     "data": {
      "text/plain": [
       "Country\n",
       "Brazil       81\n",
       "Germany      78\n",
       "Italy        60\n",
       "Argentina    59\n",
       "France       58\n",
       "dtype: int64"
      ]
     },
     "execution_count": 54,
     "metadata": {},
     "output_type": "execute_result"
    }
   ],
   "source": [
    "df.groupby('Country').size().sort_values(ascending=False).head(5)"
   ]
  },
  {
   "cell_type": "markdown",
   "id": "215e8280",
   "metadata": {},
   "source": [
    "**Question 23. 년도 표기가 4자리 숫자로 안된 케이스가 존재한다. 해당 건은 몇건인지 출력하라**"
   ]
  },
  {
   "cell_type": "code",
   "execution_count": 55,
   "id": "8c8179cb",
   "metadata": {},
   "outputs": [
    {
     "data": {
      "text/html": [
       "<div>\n",
       "<style scoped>\n",
       "    .dataframe tbody tr th:only-of-type {\n",
       "        vertical-align: middle;\n",
       "    }\n",
       "\n",
       "    .dataframe tbody tr th {\n",
       "        vertical-align: top;\n",
       "    }\n",
       "\n",
       "    .dataframe thead th {\n",
       "        text-align: right;\n",
       "    }\n",
       "</style>\n",
       "<table border=\"1\" class=\"dataframe\">\n",
       "  <thead>\n",
       "    <tr style=\"text-align: right;\">\n",
       "      <th></th>\n",
       "      <th>Player</th>\n",
       "      <th>Goals</th>\n",
       "      <th>Years</th>\n",
       "      <th>Country</th>\n",
       "    </tr>\n",
       "  </thead>\n",
       "  <tbody>\n",
       "    <tr>\n",
       "      <th>0</th>\n",
       "      <td>Miroslav Klose</td>\n",
       "      <td>16</td>\n",
       "      <td>2002-2006-2010-2014</td>\n",
       "      <td>Germany</td>\n",
       "    </tr>\n",
       "    <tr>\n",
       "      <th>1</th>\n",
       "      <td>Ronaldo</td>\n",
       "      <td>15</td>\n",
       "      <td>1998-2002-2006</td>\n",
       "      <td>Brazil</td>\n",
       "    </tr>\n",
       "    <tr>\n",
       "      <th>2</th>\n",
       "      <td>Gerd Muller</td>\n",
       "      <td>14</td>\n",
       "      <td>1970-1974</td>\n",
       "      <td>Germany</td>\n",
       "    </tr>\n",
       "    <tr>\n",
       "      <th>3</th>\n",
       "      <td>Just Fontaine</td>\n",
       "      <td>13</td>\n",
       "      <td>1958</td>\n",
       "      <td>France</td>\n",
       "    </tr>\n",
       "    <tr>\n",
       "      <th>4</th>\n",
       "      <td>Pele</td>\n",
       "      <td>12</td>\n",
       "      <td>1958-1962-1966-1970</td>\n",
       "      <td>Brazil</td>\n",
       "    </tr>\n",
       "  </tbody>\n",
       "</table>\n",
       "</div>"
      ],
      "text/plain": [
       "           Player  Goals                Years  Country\n",
       "0  Miroslav Klose     16  2002-2006-2010-2014  Germany\n",
       "1         Ronaldo     15       1998-2002-2006   Brazil\n",
       "2     Gerd Muller     14            1970-1974  Germany\n",
       "3   Just Fontaine     13                 1958   France\n",
       "4            Pele     12  1958-1962-1966-1970   Brazil"
      ]
     },
     "execution_count": 55,
     "metadata": {},
     "output_type": "execute_result"
    }
   ],
   "source": [
    "df.head()"
   ]
  },
  {
   "cell_type": "code",
   "execution_count": 56,
   "id": "d6902243",
   "metadata": {},
   "outputs": [
    {
     "data": {
      "text/plain": [
       "45"
      ]
     },
     "execution_count": 56,
     "metadata": {},
     "output_type": "execute_result"
    }
   ],
   "source": [
    "df['yearLst'] = df['Years'].str.split('-')\n",
    "\n",
    "def checkFour(x):\n",
    "    for value in x:\n",
    "        if len(str(value)) != 4:\n",
    "            return False\n",
    "    return True\n",
    "\n",
    "df['check'] = df['yearLst'].apply(checkFour)\n",
    "\n",
    "result = len(df[df.check==False])\n",
    "result"
   ]
  },
  {
   "cell_type": "markdown",
   "id": "082d34ec",
   "metadata": {},
   "source": [
    "**Question 24. Q3에서 발생한 예외 케이스를 제외한 데이터프레임을 df2라고 정의하고 데이터의 행의 숫자를 출력하라**"
   ]
  },
  {
   "cell_type": "code",
   "execution_count": 57,
   "id": "a468862d",
   "metadata": {},
   "outputs": [],
   "source": [
    "df2 = df[df.check==True].reset_index(drop=True)"
   ]
  },
  {
   "cell_type": "code",
   "execution_count": 58,
   "id": "a82ef672",
   "metadata": {},
   "outputs": [
    {
     "data": {
      "text/plain": [
       "1250"
      ]
     },
     "execution_count": 58,
     "metadata": {},
     "output_type": "execute_result"
    }
   ],
   "source": [
    "df2.shape[0]"
   ]
  },
  {
   "cell_type": "markdown",
   "id": "bcb11a2b",
   "metadata": {},
   "source": [
    "**Question 24. 월드컵 출전횟수를 나타내는 ‘LenCup’ 컬럼을 추가하고 4회 출전한 선수의 숫자를 구하여라**"
   ]
  },
  {
   "cell_type": "code",
   "execution_count": 59,
   "id": "d88479ae",
   "metadata": {},
   "outputs": [
    {
     "data": {
      "text/plain": [
       "16"
      ]
     },
     "execution_count": 59,
     "metadata": {},
     "output_type": "execute_result"
    }
   ],
   "source": [
    "df2['LenCup'] = df2['yearLst'].map(lambda x: len(x))\n",
    "len(df2[df2['LenCup']==4])"
   ]
  },
  {
   "cell_type": "code",
   "execution_count": 60,
   "id": "ec7435a7",
   "metadata": {},
   "outputs": [],
   "source": [
    "# df2['LenCup'] = df2['yearLst'].str.len()\n",
    "# result = df2['LenCup'].value_counts()[4]"
   ]
  },
  {
   "cell_type": "markdown",
   "id": "d10ada40",
   "metadata": {},
   "source": [
    "**Question 26. Yugoslavia 국가의 월드컵 출전 횟수가 2회인 선수들의 숫자를 구하여라**"
   ]
  },
  {
   "cell_type": "code",
   "execution_count": 61,
   "id": "1fec688a",
   "metadata": {},
   "outputs": [
    {
     "data": {
      "text/plain": [
       "7"
      ]
     },
     "execution_count": 61,
     "metadata": {},
     "output_type": "execute_result"
    }
   ],
   "source": [
    "len(df2[(df2['Country']=='Yugoslavia') & (df2['LenCup']==2)]['Player'].drop_duplicates())"
   ]
  },
  {
   "cell_type": "markdown",
   "id": "4d3e4c2e",
   "metadata": {},
   "source": [
    "**Question 27. 2002년도에 출전한 전체 선수는 몇 명인가?**"
   ]
  },
  {
   "cell_type": "code",
   "execution_count": 62,
   "id": "c9458992",
   "metadata": {},
   "outputs": [
    {
     "data": {
      "text/plain": [
       "156"
      ]
     },
     "execution_count": 62,
     "metadata": {},
     "output_type": "execute_result"
    }
   ],
   "source": [
    "len(df2[df2.Years.str.contains('2002')==True]['Player'].drop_duplicates())"
   ]
  },
  {
   "cell_type": "code",
   "execution_count": 63,
   "id": "4c665075",
   "metadata": {},
   "outputs": [],
   "source": [
    "# len(df2[df2.Years.str.contains('2002')])"
   ]
  },
  {
   "cell_type": "markdown",
   "id": "ca25e4fb",
   "metadata": {},
   "source": [
    "**Question 28. 이름에 ‘carlos’ 단어가 들어가는 선수의 숫자는 몇 명인가? (대, 소문자 구분 x)**"
   ]
  },
  {
   "cell_type": "code",
   "execution_count": 64,
   "id": "c0fe1e79",
   "metadata": {},
   "outputs": [
    {
     "data": {
      "text/plain": [
       "13"
      ]
     },
     "execution_count": 64,
     "metadata": {},
     "output_type": "execute_result"
    }
   ],
   "source": [
    "len(df2[df2['Player'].str.lower().str.contains('carlos')])"
   ]
  },
  {
   "cell_type": "markdown",
   "id": "4d9b4638",
   "metadata": {},
   "source": [
    "**Quesiton 29. 월드컵 출전 횟수가 1회 뿐인 선수들 중에서 가장 많은 득점을 올렸던 선수는 누구인가?**"
   ]
  },
  {
   "cell_type": "code",
   "execution_count": 65,
   "id": "41f9e93c",
   "metadata": {},
   "outputs": [
    {
     "data": {
      "text/plain": [
       "'Just Fontaine'"
      ]
     },
     "execution_count": 65,
     "metadata": {},
     "output_type": "execute_result"
    }
   ],
   "source": [
    "df2[df2.LenCup==1].sort_values('Goals', ascending=False).Player.values[0]"
   ]
  },
  {
   "cell_type": "code",
   "execution_count": 66,
   "id": "6a1dc376",
   "metadata": {
    "scrolled": true
   },
   "outputs": [],
   "source": [
    "# df2[df2['LenCup']==1][['Player', 'Goals']].sort_values('Goals', ascending=False)['Player'].head(1)"
   ]
  },
  {
   "cell_type": "markdown",
   "id": "5197ffd6",
   "metadata": {},
   "source": [
    "**Question 30. 월드컵 출전횟수가 1회 뿐인 선수들이 가장 많은 국가는 어디인가?**"
   ]
  },
  {
   "cell_type": "code",
   "execution_count": 67,
   "id": "f9e8a08b",
   "metadata": {},
   "outputs": [
    {
     "data": {
      "text/plain": [
       "'Brazil'"
      ]
     },
     "execution_count": 67,
     "metadata": {},
     "output_type": "execute_result"
    }
   ],
   "source": [
    "df2[df2['LenCup']==1]['Country'].value_counts().index[0]"
   ]
  },
  {
   "cell_type": "markdown",
   "id": "885b295c",
   "metadata": {},
   "source": [
    "# 서울시 따릉이 이용 정보 데이터"
   ]
  },
  {
   "cell_type": "code",
   "execution_count": 68,
   "id": "6944af13",
   "metadata": {},
   "outputs": [],
   "source": [
    "df = pd.read_csv('https://raw.githubusercontent.com/Datamanim/datarepo/main/bicycle/seoul_bi.csv')"
   ]
  },
  {
   "cell_type": "code",
   "execution_count": 69,
   "id": "8d122a71",
   "metadata": {},
   "outputs": [
    {
     "data": {
      "text/html": [
       "<div>\n",
       "<style scoped>\n",
       "    .dataframe tbody tr th:only-of-type {\n",
       "        vertical-align: middle;\n",
       "    }\n",
       "\n",
       "    .dataframe tbody tr th {\n",
       "        vertical-align: top;\n",
       "    }\n",
       "\n",
       "    .dataframe thead th {\n",
       "        text-align: right;\n",
       "    }\n",
       "</style>\n",
       "<table border=\"1\" class=\"dataframe\">\n",
       "  <thead>\n",
       "    <tr style=\"text-align: right;\">\n",
       "      <th></th>\n",
       "      <th>대여일자</th>\n",
       "      <th>대여시간</th>\n",
       "      <th>대여소번호</th>\n",
       "      <th>대여구분코드</th>\n",
       "      <th>성별</th>\n",
       "      <th>연령대코드</th>\n",
       "      <th>이용건수</th>\n",
       "      <th>운동량</th>\n",
       "      <th>탄소량</th>\n",
       "      <th>이동거리</th>\n",
       "      <th>사용시간</th>\n",
       "    </tr>\n",
       "  </thead>\n",
       "  <tbody>\n",
       "    <tr>\n",
       "      <th>0</th>\n",
       "      <td>2021-06-01</td>\n",
       "      <td>0</td>\n",
       "      <td>3541</td>\n",
       "      <td>정기권</td>\n",
       "      <td>F</td>\n",
       "      <td>~10대</td>\n",
       "      <td>1</td>\n",
       "      <td>0.00</td>\n",
       "      <td>0.00</td>\n",
       "      <td>0.00</td>\n",
       "      <td>8</td>\n",
       "    </tr>\n",
       "    <tr>\n",
       "      <th>1</th>\n",
       "      <td>2021-06-01</td>\n",
       "      <td>0</td>\n",
       "      <td>765</td>\n",
       "      <td>정기권</td>\n",
       "      <td>F</td>\n",
       "      <td>~10대</td>\n",
       "      <td>1</td>\n",
       "      <td>27.21</td>\n",
       "      <td>0.35</td>\n",
       "      <td>1526.81</td>\n",
       "      <td>19</td>\n",
       "    </tr>\n",
       "    <tr>\n",
       "      <th>2</th>\n",
       "      <td>2021-06-01</td>\n",
       "      <td>0</td>\n",
       "      <td>2637</td>\n",
       "      <td>정기권</td>\n",
       "      <td>F</td>\n",
       "      <td>~10대</td>\n",
       "      <td>1</td>\n",
       "      <td>41.40</td>\n",
       "      <td>0.37</td>\n",
       "      <td>1608.56</td>\n",
       "      <td>18</td>\n",
       "    </tr>\n",
       "    <tr>\n",
       "      <th>3</th>\n",
       "      <td>2021-06-01</td>\n",
       "      <td>0</td>\n",
       "      <td>2919</td>\n",
       "      <td>정기권</td>\n",
       "      <td>F</td>\n",
       "      <td>~10대</td>\n",
       "      <td>1</td>\n",
       "      <td>0.00</td>\n",
       "      <td>0.00</td>\n",
       "      <td>0.00</td>\n",
       "      <td>75</td>\n",
       "    </tr>\n",
       "    <tr>\n",
       "      <th>4</th>\n",
       "      <td>2021-06-01</td>\n",
       "      <td>0</td>\n",
       "      <td>549</td>\n",
       "      <td>정기권</td>\n",
       "      <td>F</td>\n",
       "      <td>~10대</td>\n",
       "      <td>1</td>\n",
       "      <td>13.04</td>\n",
       "      <td>0.17</td>\n",
       "      <td>731.55</td>\n",
       "      <td>6</td>\n",
       "    </tr>\n",
       "  </tbody>\n",
       "</table>\n",
       "</div>"
      ],
      "text/plain": [
       "         대여일자  대여시간  대여소번호 대여구분코드 성별 연령대코드  이용건수    운동량   탄소량     이동거리  사용시간\n",
       "0  2021-06-01     0   3541    정기권  F  ~10대     1   0.00  0.00     0.00     8\n",
       "1  2021-06-01     0    765    정기권  F  ~10대     1  27.21  0.35  1526.81    19\n",
       "2  2021-06-01     0   2637    정기권  F  ~10대     1  41.40  0.37  1608.56    18\n",
       "3  2021-06-01     0   2919    정기권  F  ~10대     1   0.00  0.00     0.00    75\n",
       "4  2021-06-01     0    549    정기권  F  ~10대     1  13.04  0.17   731.55     6"
      ]
     },
     "execution_count": 69,
     "metadata": {},
     "output_type": "execute_result"
    }
   ],
   "source": [
    "df.head()"
   ]
  },
  {
   "cell_type": "markdown",
   "id": "98a14046",
   "metadata": {},
   "source": [
    "**Question 31. 대여일자별 데이터의 수를 데이터프레임으로 출력하고, 가장 많은 데이터가 있는 날짜를 출력하라**"
   ]
  },
  {
   "cell_type": "code",
   "execution_count": 70,
   "id": "22754fff",
   "metadata": {
    "scrolled": false
   },
   "outputs": [
    {
     "data": {
      "text/html": [
       "<div>\n",
       "<style scoped>\n",
       "    .dataframe tbody tr th:only-of-type {\n",
       "        vertical-align: middle;\n",
       "    }\n",
       "\n",
       "    .dataframe tbody tr th {\n",
       "        vertical-align: top;\n",
       "    }\n",
       "\n",
       "    .dataframe thead th {\n",
       "        text-align: right;\n",
       "    }\n",
       "</style>\n",
       "<table border=\"1\" class=\"dataframe\">\n",
       "  <thead>\n",
       "    <tr style=\"text-align: right;\">\n",
       "      <th></th>\n",
       "      <th>대여일자</th>\n",
       "    </tr>\n",
       "  </thead>\n",
       "  <tbody>\n",
       "    <tr>\n",
       "      <th>2021-06-01</th>\n",
       "      <td>48081</td>\n",
       "    </tr>\n",
       "    <tr>\n",
       "      <th>2021-06-02</th>\n",
       "      <td>56100</td>\n",
       "    </tr>\n",
       "    <tr>\n",
       "      <th>2021-06-03</th>\n",
       "      <td>18985</td>\n",
       "    </tr>\n",
       "    <tr>\n",
       "      <th>2021-06-04</th>\n",
       "      <td>56788</td>\n",
       "    </tr>\n",
       "    <tr>\n",
       "      <th>2021-06-05</th>\n",
       "      <td>52730</td>\n",
       "    </tr>\n",
       "    <tr>\n",
       "      <th>2021-06-06</th>\n",
       "      <td>47787</td>\n",
       "    </tr>\n",
       "    <tr>\n",
       "      <th>2021-06-07</th>\n",
       "      <td>52623</td>\n",
       "    </tr>\n",
       "    <tr>\n",
       "      <th>2021-06-08</th>\n",
       "      <td>55623</td>\n",
       "    </tr>\n",
       "    <tr>\n",
       "      <th>2021-06-09</th>\n",
       "      <td>54507</td>\n",
       "    </tr>\n",
       "    <tr>\n",
       "      <th>2021-06-10</th>\n",
       "      <td>36992</td>\n",
       "    </tr>\n",
       "    <tr>\n",
       "      <th>2021-06-11</th>\n",
       "      <td>52089</td>\n",
       "    </tr>\n",
       "    <tr>\n",
       "      <th>2021-06-12</th>\n",
       "      <td>48569</td>\n",
       "    </tr>\n",
       "    <tr>\n",
       "      <th>2021-06-13</th>\n",
       "      <td>43131</td>\n",
       "    </tr>\n",
       "    <tr>\n",
       "      <th>2021-06-14</th>\n",
       "      <td>54945</td>\n",
       "    </tr>\n",
       "  </tbody>\n",
       "</table>\n",
       "</div>"
      ],
      "text/plain": [
       "             대여일자\n",
       "2021-06-01  48081\n",
       "2021-06-02  56100\n",
       "2021-06-03  18985\n",
       "2021-06-04  56788\n",
       "2021-06-05  52730\n",
       "2021-06-06  47787\n",
       "2021-06-07  52623\n",
       "2021-06-08  55623\n",
       "2021-06-09  54507\n",
       "2021-06-10  36992\n",
       "2021-06-11  52089\n",
       "2021-06-12  48569\n",
       "2021-06-13  43131\n",
       "2021-06-14  54945"
      ]
     },
     "execution_count": 70,
     "metadata": {},
     "output_type": "execute_result"
    }
   ],
   "source": [
    "result = df['대여일자'].value_counts().sort_index().to_frame()\n",
    "result"
   ]
  },
  {
   "cell_type": "code",
   "execution_count": 71,
   "id": "0f6ef9b6",
   "metadata": {},
   "outputs": [
    {
     "data": {
      "text/plain": [
       "'2021-06-04'"
      ]
     },
     "execution_count": 71,
     "metadata": {},
     "output_type": "execute_result"
    }
   ],
   "source": [
    "result[result['대여일자']==result['대여일자'].max()].index[0]"
   ]
  },
  {
   "cell_type": "code",
   "execution_count": 72,
   "id": "fcf77904",
   "metadata": {},
   "outputs": [
    {
     "data": {
      "text/html": [
       "<div>\n",
       "<style scoped>\n",
       "    .dataframe tbody tr th:only-of-type {\n",
       "        vertical-align: middle;\n",
       "    }\n",
       "\n",
       "    .dataframe tbody tr th {\n",
       "        vertical-align: top;\n",
       "    }\n",
       "\n",
       "    .dataframe thead th {\n",
       "        text-align: right;\n",
       "    }\n",
       "</style>\n",
       "<table border=\"1\" class=\"dataframe\">\n",
       "  <thead>\n",
       "    <tr style=\"text-align: right;\">\n",
       "      <th></th>\n",
       "      <th>대여일자</th>\n",
       "    </tr>\n",
       "  </thead>\n",
       "  <tbody>\n",
       "    <tr>\n",
       "      <th>2021-06-01</th>\n",
       "      <td>48081</td>\n",
       "    </tr>\n",
       "    <tr>\n",
       "      <th>2021-06-02</th>\n",
       "      <td>56100</td>\n",
       "    </tr>\n",
       "    <tr>\n",
       "      <th>2021-06-03</th>\n",
       "      <td>18985</td>\n",
       "    </tr>\n",
       "    <tr>\n",
       "      <th>2021-06-04</th>\n",
       "      <td>56788</td>\n",
       "    </tr>\n",
       "    <tr>\n",
       "      <th>2021-06-05</th>\n",
       "      <td>52730</td>\n",
       "    </tr>\n",
       "    <tr>\n",
       "      <th>2021-06-06</th>\n",
       "      <td>47787</td>\n",
       "    </tr>\n",
       "    <tr>\n",
       "      <th>2021-06-07</th>\n",
       "      <td>52623</td>\n",
       "    </tr>\n",
       "    <tr>\n",
       "      <th>2021-06-08</th>\n",
       "      <td>55623</td>\n",
       "    </tr>\n",
       "    <tr>\n",
       "      <th>2021-06-09</th>\n",
       "      <td>54507</td>\n",
       "    </tr>\n",
       "    <tr>\n",
       "      <th>2021-06-10</th>\n",
       "      <td>36992</td>\n",
       "    </tr>\n",
       "    <tr>\n",
       "      <th>2021-06-11</th>\n",
       "      <td>52089</td>\n",
       "    </tr>\n",
       "    <tr>\n",
       "      <th>2021-06-12</th>\n",
       "      <td>48569</td>\n",
       "    </tr>\n",
       "    <tr>\n",
       "      <th>2021-06-13</th>\n",
       "      <td>43131</td>\n",
       "    </tr>\n",
       "    <tr>\n",
       "      <th>2021-06-14</th>\n",
       "      <td>54945</td>\n",
       "    </tr>\n",
       "  </tbody>\n",
       "</table>\n",
       "</div>"
      ],
      "text/plain": [
       "             대여일자\n",
       "2021-06-01  48081\n",
       "2021-06-02  56100\n",
       "2021-06-03  18985\n",
       "2021-06-04  56788\n",
       "2021-06-05  52730\n",
       "2021-06-06  47787\n",
       "2021-06-07  52623\n",
       "2021-06-08  55623\n",
       "2021-06-09  54507\n",
       "2021-06-10  36992\n",
       "2021-06-11  52089\n",
       "2021-06-12  48569\n",
       "2021-06-13  43131\n",
       "2021-06-14  54945"
      ]
     },
     "execution_count": 72,
     "metadata": {},
     "output_type": "execute_result"
    }
   ],
   "source": [
    "df['대여일자'].value_counts().sort_index().to_frame()"
   ]
  },
  {
   "cell_type": "markdown",
   "id": "7a3fc5a7",
   "metadata": {},
   "source": [
    "**Question 32. 각 일자의 요일을 표기하고 (‘Monday’ ~’Sunday’) ‘day_name’컬럼을 추가하고 이를 이용하여 각 요일별 이용 횟수의 총합을 데이터 프레임으로 출력하라**"
   ]
  },
  {
   "cell_type": "code",
   "execution_count": 73,
   "id": "cc521386",
   "metadata": {},
   "outputs": [
    {
     "data": {
      "text/html": [
       "<div>\n",
       "<style scoped>\n",
       "    .dataframe tbody tr th:only-of-type {\n",
       "        vertical-align: middle;\n",
       "    }\n",
       "\n",
       "    .dataframe tbody tr th {\n",
       "        vertical-align: top;\n",
       "    }\n",
       "\n",
       "    .dataframe thead th {\n",
       "        text-align: right;\n",
       "    }\n",
       "</style>\n",
       "<table border=\"1\" class=\"dataframe\">\n",
       "  <thead>\n",
       "    <tr style=\"text-align: right;\">\n",
       "      <th></th>\n",
       "      <th>day_name</th>\n",
       "    </tr>\n",
       "  </thead>\n",
       "  <tbody>\n",
       "    <tr>\n",
       "      <th>Wednesday</th>\n",
       "      <td>110607</td>\n",
       "    </tr>\n",
       "    <tr>\n",
       "      <th>Friday</th>\n",
       "      <td>108877</td>\n",
       "    </tr>\n",
       "    <tr>\n",
       "      <th>Monday</th>\n",
       "      <td>107568</td>\n",
       "    </tr>\n",
       "    <tr>\n",
       "      <th>Tuesday</th>\n",
       "      <td>103704</td>\n",
       "    </tr>\n",
       "    <tr>\n",
       "      <th>Saturday</th>\n",
       "      <td>101299</td>\n",
       "    </tr>\n",
       "    <tr>\n",
       "      <th>Sunday</th>\n",
       "      <td>90918</td>\n",
       "    </tr>\n",
       "    <tr>\n",
       "      <th>Thursday</th>\n",
       "      <td>55977</td>\n",
       "    </tr>\n",
       "  </tbody>\n",
       "</table>\n",
       "</div>"
      ],
      "text/plain": [
       "           day_name\n",
       "Wednesday    110607\n",
       "Friday       108877\n",
       "Monday       107568\n",
       "Tuesday      103704\n",
       "Saturday     101299\n",
       "Sunday        90918\n",
       "Thursday      55977"
      ]
     },
     "execution_count": 73,
     "metadata": {},
     "output_type": "execute_result"
    }
   ],
   "source": [
    "df['대여일자'] = pd.to_datetime(df['대여일자'])\n",
    "df['day_name'] = df['대여일자'].dt.day_name()\n",
    "df['day_name'].value_counts().to_frame()"
   ]
  },
  {
   "cell_type": "markdown",
   "id": "be4ff505",
   "metadata": {},
   "source": [
    "**Question 33. 각 요일별 가장 많이 이용한 대여소의 이용횟수와 대여소 번호를 데이터 프레임으로 출력하라**"
   ]
  },
  {
   "cell_type": "code",
   "execution_count": 74,
   "id": "ffabb7fc",
   "metadata": {},
   "outputs": [
    {
     "data": {
      "text/html": [
       "<div>\n",
       "<style scoped>\n",
       "    .dataframe tbody tr th:only-of-type {\n",
       "        vertical-align: middle;\n",
       "    }\n",
       "\n",
       "    .dataframe tbody tr th {\n",
       "        vertical-align: top;\n",
       "    }\n",
       "\n",
       "    .dataframe thead th {\n",
       "        text-align: right;\n",
       "    }\n",
       "</style>\n",
       "<table border=\"1\" class=\"dataframe\">\n",
       "  <thead>\n",
       "    <tr style=\"text-align: right;\">\n",
       "      <th></th>\n",
       "      <th>day_name</th>\n",
       "      <th>대여소번호</th>\n",
       "      <th>size</th>\n",
       "    </tr>\n",
       "  </thead>\n",
       "  <tbody>\n",
       "    <tr>\n",
       "      <th>0</th>\n",
       "      <td>Wednesday</td>\n",
       "      <td>502</td>\n",
       "      <td>282</td>\n",
       "    </tr>\n",
       "    <tr>\n",
       "      <th>1</th>\n",
       "      <td>Tuesday</td>\n",
       "      <td>502</td>\n",
       "      <td>267</td>\n",
       "    </tr>\n",
       "    <tr>\n",
       "      <th>2</th>\n",
       "      <td>Thursday</td>\n",
       "      <td>2715</td>\n",
       "      <td>137</td>\n",
       "    </tr>\n",
       "    <tr>\n",
       "      <th>3</th>\n",
       "      <td>Sunday</td>\n",
       "      <td>502</td>\n",
       "      <td>372</td>\n",
       "    </tr>\n",
       "    <tr>\n",
       "      <th>4</th>\n",
       "      <td>Saturday</td>\n",
       "      <td>502</td>\n",
       "      <td>378</td>\n",
       "    </tr>\n",
       "    <tr>\n",
       "      <th>5</th>\n",
       "      <td>Monday</td>\n",
       "      <td>502</td>\n",
       "      <td>242</td>\n",
       "    </tr>\n",
       "    <tr>\n",
       "      <th>6</th>\n",
       "      <td>Friday</td>\n",
       "      <td>502</td>\n",
       "      <td>277</td>\n",
       "    </tr>\n",
       "  </tbody>\n",
       "</table>\n",
       "</div>"
      ],
      "text/plain": [
       "    day_name  대여소번호  size\n",
       "0  Wednesday    502   282\n",
       "1    Tuesday    502   267\n",
       "2   Thursday   2715   137\n",
       "3     Sunday    502   372\n",
       "4   Saturday    502   378\n",
       "5     Monday    502   242\n",
       "6     Friday    502   277"
      ]
     },
     "metadata": {},
     "output_type": "display_data"
    }
   ],
   "source": [
    "result = df.groupby(['day_name', '대여소번호']).size().to_frame('size').sort_values(['day_name', 'size'], ascending=False).reset_index()\n",
    "answer = result.drop_duplicates('day_name', keep='first').reset_index(drop=True)\n",
    "display(answer)"
   ]
  },
  {
   "cell_type": "code",
   "execution_count": 75,
   "id": "1a36d5b8",
   "metadata": {},
   "outputs": [
    {
     "data": {
      "text/html": [
       "<div>\n",
       "<style scoped>\n",
       "    .dataframe tbody tr th:only-of-type {\n",
       "        vertical-align: middle;\n",
       "    }\n",
       "\n",
       "    .dataframe tbody tr th {\n",
       "        vertical-align: top;\n",
       "    }\n",
       "\n",
       "    .dataframe thead th {\n",
       "        text-align: right;\n",
       "    }\n",
       "</style>\n",
       "<table border=\"1\" class=\"dataframe\">\n",
       "  <thead>\n",
       "    <tr style=\"text-align: right;\">\n",
       "      <th></th>\n",
       "      <th>day_name</th>\n",
       "      <th>대여소번호</th>\n",
       "      <th>size</th>\n",
       "    </tr>\n",
       "  </thead>\n",
       "  <tbody>\n",
       "    <tr>\n",
       "      <th>0</th>\n",
       "      <td>Wednesday</td>\n",
       "      <td>502</td>\n",
       "      <td>282</td>\n",
       "    </tr>\n",
       "    <tr>\n",
       "      <th>1</th>\n",
       "      <td>Wednesday</td>\n",
       "      <td>207</td>\n",
       "      <td>257</td>\n",
       "    </tr>\n",
       "    <tr>\n",
       "      <th>2</th>\n",
       "      <td>Wednesday</td>\n",
       "      <td>2102</td>\n",
       "      <td>253</td>\n",
       "    </tr>\n",
       "    <tr>\n",
       "      <th>3</th>\n",
       "      <td>Wednesday</td>\n",
       "      <td>2715</td>\n",
       "      <td>253</td>\n",
       "    </tr>\n",
       "    <tr>\n",
       "      <th>4</th>\n",
       "      <td>Wednesday</td>\n",
       "      <td>152</td>\n",
       "      <td>223</td>\n",
       "    </tr>\n",
       "    <tr>\n",
       "      <th>...</th>\n",
       "      <td>...</td>\n",
       "      <td>...</td>\n",
       "      <td>...</td>\n",
       "    </tr>\n",
       "    <tr>\n",
       "      <th>16869</th>\n",
       "      <td>Friday</td>\n",
       "      <td>3878</td>\n",
       "      <td>1</td>\n",
       "    </tr>\n",
       "    <tr>\n",
       "      <th>16870</th>\n",
       "      <td>Friday</td>\n",
       "      <td>4523</td>\n",
       "      <td>1</td>\n",
       "    </tr>\n",
       "    <tr>\n",
       "      <th>16871</th>\n",
       "      <td>Friday</td>\n",
       "      <td>9980</td>\n",
       "      <td>1</td>\n",
       "    </tr>\n",
       "    <tr>\n",
       "      <th>16872</th>\n",
       "      <td>Friday</td>\n",
       "      <td>9997</td>\n",
       "      <td>1</td>\n",
       "    </tr>\n",
       "    <tr>\n",
       "      <th>16873</th>\n",
       "      <td>Friday</td>\n",
       "      <td>9998</td>\n",
       "      <td>1</td>\n",
       "    </tr>\n",
       "  </tbody>\n",
       "</table>\n",
       "<p>16874 rows × 3 columns</p>\n",
       "</div>"
      ],
      "text/plain": [
       "        day_name  대여소번호  size\n",
       "0      Wednesday    502   282\n",
       "1      Wednesday    207   257\n",
       "2      Wednesday   2102   253\n",
       "3      Wednesday   2715   253\n",
       "4      Wednesday    152   223\n",
       "...          ...    ...   ...\n",
       "16869     Friday   3878     1\n",
       "16870     Friday   4523     1\n",
       "16871     Friday   9980     1\n",
       "16872     Friday   9997     1\n",
       "16873     Friday   9998     1\n",
       "\n",
       "[16874 rows x 3 columns]"
      ]
     },
     "execution_count": 75,
     "metadata": {},
     "output_type": "execute_result"
    }
   ],
   "source": [
    "result"
   ]
  },
  {
   "cell_type": "code",
   "execution_count": 76,
   "id": "725300ac",
   "metadata": {},
   "outputs": [
    {
     "data": {
      "text/html": [
       "<div>\n",
       "<style scoped>\n",
       "    .dataframe tbody tr th:only-of-type {\n",
       "        vertical-align: middle;\n",
       "    }\n",
       "\n",
       "    .dataframe tbody tr th {\n",
       "        vertical-align: top;\n",
       "    }\n",
       "\n",
       "    .dataframe thead th {\n",
       "        text-align: right;\n",
       "    }\n",
       "</style>\n",
       "<table border=\"1\" class=\"dataframe\">\n",
       "  <thead>\n",
       "    <tr style=\"text-align: right;\">\n",
       "      <th></th>\n",
       "      <th>day_name</th>\n",
       "      <th>대여소번호</th>\n",
       "      <th>size</th>\n",
       "    </tr>\n",
       "  </thead>\n",
       "  <tbody>\n",
       "    <tr>\n",
       "      <th>0</th>\n",
       "      <td>Wednesday</td>\n",
       "      <td>502</td>\n",
       "      <td>282</td>\n",
       "    </tr>\n",
       "    <tr>\n",
       "      <th>2402</th>\n",
       "      <td>Tuesday</td>\n",
       "      <td>502</td>\n",
       "      <td>267</td>\n",
       "    </tr>\n",
       "    <tr>\n",
       "      <th>4801</th>\n",
       "      <td>Thursday</td>\n",
       "      <td>2715</td>\n",
       "      <td>137</td>\n",
       "    </tr>\n",
       "    <tr>\n",
       "      <th>7197</th>\n",
       "      <td>Sunday</td>\n",
       "      <td>502</td>\n",
       "      <td>372</td>\n",
       "    </tr>\n",
       "    <tr>\n",
       "      <th>9611</th>\n",
       "      <td>Saturday</td>\n",
       "      <td>502</td>\n",
       "      <td>378</td>\n",
       "    </tr>\n",
       "    <tr>\n",
       "      <th>12031</th>\n",
       "      <td>Monday</td>\n",
       "      <td>502</td>\n",
       "      <td>242</td>\n",
       "    </tr>\n",
       "    <tr>\n",
       "      <th>14453</th>\n",
       "      <td>Friday</td>\n",
       "      <td>502</td>\n",
       "      <td>277</td>\n",
       "    </tr>\n",
       "  </tbody>\n",
       "</table>\n",
       "</div>"
      ],
      "text/plain": [
       "        day_name  대여소번호  size\n",
       "0      Wednesday    502   282\n",
       "2402     Tuesday    502   267\n",
       "4801    Thursday   2715   137\n",
       "7197      Sunday    502   372\n",
       "9611    Saturday    502   378\n",
       "12031     Monday    502   242\n",
       "14453     Friday    502   277"
      ]
     },
     "execution_count": 76,
     "metadata": {},
     "output_type": "execute_result"
    }
   ],
   "source": [
    "result.drop_duplicates('day_name', keep='first')"
   ]
  },
  {
   "cell_type": "markdown",
   "id": "68d546e0",
   "metadata": {},
   "source": [
    "**Question 34. 나이대별 대여구분 코드의 (일일권/전체횟수) 비율을 구한 후 가장 높은 비율을 가지는 나이대를 확인하라. 일일권의 경우 일일권 과 일일권(비회원)을 모두 포함하라**"
   ]
  },
  {
   "cell_type": "code",
   "execution_count": 77,
   "id": "a33bbb44",
   "metadata": {},
   "outputs": [
    {
     "name": "stdout",
     "output_type": "stream",
     "text": [
      "~10대    0.312525\n",
      "20대     0.239913\n",
      "30대     0.166702\n",
      "40대     0.110585\n",
      "50대     0.065414\n",
      "70대~    0.048962\n",
      "60대     0.042462\n",
      "Name: 연령대코드, dtype: float64\n",
      "max ratio age ~10대\n"
     ]
    }
   ],
   "source": [
    "daily = df[df.대여구분코드.isin(['일일권', '일일권(비회원)'])].연령대코드.value_counts().sort_index()\n",
    "total = df.연령대코드.value_counts().sort_index()\n",
    "\n",
    "ratio = (daily / total).sort_values(ascending=False)\n",
    "\n",
    "print(ratio)\n",
    "print('max ratio age', ratio.index[0])"
   ]
  },
  {
   "cell_type": "markdown",
   "id": "9e91ae66",
   "metadata": {},
   "source": [
    "**Question 35. 연령대별 평균 이동거리를 구하여라**"
   ]
  },
  {
   "cell_type": "code",
   "execution_count": 78,
   "id": "f0e5048a",
   "metadata": {},
   "outputs": [
    {
     "data": {
      "text/html": [
       "<div>\n",
       "<style scoped>\n",
       "    .dataframe tbody tr th:only-of-type {\n",
       "        vertical-align: middle;\n",
       "    }\n",
       "\n",
       "    .dataframe tbody tr th {\n",
       "        vertical-align: top;\n",
       "    }\n",
       "\n",
       "    .dataframe thead th {\n",
       "        text-align: right;\n",
       "    }\n",
       "</style>\n",
       "<table border=\"1\" class=\"dataframe\">\n",
       "  <thead>\n",
       "    <tr style=\"text-align: right;\">\n",
       "      <th></th>\n",
       "      <th>이동거리</th>\n",
       "    </tr>\n",
       "    <tr>\n",
       "      <th>연령대코드</th>\n",
       "      <th></th>\n",
       "    </tr>\n",
       "  </thead>\n",
       "  <tbody>\n",
       "    <tr>\n",
       "      <th>20대</th>\n",
       "      <td>3211.890552</td>\n",
       "    </tr>\n",
       "    <tr>\n",
       "      <th>30대</th>\n",
       "      <td>3341.443859</td>\n",
       "    </tr>\n",
       "    <tr>\n",
       "      <th>40대</th>\n",
       "      <td>3514.857416</td>\n",
       "    </tr>\n",
       "    <tr>\n",
       "      <th>50대</th>\n",
       "      <td>3593.668100</td>\n",
       "    </tr>\n",
       "    <tr>\n",
       "      <th>60대</th>\n",
       "      <td>3538.145737</td>\n",
       "    </tr>\n",
       "    <tr>\n",
       "      <th>70대~</th>\n",
       "      <td>3085.039641</td>\n",
       "    </tr>\n",
       "    <tr>\n",
       "      <th>~10대</th>\n",
       "      <td>2634.426279</td>\n",
       "    </tr>\n",
       "  </tbody>\n",
       "</table>\n",
       "</div>"
      ],
      "text/plain": [
       "              이동거리\n",
       "연령대코드             \n",
       "20대    3211.890552\n",
       "30대    3341.443859\n",
       "40대    3514.857416\n",
       "50대    3593.668100\n",
       "60대    3538.145737\n",
       "70대~   3085.039641\n",
       "~10대   2634.426279"
      ]
     },
     "execution_count": 78,
     "metadata": {},
     "output_type": "execute_result"
    }
   ],
   "source": [
    "df[['연령대코드', '이동거리']].groupby(['연령대코드']).mean()"
   ]
  },
  {
   "cell_type": "markdown",
   "id": "83883ab0",
   "metadata": {},
   "source": [
    "**Question 36. 연령대 코드가 20대인 데이터를 추출하고, 이동거리값이 추출한 데이터의 이동거리값의 평균 이상인 데이터를 추출한다. 최종 추출된 데이터를 대여일자, 대여소 번호 순서로 내림차순 정렬 후 1행부터 200행까지의 탄소량의 평균을 소숫점 3째 자리까지 구하여라**"
   ]
  },
  {
   "cell_type": "code",
   "execution_count": 79,
   "id": "8e5bc922",
   "metadata": {},
   "outputs": [
    {
     "data": {
      "text/plain": [
       "1.613"
      ]
     },
     "execution_count": 79,
     "metadata": {},
     "output_type": "execute_result"
    }
   ],
   "source": [
    "tw = df[df.연령대코드=='20대'].reset_index(drop=True)\n",
    "\n",
    "tw_mean = tw[tw.이동거리>=tw.이동거리.mean()].reset_index(drop=True)\n",
    "tw_mean['탄소량'] = tw_mean['탄소량'].astype('float')\n",
    "\n",
    "target = tw_mean.sort_values(['대여일자', '대여소번호'], ascending=False).reset_index(drop=True).iloc[:200].탄소량\n",
    "\n",
    "result = round(target.sum()/len(target), 3)\n",
    "result"
   ]
  },
  {
   "cell_type": "markdown",
   "id": "123b14f4",
   "metadata": {},
   "source": [
    "**Question 37. 6월 7일 ~10대의 “이용건수”의 중앙값은?**"
   ]
  },
  {
   "cell_type": "code",
   "execution_count": 80,
   "id": "c6619fb4",
   "metadata": {},
   "outputs": [
    {
     "data": {
      "text/plain": [
       "1.0"
      ]
     },
     "execution_count": 80,
     "metadata": {},
     "output_type": "execute_result"
    }
   ],
   "source": [
    "target = df[df['대여일자']=='2021-06-07'][['연령대코드', '이용건수']]\n",
    "target.이용건수.median()"
   ]
  },
  {
   "cell_type": "code",
   "execution_count": 81,
   "id": "9eaaea9a",
   "metadata": {},
   "outputs": [],
   "source": [
    "# df[(df.연령대코드 == '~10대') & (df.대여일자 == pd.to_datetime('2021-06-07'))].이용건수.median()"
   ]
  },
  {
   "cell_type": "markdown",
   "id": "1bebad0c",
   "metadata": {},
   "source": [
    "**Question 38. 평일 (월~금) 출근 시간대(오전 6, 7, 8시)의 대여소별 이용 횟수를 구해서 데이터 프레임 형태로 표현한 후 각 대여시간별 이용 횟수의 상위 3개 대여소와 이용횟수를 출력하라**"
   ]
  },
  {
   "cell_type": "code",
   "execution_count": 82,
   "id": "37df8692",
   "metadata": {},
   "outputs": [
    {
     "data": {
      "text/html": [
       "<div>\n",
       "<style scoped>\n",
       "    .dataframe tbody tr th:only-of-type {\n",
       "        vertical-align: middle;\n",
       "    }\n",
       "\n",
       "    .dataframe tbody tr th {\n",
       "        vertical-align: top;\n",
       "    }\n",
       "\n",
       "    .dataframe thead th {\n",
       "        text-align: right;\n",
       "    }\n",
       "</style>\n",
       "<table border=\"1\" class=\"dataframe\">\n",
       "  <thead>\n",
       "    <tr style=\"text-align: right;\">\n",
       "      <th></th>\n",
       "      <th></th>\n",
       "      <th>이용 횟수</th>\n",
       "    </tr>\n",
       "    <tr>\n",
       "      <th>대여시간</th>\n",
       "      <th>대여소번호</th>\n",
       "      <th></th>\n",
       "    </tr>\n",
       "  </thead>\n",
       "  <tbody>\n",
       "    <tr>\n",
       "      <th rowspan=\"3\" valign=\"top\">8</th>\n",
       "      <th>2701</th>\n",
       "      <td>119</td>\n",
       "    </tr>\n",
       "    <tr>\n",
       "      <th>646</th>\n",
       "      <td>115</td>\n",
       "    </tr>\n",
       "    <tr>\n",
       "      <th>1152</th>\n",
       "      <td>92</td>\n",
       "    </tr>\n",
       "    <tr>\n",
       "      <th rowspan=\"3\" valign=\"top\">7</th>\n",
       "      <th>259</th>\n",
       "      <td>104</td>\n",
       "    </tr>\n",
       "    <tr>\n",
       "      <th>230</th>\n",
       "      <td>77</td>\n",
       "    </tr>\n",
       "    <tr>\n",
       "      <th>726</th>\n",
       "      <td>77</td>\n",
       "    </tr>\n",
       "    <tr>\n",
       "      <th rowspan=\"3\" valign=\"top\">6</th>\n",
       "      <th>2744</th>\n",
       "      <td>45</td>\n",
       "    </tr>\n",
       "    <tr>\n",
       "      <th>1125</th>\n",
       "      <td>40</td>\n",
       "    </tr>\n",
       "    <tr>\n",
       "      <th>1028</th>\n",
       "      <td>36</td>\n",
       "    </tr>\n",
       "  </tbody>\n",
       "</table>\n",
       "</div>"
      ],
      "text/plain": [
       "            이용 횟수\n",
       "대여시간 대여소번호       \n",
       "8    2701     119\n",
       "     646      115\n",
       "     1152      92\n",
       "7    259      104\n",
       "     230       77\n",
       "     726       77\n",
       "6    2744      45\n",
       "     1125      40\n",
       "     1028      36"
      ]
     },
     "execution_count": 82,
     "metadata": {},
     "output_type": "execute_result"
    }
   ],
   "source": [
    "target = df[(df.day_name.isin(['Tuesday', 'Wednesday', 'Thursday', 'Friday', 'Monday'])) & (df.대여시간.isin([6, 7, 8]))]\n",
    "result = target.groupby(['대여시간', '대여소번호']).size().to_frame('이용 횟수')\n",
    "result.sort_values(['대여시간', '이용 횟수'], ascending=False).groupby('대여시간').head(3)"
   ]
  },
  {
   "cell_type": "markdown",
   "id": "ee8b815e",
   "metadata": {},
   "source": [
    "**Question 39. 이동거리의 평균 이상의 이동거리 값을 가지는 데이터를 추출하여 추출데이터의 이동거리의 표본표준편차 값을 구하여라**"
   ]
  },
  {
   "cell_type": "code",
   "execution_count": 83,
   "id": "b9b6e8f4",
   "metadata": {},
   "outputs": [
    {
     "data": {
      "text/plain": [
       "5092.139707505305"
      ]
     },
     "execution_count": 83,
     "metadata": {},
     "output_type": "execute_result"
    }
   ],
   "source": [
    "df[df['이동거리']>=df['이동거리'].mean()]['이동거리'].std()"
   ]
  },
  {
   "cell_type": "markdown",
   "id": "597138e4",
   "metadata": {},
   "source": [
    "**Question 40. 남성(‘M’ or ‘m’)과 여성(‘F’ or ‘f’)의 이동거리값의 평균값을 구하여라**"
   ]
  },
  {
   "cell_type": "code",
   "execution_count": 84,
   "id": "b80c479b",
   "metadata": {},
   "outputs": [
    {
     "data": {
      "text/html": [
       "<div>\n",
       "<style scoped>\n",
       "    .dataframe tbody tr th:only-of-type {\n",
       "        vertical-align: middle;\n",
       "    }\n",
       "\n",
       "    .dataframe tbody tr th {\n",
       "        vertical-align: top;\n",
       "    }\n",
       "\n",
       "    .dataframe thead th {\n",
       "        text-align: right;\n",
       "    }\n",
       "</style>\n",
       "<table border=\"1\" class=\"dataframe\">\n",
       "  <thead>\n",
       "    <tr style=\"text-align: right;\">\n",
       "      <th></th>\n",
       "      <th>이동거리</th>\n",
       "    </tr>\n",
       "    <tr>\n",
       "      <th>sex</th>\n",
       "      <th></th>\n",
       "    </tr>\n",
       "  </thead>\n",
       "  <tbody>\n",
       "    <tr>\n",
       "      <th>남</th>\n",
       "      <td>3209.110871</td>\n",
       "    </tr>\n",
       "    <tr>\n",
       "      <th>여</th>\n",
       "      <td>3468.575025</td>\n",
       "    </tr>\n",
       "  </tbody>\n",
       "</table>\n",
       "</div>"
      ],
      "text/plain": [
       "            이동거리\n",
       "sex             \n",
       "남    3209.110871\n",
       "여    3468.575025"
      ]
     },
     "execution_count": 84,
     "metadata": {},
     "output_type": "execute_result"
    }
   ],
   "source": [
    "df['sex'] = df['성별'].map(lambda x: '여' if x=='F' or x=='f' else '남')\n",
    "df[['sex', '이동거리']].groupby(['sex']).mean()"
   ]
  },
  {
   "cell_type": "code",
   "execution_count": 85,
   "id": "0f13a4cf",
   "metadata": {},
   "outputs": [],
   "source": [
    "# df['sex'] = df['성별'].map(lambda x: '남' if x in ['M','m'] else '여')"
   ]
  },
  {
   "cell_type": "markdown",
   "id": "ecd3d174",
   "metadata": {},
   "source": [
    "# 전세계 행복도 지표 데이터"
   ]
  },
  {
   "cell_type": "code",
   "execution_count": 86,
   "id": "cc8b0a2a",
   "metadata": {},
   "outputs": [],
   "source": [
    "df = pd.read_csv('https://raw.githubusercontent.com/Datamanim/datarepo/main/happy2/happiness.csv',encoding='utf-8')"
   ]
  },
  {
   "cell_type": "code",
   "execution_count": 87,
   "id": "326edbf2",
   "metadata": {},
   "outputs": [
    {
     "data": {
      "text/html": [
       "<div>\n",
       "<style scoped>\n",
       "    .dataframe tbody tr th:only-of-type {\n",
       "        vertical-align: middle;\n",
       "    }\n",
       "\n",
       "    .dataframe tbody tr th {\n",
       "        vertical-align: top;\n",
       "    }\n",
       "\n",
       "    .dataframe thead th {\n",
       "        text-align: right;\n",
       "    }\n",
       "</style>\n",
       "<table border=\"1\" class=\"dataframe\">\n",
       "  <thead>\n",
       "    <tr style=\"text-align: right;\">\n",
       "      <th></th>\n",
       "      <th>행복랭킹</th>\n",
       "      <th>나라명</th>\n",
       "      <th>점수</th>\n",
       "      <th>상대GDP</th>\n",
       "      <th>사회적지원</th>\n",
       "      <th>행복기대치</th>\n",
       "      <th>선택의 자유도</th>\n",
       "      <th>관대함</th>\n",
       "      <th>부패에 대한인식</th>\n",
       "      <th>년도</th>\n",
       "    </tr>\n",
       "  </thead>\n",
       "  <tbody>\n",
       "    <tr>\n",
       "      <th>0</th>\n",
       "      <td>1</td>\n",
       "      <td>Finland</td>\n",
       "      <td>7.769</td>\n",
       "      <td>1.340</td>\n",
       "      <td>1.587</td>\n",
       "      <td>0.986</td>\n",
       "      <td>0.596</td>\n",
       "      <td>0.153</td>\n",
       "      <td>0.393</td>\n",
       "      <td>2019</td>\n",
       "    </tr>\n",
       "    <tr>\n",
       "      <th>1</th>\n",
       "      <td>2</td>\n",
       "      <td>Denmark</td>\n",
       "      <td>7.600</td>\n",
       "      <td>1.383</td>\n",
       "      <td>1.573</td>\n",
       "      <td>0.996</td>\n",
       "      <td>0.592</td>\n",
       "      <td>0.252</td>\n",
       "      <td>0.410</td>\n",
       "      <td>2019</td>\n",
       "    </tr>\n",
       "    <tr>\n",
       "      <th>2</th>\n",
       "      <td>3</td>\n",
       "      <td>Norway</td>\n",
       "      <td>7.554</td>\n",
       "      <td>1.488</td>\n",
       "      <td>1.582</td>\n",
       "      <td>1.028</td>\n",
       "      <td>0.603</td>\n",
       "      <td>0.271</td>\n",
       "      <td>0.341</td>\n",
       "      <td>2019</td>\n",
       "    </tr>\n",
       "    <tr>\n",
       "      <th>3</th>\n",
       "      <td>4</td>\n",
       "      <td>Iceland</td>\n",
       "      <td>7.494</td>\n",
       "      <td>1.380</td>\n",
       "      <td>1.624</td>\n",
       "      <td>1.026</td>\n",
       "      <td>0.591</td>\n",
       "      <td>0.354</td>\n",
       "      <td>0.118</td>\n",
       "      <td>2019</td>\n",
       "    </tr>\n",
       "    <tr>\n",
       "      <th>4</th>\n",
       "      <td>5</td>\n",
       "      <td>Netherlands</td>\n",
       "      <td>7.488</td>\n",
       "      <td>1.396</td>\n",
       "      <td>1.522</td>\n",
       "      <td>0.999</td>\n",
       "      <td>0.557</td>\n",
       "      <td>0.322</td>\n",
       "      <td>0.298</td>\n",
       "      <td>2019</td>\n",
       "    </tr>\n",
       "  </tbody>\n",
       "</table>\n",
       "</div>"
      ],
      "text/plain": [
       "   행복랭킹          나라명     점수  상대GDP  사회적지원  행복기대치  선택의 자유도    관대함  부패에 대한인식  \\\n",
       "0     1      Finland  7.769  1.340  1.587  0.986    0.596  0.153     0.393   \n",
       "1     2      Denmark  7.600  1.383  1.573  0.996    0.592  0.252     0.410   \n",
       "2     3       Norway  7.554  1.488  1.582  1.028    0.603  0.271     0.341   \n",
       "3     4      Iceland  7.494  1.380  1.624  1.026    0.591  0.354     0.118   \n",
       "4     5  Netherlands  7.488  1.396  1.522  0.999    0.557  0.322     0.298   \n",
       "\n",
       "     년도  \n",
       "0  2019  \n",
       "1  2019  \n",
       "2  2019  \n",
       "3  2019  \n",
       "4  2019  "
      ]
     },
     "execution_count": 87,
     "metadata": {},
     "output_type": "execute_result"
    }
   ],
   "source": [
    "df.head()"
   ]
  },
  {
   "cell_type": "markdown",
   "id": "57ff1586",
   "metadata": {},
   "source": [
    "**Question 41. 데이터는 2018년도와 2019년도의 전세계 행복 지수를 표현한다. 각 년도의 행복랭킹 10위를 차지한 나라의 행복점수의 평균을 구하여라**"
   ]
  },
  {
   "cell_type": "code",
   "execution_count": 88,
   "id": "6dce347f",
   "metadata": {},
   "outputs": [
    {
     "data": {
      "text/plain": [
       "7.259"
      ]
     },
     "execution_count": 88,
     "metadata": {},
     "output_type": "execute_result"
    }
   ],
   "source": [
    "df[df['행복랭킹']==10]['점수'].mean()"
   ]
  },
  {
   "cell_type": "markdown",
   "id": "56747a3d",
   "metadata": {},
   "source": [
    "**Question 42. 각 년도의 행복랭킹 50위 이내의 나라들의 각각의 행복점수 평균을 데이터프레임으로 표시하라**"
   ]
  },
  {
   "cell_type": "code",
   "execution_count": 89,
   "id": "c9135036",
   "metadata": {},
   "outputs": [
    {
     "data": {
      "text/html": [
       "<div>\n",
       "<style scoped>\n",
       "    .dataframe tbody tr th:only-of-type {\n",
       "        vertical-align: middle;\n",
       "    }\n",
       "\n",
       "    .dataframe tbody tr th {\n",
       "        vertical-align: top;\n",
       "    }\n",
       "\n",
       "    .dataframe thead th {\n",
       "        text-align: right;\n",
       "    }\n",
       "</style>\n",
       "<table border=\"1\" class=\"dataframe\">\n",
       "  <thead>\n",
       "    <tr style=\"text-align: right;\">\n",
       "      <th></th>\n",
       "      <th>점수</th>\n",
       "    </tr>\n",
       "    <tr>\n",
       "      <th>년도</th>\n",
       "      <th></th>\n",
       "    </tr>\n",
       "  </thead>\n",
       "  <tbody>\n",
       "    <tr>\n",
       "      <th>2018</th>\n",
       "      <td>6.64678</td>\n",
       "    </tr>\n",
       "    <tr>\n",
       "      <th>2019</th>\n",
       "      <td>6.67002</td>\n",
       "    </tr>\n",
       "  </tbody>\n",
       "</table>\n",
       "</div>"
      ],
      "text/plain": [
       "           점수\n",
       "년도           \n",
       "2018  6.64678\n",
       "2019  6.67002"
      ]
     },
     "execution_count": 89,
     "metadata": {},
     "output_type": "execute_result"
    }
   ],
   "source": [
    "df[df['행복랭킹']<=50][['년도', '점수']].groupby('년도').mean()"
   ]
  },
  {
   "cell_type": "markdown",
   "id": "cd032e3e",
   "metadata": {},
   "source": [
    "**Question 43. 2018년도 데이터들만 추출하여 행복점수와 부패에 대한 인식에 대한 상관계수를 구하여라**"
   ]
  },
  {
   "cell_type": "code",
   "execution_count": 90,
   "id": "2f54ff32",
   "metadata": {},
   "outputs": [
    {
     "data": {
      "text/plain": [
       "0.40529152271510027"
      ]
     },
     "execution_count": 90,
     "metadata": {},
     "output_type": "execute_result"
    }
   ],
   "source": [
    "df[df['년도']==2018][['점수', '부패에 대한인식']].corr().iloc[0, 1]"
   ]
  },
  {
   "cell_type": "markdown",
   "id": "dbb85a8c",
   "metadata": {},
   "source": [
    "**Question 44. 2018년도와 2019년도의 행복랭킹이 변화하지 않은 나라명의 수를 구하여라**"
   ]
  },
  {
   "cell_type": "code",
   "execution_count": 91,
   "id": "93c3cf13",
   "metadata": {},
   "outputs": [
    {
     "data": {
      "text/plain": [
       "15"
      ]
     },
     "execution_count": 91,
     "metadata": {},
     "output_type": "execute_result"
    }
   ],
   "source": [
    "len(df[['행복랭킹', '나라명']]) - len(df[['행복랭킹', '나라명']].drop_duplicates())"
   ]
  },
  {
   "cell_type": "markdown",
   "id": "03d33ef9",
   "metadata": {},
   "source": [
    "**Quesiton 45. 2019년도 데이터들만 추출하여 각 변수 간 상관계수를 구하고, 내림차순으로 정렬한 후 상위 5개를 데이터 프레임으로 출력하라. 컬럼명은 v1, v2, corr으로 표시하라**"
   ]
  },
  {
   "cell_type": "code",
   "execution_count": 92,
   "id": "7a019b18",
   "metadata": {},
   "outputs": [
    {
     "data": {
      "text/html": [
       "<div>\n",
       "<style scoped>\n",
       "    .dataframe tbody tr th:only-of-type {\n",
       "        vertical-align: middle;\n",
       "    }\n",
       "\n",
       "    .dataframe tbody tr th {\n",
       "        vertical-align: top;\n",
       "    }\n",
       "\n",
       "    .dataframe thead th {\n",
       "        text-align: right;\n",
       "    }\n",
       "</style>\n",
       "<table border=\"1\" class=\"dataframe\">\n",
       "  <thead>\n",
       "    <tr style=\"text-align: right;\">\n",
       "      <th></th>\n",
       "      <th>v1</th>\n",
       "      <th>v2</th>\n",
       "      <th>corr</th>\n",
       "    </tr>\n",
       "  </thead>\n",
       "  <tbody>\n",
       "    <tr>\n",
       "      <th>0</th>\n",
       "      <td>행복기대치</td>\n",
       "      <td>상대GDP</td>\n",
       "      <td>0.835462</td>\n",
       "    </tr>\n",
       "    <tr>\n",
       "      <th>1</th>\n",
       "      <td>상대GDP</td>\n",
       "      <td>점수</td>\n",
       "      <td>0.793883</td>\n",
       "    </tr>\n",
       "    <tr>\n",
       "      <th>2</th>\n",
       "      <td>행복기대치</td>\n",
       "      <td>점수</td>\n",
       "      <td>0.779883</td>\n",
       "    </tr>\n",
       "    <tr>\n",
       "      <th>3</th>\n",
       "      <td>사회적지원</td>\n",
       "      <td>점수</td>\n",
       "      <td>0.777058</td>\n",
       "    </tr>\n",
       "    <tr>\n",
       "      <th>4</th>\n",
       "      <td>사회적지원</td>\n",
       "      <td>상대GDP</td>\n",
       "      <td>0.754906</td>\n",
       "    </tr>\n",
       "  </tbody>\n",
       "</table>\n",
       "</div>"
      ],
      "text/plain": [
       "      v1     v2      corr\n",
       "0  행복기대치  상대GDP  0.835462\n",
       "1  상대GDP     점수  0.793883\n",
       "2  행복기대치     점수  0.779883\n",
       "3  사회적지원     점수  0.777058\n",
       "4  사회적지원  상대GDP  0.754906"
      ]
     },
     "metadata": {},
     "output_type": "display_data"
    }
   ],
   "source": [
    "corr2019 = df[df['년도']==2019].corr(numeric_only=True).unstack().to_frame().reset_index().dropna()\n",
    "\n",
    "result = corr2019[corr2019[0]!=1].sort_values(0, ascending=False).drop_duplicates(0)\n",
    "\n",
    "answer = result.head(5).reset_index(drop=True)\n",
    "answer.columns = ['v1', 'v2', 'corr']\n",
    "\n",
    "display(answer)"
   ]
  },
  {
   "cell_type": "code",
   "execution_count": 93,
   "id": "04d57312",
   "metadata": {},
   "outputs": [
    {
     "data": {
      "text/html": [
       "<div>\n",
       "<style scoped>\n",
       "    .dataframe tbody tr th:only-of-type {\n",
       "        vertical-align: middle;\n",
       "    }\n",
       "\n",
       "    .dataframe tbody tr th {\n",
       "        vertical-align: top;\n",
       "    }\n",
       "\n",
       "    .dataframe thead th {\n",
       "        text-align: right;\n",
       "    }\n",
       "</style>\n",
       "<table border=\"1\" class=\"dataframe\">\n",
       "  <thead>\n",
       "    <tr style=\"text-align: right;\">\n",
       "      <th></th>\n",
       "      <th>행복랭킹</th>\n",
       "      <th>점수</th>\n",
       "      <th>상대GDP</th>\n",
       "      <th>사회적지원</th>\n",
       "      <th>행복기대치</th>\n",
       "      <th>선택의 자유도</th>\n",
       "      <th>관대함</th>\n",
       "      <th>부패에 대한인식</th>\n",
       "      <th>년도</th>\n",
       "    </tr>\n",
       "  </thead>\n",
       "  <tbody>\n",
       "    <tr>\n",
       "      <th>행복랭킹</th>\n",
       "      <td>1.000000</td>\n",
       "      <td>-0.989096</td>\n",
       "      <td>-0.801947</td>\n",
       "      <td>-0.767465</td>\n",
       "      <td>-0.787411</td>\n",
       "      <td>-0.546606</td>\n",
       "      <td>-0.047993</td>\n",
       "      <td>-0.351959</td>\n",
       "      <td>NaN</td>\n",
       "    </tr>\n",
       "    <tr>\n",
       "      <th>점수</th>\n",
       "      <td>-0.989096</td>\n",
       "      <td>1.000000</td>\n",
       "      <td>0.793883</td>\n",
       "      <td>0.777058</td>\n",
       "      <td>0.779883</td>\n",
       "      <td>0.566742</td>\n",
       "      <td>0.075824</td>\n",
       "      <td>0.385613</td>\n",
       "      <td>NaN</td>\n",
       "    </tr>\n",
       "    <tr>\n",
       "      <th>상대GDP</th>\n",
       "      <td>-0.801947</td>\n",
       "      <td>0.793883</td>\n",
       "      <td>1.000000</td>\n",
       "      <td>0.754906</td>\n",
       "      <td>0.835462</td>\n",
       "      <td>0.379079</td>\n",
       "      <td>-0.079662</td>\n",
       "      <td>0.298920</td>\n",
       "      <td>NaN</td>\n",
       "    </tr>\n",
       "    <tr>\n",
       "      <th>사회적지원</th>\n",
       "      <td>-0.767465</td>\n",
       "      <td>0.777058</td>\n",
       "      <td>0.754906</td>\n",
       "      <td>1.000000</td>\n",
       "      <td>0.719009</td>\n",
       "      <td>0.447333</td>\n",
       "      <td>-0.048126</td>\n",
       "      <td>0.181899</td>\n",
       "      <td>NaN</td>\n",
       "    </tr>\n",
       "    <tr>\n",
       "      <th>행복기대치</th>\n",
       "      <td>-0.787411</td>\n",
       "      <td>0.779883</td>\n",
       "      <td>0.835462</td>\n",
       "      <td>0.719009</td>\n",
       "      <td>1.000000</td>\n",
       "      <td>0.390395</td>\n",
       "      <td>-0.029511</td>\n",
       "      <td>0.295283</td>\n",
       "      <td>NaN</td>\n",
       "    </tr>\n",
       "    <tr>\n",
       "      <th>선택의 자유도</th>\n",
       "      <td>-0.546606</td>\n",
       "      <td>0.566742</td>\n",
       "      <td>0.379079</td>\n",
       "      <td>0.447333</td>\n",
       "      <td>0.390395</td>\n",
       "      <td>1.000000</td>\n",
       "      <td>0.269742</td>\n",
       "      <td>0.438843</td>\n",
       "      <td>NaN</td>\n",
       "    </tr>\n",
       "    <tr>\n",
       "      <th>관대함</th>\n",
       "      <td>-0.047993</td>\n",
       "      <td>0.075824</td>\n",
       "      <td>-0.079662</td>\n",
       "      <td>-0.048126</td>\n",
       "      <td>-0.029511</td>\n",
       "      <td>0.269742</td>\n",
       "      <td>1.000000</td>\n",
       "      <td>0.326538</td>\n",
       "      <td>NaN</td>\n",
       "    </tr>\n",
       "    <tr>\n",
       "      <th>부패에 대한인식</th>\n",
       "      <td>-0.351959</td>\n",
       "      <td>0.385613</td>\n",
       "      <td>0.298920</td>\n",
       "      <td>0.181899</td>\n",
       "      <td>0.295283</td>\n",
       "      <td>0.438843</td>\n",
       "      <td>0.326538</td>\n",
       "      <td>1.000000</td>\n",
       "      <td>NaN</td>\n",
       "    </tr>\n",
       "    <tr>\n",
       "      <th>년도</th>\n",
       "      <td>NaN</td>\n",
       "      <td>NaN</td>\n",
       "      <td>NaN</td>\n",
       "      <td>NaN</td>\n",
       "      <td>NaN</td>\n",
       "      <td>NaN</td>\n",
       "      <td>NaN</td>\n",
       "      <td>NaN</td>\n",
       "      <td>NaN</td>\n",
       "    </tr>\n",
       "  </tbody>\n",
       "</table>\n",
       "</div>"
      ],
      "text/plain": [
       "              행복랭킹        점수     상대GDP     사회적지원     행복기대치   선택의 자유도  \\\n",
       "행복랭킹      1.000000 -0.989096 -0.801947 -0.767465 -0.787411 -0.546606   \n",
       "점수       -0.989096  1.000000  0.793883  0.777058  0.779883  0.566742   \n",
       "상대GDP    -0.801947  0.793883  1.000000  0.754906  0.835462  0.379079   \n",
       "사회적지원    -0.767465  0.777058  0.754906  1.000000  0.719009  0.447333   \n",
       "행복기대치    -0.787411  0.779883  0.835462  0.719009  1.000000  0.390395   \n",
       "선택의 자유도  -0.546606  0.566742  0.379079  0.447333  0.390395  1.000000   \n",
       "관대함      -0.047993  0.075824 -0.079662 -0.048126 -0.029511  0.269742   \n",
       "부패에 대한인식 -0.351959  0.385613  0.298920  0.181899  0.295283  0.438843   \n",
       "년도             NaN       NaN       NaN       NaN       NaN       NaN   \n",
       "\n",
       "               관대함  부패에 대한인식  년도  \n",
       "행복랭킹     -0.047993 -0.351959 NaN  \n",
       "점수        0.075824  0.385613 NaN  \n",
       "상대GDP    -0.079662  0.298920 NaN  \n",
       "사회적지원    -0.048126  0.181899 NaN  \n",
       "행복기대치    -0.029511  0.295283 NaN  \n",
       "선택의 자유도   0.269742  0.438843 NaN  \n",
       "관대함       1.000000  0.326538 NaN  \n",
       "부패에 대한인식  0.326538  1.000000 NaN  \n",
       "년도             NaN       NaN NaN  "
      ]
     },
     "execution_count": 93,
     "metadata": {},
     "output_type": "execute_result"
    }
   ],
   "source": [
    "df[df['년도']==2019].corr(numeric_only=True)"
   ]
  },
  {
   "cell_type": "code",
   "execution_count": 94,
   "id": "0b8d05ac",
   "metadata": {},
   "outputs": [
    {
     "data": {
      "text/plain": [
       "행복랭킹  행복랭킹        1.000000\n",
       "      점수         -0.989096\n",
       "      상대GDP      -0.801947\n",
       "      사회적지원      -0.767465\n",
       "      행복기대치      -0.787411\n",
       "                    ...   \n",
       "년도    행복기대치            NaN\n",
       "      선택의 자유도          NaN\n",
       "      관대함              NaN\n",
       "      부패에 대한인식         NaN\n",
       "      년도               NaN\n",
       "Length: 81, dtype: float64"
      ]
     },
     "execution_count": 94,
     "metadata": {},
     "output_type": "execute_result"
    }
   ],
   "source": [
    "df[df['년도']==2019].corr(numeric_only=True).unstack()"
   ]
  },
  {
   "cell_type": "markdown",
   "id": "3bdbede4",
   "metadata": {},
   "source": [
    "**Question 46. 각 년도별 하위 행복점수의 하위 5개 국가의 평균 행복점수를 구하여라**"
   ]
  },
  {
   "cell_type": "code",
   "execution_count": 95,
   "id": "50378b8f",
   "metadata": {},
   "outputs": [
    {
     "data": {
      "text/html": [
       "<div>\n",
       "<style scoped>\n",
       "    .dataframe tbody tr th:only-of-type {\n",
       "        vertical-align: middle;\n",
       "    }\n",
       "\n",
       "    .dataframe tbody tr th {\n",
       "        vertical-align: top;\n",
       "    }\n",
       "\n",
       "    .dataframe thead th {\n",
       "        text-align: right;\n",
       "    }\n",
       "</style>\n",
       "<table border=\"1\" class=\"dataframe\">\n",
       "  <thead>\n",
       "    <tr style=\"text-align: right;\">\n",
       "      <th></th>\n",
       "      <th>점수</th>\n",
       "    </tr>\n",
       "    <tr>\n",
       "      <th>년도</th>\n",
       "      <th></th>\n",
       "    </tr>\n",
       "  </thead>\n",
       "  <tbody>\n",
       "    <tr>\n",
       "      <th>2018</th>\n",
       "      <td>3.1800</td>\n",
       "    </tr>\n",
       "    <tr>\n",
       "      <th>2019</th>\n",
       "      <td>3.1408</td>\n",
       "    </tr>\n",
       "  </tbody>\n",
       "</table>\n",
       "</div>"
      ],
      "text/plain": [
       "          점수\n",
       "년도          \n",
       "2018  3.1800\n",
       "2019  3.1408"
      ]
     },
     "execution_count": 95,
     "metadata": {},
     "output_type": "execute_result"
    }
   ],
   "source": [
    "df.groupby('년도').tail(5).groupby('년도').mean(numeric_only=True)[['점수']]"
   ]
  },
  {
   "cell_type": "markdown",
   "id": "49a81917",
   "metadata": {},
   "source": [
    "**Question 47. 2019년 데이터를 추출하고 해당데이터의 상대 GDP 평균 이상의 나라들과 평균 이하의 나라들의 행복점수 평균을 각각 구하고 그 차이값을 출력하라**"
   ]
  },
  {
   "cell_type": "code",
   "execution_count": 96,
   "id": "f8684367",
   "metadata": {},
   "outputs": [
    {
     "name": "stdout",
     "output_type": "stream",
     "text": [
      "1.390483957219251\n"
     ]
    }
   ],
   "source": [
    "target = df[df['년도']==2019]\n",
    "\n",
    "over = target[target.상대GDP >= target.상대GDP.mean()]['점수'].mean()\n",
    "under = target[target.상대GDP <= target.상대GDP.mean()]['점수'].mean()\n",
    "\n",
    "print(over-under)"
   ]
  },
  {
   "cell_type": "markdown",
   "id": "f25b3681",
   "metadata": {},
   "source": [
    "**Question 48. 각 년도의 부패에 대한 인식을 내림차순 정렬했을 때 상위 20개 국가의 부패에 대한인식의 평균을 구하여라**"
   ]
  },
  {
   "cell_type": "code",
   "execution_count": 97,
   "id": "7fde691d",
   "metadata": {},
   "outputs": [
    {
     "data": {
      "text/html": [
       "<div>\n",
       "<style scoped>\n",
       "    .dataframe tbody tr th:only-of-type {\n",
       "        vertical-align: middle;\n",
       "    }\n",
       "\n",
       "    .dataframe tbody tr th {\n",
       "        vertical-align: top;\n",
       "    }\n",
       "\n",
       "    .dataframe thead th {\n",
       "        text-align: right;\n",
       "    }\n",
       "</style>\n",
       "<table border=\"1\" class=\"dataframe\">\n",
       "  <thead>\n",
       "    <tr style=\"text-align: right;\">\n",
       "      <th></th>\n",
       "      <th>부패에 대한인식</th>\n",
       "    </tr>\n",
       "    <tr>\n",
       "      <th>년도</th>\n",
       "      <th></th>\n",
       "    </tr>\n",
       "  </thead>\n",
       "  <tbody>\n",
       "    <tr>\n",
       "      <th>2018</th>\n",
       "      <td>0.3267</td>\n",
       "    </tr>\n",
       "    <tr>\n",
       "      <th>2019</th>\n",
       "      <td>0.3201</td>\n",
       "    </tr>\n",
       "  </tbody>\n",
       "</table>\n",
       "</div>"
      ],
      "text/plain": [
       "      부패에 대한인식\n",
       "년도            \n",
       "2018    0.3267\n",
       "2019    0.3201"
      ]
     },
     "execution_count": 97,
     "metadata": {},
     "output_type": "execute_result"
    }
   ],
   "source": [
    "df.sort_values(['년도', '부패에 대한인식'], ascending=False).groupby('년도').head(20).groupby('년도').mean(numeric_only=True)[['부패에 대한인식']]"
   ]
  },
  {
   "cell_type": "markdown",
   "id": "ff1edc1f",
   "metadata": {},
   "source": [
    "**Question 49. 2018년도 행복랭킹 50위 이내에 포함됐다가 2019년 50위 밖으로 밀려난 국가의 숫자를 구하여라**"
   ]
  },
  {
   "cell_type": "code",
   "execution_count": 98,
   "id": "1405e5ae",
   "metadata": {},
   "outputs": [
    {
     "data": {
      "text/plain": [
       "4"
      ]
     },
     "execution_count": 98,
     "metadata": {},
     "output_type": "execute_result"
    }
   ],
   "source": [
    "target18 = df[(df['년도']==2018) & (df['행복랭킹']<=50)]['나라명']\n",
    "target19 = df[(df['년도']==2019) & (df['행복랭킹']<=50)]['나라명']\n",
    "\n",
    "len(set(target18) - set(target19))"
   ]
  },
  {
   "cell_type": "code",
   "execution_count": 99,
   "id": "05c9151d",
   "metadata": {},
   "outputs": [
    {
     "data": {
      "text/plain": [
       "{'Belize', 'Kuwait', 'Malaysia', 'Thailand'}"
      ]
     },
     "execution_count": 99,
     "metadata": {},
     "output_type": "execute_result"
    }
   ],
   "source": [
    "set(target18) - set(target19)"
   ]
  },
  {
   "cell_type": "markdown",
   "id": "462f687e",
   "metadata": {},
   "source": [
    "**Question 50. 2018년, 2019년 모두 기록이 있는 나라들 중 년도별 행복점수가 가장 증가한 나라와 그 증가 수치는?**"
   ]
  },
  {
   "cell_type": "code",
   "execution_count": 100,
   "id": "c3bf0ba1",
   "metadata": {},
   "outputs": [
    {
     "data": {
      "text/plain": [
       "점수    0.87\n",
       "Name: Burundi, dtype: float64"
      ]
     },
     "execution_count": 100,
     "metadata": {},
     "output_type": "execute_result"
    }
   ],
   "source": [
    "count = df.나라명.value_counts()\n",
    "target = count[count>=2].index\n",
    "\n",
    "df2 = df.copy()\n",
    "mul = df2[df2.나라명.isin(target).reset_index(drop=True)]\n",
    "mul.loc[mul['년도']==2018, '점수'] = mul[mul.년도==2018]['점수'].values * (-1)\n",
    "result = mul.groupby('나라명').sum()['점수'].sort_values().to_frame().iloc[-1]\n",
    "result"
   ]
  },
  {
   "cell_type": "code",
   "execution_count": 101,
   "id": "3dc8c9b5",
   "metadata": {},
   "outputs": [
    {
     "data": {
      "text/plain": [
       "156   -7.632\n",
       "157   -7.594\n",
       "158   -7.555\n",
       "159   -7.495\n",
       "160   -7.487\n",
       "       ...  \n",
       "307   -3.355\n",
       "308   -3.303\n",
       "309   -3.254\n",
       "310   -3.083\n",
       "311   -2.905\n",
       "Name: 점수, Length: 152, dtype: float64"
      ]
     },
     "execution_count": 101,
     "metadata": {},
     "output_type": "execute_result"
    }
   ],
   "source": [
    "mul.loc[mul['년도']==2018, '점수'] "
   ]
  },
  {
   "cell_type": "code",
   "execution_count": 102,
   "id": "aa533aa8",
   "metadata": {},
   "outputs": [
    {
     "data": {
      "text/plain": [
       "array([7.632, 7.594, 7.555, 7.495, 7.487, 7.441, 7.328, 7.324, 7.314,\n",
       "       7.272, 7.19 , 7.139, 7.072, 6.977, 6.965, 6.927, 6.91 , 6.886,\n",
       "       6.814, 6.774, 6.711, 6.627, 6.489, 6.488, 6.476, 6.441, 6.43 ,\n",
       "       6.419, 6.388, 6.382, 6.379, 6.374, 6.371, 6.343, 6.322, 6.31 ,\n",
       "       6.26 , 6.192, 6.173, 6.167, 6.141, 6.123, 6.105, 6.096, 6.083,\n",
       "       6.072, 6.   , 5.973, 5.952, 5.948, 5.945, 5.933, 5.915, 5.891,\n",
       "       5.89 , 5.875, 5.835, 5.81 , 5.79 , 5.762, 5.752, 5.739, 5.681,\n",
       "       5.663, 5.662, 5.64 , 5.636, 5.62 , 5.566, 5.524, 5.504, 5.483,\n",
       "       5.483, 5.472, 5.43 , 5.41 , 5.398, 5.358, 5.358, 5.347, 5.321,\n",
       "       5.302, 5.295, 5.254, 5.246, 5.201, 5.199, 5.161, 5.155, 5.131,\n",
       "       5.129, 5.125, 5.103, 5.093, 5.082, 4.982, 4.975, 4.933, 4.88 ,\n",
       "       4.806, 4.758, 4.743, 4.724, 4.707, 4.671, 4.657, 4.631, 4.623,\n",
       "       4.592, 4.586, 4.571, 4.559, 4.5  , 4.471, 4.456, 4.447, 4.441,\n",
       "       4.433, 4.424, 4.419, 4.417, 4.41 , 4.377, 4.356, 4.35 , 4.34 ,\n",
       "       4.321, 4.308, 4.301, 4.245, 4.19 , 4.166, 4.161, 4.141, 4.103,\n",
       "       3.999, 3.964, 3.808, 3.774, 3.692, 3.632, 3.59 , 3.587, 3.582,\n",
       "       3.495, 3.462, 3.408, 3.355, 3.303, 3.254, 3.083, 2.905])"
      ]
     },
     "execution_count": 102,
     "metadata": {},
     "output_type": "execute_result"
    }
   ],
   "source": [
    "mul[mul.년도==2018]['점수'].values * (-1)"
   ]
  },
  {
   "cell_type": "code",
   "execution_count": 103,
   "id": "c5e5ffa9",
   "metadata": {},
   "outputs": [
    {
     "data": {
      "text/html": [
       "<div>\n",
       "<style scoped>\n",
       "    .dataframe tbody tr th:only-of-type {\n",
       "        vertical-align: middle;\n",
       "    }\n",
       "\n",
       "    .dataframe tbody tr th {\n",
       "        vertical-align: top;\n",
       "    }\n",
       "\n",
       "    .dataframe thead th {\n",
       "        text-align: right;\n",
       "    }\n",
       "</style>\n",
       "<table border=\"1\" class=\"dataframe\">\n",
       "  <thead>\n",
       "    <tr style=\"text-align: right;\">\n",
       "      <th></th>\n",
       "      <th>점수</th>\n",
       "    </tr>\n",
       "    <tr>\n",
       "      <th>나라명</th>\n",
       "      <th></th>\n",
       "    </tr>\n",
       "  </thead>\n",
       "  <tbody>\n",
       "    <tr>\n",
       "      <th>Malaysia</th>\n",
       "      <td>-0.983</td>\n",
       "    </tr>\n",
       "    <tr>\n",
       "      <th>Afghanistan</th>\n",
       "      <td>-0.429</td>\n",
       "    </tr>\n",
       "    <tr>\n",
       "      <th>South Sudan</th>\n",
       "      <td>-0.401</td>\n",
       "    </tr>\n",
       "    <tr>\n",
       "      <th>Turkmenistan</th>\n",
       "      <td>-0.389</td>\n",
       "    </tr>\n",
       "    <tr>\n",
       "      <th>Somalia</th>\n",
       "      <td>-0.314</td>\n",
       "    </tr>\n",
       "    <tr>\n",
       "      <th>...</th>\n",
       "      <td>...</td>\n",
       "    </tr>\n",
       "    <tr>\n",
       "      <th>Niger</th>\n",
       "      <td>0.462</td>\n",
       "    </tr>\n",
       "    <tr>\n",
       "      <th>Liberia</th>\n",
       "      <td>0.480</td>\n",
       "    </tr>\n",
       "    <tr>\n",
       "      <th>Guinea</th>\n",
       "      <td>0.570</td>\n",
       "    </tr>\n",
       "    <tr>\n",
       "      <th>Benin</th>\n",
       "      <td>0.742</td>\n",
       "    </tr>\n",
       "    <tr>\n",
       "      <th>Burundi</th>\n",
       "      <td>0.870</td>\n",
       "    </tr>\n",
       "  </tbody>\n",
       "</table>\n",
       "<p>152 rows × 1 columns</p>\n",
       "</div>"
      ],
      "text/plain": [
       "                 점수\n",
       "나라명                \n",
       "Malaysia     -0.983\n",
       "Afghanistan  -0.429\n",
       "South Sudan  -0.401\n",
       "Turkmenistan -0.389\n",
       "Somalia      -0.314\n",
       "...             ...\n",
       "Niger         0.462\n",
       "Liberia       0.480\n",
       "Guinea        0.570\n",
       "Benin         0.742\n",
       "Burundi       0.870\n",
       "\n",
       "[152 rows x 1 columns]"
      ]
     },
     "execution_count": 103,
     "metadata": {},
     "output_type": "execute_result"
    }
   ],
   "source": [
    "mul.groupby('나라명').sum()['점수'].sort_values().to_frame()"
   ]
  },
  {
   "cell_type": "code",
   "execution_count": 104,
   "id": "a271945e",
   "metadata": {},
   "outputs": [
    {
     "data": {
      "text/html": [
       "<div>\n",
       "<style scoped>\n",
       "    .dataframe tbody tr th:only-of-type {\n",
       "        vertical-align: middle;\n",
       "    }\n",
       "\n",
       "    .dataframe tbody tr th {\n",
       "        vertical-align: top;\n",
       "    }\n",
       "\n",
       "    .dataframe thead th {\n",
       "        text-align: right;\n",
       "    }\n",
       "</style>\n",
       "<table border=\"1\" class=\"dataframe\">\n",
       "  <thead>\n",
       "    <tr style=\"text-align: right;\">\n",
       "      <th></th>\n",
       "      <th>행복랭킹</th>\n",
       "      <th>나라명</th>\n",
       "      <th>점수</th>\n",
       "      <th>상대GDP</th>\n",
       "      <th>사회적지원</th>\n",
       "      <th>행복기대치</th>\n",
       "      <th>선택의 자유도</th>\n",
       "      <th>관대함</th>\n",
       "      <th>부패에 대한인식</th>\n",
       "      <th>년도</th>\n",
       "    </tr>\n",
       "  </thead>\n",
       "  <tbody>\n",
       "    <tr>\n",
       "      <th>144</th>\n",
       "      <td>145</td>\n",
       "      <td>Burundi</td>\n",
       "      <td>3.775</td>\n",
       "      <td>0.046</td>\n",
       "      <td>0.447</td>\n",
       "      <td>0.380</td>\n",
       "      <td>0.220</td>\n",
       "      <td>0.176</td>\n",
       "      <td>0.180</td>\n",
       "      <td>2019</td>\n",
       "    </tr>\n",
       "    <tr>\n",
       "      <th>311</th>\n",
       "      <td>156</td>\n",
       "      <td>Burundi</td>\n",
       "      <td>2.905</td>\n",
       "      <td>0.091</td>\n",
       "      <td>0.627</td>\n",
       "      <td>0.145</td>\n",
       "      <td>0.065</td>\n",
       "      <td>0.149</td>\n",
       "      <td>0.076</td>\n",
       "      <td>2018</td>\n",
       "    </tr>\n",
       "  </tbody>\n",
       "</table>\n",
       "</div>"
      ],
      "text/plain": [
       "     행복랭킹      나라명     점수  상대GDP  사회적지원  행복기대치  선택의 자유도    관대함  부패에 대한인식    년도\n",
       "144   145  Burundi  3.775  0.046  0.447  0.380    0.220  0.176     0.180  2019\n",
       "311   156  Burundi  2.905  0.091  0.627  0.145    0.065  0.149     0.076  2018"
      ]
     },
     "execution_count": 104,
     "metadata": {},
     "output_type": "execute_result"
    }
   ],
   "source": [
    "df[df['나라명']=='Burundi']"
   ]
  },
  {
   "cell_type": "markdown",
   "id": "58eb1bc7",
   "metadata": {},
   "source": [
    "# 지역구 에너지 소비량 데이터"
   ]
  },
  {
   "cell_type": "code",
   "execution_count": 105,
   "id": "54478192",
   "metadata": {},
   "outputs": [],
   "source": [
    "df = pd.read_csv('https://raw.githubusercontent.com/Datamanim/datarepo/main/consum/Tetuan%20City%20power%20consumption.csv')"
   ]
  },
  {
   "cell_type": "code",
   "execution_count": 106,
   "id": "88b1a75c",
   "metadata": {},
   "outputs": [
    {
     "data": {
      "text/html": [
       "<div>\n",
       "<style scoped>\n",
       "    .dataframe tbody tr th:only-of-type {\n",
       "        vertical-align: middle;\n",
       "    }\n",
       "\n",
       "    .dataframe tbody tr th {\n",
       "        vertical-align: top;\n",
       "    }\n",
       "\n",
       "    .dataframe thead th {\n",
       "        text-align: right;\n",
       "    }\n",
       "</style>\n",
       "<table border=\"1\" class=\"dataframe\">\n",
       "  <thead>\n",
       "    <tr style=\"text-align: right;\">\n",
       "      <th></th>\n",
       "      <th>DateTime</th>\n",
       "      <th>Temperature</th>\n",
       "      <th>Humidity</th>\n",
       "      <th>Wind Speed</th>\n",
       "      <th>general diffuse flows</th>\n",
       "      <th>diffuse flows</th>\n",
       "      <th>Zone 1 Power Consumption</th>\n",
       "      <th>Zone 2  Power Consumption</th>\n",
       "      <th>Zone 3  Power Consumption</th>\n",
       "    </tr>\n",
       "  </thead>\n",
       "  <tbody>\n",
       "    <tr>\n",
       "      <th>0</th>\n",
       "      <td>1/1/2017 0:00</td>\n",
       "      <td>6.559</td>\n",
       "      <td>73.8</td>\n",
       "      <td>0.083</td>\n",
       "      <td>0.051</td>\n",
       "      <td>0.119</td>\n",
       "      <td>34055.69620</td>\n",
       "      <td>16128.87538</td>\n",
       "      <td>20240.96386</td>\n",
       "    </tr>\n",
       "    <tr>\n",
       "      <th>1</th>\n",
       "      <td>1/1/2017 0:10</td>\n",
       "      <td>6.414</td>\n",
       "      <td>74.5</td>\n",
       "      <td>0.083</td>\n",
       "      <td>0.070</td>\n",
       "      <td>0.085</td>\n",
       "      <td>29814.68354</td>\n",
       "      <td>19375.07599</td>\n",
       "      <td>20131.08434</td>\n",
       "    </tr>\n",
       "    <tr>\n",
       "      <th>2</th>\n",
       "      <td>1/1/2017 0:20</td>\n",
       "      <td>6.313</td>\n",
       "      <td>74.5</td>\n",
       "      <td>0.080</td>\n",
       "      <td>0.062</td>\n",
       "      <td>0.100</td>\n",
       "      <td>29128.10127</td>\n",
       "      <td>19006.68693</td>\n",
       "      <td>19668.43373</td>\n",
       "    </tr>\n",
       "    <tr>\n",
       "      <th>3</th>\n",
       "      <td>1/1/2017 0:30</td>\n",
       "      <td>6.121</td>\n",
       "      <td>75.0</td>\n",
       "      <td>0.083</td>\n",
       "      <td>0.091</td>\n",
       "      <td>0.096</td>\n",
       "      <td>28228.86076</td>\n",
       "      <td>18361.09422</td>\n",
       "      <td>18899.27711</td>\n",
       "    </tr>\n",
       "    <tr>\n",
       "      <th>4</th>\n",
       "      <td>1/1/2017 0:40</td>\n",
       "      <td>5.921</td>\n",
       "      <td>75.7</td>\n",
       "      <td>0.081</td>\n",
       "      <td>0.048</td>\n",
       "      <td>0.085</td>\n",
       "      <td>27335.69620</td>\n",
       "      <td>17872.34043</td>\n",
       "      <td>18442.40964</td>\n",
       "    </tr>\n",
       "  </tbody>\n",
       "</table>\n",
       "</div>"
      ],
      "text/plain": [
       "        DateTime  Temperature  Humidity  Wind Speed  general diffuse flows  \\\n",
       "0  1/1/2017 0:00        6.559      73.8       0.083                  0.051   \n",
       "1  1/1/2017 0:10        6.414      74.5       0.083                  0.070   \n",
       "2  1/1/2017 0:20        6.313      74.5       0.080                  0.062   \n",
       "3  1/1/2017 0:30        6.121      75.0       0.083                  0.091   \n",
       "4  1/1/2017 0:40        5.921      75.7       0.081                  0.048   \n",
       "\n",
       "   diffuse flows  Zone 1 Power Consumption  Zone 2  Power Consumption  \\\n",
       "0          0.119               34055.69620                16128.87538   \n",
       "1          0.085               29814.68354                19375.07599   \n",
       "2          0.100               29128.10127                19006.68693   \n",
       "3          0.096               28228.86076                18361.09422   \n",
       "4          0.085               27335.69620                17872.34043   \n",
       "\n",
       "   Zone 3  Power Consumption  \n",
       "0                20240.96386  \n",
       "1                20131.08434  \n",
       "2                19668.43373  \n",
       "3                18899.27711  \n",
       "4                18442.40964  "
      ]
     },
     "execution_count": 106,
     "metadata": {},
     "output_type": "execute_result"
    }
   ],
   "source": [
    "df.head()"
   ]
  },
  {
   "cell_type": "markdown",
   "id": "1d8abc73",
   "metadata": {},
   "source": [
    "**Question 51. DateTime 컬럼을 통해 각 월별로 몇 개의 데이터가 있는지 데이터 프레임으로 구하여라**"
   ]
  },
  {
   "cell_type": "code",
   "execution_count": 107,
   "id": "a7cb1227",
   "metadata": {},
   "outputs": [
    {
     "name": "stdout",
     "output_type": "stream",
     "text": [
      "<class 'pandas.core.frame.DataFrame'>\n",
      "RangeIndex: 52416 entries, 0 to 52415\n",
      "Data columns (total 9 columns):\n",
      " #   Column                     Non-Null Count  Dtype  \n",
      "---  ------                     --------------  -----  \n",
      " 0   DateTime                   52416 non-null  object \n",
      " 1   Temperature                52416 non-null  float64\n",
      " 2   Humidity                   52416 non-null  float64\n",
      " 3   Wind Speed                 52416 non-null  float64\n",
      " 4   general diffuse flows      52416 non-null  float64\n",
      " 5   diffuse flows              52416 non-null  float64\n",
      " 6   Zone 1 Power Consumption   52416 non-null  float64\n",
      " 7   Zone 2  Power Consumption  52416 non-null  float64\n",
      " 8   Zone 3  Power Consumption  52416 non-null  float64\n",
      "dtypes: float64(8), object(1)\n",
      "memory usage: 3.6+ MB\n"
     ]
    }
   ],
   "source": [
    "df.info()"
   ]
  },
  {
   "cell_type": "code",
   "execution_count": 108,
   "id": "acab5c9d",
   "metadata": {},
   "outputs": [],
   "source": [
    "df['DateTime'] = pd.to_datetime(df['DateTime'])"
   ]
  },
  {
   "cell_type": "code",
   "execution_count": 109,
   "id": "7a0c596e",
   "metadata": {},
   "outputs": [
    {
     "data": {
      "text/plain": [
       "1     4464\n",
       "2     4032\n",
       "3     4464\n",
       "4     4320\n",
       "5     4464\n",
       "6     4320\n",
       "7     4464\n",
       "8     4464\n",
       "9     4320\n",
       "10    4464\n",
       "11    4320\n",
       "12    4320\n",
       "Name: DateTime, dtype: int64"
      ]
     },
     "execution_count": 109,
     "metadata": {},
     "output_type": "execute_result"
    }
   ],
   "source": [
    "df['DateTime'].dt.month.value_counts().sort_index()"
   ]
  },
  {
   "cell_type": "markdown",
   "id": "4edacf3f",
   "metadata": {},
   "source": [
    "**Question 52. 3월달의 각 시간대별 온도의 평균들 중 가장 낮은 시간대의 온도를 출력하라**"
   ]
  },
  {
   "cell_type": "code",
   "execution_count": 110,
   "id": "861afb9e",
   "metadata": {},
   "outputs": [
    {
     "data": {
      "text/plain": [
       "11.506612903225806"
      ]
     },
     "execution_count": 110,
     "metadata": {},
     "output_type": "execute_result"
    }
   ],
   "source": [
    "target = df[df['DateTime'].dt.month == 3]\n",
    "result = target.groupby(target.DateTime.dt.hour)['Temperature'].mean().sort_values().values[0]\n",
    "result"
   ]
  },
  {
   "cell_type": "markdown",
   "id": "f65cf946",
   "metadata": {},
   "source": [
    "**Question 53. 3월달의 각 시간대별 온도의 평균들 중 가장 높은 시간대의 온도를 출력하라**"
   ]
  },
  {
   "cell_type": "code",
   "execution_count": 111,
   "id": "a4cd2520",
   "metadata": {},
   "outputs": [
    {
     "data": {
      "text/plain": [
       "18.393602150537635"
      ]
     },
     "execution_count": 111,
     "metadata": {},
     "output_type": "execute_result"
    }
   ],
   "source": [
    "target.groupby(target.DateTime.dt.hour)['Temperature'].mean().sort_values().values[-1]"
   ]
  },
  {
   "cell_type": "markdown",
   "id": "052649ab",
   "metadata": {},
   "source": [
    "**Question 54. Zone 1 Power Consumption 컬럼의 value값의 크기가 Zone 2 Power Consumption 컬럼의 value값의 크기보다 큰 데이터들의 Humidity의 평균을 구하여라**"
   ]
  },
  {
   "cell_type": "code",
   "execution_count": 112,
   "id": "aeb551e5",
   "metadata": {
    "scrolled": true
   },
   "outputs": [
    {
     "data": {
      "text/plain": [
       "68.23624448055052"
      ]
     },
     "execution_count": 112,
     "metadata": {},
     "output_type": "execute_result"
    }
   ],
   "source": [
    "df[(df['Zone 1 Power Consumption']>df['Zone 2  Power Consumption'])]['Humidity'].mean()"
   ]
  },
  {
   "cell_type": "markdown",
   "id": "f346c3fc",
   "metadata": {},
   "source": [
    "**Question 55. 각 zone의 에너지 소비량의 상관관계를 구해서 데이터 프레임으로 표기하라**"
   ]
  },
  {
   "cell_type": "code",
   "execution_count": 113,
   "id": "d115e04a",
   "metadata": {},
   "outputs": [
    {
     "data": {
      "text/html": [
       "<div>\n",
       "<style scoped>\n",
       "    .dataframe tbody tr th:only-of-type {\n",
       "        vertical-align: middle;\n",
       "    }\n",
       "\n",
       "    .dataframe tbody tr th {\n",
       "        vertical-align: top;\n",
       "    }\n",
       "\n",
       "    .dataframe thead th {\n",
       "        text-align: right;\n",
       "    }\n",
       "</style>\n",
       "<table border=\"1\" class=\"dataframe\">\n",
       "  <thead>\n",
       "    <tr style=\"text-align: right;\">\n",
       "      <th></th>\n",
       "      <th>Zone 1 Power Consumption</th>\n",
       "      <th>Zone 2  Power Consumption</th>\n",
       "      <th>Zone 3  Power Consumption</th>\n",
       "    </tr>\n",
       "  </thead>\n",
       "  <tbody>\n",
       "    <tr>\n",
       "      <th>Zone 1 Power Consumption</th>\n",
       "      <td>1.000000</td>\n",
       "      <td>0.834519</td>\n",
       "      <td>0.750733</td>\n",
       "    </tr>\n",
       "    <tr>\n",
       "      <th>Zone 2  Power Consumption</th>\n",
       "      <td>0.834519</td>\n",
       "      <td>1.000000</td>\n",
       "      <td>0.570932</td>\n",
       "    </tr>\n",
       "    <tr>\n",
       "      <th>Zone 3  Power Consumption</th>\n",
       "      <td>0.750733</td>\n",
       "      <td>0.570932</td>\n",
       "      <td>1.000000</td>\n",
       "    </tr>\n",
       "  </tbody>\n",
       "</table>\n",
       "</div>"
      ],
      "text/plain": [
       "                           Zone 1 Power Consumption  \\\n",
       "Zone 1 Power Consumption                   1.000000   \n",
       "Zone 2  Power Consumption                  0.834519   \n",
       "Zone 3  Power Consumption                  0.750733   \n",
       "\n",
       "                           Zone 2  Power Consumption  \\\n",
       "Zone 1 Power Consumption                    0.834519   \n",
       "Zone 2  Power Consumption                   1.000000   \n",
       "Zone 3  Power Consumption                   0.570932   \n",
       "\n",
       "                           Zone 3  Power Consumption  \n",
       "Zone 1 Power Consumption                    0.750733  \n",
       "Zone 2  Power Consumption                   0.570932  \n",
       "Zone 3  Power Consumption                   1.000000  "
      ]
     },
     "execution_count": 113,
     "metadata": {},
     "output_type": "execute_result"
    }
   ],
   "source": [
    "df.iloc[:, -3:].corr()"
   ]
  },
  {
   "cell_type": "markdown",
   "id": "e17ae047",
   "metadata": {},
   "source": [
    "**Question 56. Temperature의 값이 10미만의 경우 A, 10이상 20미만의 경우 B,20이상 30미만의 경우 C, 그 외의 경우 D라고 할때 각 단계의 데이터 숫자를 구하여라**"
   ]
  },
  {
   "cell_type": "code",
   "execution_count": 114,
   "id": "f19d4d52",
   "metadata": {},
   "outputs": [
    {
     "data": {
      "text/plain": [
       "B    26993\n",
       "C    21105\n",
       "A     2874\n",
       "D     1444\n",
       "Name: grade, dtype: int64"
      ]
     },
     "execution_count": 114,
     "metadata": {},
     "output_type": "execute_result"
    }
   ],
   "source": [
    "def grade(x):\n",
    "    if x < 10:\n",
    "        return 'A'\n",
    "    elif x < 20:\n",
    "        return 'B'\n",
    "    elif x < 30:\n",
    "        return 'C'\n",
    "    else:\n",
    "        return 'D'\n",
    "    \n",
    "df['grade'] = df['Temperature'].apply(grade)\n",
    "df['grade'].value_counts()"
   ]
  },
  {
   "cell_type": "markdown",
   "id": "25f2e3d1",
   "metadata": {},
   "source": [
    "**Question 57. 6월 데이터중 12시의 Temperature의 표준편차를 구하여라**"
   ]
  },
  {
   "cell_type": "code",
   "execution_count": 115,
   "id": "f3560f42",
   "metadata": {},
   "outputs": [
    {
     "data": {
      "text/plain": [
       "2.049941782795103"
      ]
     },
     "execution_count": 115,
     "metadata": {},
     "output_type": "execute_result"
    }
   ],
   "source": [
    "target = df[df['DateTime'].dt.month == 6]\n",
    "target[target['DateTime'].dt.hour==12]['Temperature'].std()"
   ]
  },
  {
   "cell_type": "code",
   "execution_count": 116,
   "id": "91929e64",
   "metadata": {},
   "outputs": [],
   "source": [
    "# df[(df.DateTime.dt.month ==6) & (df.DateTime.dt.hour ==12)].Temperature.std()"
   ]
  },
  {
   "cell_type": "markdown",
   "id": "6c5d9551",
   "metadata": {},
   "source": [
    "**Question 58. 6월 데이터중 12시의 Temperature의 분산을 구하여라**"
   ]
  },
  {
   "cell_type": "code",
   "execution_count": 117,
   "id": "1b371f13",
   "metadata": {},
   "outputs": [
    {
     "data": {
      "text/plain": [
       "4.202261312849164"
      ]
     },
     "execution_count": 117,
     "metadata": {},
     "output_type": "execute_result"
    }
   ],
   "source": [
    "target[target['DateTime'].dt.hour==12]['Temperature'].var()"
   ]
  },
  {
   "cell_type": "markdown",
   "id": "46996f6b",
   "metadata": {},
   "source": [
    "**Question 59. Temperature의 평균 이상의 Temperature의 값을 가지는 데이터를 Temperature를 기준으로 정렬 했을때 4번째 행의 Humidity 값은?**"
   ]
  },
  {
   "cell_type": "code",
   "execution_count": 118,
   "id": "fe6fabfa",
   "metadata": {},
   "outputs": [
    {
     "data": {
      "text/plain": [
       "87.9"
      ]
     },
     "execution_count": 118,
     "metadata": {},
     "output_type": "execute_result"
    }
   ],
   "source": [
    "df[df['Temperature']>=df['Temperature'].mean()].sort_values(by='Temperature')['Humidity'].values[3]"
   ]
  },
  {
   "cell_type": "markdown",
   "id": "5a9a8723",
   "metadata": {},
   "source": [
    "**Question 60. Temperature의 중간값 이상의 Temperature의 값을 가지는 데이터를Temperature를 기준으로 정렬 했을때 4번째 행의 Humidity 값은?**"
   ]
  },
  {
   "cell_type": "code",
   "execution_count": 119,
   "id": "dcb0b11e",
   "metadata": {},
   "outputs": [
    {
     "data": {
      "text/plain": [
       "80.3"
      ]
     },
     "execution_count": 119,
     "metadata": {},
     "output_type": "execute_result"
    }
   ],
   "source": [
    "df[df['Temperature']>=df['Temperature'].median()].sort_values(by='Temperature')['Humidity'].values[3]"
   ]
  },
  {
   "cell_type": "markdown",
   "id": "23c7cf79",
   "metadata": {},
   "source": [
    "# 포켓몬 정보 데이터"
   ]
  },
  {
   "cell_type": "code",
   "execution_count": 120,
   "id": "d8812ac3",
   "metadata": {},
   "outputs": [],
   "source": [
    "df = pd.read_csv('https://raw.githubusercontent.com/Datamanim/datarepo/main/pok/Pokemon.csv')"
   ]
  },
  {
   "cell_type": "code",
   "execution_count": 121,
   "id": "132ddd4f",
   "metadata": {},
   "outputs": [
    {
     "data": {
      "text/html": [
       "<div>\n",
       "<style scoped>\n",
       "    .dataframe tbody tr th:only-of-type {\n",
       "        vertical-align: middle;\n",
       "    }\n",
       "\n",
       "    .dataframe tbody tr th {\n",
       "        vertical-align: top;\n",
       "    }\n",
       "\n",
       "    .dataframe thead th {\n",
       "        text-align: right;\n",
       "    }\n",
       "</style>\n",
       "<table border=\"1\" class=\"dataframe\">\n",
       "  <thead>\n",
       "    <tr style=\"text-align: right;\">\n",
       "      <th></th>\n",
       "      <th>#</th>\n",
       "      <th>Name</th>\n",
       "      <th>Type 1</th>\n",
       "      <th>Type 2</th>\n",
       "      <th>Total</th>\n",
       "      <th>HP</th>\n",
       "      <th>Attack</th>\n",
       "      <th>Defense</th>\n",
       "      <th>Sp. Atk</th>\n",
       "      <th>Sp. Def</th>\n",
       "      <th>Speed</th>\n",
       "      <th>Generation</th>\n",
       "      <th>Legendary</th>\n",
       "    </tr>\n",
       "  </thead>\n",
       "  <tbody>\n",
       "    <tr>\n",
       "      <th>0</th>\n",
       "      <td>1</td>\n",
       "      <td>Bulbasaur</td>\n",
       "      <td>Grass</td>\n",
       "      <td>Poison</td>\n",
       "      <td>318</td>\n",
       "      <td>45</td>\n",
       "      <td>49</td>\n",
       "      <td>49</td>\n",
       "      <td>65</td>\n",
       "      <td>65</td>\n",
       "      <td>45</td>\n",
       "      <td>1</td>\n",
       "      <td>False</td>\n",
       "    </tr>\n",
       "    <tr>\n",
       "      <th>1</th>\n",
       "      <td>2</td>\n",
       "      <td>Ivysaur</td>\n",
       "      <td>Grass</td>\n",
       "      <td>Poison</td>\n",
       "      <td>405</td>\n",
       "      <td>60</td>\n",
       "      <td>62</td>\n",
       "      <td>63</td>\n",
       "      <td>80</td>\n",
       "      <td>80</td>\n",
       "      <td>60</td>\n",
       "      <td>1</td>\n",
       "      <td>False</td>\n",
       "    </tr>\n",
       "    <tr>\n",
       "      <th>2</th>\n",
       "      <td>3</td>\n",
       "      <td>Venusaur</td>\n",
       "      <td>Grass</td>\n",
       "      <td>Poison</td>\n",
       "      <td>525</td>\n",
       "      <td>80</td>\n",
       "      <td>82</td>\n",
       "      <td>83</td>\n",
       "      <td>100</td>\n",
       "      <td>100</td>\n",
       "      <td>80</td>\n",
       "      <td>1</td>\n",
       "      <td>False</td>\n",
       "    </tr>\n",
       "    <tr>\n",
       "      <th>3</th>\n",
       "      <td>3</td>\n",
       "      <td>VenusaurMega Venusaur</td>\n",
       "      <td>Grass</td>\n",
       "      <td>Poison</td>\n",
       "      <td>625</td>\n",
       "      <td>80</td>\n",
       "      <td>100</td>\n",
       "      <td>123</td>\n",
       "      <td>122</td>\n",
       "      <td>120</td>\n",
       "      <td>80</td>\n",
       "      <td>1</td>\n",
       "      <td>False</td>\n",
       "    </tr>\n",
       "    <tr>\n",
       "      <th>4</th>\n",
       "      <td>4</td>\n",
       "      <td>Charmander</td>\n",
       "      <td>Fire</td>\n",
       "      <td>NaN</td>\n",
       "      <td>309</td>\n",
       "      <td>39</td>\n",
       "      <td>52</td>\n",
       "      <td>43</td>\n",
       "      <td>60</td>\n",
       "      <td>50</td>\n",
       "      <td>65</td>\n",
       "      <td>1</td>\n",
       "      <td>False</td>\n",
       "    </tr>\n",
       "  </tbody>\n",
       "</table>\n",
       "</div>"
      ],
      "text/plain": [
       "   #                   Name Type 1  Type 2  Total  HP  Attack  Defense  \\\n",
       "0  1              Bulbasaur  Grass  Poison    318  45      49       49   \n",
       "1  2                Ivysaur  Grass  Poison    405  60      62       63   \n",
       "2  3               Venusaur  Grass  Poison    525  80      82       83   \n",
       "3  3  VenusaurMega Venusaur  Grass  Poison    625  80     100      123   \n",
       "4  4             Charmander   Fire     NaN    309  39      52       43   \n",
       "\n",
       "   Sp. Atk  Sp. Def  Speed  Generation  Legendary  \n",
       "0       65       65     45           1      False  \n",
       "1       80       80     60           1      False  \n",
       "2      100      100     80           1      False  \n",
       "3      122      120     80           1      False  \n",
       "4       60       50     65           1      False  "
      ]
     },
     "execution_count": 121,
     "metadata": {},
     "output_type": "execute_result"
    }
   ],
   "source": [
    "df.head()"
   ]
  },
  {
   "cell_type": "markdown",
   "id": "8a467ffe",
   "metadata": {},
   "source": [
    "**Question 61. Legendary 컬럼은 전설 포켓몬 유무를 나타낸다. 전설 포켓몬과 그렇지 않은 포켓몬들의 HP평균의 차이를 구하여라**"
   ]
  },
  {
   "cell_type": "code",
   "execution_count": 122,
   "id": "2737898e",
   "metadata": {},
   "outputs": [
    {
     "name": "stdout",
     "output_type": "stream",
     "text": [
      "25.55614861329147\n"
     ]
    }
   ],
   "source": [
    "target = df.groupby('Legendary').mean(numeric_only=True)['HP']\n",
    "result = target.values[1] -target.values[0]\n",
    "print(result)"
   ]
  },
  {
   "cell_type": "code",
   "execution_count": 123,
   "id": "2991e422",
   "metadata": {},
   "outputs": [],
   "source": [
    "# df.groupby('Legendary')['HP'].mean()[1] - df.groupby('Legendary')['HP'].mean()[0]"
   ]
  },
  {
   "cell_type": "markdown",
   "id": "94700ff1",
   "metadata": {},
   "source": [
    "**Question 62. Type 1은 주속성 Type 2 는 부속성을 나타낸다. 가장 많은 부속성 종류는 무엇인가?**"
   ]
  },
  {
   "cell_type": "code",
   "execution_count": 124,
   "id": "6b833b4a",
   "metadata": {},
   "outputs": [
    {
     "data": {
      "text/plain": [
       "'Flying'"
      ]
     },
     "execution_count": 124,
     "metadata": {},
     "output_type": "execute_result"
    }
   ],
   "source": [
    "df['Type 2'].value_counts().index[0]"
   ]
  },
  {
   "cell_type": "markdown",
   "id": "555621b3",
   "metadata": {},
   "source": [
    "**Question 63. 가장 많은 Type 1 의 종의 평균 Attack 을 평균 Defense로 나눈값은?**"
   ]
  },
  {
   "cell_type": "code",
   "execution_count": 125,
   "id": "db7dda2e",
   "metadata": {},
   "outputs": [
    {
     "data": {
      "text/plain": [
       "1.0165238678090576"
      ]
     },
     "execution_count": 125,
     "metadata": {},
     "output_type": "execute_result"
    }
   ],
   "source": [
    "ta = df[df['Type 1'] == df['Type 1'].value_counts().index[0]]['Attack'].mean()\n",
    "td = df[df['Type 1'] == df['Type 1'].value_counts().index[0]]['Defense'].mean()\n",
    "\n",
    "ta / td"
   ]
  },
  {
   "cell_type": "code",
   "execution_count": 126,
   "id": "cd90de66",
   "metadata": {},
   "outputs": [
    {
     "name": "stdout",
     "output_type": "stream",
     "text": [
      "1.0165238678090576\n"
     ]
    }
   ],
   "source": [
    "max = df['Type 1'].value_counts().index[0]\n",
    "result = df[df['Type 1']== max].Attack.mean() /df[df['Type 1']== max].Defense.mean()\n",
    "print(result)"
   ]
  },
  {
   "cell_type": "markdown",
   "id": "f49220c0",
   "metadata": {},
   "source": [
    "**Question 64. 포켓몬 세대(Generation) 중 가장 많은 Legendary를 보유한 세대는 몇 세대인가?**"
   ]
  },
  {
   "cell_type": "code",
   "execution_count": 127,
   "id": "fb022afc",
   "metadata": {},
   "outputs": [
    {
     "data": {
      "text/plain": [
       "3"
      ]
     },
     "execution_count": 127,
     "metadata": {},
     "output_type": "execute_result"
    }
   ],
   "source": [
    "df[df.Legendary==True].Generation.value_counts().index[0]"
   ]
  },
  {
   "cell_type": "code",
   "execution_count": 128,
   "id": "f48e1827",
   "metadata": {},
   "outputs": [],
   "source": [
    "# df[df['Legendary']==True].groupby('Generation').size().sort_values().index[-1]"
   ]
  },
  {
   "cell_type": "markdown",
   "id": "74066ca9",
   "metadata": {},
   "source": [
    "**Question 65. ‘HP’, ‘Attack’, ‘Defense’, ‘Sp. Atk’, ‘Sp. Def’, ‘Speed’ 간의 상관계수중 가장 절댓값이 큰 두 변수와 그 값을 구하여라**"
   ]
  },
  {
   "cell_type": "code",
   "execution_count": 129,
   "id": "8dbc9c46",
   "metadata": {},
   "outputs": [
    {
     "data": {
      "text/plain": [
       "level_0     Defense\n",
       "level_1     Sp. Def\n",
       "corr       0.510747\n",
       "Name: 16, dtype: object"
      ]
     },
     "execution_count": 129,
     "metadata": {},
     "output_type": "execute_result"
    }
   ],
   "source": [
    "target = df[['HP', 'Attack', 'Defense', 'Sp. Atk', 'Sp. Def', 'Speed']].corr().unstack().reset_index().rename(columns={0: 'corr'})\n",
    "target[target['corr']!=1].sort_values(by='corr').iloc[-1]"
   ]
  },
  {
   "cell_type": "markdown",
   "id": "848275db",
   "metadata": {},
   "source": [
    "**Question 66. 각 Generation의 Attack으로 오름차순 정렬시 상위 3개 데이터들(18개)의 Attack의 전체 평균을 구하여라**"
   ]
  },
  {
   "cell_type": "code",
   "execution_count": 130,
   "id": "bcaafbc0",
   "metadata": {},
   "outputs": [
    {
     "data": {
      "text/plain": [
       "19.5"
      ]
     },
     "execution_count": 130,
     "metadata": {},
     "output_type": "execute_result"
    }
   ],
   "source": [
    "df.sort_values(['Generation','Attack']).groupby('Generation').head(3).Attack.mean()"
   ]
  },
  {
   "cell_type": "markdown",
   "id": "f62a3e1b",
   "metadata": {},
   "source": [
    "**Question 67. 각 Generation의 Attack으로 내림차순 정렬시 상위 5개 데이터들(30개)의 Attack의 전체 평균을 구하여라**"
   ]
  },
  {
   "cell_type": "code",
   "execution_count": 131,
   "id": "1b7c73c8",
   "metadata": {},
   "outputs": [
    {
     "data": {
      "text/plain": [
       "157.23333333333332"
      ]
     },
     "execution_count": 131,
     "metadata": {},
     "output_type": "execute_result"
    }
   ],
   "source": [
    "df.sort_values(['Generation', 'Attack'], ascending=False).groupby('Generation').head(5).Attack.mean()"
   ]
  },
  {
   "cell_type": "markdown",
   "id": "31dee5a8",
   "metadata": {},
   "source": [
    "**Question 68. 가장 흔하게 발견되는 (Type1 , Type2) 의 쌍은 무엇인가?**"
   ]
  },
  {
   "cell_type": "code",
   "execution_count": 132,
   "id": "6fc33f21",
   "metadata": {},
   "outputs": [
    {
     "data": {
      "text/plain": [
       "Type 1  Type 2\n",
       "Normal  Flying    24\n",
       "dtype: int64"
      ]
     },
     "execution_count": 132,
     "metadata": {},
     "output_type": "execute_result"
    }
   ],
   "source": [
    "df[['Type 1', 'Type 2']].value_counts().head(1)"
   ]
  },
  {
   "cell_type": "markdown",
   "id": "f957173c",
   "metadata": {},
   "source": [
    "**Question 69. 한 번씩만 존재하는 (Type1 , Type2)의 쌍의 갯수는 몇 개인가?**"
   ]
  },
  {
   "cell_type": "code",
   "execution_count": 133,
   "id": "1457d0ca",
   "metadata": {},
   "outputs": [
    {
     "name": "stdout",
     "output_type": "stream",
     "text": [
      "39\n"
     ]
    }
   ],
   "source": [
    "target = df[['Type 1','Type 2']].value_counts()\n",
    "result = len(target[target==1])\n",
    "print(result)"
   ]
  },
  {
   "cell_type": "code",
   "execution_count": 134,
   "id": "1eade76a",
   "metadata": {},
   "outputs": [
    {
     "data": {
      "text/plain": [
       "39"
      ]
     },
     "execution_count": 134,
     "metadata": {},
     "output_type": "execute_result"
    }
   ],
   "source": [
    "target = df[['Type 1', 'Type 2']].value_counts().to_frame()\n",
    "len(target[target[0]==1])"
   ]
  },
  {
   "cell_type": "markdown",
   "id": "2921550d",
   "metadata": {},
   "source": [
    "**Question 70. 한 번씩만 존재하는 (Type1 , Type2)의 쌍을 각 세대(Generation)은 각각 몇 개씩 가지고 있는가?**"
   ]
  },
  {
   "cell_type": "code",
   "execution_count": 135,
   "id": "9b902efd",
   "metadata": {},
   "outputs": [
    {
     "data": {
      "text/plain": [
       "1     1\n",
       "2     4\n",
       "3     5\n",
       "4    13\n",
       "5     7\n",
       "6     9\n",
       "Name: Generation, dtype: int64"
      ]
     },
     "execution_count": 135,
     "metadata": {},
     "output_type": "execute_result"
    }
   ],
   "source": [
    "target = df[['Type 1', 'Type 2']].value_counts()\n",
    "target2 = target[target==1]\n",
    "\n",
    "lst = []\n",
    "for value in target2.reset_index().values:\n",
    "    t1 = value[0]\n",
    "    t2 = value[1]\n",
    "    \n",
    "    sp = df[(df['Type 1']==t1) & (df['Type 2']==t2)]\n",
    "    lst.append(sp)\n",
    "\n",
    "result = pd.concat(lst).reset_index(drop=True).Generation.value_counts().sort_index()\n",
    "result"
   ]
  },
  {
   "cell_type": "markdown",
   "id": "8d855b23",
   "metadata": {},
   "source": [
    "# 대한민국 체력장 데이터"
   ]
  },
  {
   "cell_type": "code",
   "execution_count": 136,
   "id": "e34e82f5",
   "metadata": {},
   "outputs": [],
   "source": [
    "df = pd.read_csv('https://raw.githubusercontent.com/Datamanim/datarepo/main/body/body.csv')"
   ]
  },
  {
   "cell_type": "code",
   "execution_count": 137,
   "id": "7d6464f3",
   "metadata": {},
   "outputs": [
    {
     "data": {
      "text/html": [
       "<div>\n",
       "<style scoped>\n",
       "    .dataframe tbody tr th:only-of-type {\n",
       "        vertical-align: middle;\n",
       "    }\n",
       "\n",
       "    .dataframe tbody tr th {\n",
       "        vertical-align: top;\n",
       "    }\n",
       "\n",
       "    .dataframe thead th {\n",
       "        text-align: right;\n",
       "    }\n",
       "</style>\n",
       "<table border=\"1\" class=\"dataframe\">\n",
       "  <thead>\n",
       "    <tr style=\"text-align: right;\">\n",
       "      <th></th>\n",
       "      <th>측정나이</th>\n",
       "      <th>측정회원성별</th>\n",
       "      <th>신장 : cm</th>\n",
       "      <th>체중 : kg</th>\n",
       "      <th>체지방율 : %</th>\n",
       "      <th>이완기혈압(최저) : mmHg</th>\n",
       "      <th>수축기혈압(최고) : mmHg</th>\n",
       "      <th>악력D : kg</th>\n",
       "      <th>앉아윗몸앞으로굽히기 : cm</th>\n",
       "      <th>교차윗몸일으키기 : 회</th>\n",
       "      <th>제자리 멀리뛰기 : cm</th>\n",
       "      <th>등급</th>\n",
       "    </tr>\n",
       "  </thead>\n",
       "  <tbody>\n",
       "    <tr>\n",
       "      <th>0</th>\n",
       "      <td>59.0</td>\n",
       "      <td>M</td>\n",
       "      <td>175.0</td>\n",
       "      <td>70.6</td>\n",
       "      <td>19.2</td>\n",
       "      <td>91.0</td>\n",
       "      <td>150.0</td>\n",
       "      <td>40.6</td>\n",
       "      <td>12.2</td>\n",
       "      <td>30.0</td>\n",
       "      <td>179.0</td>\n",
       "      <td>C</td>\n",
       "    </tr>\n",
       "    <tr>\n",
       "      <th>1</th>\n",
       "      <td>40.0</td>\n",
       "      <td>F</td>\n",
       "      <td>161.4</td>\n",
       "      <td>45.8</td>\n",
       "      <td>21.7</td>\n",
       "      <td>62.0</td>\n",
       "      <td>119.0</td>\n",
       "      <td>22.1</td>\n",
       "      <td>16.0</td>\n",
       "      <td>32.0</td>\n",
       "      <td>165.0</td>\n",
       "      <td>B</td>\n",
       "    </tr>\n",
       "    <tr>\n",
       "      <th>2</th>\n",
       "      <td>27.0</td>\n",
       "      <td>M</td>\n",
       "      <td>176.6</td>\n",
       "      <td>84.8</td>\n",
       "      <td>19.2</td>\n",
       "      <td>87.0</td>\n",
       "      <td>153.0</td>\n",
       "      <td>45.9</td>\n",
       "      <td>13.2</td>\n",
       "      <td>61.0</td>\n",
       "      <td>216.0</td>\n",
       "      <td>B</td>\n",
       "    </tr>\n",
       "    <tr>\n",
       "      <th>3</th>\n",
       "      <td>38.0</td>\n",
       "      <td>M</td>\n",
       "      <td>167.6</td>\n",
       "      <td>76.7</td>\n",
       "      <td>24.7</td>\n",
       "      <td>63.0</td>\n",
       "      <td>132.0</td>\n",
       "      <td>43.6</td>\n",
       "      <td>16.0</td>\n",
       "      <td>45.0</td>\n",
       "      <td>231.0</td>\n",
       "      <td>A</td>\n",
       "    </tr>\n",
       "    <tr>\n",
       "      <th>4</th>\n",
       "      <td>21.0</td>\n",
       "      <td>M</td>\n",
       "      <td>165.2</td>\n",
       "      <td>66.2</td>\n",
       "      <td>21.5</td>\n",
       "      <td>83.0</td>\n",
       "      <td>106.0</td>\n",
       "      <td>33.5</td>\n",
       "      <td>10.6</td>\n",
       "      <td>46.0</td>\n",
       "      <td>198.0</td>\n",
       "      <td>C</td>\n",
       "    </tr>\n",
       "  </tbody>\n",
       "</table>\n",
       "</div>"
      ],
      "text/plain": [
       "   측정나이 측정회원성별  신장 : cm  체중 : kg  체지방율 : %  이완기혈압(최저) : mmHg  \\\n",
       "0  59.0      M    175.0     70.6      19.2              91.0   \n",
       "1  40.0      F    161.4     45.8      21.7              62.0   \n",
       "2  27.0      M    176.6     84.8      19.2              87.0   \n",
       "3  38.0      M    167.6     76.7      24.7              63.0   \n",
       "4  21.0      M    165.2     66.2      21.5              83.0   \n",
       "\n",
       "   수축기혈압(최고) : mmHg  악력D : kg  앉아윗몸앞으로굽히기 : cm  교차윗몸일으키기 : 회  제자리 멀리뛰기 : cm 등급  \n",
       "0             150.0      40.6             12.2          30.0          179.0  C  \n",
       "1             119.0      22.1             16.0          32.0          165.0  B  \n",
       "2             153.0      45.9             13.2          61.0          216.0  B  \n",
       "3             132.0      43.6             16.0          45.0          231.0  A  \n",
       "4             106.0      33.5             10.6          46.0          198.0  C  "
      ]
     },
     "execution_count": 137,
     "metadata": {},
     "output_type": "execute_result"
    }
   ],
   "source": [
    "df.head()"
   ]
  },
  {
   "cell_type": "markdown",
   "id": "f8f97e95",
   "metadata": {},
   "source": [
    "**Question 71. 전체 데이터의 수축기혈압(최고) - 이완기혈압(최저)의 평균을 구하여라**"
   ]
  },
  {
   "cell_type": "code",
   "execution_count": 138,
   "id": "a71eda27",
   "metadata": {},
   "outputs": [
    {
     "data": {
      "text/plain": [
       "52.19539414750672"
      ]
     },
     "execution_count": 138,
     "metadata": {},
     "output_type": "execute_result"
    }
   ],
   "source": [
    "(df['수축기혈압(최고) : mmHg'] - df['이완기혈압(최저) : mmHg']).mean()"
   ]
  },
  {
   "cell_type": "markdown",
   "id": "0ba5983e",
   "metadata": {},
   "source": [
    "**Question 72. 50~59세의 신장평균을 구하여라**"
   ]
  },
  {
   "cell_type": "code",
   "execution_count": 139,
   "id": "bc14a53d",
   "metadata": {},
   "outputs": [
    {
     "data": {
      "text/plain": [
       "164.07490107405314"
      ]
     },
     "execution_count": 139,
     "metadata": {},
     "output_type": "execute_result"
    }
   ],
   "source": [
    "df[(df['측정나이']>= 50) & (df['측정나이']<60)]['신장 : cm'].mean()"
   ]
  },
  {
   "cell_type": "markdown",
   "id": "fd2a2650",
   "metadata": {},
   "source": [
    "**Question 73. 연령대 (20~29 : 20대 …) 별 인원수를 구하여라**"
   ]
  },
  {
   "cell_type": "code",
   "execution_count": 140,
   "id": "1cff7897",
   "metadata": {},
   "outputs": [
    {
     "data": {
      "text/plain": [
       "20.0    5831\n",
       "30.0    2660\n",
       "40.0    1801\n",
       "50.0    1769\n",
       "60.0    1335\n",
       "Name: 연령대, dtype: int64"
      ]
     },
     "execution_count": 140,
     "metadata": {},
     "output_type": "execute_result"
    }
   ],
   "source": [
    "df['연령대'] = df['측정나이'].map(lambda x: x//10*10)\n",
    "df['연령대'].value_counts()"
   ]
  },
  {
   "cell_type": "markdown",
   "id": "391fce93",
   "metadata": {},
   "source": [
    "**Question 74. 연령대 (20~29 : 20대 …) 별 등급의 숫자를 데이터 프레임으로 표현하라**"
   ]
  },
  {
   "cell_type": "code",
   "execution_count": 141,
   "id": "24717492",
   "metadata": {},
   "outputs": [
    {
     "data": {
      "text/html": [
       "<div>\n",
       "<style scoped>\n",
       "    .dataframe tbody tr th:only-of-type {\n",
       "        vertical-align: middle;\n",
       "    }\n",
       "\n",
       "    .dataframe tbody tr th {\n",
       "        vertical-align: top;\n",
       "    }\n",
       "\n",
       "    .dataframe thead th {\n",
       "        text-align: right;\n",
       "    }\n",
       "</style>\n",
       "<table border=\"1\" class=\"dataframe\">\n",
       "  <thead>\n",
       "    <tr style=\"text-align: right;\">\n",
       "      <th></th>\n",
       "      <th>연령대</th>\n",
       "      <th>등급</th>\n",
       "      <th>size</th>\n",
       "    </tr>\n",
       "  </thead>\n",
       "  <tbody>\n",
       "    <tr>\n",
       "      <th>0</th>\n",
       "      <td>20.0</td>\n",
       "      <td>A</td>\n",
       "      <td>1585</td>\n",
       "    </tr>\n",
       "    <tr>\n",
       "      <th>1</th>\n",
       "      <td>20.0</td>\n",
       "      <td>B</td>\n",
       "      <td>1443</td>\n",
       "    </tr>\n",
       "    <tr>\n",
       "      <th>2</th>\n",
       "      <td>20.0</td>\n",
       "      <td>C</td>\n",
       "      <td>1455</td>\n",
       "    </tr>\n",
       "    <tr>\n",
       "      <th>3</th>\n",
       "      <td>20.0</td>\n",
       "      <td>D</td>\n",
       "      <td>1348</td>\n",
       "    </tr>\n",
       "    <tr>\n",
       "      <th>4</th>\n",
       "      <td>30.0</td>\n",
       "      <td>A</td>\n",
       "      <td>743</td>\n",
       "    </tr>\n",
       "    <tr>\n",
       "      <th>5</th>\n",
       "      <td>30.0</td>\n",
       "      <td>B</td>\n",
       "      <td>697</td>\n",
       "    </tr>\n",
       "    <tr>\n",
       "      <th>6</th>\n",
       "      <td>30.0</td>\n",
       "      <td>C</td>\n",
       "      <td>626</td>\n",
       "    </tr>\n",
       "    <tr>\n",
       "      <th>7</th>\n",
       "      <td>30.0</td>\n",
       "      <td>D</td>\n",
       "      <td>594</td>\n",
       "    </tr>\n",
       "    <tr>\n",
       "      <th>8</th>\n",
       "      <td>40.0</td>\n",
       "      <td>A</td>\n",
       "      <td>386</td>\n",
       "    </tr>\n",
       "    <tr>\n",
       "      <th>9</th>\n",
       "      <td>40.0</td>\n",
       "      <td>B</td>\n",
       "      <td>428</td>\n",
       "    </tr>\n",
       "    <tr>\n",
       "      <th>10</th>\n",
       "      <td>40.0</td>\n",
       "      <td>C</td>\n",
       "      <td>455</td>\n",
       "    </tr>\n",
       "    <tr>\n",
       "      <th>11</th>\n",
       "      <td>40.0</td>\n",
       "      <td>D</td>\n",
       "      <td>532</td>\n",
       "    </tr>\n",
       "    <tr>\n",
       "      <th>12</th>\n",
       "      <td>50.0</td>\n",
       "      <td>A</td>\n",
       "      <td>321</td>\n",
       "    </tr>\n",
       "    <tr>\n",
       "      <th>13</th>\n",
       "      <td>50.0</td>\n",
       "      <td>B</td>\n",
       "      <td>410</td>\n",
       "    </tr>\n",
       "    <tr>\n",
       "      <th>14</th>\n",
       "      <td>50.0</td>\n",
       "      <td>C</td>\n",
       "      <td>474</td>\n",
       "    </tr>\n",
       "    <tr>\n",
       "      <th>15</th>\n",
       "      <td>50.0</td>\n",
       "      <td>D</td>\n",
       "      <td>564</td>\n",
       "    </tr>\n",
       "    <tr>\n",
       "      <th>16</th>\n",
       "      <td>60.0</td>\n",
       "      <td>A</td>\n",
       "      <td>314</td>\n",
       "    </tr>\n",
       "    <tr>\n",
       "      <th>17</th>\n",
       "      <td>60.0</td>\n",
       "      <td>B</td>\n",
       "      <td>371</td>\n",
       "    </tr>\n",
       "    <tr>\n",
       "      <th>18</th>\n",
       "      <td>60.0</td>\n",
       "      <td>C</td>\n",
       "      <td>339</td>\n",
       "    </tr>\n",
       "    <tr>\n",
       "      <th>19</th>\n",
       "      <td>60.0</td>\n",
       "      <td>D</td>\n",
       "      <td>311</td>\n",
       "    </tr>\n",
       "  </tbody>\n",
       "</table>\n",
       "</div>"
      ],
      "text/plain": [
       "     연령대 등급  size\n",
       "0   20.0  A  1585\n",
       "1   20.0  B  1443\n",
       "2   20.0  C  1455\n",
       "3   20.0  D  1348\n",
       "4   30.0  A   743\n",
       "5   30.0  B   697\n",
       "6   30.0  C   626\n",
       "7   30.0  D   594\n",
       "8   40.0  A   386\n",
       "9   40.0  B   428\n",
       "10  40.0  C   455\n",
       "11  40.0  D   532\n",
       "12  50.0  A   321\n",
       "13  50.0  B   410\n",
       "14  50.0  C   474\n",
       "15  50.0  D   564\n",
       "16  60.0  A   314\n",
       "17  60.0  B   371\n",
       "18  60.0  C   339\n",
       "19  60.0  D   311"
      ]
     },
     "execution_count": 141,
     "metadata": {},
     "output_type": "execute_result"
    }
   ],
   "source": [
    "df.groupby(['연령대', '등급'], as_index=False).size()"
   ]
  },
  {
   "cell_type": "code",
   "execution_count": 142,
   "id": "bce1e7f6",
   "metadata": {},
   "outputs": [],
   "source": [
    "# df[['연령대', '등급']].value_counts().reset_index()"
   ]
  },
  {
   "cell_type": "markdown",
   "id": "2961e3ff",
   "metadata": {},
   "source": [
    "**Question 75. 남성 중 A등급과 D등급의 체지방률 평균의 차이(큰 값에서 작은 값의 차)를 구하여라**"
   ]
  },
  {
   "cell_type": "code",
   "execution_count": 143,
   "id": "c6474b85",
   "metadata": {},
   "outputs": [
    {
     "data": {
      "text/plain": [
       "7.932086486137521"
      ]
     },
     "execution_count": 143,
     "metadata": {},
     "output_type": "execute_result"
    }
   ],
   "source": [
    "ma = df[(df['측정회원성별']=='M') & (df['등급']=='A')]['체지방율 : %'].mean()\n",
    "md = df[(df['측정회원성별']=='M') & (df['등급']=='D')]['체지방율 : %'].mean()\n",
    "\n",
    "abs(ma-md)"
   ]
  },
  {
   "cell_type": "markdown",
   "id": "31b3bf88",
   "metadata": {},
   "source": [
    "**Question 76. 여성 중 A등급과 D등급의 체중의 평균의 차이(큰 값에서 작은 값의 차)를 구하여라**"
   ]
  },
  {
   "cell_type": "code",
   "execution_count": 144,
   "id": "be0674ac",
   "metadata": {},
   "outputs": [
    {
     "data": {
      "text/plain": [
       "5.176211590296504"
      ]
     },
     "execution_count": 144,
     "metadata": {},
     "output_type": "execute_result"
    }
   ],
   "source": [
    "ma = df[(df['측정회원성별']=='F') & (df['등급']=='A')]['체중 : kg'].mean()\n",
    "md = df[(df['측정회원성별']=='F') & (df['등급']=='D')]['체중 : kg'].mean()\n",
    "\n",
    "abs(ma-md)"
   ]
  },
  {
   "cell_type": "markdown",
   "id": "f0a4a811",
   "metadata": {},
   "source": [
    "**Question 77. bmi는 자신의 몸무게(kg)를 키의 제곱(m)으로 나눈값이다. 데이터의 bmi 를 구한 새로운 컬럼을 만들고 남성의 bmi 평균을 구하여라**"
   ]
  },
  {
   "cell_type": "code",
   "execution_count": 145,
   "id": "6f37447e",
   "metadata": {},
   "outputs": [
    {
     "data": {
      "text/plain": [
       "24.46134409819308"
      ]
     },
     "execution_count": 145,
     "metadata": {},
     "output_type": "execute_result"
    }
   ],
   "source": [
    "df['bmi'] = df['체중 : kg'] / (df['신장 : cm']/100)**2\n",
    "df[df['측정회원성별']=='M']['bmi'].mean()"
   ]
  },
  {
   "cell_type": "markdown",
   "id": "4d73042a",
   "metadata": {},
   "source": [
    "**Question 78. bmi보다 체지방율이 높은 사람들의 체중평균을 구하여라**"
   ]
  },
  {
   "cell_type": "code",
   "execution_count": 146,
   "id": "10d9df17",
   "metadata": {
    "scrolled": true
   },
   "outputs": [
    {
     "data": {
      "text/plain": [
       "61.7408806392542"
      ]
     },
     "execution_count": 146,
     "metadata": {},
     "output_type": "execute_result"
    }
   ],
   "source": [
    "df[df['체지방율 : %']>df['bmi']]['체중 : kg'].mean()"
   ]
  },
  {
   "cell_type": "markdown",
   "id": "6ed775e8",
   "metadata": {},
   "source": [
    "**Question 79. 남성과 여성의 악력 평균의 차이를 구하여라**"
   ]
  },
  {
   "cell_type": "code",
   "execution_count": 147,
   "id": "cd165c9a",
   "metadata": {},
   "outputs": [
    {
     "data": {
      "text/plain": [
       "17.55954185047465"
      ]
     },
     "execution_count": 147,
     "metadata": {},
     "output_type": "execute_result"
    }
   ],
   "source": [
    "target = df.groupby('측정회원성별')['악력D : kg'].mean()\n",
    "result = target.M - target.F\n",
    "result"
   ]
  },
  {
   "cell_type": "code",
   "execution_count": 148,
   "id": "2c4552c1",
   "metadata": {},
   "outputs": [
    {
     "data": {
      "text/plain": [
       "17.55954185047464"
      ]
     },
     "execution_count": 148,
     "metadata": {},
     "output_type": "execute_result"
    }
   ],
   "source": [
    "md = df[df['측정회원성별']=='M']['악력D : kg'].mean()\n",
    "fm = df[df['측정회원성별']=='F']['악력D : kg'].mean()\n",
    "\n",
    "abs(md-fm)"
   ]
  },
  {
   "cell_type": "markdown",
   "id": "c8255666",
   "metadata": {},
   "source": [
    "**Question 80. 남성과 여성의 교차윗몸일으키기 횟수의 평균의 차이를 구하여라**"
   ]
  },
  {
   "cell_type": "code",
   "execution_count": 149,
   "id": "a9357b64",
   "metadata": {
    "scrolled": true
   },
   "outputs": [
    {
     "data": {
      "text/plain": [
       "14.243156833157627"
      ]
     },
     "execution_count": 149,
     "metadata": {},
     "output_type": "execute_result"
    }
   ],
   "source": [
    "target = df.groupby('측정회원성별')['교차윗몸일으키기 : 회'].mean()\n",
    "abs(target.M - target.F)"
   ]
  },
  {
   "cell_type": "markdown",
   "id": "bb27756b",
   "metadata": {},
   "source": [
    "# 기온 강수량 데이터"
   ]
  },
  {
   "cell_type": "code",
   "execution_count": 150,
   "id": "1dfa5e8d",
   "metadata": {},
   "outputs": [],
   "source": [
    "df = pd.read_csv(\"https://raw.githubusercontent.com/Datamanim/datarepo/main/weather/weather2.csv\")"
   ]
  },
  {
   "cell_type": "code",
   "execution_count": 151,
   "id": "bb0a74fb",
   "metadata": {},
   "outputs": [
    {
     "data": {
      "text/html": [
       "<div>\n",
       "<style scoped>\n",
       "    .dataframe tbody tr th:only-of-type {\n",
       "        vertical-align: middle;\n",
       "    }\n",
       "\n",
       "    .dataframe tbody tr th {\n",
       "        vertical-align: top;\n",
       "    }\n",
       "\n",
       "    .dataframe thead th {\n",
       "        text-align: right;\n",
       "    }\n",
       "</style>\n",
       "<table border=\"1\" class=\"dataframe\">\n",
       "  <thead>\n",
       "    <tr style=\"text-align: right;\">\n",
       "      <th></th>\n",
       "      <th>time</th>\n",
       "      <th>이화동강수</th>\n",
       "      <th>이화동기온</th>\n",
       "      <th>수영동강수</th>\n",
       "      <th>수영동기온</th>\n",
       "    </tr>\n",
       "  </thead>\n",
       "  <tbody>\n",
       "    <tr>\n",
       "      <th>0</th>\n",
       "      <td>2020-01-01 00:00:00</td>\n",
       "      <td>0.1</td>\n",
       "      <td>-3.9</td>\n",
       "      <td>0.0</td>\n",
       "      <td>2.5</td>\n",
       "    </tr>\n",
       "    <tr>\n",
       "      <th>1</th>\n",
       "      <td>2020-01-01 01:00:00</td>\n",
       "      <td>0.0</td>\n",
       "      <td>-3.1</td>\n",
       "      <td>0.0</td>\n",
       "      <td>3.4</td>\n",
       "    </tr>\n",
       "    <tr>\n",
       "      <th>2</th>\n",
       "      <td>2020-01-01 02:00:00</td>\n",
       "      <td>0.0</td>\n",
       "      <td>-1.8</td>\n",
       "      <td>0.0</td>\n",
       "      <td>3.8</td>\n",
       "    </tr>\n",
       "    <tr>\n",
       "      <th>3</th>\n",
       "      <td>2020-01-01 03:00:00</td>\n",
       "      <td>0.0</td>\n",
       "      <td>-0.8</td>\n",
       "      <td>0.0</td>\n",
       "      <td>4.6</td>\n",
       "    </tr>\n",
       "    <tr>\n",
       "      <th>4</th>\n",
       "      <td>2020-01-01 04:00:00</td>\n",
       "      <td>0.0</td>\n",
       "      <td>-0.1</td>\n",
       "      <td>0.0</td>\n",
       "      <td>5.1</td>\n",
       "    </tr>\n",
       "  </tbody>\n",
       "</table>\n",
       "</div>"
      ],
      "text/plain": [
       "                  time  이화동강수  이화동기온  수영동강수  수영동기온\n",
       "0  2020-01-01 00:00:00    0.1   -3.9    0.0    2.5\n",
       "1  2020-01-01 01:00:00    0.0   -3.1    0.0    3.4\n",
       "2  2020-01-01 02:00:00    0.0   -1.8    0.0    3.8\n",
       "3  2020-01-01 03:00:00    0.0   -0.8    0.0    4.6\n",
       "4  2020-01-01 04:00:00    0.0   -0.1    0.0    5.1"
      ]
     },
     "execution_count": 151,
     "metadata": {},
     "output_type": "execute_result"
    }
   ],
   "source": [
    "df.head()"
   ]
  },
  {
   "cell_type": "markdown",
   "id": "a0e31902",
   "metadata": {},
   "source": [
    "**Question 81. 여름철(6월, 7월, 8월) 이화동이 수영동보다 높은 기온을 가진 시간대는 몇개인가?**"
   ]
  },
  {
   "cell_type": "code",
   "execution_count": 152,
   "id": "e581b4b4",
   "metadata": {},
   "outputs": [
    {
     "name": "stdout",
     "output_type": "stream",
     "text": [
      "<class 'pandas.core.frame.DataFrame'>\n",
      "RangeIndex: 8784 entries, 0 to 8783\n",
      "Data columns (total 5 columns):\n",
      " #   Column  Non-Null Count  Dtype  \n",
      "---  ------  --------------  -----  \n",
      " 0   time    8784 non-null   object \n",
      " 1   이화동강수   8784 non-null   float64\n",
      " 2   이화동기온   8784 non-null   float64\n",
      " 3   수영동강수   8784 non-null   float64\n",
      " 4   수영동기온   8784 non-null   float64\n",
      "dtypes: float64(4), object(1)\n",
      "memory usage: 343.2+ KB\n"
     ]
    }
   ],
   "source": [
    "df.info()"
   ]
  },
  {
   "cell_type": "code",
   "execution_count": 153,
   "id": "b9e8b332",
   "metadata": {},
   "outputs": [
    {
     "name": "stdout",
     "output_type": "stream",
     "text": [
      "1415\n"
     ]
    }
   ],
   "source": [
    "df.time = pd.to_datetime(df.time)\n",
    "summer = df.loc[df.time.dt.month.isin([6,7,8])].reset_index(drop=True)\n",
    "answer = len(summer.loc[summer['이화동기온'] > summer['수영동기온']])\n",
    "print(answer)"
   ]
  },
  {
   "cell_type": "code",
   "execution_count": 154,
   "id": "a0cc3295",
   "metadata": {},
   "outputs": [
    {
     "data": {
      "text/plain": [
       "1415"
      ]
     },
     "execution_count": 154,
     "metadata": {},
     "output_type": "execute_result"
    }
   ],
   "source": [
    "df['time'] = pd.to_datetime(df['time'])\n",
    "target = df[(df['time'].dt.month.isin([6, 7, 8])) & (df['이화동기온']>df['수영동기온'])]\n",
    "len(target.time.dt.hour)"
   ]
  },
  {
   "cell_type": "markdown",
   "id": "1225cb3e",
   "metadata": {},
   "source": [
    "**Question 82. 이화동과 수영동의 최대 강수량의 시간대를 각각 구하여라**"
   ]
  },
  {
   "cell_type": "code",
   "execution_count": 155,
   "id": "348dd10a",
   "metadata": {},
   "outputs": [
    {
     "name": "stdout",
     "output_type": "stream",
     "text": [
      "['2020-09-30T09:00:00.000000000'] ['2020-07-23T12:00:00.000000000']\n"
     ]
    }
   ],
   "source": [
    "answer1 = df.loc[df['이화동강수']==df['이화동강수'].max()].time.values\n",
    "answer2 = df.loc[df['수영동강수']==df['수영동강수'].max()].time.values\n",
    "print(answer1, answer2)"
   ]
  },
  {
   "cell_type": "code",
   "execution_count": 156,
   "id": "dee1d9e6",
   "metadata": {},
   "outputs": [],
   "source": [
    "# print(df[df.이화동강수 == df.이화동강수.max()]['time'], df[df.수영동강수 == df.수영동강수.max()]['time'])"
   ]
  },
  {
   "cell_type": "markdown",
   "id": "dbc3fedc",
   "metadata": {},
   "source": [
    "# 서비스 이탈예측 데이터"
   ]
  },
  {
   "cell_type": "code",
   "execution_count": 157,
   "id": "b5a27b43",
   "metadata": {},
   "outputs": [],
   "source": [
    "df = pd.read_csv(\"https://raw.githubusercontent.com/Datamanim/datarepo/main/churn/train.csv\")"
   ]
  },
  {
   "cell_type": "code",
   "execution_count": 158,
   "id": "4edd3a23",
   "metadata": {},
   "outputs": [
    {
     "data": {
      "text/html": [
       "<div>\n",
       "<style scoped>\n",
       "    .dataframe tbody tr th:only-of-type {\n",
       "        vertical-align: middle;\n",
       "    }\n",
       "\n",
       "    .dataframe tbody tr th {\n",
       "        vertical-align: top;\n",
       "    }\n",
       "\n",
       "    .dataframe thead th {\n",
       "        text-align: right;\n",
       "    }\n",
       "</style>\n",
       "<table border=\"1\" class=\"dataframe\">\n",
       "  <thead>\n",
       "    <tr style=\"text-align: right;\">\n",
       "      <th></th>\n",
       "      <th>RowNumber</th>\n",
       "      <th>CustomerId</th>\n",
       "      <th>Surname</th>\n",
       "      <th>CreditScore</th>\n",
       "      <th>Geography</th>\n",
       "      <th>Gender</th>\n",
       "      <th>Age</th>\n",
       "      <th>Tenure</th>\n",
       "      <th>Balance</th>\n",
       "      <th>NumOfProducts</th>\n",
       "      <th>HasCrCard</th>\n",
       "      <th>IsActiveMember</th>\n",
       "      <th>EstimatedSalary</th>\n",
       "      <th>Exited</th>\n",
       "    </tr>\n",
       "  </thead>\n",
       "  <tbody>\n",
       "    <tr>\n",
       "      <th>0</th>\n",
       "      <td>6842</td>\n",
       "      <td>15793491</td>\n",
       "      <td>Cherkasova</td>\n",
       "      <td>714</td>\n",
       "      <td>Germany</td>\n",
       "      <td>Male</td>\n",
       "      <td>26</td>\n",
       "      <td>3</td>\n",
       "      <td>119545.48</td>\n",
       "      <td>2</td>\n",
       "      <td>1</td>\n",
       "      <td>0</td>\n",
       "      <td>65482.94</td>\n",
       "      <td>0</td>\n",
       "    </tr>\n",
       "    <tr>\n",
       "      <th>1</th>\n",
       "      <td>8963</td>\n",
       "      <td>15607874</td>\n",
       "      <td>Keane</td>\n",
       "      <td>687</td>\n",
       "      <td>France</td>\n",
       "      <td>Male</td>\n",
       "      <td>38</td>\n",
       "      <td>0</td>\n",
       "      <td>144450.58</td>\n",
       "      <td>1</td>\n",
       "      <td>0</td>\n",
       "      <td>1</td>\n",
       "      <td>137276.83</td>\n",
       "      <td>0</td>\n",
       "    </tr>\n",
       "    <tr>\n",
       "      <th>2</th>\n",
       "      <td>7047</td>\n",
       "      <td>15737627</td>\n",
       "      <td>Rivero</td>\n",
       "      <td>589</td>\n",
       "      <td>Germany</td>\n",
       "      <td>Female</td>\n",
       "      <td>20</td>\n",
       "      <td>2</td>\n",
       "      <td>121093.29</td>\n",
       "      <td>2</td>\n",
       "      <td>1</td>\n",
       "      <td>0</td>\n",
       "      <td>3529.72</td>\n",
       "      <td>0</td>\n",
       "    </tr>\n",
       "    <tr>\n",
       "      <th>3</th>\n",
       "      <td>7503</td>\n",
       "      <td>15697844</td>\n",
       "      <td>Whitehouse</td>\n",
       "      <td>721</td>\n",
       "      <td>Spain</td>\n",
       "      <td>Female</td>\n",
       "      <td>32</td>\n",
       "      <td>10</td>\n",
       "      <td>0.00</td>\n",
       "      <td>1</td>\n",
       "      <td>1</td>\n",
       "      <td>0</td>\n",
       "      <td>136119.96</td>\n",
       "      <td>1</td>\n",
       "    </tr>\n",
       "    <tr>\n",
       "      <th>4</th>\n",
       "      <td>3439</td>\n",
       "      <td>15722404</td>\n",
       "      <td>Carpenter</td>\n",
       "      <td>445</td>\n",
       "      <td>France</td>\n",
       "      <td>Female</td>\n",
       "      <td>30</td>\n",
       "      <td>3</td>\n",
       "      <td>0.00</td>\n",
       "      <td>2</td>\n",
       "      <td>1</td>\n",
       "      <td>1</td>\n",
       "      <td>127939.19</td>\n",
       "      <td>0</td>\n",
       "    </tr>\n",
       "  </tbody>\n",
       "</table>\n",
       "</div>"
      ],
      "text/plain": [
       "   RowNumber  CustomerId     Surname  CreditScore Geography  Gender  Age  \\\n",
       "0       6842    15793491  Cherkasova          714   Germany    Male   26   \n",
       "1       8963    15607874       Keane          687    France    Male   38   \n",
       "2       7047    15737627      Rivero          589   Germany  Female   20   \n",
       "3       7503    15697844  Whitehouse          721     Spain  Female   32   \n",
       "4       3439    15722404   Carpenter          445    France  Female   30   \n",
       "\n",
       "   Tenure    Balance  NumOfProducts  HasCrCard  IsActiveMember  \\\n",
       "0       3  119545.48              2          1               0   \n",
       "1       0  144450.58              1          0               1   \n",
       "2       2  121093.29              2          1               0   \n",
       "3      10       0.00              1          1               0   \n",
       "4       3       0.00              2          1               1   \n",
       "\n",
       "   EstimatedSalary  Exited  \n",
       "0         65482.94       0  \n",
       "1        137276.83       0  \n",
       "2          3529.72       0  \n",
       "3        136119.96       1  \n",
       "4        127939.19       0  "
      ]
     },
     "execution_count": 158,
     "metadata": {},
     "output_type": "execute_result"
    }
   ],
   "source": [
    "df.head()"
   ]
  },
  {
   "cell_type": "markdown",
   "id": "ca2cd42e",
   "metadata": {},
   "source": [
    "**Question 83. 남성 이탈(Exited)이 가장 많은 국가(Geography)는 어디이고 이탈 인원은 몇명인가?**"
   ]
  },
  {
   "cell_type": "code",
   "execution_count": 159,
   "id": "580bd312",
   "metadata": {},
   "outputs": [
    {
     "name": "stdout",
     "output_type": "stream",
     "text": [
      "Geography\n",
      "Germany    287\n",
      "Name: Exited, dtype: int64\n"
     ]
    },
    {
     "name": "stderr",
     "output_type": "stream",
     "text": [
      "C:\\Users\\futur\\AppData\\Local\\Temp\\ipykernel_8792\\3947877788.py:1: FutureWarning: The default value of numeric_only in DataFrameGroupBy.sum is deprecated. In a future version, numeric_only will default to False. Either specify numeric_only or select only columns which should be valid for the function.\n",
      "  answer = df.loc[df.Gender=='Male'].groupby(['Geography']).sum().Exited.sort_values(ascending=False).head(1)\n"
     ]
    }
   ],
   "source": [
    "answer = df.loc[df.Gender=='Male'].groupby(['Geography']).sum().Exited.sort_values(ascending=False).head(1)\n",
    "print(answer)"
   ]
  },
  {
   "cell_type": "code",
   "execution_count": 160,
   "id": "3672e942",
   "metadata": {
    "scrolled": true
   },
   "outputs": [
    {
     "data": {
      "text/plain": [
       "Germany    287\n",
       "Name: Geography, dtype: int64"
      ]
     },
     "execution_count": 160,
     "metadata": {},
     "output_type": "execute_result"
    }
   ],
   "source": [
    "df[(df['Gender']=='Male') & (df['Exited'] == 1)]['Geography'].value_counts().head(1)"
   ]
  },
  {
   "cell_type": "markdown",
   "id": "bcbea4f4",
   "metadata": {},
   "source": [
    "**Question 84. 카드를 소유(HasCrCard==1)하고 있으면서 활성멤버(IsActiveMember==1)인 고객들의 평균 나이를 소숫점이하 4자리까지 구하여라**"
   ]
  },
  {
   "cell_type": "code",
   "execution_count": 161,
   "id": "0bf140fe",
   "metadata": {},
   "outputs": [
    {
     "data": {
      "text/plain": [
       "39.6102"
      ]
     },
     "execution_count": 161,
     "metadata": {},
     "output_type": "execute_result"
    }
   ],
   "source": [
    "round(df[(df['HasCrCard']==1) & (df['IsActiveMember']==1)]['Age'].mean(), 4)"
   ]
  },
  {
   "cell_type": "markdown",
   "id": "0382bcab",
   "metadata": {},
   "source": [
    "**Question 85. Balance 값이 중간값 이상을 가지는 고객들의 CreditScore의 표준편차를 소숫점이하 3자리까지 구하여라**"
   ]
  },
  {
   "cell_type": "code",
   "execution_count": 162,
   "id": "e89c0e7d",
   "metadata": {},
   "outputs": [
    {
     "data": {
      "text/plain": [
       "97.295"
      ]
     },
     "execution_count": 162,
     "metadata": {},
     "output_type": "execute_result"
    }
   ],
   "source": [
    "round(df[df['Balance'] >= df['Balance'].median()]['CreditScore'].std(), 3)"
   ]
  },
  {
   "cell_type": "markdown",
   "id": "5b0475ce",
   "metadata": {},
   "source": [
    "# 성인 건강검진 데이터"
   ]
  },
  {
   "cell_type": "code",
   "execution_count": 163,
   "id": "d39c4b15",
   "metadata": {},
   "outputs": [],
   "source": [
    "df = pd.read_csv(\"https://raw.githubusercontent.com/Datamanim/datarepo/main/smoke/train.csv\")"
   ]
  },
  {
   "cell_type": "code",
   "execution_count": 164,
   "id": "394133f8",
   "metadata": {},
   "outputs": [
    {
     "data": {
      "text/html": [
       "<div>\n",
       "<style scoped>\n",
       "    .dataframe tbody tr th:only-of-type {\n",
       "        vertical-align: middle;\n",
       "    }\n",
       "\n",
       "    .dataframe tbody tr th {\n",
       "        vertical-align: top;\n",
       "    }\n",
       "\n",
       "    .dataframe thead th {\n",
       "        text-align: right;\n",
       "    }\n",
       "</style>\n",
       "<table border=\"1\" class=\"dataframe\">\n",
       "  <thead>\n",
       "    <tr style=\"text-align: right;\">\n",
       "      <th></th>\n",
       "      <th>성별코드</th>\n",
       "      <th>연령대코드(5세단위)</th>\n",
       "      <th>신장(5Cm단위)</th>\n",
       "      <th>체중(5Kg단위)</th>\n",
       "      <th>허리둘레</th>\n",
       "      <th>시력(좌)</th>\n",
       "      <th>시력(우)</th>\n",
       "      <th>청력(좌)</th>\n",
       "      <th>청력(우)</th>\n",
       "      <th>수축기혈압</th>\n",
       "      <th>...</th>\n",
       "      <th>혈색소</th>\n",
       "      <th>요단백</th>\n",
       "      <th>혈청크레아티닌</th>\n",
       "      <th>(혈청지오티)AST</th>\n",
       "      <th>(혈청지오티)ALT</th>\n",
       "      <th>감마지티피</th>\n",
       "      <th>흡연상태</th>\n",
       "      <th>구강검진수검여부</th>\n",
       "      <th>치아우식증유무</th>\n",
       "      <th>치석</th>\n",
       "    </tr>\n",
       "  </thead>\n",
       "  <tbody>\n",
       "    <tr>\n",
       "      <th>0</th>\n",
       "      <td>F</td>\n",
       "      <td>55</td>\n",
       "      <td>145</td>\n",
       "      <td>55</td>\n",
       "      <td>73.0</td>\n",
       "      <td>0.7</td>\n",
       "      <td>0.5</td>\n",
       "      <td>1.0</td>\n",
       "      <td>1.0</td>\n",
       "      <td>129.0</td>\n",
       "      <td>...</td>\n",
       "      <td>12.9</td>\n",
       "      <td>1.0</td>\n",
       "      <td>0.9</td>\n",
       "      <td>172.0</td>\n",
       "      <td>209.0</td>\n",
       "      <td>15.0</td>\n",
       "      <td>0</td>\n",
       "      <td>Y</td>\n",
       "      <td>0.0</td>\n",
       "      <td>Y</td>\n",
       "    </tr>\n",
       "    <tr>\n",
       "      <th>1</th>\n",
       "      <td>M</td>\n",
       "      <td>40</td>\n",
       "      <td>180</td>\n",
       "      <td>55</td>\n",
       "      <td>74.0</td>\n",
       "      <td>1.5</td>\n",
       "      <td>1.5</td>\n",
       "      <td>1.0</td>\n",
       "      <td>1.0</td>\n",
       "      <td>102.0</td>\n",
       "      <td>...</td>\n",
       "      <td>15.6</td>\n",
       "      <td>1.0</td>\n",
       "      <td>0.8</td>\n",
       "      <td>30.0</td>\n",
       "      <td>19.0</td>\n",
       "      <td>23.0</td>\n",
       "      <td>1</td>\n",
       "      <td>Y</td>\n",
       "      <td>0.0</td>\n",
       "      <td>Y</td>\n",
       "    </tr>\n",
       "    <tr>\n",
       "      <th>2</th>\n",
       "      <td>F</td>\n",
       "      <td>55</td>\n",
       "      <td>150</td>\n",
       "      <td>50</td>\n",
       "      <td>72.0</td>\n",
       "      <td>1.0</td>\n",
       "      <td>0.2</td>\n",
       "      <td>1.0</td>\n",
       "      <td>1.0</td>\n",
       "      <td>116.0</td>\n",
       "      <td>...</td>\n",
       "      <td>14.1</td>\n",
       "      <td>1.0</td>\n",
       "      <td>1.0</td>\n",
       "      <td>31.0</td>\n",
       "      <td>19.0</td>\n",
       "      <td>10.0</td>\n",
       "      <td>0</td>\n",
       "      <td>Y</td>\n",
       "      <td>0.0</td>\n",
       "      <td>N</td>\n",
       "    </tr>\n",
       "    <tr>\n",
       "      <th>3</th>\n",
       "      <td>M</td>\n",
       "      <td>40</td>\n",
       "      <td>170</td>\n",
       "      <td>85</td>\n",
       "      <td>89.0</td>\n",
       "      <td>1.0</td>\n",
       "      <td>0.8</td>\n",
       "      <td>1.0</td>\n",
       "      <td>1.0</td>\n",
       "      <td>124.0</td>\n",
       "      <td>...</td>\n",
       "      <td>16.7</td>\n",
       "      <td>1.0</td>\n",
       "      <td>1.0</td>\n",
       "      <td>26.0</td>\n",
       "      <td>38.0</td>\n",
       "      <td>108.0</td>\n",
       "      <td>1</td>\n",
       "      <td>Y</td>\n",
       "      <td>1.0</td>\n",
       "      <td>Y</td>\n",
       "    </tr>\n",
       "    <tr>\n",
       "      <th>4</th>\n",
       "      <td>F</td>\n",
       "      <td>40</td>\n",
       "      <td>155</td>\n",
       "      <td>45</td>\n",
       "      <td>62.0</td>\n",
       "      <td>0.5</td>\n",
       "      <td>1.0</td>\n",
       "      <td>1.0</td>\n",
       "      <td>1.0</td>\n",
       "      <td>127.0</td>\n",
       "      <td>...</td>\n",
       "      <td>12.9</td>\n",
       "      <td>1.0</td>\n",
       "      <td>0.7</td>\n",
       "      <td>20.0</td>\n",
       "      <td>11.0</td>\n",
       "      <td>13.0</td>\n",
       "      <td>0</td>\n",
       "      <td>Y</td>\n",
       "      <td>0.0</td>\n",
       "      <td>N</td>\n",
       "    </tr>\n",
       "  </tbody>\n",
       "</table>\n",
       "<p>5 rows × 26 columns</p>\n",
       "</div>"
      ],
      "text/plain": [
       "  성별코드  연령대코드(5세단위)  신장(5Cm단위)  체중(5Kg단위)  허리둘레  시력(좌)  시력(우)  청력(좌)  청력(우)  \\\n",
       "0    F           55        145         55  73.0    0.7    0.5    1.0    1.0   \n",
       "1    M           40        180         55  74.0    1.5    1.5    1.0    1.0   \n",
       "2    F           55        150         50  72.0    1.0    0.2    1.0    1.0   \n",
       "3    M           40        170         85  89.0    1.0    0.8    1.0    1.0   \n",
       "4    F           40        155         45  62.0    0.5    1.0    1.0    1.0   \n",
       "\n",
       "   수축기혈압  ...   혈색소  요단백  혈청크레아티닌  (혈청지오티)AST  (혈청지오티)ALT  감마지티피  흡연상태  \\\n",
       "0  129.0  ...  12.9  1.0      0.9       172.0       209.0   15.0     0   \n",
       "1  102.0  ...  15.6  1.0      0.8        30.0        19.0   23.0     1   \n",
       "2  116.0  ...  14.1  1.0      1.0        31.0        19.0   10.0     0   \n",
       "3  124.0  ...  16.7  1.0      1.0        26.0        38.0  108.0     1   \n",
       "4  127.0  ...  12.9  1.0      0.7        20.0        11.0   13.0     0   \n",
       "\n",
       "   구강검진수검여부  치아우식증유무  치석  \n",
       "0         Y      0.0   Y  \n",
       "1         Y      0.0   Y  \n",
       "2         Y      0.0   N  \n",
       "3         Y      1.0   Y  \n",
       "4         Y      0.0   N  \n",
       "\n",
       "[5 rows x 26 columns]"
      ]
     },
     "execution_count": 164,
     "metadata": {},
     "output_type": "execute_result"
    }
   ],
   "source": [
    "df.head()"
   ]
  },
  {
   "cell_type": "code",
   "execution_count": 165,
   "id": "ccc1712d",
   "metadata": {},
   "outputs": [
    {
     "name": "stdout",
     "output_type": "stream",
     "text": [
      "<class 'pandas.core.frame.DataFrame'>\n",
      "RangeIndex: 44553 entries, 0 to 44552\n",
      "Data columns (total 26 columns):\n",
      " #   Column       Non-Null Count  Dtype  \n",
      "---  ------       --------------  -----  \n",
      " 0   성별코드         44553 non-null  object \n",
      " 1   연령대코드(5세단위)  44553 non-null  int64  \n",
      " 2   신장(5Cm단위)    44553 non-null  int64  \n",
      " 3   체중(5Kg단위)    44553 non-null  int64  \n",
      " 4   허리둘레         44553 non-null  float64\n",
      " 5   시력(좌)        44553 non-null  float64\n",
      " 6   시력(우)        44553 non-null  float64\n",
      " 7   청력(좌)        44553 non-null  float64\n",
      " 8   청력(우)        44553 non-null  float64\n",
      " 9   수축기혈압        44553 non-null  float64\n",
      " 10  이완기혈압        44553 non-null  float64\n",
      " 11  식전혈당(공복혈당)   44553 non-null  float64\n",
      " 12  총콜레스테롤       44553 non-null  float64\n",
      " 13  트리글리세라이드     44553 non-null  float64\n",
      " 14  HDL콜레스테롤     44553 non-null  float64\n",
      " 15  LDL콜레스테롤     44553 non-null  float64\n",
      " 16  혈색소          44553 non-null  float64\n",
      " 17  요단백          44553 non-null  float64\n",
      " 18  혈청크레아티닌      44553 non-null  float64\n",
      " 19  (혈청지오티)AST   44553 non-null  float64\n",
      " 20  (혈청지오티)ALT   44553 non-null  float64\n",
      " 21  감마지티피        44553 non-null  float64\n",
      " 22  흡연상태         44553 non-null  int64  \n",
      " 23  구강검진수검여부     44553 non-null  object \n",
      " 24  치아우식증유무      44553 non-null  float64\n",
      " 25  치석           44553 non-null  object \n",
      "dtypes: float64(19), int64(4), object(3)\n",
      "memory usage: 8.8+ MB\n"
     ]
    }
   ],
   "source": [
    "df.info()"
   ]
  },
  {
   "cell_type": "markdown",
   "id": "4fb51009",
   "metadata": {},
   "source": [
    "**Question 86. 수축기혈압과 이완기 혈압기 수치의 차이를 새로운 컬럼(‘혈압차’) 으로 생성하고, 연령대 코드별 각 그룹 중 ‘혈압차’ 의 분산이 5번째로 큰 연령대 코드를 구하여라**"
   ]
  },
  {
   "cell_type": "code",
   "execution_count": 166,
   "id": "396944b1",
   "metadata": {},
   "outputs": [
    {
     "data": {
      "text/plain": [
       "60"
      ]
     },
     "execution_count": 166,
     "metadata": {},
     "output_type": "execute_result"
    }
   ],
   "source": [
    "df['혈압차'] = df['수축기혈압'] - df['이완기혈압']\n",
    "df.groupby('연령대코드(5세단위)').var(numeric_only=True)['혈압차'].sort_values(ascending=False).index[4]"
   ]
  },
  {
   "cell_type": "code",
   "execution_count": 167,
   "id": "c806f533",
   "metadata": {},
   "outputs": [
    {
     "data": {
      "text/plain": [
       "60"
      ]
     },
     "execution_count": 167,
     "metadata": {},
     "output_type": "execute_result"
    }
   ],
   "source": [
    "df.groupby('연령대코드(5세단위)')['혈압차'].var().sort_values().index[-5]"
   ]
  },
  {
   "cell_type": "markdown",
   "id": "58b4b866",
   "metadata": {},
   "source": [
    "**Question 87. 비만도를 나타내는 지표인 WHtR는 허리둘레 / 키로 표현한다. 일반적으로 0.58이상이면 비만으로 분류한다. 데이터중 WHtR 지표상 비만인 인원의 남/여 비율을 구하여라**"
   ]
  },
  {
   "cell_type": "code",
   "execution_count": 168,
   "id": "2d8ee4b9",
   "metadata": {},
   "outputs": [
    {
     "data": {
      "text/plain": [
       "1.1693877551020408"
      ]
     },
     "execution_count": 168,
     "metadata": {},
     "output_type": "execute_result"
    }
   ],
   "source": [
    "df['WHtR'] = df['허리둘레'] / df['신장(5Cm단위)']\n",
    "target = df[df['WHtR']>=0.58].groupby('성별코드').size()\n",
    "target.M/target.F"
   ]
  },
  {
   "cell_type": "code",
   "execution_count": 169,
   "id": "ff6c3628",
   "metadata": {},
   "outputs": [
    {
     "name": "stdout",
     "output_type": "stream",
     "text": [
      "1.1693877551020408\n"
     ]
    }
   ],
   "source": [
    "data = df.loc[df['WHtR']>=0.58].성별코드.value_counts()\n",
    "answer = data['M']/data['F']\n",
    "print(answer)"
   ]
  },
  {
   "cell_type": "code",
   "execution_count": null,
   "id": "4e0421ba",
   "metadata": {},
   "outputs": [],
   "source": []
  },
  {
   "cell_type": "markdown",
   "id": "1226b2fe",
   "metadata": {},
   "source": [
    "# 자동차 보험가입 예측 데이터"
   ]
  },
  {
   "cell_type": "code",
   "execution_count": 170,
   "id": "cab573b0",
   "metadata": {},
   "outputs": [],
   "source": [
    "df = pd.read_csv(\"https://raw.githubusercontent.com/Datamanim/datarepo/main/insurance/train.csv\")"
   ]
  },
  {
   "cell_type": "code",
   "execution_count": 171,
   "id": "6820628c",
   "metadata": {},
   "outputs": [
    {
     "data": {
      "text/html": [
       "<div>\n",
       "<style scoped>\n",
       "    .dataframe tbody tr th:only-of-type {\n",
       "        vertical-align: middle;\n",
       "    }\n",
       "\n",
       "    .dataframe tbody tr th {\n",
       "        vertical-align: top;\n",
       "    }\n",
       "\n",
       "    .dataframe thead th {\n",
       "        text-align: right;\n",
       "    }\n",
       "</style>\n",
       "<table border=\"1\" class=\"dataframe\">\n",
       "  <thead>\n",
       "    <tr style=\"text-align: right;\">\n",
       "      <th></th>\n",
       "      <th>id</th>\n",
       "      <th>Gender</th>\n",
       "      <th>Age</th>\n",
       "      <th>Driving_License</th>\n",
       "      <th>Region_Code</th>\n",
       "      <th>Previously_Insured</th>\n",
       "      <th>Vehicle_Age</th>\n",
       "      <th>Vehicle_Damage</th>\n",
       "      <th>Annual_Premium</th>\n",
       "      <th>Policy_Sales_Channel</th>\n",
       "      <th>Vintage</th>\n",
       "      <th>Response</th>\n",
       "    </tr>\n",
       "  </thead>\n",
       "  <tbody>\n",
       "    <tr>\n",
       "      <th>0</th>\n",
       "      <td>188957</td>\n",
       "      <td>Female</td>\n",
       "      <td>25</td>\n",
       "      <td>1</td>\n",
       "      <td>17.0</td>\n",
       "      <td>1</td>\n",
       "      <td>&lt; 1 Year</td>\n",
       "      <td>No</td>\n",
       "      <td>38785.0</td>\n",
       "      <td>152.0</td>\n",
       "      <td>59</td>\n",
       "      <td>0</td>\n",
       "    </tr>\n",
       "    <tr>\n",
       "      <th>1</th>\n",
       "      <td>275631</td>\n",
       "      <td>Male</td>\n",
       "      <td>20</td>\n",
       "      <td>1</td>\n",
       "      <td>22.0</td>\n",
       "      <td>0</td>\n",
       "      <td>&lt; 1 Year</td>\n",
       "      <td>No</td>\n",
       "      <td>2630.0</td>\n",
       "      <td>160.0</td>\n",
       "      <td>113</td>\n",
       "      <td>0</td>\n",
       "    </tr>\n",
       "    <tr>\n",
       "      <th>2</th>\n",
       "      <td>329036</td>\n",
       "      <td>Female</td>\n",
       "      <td>40</td>\n",
       "      <td>1</td>\n",
       "      <td>41.0</td>\n",
       "      <td>0</td>\n",
       "      <td>1-2 Year</td>\n",
       "      <td>Yes</td>\n",
       "      <td>33165.0</td>\n",
       "      <td>124.0</td>\n",
       "      <td>188</td>\n",
       "      <td>0</td>\n",
       "    </tr>\n",
       "    <tr>\n",
       "      <th>3</th>\n",
       "      <td>227288</td>\n",
       "      <td>Female</td>\n",
       "      <td>28</td>\n",
       "      <td>1</td>\n",
       "      <td>30.0</td>\n",
       "      <td>1</td>\n",
       "      <td>&lt; 1 Year</td>\n",
       "      <td>No</td>\n",
       "      <td>29038.0</td>\n",
       "      <td>152.0</td>\n",
       "      <td>233</td>\n",
       "      <td>0</td>\n",
       "    </tr>\n",
       "    <tr>\n",
       "      <th>4</th>\n",
       "      <td>300441</td>\n",
       "      <td>Female</td>\n",
       "      <td>50</td>\n",
       "      <td>1</td>\n",
       "      <td>28.0</td>\n",
       "      <td>0</td>\n",
       "      <td>1-2 Year</td>\n",
       "      <td>Yes</td>\n",
       "      <td>31325.0</td>\n",
       "      <td>124.0</td>\n",
       "      <td>258</td>\n",
       "      <td>0</td>\n",
       "    </tr>\n",
       "  </tbody>\n",
       "</table>\n",
       "</div>"
      ],
      "text/plain": [
       "       id  Gender  Age  Driving_License  Region_Code  Previously_Insured  \\\n",
       "0  188957  Female   25                1         17.0                   1   \n",
       "1  275631    Male   20                1         22.0                   0   \n",
       "2  329036  Female   40                1         41.0                   0   \n",
       "3  227288  Female   28                1         30.0                   1   \n",
       "4  300441  Female   50                1         28.0                   0   \n",
       "\n",
       "  Vehicle_Age Vehicle_Damage  Annual_Premium  Policy_Sales_Channel  Vintage  \\\n",
       "0    < 1 Year             No         38785.0                 152.0       59   \n",
       "1    < 1 Year             No          2630.0                 160.0      113   \n",
       "2    1-2 Year            Yes         33165.0                 124.0      188   \n",
       "3    < 1 Year             No         29038.0                 152.0      233   \n",
       "4    1-2 Year            Yes         31325.0                 124.0      258   \n",
       "\n",
       "   Response  \n",
       "0         0  \n",
       "1         0  \n",
       "2         0  \n",
       "3         0  \n",
       "4         0  "
      ]
     },
     "execution_count": 171,
     "metadata": {},
     "output_type": "execute_result"
    }
   ],
   "source": [
    "df.head()"
   ]
  },
  {
   "cell_type": "markdown",
   "id": "85c028c4",
   "metadata": {},
   "source": [
    "**Question 88. Vehicle_Age 값이 2년 이상인 사람들만 필터링 하고 그중에서\n",
    "Annual_Premium 값이 전체 데이터의 중간값 이상인 사람들을 찾고, 그들의 Vintage값의 평균을 구하여라**"
   ]
  },
  {
   "cell_type": "code",
   "execution_count": 172,
   "id": "b7c11aa9",
   "metadata": {},
   "outputs": [
    {
     "data": {
      "text/plain": [
       "array(['< 1 Year', '1-2 Year', '> 2 Years'], dtype=object)"
      ]
     },
     "execution_count": 172,
     "metadata": {},
     "output_type": "execute_result"
    }
   ],
   "source": [
    "df['Vehicle_Age'].unique()"
   ]
  },
  {
   "cell_type": "code",
   "execution_count": 173,
   "id": "7738a7d4",
   "metadata": {},
   "outputs": [
    {
     "data": {
      "text/plain": [
       "154.43647182359118"
      ]
     },
     "execution_count": 173,
     "metadata": {},
     "output_type": "execute_result"
    }
   ],
   "source": [
    "df[(df['Vehicle_Age']=='> 2 Years') & (df['Annual_Premium']>=df['Annual_Premium'].median())]['Vintage'].mean()"
   ]
  },
  {
   "cell_type": "markdown",
   "id": "268f0c09",
   "metadata": {},
   "source": [
    "**Question 89. vehicle_age에 따른 각 성별(gender)그룹의 Annual_Premium값의 평균을 구하여 아래 테이블과 동일하게 구현하라**"
   ]
  },
  {
   "cell_type": "code",
   "execution_count": 174,
   "id": "082b794f",
   "metadata": {},
   "outputs": [
    {
     "data": {
      "text/html": [
       "<div>\n",
       "<style scoped>\n",
       "    .dataframe tbody tr th:only-of-type {\n",
       "        vertical-align: middle;\n",
       "    }\n",
       "\n",
       "    .dataframe tbody tr th {\n",
       "        vertical-align: top;\n",
       "    }\n",
       "\n",
       "    .dataframe thead th {\n",
       "        text-align: right;\n",
       "    }\n",
       "</style>\n",
       "<table border=\"1\" class=\"dataframe\">\n",
       "  <thead>\n",
       "    <tr style=\"text-align: right;\">\n",
       "      <th>Gender</th>\n",
       "      <th>Female</th>\n",
       "      <th>Male</th>\n",
       "    </tr>\n",
       "    <tr>\n",
       "      <th>Vehicle_Age</th>\n",
       "      <th></th>\n",
       "      <th></th>\n",
       "    </tr>\n",
       "  </thead>\n",
       "  <tbody>\n",
       "    <tr>\n",
       "      <th>1-2 Year</th>\n",
       "      <td>30762.245001</td>\n",
       "      <td>30413.088469</td>\n",
       "    </tr>\n",
       "    <tr>\n",
       "      <th>&lt; 1 Year</th>\n",
       "      <td>29972.286702</td>\n",
       "      <td>30310.982212</td>\n",
       "    </tr>\n",
       "    <tr>\n",
       "      <th>&gt; 2 Years</th>\n",
       "      <td>36108.366374</td>\n",
       "      <td>35303.870627</td>\n",
       "    </tr>\n",
       "  </tbody>\n",
       "</table>\n",
       "</div>"
      ],
      "text/plain": [
       "Gender             Female          Male\n",
       "Vehicle_Age                            \n",
       "1-2 Year     30762.245001  30413.088469\n",
       "< 1 Year     29972.286702  30310.982212\n",
       "> 2 Years    36108.366374  35303.870627"
      ]
     },
     "execution_count": 174,
     "metadata": {},
     "output_type": "execute_result"
    }
   ],
   "source": [
    "meandf = df.groupby(['Gender', 'Vehicle_Age'], as_index=False)['Annual_Premium'].mean()\n",
    "meandf.pivot(index='Vehicle_Age', columns='Gender', values='Annual_Premium')"
   ]
  },
  {
   "cell_type": "code",
   "execution_count": 175,
   "id": "2b4e3141",
   "metadata": {},
   "outputs": [
    {
     "data": {
      "text/html": [
       "<div>\n",
       "<style scoped>\n",
       "    .dataframe tbody tr th:only-of-type {\n",
       "        vertical-align: middle;\n",
       "    }\n",
       "\n",
       "    .dataframe tbody tr th {\n",
       "        vertical-align: top;\n",
       "    }\n",
       "\n",
       "    .dataframe thead th {\n",
       "        text-align: right;\n",
       "    }\n",
       "</style>\n",
       "<table border=\"1\" class=\"dataframe\">\n",
       "  <thead>\n",
       "    <tr style=\"text-align: right;\">\n",
       "      <th>Gender</th>\n",
       "      <th>Female</th>\n",
       "      <th>Male</th>\n",
       "    </tr>\n",
       "    <tr>\n",
       "      <th>Vehicle_Age</th>\n",
       "      <th></th>\n",
       "      <th></th>\n",
       "    </tr>\n",
       "  </thead>\n",
       "  <tbody>\n",
       "    <tr>\n",
       "      <th>1-2 Year</th>\n",
       "      <td>30762.245001</td>\n",
       "      <td>30413.088469</td>\n",
       "    </tr>\n",
       "    <tr>\n",
       "      <th>&lt; 1 Year</th>\n",
       "      <td>29972.286702</td>\n",
       "      <td>30310.982212</td>\n",
       "    </tr>\n",
       "    <tr>\n",
       "      <th>&gt; 2 Years</th>\n",
       "      <td>36108.366374</td>\n",
       "      <td>35303.870627</td>\n",
       "    </tr>\n",
       "  </tbody>\n",
       "</table>\n",
       "</div>"
      ],
      "text/plain": [
       "Gender             Female          Male\n",
       "Vehicle_Age                            \n",
       "1-2 Year     30762.245001  30413.088469\n",
       "< 1 Year     29972.286702  30310.982212\n",
       "> 2 Years    36108.366374  35303.870627"
      ]
     },
     "execution_count": 175,
     "metadata": {},
     "output_type": "execute_result"
    }
   ],
   "source": [
    "df.pivot_table(index='Vehicle_Age', columns='Gender', values='Annual_Premium', aggfunc='mean')"
   ]
  },
  {
   "cell_type": "markdown",
   "id": "84495b2d",
   "metadata": {},
   "source": [
    "# 핸드폰 가격 예측데이터"
   ]
  },
  {
   "cell_type": "code",
   "execution_count": 176,
   "id": "8beb2103",
   "metadata": {},
   "outputs": [],
   "source": [
    "df = pd.read_csv(\"https://raw.githubusercontent.com/Datamanim/datarepo/main/mobile/train.csv\")"
   ]
  },
  {
   "cell_type": "code",
   "execution_count": 177,
   "id": "ef8c9c89",
   "metadata": {},
   "outputs": [
    {
     "data": {
      "text/html": [
       "<div>\n",
       "<style scoped>\n",
       "    .dataframe tbody tr th:only-of-type {\n",
       "        vertical-align: middle;\n",
       "    }\n",
       "\n",
       "    .dataframe tbody tr th {\n",
       "        vertical-align: top;\n",
       "    }\n",
       "\n",
       "    .dataframe thead th {\n",
       "        text-align: right;\n",
       "    }\n",
       "</style>\n",
       "<table border=\"1\" class=\"dataframe\">\n",
       "  <thead>\n",
       "    <tr style=\"text-align: right;\">\n",
       "      <th></th>\n",
       "      <th>battery_power</th>\n",
       "      <th>blue</th>\n",
       "      <th>clock_speed</th>\n",
       "      <th>dual_sim</th>\n",
       "      <th>fc</th>\n",
       "      <th>four_g</th>\n",
       "      <th>int_memory</th>\n",
       "      <th>m_dep</th>\n",
       "      <th>mobile_wt</th>\n",
       "      <th>n_cores</th>\n",
       "      <th>...</th>\n",
       "      <th>px_height</th>\n",
       "      <th>px_width</th>\n",
       "      <th>ram</th>\n",
       "      <th>sc_h</th>\n",
       "      <th>sc_w</th>\n",
       "      <th>talk_time</th>\n",
       "      <th>three_g</th>\n",
       "      <th>touch_screen</th>\n",
       "      <th>wifi</th>\n",
       "      <th>price_range</th>\n",
       "    </tr>\n",
       "  </thead>\n",
       "  <tbody>\n",
       "    <tr>\n",
       "      <th>0</th>\n",
       "      <td>842</td>\n",
       "      <td>0</td>\n",
       "      <td>2.2</td>\n",
       "      <td>0</td>\n",
       "      <td>1</td>\n",
       "      <td>0</td>\n",
       "      <td>7</td>\n",
       "      <td>0.6</td>\n",
       "      <td>188</td>\n",
       "      <td>2</td>\n",
       "      <td>...</td>\n",
       "      <td>20</td>\n",
       "      <td>756</td>\n",
       "      <td>2549</td>\n",
       "      <td>9</td>\n",
       "      <td>7</td>\n",
       "      <td>19</td>\n",
       "      <td>0</td>\n",
       "      <td>0</td>\n",
       "      <td>1</td>\n",
       "      <td>1</td>\n",
       "    </tr>\n",
       "    <tr>\n",
       "      <th>1</th>\n",
       "      <td>1021</td>\n",
       "      <td>1</td>\n",
       "      <td>0.5</td>\n",
       "      <td>1</td>\n",
       "      <td>0</td>\n",
       "      <td>1</td>\n",
       "      <td>53</td>\n",
       "      <td>0.7</td>\n",
       "      <td>136</td>\n",
       "      <td>3</td>\n",
       "      <td>...</td>\n",
       "      <td>905</td>\n",
       "      <td>1988</td>\n",
       "      <td>2631</td>\n",
       "      <td>17</td>\n",
       "      <td>3</td>\n",
       "      <td>7</td>\n",
       "      <td>1</td>\n",
       "      <td>1</td>\n",
       "      <td>0</td>\n",
       "      <td>2</td>\n",
       "    </tr>\n",
       "    <tr>\n",
       "      <th>2</th>\n",
       "      <td>563</td>\n",
       "      <td>1</td>\n",
       "      <td>0.5</td>\n",
       "      <td>1</td>\n",
       "      <td>2</td>\n",
       "      <td>1</td>\n",
       "      <td>41</td>\n",
       "      <td>0.9</td>\n",
       "      <td>145</td>\n",
       "      <td>5</td>\n",
       "      <td>...</td>\n",
       "      <td>1263</td>\n",
       "      <td>1716</td>\n",
       "      <td>2603</td>\n",
       "      <td>11</td>\n",
       "      <td>2</td>\n",
       "      <td>9</td>\n",
       "      <td>1</td>\n",
       "      <td>1</td>\n",
       "      <td>0</td>\n",
       "      <td>2</td>\n",
       "    </tr>\n",
       "    <tr>\n",
       "      <th>3</th>\n",
       "      <td>615</td>\n",
       "      <td>1</td>\n",
       "      <td>2.5</td>\n",
       "      <td>0</td>\n",
       "      <td>0</td>\n",
       "      <td>0</td>\n",
       "      <td>10</td>\n",
       "      <td>0.8</td>\n",
       "      <td>131</td>\n",
       "      <td>6</td>\n",
       "      <td>...</td>\n",
       "      <td>1216</td>\n",
       "      <td>1786</td>\n",
       "      <td>2769</td>\n",
       "      <td>16</td>\n",
       "      <td>8</td>\n",
       "      <td>11</td>\n",
       "      <td>1</td>\n",
       "      <td>0</td>\n",
       "      <td>0</td>\n",
       "      <td>2</td>\n",
       "    </tr>\n",
       "    <tr>\n",
       "      <th>4</th>\n",
       "      <td>1821</td>\n",
       "      <td>1</td>\n",
       "      <td>1.2</td>\n",
       "      <td>0</td>\n",
       "      <td>13</td>\n",
       "      <td>1</td>\n",
       "      <td>44</td>\n",
       "      <td>0.6</td>\n",
       "      <td>141</td>\n",
       "      <td>2</td>\n",
       "      <td>...</td>\n",
       "      <td>1208</td>\n",
       "      <td>1212</td>\n",
       "      <td>1411</td>\n",
       "      <td>8</td>\n",
       "      <td>2</td>\n",
       "      <td>15</td>\n",
       "      <td>1</td>\n",
       "      <td>1</td>\n",
       "      <td>0</td>\n",
       "      <td>1</td>\n",
       "    </tr>\n",
       "  </tbody>\n",
       "</table>\n",
       "<p>5 rows × 21 columns</p>\n",
       "</div>"
      ],
      "text/plain": [
       "   battery_power  blue  clock_speed  dual_sim  fc  four_g  int_memory  m_dep  \\\n",
       "0            842     0          2.2         0   1       0           7    0.6   \n",
       "1           1021     1          0.5         1   0       1          53    0.7   \n",
       "2            563     1          0.5         1   2       1          41    0.9   \n",
       "3            615     1          2.5         0   0       0          10    0.8   \n",
       "4           1821     1          1.2         0  13       1          44    0.6   \n",
       "\n",
       "   mobile_wt  n_cores  ...  px_height  px_width   ram  sc_h  sc_w  talk_time  \\\n",
       "0        188        2  ...         20       756  2549     9     7         19   \n",
       "1        136        3  ...        905      1988  2631    17     3          7   \n",
       "2        145        5  ...       1263      1716  2603    11     2          9   \n",
       "3        131        6  ...       1216      1786  2769    16     8         11   \n",
       "4        141        2  ...       1208      1212  1411     8     2         15   \n",
       "\n",
       "   three_g  touch_screen  wifi  price_range  \n",
       "0        0             0     1            1  \n",
       "1        1             1     0            2  \n",
       "2        1             1     0            2  \n",
       "3        1             0     0            2  \n",
       "4        1             1     0            1  \n",
       "\n",
       "[5 rows x 21 columns]"
      ]
     },
     "execution_count": 177,
     "metadata": {},
     "output_type": "execute_result"
    }
   ],
   "source": [
    "df.head()"
   ]
  },
  {
   "cell_type": "markdown",
   "id": "7b502429",
   "metadata": {},
   "source": [
    "**Question 90. price_range 의 각 value를 그룹핑하여 각 그룹의 n_cores 의 빈도가 가장높은 value와 그 빈도수를 구하여라**"
   ]
  },
  {
   "cell_type": "code",
   "execution_count": 178,
   "id": "7ae31b91",
   "metadata": {},
   "outputs": [
    {
     "name": "stderr",
     "output_type": "stream",
     "text": [
      "C:\\Users\\futur\\AppData\\Local\\Temp\\ipykernel_8792\\2738451872.py:1: FutureWarning: In a future version of pandas all arguments of Series.sort_values will be keyword-only.\n",
      "  df[['price_range', 'n_cores']].groupby(['price_range', 'n_cores']).size().sort_values(0).groupby(level=0).tail(1)\n"
     ]
    },
    {
     "data": {
      "text/plain": [
       "price_range  n_cores\n",
       "0            2          69\n",
       "3            5          70\n",
       "2            4          73\n",
       "1            1          76\n",
       "dtype: int64"
      ]
     },
     "execution_count": 178,
     "metadata": {},
     "output_type": "execute_result"
    }
   ],
   "source": [
    "df[['price_range', 'n_cores']].groupby(['price_range', 'n_cores']).size().sort_values(0).groupby(level=0).tail(1)"
   ]
  },
  {
   "cell_type": "code",
   "execution_count": 179,
   "id": "37ef8ccb",
   "metadata": {
    "scrolled": true
   },
   "outputs": [
    {
     "name": "stderr",
     "output_type": "stream",
     "text": [
      "C:\\Users\\futur\\AppData\\Local\\Temp\\ipykernel_8792\\2257681911.py:1: FutureWarning: In a future version of pandas all arguments of Series.sort_values will be keyword-only.\n",
      "  df[['price_range', 'n_cores']].groupby(['price_range', 'n_cores']).size().sort_values(0)\n"
     ]
    },
    {
     "data": {
      "text/plain": [
       "price_range  n_cores\n",
       "0            1          49\n",
       "1            5          51\n",
       "2            1          52\n",
       "1            6          54\n",
       "             7          55\n",
       "2            3          56\n",
       "             6          57\n",
       "             2          57\n",
       "3            6          58\n",
       "             4          58\n",
       "             3          59\n",
       "             8          59\n",
       "0            5          59\n",
       "1            2          59\n",
       "             8          60\n",
       "0            6          61\n",
       "             3          62\n",
       "3            2          62\n",
       "             1          65\n",
       "0            7          66\n",
       "2            5          66\n",
       "0            8          67\n",
       "             4          67\n",
       "3            7          69\n",
       "0            2          69\n",
       "1            3          69\n",
       "2            7          69\n",
       "3            5          70\n",
       "2            8          70\n",
       "             4          73\n",
       "1            4          76\n",
       "             1          76\n",
       "dtype: int64"
      ]
     },
     "execution_count": 179,
     "metadata": {},
     "output_type": "execute_result"
    }
   ],
   "source": [
    "df[['price_range', 'n_cores']].groupby(['price_range', 'n_cores']).size().sort_values(0)"
   ]
  },
  {
   "cell_type": "markdown",
   "id": "eb2dd6ba",
   "metadata": {},
   "source": [
    "**Question 91. price_range 값이 3인 그룹에서 상관관계가 2번째로 높은 두 컬럼과 그 상관계수를 구하여라**"
   ]
  },
  {
   "cell_type": "code",
   "execution_count": 180,
   "id": "4cc1f17a",
   "metadata": {},
   "outputs": [
    {
     "name": "stdout",
     "output_type": "stream",
     "text": [
      "level_0          pc\n",
      "level_1          fc\n",
      "0          0.635166\n",
      "Name: 1, dtype: object\n"
     ]
    }
   ],
   "source": [
    "cordf = df.loc[df['price_range']==3].corr().unstack().sort_values(ascending=False)\n",
    "answer  = cordf.loc[cordf!=1].reset_index().iloc[1]\n",
    "print(answer)"
   ]
  },
  {
   "cell_type": "code",
   "execution_count": 181,
   "id": "36eb1d23",
   "metadata": {},
   "outputs": [
    {
     "data": {
      "text/plain": [
       "level_0          fc\n",
       "level_1          pc\n",
       "0          0.635166\n",
       "Name: 1, dtype: object"
      ]
     },
     "execution_count": 181,
     "metadata": {},
     "output_type": "execute_result"
    }
   ],
   "source": [
    "target = df[df['price_range']==3].corr().unstack().to_frame()\n",
    "target[target[0]!=1].sort_values(0, ascending=False).reset_index().iloc[1, :]"
   ]
  },
  {
   "cell_type": "markdown",
   "id": "772f2781",
   "metadata": {},
   "source": [
    "# 비행 탑승 경험 만족도 데이터"
   ]
  },
  {
   "cell_type": "code",
   "execution_count": 182,
   "id": "9d0c7cbb",
   "metadata": {},
   "outputs": [],
   "source": [
    "df = pd.read_csv(\"https://raw.githubusercontent.com/Datamanim/datarepo/main/airline/train.csv\")"
   ]
  },
  {
   "cell_type": "code",
   "execution_count": 183,
   "id": "bd7e0b51",
   "metadata": {},
   "outputs": [
    {
     "data": {
      "text/html": [
       "<div>\n",
       "<style scoped>\n",
       "    .dataframe tbody tr th:only-of-type {\n",
       "        vertical-align: middle;\n",
       "    }\n",
       "\n",
       "    .dataframe tbody tr th {\n",
       "        vertical-align: top;\n",
       "    }\n",
       "\n",
       "    .dataframe thead th {\n",
       "        text-align: right;\n",
       "    }\n",
       "</style>\n",
       "<table border=\"1\" class=\"dataframe\">\n",
       "  <thead>\n",
       "    <tr style=\"text-align: right;\">\n",
       "      <th></th>\n",
       "      <th>id</th>\n",
       "      <th>Gender</th>\n",
       "      <th>Customer Type</th>\n",
       "      <th>Age</th>\n",
       "      <th>Type of Travel</th>\n",
       "      <th>Class</th>\n",
       "      <th>Flight Distance</th>\n",
       "      <th>Inflight wifi service</th>\n",
       "      <th>Departure/Arrival time convenient</th>\n",
       "      <th>Ease of Online booking</th>\n",
       "      <th>...</th>\n",
       "      <th>Inflight entertainment</th>\n",
       "      <th>On-board service</th>\n",
       "      <th>Leg room service</th>\n",
       "      <th>Baggage handling</th>\n",
       "      <th>Checkin service</th>\n",
       "      <th>Inflight service</th>\n",
       "      <th>Cleanliness</th>\n",
       "      <th>Departure Delay in Minutes</th>\n",
       "      <th>Arrival Delay in Minutes</th>\n",
       "      <th>satisfaction</th>\n",
       "    </tr>\n",
       "  </thead>\n",
       "  <tbody>\n",
       "    <tr>\n",
       "      <th>0</th>\n",
       "      <td>55882</td>\n",
       "      <td>Male</td>\n",
       "      <td>Loyal Customer</td>\n",
       "      <td>42</td>\n",
       "      <td>Business travel</td>\n",
       "      <td>Business</td>\n",
       "      <td>473</td>\n",
       "      <td>1</td>\n",
       "      <td>1</td>\n",
       "      <td>3</td>\n",
       "      <td>...</td>\n",
       "      <td>5</td>\n",
       "      <td>5</td>\n",
       "      <td>5</td>\n",
       "      <td>5</td>\n",
       "      <td>3</td>\n",
       "      <td>5</td>\n",
       "      <td>3</td>\n",
       "      <td>3</td>\n",
       "      <td>0.0</td>\n",
       "      <td>satisfied</td>\n",
       "    </tr>\n",
       "    <tr>\n",
       "      <th>1</th>\n",
       "      <td>31906</td>\n",
       "      <td>Female</td>\n",
       "      <td>Loyal Customer</td>\n",
       "      <td>31</td>\n",
       "      <td>Business travel</td>\n",
       "      <td>Business</td>\n",
       "      <td>3271</td>\n",
       "      <td>4</td>\n",
       "      <td>4</td>\n",
       "      <td>4</td>\n",
       "      <td>...</td>\n",
       "      <td>3</td>\n",
       "      <td>3</td>\n",
       "      <td>5</td>\n",
       "      <td>5</td>\n",
       "      <td>3</td>\n",
       "      <td>4</td>\n",
       "      <td>3</td>\n",
       "      <td>1</td>\n",
       "      <td>5.0</td>\n",
       "      <td>satisfied</td>\n",
       "    </tr>\n",
       "    <tr>\n",
       "      <th>2</th>\n",
       "      <td>85481</td>\n",
       "      <td>Male</td>\n",
       "      <td>Loyal Customer</td>\n",
       "      <td>51</td>\n",
       "      <td>Personal Travel</td>\n",
       "      <td>Eco</td>\n",
       "      <td>214</td>\n",
       "      <td>5</td>\n",
       "      <td>0</td>\n",
       "      <td>5</td>\n",
       "      <td>...</td>\n",
       "      <td>3</td>\n",
       "      <td>4</td>\n",
       "      <td>4</td>\n",
       "      <td>4</td>\n",
       "      <td>4</td>\n",
       "      <td>4</td>\n",
       "      <td>3</td>\n",
       "      <td>2</td>\n",
       "      <td>0.0</td>\n",
       "      <td>satisfied</td>\n",
       "    </tr>\n",
       "    <tr>\n",
       "      <th>3</th>\n",
       "      <td>102134</td>\n",
       "      <td>Male</td>\n",
       "      <td>Loyal Customer</td>\n",
       "      <td>44</td>\n",
       "      <td>Business travel</td>\n",
       "      <td>Business</td>\n",
       "      <td>3097</td>\n",
       "      <td>1</td>\n",
       "      <td>1</td>\n",
       "      <td>3</td>\n",
       "      <td>...</td>\n",
       "      <td>4</td>\n",
       "      <td>4</td>\n",
       "      <td>4</td>\n",
       "      <td>4</td>\n",
       "      <td>3</td>\n",
       "      <td>4</td>\n",
       "      <td>5</td>\n",
       "      <td>0</td>\n",
       "      <td>0.0</td>\n",
       "      <td>satisfied</td>\n",
       "    </tr>\n",
       "    <tr>\n",
       "      <th>4</th>\n",
       "      <td>31580</td>\n",
       "      <td>Male</td>\n",
       "      <td>Loyal Customer</td>\n",
       "      <td>33</td>\n",
       "      <td>Business travel</td>\n",
       "      <td>Business</td>\n",
       "      <td>3286</td>\n",
       "      <td>1</td>\n",
       "      <td>1</td>\n",
       "      <td>1</td>\n",
       "      <td>...</td>\n",
       "      <td>4</td>\n",
       "      <td>2</td>\n",
       "      <td>5</td>\n",
       "      <td>2</td>\n",
       "      <td>5</td>\n",
       "      <td>1</td>\n",
       "      <td>4</td>\n",
       "      <td>0</td>\n",
       "      <td>0.0</td>\n",
       "      <td>satisfied</td>\n",
       "    </tr>\n",
       "  </tbody>\n",
       "</table>\n",
       "<p>5 rows × 24 columns</p>\n",
       "</div>"
      ],
      "text/plain": [
       "       id  Gender   Customer Type  Age   Type of Travel     Class  \\\n",
       "0   55882    Male  Loyal Customer   42  Business travel  Business   \n",
       "1   31906  Female  Loyal Customer   31  Business travel  Business   \n",
       "2   85481    Male  Loyal Customer   51  Personal Travel       Eco   \n",
       "3  102134    Male  Loyal Customer   44  Business travel  Business   \n",
       "4   31580    Male  Loyal Customer   33  Business travel  Business   \n",
       "\n",
       "   Flight Distance  Inflight wifi service  Departure/Arrival time convenient  \\\n",
       "0              473                      1                                  1   \n",
       "1             3271                      4                                  4   \n",
       "2              214                      5                                  0   \n",
       "3             3097                      1                                  1   \n",
       "4             3286                      1                                  1   \n",
       "\n",
       "   Ease of Online booking  ...  Inflight entertainment  On-board service  \\\n",
       "0                       3  ...                       5                 5   \n",
       "1                       4  ...                       3                 3   \n",
       "2                       5  ...                       3                 4   \n",
       "3                       3  ...                       4                 4   \n",
       "4                       1  ...                       4                 2   \n",
       "\n",
       "   Leg room service  Baggage handling  Checkin service  Inflight service  \\\n",
       "0                 5                 5                3                 5   \n",
       "1                 5                 5                3                 4   \n",
       "2                 4                 4                4                 4   \n",
       "3                 4                 4                3                 4   \n",
       "4                 5                 2                5                 1   \n",
       "\n",
       "   Cleanliness  Departure Delay in Minutes  Arrival Delay in Minutes  \\\n",
       "0            3                           3                       0.0   \n",
       "1            3                           1                       5.0   \n",
       "2            3                           2                       0.0   \n",
       "3            5                           0                       0.0   \n",
       "4            4                           0                       0.0   \n",
       "\n",
       "   satisfaction  \n",
       "0     satisfied  \n",
       "1     satisfied  \n",
       "2     satisfied  \n",
       "3     satisfied  \n",
       "4     satisfied  \n",
       "\n",
       "[5 rows x 24 columns]"
      ]
     },
     "execution_count": 183,
     "metadata": {},
     "output_type": "execute_result"
    }
   ],
   "source": [
    "df.head()"
   ]
  },
  {
   "cell_type": "markdown",
   "id": "2be5faa7",
   "metadata": {},
   "source": [
    "**Question 92. Arrival Delay in Minutes 컬럼이 결측치인 데이터들 중 ‘neutral or dissatisfied’ 보다 ‘satisfied’의 수가 더 높은 Class는 어디 인가?**"
   ]
  },
  {
   "cell_type": "code",
   "execution_count": 184,
   "id": "93952735",
   "metadata": {},
   "outputs": [
    {
     "data": {
      "text/html": [
       "<div>\n",
       "<style scoped>\n",
       "    .dataframe tbody tr th:only-of-type {\n",
       "        vertical-align: middle;\n",
       "    }\n",
       "\n",
       "    .dataframe tbody tr th {\n",
       "        vertical-align: top;\n",
       "    }\n",
       "\n",
       "    .dataframe thead tr th {\n",
       "        text-align: left;\n",
       "    }\n",
       "\n",
       "    .dataframe thead tr:last-of-type th {\n",
       "        text-align: right;\n",
       "    }\n",
       "</style>\n",
       "<table border=\"1\" class=\"dataframe\">\n",
       "  <thead>\n",
       "    <tr>\n",
       "      <th></th>\n",
       "      <th colspan=\"2\" halign=\"left\">size</th>\n",
       "    </tr>\n",
       "    <tr>\n",
       "      <th>satisfaction</th>\n",
       "      <th>neutral or dissatisfied</th>\n",
       "      <th>satisfied</th>\n",
       "    </tr>\n",
       "    <tr>\n",
       "      <th>Class</th>\n",
       "      <th></th>\n",
       "      <th></th>\n",
       "    </tr>\n",
       "  </thead>\n",
       "  <tbody>\n",
       "    <tr>\n",
       "      <th>Business</th>\n",
       "      <td>36</td>\n",
       "      <td>76</td>\n",
       "    </tr>\n",
       "  </tbody>\n",
       "</table>\n",
       "</div>"
      ],
      "text/plain": [
       "                                size          \n",
       "satisfaction neutral or dissatisfied satisfied\n",
       "Class                                         \n",
       "Business                          36        76"
      ]
     },
     "execution_count": 184,
     "metadata": {},
     "output_type": "execute_result"
    }
   ],
   "source": [
    "answer = df.loc[df['Arrival Delay in Minutes'].isnull()].groupby(['Class', 'satisfaction'], as_index=False).size().pivot(index='Class', columns='satisfaction')\n",
    "result = answer[answer['size']['neutral or dissatisfied'] < answer['size']['satisfied']]\n",
    "result"
   ]
  },
  {
   "cell_type": "code",
   "execution_count": 185,
   "id": "3c2ccce8",
   "metadata": {},
   "outputs": [
    {
     "data": {
      "text/html": [
       "<div>\n",
       "<style scoped>\n",
       "    .dataframe tbody tr th:only-of-type {\n",
       "        vertical-align: middle;\n",
       "    }\n",
       "\n",
       "    .dataframe tbody tr th {\n",
       "        vertical-align: top;\n",
       "    }\n",
       "\n",
       "    .dataframe thead th {\n",
       "        text-align: right;\n",
       "    }\n",
       "</style>\n",
       "<table border=\"1\" class=\"dataframe\">\n",
       "  <thead>\n",
       "    <tr style=\"text-align: right;\">\n",
       "      <th></th>\n",
       "      <th>Class</th>\n",
       "      <th>satisfaction</th>\n",
       "      <th>size</th>\n",
       "    </tr>\n",
       "  </thead>\n",
       "  <tbody>\n",
       "    <tr>\n",
       "      <th>0</th>\n",
       "      <td>Business</td>\n",
       "      <td>neutral or dissatisfied</td>\n",
       "      <td>36</td>\n",
       "    </tr>\n",
       "    <tr>\n",
       "      <th>1</th>\n",
       "      <td>Business</td>\n",
       "      <td>satisfied</td>\n",
       "      <td>76</td>\n",
       "    </tr>\n",
       "    <tr>\n",
       "      <th>2</th>\n",
       "      <td>Eco</td>\n",
       "      <td>neutral or dissatisfied</td>\n",
       "      <td>100</td>\n",
       "    </tr>\n",
       "    <tr>\n",
       "      <th>3</th>\n",
       "      <td>Eco</td>\n",
       "      <td>satisfied</td>\n",
       "      <td>25</td>\n",
       "    </tr>\n",
       "    <tr>\n",
       "      <th>4</th>\n",
       "      <td>Eco Plus</td>\n",
       "      <td>neutral or dissatisfied</td>\n",
       "      <td>15</td>\n",
       "    </tr>\n",
       "    <tr>\n",
       "      <th>5</th>\n",
       "      <td>Eco Plus</td>\n",
       "      <td>satisfied</td>\n",
       "      <td>4</td>\n",
       "    </tr>\n",
       "  </tbody>\n",
       "</table>\n",
       "</div>"
      ],
      "text/plain": [
       "      Class             satisfaction  size\n",
       "0  Business  neutral or dissatisfied    36\n",
       "1  Business                satisfied    76\n",
       "2       Eco  neutral or dissatisfied   100\n",
       "3       Eco                satisfied    25\n",
       "4  Eco Plus  neutral or dissatisfied    15\n",
       "5  Eco Plus                satisfied     4"
      ]
     },
     "execution_count": 185,
     "metadata": {},
     "output_type": "execute_result"
    }
   ],
   "source": [
    "df.loc[df['Arrival Delay in Minutes'].isnull()].groupby(['Class', 'satisfaction'], as_index=False).size()"
   ]
  },
  {
   "cell_type": "code",
   "execution_count": 186,
   "id": "f14df00c",
   "metadata": {},
   "outputs": [
    {
     "data": {
      "text/html": [
       "<div>\n",
       "<style scoped>\n",
       "    .dataframe tbody tr th:only-of-type {\n",
       "        vertical-align: middle;\n",
       "    }\n",
       "\n",
       "    .dataframe tbody tr th {\n",
       "        vertical-align: top;\n",
       "    }\n",
       "\n",
       "    .dataframe thead tr th {\n",
       "        text-align: left;\n",
       "    }\n",
       "\n",
       "    .dataframe thead tr:last-of-type th {\n",
       "        text-align: right;\n",
       "    }\n",
       "</style>\n",
       "<table border=\"1\" class=\"dataframe\">\n",
       "  <thead>\n",
       "    <tr>\n",
       "      <th></th>\n",
       "      <th colspan=\"2\" halign=\"left\">size</th>\n",
       "    </tr>\n",
       "    <tr>\n",
       "      <th>satisfaction</th>\n",
       "      <th>neutral or dissatisfied</th>\n",
       "      <th>satisfied</th>\n",
       "    </tr>\n",
       "    <tr>\n",
       "      <th>Class</th>\n",
       "      <th></th>\n",
       "      <th></th>\n",
       "    </tr>\n",
       "  </thead>\n",
       "  <tbody>\n",
       "    <tr>\n",
       "      <th>Business</th>\n",
       "      <td>36</td>\n",
       "      <td>76</td>\n",
       "    </tr>\n",
       "    <tr>\n",
       "      <th>Eco</th>\n",
       "      <td>100</td>\n",
       "      <td>25</td>\n",
       "    </tr>\n",
       "    <tr>\n",
       "      <th>Eco Plus</th>\n",
       "      <td>15</td>\n",
       "      <td>4</td>\n",
       "    </tr>\n",
       "  </tbody>\n",
       "</table>\n",
       "</div>"
      ],
      "text/plain": [
       "                                size          \n",
       "satisfaction neutral or dissatisfied satisfied\n",
       "Class                                         \n",
       "Business                          36        76\n",
       "Eco                              100        25\n",
       "Eco Plus                          15         4"
      ]
     },
     "execution_count": 186,
     "metadata": {},
     "output_type": "execute_result"
    }
   ],
   "source": [
    "df.loc[df['Arrival Delay in Minutes'].isnull()].groupby(['Class', 'satisfaction'], as_index=False).size().pivot(index='Class', columns='satisfaction')"
   ]
  },
  {
   "cell_type": "code",
   "execution_count": 187,
   "id": "4869882a",
   "metadata": {},
   "outputs": [
    {
     "data": {
      "text/html": [
       "<div>\n",
       "<style scoped>\n",
       "    .dataframe tbody tr th:only-of-type {\n",
       "        vertical-align: middle;\n",
       "    }\n",
       "\n",
       "    .dataframe tbody tr th {\n",
       "        vertical-align: top;\n",
       "    }\n",
       "\n",
       "    .dataframe thead tr th {\n",
       "        text-align: left;\n",
       "    }\n",
       "\n",
       "    .dataframe thead tr:last-of-type th {\n",
       "        text-align: right;\n",
       "    }\n",
       "</style>\n",
       "<table border=\"1\" class=\"dataframe\">\n",
       "  <thead>\n",
       "    <tr>\n",
       "      <th></th>\n",
       "      <th colspan=\"2\" halign=\"left\">size</th>\n",
       "    </tr>\n",
       "    <tr>\n",
       "      <th>satisfaction</th>\n",
       "      <th>neutral or dissatisfied</th>\n",
       "      <th>satisfied</th>\n",
       "    </tr>\n",
       "    <tr>\n",
       "      <th>Class</th>\n",
       "      <th></th>\n",
       "      <th></th>\n",
       "    </tr>\n",
       "  </thead>\n",
       "  <tbody>\n",
       "    <tr>\n",
       "      <th>Business</th>\n",
       "      <td>36</td>\n",
       "      <td>76</td>\n",
       "    </tr>\n",
       "  </tbody>\n",
       "</table>\n",
       "</div>"
      ],
      "text/plain": [
       "                                size          \n",
       "satisfaction neutral or dissatisfied satisfied\n",
       "Class                                         \n",
       "Business                          36        76"
      ]
     },
     "execution_count": 187,
     "metadata": {},
     "output_type": "execute_result"
    }
   ],
   "source": [
    "answer[answer['size']['neutral or dissatisfied'] < answer['size']['satisfied']]"
   ]
  },
  {
   "cell_type": "markdown",
   "id": "630a02d8",
   "metadata": {},
   "source": [
    "# 수질 음용성 여부 데이터"
   ]
  },
  {
   "cell_type": "code",
   "execution_count": 188,
   "id": "58c8cf96",
   "metadata": {},
   "outputs": [],
   "source": [
    "df = pd.read_csv(\"https://raw.githubusercontent.com/Datamanim/datarepo/main/waters/train.csv\")"
   ]
  },
  {
   "cell_type": "code",
   "execution_count": 189,
   "id": "b7d827d2",
   "metadata": {},
   "outputs": [
    {
     "data": {
      "text/html": [
       "<div>\n",
       "<style scoped>\n",
       "    .dataframe tbody tr th:only-of-type {\n",
       "        vertical-align: middle;\n",
       "    }\n",
       "\n",
       "    .dataframe tbody tr th {\n",
       "        vertical-align: top;\n",
       "    }\n",
       "\n",
       "    .dataframe thead th {\n",
       "        text-align: right;\n",
       "    }\n",
       "</style>\n",
       "<table border=\"1\" class=\"dataframe\">\n",
       "  <thead>\n",
       "    <tr style=\"text-align: right;\">\n",
       "      <th></th>\n",
       "      <th>ph</th>\n",
       "      <th>Hardness</th>\n",
       "      <th>Solids</th>\n",
       "      <th>Chloramines</th>\n",
       "      <th>Sulfate</th>\n",
       "      <th>Conductivity</th>\n",
       "      <th>Organic_carbon</th>\n",
       "      <th>Trihalomethanes</th>\n",
       "      <th>Turbidity</th>\n",
       "      <th>Potability</th>\n",
       "    </tr>\n",
       "  </thead>\n",
       "  <tbody>\n",
       "    <tr>\n",
       "      <th>0</th>\n",
       "      <td>7.918150</td>\n",
       "      <td>214.186611</td>\n",
       "      <td>23823.492888</td>\n",
       "      <td>7.290878</td>\n",
       "      <td>341.173322</td>\n",
       "      <td>411.424483</td>\n",
       "      <td>19.585002</td>\n",
       "      <td>25.057375</td>\n",
       "      <td>4.028958</td>\n",
       "      <td>0</td>\n",
       "    </tr>\n",
       "    <tr>\n",
       "      <th>1</th>\n",
       "      <td>5.422446</td>\n",
       "      <td>205.266080</td>\n",
       "      <td>18542.957451</td>\n",
       "      <td>5.491963</td>\n",
       "      <td>306.702227</td>\n",
       "      <td>382.080129</td>\n",
       "      <td>10.504023</td>\n",
       "      <td>67.493450</td>\n",
       "      <td>2.911751</td>\n",
       "      <td>1</td>\n",
       "    </tr>\n",
       "    <tr>\n",
       "      <th>2</th>\n",
       "      <td>7.341547</td>\n",
       "      <td>187.672402</td>\n",
       "      <td>21273.457066</td>\n",
       "      <td>7.784003</td>\n",
       "      <td>NaN</td>\n",
       "      <td>332.084293</td>\n",
       "      <td>16.842334</td>\n",
       "      <td>55.019151</td>\n",
       "      <td>4.025644</td>\n",
       "      <td>0</td>\n",
       "    </tr>\n",
       "    <tr>\n",
       "      <th>3</th>\n",
       "      <td>9.056245</td>\n",
       "      <td>197.666301</td>\n",
       "      <td>17403.532167</td>\n",
       "      <td>7.688917</td>\n",
       "      <td>337.460176</td>\n",
       "      <td>414.766631</td>\n",
       "      <td>15.349869</td>\n",
       "      <td>63.696746</td>\n",
       "      <td>3.319354</td>\n",
       "      <td>0</td>\n",
       "    </tr>\n",
       "    <tr>\n",
       "      <th>4</th>\n",
       "      <td>5.039374</td>\n",
       "      <td>142.860598</td>\n",
       "      <td>40829.353167</td>\n",
       "      <td>7.271543</td>\n",
       "      <td>NaN</td>\n",
       "      <td>386.803057</td>\n",
       "      <td>16.823773</td>\n",
       "      <td>52.297113</td>\n",
       "      <td>4.957420</td>\n",
       "      <td>0</td>\n",
       "    </tr>\n",
       "  </tbody>\n",
       "</table>\n",
       "</div>"
      ],
      "text/plain": [
       "         ph    Hardness        Solids  Chloramines     Sulfate  Conductivity  \\\n",
       "0  7.918150  214.186611  23823.492888     7.290878  341.173322    411.424483   \n",
       "1  5.422446  205.266080  18542.957451     5.491963  306.702227    382.080129   \n",
       "2  7.341547  187.672402  21273.457066     7.784003         NaN    332.084293   \n",
       "3  9.056245  197.666301  17403.532167     7.688917  337.460176    414.766631   \n",
       "4  5.039374  142.860598  40829.353167     7.271543         NaN    386.803057   \n",
       "\n",
       "   Organic_carbon  Trihalomethanes  Turbidity  Potability  \n",
       "0       19.585002        25.057375   4.028958           0  \n",
       "1       10.504023        67.493450   2.911751           1  \n",
       "2       16.842334        55.019151   4.025644           0  \n",
       "3       15.349869        63.696746   3.319354           0  \n",
       "4       16.823773        52.297113   4.957420           0  "
      ]
     },
     "execution_count": 189,
     "metadata": {},
     "output_type": "execute_result"
    }
   ],
   "source": [
    "df.head()"
   ]
  },
  {
   "cell_type": "markdown",
   "id": "bb6c720f",
   "metadata": {},
   "source": [
    "**Question 93. ph값은 상당히 많은 결측치를 포함한다. 결측치를 제외한 나머지 데이터들 중 사분위값 기준 하위 25%의 값들의 평균값은?**"
   ]
  },
  {
   "cell_type": "code",
   "execution_count": 190,
   "id": "d75b939c",
   "metadata": {},
   "outputs": [
    {
     "name": "stdout",
     "output_type": "stream",
     "text": [
      "5.057093462441731\n"
     ]
    }
   ],
   "source": [
    "target = df['ph'].dropna()\n",
    "answer = target.loc[target <= target.quantile(0.25)].mean()\n",
    "print(answer)"
   ]
  },
  {
   "cell_type": "code",
   "execution_count": 191,
   "id": "6a177a37",
   "metadata": {},
   "outputs": [
    {
     "data": {
      "text/plain": [
       "5.057093462441731"
      ]
     },
     "execution_count": 191,
     "metadata": {},
     "output_type": "execute_result"
    }
   ],
   "source": [
    "df[(df.ph.isnull()==False) & (df['ph']<=df['ph'].quantile(0.25))].ph.mean()"
   ]
  },
  {
   "cell_type": "markdown",
   "id": "3af83aae",
   "metadata": {},
   "source": [
    "# 의료 비용 예측 데이터"
   ]
  },
  {
   "cell_type": "code",
   "execution_count": 192,
   "id": "86e974c4",
   "metadata": {},
   "outputs": [],
   "source": [
    "df = pd.read_csv(\"https://raw.githubusercontent.com/Datamanim/datarepo/main/MedicalCost/train.csv\")"
   ]
  },
  {
   "cell_type": "code",
   "execution_count": 193,
   "id": "169fabd5",
   "metadata": {},
   "outputs": [
    {
     "data": {
      "text/html": [
       "<div>\n",
       "<style scoped>\n",
       "    .dataframe tbody tr th:only-of-type {\n",
       "        vertical-align: middle;\n",
       "    }\n",
       "\n",
       "    .dataframe tbody tr th {\n",
       "        vertical-align: top;\n",
       "    }\n",
       "\n",
       "    .dataframe thead th {\n",
       "        text-align: right;\n",
       "    }\n",
       "</style>\n",
       "<table border=\"1\" class=\"dataframe\">\n",
       "  <thead>\n",
       "    <tr style=\"text-align: right;\">\n",
       "      <th></th>\n",
       "      <th>age</th>\n",
       "      <th>sex</th>\n",
       "      <th>bmi</th>\n",
       "      <th>children</th>\n",
       "      <th>smoker</th>\n",
       "      <th>region</th>\n",
       "      <th>charges</th>\n",
       "    </tr>\n",
       "  </thead>\n",
       "  <tbody>\n",
       "    <tr>\n",
       "      <th>0</th>\n",
       "      <td>64</td>\n",
       "      <td>female</td>\n",
       "      <td>39.330</td>\n",
       "      <td>0</td>\n",
       "      <td>no</td>\n",
       "      <td>northeast</td>\n",
       "      <td>14901.51670</td>\n",
       "    </tr>\n",
       "    <tr>\n",
       "      <th>1</th>\n",
       "      <td>47</td>\n",
       "      <td>female</td>\n",
       "      <td>27.830</td>\n",
       "      <td>0</td>\n",
       "      <td>yes</td>\n",
       "      <td>southeast</td>\n",
       "      <td>23065.42070</td>\n",
       "    </tr>\n",
       "    <tr>\n",
       "      <th>2</th>\n",
       "      <td>52</td>\n",
       "      <td>female</td>\n",
       "      <td>33.300</td>\n",
       "      <td>2</td>\n",
       "      <td>no</td>\n",
       "      <td>southwest</td>\n",
       "      <td>10806.83900</td>\n",
       "    </tr>\n",
       "    <tr>\n",
       "      <th>3</th>\n",
       "      <td>33</td>\n",
       "      <td>female</td>\n",
       "      <td>22.135</td>\n",
       "      <td>1</td>\n",
       "      <td>no</td>\n",
       "      <td>northeast</td>\n",
       "      <td>5354.07465</td>\n",
       "    </tr>\n",
       "    <tr>\n",
       "      <th>4</th>\n",
       "      <td>30</td>\n",
       "      <td>male</td>\n",
       "      <td>31.400</td>\n",
       "      <td>1</td>\n",
       "      <td>no</td>\n",
       "      <td>southwest</td>\n",
       "      <td>3659.34600</td>\n",
       "    </tr>\n",
       "  </tbody>\n",
       "</table>\n",
       "</div>"
      ],
      "text/plain": [
       "   age     sex     bmi  children smoker     region      charges\n",
       "0   64  female  39.330         0     no  northeast  14901.51670\n",
       "1   47  female  27.830         0    yes  southeast  23065.42070\n",
       "2   52  female  33.300         2     no  southwest  10806.83900\n",
       "3   33  female  22.135         1     no  northeast   5354.07465\n",
       "4   30    male  31.400         1     no  southwest   3659.34600"
      ]
     },
     "execution_count": 193,
     "metadata": {},
     "output_type": "execute_result"
    }
   ],
   "source": [
    "df.head()"
   ]
  },
  {
   "cell_type": "markdown",
   "id": "18daa9d1",
   "metadata": {},
   "source": [
    "**Question 94. 흡연자와 비흡연자 각각 charges의 상위 10% 그룹의 평균의 차이는?**"
   ]
  },
  {
   "cell_type": "code",
   "execution_count": 194,
   "id": "20013386",
   "metadata": {},
   "outputs": [
    {
     "name": "stdout",
     "output_type": "stream",
     "text": [
      "29297.954548156144\n"
     ]
    }
   ],
   "source": [
    "high = df.loc[df.smoker=='yes'].charges.quantile(0.9)\n",
    "high2 = df.loc[df.smoker=='no'].charges.quantile(0.9)\n",
    "mean_yes = df.loc[(df.smoker=='yes') & (df.charges>=high)].charges.mean()\n",
    "mean_no = df.loc[(df.smoker=='no') & (df.charges>=high2)].charges.mean()\n",
    "answer = mean_yes - mean_no\n",
    "print(answer)"
   ]
  },
  {
   "cell_type": "markdown",
   "id": "078d0e8b",
   "metadata": {},
   "source": [
    "# 킹카운티 주거지 가격 예측 문제 데이터"
   ]
  },
  {
   "cell_type": "code",
   "execution_count": 195,
   "id": "7348574d",
   "metadata": {},
   "outputs": [],
   "source": [
    "df = pd.read_csv(\"https://raw.githubusercontent.com/Datamanim/datarepo/main/kingcountyprice//train.csv\")"
   ]
  },
  {
   "cell_type": "code",
   "execution_count": 196,
   "id": "232917b1",
   "metadata": {
    "scrolled": true
   },
   "outputs": [
    {
     "data": {
      "text/html": [
       "<div>\n",
       "<style scoped>\n",
       "    .dataframe tbody tr th:only-of-type {\n",
       "        vertical-align: middle;\n",
       "    }\n",
       "\n",
       "    .dataframe tbody tr th {\n",
       "        vertical-align: top;\n",
       "    }\n",
       "\n",
       "    .dataframe thead th {\n",
       "        text-align: right;\n",
       "    }\n",
       "</style>\n",
       "<table border=\"1\" class=\"dataframe\">\n",
       "  <thead>\n",
       "    <tr style=\"text-align: right;\">\n",
       "      <th></th>\n",
       "      <th>id</th>\n",
       "      <th>date</th>\n",
       "      <th>price</th>\n",
       "      <th>bedrooms</th>\n",
       "      <th>bathrooms</th>\n",
       "      <th>sqft_living</th>\n",
       "      <th>sqft_lot</th>\n",
       "      <th>floors</th>\n",
       "      <th>waterfront</th>\n",
       "      <th>view</th>\n",
       "      <th>...</th>\n",
       "      <th>grade</th>\n",
       "      <th>sqft_above</th>\n",
       "      <th>sqft_basement</th>\n",
       "      <th>yr_built</th>\n",
       "      <th>yr_renovated</th>\n",
       "      <th>zipcode</th>\n",
       "      <th>lat</th>\n",
       "      <th>long</th>\n",
       "      <th>sqft_living15</th>\n",
       "      <th>sqft_lot15</th>\n",
       "    </tr>\n",
       "  </thead>\n",
       "  <tbody>\n",
       "    <tr>\n",
       "      <th>0</th>\n",
       "      <td>8961990160</td>\n",
       "      <td>20150413T000000</td>\n",
       "      <td>567500.0</td>\n",
       "      <td>3</td>\n",
       "      <td>2.5</td>\n",
       "      <td>2080</td>\n",
       "      <td>4556</td>\n",
       "      <td>2.0</td>\n",
       "      <td>0</td>\n",
       "      <td>0</td>\n",
       "      <td>...</td>\n",
       "      <td>8</td>\n",
       "      <td>2080</td>\n",
       "      <td>0</td>\n",
       "      <td>1999</td>\n",
       "      <td>0</td>\n",
       "      <td>98074</td>\n",
       "      <td>47.6036</td>\n",
       "      <td>-122.014</td>\n",
       "      <td>1530</td>\n",
       "      <td>5606</td>\n",
       "    </tr>\n",
       "    <tr>\n",
       "      <th>1</th>\n",
       "      <td>9455200205</td>\n",
       "      <td>20140604T000000</td>\n",
       "      <td>525000.0</td>\n",
       "      <td>3</td>\n",
       "      <td>2.0</td>\n",
       "      <td>1540</td>\n",
       "      <td>7800</td>\n",
       "      <td>1.0</td>\n",
       "      <td>0</td>\n",
       "      <td>0</td>\n",
       "      <td>...</td>\n",
       "      <td>8</td>\n",
       "      <td>1540</td>\n",
       "      <td>0</td>\n",
       "      <td>2004</td>\n",
       "      <td>0</td>\n",
       "      <td>98125</td>\n",
       "      <td>47.7041</td>\n",
       "      <td>-122.288</td>\n",
       "      <td>1510</td>\n",
       "      <td>7800</td>\n",
       "    </tr>\n",
       "    <tr>\n",
       "      <th>2</th>\n",
       "      <td>7853220670</td>\n",
       "      <td>20140918T000000</td>\n",
       "      <td>540000.0</td>\n",
       "      <td>3</td>\n",
       "      <td>2.5</td>\n",
       "      <td>2860</td>\n",
       "      <td>8935</td>\n",
       "      <td>2.0</td>\n",
       "      <td>0</td>\n",
       "      <td>0</td>\n",
       "      <td>...</td>\n",
       "      <td>8</td>\n",
       "      <td>2860</td>\n",
       "      <td>0</td>\n",
       "      <td>2004</td>\n",
       "      <td>0</td>\n",
       "      <td>98065</td>\n",
       "      <td>47.5336</td>\n",
       "      <td>-121.855</td>\n",
       "      <td>2650</td>\n",
       "      <td>6167</td>\n",
       "    </tr>\n",
       "    <tr>\n",
       "      <th>3</th>\n",
       "      <td>3298201170</td>\n",
       "      <td>20141110T000000</td>\n",
       "      <td>350000.0</td>\n",
       "      <td>3</td>\n",
       "      <td>1.0</td>\n",
       "      <td>940</td>\n",
       "      <td>7811</td>\n",
       "      <td>1.0</td>\n",
       "      <td>0</td>\n",
       "      <td>0</td>\n",
       "      <td>...</td>\n",
       "      <td>6</td>\n",
       "      <td>940</td>\n",
       "      <td>0</td>\n",
       "      <td>1959</td>\n",
       "      <td>0</td>\n",
       "      <td>98008</td>\n",
       "      <td>47.6195</td>\n",
       "      <td>-122.118</td>\n",
       "      <td>1180</td>\n",
       "      <td>7490</td>\n",
       "    </tr>\n",
       "    <tr>\n",
       "      <th>4</th>\n",
       "      <td>7972604355</td>\n",
       "      <td>20140521T000000</td>\n",
       "      <td>218000.0</td>\n",
       "      <td>3</td>\n",
       "      <td>1.0</td>\n",
       "      <td>1020</td>\n",
       "      <td>7874</td>\n",
       "      <td>1.0</td>\n",
       "      <td>0</td>\n",
       "      <td>0</td>\n",
       "      <td>...</td>\n",
       "      <td>7</td>\n",
       "      <td>1020</td>\n",
       "      <td>0</td>\n",
       "      <td>1956</td>\n",
       "      <td>0</td>\n",
       "      <td>98106</td>\n",
       "      <td>47.5175</td>\n",
       "      <td>-122.346</td>\n",
       "      <td>1290</td>\n",
       "      <td>7320</td>\n",
       "    </tr>\n",
       "  </tbody>\n",
       "</table>\n",
       "<p>5 rows × 21 columns</p>\n",
       "</div>"
      ],
      "text/plain": [
       "           id             date     price  bedrooms  bathrooms  sqft_living  \\\n",
       "0  8961990160  20150413T000000  567500.0         3        2.5         2080   \n",
       "1  9455200205  20140604T000000  525000.0         3        2.0         1540   \n",
       "2  7853220670  20140918T000000  540000.0         3        2.5         2860   \n",
       "3  3298201170  20141110T000000  350000.0         3        1.0          940   \n",
       "4  7972604355  20140521T000000  218000.0         3        1.0         1020   \n",
       "\n",
       "   sqft_lot  floors  waterfront  view  ...  grade  sqft_above  sqft_basement  \\\n",
       "0      4556     2.0           0     0  ...      8        2080              0   \n",
       "1      7800     1.0           0     0  ...      8        1540              0   \n",
       "2      8935     2.0           0     0  ...      8        2860              0   \n",
       "3      7811     1.0           0     0  ...      6         940              0   \n",
       "4      7874     1.0           0     0  ...      7        1020              0   \n",
       "\n",
       "   yr_built  yr_renovated  zipcode      lat     long  sqft_living15  \\\n",
       "0      1999             0    98074  47.6036 -122.014           1530   \n",
       "1      2004             0    98125  47.7041 -122.288           1510   \n",
       "2      2004             0    98065  47.5336 -121.855           2650   \n",
       "3      1959             0    98008  47.6195 -122.118           1180   \n",
       "4      1956             0    98106  47.5175 -122.346           1290   \n",
       "\n",
       "   sqft_lot15  \n",
       "0        5606  \n",
       "1        7800  \n",
       "2        6167  \n",
       "3        7490  \n",
       "4        7320  \n",
       "\n",
       "[5 rows x 21 columns]"
      ]
     },
     "execution_count": 196,
     "metadata": {},
     "output_type": "execute_result"
    }
   ],
   "source": [
    "df.head()"
   ]
  },
  {
   "cell_type": "markdown",
   "id": "ee2249e9",
   "metadata": {},
   "source": [
    "**Question 95. bedrooms 의 빈도가 가장 높은 값을 가지는 데이터들의 price의 상위 10%와 하위 10%값의 차이를 구하여라**"
   ]
  },
  {
   "cell_type": "code",
   "execution_count": 197,
   "id": "66b09c51",
   "metadata": {},
   "outputs": [
    {
     "data": {
      "text/plain": [
       "505500.0"
      ]
     },
     "execution_count": 197,
     "metadata": {},
     "output_type": "execute_result"
    }
   ],
   "source": [
    "df.loc[df.bedrooms==df.bedrooms.value_counts().index[0]].price.quantile(0.9)-\\\n",
    "df.loc[df.bedrooms==df.bedrooms.value_counts().index[0]].price.quantile(0.1)"
   ]
  },
  {
   "cell_type": "markdown",
   "id": "efb36241",
   "metadata": {},
   "source": [
    "# 대학원 입학 가능성 데이터"
   ]
  },
  {
   "cell_type": "code",
   "execution_count": 198,
   "id": "57ec72e5",
   "metadata": {},
   "outputs": [],
   "source": [
    "df = pd.read_csv(\"https://raw.githubusercontent.com/Datamanim/datarepo/main/admission/train.csv\")"
   ]
  },
  {
   "cell_type": "code",
   "execution_count": 199,
   "id": "4ec3ae8e",
   "metadata": {},
   "outputs": [
    {
     "data": {
      "text/html": [
       "<div>\n",
       "<style scoped>\n",
       "    .dataframe tbody tr th:only-of-type {\n",
       "        vertical-align: middle;\n",
       "    }\n",
       "\n",
       "    .dataframe tbody tr th {\n",
       "        vertical-align: top;\n",
       "    }\n",
       "\n",
       "    .dataframe thead th {\n",
       "        text-align: right;\n",
       "    }\n",
       "</style>\n",
       "<table border=\"1\" class=\"dataframe\">\n",
       "  <thead>\n",
       "    <tr style=\"text-align: right;\">\n",
       "      <th></th>\n",
       "      <th>Serial No.</th>\n",
       "      <th>GRE Score</th>\n",
       "      <th>TOEFL Score</th>\n",
       "      <th>University Rating</th>\n",
       "      <th>SOP</th>\n",
       "      <th>LOR</th>\n",
       "      <th>CGPA</th>\n",
       "      <th>Research</th>\n",
       "      <th>Chance of Admit</th>\n",
       "    </tr>\n",
       "  </thead>\n",
       "  <tbody>\n",
       "    <tr>\n",
       "      <th>0</th>\n",
       "      <td>246</td>\n",
       "      <td>328</td>\n",
       "      <td>110</td>\n",
       "      <td>4</td>\n",
       "      <td>4.0</td>\n",
       "      <td>2.5</td>\n",
       "      <td>9.02</td>\n",
       "      <td>1</td>\n",
       "      <td>0.81</td>\n",
       "    </tr>\n",
       "    <tr>\n",
       "      <th>1</th>\n",
       "      <td>100</td>\n",
       "      <td>323</td>\n",
       "      <td>113</td>\n",
       "      <td>3</td>\n",
       "      <td>4.0</td>\n",
       "      <td>4.0</td>\n",
       "      <td>8.88</td>\n",
       "      <td>1</td>\n",
       "      <td>0.79</td>\n",
       "    </tr>\n",
       "    <tr>\n",
       "      <th>2</th>\n",
       "      <td>79</td>\n",
       "      <td>296</td>\n",
       "      <td>95</td>\n",
       "      <td>2</td>\n",
       "      <td>3.0</td>\n",
       "      <td>2.0</td>\n",
       "      <td>7.54</td>\n",
       "      <td>1</td>\n",
       "      <td>0.44</td>\n",
       "    </tr>\n",
       "    <tr>\n",
       "      <th>3</th>\n",
       "      <td>53</td>\n",
       "      <td>334</td>\n",
       "      <td>116</td>\n",
       "      <td>4</td>\n",
       "      <td>4.0</td>\n",
       "      <td>3.0</td>\n",
       "      <td>8.00</td>\n",
       "      <td>1</td>\n",
       "      <td>0.78</td>\n",
       "    </tr>\n",
       "    <tr>\n",
       "      <th>4</th>\n",
       "      <td>444</td>\n",
       "      <td>321</td>\n",
       "      <td>114</td>\n",
       "      <td>5</td>\n",
       "      <td>4.5</td>\n",
       "      <td>4.5</td>\n",
       "      <td>9.16</td>\n",
       "      <td>1</td>\n",
       "      <td>0.87</td>\n",
       "    </tr>\n",
       "  </tbody>\n",
       "</table>\n",
       "</div>"
      ],
      "text/plain": [
       "   Serial No.  GRE Score  TOEFL Score  University Rating  SOP  LOR  CGPA  \\\n",
       "0         246        328          110                  4  4.0  2.5  9.02   \n",
       "1         100        323          113                  3  4.0  4.0  8.88   \n",
       "2          79        296           95                  2  3.0  2.0  7.54   \n",
       "3          53        334          116                  4  4.0  3.0  8.00   \n",
       "4         444        321          114                  5  4.5  4.5  9.16   \n",
       "\n",
       "   Research  Chance of Admit  \n",
       "0         1             0.81  \n",
       "1         1             0.79  \n",
       "2         1             0.44  \n",
       "3         1             0.78  \n",
       "4         1             0.87  "
      ]
     },
     "execution_count": 199,
     "metadata": {},
     "output_type": "execute_result"
    }
   ],
   "source": [
    "df.head()"
   ]
  },
  {
   "cell_type": "markdown",
   "id": "08d978e2",
   "metadata": {},
   "source": [
    "**Question 96. Serial No. 컬럼을 제외하고 ‘Chance of Admit’을 종속변수, 나머지 변수를 독립변수라 할때, 랜덤포레스트를 통해 회귀 예측을 할 떄 변수중요도 값을 출력하라 (시드값에 따라 순서는 달라질수 있음)**"
   ]
  },
  {
   "cell_type": "code",
   "execution_count": 200,
   "id": "7e2c7223",
   "metadata": {},
   "outputs": [],
   "source": [
    "from sklearn.ensemble import RandomForestRegressor"
   ]
  },
  {
   "cell_type": "code",
   "execution_count": 201,
   "id": "28578ebc",
   "metadata": {},
   "outputs": [
    {
     "data": {
      "text/html": [
       "<div>\n",
       "<style scoped>\n",
       "    .dataframe tbody tr th:only-of-type {\n",
       "        vertical-align: middle;\n",
       "    }\n",
       "\n",
       "    .dataframe tbody tr th {\n",
       "        vertical-align: top;\n",
       "    }\n",
       "\n",
       "    .dataframe thead th {\n",
       "        text-align: right;\n",
       "    }\n",
       "</style>\n",
       "<table border=\"1\" class=\"dataframe\">\n",
       "  <thead>\n",
       "    <tr style=\"text-align: right;\">\n",
       "      <th></th>\n",
       "      <th>importance</th>\n",
       "    </tr>\n",
       "  </thead>\n",
       "  <tbody>\n",
       "    <tr>\n",
       "      <th>CGPA</th>\n",
       "      <td>0.815047</td>\n",
       "    </tr>\n",
       "    <tr>\n",
       "      <th>GRE Score</th>\n",
       "      <td>0.086204</td>\n",
       "    </tr>\n",
       "    <tr>\n",
       "      <th>TOEFL Score</th>\n",
       "      <td>0.030773</td>\n",
       "    </tr>\n",
       "    <tr>\n",
       "      <th>LOR</th>\n",
       "      <td>0.022734</td>\n",
       "    </tr>\n",
       "    <tr>\n",
       "      <th>SOP</th>\n",
       "      <td>0.022287</td>\n",
       "    </tr>\n",
       "    <tr>\n",
       "      <th>University Rating</th>\n",
       "      <td>0.014614</td>\n",
       "    </tr>\n",
       "    <tr>\n",
       "      <th>Research</th>\n",
       "      <td>0.008342</td>\n",
       "    </tr>\n",
       "  </tbody>\n",
       "</table>\n",
       "</div>"
      ],
      "text/plain": [
       "                   importance\n",
       "CGPA                 0.815047\n",
       "GRE Score            0.086204\n",
       "TOEFL Score          0.030773\n",
       "LOR                  0.022734\n",
       "SOP                  0.022287\n",
       "University Rating    0.014614\n",
       "Research             0.008342"
      ]
     },
     "execution_count": 201,
     "metadata": {},
     "output_type": "execute_result"
    }
   ],
   "source": [
    "x = df.iloc[:, 1:-1]\n",
    "y = df['Chance of Admit']\n",
    "rf = RandomForestRegressor()\n",
    "model = rf.fit(x, y)\n",
    "pd.DataFrame({'importance':model.feature_importances_}, x.columns).sort_values('importance', ascending=False)"
   ]
  },
  {
   "cell_type": "markdown",
   "id": "0b3d2650",
   "metadata": {},
   "source": [
    "# 레드 와인 퀄리티 예측 데이터"
   ]
  },
  {
   "cell_type": "code",
   "execution_count": 202,
   "id": "5555eb1a",
   "metadata": {},
   "outputs": [],
   "source": [
    "df = pd.read_csv(\"https://raw.githubusercontent.com/Datamanim/datarepo/main/redwine/train.csv\")"
   ]
  },
  {
   "cell_type": "code",
   "execution_count": 203,
   "id": "cc13c22a",
   "metadata": {},
   "outputs": [
    {
     "data": {
      "text/html": [
       "<div>\n",
       "<style scoped>\n",
       "    .dataframe tbody tr th:only-of-type {\n",
       "        vertical-align: middle;\n",
       "    }\n",
       "\n",
       "    .dataframe tbody tr th {\n",
       "        vertical-align: top;\n",
       "    }\n",
       "\n",
       "    .dataframe thead th {\n",
       "        text-align: right;\n",
       "    }\n",
       "</style>\n",
       "<table border=\"1\" class=\"dataframe\">\n",
       "  <thead>\n",
       "    <tr style=\"text-align: right;\">\n",
       "      <th></th>\n",
       "      <th>fixed acidity</th>\n",
       "      <th>volatile acidity</th>\n",
       "      <th>citric acid</th>\n",
       "      <th>residual sugar</th>\n",
       "      <th>chlorides</th>\n",
       "      <th>free sulfur dioxide</th>\n",
       "      <th>total sulfur dioxide</th>\n",
       "      <th>density</th>\n",
       "      <th>pH</th>\n",
       "      <th>sulphates</th>\n",
       "      <th>alcohol</th>\n",
       "      <th>quality</th>\n",
       "    </tr>\n",
       "  </thead>\n",
       "  <tbody>\n",
       "    <tr>\n",
       "      <th>0</th>\n",
       "      <td>5.0</td>\n",
       "      <td>0.38</td>\n",
       "      <td>0.01</td>\n",
       "      <td>1.6</td>\n",
       "      <td>0.048</td>\n",
       "      <td>26.0</td>\n",
       "      <td>60.0</td>\n",
       "      <td>0.99084</td>\n",
       "      <td>3.70</td>\n",
       "      <td>0.75</td>\n",
       "      <td>14.0</td>\n",
       "      <td>6</td>\n",
       "    </tr>\n",
       "    <tr>\n",
       "      <th>1</th>\n",
       "      <td>5.0</td>\n",
       "      <td>0.42</td>\n",
       "      <td>0.24</td>\n",
       "      <td>2.0</td>\n",
       "      <td>0.060</td>\n",
       "      <td>19.0</td>\n",
       "      <td>50.0</td>\n",
       "      <td>0.99170</td>\n",
       "      <td>3.72</td>\n",
       "      <td>0.74</td>\n",
       "      <td>14.0</td>\n",
       "      <td>8</td>\n",
       "    </tr>\n",
       "    <tr>\n",
       "      <th>2</th>\n",
       "      <td>7.1</td>\n",
       "      <td>0.36</td>\n",
       "      <td>0.30</td>\n",
       "      <td>1.6</td>\n",
       "      <td>0.080</td>\n",
       "      <td>35.0</td>\n",
       "      <td>70.0</td>\n",
       "      <td>0.99693</td>\n",
       "      <td>3.44</td>\n",
       "      <td>0.50</td>\n",
       "      <td>9.4</td>\n",
       "      <td>5</td>\n",
       "    </tr>\n",
       "    <tr>\n",
       "      <th>3</th>\n",
       "      <td>7.6</td>\n",
       "      <td>0.29</td>\n",
       "      <td>0.49</td>\n",
       "      <td>2.7</td>\n",
       "      <td>0.092</td>\n",
       "      <td>25.0</td>\n",
       "      <td>60.0</td>\n",
       "      <td>0.99710</td>\n",
       "      <td>3.31</td>\n",
       "      <td>0.61</td>\n",
       "      <td>10.1</td>\n",
       "      <td>6</td>\n",
       "    </tr>\n",
       "    <tr>\n",
       "      <th>4</th>\n",
       "      <td>7.7</td>\n",
       "      <td>0.51</td>\n",
       "      <td>0.28</td>\n",
       "      <td>2.1</td>\n",
       "      <td>0.087</td>\n",
       "      <td>23.0</td>\n",
       "      <td>54.0</td>\n",
       "      <td>0.99800</td>\n",
       "      <td>3.42</td>\n",
       "      <td>0.74</td>\n",
       "      <td>9.2</td>\n",
       "      <td>5</td>\n",
       "    </tr>\n",
       "  </tbody>\n",
       "</table>\n",
       "</div>"
      ],
      "text/plain": [
       "   fixed acidity  volatile acidity  citric acid  residual sugar  chlorides  \\\n",
       "0            5.0              0.38         0.01             1.6      0.048   \n",
       "1            5.0              0.42         0.24             2.0      0.060   \n",
       "2            7.1              0.36         0.30             1.6      0.080   \n",
       "3            7.6              0.29         0.49             2.7      0.092   \n",
       "4            7.7              0.51         0.28             2.1      0.087   \n",
       "\n",
       "   free sulfur dioxide  total sulfur dioxide  density    pH  sulphates  \\\n",
       "0                 26.0                  60.0  0.99084  3.70       0.75   \n",
       "1                 19.0                  50.0  0.99170  3.72       0.74   \n",
       "2                 35.0                  70.0  0.99693  3.44       0.50   \n",
       "3                 25.0                  60.0  0.99710  3.31       0.61   \n",
       "4                 23.0                  54.0  0.99800  3.42       0.74   \n",
       "\n",
       "   alcohol  quality  \n",
       "0     14.0        6  \n",
       "1     14.0        8  \n",
       "2      9.4        5  \n",
       "3     10.1        6  \n",
       "4      9.2        5  "
      ]
     },
     "execution_count": 203,
     "metadata": {},
     "output_type": "execute_result"
    }
   ],
   "source": [
    "df.head()"
   ]
  },
  {
   "cell_type": "markdown",
   "id": "c268ff4a",
   "metadata": {},
   "source": [
    "**Question 97. quality 값이 3인 그룹과 8인 데이터그룹의 각 컬럼별 독립변수의 표준편차 값의 차이를 구할때 그값이 가장 큰 컬럼명을 구하여라**"
   ]
  },
  {
   "cell_type": "code",
   "execution_count": 204,
   "id": "e8fca9be",
   "metadata": {},
   "outputs": [
    {
     "data": {
      "text/plain": [
       "'total sulfur dioxide'"
      ]
     },
     "execution_count": 204,
     "metadata": {},
     "output_type": "execute_result"
    }
   ],
   "source": [
    "(df.loc[df.quality ==8].std() -df.loc[df.quality ==3].std()).sort_values().index[-1]"
   ]
  },
  {
   "cell_type": "code",
   "execution_count": 205,
   "id": "b7978e3d",
   "metadata": {},
   "outputs": [
    {
     "data": {
      "text/plain": [
       "'total sulfur dioxide'"
      ]
     },
     "execution_count": 205,
     "metadata": {},
     "output_type": "execute_result"
    }
   ],
   "source": [
    "abs(df[df['quality']==3].std() - df[df['quality']==8].std()).sort_values().index[-1]"
   ]
  },
  {
   "cell_type": "markdown",
   "id": "03751062",
   "metadata": {},
   "source": [
    "# 약물 분류 데이터"
   ]
  },
  {
   "cell_type": "code",
   "execution_count": 206,
   "id": "0d3dbe20",
   "metadata": {},
   "outputs": [],
   "source": [
    "df = pd.read_csv(\"https://raw.githubusercontent.com/Datamanim/datarepo/main/drug/train.csv\")"
   ]
  },
  {
   "cell_type": "code",
   "execution_count": 207,
   "id": "7da82276",
   "metadata": {},
   "outputs": [
    {
     "data": {
      "text/html": [
       "<div>\n",
       "<style scoped>\n",
       "    .dataframe tbody tr th:only-of-type {\n",
       "        vertical-align: middle;\n",
       "    }\n",
       "\n",
       "    .dataframe tbody tr th {\n",
       "        vertical-align: top;\n",
       "    }\n",
       "\n",
       "    .dataframe thead th {\n",
       "        text-align: right;\n",
       "    }\n",
       "</style>\n",
       "<table border=\"1\" class=\"dataframe\">\n",
       "  <thead>\n",
       "    <tr style=\"text-align: right;\">\n",
       "      <th></th>\n",
       "      <th>Age</th>\n",
       "      <th>Sex</th>\n",
       "      <th>BP</th>\n",
       "      <th>Cholesterol</th>\n",
       "      <th>Na_to_K</th>\n",
       "      <th>Drug</th>\n",
       "    </tr>\n",
       "  </thead>\n",
       "  <tbody>\n",
       "    <tr>\n",
       "      <th>0</th>\n",
       "      <td>20</td>\n",
       "      <td>F</td>\n",
       "      <td>NORMAL</td>\n",
       "      <td>NORMAL</td>\n",
       "      <td>9.281</td>\n",
       "      <td>4</td>\n",
       "    </tr>\n",
       "    <tr>\n",
       "      <th>1</th>\n",
       "      <td>24</td>\n",
       "      <td>M</td>\n",
       "      <td>HIGH</td>\n",
       "      <td>NORMAL</td>\n",
       "      <td>9.475</td>\n",
       "      <td>1</td>\n",
       "    </tr>\n",
       "    <tr>\n",
       "      <th>2</th>\n",
       "      <td>34</td>\n",
       "      <td>M</td>\n",
       "      <td>NORMAL</td>\n",
       "      <td>HIGH</td>\n",
       "      <td>22.456</td>\n",
       "      <td>0</td>\n",
       "    </tr>\n",
       "    <tr>\n",
       "      <th>3</th>\n",
       "      <td>17</td>\n",
       "      <td>M</td>\n",
       "      <td>NORMAL</td>\n",
       "      <td>NORMAL</td>\n",
       "      <td>10.832</td>\n",
       "      <td>4</td>\n",
       "    </tr>\n",
       "    <tr>\n",
       "      <th>4</th>\n",
       "      <td>72</td>\n",
       "      <td>M</td>\n",
       "      <td>LOW</td>\n",
       "      <td>HIGH</td>\n",
       "      <td>16.310</td>\n",
       "      <td>0</td>\n",
       "    </tr>\n",
       "  </tbody>\n",
       "</table>\n",
       "</div>"
      ],
      "text/plain": [
       "   Age Sex      BP Cholesterol  Na_to_K  Drug\n",
       "0   20   F  NORMAL      NORMAL    9.281     4\n",
       "1   24   M    HIGH      NORMAL    9.475     1\n",
       "2   34   M  NORMAL        HIGH   22.456     0\n",
       "3   17   M  NORMAL      NORMAL   10.832     4\n",
       "4   72   M     LOW        HIGH   16.310     0"
      ]
     },
     "execution_count": 207,
     "metadata": {},
     "output_type": "execute_result"
    }
   ],
   "source": [
    "df.head()"
   ]
  },
  {
   "cell_type": "markdown",
   "id": "36dcb7fb",
   "metadata": {},
   "source": [
    "**Question 98. 남성들의 연령대별 Na_to_K값의 평균값을 구해서 데이터 프레임으로 표현하여라**"
   ]
  },
  {
   "cell_type": "code",
   "execution_count": 208,
   "id": "66e5d76b",
   "metadata": {},
   "outputs": [
    {
     "data": {
      "text/html": [
       "<div>\n",
       "<style scoped>\n",
       "    .dataframe tbody tr th:only-of-type {\n",
       "        vertical-align: middle;\n",
       "    }\n",
       "\n",
       "    .dataframe tbody tr th {\n",
       "        vertical-align: top;\n",
       "    }\n",
       "\n",
       "    .dataframe thead th {\n",
       "        text-align: right;\n",
       "    }\n",
       "</style>\n",
       "<table border=\"1\" class=\"dataframe\">\n",
       "  <thead>\n",
       "    <tr style=\"text-align: right;\">\n",
       "      <th></th>\n",
       "      <th>Na_to_K</th>\n",
       "    </tr>\n",
       "    <tr>\n",
       "      <th>연령대</th>\n",
       "      <th></th>\n",
       "    </tr>\n",
       "  </thead>\n",
       "  <tbody>\n",
       "    <tr>\n",
       "      <th>10</th>\n",
       "      <td>13.627000</td>\n",
       "    </tr>\n",
       "    <tr>\n",
       "      <th>20</th>\n",
       "      <td>18.260769</td>\n",
       "    </tr>\n",
       "    <tr>\n",
       "      <th>30</th>\n",
       "      <td>15.244143</td>\n",
       "    </tr>\n",
       "    <tr>\n",
       "      <th>40</th>\n",
       "      <td>13.897273</td>\n",
       "    </tr>\n",
       "    <tr>\n",
       "      <th>50</th>\n",
       "      <td>14.811273</td>\n",
       "    </tr>\n",
       "    <tr>\n",
       "      <th>60</th>\n",
       "      <td>14.284308</td>\n",
       "    </tr>\n",
       "    <tr>\n",
       "      <th>70</th>\n",
       "      <td>11.363857</td>\n",
       "    </tr>\n",
       "  </tbody>\n",
       "</table>\n",
       "</div>"
      ],
      "text/plain": [
       "       Na_to_K\n",
       "연령대           \n",
       "10   13.627000\n",
       "20   18.260769\n",
       "30   15.244143\n",
       "40   13.897273\n",
       "50   14.811273\n",
       "60   14.284308\n",
       "70   11.363857"
      ]
     },
     "execution_count": 208,
     "metadata": {},
     "output_type": "execute_result"
    }
   ],
   "source": [
    "df['연령대'] = df['Age']//10*10\n",
    "df[df['Sex']=='M'].groupby('연령대')['Na_to_K'].mean().to_frame()"
   ]
  },
  {
   "cell_type": "markdown",
   "id": "ccc209aa",
   "metadata": {},
   "source": [
    "# 사기 회사 분류 데이터"
   ]
  },
  {
   "cell_type": "code",
   "execution_count": 209,
   "id": "aaa656c2",
   "metadata": {},
   "outputs": [],
   "source": [
    "df = pd.read_csv(\"https://raw.githubusercontent.com/Datamanim/datarepo/main/audit/train.csv\")"
   ]
  },
  {
   "cell_type": "code",
   "execution_count": 210,
   "id": "3cf96f79",
   "metadata": {},
   "outputs": [
    {
     "data": {
      "text/html": [
       "<div>\n",
       "<style scoped>\n",
       "    .dataframe tbody tr th:only-of-type {\n",
       "        vertical-align: middle;\n",
       "    }\n",
       "\n",
       "    .dataframe tbody tr th {\n",
       "        vertical-align: top;\n",
       "    }\n",
       "\n",
       "    .dataframe thead th {\n",
       "        text-align: right;\n",
       "    }\n",
       "</style>\n",
       "<table border=\"1\" class=\"dataframe\">\n",
       "  <thead>\n",
       "    <tr style=\"text-align: right;\">\n",
       "      <th></th>\n",
       "      <th>Sector_score</th>\n",
       "      <th>LOCATION_ID</th>\n",
       "      <th>PARA_A</th>\n",
       "      <th>Score_A</th>\n",
       "      <th>Risk_A</th>\n",
       "      <th>PARA_B</th>\n",
       "      <th>Score_B</th>\n",
       "      <th>Risk_B</th>\n",
       "      <th>TOTAL</th>\n",
       "      <th>numbers</th>\n",
       "      <th>...</th>\n",
       "      <th>RiSk_E</th>\n",
       "      <th>History</th>\n",
       "      <th>Prob</th>\n",
       "      <th>Risk_F</th>\n",
       "      <th>Score</th>\n",
       "      <th>Inherent_Risk</th>\n",
       "      <th>CONTROL_RISK</th>\n",
       "      <th>Detection_Risk</th>\n",
       "      <th>Audit_Risk</th>\n",
       "      <th>Risk</th>\n",
       "    </tr>\n",
       "  </thead>\n",
       "  <tbody>\n",
       "    <tr>\n",
       "      <th>0</th>\n",
       "      <td>2.72</td>\n",
       "      <td>14</td>\n",
       "      <td>4.53</td>\n",
       "      <td>0.6</td>\n",
       "      <td>2.718</td>\n",
       "      <td>87.93</td>\n",
       "      <td>0.6</td>\n",
       "      <td>52.758</td>\n",
       "      <td>92.46</td>\n",
       "      <td>5.0</td>\n",
       "      <td>...</td>\n",
       "      <td>0.4</td>\n",
       "      <td>0</td>\n",
       "      <td>0.2</td>\n",
       "      <td>0.0</td>\n",
       "      <td>4.0</td>\n",
       "      <td>108.362</td>\n",
       "      <td>0.4</td>\n",
       "      <td>0.5</td>\n",
       "      <td>21.6724</td>\n",
       "      <td>1</td>\n",
       "    </tr>\n",
       "    <tr>\n",
       "      <th>1</th>\n",
       "      <td>3.41</td>\n",
       "      <td>16</td>\n",
       "      <td>12.68</td>\n",
       "      <td>0.6</td>\n",
       "      <td>7.608</td>\n",
       "      <td>41.00</td>\n",
       "      <td>0.6</td>\n",
       "      <td>24.600</td>\n",
       "      <td>53.68</td>\n",
       "      <td>5.5</td>\n",
       "      <td>...</td>\n",
       "      <td>0.4</td>\n",
       "      <td>0</td>\n",
       "      <td>0.2</td>\n",
       "      <td>0.0</td>\n",
       "      <td>4.4</td>\n",
       "      <td>41.936</td>\n",
       "      <td>0.4</td>\n",
       "      <td>0.5</td>\n",
       "      <td>8.3872</td>\n",
       "      <td>1</td>\n",
       "    </tr>\n",
       "    <tr>\n",
       "      <th>2</th>\n",
       "      <td>2.72</td>\n",
       "      <td>11</td>\n",
       "      <td>3.11</td>\n",
       "      <td>0.6</td>\n",
       "      <td>1.866</td>\n",
       "      <td>113.97</td>\n",
       "      <td>0.6</td>\n",
       "      <td>68.382</td>\n",
       "      <td>117.08</td>\n",
       "      <td>5.5</td>\n",
       "      <td>...</td>\n",
       "      <td>0.4</td>\n",
       "      <td>0</td>\n",
       "      <td>0.2</td>\n",
       "      <td>0.0</td>\n",
       "      <td>4.4</td>\n",
       "      <td>88.832</td>\n",
       "      <td>0.4</td>\n",
       "      <td>0.5</td>\n",
       "      <td>17.7664</td>\n",
       "      <td>1</td>\n",
       "    </tr>\n",
       "    <tr>\n",
       "      <th>3</th>\n",
       "      <td>3.41</td>\n",
       "      <td>8</td>\n",
       "      <td>1.12</td>\n",
       "      <td>0.4</td>\n",
       "      <td>0.448</td>\n",
       "      <td>0.00</td>\n",
       "      <td>0.2</td>\n",
       "      <td>0.000</td>\n",
       "      <td>1.12</td>\n",
       "      <td>5.0</td>\n",
       "      <td>...</td>\n",
       "      <td>0.4</td>\n",
       "      <td>0</td>\n",
       "      <td>0.2</td>\n",
       "      <td>0.0</td>\n",
       "      <td>2.2</td>\n",
       "      <td>1.848</td>\n",
       "      <td>0.4</td>\n",
       "      <td>0.5</td>\n",
       "      <td>0.3696</td>\n",
       "      <td>0</td>\n",
       "    </tr>\n",
       "    <tr>\n",
       "      <th>4</th>\n",
       "      <td>55.57</td>\n",
       "      <td>9</td>\n",
       "      <td>1.06</td>\n",
       "      <td>0.4</td>\n",
       "      <td>0.424</td>\n",
       "      <td>0.00</td>\n",
       "      <td>0.2</td>\n",
       "      <td>0.000</td>\n",
       "      <td>1.06</td>\n",
       "      <td>5.0</td>\n",
       "      <td>...</td>\n",
       "      <td>0.4</td>\n",
       "      <td>0</td>\n",
       "      <td>0.2</td>\n",
       "      <td>0.0</td>\n",
       "      <td>2.2</td>\n",
       "      <td>1.824</td>\n",
       "      <td>0.4</td>\n",
       "      <td>0.5</td>\n",
       "      <td>0.3648</td>\n",
       "      <td>0</td>\n",
       "    </tr>\n",
       "  </tbody>\n",
       "</table>\n",
       "<p>5 rows × 27 columns</p>\n",
       "</div>"
      ],
      "text/plain": [
       "   Sector_score LOCATION_ID  PARA_A  Score_A  Risk_A  PARA_B  Score_B  Risk_B  \\\n",
       "0          2.72          14    4.53      0.6   2.718   87.93      0.6  52.758   \n",
       "1          3.41          16   12.68      0.6   7.608   41.00      0.6  24.600   \n",
       "2          2.72          11    3.11      0.6   1.866  113.97      0.6  68.382   \n",
       "3          3.41           8    1.12      0.4   0.448    0.00      0.2   0.000   \n",
       "4         55.57           9    1.06      0.4   0.424    0.00      0.2   0.000   \n",
       "\n",
       "    TOTAL  numbers  ...  RiSk_E  History  Prob  Risk_F  Score  Inherent_Risk  \\\n",
       "0   92.46      5.0  ...     0.4        0   0.2     0.0    4.0        108.362   \n",
       "1   53.68      5.5  ...     0.4        0   0.2     0.0    4.4         41.936   \n",
       "2  117.08      5.5  ...     0.4        0   0.2     0.0    4.4         88.832   \n",
       "3    1.12      5.0  ...     0.4        0   0.2     0.0    2.2          1.848   \n",
       "4    1.06      5.0  ...     0.4        0   0.2     0.0    2.2          1.824   \n",
       "\n",
       "   CONTROL_RISK  Detection_Risk  Audit_Risk  Risk  \n",
       "0           0.4             0.5     21.6724     1  \n",
       "1           0.4             0.5      8.3872     1  \n",
       "2           0.4             0.5     17.7664     1  \n",
       "3           0.4             0.5      0.3696     0  \n",
       "4           0.4             0.5      0.3648     0  \n",
       "\n",
       "[5 rows x 27 columns]"
      ]
     },
     "execution_count": 210,
     "metadata": {},
     "output_type": "execute_result"
    }
   ],
   "source": [
    "df.head()"
   ]
  },
  {
   "cell_type": "markdown",
   "id": "ceaecd70",
   "metadata": {},
   "source": [
    "**Question 99. 데이터의 Risk 값에 따른 score_a와 score_b의 평균값을 구하여라**"
   ]
  },
  {
   "cell_type": "code",
   "execution_count": 211,
   "id": "2d3cea97",
   "metadata": {},
   "outputs": [
    {
     "data": {
      "text/html": [
       "<div>\n",
       "<style scoped>\n",
       "    .dataframe tbody tr th:only-of-type {\n",
       "        vertical-align: middle;\n",
       "    }\n",
       "\n",
       "    .dataframe tbody tr th {\n",
       "        vertical-align: top;\n",
       "    }\n",
       "\n",
       "    .dataframe thead th {\n",
       "        text-align: right;\n",
       "    }\n",
       "</style>\n",
       "<table border=\"1\" class=\"dataframe\">\n",
       "  <thead>\n",
       "    <tr style=\"text-align: right;\">\n",
       "      <th></th>\n",
       "      <th>Score_A</th>\n",
       "      <th>Score_B</th>\n",
       "    </tr>\n",
       "    <tr>\n",
       "      <th>Risk</th>\n",
       "      <th></th>\n",
       "      <th></th>\n",
       "    </tr>\n",
       "  </thead>\n",
       "  <tbody>\n",
       "    <tr>\n",
       "      <th>0</th>\n",
       "      <td>0.262234</td>\n",
       "      <td>0.225532</td>\n",
       "    </tr>\n",
       "    <tr>\n",
       "      <th>1</th>\n",
       "      <td>0.490164</td>\n",
       "      <td>0.444262</td>\n",
       "    </tr>\n",
       "  </tbody>\n",
       "</table>\n",
       "</div>"
      ],
      "text/plain": [
       "       Score_A   Score_B\n",
       "Risk                    \n",
       "0     0.262234  0.225532\n",
       "1     0.490164  0.444262"
      ]
     },
     "execution_count": 211,
     "metadata": {},
     "output_type": "execute_result"
    }
   ],
   "source": [
    "df.groupby('Risk')[['Score_A', 'Score_B']].mean()"
   ]
  },
  {
   "cell_type": "markdown",
   "id": "12dd4a3d",
   "metadata": {},
   "source": [
    "# 센서 데이터 동작 유형 분류 데이터"
   ]
  },
  {
   "cell_type": "code",
   "execution_count": 212,
   "id": "b36e1010",
   "metadata": {},
   "outputs": [],
   "source": [
    "df = pd.read_csv(\"https://raw.githubusercontent.com/Datamanim/datarepo/main/muscle/train.csv\")"
   ]
  },
  {
   "cell_type": "code",
   "execution_count": 213,
   "id": "d0efcb5f",
   "metadata": {},
   "outputs": [
    {
     "data": {
      "text/html": [
       "<div>\n",
       "<style scoped>\n",
       "    .dataframe tbody tr th:only-of-type {\n",
       "        vertical-align: middle;\n",
       "    }\n",
       "\n",
       "    .dataframe tbody tr th {\n",
       "        vertical-align: top;\n",
       "    }\n",
       "\n",
       "    .dataframe thead th {\n",
       "        text-align: right;\n",
       "    }\n",
       "</style>\n",
       "<table border=\"1\" class=\"dataframe\">\n",
       "  <thead>\n",
       "    <tr style=\"text-align: right;\">\n",
       "      <th></th>\n",
       "      <th>motion_0</th>\n",
       "      <th>motion_1</th>\n",
       "      <th>motion_2</th>\n",
       "      <th>motion_3</th>\n",
       "      <th>motion_4</th>\n",
       "      <th>motion_5</th>\n",
       "      <th>motion_6</th>\n",
       "      <th>motion_7</th>\n",
       "      <th>motion_8</th>\n",
       "      <th>motion_9</th>\n",
       "      <th>...</th>\n",
       "      <th>motion_55</th>\n",
       "      <th>motion_56</th>\n",
       "      <th>motion_57</th>\n",
       "      <th>motion_58</th>\n",
       "      <th>motion_59</th>\n",
       "      <th>motion_60</th>\n",
       "      <th>motion_61</th>\n",
       "      <th>motion_62</th>\n",
       "      <th>motion_63</th>\n",
       "      <th>pose</th>\n",
       "    </tr>\n",
       "  </thead>\n",
       "  <tbody>\n",
       "    <tr>\n",
       "      <th>0</th>\n",
       "      <td>-6.0</td>\n",
       "      <td>8.0</td>\n",
       "      <td>5.0</td>\n",
       "      <td>6.0</td>\n",
       "      <td>-12.0</td>\n",
       "      <td>-27.0</td>\n",
       "      <td>5.0</td>\n",
       "      <td>24.0</td>\n",
       "      <td>-8.0</td>\n",
       "      <td>-5.0</td>\n",
       "      <td>...</td>\n",
       "      <td>-1.0</td>\n",
       "      <td>-3.0</td>\n",
       "      <td>-6.0</td>\n",
       "      <td>-9.0</td>\n",
       "      <td>-7.0</td>\n",
       "      <td>36.0</td>\n",
       "      <td>68.0</td>\n",
       "      <td>3.0</td>\n",
       "      <td>-3.0</td>\n",
       "      <td>1</td>\n",
       "    </tr>\n",
       "    <tr>\n",
       "      <th>1</th>\n",
       "      <td>-32.0</td>\n",
       "      <td>-3.0</td>\n",
       "      <td>-4.0</td>\n",
       "      <td>-5.0</td>\n",
       "      <td>-1.0</td>\n",
       "      <td>16.0</td>\n",
       "      <td>0.0</td>\n",
       "      <td>-5.0</td>\n",
       "      <td>42.0</td>\n",
       "      <td>2.0</td>\n",
       "      <td>...</td>\n",
       "      <td>-17.0</td>\n",
       "      <td>-12.0</td>\n",
       "      <td>-1.0</td>\n",
       "      <td>-1.0</td>\n",
       "      <td>0.0</td>\n",
       "      <td>-26.0</td>\n",
       "      <td>-11.0</td>\n",
       "      <td>-4.0</td>\n",
       "      <td>-9.0</td>\n",
       "      <td>1</td>\n",
       "    </tr>\n",
       "    <tr>\n",
       "      <th>2</th>\n",
       "      <td>35.0</td>\n",
       "      <td>-2.0</td>\n",
       "      <td>-1.0</td>\n",
       "      <td>1.0</td>\n",
       "      <td>-25.0</td>\n",
       "      <td>-16.0</td>\n",
       "      <td>-3.0</td>\n",
       "      <td>-20.0</td>\n",
       "      <td>10.0</td>\n",
       "      <td>1.0</td>\n",
       "      <td>...</td>\n",
       "      <td>6.0</td>\n",
       "      <td>-65.0</td>\n",
       "      <td>6.0</td>\n",
       "      <td>-10.0</td>\n",
       "      <td>-31.0</td>\n",
       "      <td>-19.0</td>\n",
       "      <td>-3.0</td>\n",
       "      <td>-47.0</td>\n",
       "      <td>-17.0</td>\n",
       "      <td>0</td>\n",
       "    </tr>\n",
       "    <tr>\n",
       "      <th>3</th>\n",
       "      <td>-15.0</td>\n",
       "      <td>-6.0</td>\n",
       "      <td>-3.0</td>\n",
       "      <td>-5.0</td>\n",
       "      <td>27.0</td>\n",
       "      <td>37.0</td>\n",
       "      <td>-2.0</td>\n",
       "      <td>-2.0</td>\n",
       "      <td>19.0</td>\n",
       "      <td>5.0</td>\n",
       "      <td>...</td>\n",
       "      <td>2.0</td>\n",
       "      <td>11.0</td>\n",
       "      <td>0.0</td>\n",
       "      <td>-2.0</td>\n",
       "      <td>-4.0</td>\n",
       "      <td>-7.0</td>\n",
       "      <td>15.0</td>\n",
       "      <td>3.0</td>\n",
       "      <td>14.0</td>\n",
       "      <td>1</td>\n",
       "    </tr>\n",
       "    <tr>\n",
       "      <th>4</th>\n",
       "      <td>60.0</td>\n",
       "      <td>3.0</td>\n",
       "      <td>0.0</td>\n",
       "      <td>-7.0</td>\n",
       "      <td>-6.0</td>\n",
       "      <td>-10.0</td>\n",
       "      <td>-6.0</td>\n",
       "      <td>7.0</td>\n",
       "      <td>-11.0</td>\n",
       "      <td>-4.0</td>\n",
       "      <td>...</td>\n",
       "      <td>-12.0</td>\n",
       "      <td>17.0</td>\n",
       "      <td>-3.0</td>\n",
       "      <td>1.0</td>\n",
       "      <td>2.0</td>\n",
       "      <td>-2.0</td>\n",
       "      <td>20.0</td>\n",
       "      <td>18.0</td>\n",
       "      <td>10.0</td>\n",
       "      <td>0</td>\n",
       "    </tr>\n",
       "  </tbody>\n",
       "</table>\n",
       "<p>5 rows × 65 columns</p>\n",
       "</div>"
      ],
      "text/plain": [
       "   motion_0  motion_1  motion_2  motion_3  motion_4  motion_5  motion_6  \\\n",
       "0      -6.0       8.0       5.0       6.0     -12.0     -27.0       5.0   \n",
       "1     -32.0      -3.0      -4.0      -5.0      -1.0      16.0       0.0   \n",
       "2      35.0      -2.0      -1.0       1.0     -25.0     -16.0      -3.0   \n",
       "3     -15.0      -6.0      -3.0      -5.0      27.0      37.0      -2.0   \n",
       "4      60.0       3.0       0.0      -7.0      -6.0     -10.0      -6.0   \n",
       "\n",
       "   motion_7  motion_8  motion_9  ...  motion_55  motion_56  motion_57  \\\n",
       "0      24.0      -8.0      -5.0  ...       -1.0       -3.0       -6.0   \n",
       "1      -5.0      42.0       2.0  ...      -17.0      -12.0       -1.0   \n",
       "2     -20.0      10.0       1.0  ...        6.0      -65.0        6.0   \n",
       "3      -2.0      19.0       5.0  ...        2.0       11.0        0.0   \n",
       "4       7.0     -11.0      -4.0  ...      -12.0       17.0       -3.0   \n",
       "\n",
       "   motion_58  motion_59  motion_60  motion_61  motion_62  motion_63  pose  \n",
       "0       -9.0       -7.0       36.0       68.0        3.0       -3.0     1  \n",
       "1       -1.0        0.0      -26.0      -11.0       -4.0       -9.0     1  \n",
       "2      -10.0      -31.0      -19.0       -3.0      -47.0      -17.0     0  \n",
       "3       -2.0       -4.0       -7.0       15.0        3.0       14.0     1  \n",
       "4        1.0        2.0       -2.0       20.0       18.0       10.0     0  \n",
       "\n",
       "[5 rows x 65 columns]"
      ]
     },
     "execution_count": 213,
     "metadata": {},
     "output_type": "execute_result"
    }
   ],
   "source": [
    "df.head()"
   ]
  },
  {
   "cell_type": "markdown",
   "id": "887c597a",
   "metadata": {},
   "source": [
    "**Question 100. pose값에 따른 각 motion컬럼의 중간값의 가장 큰 차이를 보이는 motion컬럼은 어디이며 그 값은?**"
   ]
  },
  {
   "cell_type": "code",
   "execution_count": 214,
   "id": "a3a09ffd",
   "metadata": {},
   "outputs": [
    {
     "data": {
      "text/html": [
       "<div>\n",
       "<style scoped>\n",
       "    .dataframe tbody tr th:only-of-type {\n",
       "        vertical-align: middle;\n",
       "    }\n",
       "\n",
       "    .dataframe tbody tr th {\n",
       "        vertical-align: top;\n",
       "    }\n",
       "\n",
       "    .dataframe thead th {\n",
       "        text-align: right;\n",
       "    }\n",
       "</style>\n",
       "<table border=\"1\" class=\"dataframe\">\n",
       "  <thead>\n",
       "    <tr style=\"text-align: right;\">\n",
       "      <th>pose</th>\n",
       "      <th>0</th>\n",
       "      <th>1</th>\n",
       "    </tr>\n",
       "  </thead>\n",
       "  <tbody>\n",
       "    <tr>\n",
       "      <th>motion_59</th>\n",
       "      <td>0.0</td>\n",
       "      <td>-1.0</td>\n",
       "    </tr>\n",
       "    <tr>\n",
       "      <th>motion_60</th>\n",
       "      <td>-1.0</td>\n",
       "      <td>1.0</td>\n",
       "    </tr>\n",
       "    <tr>\n",
       "      <th>motion_61</th>\n",
       "      <td>-1.0</td>\n",
       "      <td>1.0</td>\n",
       "    </tr>\n",
       "    <tr>\n",
       "      <th>motion_62</th>\n",
       "      <td>-5.0</td>\n",
       "      <td>-1.0</td>\n",
       "    </tr>\n",
       "    <tr>\n",
       "      <th>motion_63</th>\n",
       "      <td>-1.0</td>\n",
       "      <td>-1.0</td>\n",
       "    </tr>\n",
       "  </tbody>\n",
       "</table>\n",
       "</div>"
      ],
      "text/plain": [
       "pose         0    1\n",
       "motion_59  0.0 -1.0\n",
       "motion_60 -1.0  1.0\n",
       "motion_61 -1.0  1.0\n",
       "motion_62 -5.0 -1.0\n",
       "motion_63 -1.0 -1.0"
      ]
     },
     "metadata": {},
     "output_type": "display_data"
    }
   ],
   "source": [
    "t = df.groupby('pose').median().T\n",
    "abs(t[0]-t[1]).sort_values()\n",
    "display(t.tail(5))"
   ]
  },
  {
   "cell_type": "code",
   "execution_count": 215,
   "id": "ef64c616",
   "metadata": {},
   "outputs": [
    {
     "data": {
      "text/html": [
       "<div>\n",
       "<style scoped>\n",
       "    .dataframe tbody tr th:only-of-type {\n",
       "        vertical-align: middle;\n",
       "    }\n",
       "\n",
       "    .dataframe tbody tr th {\n",
       "        vertical-align: top;\n",
       "    }\n",
       "\n",
       "    .dataframe thead th {\n",
       "        text-align: right;\n",
       "    }\n",
       "</style>\n",
       "<table border=\"1\" class=\"dataframe\">\n",
       "  <thead>\n",
       "    <tr style=\"text-align: right;\">\n",
       "      <th>pose</th>\n",
       "      <th>0</th>\n",
       "      <th>1</th>\n",
       "      <th>diff</th>\n",
       "    </tr>\n",
       "  </thead>\n",
       "  <tbody>\n",
       "    <tr>\n",
       "      <th>motion_54</th>\n",
       "      <td>-5.0</td>\n",
       "      <td>-1.0</td>\n",
       "      <td>4.0</td>\n",
       "    </tr>\n",
       "    <tr>\n",
       "      <th>motion_62</th>\n",
       "      <td>-5.0</td>\n",
       "      <td>-1.0</td>\n",
       "      <td>4.0</td>\n",
       "    </tr>\n",
       "  </tbody>\n",
       "</table>\n",
       "</div>"
      ],
      "text/plain": [
       "pose         0    1  diff\n",
       "motion_54 -5.0 -1.0   4.0\n",
       "motion_62 -5.0 -1.0   4.0"
      ]
     },
     "execution_count": 215,
     "metadata": {},
     "output_type": "execute_result"
    }
   ],
   "source": [
    "target = df.groupby('pose').median()\n",
    "target = target.T\n",
    "target['diff'] = abs(target[0] - target[1])\n",
    "target[(target['diff']==target['diff'].max())]"
   ]
  },
  {
   "cell_type": "markdown",
   "id": "cf9b140d",
   "metadata": {},
   "source": [
    "# 현대 차량 가격 분류 문제 데이터"
   ]
  },
  {
   "cell_type": "code",
   "execution_count": 216,
   "id": "85e71bc7",
   "metadata": {},
   "outputs": [],
   "source": [
    "df = pd.read_csv(\"https://raw.githubusercontent.com/Datamanim/datarepo/main/hyundai/train.csv\")"
   ]
  },
  {
   "cell_type": "code",
   "execution_count": 217,
   "id": "39de416e",
   "metadata": {},
   "outputs": [
    {
     "data": {
      "text/html": [
       "<div>\n",
       "<style scoped>\n",
       "    .dataframe tbody tr th:only-of-type {\n",
       "        vertical-align: middle;\n",
       "    }\n",
       "\n",
       "    .dataframe tbody tr th {\n",
       "        vertical-align: top;\n",
       "    }\n",
       "\n",
       "    .dataframe thead th {\n",
       "        text-align: right;\n",
       "    }\n",
       "</style>\n",
       "<table border=\"1\" class=\"dataframe\">\n",
       "  <thead>\n",
       "    <tr style=\"text-align: right;\">\n",
       "      <th></th>\n",
       "      <th>model</th>\n",
       "      <th>year</th>\n",
       "      <th>price</th>\n",
       "      <th>transmission</th>\n",
       "      <th>mileage</th>\n",
       "      <th>fuelType</th>\n",
       "      <th>tax(£)</th>\n",
       "      <th>mpg</th>\n",
       "      <th>engineSize</th>\n",
       "    </tr>\n",
       "  </thead>\n",
       "  <tbody>\n",
       "    <tr>\n",
       "      <th>0</th>\n",
       "      <td>Tucson</td>\n",
       "      <td>2016</td>\n",
       "      <td>12795</td>\n",
       "      <td>Manual</td>\n",
       "      <td>36263</td>\n",
       "      <td>Diesel</td>\n",
       "      <td>30</td>\n",
       "      <td>61.7</td>\n",
       "      <td>1.7</td>\n",
       "    </tr>\n",
       "    <tr>\n",
       "      <th>1</th>\n",
       "      <td>I10</td>\n",
       "      <td>2012</td>\n",
       "      <td>3995</td>\n",
       "      <td>Manual</td>\n",
       "      <td>22089</td>\n",
       "      <td>Petrol</td>\n",
       "      <td>20</td>\n",
       "      <td>61.4</td>\n",
       "      <td>1.2</td>\n",
       "    </tr>\n",
       "    <tr>\n",
       "      <th>2</th>\n",
       "      <td>I30</td>\n",
       "      <td>2019</td>\n",
       "      <td>24000</td>\n",
       "      <td>Manual</td>\n",
       "      <td>555</td>\n",
       "      <td>Petrol</td>\n",
       "      <td>145</td>\n",
       "      <td>34.0</td>\n",
       "      <td>2.0</td>\n",
       "    </tr>\n",
       "    <tr>\n",
       "      <th>3</th>\n",
       "      <td>Tucson</td>\n",
       "      <td>2017</td>\n",
       "      <td>12995</td>\n",
       "      <td>Manual</td>\n",
       "      <td>32147</td>\n",
       "      <td>Diesel</td>\n",
       "      <td>30</td>\n",
       "      <td>61.7</td>\n",
       "      <td>1.7</td>\n",
       "    </tr>\n",
       "    <tr>\n",
       "      <th>4</th>\n",
       "      <td>Tucson</td>\n",
       "      <td>2018</td>\n",
       "      <td>14991</td>\n",
       "      <td>Semi-Auto</td>\n",
       "      <td>32217</td>\n",
       "      <td>Diesel</td>\n",
       "      <td>150</td>\n",
       "      <td>57.6</td>\n",
       "      <td>1.7</td>\n",
       "    </tr>\n",
       "  </tbody>\n",
       "</table>\n",
       "</div>"
      ],
      "text/plain": [
       "     model  year  price transmission  mileage fuelType  tax(£)   mpg  \\\n",
       "0   Tucson  2016  12795       Manual    36263   Diesel      30  61.7   \n",
       "1      I10  2012   3995       Manual    22089   Petrol      20  61.4   \n",
       "2      I30  2019  24000       Manual      555   Petrol     145  34.0   \n",
       "3   Tucson  2017  12995       Manual    32147   Diesel      30  61.7   \n",
       "4   Tucson  2018  14991    Semi-Auto    32217   Diesel     150  57.6   \n",
       "\n",
       "   engineSize  \n",
       "0         1.7  \n",
       "1         1.2  \n",
       "2         2.0  \n",
       "3         1.7  \n",
       "4         1.7  "
      ]
     },
     "execution_count": 217,
     "metadata": {},
     "output_type": "execute_result"
    }
   ],
   "source": [
    "df.head()"
   ]
  },
  {
   "cell_type": "markdown",
   "id": "b80a3c7c",
   "metadata": {},
   "source": [
    "**Question 101. 정보(row수)가 가장 많은 상위 3차종의 price값의 각 평균값은?**"
   ]
  },
  {
   "cell_type": "code",
   "execution_count": 218,
   "id": "0f5f775c",
   "metadata": {},
   "outputs": [
    {
     "data": {
      "text/html": [
       "<div>\n",
       "<style scoped>\n",
       "    .dataframe tbody tr th:only-of-type {\n",
       "        vertical-align: middle;\n",
       "    }\n",
       "\n",
       "    .dataframe tbody tr th {\n",
       "        vertical-align: top;\n",
       "    }\n",
       "\n",
       "    .dataframe thead th {\n",
       "        text-align: right;\n",
       "    }\n",
       "</style>\n",
       "<table border=\"1\" class=\"dataframe\">\n",
       "  <thead>\n",
       "    <tr style=\"text-align: right;\">\n",
       "      <th></th>\n",
       "      <th>price</th>\n",
       "    </tr>\n",
       "    <tr>\n",
       "      <th>model</th>\n",
       "      <th></th>\n",
       "    </tr>\n",
       "  </thead>\n",
       "  <tbody>\n",
       "    <tr>\n",
       "      <th>I10</th>\n",
       "      <td>7646.137891</td>\n",
       "    </tr>\n",
       "    <tr>\n",
       "      <th>I30</th>\n",
       "      <td>11651.821759</td>\n",
       "    </tr>\n",
       "    <tr>\n",
       "      <th>Tucson</th>\n",
       "      <td>15805.441373</td>\n",
       "    </tr>\n",
       "  </tbody>\n",
       "</table>\n",
       "</div>"
      ],
      "text/plain": [
       "                price\n",
       "model                \n",
       " I10      7646.137891\n",
       " I30     11651.821759\n",
       " Tucson  15805.441373"
      ]
     },
     "execution_count": 218,
     "metadata": {},
     "output_type": "execute_result"
    }
   ],
   "source": [
    "df.loc[df.model.isin(df.model.value_counts().index[:3])].groupby('model')['price'].mean().to_frame()"
   ]
  },
  {
   "cell_type": "markdown",
   "id": "4b2b834e",
   "metadata": {},
   "source": [
    "# 당뇨 여부 판단 데이터"
   ]
  },
  {
   "cell_type": "code",
   "execution_count": 219,
   "id": "d2af1153",
   "metadata": {},
   "outputs": [],
   "source": [
    "df = pd.read_csv(\"https://raw.githubusercontent.com/Datamanim/datarepo/main/diabetes/train.csv\")"
   ]
  },
  {
   "cell_type": "code",
   "execution_count": 220,
   "id": "533eb715",
   "metadata": {},
   "outputs": [
    {
     "data": {
      "text/html": [
       "<div>\n",
       "<style scoped>\n",
       "    .dataframe tbody tr th:only-of-type {\n",
       "        vertical-align: middle;\n",
       "    }\n",
       "\n",
       "    .dataframe tbody tr th {\n",
       "        vertical-align: top;\n",
       "    }\n",
       "\n",
       "    .dataframe thead th {\n",
       "        text-align: right;\n",
       "    }\n",
       "</style>\n",
       "<table border=\"1\" class=\"dataframe\">\n",
       "  <thead>\n",
       "    <tr style=\"text-align: right;\">\n",
       "      <th></th>\n",
       "      <th>Pregnancies</th>\n",
       "      <th>Glucose</th>\n",
       "      <th>BloodPressure</th>\n",
       "      <th>SkinThickness</th>\n",
       "      <th>Insulin</th>\n",
       "      <th>BMI</th>\n",
       "      <th>DiabetesPedigreeFunction</th>\n",
       "      <th>Age</th>\n",
       "      <th>Outcome</th>\n",
       "    </tr>\n",
       "  </thead>\n",
       "  <tbody>\n",
       "    <tr>\n",
       "      <th>0</th>\n",
       "      <td>3</td>\n",
       "      <td>102</td>\n",
       "      <td>74</td>\n",
       "      <td>0</td>\n",
       "      <td>0</td>\n",
       "      <td>29.5</td>\n",
       "      <td>0.121</td>\n",
       "      <td>32</td>\n",
       "      <td>0</td>\n",
       "    </tr>\n",
       "    <tr>\n",
       "      <th>1</th>\n",
       "      <td>2</td>\n",
       "      <td>144</td>\n",
       "      <td>58</td>\n",
       "      <td>33</td>\n",
       "      <td>135</td>\n",
       "      <td>31.6</td>\n",
       "      <td>0.422</td>\n",
       "      <td>25</td>\n",
       "      <td>1</td>\n",
       "    </tr>\n",
       "    <tr>\n",
       "      <th>2</th>\n",
       "      <td>5</td>\n",
       "      <td>136</td>\n",
       "      <td>82</td>\n",
       "      <td>0</td>\n",
       "      <td>0</td>\n",
       "      <td>0.0</td>\n",
       "      <td>0.640</td>\n",
       "      <td>69</td>\n",
       "      <td>0</td>\n",
       "    </tr>\n",
       "    <tr>\n",
       "      <th>3</th>\n",
       "      <td>13</td>\n",
       "      <td>145</td>\n",
       "      <td>82</td>\n",
       "      <td>19</td>\n",
       "      <td>110</td>\n",
       "      <td>22.2</td>\n",
       "      <td>0.245</td>\n",
       "      <td>57</td>\n",
       "      <td>0</td>\n",
       "    </tr>\n",
       "    <tr>\n",
       "      <th>4</th>\n",
       "      <td>1</td>\n",
       "      <td>117</td>\n",
       "      <td>60</td>\n",
       "      <td>23</td>\n",
       "      <td>106</td>\n",
       "      <td>33.8</td>\n",
       "      <td>0.466</td>\n",
       "      <td>27</td>\n",
       "      <td>0</td>\n",
       "    </tr>\n",
       "  </tbody>\n",
       "</table>\n",
       "</div>"
      ],
      "text/plain": [
       "   Pregnancies  Glucose  BloodPressure  SkinThickness  Insulin   BMI  \\\n",
       "0            3      102             74              0        0  29.5   \n",
       "1            2      144             58             33      135  31.6   \n",
       "2            5      136             82              0        0   0.0   \n",
       "3           13      145             82             19      110  22.2   \n",
       "4            1      117             60             23      106  33.8   \n",
       "\n",
       "   DiabetesPedigreeFunction  Age  Outcome  \n",
       "0                     0.121   32        0  \n",
       "1                     0.422   25        1  \n",
       "2                     0.640   69        0  \n",
       "3                     0.245   57        0  \n",
       "4                     0.466   27        0  "
      ]
     },
     "execution_count": 220,
     "metadata": {},
     "output_type": "execute_result"
    }
   ],
   "source": [
    "df.head()"
   ]
  },
  {
   "cell_type": "markdown",
   "id": "3bd48e31",
   "metadata": {},
   "source": [
    "**Question 102. Outcome 값에 따른 각 그룹의 각 컬럼의 평균 차이를 구하여라**"
   ]
  },
  {
   "cell_type": "code",
   "execution_count": 221,
   "id": "d842f3d1",
   "metadata": {},
   "outputs": [
    {
     "data": {
      "text/plain": [
       "Pregnancies                  1.574159\n",
       "Glucose                     29.943995\n",
       "BloodPressure                3.202079\n",
       "SkinThickness                2.952033\n",
       "Insulin                     33.398645\n",
       "BMI                          4.541437\n",
       "DiabetesPedigreeFunction     0.143646\n",
       "Age                          5.866939\n",
       "Name: 1, dtype: float64"
      ]
     },
     "execution_count": 221,
     "metadata": {},
     "output_type": "execute_result"
    }
   ],
   "source": [
    "df.groupby('Outcome').mean().diff().iloc[1, :]"
   ]
  },
  {
   "cell_type": "markdown",
   "id": "62fd1955",
   "metadata": {},
   "source": [
    "# 넷플릭스 주식 데이터"
   ]
  },
  {
   "cell_type": "code",
   "execution_count": 222,
   "id": "da8091cc",
   "metadata": {},
   "outputs": [],
   "source": [
    "df = pd.read_csv(\"https://raw.githubusercontent.com/Datamanim/datarepo/main/nflx/NFLX.csv\")"
   ]
  },
  {
   "cell_type": "code",
   "execution_count": 223,
   "id": "ba560c59",
   "metadata": {},
   "outputs": [
    {
     "data": {
      "text/html": [
       "<div>\n",
       "<style scoped>\n",
       "    .dataframe tbody tr th:only-of-type {\n",
       "        vertical-align: middle;\n",
       "    }\n",
       "\n",
       "    .dataframe tbody tr th {\n",
       "        vertical-align: top;\n",
       "    }\n",
       "\n",
       "    .dataframe thead th {\n",
       "        text-align: right;\n",
       "    }\n",
       "</style>\n",
       "<table border=\"1\" class=\"dataframe\">\n",
       "  <thead>\n",
       "    <tr style=\"text-align: right;\">\n",
       "      <th></th>\n",
       "      <th>Date</th>\n",
       "      <th>Open</th>\n",
       "      <th>High</th>\n",
       "      <th>Low</th>\n",
       "      <th>Close</th>\n",
       "      <th>Adj Close</th>\n",
       "      <th>Volume</th>\n",
       "    </tr>\n",
       "  </thead>\n",
       "  <tbody>\n",
       "    <tr>\n",
       "      <th>0</th>\n",
       "      <td>2002-05-23</td>\n",
       "      <td>1.156429</td>\n",
       "      <td>1.242857</td>\n",
       "      <td>1.145714</td>\n",
       "      <td>1.196429</td>\n",
       "      <td>1.196429</td>\n",
       "      <td>104790000</td>\n",
       "    </tr>\n",
       "    <tr>\n",
       "      <th>1</th>\n",
       "      <td>2002-05-24</td>\n",
       "      <td>1.214286</td>\n",
       "      <td>1.225000</td>\n",
       "      <td>1.197143</td>\n",
       "      <td>1.210000</td>\n",
       "      <td>1.210000</td>\n",
       "      <td>11104800</td>\n",
       "    </tr>\n",
       "    <tr>\n",
       "      <th>2</th>\n",
       "      <td>2002-05-28</td>\n",
       "      <td>1.213571</td>\n",
       "      <td>1.232143</td>\n",
       "      <td>1.157143</td>\n",
       "      <td>1.157143</td>\n",
       "      <td>1.157143</td>\n",
       "      <td>6609400</td>\n",
       "    </tr>\n",
       "    <tr>\n",
       "      <th>3</th>\n",
       "      <td>2002-05-29</td>\n",
       "      <td>1.164286</td>\n",
       "      <td>1.164286</td>\n",
       "      <td>1.085714</td>\n",
       "      <td>1.103571</td>\n",
       "      <td>1.103571</td>\n",
       "      <td>6757800</td>\n",
       "    </tr>\n",
       "    <tr>\n",
       "      <th>4</th>\n",
       "      <td>2002-05-30</td>\n",
       "      <td>1.107857</td>\n",
       "      <td>1.107857</td>\n",
       "      <td>1.071429</td>\n",
       "      <td>1.071429</td>\n",
       "      <td>1.071429</td>\n",
       "      <td>10154200</td>\n",
       "    </tr>\n",
       "  </tbody>\n",
       "</table>\n",
       "</div>"
      ],
      "text/plain": [
       "         Date      Open      High       Low     Close  Adj Close     Volume\n",
       "0  2002-05-23  1.156429  1.242857  1.145714  1.196429   1.196429  104790000\n",
       "1  2002-05-24  1.214286  1.225000  1.197143  1.210000   1.210000   11104800\n",
       "2  2002-05-28  1.213571  1.232143  1.157143  1.157143   1.157143    6609400\n",
       "3  2002-05-29  1.164286  1.164286  1.085714  1.103571   1.103571    6757800\n",
       "4  2002-05-30  1.107857  1.107857  1.071429  1.071429   1.071429   10154200"
      ]
     },
     "execution_count": 223,
     "metadata": {},
     "output_type": "execute_result"
    }
   ],
   "source": [
    "df.head()"
   ]
  },
  {
   "cell_type": "markdown",
   "id": "2e0cd9ec",
   "metadata": {},
   "source": [
    "**Question 103. 매년 5월달의 open가격의 평균값을 데이터 프레임으로 표현하라**"
   ]
  },
  {
   "cell_type": "code",
   "execution_count": 224,
   "id": "1280831d",
   "metadata": {},
   "outputs": [
    {
     "data": {
      "text/plain": [
       "Date\n",
       "2002-05      1.155833\n",
       "2003-05      1.641497\n",
       "2004-05      4.261143\n",
       "2005-05      1.951905\n",
       "2006-05      4.163571\n",
       "2007-05      3.159351\n",
       "2008-05      4.435034\n",
       "2009-05      5.790571\n",
       "2010-05     14.417071\n",
       "2011-05     34.650272\n",
       "2012-05     10.523247\n",
       "2013-05     31.936429\n",
       "2014-05     51.121292\n",
       "2015-05     85.057429\n",
       "2016-05     92.705715\n",
       "2017-05    158.255455\n",
       "2018-05    329.779541\n",
       "2019-05    359.664548\n",
       "2020-05    433.880499\n",
       "2021-05    496.923996\n",
       "Name: Open, dtype: float64"
      ]
     },
     "execution_count": 224,
     "metadata": {},
     "output_type": "execute_result"
    }
   ],
   "source": [
    "df['Date'] = pd.to_datetime(df['Date'])\n",
    "df.groupby(df[df['Date'].dt.month==5]['Date'].dt.strftime('%Y-%m'))['Open'].mean()"
   ]
  },
  {
   "cell_type": "code",
   "execution_count": 225,
   "id": "f21eb175",
   "metadata": {},
   "outputs": [
    {
     "name": "stdout",
     "output_type": "stream",
     "text": [
      "Date\n",
      "2002-05      1.155833\n",
      "2003-05      1.641497\n",
      "2004-05      4.261143\n",
      "2005-05      1.951905\n",
      "2006-05      4.163571\n",
      "2007-05      3.159351\n",
      "2008-05      4.435034\n",
      "2009-05      5.790571\n",
      "2010-05     14.417071\n",
      "2011-05     34.650272\n",
      "2012-05     10.523247\n",
      "2013-05     31.936429\n",
      "2014-05     51.121292\n",
      "2015-05     85.057429\n",
      "2016-05     92.705715\n",
      "2017-05    158.255455\n",
      "2018-05    329.779541\n",
      "2019-05    359.664548\n",
      "2020-05    433.880499\n",
      "2021-05    496.923996\n",
      "Name: Open, dtype: float64\n"
     ]
    }
   ],
   "source": [
    "target = df.groupby(df['Date'].dt.strftime('%Y-%m')).mean(numeric_only=True)\n",
    "answer = target.loc[target.index.str.contains('-05')].Open\n",
    "print(answer)"
   ]
  },
  {
   "cell_type": "markdown",
   "id": "f029a519",
   "metadata": {},
   "source": [
    "# NBA 선수 능력치 데이터"
   ]
  },
  {
   "cell_type": "code",
   "execution_count": 226,
   "id": "eab7631a",
   "metadata": {},
   "outputs": [],
   "source": [
    "df = pd.read_csv(\"https://raw.githubusercontent.com/Datamanim/datarepo/main/nba/nba.csv\", encoding='latin', sep=';')"
   ]
  },
  {
   "cell_type": "code",
   "execution_count": 227,
   "id": "3dd8d662",
   "metadata": {},
   "outputs": [
    {
     "data": {
      "text/html": [
       "<div>\n",
       "<style scoped>\n",
       "    .dataframe tbody tr th:only-of-type {\n",
       "        vertical-align: middle;\n",
       "    }\n",
       "\n",
       "    .dataframe tbody tr th {\n",
       "        vertical-align: top;\n",
       "    }\n",
       "\n",
       "    .dataframe thead th {\n",
       "        text-align: right;\n",
       "    }\n",
       "</style>\n",
       "<table border=\"1\" class=\"dataframe\">\n",
       "  <thead>\n",
       "    <tr style=\"text-align: right;\">\n",
       "      <th></th>\n",
       "      <th>Rk</th>\n",
       "      <th>Player</th>\n",
       "      <th>Pos</th>\n",
       "      <th>Age</th>\n",
       "      <th>Tm</th>\n",
       "      <th>G</th>\n",
       "      <th>GS</th>\n",
       "      <th>MP</th>\n",
       "      <th>FG</th>\n",
       "      <th>FGA</th>\n",
       "      <th>...</th>\n",
       "      <th>FT%</th>\n",
       "      <th>ORB</th>\n",
       "      <th>DRB</th>\n",
       "      <th>TRB</th>\n",
       "      <th>AST</th>\n",
       "      <th>STL</th>\n",
       "      <th>BLK</th>\n",
       "      <th>TOV</th>\n",
       "      <th>PF</th>\n",
       "      <th>PTS</th>\n",
       "    </tr>\n",
       "  </thead>\n",
       "  <tbody>\n",
       "    <tr>\n",
       "      <th>0</th>\n",
       "      <td>1</td>\n",
       "      <td>Precious Achiuwa</td>\n",
       "      <td>C</td>\n",
       "      <td>22</td>\n",
       "      <td>TOR</td>\n",
       "      <td>73</td>\n",
       "      <td>28</td>\n",
       "      <td>23.6</td>\n",
       "      <td>3.6</td>\n",
       "      <td>8.3</td>\n",
       "      <td>...</td>\n",
       "      <td>0.595</td>\n",
       "      <td>2.0</td>\n",
       "      <td>4.5</td>\n",
       "      <td>6.5</td>\n",
       "      <td>1.1</td>\n",
       "      <td>0.5</td>\n",
       "      <td>0.6</td>\n",
       "      <td>1.2</td>\n",
       "      <td>2.1</td>\n",
       "      <td>9.1</td>\n",
       "    </tr>\n",
       "    <tr>\n",
       "      <th>1</th>\n",
       "      <td>2</td>\n",
       "      <td>Steven Adams</td>\n",
       "      <td>C</td>\n",
       "      <td>28</td>\n",
       "      <td>MEM</td>\n",
       "      <td>76</td>\n",
       "      <td>75</td>\n",
       "      <td>26.3</td>\n",
       "      <td>2.8</td>\n",
       "      <td>5.1</td>\n",
       "      <td>...</td>\n",
       "      <td>0.543</td>\n",
       "      <td>4.6</td>\n",
       "      <td>5.4</td>\n",
       "      <td>10.0</td>\n",
       "      <td>3.4</td>\n",
       "      <td>0.9</td>\n",
       "      <td>0.8</td>\n",
       "      <td>1.5</td>\n",
       "      <td>2.0</td>\n",
       "      <td>6.9</td>\n",
       "    </tr>\n",
       "    <tr>\n",
       "      <th>2</th>\n",
       "      <td>3</td>\n",
       "      <td>Bam Adebayo</td>\n",
       "      <td>C</td>\n",
       "      <td>24</td>\n",
       "      <td>MIA</td>\n",
       "      <td>56</td>\n",
       "      <td>56</td>\n",
       "      <td>32.6</td>\n",
       "      <td>7.3</td>\n",
       "      <td>13.0</td>\n",
       "      <td>...</td>\n",
       "      <td>0.753</td>\n",
       "      <td>2.4</td>\n",
       "      <td>7.6</td>\n",
       "      <td>10.1</td>\n",
       "      <td>3.4</td>\n",
       "      <td>1.4</td>\n",
       "      <td>0.8</td>\n",
       "      <td>2.6</td>\n",
       "      <td>3.1</td>\n",
       "      <td>19.1</td>\n",
       "    </tr>\n",
       "    <tr>\n",
       "      <th>3</th>\n",
       "      <td>4</td>\n",
       "      <td>Santi Aldama</td>\n",
       "      <td>PF</td>\n",
       "      <td>21</td>\n",
       "      <td>MEM</td>\n",
       "      <td>32</td>\n",
       "      <td>0</td>\n",
       "      <td>11.3</td>\n",
       "      <td>1.7</td>\n",
       "      <td>4.1</td>\n",
       "      <td>...</td>\n",
       "      <td>0.625</td>\n",
       "      <td>1.0</td>\n",
       "      <td>1.7</td>\n",
       "      <td>2.7</td>\n",
       "      <td>0.7</td>\n",
       "      <td>0.2</td>\n",
       "      <td>0.3</td>\n",
       "      <td>0.5</td>\n",
       "      <td>1.1</td>\n",
       "      <td>4.1</td>\n",
       "    </tr>\n",
       "    <tr>\n",
       "      <th>4</th>\n",
       "      <td>5</td>\n",
       "      <td>LaMarcus Aldridge</td>\n",
       "      <td>C</td>\n",
       "      <td>36</td>\n",
       "      <td>BRK</td>\n",
       "      <td>47</td>\n",
       "      <td>12</td>\n",
       "      <td>22.3</td>\n",
       "      <td>5.4</td>\n",
       "      <td>9.7</td>\n",
       "      <td>...</td>\n",
       "      <td>0.873</td>\n",
       "      <td>1.6</td>\n",
       "      <td>3.9</td>\n",
       "      <td>5.5</td>\n",
       "      <td>0.9</td>\n",
       "      <td>0.3</td>\n",
       "      <td>1.0</td>\n",
       "      <td>0.9</td>\n",
       "      <td>1.7</td>\n",
       "      <td>12.9</td>\n",
       "    </tr>\n",
       "  </tbody>\n",
       "</table>\n",
       "<p>5 rows × 30 columns</p>\n",
       "</div>"
      ],
      "text/plain": [
       "   Rk             Player Pos  Age   Tm   G  GS    MP   FG   FGA  ...    FT%  \\\n",
       "0   1   Precious Achiuwa   C   22  TOR  73  28  23.6  3.6   8.3  ...  0.595   \n",
       "1   2       Steven Adams   C   28  MEM  76  75  26.3  2.8   5.1  ...  0.543   \n",
       "2   3        Bam Adebayo   C   24  MIA  56  56  32.6  7.3  13.0  ...  0.753   \n",
       "3   4       Santi Aldama  PF   21  MEM  32   0  11.3  1.7   4.1  ...  0.625   \n",
       "4   5  LaMarcus Aldridge   C   36  BRK  47  12  22.3  5.4   9.7  ...  0.873   \n",
       "\n",
       "   ORB  DRB   TRB  AST  STL  BLK  TOV   PF   PTS  \n",
       "0  2.0  4.5   6.5  1.1  0.5  0.6  1.2  2.1   9.1  \n",
       "1  4.6  5.4  10.0  3.4  0.9  0.8  1.5  2.0   6.9  \n",
       "2  2.4  7.6  10.1  3.4  1.4  0.8  2.6  3.1  19.1  \n",
       "3  1.0  1.7   2.7  0.7  0.2  0.3  0.5  1.1   4.1  \n",
       "4  1.6  3.9   5.5  0.9  0.3  1.0  0.9  1.7  12.9  \n",
       "\n",
       "[5 rows x 30 columns]"
      ]
     },
     "execution_count": 227,
     "metadata": {},
     "output_type": "execute_result"
    }
   ],
   "source": [
    "df.head()"
   ]
  },
  {
   "cell_type": "markdown",
   "id": "2e4346a4",
   "metadata": {},
   "source": [
    "**Question 104. Tm 컬럼은 각 팀의 이름을 의미한다. TOR팀의 평균 나이를 소수 4째 자리까지 구하여라**"
   ]
  },
  {
   "cell_type": "code",
   "execution_count": 228,
   "id": "476f043b",
   "metadata": {},
   "outputs": [
    {
     "data": {
      "text/plain": [
       "24.8696"
      ]
     },
     "execution_count": 228,
     "metadata": {},
     "output_type": "execute_result"
    }
   ],
   "source": [
    "round(df[df['Tm']=='TOR']['Age'].mean(), 4)"
   ]
  },
  {
   "cell_type": "markdown",
   "id": "bbd17213",
   "metadata": {},
   "source": [
    "**Question 105. Pos 컬럼은 포지션을 의미한다. 전체 선수 중 최소 나이대의 선수들을 필터하고 그들 중 가장 많은 포지션은 무엇인지 확인하라**"
   ]
  },
  {
   "cell_type": "code",
   "execution_count": 229,
   "id": "4c8e2134",
   "metadata": {},
   "outputs": [
    {
     "data": {
      "text/plain": [
       "'SG'"
      ]
     },
     "execution_count": 229,
     "metadata": {},
     "output_type": "execute_result"
    }
   ],
   "source": [
    "df[df.Age==df.Age.min()].Pos.value_counts().index[0]"
   ]
  },
  {
   "cell_type": "code",
   "execution_count": 230,
   "id": "a59c331a",
   "metadata": {
    "scrolled": true
   },
   "outputs": [
    {
     "data": {
      "text/plain": [
       "'SG'"
      ]
     },
     "execution_count": 230,
     "metadata": {},
     "output_type": "execute_result"
    }
   ],
   "source": [
    "df[df['Age']==19].groupby('Pos').size().sort_values().index[-1]"
   ]
  },
  {
   "cell_type": "markdown",
   "id": "d1fbe3e3",
   "metadata": {},
   "source": [
    "**Question 106. 선수들의 이름은 first_name+ 공백 + last_name으로 이루어져 있다. 가장 많은 first_name은 무엇이며 몇 회 발생하는지 확인하라**"
   ]
  },
  {
   "cell_type": "code",
   "execution_count": 231,
   "id": "a4078c40",
   "metadata": {},
   "outputs": [
    {
     "data": {
      "text/plain": [
       "justin    14\n",
       "Name: Player, dtype: int64"
      ]
     },
     "execution_count": 231,
     "metadata": {},
     "output_type": "execute_result"
    }
   ],
   "source": [
    "df['Player'].str.split(' ').str[0].str.lower().value_counts().head(1)"
   ]
  },
  {
   "cell_type": "markdown",
   "id": "e1a861dc",
   "metadata": {},
   "source": [
    "**Question 107. PTS컬럼은 경기당 평균득점수이다. 각 포지션별로 경기당 평균득점수의 평균을 구하여라**"
   ]
  },
  {
   "cell_type": "code",
   "execution_count": 232,
   "id": "f174368b",
   "metadata": {},
   "outputs": [
    {
     "data": {
      "text/plain": [
       "Pos\n",
       "SF        7.270253\n",
       "SG-SF     7.360000\n",
       "C         7.690769\n",
       "PF        7.737500\n",
       "SG        7.810553\n",
       "PG        8.325161\n",
       "PF-SF     8.500000\n",
       "SF-SG     8.660000\n",
       "SG-PG     9.525000\n",
       "C-PF     12.850000\n",
       "PG-SG    22.000000\n",
       "Name: PTS, dtype: float64"
      ]
     },
     "execution_count": 232,
     "metadata": {},
     "output_type": "execute_result"
    }
   ],
   "source": [
    "df.groupby('Pos')['PTS'].mean().sort_values()"
   ]
  },
  {
   "cell_type": "markdown",
   "id": "0b3e0d99",
   "metadata": {},
   "source": [
    "**Question 108. G컬럼은 참여한 경기의 숫자이다. 각 팀별로 가장 높은 경기참여 수를 가진 선수들의 경기 참여 숫자의 평균을 구하여라**"
   ]
  },
  {
   "cell_type": "code",
   "execution_count": 233,
   "id": "7ad2162a",
   "metadata": {},
   "outputs": [
    {
     "data": {
      "text/plain": [
       "77.51612903225806"
      ]
     },
     "execution_count": 233,
     "metadata": {},
     "output_type": "execute_result"
    }
   ],
   "source": [
    "df.sort_values(['Tm', 'G']).groupby('Tm').tail(1).G.mean()"
   ]
  },
  {
   "cell_type": "code",
   "execution_count": 234,
   "id": "aad217ce",
   "metadata": {},
   "outputs": [
    {
     "data": {
      "text/html": [
       "<div>\n",
       "<style scoped>\n",
       "    .dataframe tbody tr th:only-of-type {\n",
       "        vertical-align: middle;\n",
       "    }\n",
       "\n",
       "    .dataframe tbody tr th {\n",
       "        vertical-align: top;\n",
       "    }\n",
       "\n",
       "    .dataframe thead th {\n",
       "        text-align: right;\n",
       "    }\n",
       "</style>\n",
       "<table border=\"1\" class=\"dataframe\">\n",
       "  <thead>\n",
       "    <tr style=\"text-align: right;\">\n",
       "      <th></th>\n",
       "      <th>Rk</th>\n",
       "      <th>Player</th>\n",
       "      <th>Pos</th>\n",
       "      <th>Age</th>\n",
       "      <th>Tm</th>\n",
       "      <th>G</th>\n",
       "      <th>GS</th>\n",
       "      <th>MP</th>\n",
       "      <th>FG</th>\n",
       "      <th>FGA</th>\n",
       "      <th>...</th>\n",
       "      <th>FT%</th>\n",
       "      <th>ORB</th>\n",
       "      <th>DRB</th>\n",
       "      <th>TRB</th>\n",
       "      <th>AST</th>\n",
       "      <th>STL</th>\n",
       "      <th>BLK</th>\n",
       "      <th>TOV</th>\n",
       "      <th>PF</th>\n",
       "      <th>PTS</th>\n",
       "    </tr>\n",
       "  </thead>\n",
       "  <tbody>\n",
       "    <tr>\n",
       "      <th>242</th>\n",
       "      <td>182</td>\n",
       "      <td>Danilo Gallinari</td>\n",
       "      <td>PF</td>\n",
       "      <td>33</td>\n",
       "      <td>ATL</td>\n",
       "      <td>66</td>\n",
       "      <td>18</td>\n",
       "      <td>25.3</td>\n",
       "      <td>3.9</td>\n",
       "      <td>9.0</td>\n",
       "      <td>...</td>\n",
       "      <td>0.904</td>\n",
       "      <td>0.5</td>\n",
       "      <td>4.1</td>\n",
       "      <td>4.7</td>\n",
       "      <td>1.5</td>\n",
       "      <td>0.4</td>\n",
       "      <td>0.2</td>\n",
       "      <td>0.6</td>\n",
       "      <td>1.4</td>\n",
       "      <td>11.7</td>\n",
       "    </tr>\n",
       "    <tr>\n",
       "      <th>112</th>\n",
       "      <td>93</td>\n",
       "      <td>Clint Capela</td>\n",
       "      <td>C</td>\n",
       "      <td>27</td>\n",
       "      <td>ATL</td>\n",
       "      <td>74</td>\n",
       "      <td>73</td>\n",
       "      <td>27.6</td>\n",
       "      <td>5.0</td>\n",
       "      <td>8.2</td>\n",
       "      <td>...</td>\n",
       "      <td>0.473</td>\n",
       "      <td>3.8</td>\n",
       "      <td>8.1</td>\n",
       "      <td>11.9</td>\n",
       "      <td>1.2</td>\n",
       "      <td>0.7</td>\n",
       "      <td>1.3</td>\n",
       "      <td>0.6</td>\n",
       "      <td>2.2</td>\n",
       "      <td>11.1</td>\n",
       "    </tr>\n",
       "    <tr>\n",
       "      <th>341</th>\n",
       "      <td>255</td>\n",
       "      <td>Kevin Huerter</td>\n",
       "      <td>SG</td>\n",
       "      <td>23</td>\n",
       "      <td>ATL</td>\n",
       "      <td>74</td>\n",
       "      <td>60</td>\n",
       "      <td>29.6</td>\n",
       "      <td>4.7</td>\n",
       "      <td>10.3</td>\n",
       "      <td>...</td>\n",
       "      <td>0.808</td>\n",
       "      <td>0.4</td>\n",
       "      <td>3.0</td>\n",
       "      <td>3.4</td>\n",
       "      <td>2.7</td>\n",
       "      <td>0.7</td>\n",
       "      <td>0.4</td>\n",
       "      <td>1.2</td>\n",
       "      <td>2.5</td>\n",
       "      <td>12.1</td>\n",
       "    </tr>\n",
       "    <tr>\n",
       "      <th>808</th>\n",
       "      <td>602</td>\n",
       "      <td>Trae Young</td>\n",
       "      <td>PG</td>\n",
       "      <td>23</td>\n",
       "      <td>ATL</td>\n",
       "      <td>76</td>\n",
       "      <td>76</td>\n",
       "      <td>34.9</td>\n",
       "      <td>9.4</td>\n",
       "      <td>20.3</td>\n",
       "      <td>...</td>\n",
       "      <td>0.904</td>\n",
       "      <td>0.7</td>\n",
       "      <td>3.1</td>\n",
       "      <td>3.7</td>\n",
       "      <td>9.7</td>\n",
       "      <td>0.9</td>\n",
       "      <td>0.1</td>\n",
       "      <td>4.0</td>\n",
       "      <td>1.7</td>\n",
       "      <td>28.4</td>\n",
       "    </tr>\n",
       "    <tr>\n",
       "      <th>799</th>\n",
       "      <td>597</td>\n",
       "      <td>Delon Wright</td>\n",
       "      <td>SG</td>\n",
       "      <td>29</td>\n",
       "      <td>ATL</td>\n",
       "      <td>77</td>\n",
       "      <td>8</td>\n",
       "      <td>18.9</td>\n",
       "      <td>1.6</td>\n",
       "      <td>3.5</td>\n",
       "      <td>...</td>\n",
       "      <td>0.857</td>\n",
       "      <td>0.6</td>\n",
       "      <td>2.2</td>\n",
       "      <td>2.9</td>\n",
       "      <td>2.4</td>\n",
       "      <td>1.2</td>\n",
       "      <td>0.2</td>\n",
       "      <td>0.6</td>\n",
       "      <td>0.7</td>\n",
       "      <td>4.4</td>\n",
       "    </tr>\n",
       "    <tr>\n",
       "      <th>...</th>\n",
       "      <td>...</td>\n",
       "      <td>...</td>\n",
       "      <td>...</td>\n",
       "      <td>...</td>\n",
       "      <td>...</td>\n",
       "      <td>...</td>\n",
       "      <td>...</td>\n",
       "      <td>...</td>\n",
       "      <td>...</td>\n",
       "      <td>...</td>\n",
       "      <td>...</td>\n",
       "      <td>...</td>\n",
       "      <td>...</td>\n",
       "      <td>...</td>\n",
       "      <td>...</td>\n",
       "      <td>...</td>\n",
       "      <td>...</td>\n",
       "      <td>...</td>\n",
       "      <td>...</td>\n",
       "      <td>...</td>\n",
       "      <td>...</td>\n",
       "    </tr>\n",
       "    <tr>\n",
       "      <th>549</th>\n",
       "      <td>407</td>\n",
       "      <td>Raul Neto</td>\n",
       "      <td>PG</td>\n",
       "      <td>29</td>\n",
       "      <td>WAS</td>\n",
       "      <td>70</td>\n",
       "      <td>19</td>\n",
       "      <td>19.6</td>\n",
       "      <td>2.9</td>\n",
       "      <td>6.3</td>\n",
       "      <td>...</td>\n",
       "      <td>0.769</td>\n",
       "      <td>0.2</td>\n",
       "      <td>1.7</td>\n",
       "      <td>1.9</td>\n",
       "      <td>3.1</td>\n",
       "      <td>0.8</td>\n",
       "      <td>0.0</td>\n",
       "      <td>1.1</td>\n",
       "      <td>1.5</td>\n",
       "      <td>7.5</td>\n",
       "    </tr>\n",
       "    <tr>\n",
       "      <th>241</th>\n",
       "      <td>181</td>\n",
       "      <td>Daniel Gafford</td>\n",
       "      <td>C</td>\n",
       "      <td>23</td>\n",
       "      <td>WAS</td>\n",
       "      <td>72</td>\n",
       "      <td>53</td>\n",
       "      <td>20.1</td>\n",
       "      <td>4.0</td>\n",
       "      <td>5.7</td>\n",
       "      <td>...</td>\n",
       "      <td>0.699</td>\n",
       "      <td>2.2</td>\n",
       "      <td>3.5</td>\n",
       "      <td>5.7</td>\n",
       "      <td>0.9</td>\n",
       "      <td>0.4</td>\n",
       "      <td>1.4</td>\n",
       "      <td>0.9</td>\n",
       "      <td>2.4</td>\n",
       "      <td>9.4</td>\n",
       "    </tr>\n",
       "    <tr>\n",
       "      <th>108</th>\n",
       "      <td>89</td>\n",
       "      <td>Kentavious Caldwell-Pope</td>\n",
       "      <td>SG</td>\n",
       "      <td>28</td>\n",
       "      <td>WAS</td>\n",
       "      <td>77</td>\n",
       "      <td>77</td>\n",
       "      <td>30.2</td>\n",
       "      <td>4.7</td>\n",
       "      <td>10.8</td>\n",
       "      <td>...</td>\n",
       "      <td>0.890</td>\n",
       "      <td>0.5</td>\n",
       "      <td>2.9</td>\n",
       "      <td>3.4</td>\n",
       "      <td>1.9</td>\n",
       "      <td>1.1</td>\n",
       "      <td>0.3</td>\n",
       "      <td>1.3</td>\n",
       "      <td>1.8</td>\n",
       "      <td>13.2</td>\n",
       "    </tr>\n",
       "    <tr>\n",
       "      <th>417</th>\n",
       "      <td>308</td>\n",
       "      <td>Corey Kispert</td>\n",
       "      <td>SF</td>\n",
       "      <td>22</td>\n",
       "      <td>WAS</td>\n",
       "      <td>77</td>\n",
       "      <td>36</td>\n",
       "      <td>23.4</td>\n",
       "      <td>3.0</td>\n",
       "      <td>6.7</td>\n",
       "      <td>...</td>\n",
       "      <td>0.871</td>\n",
       "      <td>0.7</td>\n",
       "      <td>2.0</td>\n",
       "      <td>2.7</td>\n",
       "      <td>1.1</td>\n",
       "      <td>0.5</td>\n",
       "      <td>0.3</td>\n",
       "      <td>0.6</td>\n",
       "      <td>1.2</td>\n",
       "      <td>8.2</td>\n",
       "    </tr>\n",
       "    <tr>\n",
       "      <th>25</th>\n",
       "      <td>20</td>\n",
       "      <td>Deni Avdija</td>\n",
       "      <td>SF</td>\n",
       "      <td>21</td>\n",
       "      <td>WAS</td>\n",
       "      <td>82</td>\n",
       "      <td>8</td>\n",
       "      <td>24.2</td>\n",
       "      <td>3.0</td>\n",
       "      <td>7.1</td>\n",
       "      <td>...</td>\n",
       "      <td>0.757</td>\n",
       "      <td>0.6</td>\n",
       "      <td>4.5</td>\n",
       "      <td>5.2</td>\n",
       "      <td>2.0</td>\n",
       "      <td>0.7</td>\n",
       "      <td>0.5</td>\n",
       "      <td>1.1</td>\n",
       "      <td>2.3</td>\n",
       "      <td>8.4</td>\n",
       "    </tr>\n",
       "  </tbody>\n",
       "</table>\n",
       "<p>155 rows × 30 columns</p>\n",
       "</div>"
      ],
      "text/plain": [
       "      Rk                    Player Pos  Age   Tm   G  GS    MP   FG   FGA  \\\n",
       "242  182          Danilo Gallinari  PF   33  ATL  66  18  25.3  3.9   9.0   \n",
       "112   93              Clint Capela   C   27  ATL  74  73  27.6  5.0   8.2   \n",
       "341  255             Kevin Huerter  SG   23  ATL  74  60  29.6  4.7  10.3   \n",
       "808  602                Trae Young  PG   23  ATL  76  76  34.9  9.4  20.3   \n",
       "799  597              Delon Wright  SG   29  ATL  77   8  18.9  1.6   3.5   \n",
       "..   ...                       ...  ..  ...  ...  ..  ..   ...  ...   ...   \n",
       "549  407                 Raul Neto  PG   29  WAS  70  19  19.6  2.9   6.3   \n",
       "241  181            Daniel Gafford   C   23  WAS  72  53  20.1  4.0   5.7   \n",
       "108   89  Kentavious Caldwell-Pope  SG   28  WAS  77  77  30.2  4.7  10.8   \n",
       "417  308             Corey Kispert  SF   22  WAS  77  36  23.4  3.0   6.7   \n",
       "25    20               Deni Avdija  SF   21  WAS  82   8  24.2  3.0   7.1   \n",
       "\n",
       "     ...    FT%  ORB  DRB   TRB  AST  STL  BLK  TOV   PF   PTS  \n",
       "242  ...  0.904  0.5  4.1   4.7  1.5  0.4  0.2  0.6  1.4  11.7  \n",
       "112  ...  0.473  3.8  8.1  11.9  1.2  0.7  1.3  0.6  2.2  11.1  \n",
       "341  ...  0.808  0.4  3.0   3.4  2.7  0.7  0.4  1.2  2.5  12.1  \n",
       "808  ...  0.904  0.7  3.1   3.7  9.7  0.9  0.1  4.0  1.7  28.4  \n",
       "799  ...  0.857  0.6  2.2   2.9  2.4  1.2  0.2  0.6  0.7   4.4  \n",
       "..   ...    ...  ...  ...   ...  ...  ...  ...  ...  ...   ...  \n",
       "549  ...  0.769  0.2  1.7   1.9  3.1  0.8  0.0  1.1  1.5   7.5  \n",
       "241  ...  0.699  2.2  3.5   5.7  0.9  0.4  1.4  0.9  2.4   9.4  \n",
       "108  ...  0.890  0.5  2.9   3.4  1.9  1.1  0.3  1.3  1.8  13.2  \n",
       "417  ...  0.871  0.7  2.0   2.7  1.1  0.5  0.3  0.6  1.2   8.2  \n",
       "25   ...  0.757  0.6  4.5   5.2  2.0  0.7  0.5  1.1  2.3   8.4  \n",
       "\n",
       "[155 rows x 30 columns]"
      ]
     },
     "execution_count": 234,
     "metadata": {},
     "output_type": "execute_result"
    }
   ],
   "source": [
    "df.sort_values(['Tm', 'G']).groupby('Tm').tail()"
   ]
  },
  {
   "cell_type": "markdown",
   "id": "f74b8f54",
   "metadata": {},
   "source": [
    "**Question 110. Tm의 값이 MIA이며 Pos는 C또는 PF인 선수의 MP값의 평균은?**"
   ]
  },
  {
   "cell_type": "code",
   "execution_count": 235,
   "id": "49494b51",
   "metadata": {},
   "outputs": [
    {
     "data": {
      "text/plain": [
       "16.7875"
      ]
     },
     "execution_count": 235,
     "metadata": {},
     "output_type": "execute_result"
    }
   ],
   "source": [
    "df[(df.Tm=='MIA') & (df.Pos.isin(['C','PF']))].MP.mean()"
   ]
  },
  {
   "cell_type": "code",
   "execution_count": 236,
   "id": "31d63900",
   "metadata": {},
   "outputs": [
    {
     "data": {
      "text/plain": [
       "16.7875"
      ]
     },
     "execution_count": 236,
     "metadata": {},
     "output_type": "execute_result"
    }
   ],
   "source": [
    "df[(df['Tm']=='MIA') & ((df['Pos']=='C') | (df['Pos']=='PF'))]['MP'].mean()"
   ]
  },
  {
   "cell_type": "markdown",
   "id": "52c6846c",
   "metadata": {},
   "source": [
    "**Question 111. 전체 데이터중 G의 평균값의 1.5배 이상인 데이터들만 추출했을 때 3P값의 평균은?**"
   ]
  },
  {
   "cell_type": "code",
   "execution_count": 237,
   "id": "c8c2d3ba",
   "metadata": {},
   "outputs": [
    {
     "data": {
      "text/plain": [
       "1.3853658536585365"
      ]
     },
     "execution_count": 237,
     "metadata": {},
     "output_type": "execute_result"
    }
   ],
   "source": [
    "df[df['G']>=(df['G'].mean()*1.5)]['3P'].mean()"
   ]
  },
  {
   "cell_type": "markdown",
   "id": "081fe688",
   "metadata": {},
   "source": [
    "**Question 112. Age의 평균 이상인 그룹과 평균 미만인 그룹간의 G값의 평균의 차이는?**"
   ]
  },
  {
   "cell_type": "code",
   "execution_count": 238,
   "id": "ed40e9c2",
   "metadata": {},
   "outputs": [
    {
     "data": {
      "text/plain": [
       "3.787674551781862"
      ]
     },
     "execution_count": 238,
     "metadata": {},
     "output_type": "execute_result"
    }
   ],
   "source": [
    "df[df.Age >= df.Age.mean()].G.mean() - df[df.Age < df.Age.mean()].G.mean()"
   ]
  },
  {
   "cell_type": "code",
   "execution_count": 239,
   "id": "a5ce28c9",
   "metadata": {},
   "outputs": [
    {
     "data": {
      "text/plain": [
       "3.787674551781862"
      ]
     },
     "execution_count": 239,
     "metadata": {},
     "output_type": "execute_result"
    }
   ],
   "source": [
    "over = df[df['Age']>=df['Age'].mean()]\n",
    "under = df[df['Age']<df['Age'].mean()]\n",
    "\n",
    "over.G.mean() - under.G.mean()"
   ]
  },
  {
   "cell_type": "markdown",
   "id": "a00e015d",
   "metadata": {},
   "source": [
    "**Question 113. 평균 나이가 가장 젊은 팀은 어디인가**"
   ]
  },
  {
   "cell_type": "code",
   "execution_count": 240,
   "id": "f70df782",
   "metadata": {},
   "outputs": [
    {
     "data": {
      "text/plain": [
       "'MEM'"
      ]
     },
     "execution_count": 240,
     "metadata": {},
     "output_type": "execute_result"
    }
   ],
   "source": [
    "df.groupby('Tm')['Age'].mean().sort_values().index[0]"
   ]
  },
  {
   "cell_type": "markdown",
   "id": "aeb78607",
   "metadata": {},
   "source": [
    "**Question 114. Pos그룹별 평균 MP값을 구하여라**"
   ]
  },
  {
   "cell_type": "code",
   "execution_count": 241,
   "id": "0e666c84",
   "metadata": {},
   "outputs": [
    {
     "data": {
      "text/plain": [
       "Pos\n",
       "C        16.990000\n",
       "C-PF     25.350000\n",
       "PF       17.937500\n",
       "PF-SF    27.300000\n",
       "PG       19.547742\n",
       "PG-SG    37.200000\n",
       "SF       17.514557\n",
       "SF-SG    20.340000\n",
       "SG       18.554271\n",
       "SG-PG    22.950000\n",
       "SG-SF    19.620000\n",
       "Name: MP, dtype: float64"
      ]
     },
     "execution_count": 241,
     "metadata": {},
     "output_type": "execute_result"
    }
   ],
   "source": [
    "df.groupby('Pos')['MP'].mean()"
   ]
  }
 ],
 "metadata": {
  "kernelspec": {
   "display_name": "Python 3 (ipykernel)",
   "language": "python",
   "name": "python3"
  },
  "language_info": {
   "codemirror_mode": {
    "name": "ipython",
    "version": 3
   },
   "file_extension": ".py",
   "mimetype": "text/x-python",
   "name": "python",
   "nbconvert_exporter": "python",
   "pygments_lexer": "ipython3",
   "version": "3.10.9"
  }
 },
 "nbformat": 4,
 "nbformat_minor": 5
}
