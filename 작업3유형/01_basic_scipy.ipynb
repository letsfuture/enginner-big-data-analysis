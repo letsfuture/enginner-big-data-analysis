{
 "cells": [
  {
   "cell_type": "code",
   "execution_count": 26,
   "id": "c4a6f2d0-bbf8-414f-9273-7179ecf78576",
   "metadata": {},
   "outputs": [],
   "source": [
    "import pandas as pd\n",
    "import numpy as np\n",
    "import matplotlib.pyplot as plt\n",
    "\n",
    "from scipy.stats import ttest_1samp             # \n",
    "from scipy.stats import shapiro                 # 정규성 검정\n",
    "from scipy.stats import anderson                # 정규성 검정\n",
    "from scipy.stats import wilcoxon                # 윌콕슨 순위 부호 검정(비모수 검정)\n",
    "from scipy.stats import bartlett                # 등분산 검정\n",
    "from scipy.stats import fligner                 # 등분산 검정\n",
    "from scipy.stats import levene                  # 등분산 검정\n",
    "from scipy.stats import ttest_ind               # 독립 표본 검정\n",
    "from scipy.stats import ttest_rel               # 대응 표본 검정\n",
    "from scipy.stats import mannwhitneyu, ranksums\n",
    "from scipy.stats import chisquare               # 일원 카이제곱검정(카이제곱 적합도 검정)\n",
    "from scipy.stats import chi2_contingency        # 카이제곱검정 \n",
    "from scipy.stats import fisher_exact            # 피셔의 정확 검정"
   ]
  },
  {
   "cell_type": "code",
   "execution_count": 27,
   "id": "dac793ef-f099-4940-9389-9a36c998e138",
   "metadata": {},
   "outputs": [],
   "source": [
    "# dir(stats)"
   ]
  },
  {
   "cell_type": "code",
   "execution_count": 28,
   "id": "a46d61e2-0f33-47fe-96fa-5b98ce1c8751",
   "metadata": {},
   "outputs": [],
   "source": [
    "# help(stats)"
   ]
  },
  {
   "cell_type": "markdown",
   "id": "3b066c2e-bea5-4a75-b3e4-27b8dbdbd97f",
   "metadata": {},
   "source": [
    "# 1. 정규성 검정"
   ]
  },
  {
   "cell_type": "markdown",
   "id": "c2067266-f6f6-40c9-8058-463f962f0c40",
   "metadata": {},
   "source": [
    "**Question 01. 다음 데이터의 정규성을 검증하라.**"
   ]
  },
  {
   "cell_type": "code",
   "execution_count": 29,
   "id": "78f68361-ba8f-40b9-8cb0-d6031d5f8894",
   "metadata": {},
   "outputs": [
    {
     "data": {
      "text/html": [
       "<div>\n",
       "<style scoped>\n",
       "    .dataframe tbody tr th:only-of-type {\n",
       "        vertical-align: middle;\n",
       "    }\n",
       "\n",
       "    .dataframe tbody tr th {\n",
       "        vertical-align: top;\n",
       "    }\n",
       "\n",
       "    .dataframe thead th {\n",
       "        text-align: right;\n",
       "    }\n",
       "</style>\n",
       "<table border=\"1\" class=\"dataframe\">\n",
       "  <thead>\n",
       "    <tr style=\"text-align: right;\">\n",
       "      <th></th>\n",
       "      <th>data</th>\n",
       "    </tr>\n",
       "  </thead>\n",
       "  <tbody>\n",
       "    <tr>\n",
       "      <th>0</th>\n",
       "      <td>295.979767</td>\n",
       "    </tr>\n",
       "    <tr>\n",
       "      <th>1</th>\n",
       "      <td>289.703739</td>\n",
       "    </tr>\n",
       "    <tr>\n",
       "      <th>2</th>\n",
       "      <td>300.609670</td>\n",
       "    </tr>\n",
       "    <tr>\n",
       "      <th>3</th>\n",
       "      <td>299.890856</td>\n",
       "    </tr>\n",
       "    <tr>\n",
       "      <th>4</th>\n",
       "      <td>293.159612</td>\n",
       "    </tr>\n",
       "  </tbody>\n",
       "</table>\n",
       "</div>"
      ],
      "text/plain": [
       "         data\n",
       "0  295.979767\n",
       "1  289.703739\n",
       "2  300.609670\n",
       "3  299.890856\n",
       "4  293.159612"
      ]
     },
     "execution_count": 29,
     "metadata": {},
     "output_type": "execute_result"
    }
   ],
   "source": [
    "df = pd.read_csv('https://raw.githubusercontent.com/Datamanim/datarepo/main/scipy/normal1.csv')\n",
    "df.head()"
   ]
  },
  {
   "cell_type": "code",
   "execution_count": 30,
   "id": "1845949b-5428-4e29-a935-4f96657cf465",
   "metadata": {},
   "outputs": [
    {
     "data": {
      "image/png": "[encoded data removed]",
      "text/plain": [
       "<Figure size 640x480 with 1 Axes>"
      ]
     },
     "metadata": {},
     "output_type": "display_data"
    }
   ],
   "source": [
    "plt.hist(df)\n",
    "plt.show()"
   ]
  },
  {
   "cell_type": "code",
   "execution_count": 31,
   "id": "d21932b1-d307-4eb0-9297-72325d8167ea",
   "metadata": {},
   "outputs": [
    {
     "name": "stdout",
     "output_type": "stream",
     "text": [
      "ShapiroResult(statistic=0.9981444478034973, pvalue=0.34849318861961365)\n"
     ]
    }
   ],
   "source": [
    "print(shapiro(df))"
   ]
  },
  {
   "cell_type": "markdown",
   "id": "b41d9186-489c-460c-bdb6-369f070bb824",
   "metadata": {},
   "source": [
    "shapiro 검정 시 p-value가 0.34이므로 유의수준 0.05에서 귀무가설(정규성을 가진다)을 기각할 수 없다.\n",
    " "
   ]
  },
  {
   "cell_type": "markdown",
   "id": "4e56f18b-4cb7-4d9a-9d43-149a48db3bec",
   "metadata": {},
   "source": [
    "**Question 02. 다음 데이터의 정규성을 검증하라.**"
   ]
  },
  {
   "cell_type": "code",
   "execution_count": 32,
   "id": "16ea2a4c-5091-4766-8215-6b419c0ed404",
   "metadata": {},
   "outputs": [
    {
     "data": {
      "text/html": [
       "<div>\n",
       "<style scoped>\n",
       "    .dataframe tbody tr th:only-of-type {\n",
       "        vertical-align: middle;\n",
       "    }\n",
       "\n",
       "    .dataframe tbody tr th {\n",
       "        vertical-align: top;\n",
       "    }\n",
       "\n",
       "    .dataframe thead th {\n",
       "        text-align: right;\n",
       "    }\n",
       "</style>\n",
       "<table border=\"1\" class=\"dataframe\">\n",
       "  <thead>\n",
       "    <tr style=\"text-align: right;\">\n",
       "      <th></th>\n",
       "      <th>data</th>\n",
       "    </tr>\n",
       "  </thead>\n",
       "  <tbody>\n",
       "    <tr>\n",
       "      <th>0</th>\n",
       "      <td>0.880145</td>\n",
       "    </tr>\n",
       "    <tr>\n",
       "      <th>1</th>\n",
       "      <td>-0.021619</td>\n",
       "    </tr>\n",
       "    <tr>\n",
       "      <th>2</th>\n",
       "      <td>0.509888</td>\n",
       "    </tr>\n",
       "    <tr>\n",
       "      <th>3</th>\n",
       "      <td>0.179442</td>\n",
       "    </tr>\n",
       "    <tr>\n",
       "      <th>4</th>\n",
       "      <td>0.493778</td>\n",
       "    </tr>\n",
       "  </tbody>\n",
       "</table>\n",
       "</div>"
      ],
      "text/plain": [
       "       data\n",
       "0  0.880145\n",
       "1 -0.021619\n",
       "2  0.509888\n",
       "3  0.179442\n",
       "4  0.493778"
      ]
     },
     "execution_count": 32,
     "metadata": {},
     "output_type": "execute_result"
    }
   ],
   "source": [
    "df = pd.read_csv('https://raw.githubusercontent.com/Datamanim/datarepo/main/scipy/normal3.csv')\n",
    "df.head()"
   ]
  },
  {
   "cell_type": "code",
   "execution_count": 33,
   "id": "ccf669a7-136c-4d28-bf73-a826673ffa27",
   "metadata": {},
   "outputs": [
    {
     "data": {
      "image/png": "[encoded data removed]",
      "text/plain": [
       "<Figure size 640x480 with 1 Axes>"
      ]
     },
     "metadata": {},
     "output_type": "display_data"
    }
   ],
   "source": [
    "plt.hist(df)\n",
    "plt.show()"
   ]
  },
  {
   "cell_type": "code",
   "execution_count": 34,
   "id": "f057dbec-e8d4-4979-8bd3-05cf9894ef0b",
   "metadata": {},
   "outputs": [
    {
     "name": "stdout",
     "output_type": "stream",
     "text": [
      "ShapiroResult(statistic=0.9578885436058044, pvalue=2.309641794969743e-16)\n"
     ]
    }
   ],
   "source": [
    "print(shapiro(df))"
   ]
  },
  {
   "cell_type": "markdown",
   "id": "b7d8ab29-b687-4b66-945c-d343defc8238",
   "metadata": {},
   "source": [
    "shapiro 검정 시 p-value가 2.3e-16으로 0.05를 넘지 않으므로 유의수준 0.05에서 귀무가설(정규성을 가진다)을 기각하고, 대립가설을 채택한다.<br>\n",
    "따라서 해당 데이터는 정규성을 가지지 않는다."
   ]
  },
  {
   "cell_type": "markdown",
   "id": "6aa34036-31a9-43c0-bead-fc74790cbd13",
   "metadata": {},
   "source": [
    "**Question 03. 위의 데이터를 log 변환한 후 정규성을 가지는지 확인하라.**"
   ]
  },
  {
   "cell_type": "code",
   "execution_count": 35,
   "id": "960223d4-95a2-46d9-83d3-5a449f823527",
   "metadata": {},
   "outputs": [
    {
     "data": {
      "image/png": "[encoded data removed]",
      "text/plain": [
       "<Figure size 640x480 with 1 Axes>"
      ]
     },
     "metadata": {},
     "output_type": "display_data"
    }
   ],
   "source": [
    "df = pd.read_csv('https://raw.githubusercontent.com/Datamanim/datarepo/main/scipy/normal3.csv')\n",
    "log_df = np.log1p(df)\n",
    "\n",
    "plt.hist(log_df)\n",
    "plt.show()"
   ]
  },
  {
   "cell_type": "code",
   "execution_count": 36,
   "id": "109049d0-aa66-49f2-9a27-7cc8644997de",
   "metadata": {},
   "outputs": [
    {
     "name": "stdout",
     "output_type": "stream",
     "text": [
      "ShapiroResult(statistic=0.9976889491081238, pvalue=0.17540602385997772)\n"
     ]
    }
   ],
   "source": [
    "print(shapiro(log_df))"
   ]
  },
  {
   "cell_type": "markdown",
   "id": "7c32c137-6d59-4571-8a3c-1e6bfbce6b4b",
   "metadata": {},
   "source": [
    "shapiro 검정 시 p-value가 0.17이므로 유의수준 0.05에서 귀무가설(정규성을 가진다)을 기각할 수 없다."
   ]
  },
  {
   "cell_type": "markdown",
   "id": "f7e4faeb-89be-4ed5-89b5-7dde64f4a94d",
   "metadata": {},
   "source": [
    "**Question 04. 다음 데이터의 정규성을 검증하라.**"
   ]
  },
  {
   "cell_type": "code",
   "execution_count": 37,
   "id": "b21037b2-bf80-4095-8342-96f5d4ab61ea",
   "metadata": {},
   "outputs": [
    {
     "data": {
      "text/html": [
       "<div>\n",
       "<style scoped>\n",
       "    .dataframe tbody tr th:only-of-type {\n",
       "        vertical-align: middle;\n",
       "    }\n",
       "\n",
       "    .dataframe tbody tr th {\n",
       "        vertical-align: top;\n",
       "    }\n",
       "\n",
       "    .dataframe thead th {\n",
       "        text-align: right;\n",
       "    }\n",
       "</style>\n",
       "<table border=\"1\" class=\"dataframe\">\n",
       "  <thead>\n",
       "    <tr style=\"text-align: right;\">\n",
       "      <th></th>\n",
       "      <th>data</th>\n",
       "    </tr>\n",
       "  </thead>\n",
       "  <tbody>\n",
       "    <tr>\n",
       "      <th>0</th>\n",
       "      <td>296.016803</td>\n",
       "    </tr>\n",
       "    <tr>\n",
       "      <th>1</th>\n",
       "      <td>299.628476</td>\n",
       "    </tr>\n",
       "    <tr>\n",
       "      <th>2</th>\n",
       "      <td>298.232057</td>\n",
       "    </tr>\n",
       "    <tr>\n",
       "      <th>3</th>\n",
       "      <td>293.256749</td>\n",
       "    </tr>\n",
       "    <tr>\n",
       "      <th>4</th>\n",
       "      <td>301.037710</td>\n",
       "    </tr>\n",
       "  </tbody>\n",
       "</table>\n",
       "</div>"
      ],
      "text/plain": [
       "         data\n",
       "0  296.016803\n",
       "1  299.628476\n",
       "2  298.232057\n",
       "3  293.256749\n",
       "4  301.037710"
      ]
     },
     "execution_count": 37,
     "metadata": {},
     "output_type": "execute_result"
    }
   ],
   "source": [
    "df = pd.read_csv('https://raw.githubusercontent.com/Datamanim/datarepo/main/scipy/normal6.csv')\n",
    "df.head()"
   ]
  },
  {
   "cell_type": "code",
   "execution_count": 38,
   "id": "c29a4442-47c0-4a9c-b245-986481851df2",
   "metadata": {},
   "outputs": [
    {
     "data": {
      "image/png": "[encoded data removed]",
      "text/plain": [
       "<Figure size 640x480 with 1 Axes>"
      ]
     },
     "metadata": {},
     "output_type": "display_data"
    }
   ],
   "source": [
    "plt.hist(df)\n",
    "plt.show()"
   ]
  },
  {
   "cell_type": "code",
   "execution_count": 39,
   "id": "9bd02f7c-3502-4f91-81e8-2f00a7f87188",
   "metadata": {},
   "outputs": [
    {
     "name": "stdout",
     "output_type": "stream",
     "text": [
      "ShapiroResult(statistic=0.9995355606079102, pvalue=0.1507067084312439)\n"
     ]
    },
    {
     "name": "stderr",
     "output_type": "stream",
     "text": [
      "C:\\Users\\futur\\anaconda3\\lib\\site-packages\\scipy\\stats\\_morestats.py:1816: UserWarning: p-value may not be accurate for N > 5000.\n",
      "  warnings.warn(\"p-value may not be accurate for N > 5000.\")\n"
     ]
    }
   ],
   "source": [
    "print(shapiro(df))"
   ]
  },
  {
   "cell_type": "markdown",
   "id": "01305de3-d0a1-4df1-a615-dba624dc9848",
   "metadata": {},
   "source": [
    "shapiro 검정 시 p-value가 0.15이므로 유의수준 0.05에서 귀무가설(정규성을 가진다)을 기각할 수 없다.<br>\n",
    "하지만 경고 메세지에서도 보이듯이 5,000개가 초과하는 샘플에 대해서는 shapiro 검정은 정확하지 않을 수 있다.<br>\n",
    "5,000개가 넘는 샘플에 대해서는 anderson 검정을 해주면 된다."
   ]
  },
  {
   "cell_type": "code",
   "execution_count": 40,
   "id": "a0c8f7e7-81be-41e3-8df4-06aaaa64929f",
   "metadata": {},
   "outputs": [
    {
     "name": "stdout",
     "output_type": "stream",
     "text": [
      "AndersonResult(statistic=0.8266993530414766, critical_values=array([0.576, 0.656, 0.786, 0.917, 1.091]), significance_level=array([15. , 10. ,  5. ,  2.5,  1. ]), fit_result=  params: FitParams(loc=299.95980319533163, scale=5.031806887885131)\n",
      " success: True\n",
      " message: '`anderson` successfully fit the distribution to the data.')\n"
     ]
    }
   ],
   "source": [
    "print(anderson(df['data'].values))"
   ]
  },
  {
   "cell_type": "markdown",
   "id": "1e65b75d-ee76-4932-a5c3-29bbdc72b7f3",
   "metadata": {},
   "source": [
    "significance_level은 유의확률 값을 나타내며, critical_values는 각 유의확률 값의 기준점이 된다.<br>\n",
    "유의수준 0.05에서 검정을 진행하려면 statistic 값인 0.82이 significance_level이 5.에 위치한 인덱스를 critical_values 값에서 비교하면 된다.<br>\n",
    "그 값은 0.786이므로 statistic은 이보다 큰 0.826을 가지므로 귀무가설을 기각하고 대립가설을 채택한다.<br>\n",
    "즉 해당 데이터는 정규성을 가지지 않는다고 판단한다(p-value와 기각 기준 부등호 개념이 반대이다)."
   ]
  },
  {
   "cell_type": "markdown",
   "id": "f57bb7ba-e397-45f4-b459-fc2e6a2ec2a8",
   "metadata": {},
   "source": [
    "# 2. 단일 표본 t검정 (one-sample)"
   ]
  },
  {
   "cell_type": "markdown",
   "id": "2526625b-b116-49ce-9098-57339267a762",
   "metadata": {},
   "source": [
    "**Question 06. 100명의 키 정보가 들어 있는 데이터가 있다. 데이터가 정규성을 만족하는지 확인하라.\n",
    "그리고 평균 키를 165라 판단할 수 있는지 귀무가설과 대립가설을 설정한 후 유의수준 5%로 검정하라.**"
   ]
  },
  {
   "cell_type": "code",
   "execution_count": 41,
   "id": "9e253732-57aa-4320-b820-4124e4397dc2",
   "metadata": {},
   "outputs": [
    {
     "data": {
      "text/html": [
       "<div>\n",
       "<style scoped>\n",
       "    .dataframe tbody tr th:only-of-type {\n",
       "        vertical-align: middle;\n",
       "    }\n",
       "\n",
       "    .dataframe tbody tr th {\n",
       "        vertical-align: top;\n",
       "    }\n",
       "\n",
       "    .dataframe thead th {\n",
       "        text-align: right;\n",
       "    }\n",
       "</style>\n",
       "<table border=\"1\" class=\"dataframe\">\n",
       "  <thead>\n",
       "    <tr style=\"text-align: right;\">\n",
       "      <th></th>\n",
       "      <th>height</th>\n",
       "    </tr>\n",
       "  </thead>\n",
       "  <tbody>\n",
       "    <tr>\n",
       "      <th>0</th>\n",
       "      <td>160.237691</td>\n",
       "    </tr>\n",
       "    <tr>\n",
       "      <th>1</th>\n",
       "      <td>164.747324</td>\n",
       "    </tr>\n",
       "    <tr>\n",
       "      <th>2</th>\n",
       "      <td>165.401628</td>\n",
       "    </tr>\n",
       "    <tr>\n",
       "      <th>3</th>\n",
       "      <td>168.801627</td>\n",
       "    </tr>\n",
       "    <tr>\n",
       "      <th>4</th>\n",
       "      <td>153.199021</td>\n",
       "    </tr>\n",
       "  </tbody>\n",
       "</table>\n",
       "</div>"
      ],
      "text/plain": [
       "       height\n",
       "0  160.237691\n",
       "1  164.747324\n",
       "2  165.401628\n",
       "3  168.801627\n",
       "4  153.199021"
      ]
     },
     "execution_count": 41,
     "metadata": {},
     "output_type": "execute_result"
    }
   ],
   "source": [
    "df = pd.read_csv('https://raw.githubusercontent.com/Datamanim/datarepo/main/scipy/height1.csv')\n",
    "df.head()"
   ]
  },
  {
   "cell_type": "code",
   "execution_count": 42,
   "id": "67e623bc-535f-4fd8-a352-4b4ccce55e3d",
   "metadata": {},
   "outputs": [
    {
     "data": {
      "image/png": "[encoded data removed]",
      "text/plain": [
       "<Figure size 640x480 with 1 Axes>"
      ]
     },
     "metadata": {},
     "output_type": "display_data"
    }
   ],
   "source": [
    "plt.hist(df)\n",
    "plt.show()"
   ]
  },
  {
   "cell_type": "code",
   "execution_count": 45,
   "id": "f438fc69-97d0-45cf-ad7b-81f50bcfb10f",
   "metadata": {},
   "outputs": [
    {
     "name": "stdout",
     "output_type": "stream",
     "text": [
      "shapiro 정규성 검정 결과 p-value 값은 0.013552471995353699 이므로\n",
      "귀무가설을 기각한다. 정규성을 만족하지 않으므로 비모수 검정을 진행한다. 윌콕슨 순위 부호 검정을 진행한다.\n",
      "\n",
      "윌콕슨 순위 부호 검정의 귀무가설은 \"100명의 평균 키는 165이다\"이며, 대립가설은 \"100명의 평균 키는 165가 아니다.\"이다.\n",
      "검정 결과 p-value는 0.04880534424649582이므로 귀무가설을 기각하고 대립가설을 채택한다.\n"
     ]
    }
   ],
   "source": [
    "# 정규성 검정 shapiro\n",
    "static, pvalue = shapiro(df)\n",
    "print(f'shapiro 정규성 검정 결과 p-value 값은 {pvalue} 이므로')\n",
    "\n",
    "if pvalue < 0.05:\n",
    "    print('귀무가설을 기각한다. 정규성을 만족하지 않으므로 비모수 검정을 진행한다. 윌콕슨 순위 부호 검정을 진행한다.\\n')\n",
    "    print('윌콕슨 순위 부호 검정의 귀무가설은 \"100명의 평균 키는 165이다\"이며, 대립가설은 \"100명의 평균 키는 165가 아니다.\"이다.')\n",
    "    \n",
    "    # 윌콕슨 부호 순위 검정\n",
    "    static, pvalue = wilcoxon(df['height']-165)\n",
    "    \n",
    "    if pvalue < 0.05:\n",
    "        print(f'검정 결과 p-value는 {pvalue}이므로 귀무가설을 기각하고 대립가설을 채택한다.')\n",
    "    else:\n",
    "        print(f'검정 결과 p-value는 {pvalue}이므로 귀무가설을 기각하지 않는다.')    \n",
    "else:\n",
    "    print('귀무가설을 기각하지 않는다. 정규성을 만족하므로 단일 표본 검정으로 확인한다.\\n')\n",
    "    print('단일 표본 t-test의 귀무가설은 \"100명의 평균 키는 165이다\"이며, 대립가설은 \"100명의 평균 키는 165가 아니다.\"이다.')\n",
    "    \n",
    "    # 단일 표본 t 검정\n",
    "    static, pvalue = ttest_1samp(df['height'], 165)\n",
    "    if pvalue < 0.05:\n",
    "        print(f'검정 결과 p-value는 {round(pvalue, 4)}이므로 귀무가설을 기각하고 대립가설을 채택한다.')\n",
    "    else:\n",
    "        print(f'검정 결과 p-value는 {round(pvalue, 4)}이므로 귀무가설을 기각하지 않는다.')"
   ]
  },
  {
   "cell_type": "code",
   "execution_count": 46,
   "id": "f5475f9f-c70c-48e2-8f74-5131bad2bc07",
   "metadata": {},
   "outputs": [
    {
     "data": {
      "text/html": [
       "<div>\n",
       "<style scoped>\n",
       "    .dataframe tbody tr th:only-of-type {\n",
       "        vertical-align: middle;\n",
       "    }\n",
       "\n",
       "    .dataframe tbody tr th {\n",
       "        vertical-align: top;\n",
       "    }\n",
       "\n",
       "    .dataframe thead th {\n",
       "        text-align: right;\n",
       "    }\n",
       "</style>\n",
       "<table border=\"1\" class=\"dataframe\">\n",
       "  <thead>\n",
       "    <tr style=\"text-align: right;\">\n",
       "      <th></th>\n",
       "      <th>height</th>\n",
       "    </tr>\n",
       "  </thead>\n",
       "  <tbody>\n",
       "    <tr>\n",
       "      <th>0</th>\n",
       "      <td>182.012475</td>\n",
       "    </tr>\n",
       "    <tr>\n",
       "      <th>1</th>\n",
       "      <td>166.857081</td>\n",
       "    </tr>\n",
       "    <tr>\n",
       "      <th>2</th>\n",
       "      <td>159.633265</td>\n",
       "    </tr>\n",
       "    <tr>\n",
       "      <th>3</th>\n",
       "      <td>159.633265</td>\n",
       "    </tr>\n",
       "    <tr>\n",
       "      <th>4</th>\n",
       "      <td>169.428478</td>\n",
       "    </tr>\n",
       "  </tbody>\n",
       "</table>\n",
       "</div>"
      ],
      "text/plain": [
       "       height\n",
       "0  182.012475\n",
       "1  166.857081\n",
       "2  159.633265\n",
       "3  159.633265\n",
       "4  169.428478"
      ]
     },
     "execution_count": 46,
     "metadata": {},
     "output_type": "execute_result"
    }
   ],
   "source": [
    "df = pd.read_csv('https://raw.githubusercontent.com/Datamanim/datarepo/main/scipy/height2.csv')\n",
    "df.head()"
   ]
  },
  {
   "cell_type": "code",
   "execution_count": 47,
   "id": "9b40d133-e6bd-48fd-ac6a-71f6e84ba1c1",
   "metadata": {},
   "outputs": [
    {
     "data": {
      "image/png": "[encoded data removed]",
      "text/plain": [
       "<Figure size 640x480 with 1 Axes>"
      ]
     },
     "metadata": {},
     "output_type": "display_data"
    }
   ],
   "source": [
    "plt.hist(df)\n",
    "plt.show()"
   ]
  },
  {
   "cell_type": "code",
   "execution_count": 48,
   "id": "cd275cad-7c41-494f-a893-5870319f845e",
   "metadata": {},
   "outputs": [
    {
     "name": "stdout",
     "output_type": "stream",
     "text": [
      "shapiro 정규성 검정 결과 p-value 값은 0.013552471995353699 이므로\n",
      "귀무가설을 기각한다. 정규성을 만족하지 않으므로 비모수 검정을 진행한다. 윌콕슨 순위 부호 검정을 진행한다.\n",
      "\n",
      "윌콕슨 순위 부호 검정의 귀무가설은 \"100명의 평균 키는 165이다\"이며, 대립가설은 \"100명의 평균 키는 165가 아니다.\"이다.\n",
      "검정 결과 p-value는 0.04880534424649582이므로 귀무가설을 기각하고 대립가설을 채택한다.\n"
     ]
    }
   ],
   "source": [
    "# 정규성 검정 shapiro\n",
    "static, pvalue = shapiro(df)\n",
    "print(f'shapiro 정규성 검정 결과 p-value 값은 {pvalue} 이므로')\n",
    "\n",
    "if pvalue < 0.05:\n",
    "    print('귀무가설을 기각한다. 정규성을 만족하지 않으므로 비모수 검정을 진행한다. 윌콕슨 순위 부호 검정을 진행한다.\\n')\n",
    "    print('윌콕슨 순위 부호 검정의 귀무가설은 \"100명의 평균 키는 165이다\"이며, 대립가설은 \"100명의 평균 키는 165가 아니다.\"이다.')\n",
    "    \n",
    "    # 윌콕슨 부호 순위 검정\n",
    "    static, pvalue = wilcoxon(df['height']-165)\n",
    "    \n",
    "    if pvalue <0.05:\n",
    "        print(f'검정 결과 p-value는 {pvalue}이므로 귀무가설을 기각하고 대립가설을 채택한다.')\n",
    "    else:\n",
    "        print(f'검정 결과 p-value는 {pvalue}이므로 귀무가설을 기각하지 않는다.')    \n",
    "else:\n",
    "    print('귀무가설을 기각하지 않는다. 정규성을 만족하므로 단일표본 검정으로 확인한다.\\n')\n",
    "    print('단일표본 t-test의 귀무가설은 \"100명의 평균 키는 165이다\"이며, 대립가설은 \"100명의 평균 키는 165가 아니다.\"이다.')\n",
    "    \n",
    "    # 단일 표본 t 검정\n",
    "    static, pvalue = ttest_1samp(df['height'], 165)\n",
    "    if pvalue < 0.05:\n",
    "        print(f'검정 결과 p-value는 {round(pvalue, 4)}이므로 귀무가설을 기각하고 대립가설을 채택한다.')\n",
    "    else:\n",
    "        print(f'검정 결과 p-value는 {round(pvalue, 4)}이므로 귀무가설을 기각하지 않는다.')"
   ]
  },
  {
   "cell_type": "markdown",
   "id": "81e8e044-55f9-431c-895d-5a7e50e2a409",
   "metadata": {},
   "source": [
    "# 3. 등분산 검정"
   ]
  },
  {
   "cell_type": "markdown",
   "id": "2c1c47af-6d00-4628-a7ac-2f751047e521",
   "metadata": {},
   "source": [
    "- 등분산 검정 방법은 3가지가 있다.\n",
    "- p-value 값은 유의수준 0.05보다 작은 경우 '각 그룹은 등분산이다.'라는 귀무가설을 기각한다.\n",
    "- bartlett, fligner 두 검정은 nan값을 지우고 사용해야 한다. LeveneResult의 경우 nan값이 포함된다면 연산이 제대로 안 된다."
   ]
  },
  {
   "cell_type": "markdown",
   "id": "3afd0779-c2d3-43b8-93cd-792b51e862d6",
   "metadata": {},
   "source": [
    "**Question 07. 두 개 학급의 시험 성적에 대한 데이터이다. 그룹 간 등분산 검정을 시행하라.**"
   ]
  },
  {
   "cell_type": "code",
   "execution_count": 49,
   "id": "0c8822c3-1e47-40e7-b590-40569005fd84",
   "metadata": {},
   "outputs": [
    {
     "data": {
      "text/html": [
       "<div>\n",
       "<style scoped>\n",
       "    .dataframe tbody tr th:only-of-type {\n",
       "        vertical-align: middle;\n",
       "    }\n",
       "\n",
       "    .dataframe tbody tr th {\n",
       "        vertical-align: top;\n",
       "    }\n",
       "\n",
       "    .dataframe thead th {\n",
       "        text-align: right;\n",
       "    }\n",
       "</style>\n",
       "<table border=\"1\" class=\"dataframe\">\n",
       "  <thead>\n",
       "    <tr style=\"text-align: right;\">\n",
       "      <th></th>\n",
       "      <th>class</th>\n",
       "      <th>score</th>\n",
       "    </tr>\n",
       "  </thead>\n",
       "  <tbody>\n",
       "    <tr>\n",
       "      <th>0</th>\n",
       "      <td>A</td>\n",
       "      <td>84</td>\n",
       "    </tr>\n",
       "    <tr>\n",
       "      <th>1</th>\n",
       "      <td>A</td>\n",
       "      <td>59</td>\n",
       "    </tr>\n",
       "    <tr>\n",
       "      <th>2</th>\n",
       "      <td>A</td>\n",
       "      <td>49</td>\n",
       "    </tr>\n",
       "    <tr>\n",
       "      <th>3</th>\n",
       "      <td>A</td>\n",
       "      <td>57</td>\n",
       "    </tr>\n",
       "    <tr>\n",
       "      <th>4</th>\n",
       "      <td>A</td>\n",
       "      <td>82</td>\n",
       "    </tr>\n",
       "  </tbody>\n",
       "</table>\n",
       "</div>"
      ],
      "text/plain": [
       "  class  score\n",
       "0     A     84\n",
       "1     A     59\n",
       "2     A     49\n",
       "3     A     57\n",
       "4     A     82"
      ]
     },
     "execution_count": 49,
     "metadata": {},
     "output_type": "execute_result"
    }
   ],
   "source": [
    "df = pd.read_csv('https://raw.githubusercontent.com/Datamanim/datarepo/main/scipy/scipy2.csv')\n",
    "df.head()"
   ]
  },
  {
   "cell_type": "code",
   "execution_count": 50,
   "id": "46d404f7-e7c8-4e01-a7c8-1c4cf581c632",
   "metadata": {},
   "outputs": [
    {
     "name": "stdout",
     "output_type": "stream",
     "text": [
      "BartlettResult(statistic=0.26035880448930865, pvalue=0.609873758447687)\n",
      "FlignerResult(statistic=0.7281251154135562, pvalue=0.39349158741002765)\n",
      "FlignerResult(statistic=0.8272211734319945, pvalue=0.36307728836821906)\n",
      "LeveneResult(statistic=0.3145466542912649, pvalue=0.5751662820554713)\n",
      "LeveneResult(statistic=0.5086970687685527, pvalue=0.4760514837800255)\n"
     ]
    }
   ],
   "source": [
    "a = df[df['class']=='A'].score\n",
    "b = df[df['class']=='B'].score\n",
    "\n",
    "print(bartlett(a, b))\n",
    "\n",
    "print(fligner(a, b, center='median')) # default\n",
    "print(fligner(a, b, center='mean'))\n",
    "              \n",
    "print(levene(a, b, center='median'))  # default\n",
    "print(levene(a, b, center='mean'))"
   ]
  },
  {
   "cell_type": "markdown",
   "id": "0d2f590a-4f2b-4fe5-936e-8651f9215ef5",
   "metadata": {},
   "source": [
    "위의 결과 모두 유의수준 0.05보다 크므로 귀무가설을 기각할 수 없다."
   ]
  },
  {
   "cell_type": "code",
   "execution_count": 51,
   "id": "6cd1885a-8121-4e7e-8931-3487d2ff8217",
   "metadata": {},
   "outputs": [
    {
     "data": {
      "text/html": [
       "<div>\n",
       "<style scoped>\n",
       "    .dataframe tbody tr th:only-of-type {\n",
       "        vertical-align: middle;\n",
       "    }\n",
       "\n",
       "    .dataframe tbody tr th {\n",
       "        vertical-align: top;\n",
       "    }\n",
       "\n",
       "    .dataframe thead th {\n",
       "        text-align: right;\n",
       "    }\n",
       "</style>\n",
       "<table border=\"1\" class=\"dataframe\">\n",
       "  <thead>\n",
       "    <tr style=\"text-align: right;\">\n",
       "      <th></th>\n",
       "      <th>class</th>\n",
       "      <th>score</th>\n",
       "    </tr>\n",
       "  </thead>\n",
       "  <tbody>\n",
       "    <tr>\n",
       "      <th>0</th>\n",
       "      <td>A</td>\n",
       "      <td>32</td>\n",
       "    </tr>\n",
       "    <tr>\n",
       "      <th>1</th>\n",
       "      <td>A</td>\n",
       "      <td>69</td>\n",
       "    </tr>\n",
       "    <tr>\n",
       "      <th>2</th>\n",
       "      <td>A</td>\n",
       "      <td>68</td>\n",
       "    </tr>\n",
       "    <tr>\n",
       "      <th>3</th>\n",
       "      <td>A</td>\n",
       "      <td>60</td>\n",
       "    </tr>\n",
       "    <tr>\n",
       "      <th>4</th>\n",
       "      <td>A</td>\n",
       "      <td>78</td>\n",
       "    </tr>\n",
       "  </tbody>\n",
       "</table>\n",
       "</div>"
      ],
      "text/plain": [
       "  class  score\n",
       "0     A     32\n",
       "1     A     69\n",
       "2     A     68\n",
       "3     A     60\n",
       "4     A     78"
      ]
     },
     "execution_count": 51,
     "metadata": {},
     "output_type": "execute_result"
    }
   ],
   "source": [
    "df = pd.read_csv('https://raw.githubusercontent.com/Datamanim/datarepo/main/scipy/scipy3.csv')\n",
    "df.head()"
   ]
  },
  {
   "cell_type": "code",
   "execution_count": 52,
   "id": "070d90d5-4988-4bbb-a0aa-e30aa497c9a3",
   "metadata": {},
   "outputs": [
    {
     "name": "stdout",
     "output_type": "stream",
     "text": [
      "BartlettResult(statistic=1.5116783794562305, pvalue=0.2188831590902503)\n",
      "FlignerResult(statistic=4.960366756026232, pvalue=0.025934706256615564)\n",
      "FlignerResult(statistic=4.94724457924667, pvalue=0.026132286002684912)\n",
      "LeveneResult(statistic=4.307122424591436, pvalue=0.03848734007752694)\n",
      "LeveneResult(statistic=4.342327020297874, pvalue=0.0377066528874248)\n"
     ]
    }
   ],
   "source": [
    "a = df[df['class']=='A'].score\n",
    "b = df[df['class']=='B'].score\n",
    "\n",
    "print(bartlett(a, b))\n",
    "\n",
    "print(fligner(a, b, center='median')) # default\n",
    "print(fligner(a, b, center='mean'))\n",
    "              \n",
    "print(levene(a, b, center='median'))  # default\n",
    "print(levene(a, b, center='mean'))"
   ]
  },
  {
   "cell_type": "markdown",
   "id": "3d50f515-cd7f-4550-b505-3ad4da738802",
   "metadata": {},
   "source": [
    "bartlett 검정 결과, p-value는 0.05보다 크고, fligner, levene 검정 결과 p-value는 0.05보다 작다.<br>\n",
    "fligner, levene는 bartlett보다 좀 더 robust하다는 특징이 있다."
   ]
  },
  {
   "cell_type": "code",
   "execution_count": 53,
   "id": "da9f053c-f55d-4794-bdb0-2b110c28b1db",
   "metadata": {},
   "outputs": [
    {
     "data": {
      "text/html": [
       "<div>\n",
       "<style scoped>\n",
       "    .dataframe tbody tr th:only-of-type {\n",
       "        vertical-align: middle;\n",
       "    }\n",
       "\n",
       "    .dataframe tbody tr th {\n",
       "        vertical-align: top;\n",
       "    }\n",
       "\n",
       "    .dataframe thead th {\n",
       "        text-align: right;\n",
       "    }\n",
       "</style>\n",
       "<table border=\"1\" class=\"dataframe\">\n",
       "  <thead>\n",
       "    <tr style=\"text-align: right;\">\n",
       "      <th></th>\n",
       "      <th>A</th>\n",
       "      <th>B</th>\n",
       "    </tr>\n",
       "  </thead>\n",
       "  <tbody>\n",
       "    <tr>\n",
       "      <th>0</th>\n",
       "      <td>44</td>\n",
       "      <td>36</td>\n",
       "    </tr>\n",
       "    <tr>\n",
       "      <th>1</th>\n",
       "      <td>61</td>\n",
       "      <td>92</td>\n",
       "    </tr>\n",
       "    <tr>\n",
       "      <th>2</th>\n",
       "      <td>76</td>\n",
       "      <td>41</td>\n",
       "    </tr>\n",
       "    <tr>\n",
       "      <th>3</th>\n",
       "      <td>64</td>\n",
       "      <td>45</td>\n",
       "    </tr>\n",
       "    <tr>\n",
       "      <th>4</th>\n",
       "      <td>65</td>\n",
       "      <td>35</td>\n",
       "    </tr>\n",
       "  </tbody>\n",
       "</table>\n",
       "</div>"
      ],
      "text/plain": [
       "    A   B\n",
       "0  44  36\n",
       "1  61  92\n",
       "2  76  41\n",
       "3  64  45\n",
       "4  65  35"
      ]
     },
     "execution_count": 53,
     "metadata": {},
     "output_type": "execute_result"
    }
   ],
   "source": [
    "df = pd.read_csv('https://raw.githubusercontent.com/Datamanim/datarepo/main/scipy/scipy6.csv')\n",
    "df.head()"
   ]
  },
  {
   "cell_type": "code",
   "execution_count": 54,
   "id": "eb401762-bae0-4912-b944-31322a75678e",
   "metadata": {},
   "outputs": [
    {
     "name": "stdout",
     "output_type": "stream",
     "text": [
      "BartlettResult(statistic=2.3832178811043527, pvalue=0.12264468401745829)\n",
      "FlignerResult(statistic=5.124831619122788, pvalue=0.023585858890699054)\n",
      "FlignerResult(statistic=6.08420814282746, pvalue=0.01363954875460099)\n",
      "LeveneResult(statistic=5.147914610463281, pvalue=0.023868975493455683)\n",
      "LeveneResult(statistic=5.783103950473267, pvalue=0.016687980542371833)\n"
     ]
    }
   ],
   "source": [
    "a = df['A'].values\n",
    "b = df['B'].values\n",
    "\n",
    "print(bartlett(a, b))\n",
    "\n",
    "print(fligner(a, b, center='median')) # default\n",
    "print(fligner(a, b, center='mean'))\n",
    "              \n",
    "print(levene(a, b, center='median'))  # default\n",
    "print(levene(a, b, center='mean'))"
   ]
  },
  {
   "cell_type": "markdown",
   "id": "cbe302e5-fcc0-49e3-8e88-28324bbb22e2",
   "metadata": {},
   "source": [
    "BartlettResult는 등분산이며, FlignerResult, LeveneResult는 등분산이 아니다."
   ]
  },
  {
   "cell_type": "code",
   "execution_count": 55,
   "id": "25fd34cf-df1b-4d1d-bf3b-d516fcb4044b",
   "metadata": {},
   "outputs": [
    {
     "data": {
      "text/html": [
       "<div>\n",
       "<style scoped>\n",
       "    .dataframe tbody tr th:only-of-type {\n",
       "        vertical-align: middle;\n",
       "    }\n",
       "\n",
       "    .dataframe tbody tr th {\n",
       "        vertical-align: top;\n",
       "    }\n",
       "\n",
       "    .dataframe thead th {\n",
       "        text-align: right;\n",
       "    }\n",
       "</style>\n",
       "<table border=\"1\" class=\"dataframe\">\n",
       "  <thead>\n",
       "    <tr style=\"text-align: right;\">\n",
       "      <th></th>\n",
       "      <th>A</th>\n",
       "      <th>B</th>\n",
       "    </tr>\n",
       "  </thead>\n",
       "  <tbody>\n",
       "    <tr>\n",
       "      <th>0</th>\n",
       "      <td>74</td>\n",
       "      <td>30.0</td>\n",
       "    </tr>\n",
       "    <tr>\n",
       "      <th>1</th>\n",
       "      <td>30</td>\n",
       "      <td>59.0</td>\n",
       "    </tr>\n",
       "    <tr>\n",
       "      <th>2</th>\n",
       "      <td>35</td>\n",
       "      <td>69.0</td>\n",
       "    </tr>\n",
       "    <tr>\n",
       "      <th>3</th>\n",
       "      <td>45</td>\n",
       "      <td>88.0</td>\n",
       "    </tr>\n",
       "    <tr>\n",
       "      <th>4</th>\n",
       "      <td>74</td>\n",
       "      <td>68.0</td>\n",
       "    </tr>\n",
       "  </tbody>\n",
       "</table>\n",
       "</div>"
      ],
      "text/plain": [
       "    A     B\n",
       "0  74  30.0\n",
       "1  30  59.0\n",
       "2  35  69.0\n",
       "3  45  88.0\n",
       "4  74  68.0"
      ]
     },
     "execution_count": 55,
     "metadata": {},
     "output_type": "execute_result"
    }
   ],
   "source": [
    "df = pd.read_csv('https://raw.githubusercontent.com/Datamanim/datarepo/main/scipy/scipy5.csv')\n",
    "df.head()"
   ]
  },
  {
   "cell_type": "code",
   "execution_count": 56,
   "id": "9734c2d4-da9b-449d-b0c7-bbe083e879be",
   "metadata": {},
   "outputs": [
    {
     "name": "stdout",
     "output_type": "stream",
     "text": [
      "<class 'pandas.core.frame.DataFrame'>\n",
      "RangeIndex: 300 entries, 0 to 299\n",
      "Data columns (total 2 columns):\n",
      " #   Column  Non-Null Count  Dtype  \n",
      "---  ------  --------------  -----  \n",
      " 0   A       300 non-null    int64  \n",
      " 1   B       180 non-null    float64\n",
      "dtypes: float64(1), int64(1)\n",
      "memory usage: 4.8 KB\n"
     ]
    }
   ],
   "source": [
    "df.info()"
   ]
  },
  {
   "cell_type": "code",
   "execution_count": 57,
   "id": "0205afab-3144-41af-a197-4dcca85e7082",
   "metadata": {},
   "outputs": [
    {
     "name": "stdout",
     "output_type": "stream",
     "text": [
      "BartlettResult(statistic=3.024072692680794, pvalue=0.08203720607748438)\n",
      "FlignerResult(statistic=7.710320541528441, pvalue=0.005490600130793619)\n",
      "FlignerResult(statistic=7.866701415553152, pvalue=0.005035342411464087)\n",
      "LeveneResult(statistic=8.008595918808284, pvalue=0.004851565077063284)\n",
      "LeveneResult(statistic=8.217541809462276, pvalue=0.004331841625789694)\n"
     ]
    }
   ],
   "source": [
    "a = df['A'].dropna().values\n",
    "b = df['B'].dropna().values\n",
    "\n",
    "print(bartlett(a, b))\n",
    "\n",
    "print(fligner(a, b, center='median')) # default\n",
    "print(fligner(a, b, center='mean'))\n",
    "              \n",
    "print(levene(a, b, center='median'))  # default\n",
    "print(levene(a, b, center='mean'))"
   ]
  },
  {
   "cell_type": "markdown",
   "id": "ef78a348-b2a8-4a95-88d7-9873e01117ca",
   "metadata": {},
   "source": [
    "BartlettResult는 등분산이며, FlignerResult, LeveneResult는 등분산이 아니다."
   ]
  },
  {
   "cell_type": "markdown",
   "id": "1509b2f4-fa19-4ff3-8174-f59657ccfa8a",
   "metadata": {},
   "source": [
    "# 4. 독립 표본 t-검정 (Independent)"
   ]
  },
  {
   "cell_type": "markdown",
   "id": "c03bef46-ee88-48e8-93f6-9d248139a185",
   "metadata": {},
   "source": [
    "- 독립 표본 t-검정의 경우 집단의 정규성에 따라 접근 방식이 다르다.\n",
    "- 정규성 검정은 shapiro, adnerson(샘플 5000개 이상)을 통해 확인한다.\n",
    "- 데이터가 정규성을 가지는 경우 → 모수적 검정\n",
    "- 데이터가 정규성을 가지지 않는 경우 → 비모수적 검정"
   ]
  },
  {
   "cell_type": "markdown",
   "id": "0fd77aa7-14d2-4046-8bdf-22b7cb006f9e",
   "metadata": {},
   "source": [
    "**Quesiton 08. 두 개 학급의 시험 성적에 대한 데이터이다. 두 학습의 시험 평균(비모수 검정의 경우 중위값)은 동일하다고 말할 수 있는지 확인하라.**"
   ]
  },
  {
   "cell_type": "code",
   "execution_count": 58,
   "id": "b2ca0adc-f510-4d2f-a60c-4475fb9b1a7b",
   "metadata": {},
   "outputs": [],
   "source": [
    "df1 = pd.read_csv('https://raw.githubusercontent.com/Datamanim/datarepo/main/scipy/ind1.csv')\n",
    "df2 = pd.read_csv('https://raw.githubusercontent.com/Datamanim/datarepo/main/scipy/ind2.csv')"
   ]
  },
  {
   "cell_type": "code",
   "execution_count": 59,
   "id": "bba1bc01-e710-47be-a76b-fd421f5fd951",
   "metadata": {},
   "outputs": [
    {
     "data": {
      "image/png": "[encoded data removed]",
      "text/plain": [
       "<Figure size 640x480 with 1 Axes>"
      ]
     },
     "metadata": {},
     "output_type": "display_data"
    }
   ],
   "source": [
    "plt.hist(df1, label='df1', alpha=0.3)\n",
    "plt.hist(df2, label='df2', alpha=0.3)\n",
    "plt.xlabel('Score bins')\n",
    "plt.ylabel('Counts')\n",
    "plt.legend()\n",
    "plt.show()"
   ]
  },
  {
   "cell_type": "code",
   "execution_count": 60,
   "id": "69fe027f-5a55-4e89-b671-2430afbaa591",
   "metadata": {},
   "outputs": [
    {
     "name": "stdout",
     "output_type": "stream",
     "text": [
      "ShapiroResult(statistic=0.9860946536064148, pvalue=0.379673033952713)\n",
      "ShapiroResult(statistic=0.990182638168335, pvalue=0.6793646216392517)\n"
     ]
    }
   ],
   "source": [
    "print(shapiro(df1))\n",
    "print(shapiro(df2))"
   ]
  },
  {
   "cell_type": "markdown",
   "id": "5f67cb43-e5f5-4cae-97ca-7e651e694335",
   "metadata": {},
   "source": [
    "두 그룹 모두 shapiro 검정 결과, 귀무가설(정규성을 가진다)을 기각할 수 없다. 따라서 두 그룹은 정규성을 가진다."
   ]
  },
  {
   "cell_type": "code",
   "execution_count": 61,
   "id": "4a224eac-2ee9-4a3d-a1b8-fa4eb8c0091e",
   "metadata": {},
   "outputs": [
    {
     "name": "stdout",
     "output_type": "stream",
     "text": [
      "LeveneResult(statistic=2.5337683795339547, pvalue=0.11302904824469093)\n"
     ]
    }
   ],
   "source": [
    "print(levene(df1['data'], df2['data']))"
   ]
  },
  {
   "cell_type": "markdown",
   "id": "16c8ec50-ce95-46c9-89c2-4b93702d7b0d",
   "metadata": {},
   "source": [
    "두 그룹은 levene 검정 결과, p-value가 0.11로 귀무가설을 기각하지 못한다. 따라서 등분산을 가진다."
   ]
  },
  {
   "cell_type": "code",
   "execution_count": 62,
   "id": "09b7c9a7-564e-4605-bd71-b7509234f440",
   "metadata": {},
   "outputs": [
    {
     "name": "stdout",
     "output_type": "stream",
     "text": [
      "Ttest_indResult(statistic=array([2.76719074]), pvalue=array([0.00619015]))\n"
     ]
    }
   ],
   "source": [
    "print(ttest_ind(df1, df2, equal_var=True))"
   ]
  },
  {
   "cell_type": "markdown",
   "id": "84d37286-64a5-4c73-9035-888385093e73",
   "metadata": {},
   "source": [
    "등분산이기 때문에 `equal_var=True` 파라미터를 주고, ttest_ind 모듈을 이용하여 t-test를 진행한다.<br>\n",
    "p-value는 0.006이므로 귀무가설(각 그룹의 평균값은 동일하다)를 기각하고 대립가설을 채택한다."
   ]
  },
  {
   "cell_type": "code",
   "execution_count": 57,
   "id": "0c9002f0-dbff-4aba-b1d7-891e2305cdb0",
   "metadata": {},
   "outputs": [
    {
     "data": {
      "text/html": [
       "<div>\n",
       "<style scoped>\n",
       "    .dataframe tbody tr th:only-of-type {\n",
       "        vertical-align: middle;\n",
       "    }\n",
       "\n",
       "    .dataframe tbody tr th {\n",
       "        vertical-align: top;\n",
       "    }\n",
       "\n",
       "    .dataframe thead th {\n",
       "        text-align: right;\n",
       "    }\n",
       "</style>\n",
       "<table border=\"1\" class=\"dataframe\">\n",
       "  <thead>\n",
       "    <tr style=\"text-align: right;\">\n",
       "      <th></th>\n",
       "      <th>A</th>\n",
       "      <th>B</th>\n",
       "    </tr>\n",
       "  </thead>\n",
       "  <tbody>\n",
       "    <tr>\n",
       "      <th>0</th>\n",
       "      <td>74</td>\n",
       "      <td>30.0</td>\n",
       "    </tr>\n",
       "    <tr>\n",
       "      <th>1</th>\n",
       "      <td>30</td>\n",
       "      <td>59.0</td>\n",
       "    </tr>\n",
       "    <tr>\n",
       "      <th>2</th>\n",
       "      <td>35</td>\n",
       "      <td>69.0</td>\n",
       "    </tr>\n",
       "    <tr>\n",
       "      <th>3</th>\n",
       "      <td>45</td>\n",
       "      <td>88.0</td>\n",
       "    </tr>\n",
       "    <tr>\n",
       "      <th>4</th>\n",
       "      <td>74</td>\n",
       "      <td>68.0</td>\n",
       "    </tr>\n",
       "  </tbody>\n",
       "</table>\n",
       "</div>"
      ],
      "text/plain": [
       "    A     B\n",
       "0  74  30.0\n",
       "1  30  59.0\n",
       "2  35  69.0\n",
       "3  45  88.0\n",
       "4  74  68.0"
      ]
     },
     "execution_count": 57,
     "metadata": {},
     "output_type": "execute_result"
    }
   ],
   "source": [
    "df = pd.read_csv('https://raw.githubusercontent.com/Datamanim/datarepo/main/scipy/scipy5.csv')\n",
    "df.head()"
   ]
  },
  {
   "cell_type": "code",
   "execution_count": 59,
   "id": "5600062d-97cb-4b24-b993-09f4964924cf",
   "metadata": {},
   "outputs": [
    {
     "name": "stdout",
     "output_type": "stream",
     "text": [
      "<class 'pandas.core.frame.DataFrame'>\n",
      "RangeIndex: 300 entries, 0 to 299\n",
      "Data columns (total 2 columns):\n",
      " #   Column  Non-Null Count  Dtype  \n",
      "---  ------  --------------  -----  \n",
      " 0   A       300 non-null    int64  \n",
      " 1   B       180 non-null    float64\n",
      "dtypes: float64(1), int64(1)\n",
      "memory usage: 4.8 KB\n"
     ]
    }
   ],
   "source": [
    "df.info()"
   ]
  },
  {
   "cell_type": "code",
   "execution_count": 58,
   "id": "4cf93b9f-469d-4e89-89e4-eb53b2332443",
   "metadata": {},
   "outputs": [
    {
     "data": {
      "image/png": "[encoded data removed]",
      "text/plain": [
       "<Figure size 640x480 with 1 Axes>"
      ]
     },
     "metadata": {},
     "output_type": "display_data"
    }
   ],
   "source": [
    "plt.hist(df['A'], alpha=0.5, label='A')\n",
    "plt.hist(df['B'].dropna(), alpha=0.5, label='B')\n",
    "plt.xlabel('Score bins')\n",
    "plt.ylabel('Counts')\n",
    "plt.legend()\n",
    "plt.show()"
   ]
  },
  {
   "cell_type": "markdown",
   "id": "b21d1ec6-b30a-45b1-b4d0-413147496bc2",
   "metadata": {},
   "source": [
    "데이터 분포 확인 결과, 정규성을 위배하는 것처럼 보인다.<br>\n",
    "두 그룹 중 한 그룹만이라도 정규성을 위배해도 독립 표본 t-검정을 실행할 수 없다."
   ]
  },
  {
   "cell_type": "code",
   "execution_count": 60,
   "id": "19cd564b-05b0-4d9e-b1c4-220a41dbb8fd",
   "metadata": {},
   "outputs": [
    {
     "name": "stdout",
     "output_type": "stream",
     "text": [
      "ShapiroResult(statistic=0.9639433026313782, pvalue=0.00013568344002123922)\n",
      "ShapiroResult(statistic=0.93753981590271, pvalue=6.175894240456614e-10)\n"
     ]
    }
   ],
   "source": [
    "print(shapiro(df['B'].dropna()))\n",
    "print(shapiro(df['A']))"
   ]
  },
  {
   "cell_type": "markdown",
   "id": "ed67c2dd-eb71-408a-8771-50b02a80f3af",
   "metadata": {},
   "source": [
    "두 그룹 모두 shapiro 검정 결과, 귀무가설(정규성을 가진다)을 기각한다. 정규성을 위배하였으므로 비모수 검정을 실시해야 한다."
   ]
  },
  {
   "cell_type": "code",
   "execution_count": 62,
   "id": "f84976f6-af29-430f-a1f8-0882eb41ea7b",
   "metadata": {},
   "outputs": [
    {
     "name": "stdout",
     "output_type": "stream",
     "text": [
      "MannwhitneyuResult(statistic=27036.0, pvalue=0.9807458376150018)\n",
      "RanksumsResult(statistic=0.02446942170858557, pvalue=0.9804781743503561)\n"
     ]
    }
   ],
   "source": [
    "print(mannwhitneyu(df['A'], df['B'].dropna()))\n",
    "print(ranksums(df['A'], df['B'].dropna()))"
   ]
  },
  {
   "cell_type": "markdown",
   "id": "2b001365-6f6b-4609-951c-bbecfa6e19b6",
   "metadata": {},
   "source": [
    "Mann-Whiteny U Test 검정 결과, p-value는 0.49 값이므로 귀무가설(평균이 같다)을 기각할 수 없다.\n",
    "윌콕슨 순위합 검정(ranksums)으로 확인해봐도 같은 결과가 나온다."
   ]
  },
  {
   "cell_type": "markdown",
   "id": "3c67f6a8-4e10-49e9-baf0-da2149b403db",
   "metadata": {},
   "source": [
    "**Question 09. 두 개 그룹에 대한 수치형 데이터이다. 두 그룹의 평균은 동일하다 말할 수 있는지 검정하라.**"
   ]
  },
  {
   "cell_type": "code",
   "execution_count": 63,
   "id": "5c1d8658-e9ba-4ecc-8d5a-76bb278ae1ca",
   "metadata": {},
   "outputs": [
    {
     "data": {
      "text/html": [
       "<div>\n",
       "<style scoped>\n",
       "    .dataframe tbody tr th:only-of-type {\n",
       "        vertical-align: middle;\n",
       "    }\n",
       "\n",
       "    .dataframe tbody tr th {\n",
       "        vertical-align: top;\n",
       "    }\n",
       "\n",
       "    .dataframe thead th {\n",
       "        text-align: right;\n",
       "    }\n",
       "</style>\n",
       "<table border=\"1\" class=\"dataframe\">\n",
       "  <thead>\n",
       "    <tr style=\"text-align: right;\">\n",
       "      <th></th>\n",
       "      <th>group</th>\n",
       "      <th>data</th>\n",
       "    </tr>\n",
       "  </thead>\n",
       "  <tbody>\n",
       "    <tr>\n",
       "      <th>0</th>\n",
       "      <td>a</td>\n",
       "      <td>108.065847</td>\n",
       "    </tr>\n",
       "    <tr>\n",
       "      <th>1</th>\n",
       "      <td>a</td>\n",
       "      <td>88.714106</td>\n",
       "    </tr>\n",
       "    <tr>\n",
       "      <th>2</th>\n",
       "      <td>a</td>\n",
       "      <td>61.182748</td>\n",
       "    </tr>\n",
       "    <tr>\n",
       "      <th>3</th>\n",
       "      <td>a</td>\n",
       "      <td>51.763444</td>\n",
       "    </tr>\n",
       "    <tr>\n",
       "      <th>4</th>\n",
       "      <td>a</td>\n",
       "      <td>127.858730</td>\n",
       "    </tr>\n",
       "  </tbody>\n",
       "</table>\n",
       "</div>"
      ],
      "text/plain": [
       "  group        data\n",
       "0     a  108.065847\n",
       "1     a   88.714106\n",
       "2     a   61.182748\n",
       "3     a   51.763444\n",
       "4     a  127.858730"
      ]
     },
     "execution_count": 63,
     "metadata": {},
     "output_type": "execute_result"
    }
   ],
   "source": [
    "df = pd.read_csv('https://raw.githubusercontent.com/Datamanim/datarepo/main/scipy/ind3.csv')\n",
    "df.head()"
   ]
  },
  {
   "cell_type": "code",
   "execution_count": 64,
   "id": "2bafe6ee-2e2e-4a92-844d-15c4efc7cf65",
   "metadata": {},
   "outputs": [
    {
     "data": {
      "image/png": "[encoded data removed]",
      "text/plain": [
       "<Figure size 640x480 with 1 Axes>"
      ]
     },
     "metadata": {},
     "output_type": "display_data"
    }
   ],
   "source": [
    "plt.hist(df[df['group']=='a'].data, label='A', alpha=0.5)\n",
    "plt.hist(df[df['group']=='b'].data, label='B', alpha=0.5)\n",
    "plt.xlabel('Score bins')\n",
    "plt.ylabel('Counts')\n",
    "plt.legend()\n",
    "plt.show()"
   ]
  },
  {
   "cell_type": "code",
   "execution_count": 65,
   "id": "b6e86d95-dc71-43d7-b725-a332f09389e0",
   "metadata": {},
   "outputs": [
    {
     "name": "stdout",
     "output_type": "stream",
     "text": [
      "ShapiroResult(statistic=0.9834123253822327, pvalue=0.1473984718322754)\n",
      "ShapiroResult(statistic=0.9831852316856384, pvalue=0.4701973497867584)\n"
     ]
    }
   ],
   "source": [
    "a = df[df['group']=='a'].data\n",
    "b = df[df['group']=='b'].data\n",
    "\n",
    "print(shapiro(a))\n",
    "print(shapiro(b))"
   ]
  },
  {
   "cell_type": "markdown",
   "id": "6da3efba-a0c8-446b-81bb-45bd97e38ab5",
   "metadata": {},
   "source": [
    "두 그룹 모두 귀무가설(정규성을 가진다)을 기각하지 못한다. 따라서 두 그룹은 정규성을 가진다."
   ]
  },
  {
   "cell_type": "code",
   "execution_count": 66,
   "id": "6a08aca7-a0b9-4fc5-8ee5-745b771480d9",
   "metadata": {},
   "outputs": [
    {
     "name": "stdout",
     "output_type": "stream",
     "text": [
      "LeveneResult(statistic=6.185601018015722, pvalue=0.013750484571911342)\n"
     ]
    }
   ],
   "source": [
    "print(levene(a, b))"
   ]
  },
  {
   "cell_type": "markdown",
   "id": "74305692-2d94-4da7-b940-99d0631ca85c",
   "metadata": {},
   "source": [
    "두 그룹은 levene 검정 결과 p-value가 0.013으로 귀무가설을 기각하고 대립가설을 채택한다. 따라서 두 그룹은 등분산이 아니다."
   ]
  },
  {
   "cell_type": "code",
   "execution_count": 67,
   "id": "3f2bc318-f469-4124-a731-cf27340bd882",
   "metadata": {},
   "outputs": [
    {
     "name": "stdout",
     "output_type": "stream",
     "text": [
      "Ttest_indResult(statistic=-2.1949470315829265, pvalue=0.029512802991767898)\n"
     ]
    }
   ],
   "source": [
    "print(ttest_ind(a, b, equal_var=False))"
   ]
  },
  {
   "cell_type": "markdown",
   "id": "853ad919-04fb-41de-b8a3-9613ad669556",
   "metadata": {},
   "source": [
    "등분산이 아니기 때문에 `equal_var=False` 파라미터를 주고, ttest_ind 모듈을 이용해 t-test를 진행한다.<br>\n",
    "p-value는 0.02이므로 귀무가설(각 그룹의 평균값은 동일하다)를 기각하고 대립가설을 채택한다.<br>\n",
    "결론적으로 두 그룹은 모두 정규성을 가지지만 등분산은 아니며, 평균 또한 동일하다고 보기 어렵다."
   ]
  },
  {
   "cell_type": "code",
   "execution_count": 68,
   "id": "49e5dd11-f39e-44c8-a572-0629f2996ec8",
   "metadata": {},
   "outputs": [
    {
     "data": {
      "text/html": [
       "<div>\n",
       "<style scoped>\n",
       "    .dataframe tbody tr th:only-of-type {\n",
       "        vertical-align: middle;\n",
       "    }\n",
       "\n",
       "    .dataframe tbody tr th {\n",
       "        vertical-align: top;\n",
       "    }\n",
       "\n",
       "    .dataframe thead th {\n",
       "        text-align: right;\n",
       "    }\n",
       "</style>\n",
       "<table border=\"1\" class=\"dataframe\">\n",
       "  <thead>\n",
       "    <tr style=\"text-align: right;\">\n",
       "      <th></th>\n",
       "      <th>a</th>\n",
       "      <th>b</th>\n",
       "    </tr>\n",
       "  </thead>\n",
       "  <tbody>\n",
       "    <tr>\n",
       "      <th>0</th>\n",
       "      <td>121.023118</td>\n",
       "      <td>69.982090</td>\n",
       "    </tr>\n",
       "    <tr>\n",
       "      <th>1</th>\n",
       "      <td>69.740978</td>\n",
       "      <td>139.774624</td>\n",
       "    </tr>\n",
       "    <tr>\n",
       "      <th>2</th>\n",
       "      <td>93.737693</td>\n",
       "      <td>175.425924</td>\n",
       "    </tr>\n",
       "    <tr>\n",
       "      <th>3</th>\n",
       "      <td>100.331645</td>\n",
       "      <td>85.493555</td>\n",
       "    </tr>\n",
       "    <tr>\n",
       "      <th>4</th>\n",
       "      <td>75.048925</td>\n",
       "      <td>83.488953</td>\n",
       "    </tr>\n",
       "  </tbody>\n",
       "</table>\n",
       "</div>"
      ],
      "text/plain": [
       "            a           b\n",
       "0  121.023118   69.982090\n",
       "1   69.740978  139.774624\n",
       "2   93.737693  175.425924\n",
       "3  100.331645   85.493555\n",
       "4   75.048925   83.488953"
      ]
     },
     "execution_count": 68,
     "metadata": {},
     "output_type": "execute_result"
    }
   ],
   "source": [
    "df = pd.read_csv('https://raw.githubusercontent.com/Datamanim/datarepo/main/scipy/ind6.csv')\n",
    "df.head()"
   ]
  },
  {
   "cell_type": "code",
   "execution_count": 71,
   "id": "90a6e016-2933-4630-8130-4ba056304c0b",
   "metadata": {},
   "outputs": [
    {
     "name": "stdout",
     "output_type": "stream",
     "text": [
      "<class 'pandas.core.frame.DataFrame'>\n",
      "RangeIndex: 120 entries, 0 to 119\n",
      "Data columns (total 2 columns):\n",
      " #   Column  Non-Null Count  Dtype  \n",
      "---  ------  --------------  -----  \n",
      " 0   a       120 non-null    float64\n",
      " 1   b       70 non-null     float64\n",
      "dtypes: float64(2)\n",
      "memory usage: 2.0 KB\n"
     ]
    }
   ],
   "source": [
    "df.info()"
   ]
  },
  {
   "cell_type": "code",
   "execution_count": 70,
   "id": "b1e49aa2-3c46-4aa3-a4b8-4987b0e131fc",
   "metadata": {},
   "outputs": [
    {
     "data": {
      "image/png": "[encoded data removed]",
      "text/plain": [
       "<Figure size 640x480 with 1 Axes>"
      ]
     },
     "metadata": {},
     "output_type": "display_data"
    }
   ],
   "source": [
    "plt.hist(df['a'], label='A', alpha=0.5)\n",
    "plt.hist(df['b'], label='B', alpha=0.5)\n",
    "plt.xlabel('Score bins')\n",
    "plt.ylabel('Counts')\n",
    "plt.legend()\n",
    "plt.show()"
   ]
  },
  {
   "cell_type": "code",
   "execution_count": 72,
   "id": "44fab934-3b39-42e5-9982-fa5cc8537d7a",
   "metadata": {},
   "outputs": [],
   "source": [
    "a = df['a'].dropna()\n",
    "b = df['b'].dropna()"
   ]
  },
  {
   "cell_type": "code",
   "execution_count": 73,
   "id": "78320ff2-0e9d-4173-9e0c-a6adca314fd9",
   "metadata": {},
   "outputs": [
    {
     "name": "stdout",
     "output_type": "stream",
     "text": [
      "ShapiroResult(statistic=0.9865895509719849, pvalue=0.28390026092529297)\n",
      "ShapiroResult(statistic=0.9854326844215393, pvalue=0.5937624573707581)\n"
     ]
    }
   ],
   "source": [
    "print(shapiro(a))\n",
    "print(shapiro(b))"
   ]
  },
  {
   "cell_type": "markdown",
   "id": "b38f06a7-16cc-4d5e-a2a3-8c3f62dd644b",
   "metadata": {},
   "source": [
    "두 그룹은 모두 shapiro 검정 결과, p-value가 0.05를 넘으므로 귀무가설(정규성을 가진다)을 채택한다. 따라서 두 그룹은 정규성을 가진다."
   ]
  },
  {
   "cell_type": "code",
   "execution_count": 74,
   "id": "de2a86cf-2a2a-4df6-bdb9-27b0ae385376",
   "metadata": {},
   "outputs": [
    {
     "name": "stdout",
     "output_type": "stream",
     "text": [
      "LeveneResult(statistic=3.9862856894158347, pvalue=0.04731495612868527)\n"
     ]
    }
   ],
   "source": [
    "print(levene(a, b))"
   ]
  },
  {
   "cell_type": "markdown",
   "id": "a551bf43-80eb-47a4-af98-266095868f72",
   "metadata": {},
   "source": [
    "두 그룹은 levene 검정 결과, p-value가 0.05보다 작으므로 귀무가설(등분산이다)을 기각하고 대립가설을 채택한다. 따라서 두 그룹은 등분산이 아니다."
   ]
  },
  {
   "cell_type": "code",
   "execution_count": 75,
   "id": "05079667-ab49-40f3-89ac-e1f86aa295d2",
   "metadata": {},
   "outputs": [
    {
     "name": "stdout",
     "output_type": "stream",
     "text": [
      "Ttest_indResult(statistic=0.0015963310698567184, pvalue=0.9987289046092704)\n"
     ]
    }
   ],
   "source": [
    "print(ttest_ind(a, b, equal_var=False))"
   ]
  },
  {
   "cell_type": "markdown",
   "id": "815a782f-4002-4e54-9f0e-f5c26a1efbd1",
   "metadata": {},
   "source": [
    "등분산이 아니므로 `eqal_var=False` 파라미터를 주고, ttest_ind 모듈을 이용해 t-test를 진행한다.<br>\n",
    "이때 p-value가 0.99이므로 귀무가설(각 그룹의 평균값은 동일하다)을 채택한다.<br>\n",
    "따라서 두 그룹은 모두 정규성을 만족하나, 등분산은 아니며, 평균은 동일하다고 볼 수 있다."
   ]
  },
  {
   "cell_type": "markdown",
   "id": "5dd033c9-b226-41d7-8bd2-e1a5fd815a10",
   "metadata": {},
   "source": [
    "# 5. 대응 표본 t-검정 (paried)"
   ]
  },
  {
   "cell_type": "markdown",
   "id": "54803a2e-9730-4d02-afcc-76572926a1a2",
   "metadata": {},
   "source": [
    "- 동일한 집단의 처치 전후 차이를 알아보기 위해 사용하는 검정 방법\n",
    "- 대응 표본의 경우 등분산성이 파라미터에 영향을 주지 않는다."
   ]
  },
  {
   "cell_type": "markdown",
   "id": "e537911b-0271-489c-a8a0-3895469a9f82",
   "metadata": {},
   "source": [
    "**Question 10. 특정 질병 집단의 투약 전후의 혈류량 변화를 나타낸 데이터이다. 투약 전후의 변화가 있는지 검정하라.**"
   ]
  },
  {
   "cell_type": "code",
   "execution_count": 63,
   "id": "9496ea29-6e3f-455f-b8be-f1cd215bdf41",
   "metadata": {},
   "outputs": [
    {
     "data": {
      "text/html": [
       "<div>\n",
       "<style scoped>\n",
       "    .dataframe tbody tr th:only-of-type {\n",
       "        vertical-align: middle;\n",
       "    }\n",
       "\n",
       "    .dataframe tbody tr th {\n",
       "        vertical-align: top;\n",
       "    }\n",
       "\n",
       "    .dataframe thead th {\n",
       "        text-align: right;\n",
       "    }\n",
       "</style>\n",
       "<table border=\"1\" class=\"dataframe\">\n",
       "  <thead>\n",
       "    <tr style=\"text-align: right;\">\n",
       "      <th></th>\n",
       "      <th>before</th>\n",
       "      <th>after</th>\n",
       "    </tr>\n",
       "  </thead>\n",
       "  <tbody>\n",
       "    <tr>\n",
       "      <th>0</th>\n",
       "      <td>216.289726</td>\n",
       "      <td>175.897620</td>\n",
       "    </tr>\n",
       "    <tr>\n",
       "      <th>1</th>\n",
       "      <td>190.279454</td>\n",
       "      <td>189.295934</td>\n",
       "    </tr>\n",
       "    <tr>\n",
       "      <th>2</th>\n",
       "      <td>217.744689</td>\n",
       "      <td>219.233935</td>\n",
       "    </tr>\n",
       "    <tr>\n",
       "      <th>3</th>\n",
       "      <td>235.021264</td>\n",
       "      <td>195.021021</td>\n",
       "    </tr>\n",
       "    <tr>\n",
       "      <th>4</th>\n",
       "      <td>234.098484</td>\n",
       "      <td>213.218227</td>\n",
       "    </tr>\n",
       "  </tbody>\n",
       "</table>\n",
       "</div>"
      ],
      "text/plain": [
       "       before       after\n",
       "0  216.289726  175.897620\n",
       "1  190.279454  189.295934\n",
       "2  217.744689  219.233935\n",
       "3  235.021264  195.021021\n",
       "4  234.098484  213.218227"
      ]
     },
     "execution_count": 63,
     "metadata": {},
     "output_type": "execute_result"
    }
   ],
   "source": [
    "df = pd.read_csv('https://raw.githubusercontent.com/Datamanim/datarepo/main/scipy/rel2.csv')\n",
    "df.head()"
   ]
  },
  {
   "cell_type": "code",
   "execution_count": 64,
   "id": "ba2aac13-4059-4069-bdd5-c2a5cc8e7543",
   "metadata": {},
   "outputs": [
    {
     "name": "stdout",
     "output_type": "stream",
     "text": [
      "<class 'pandas.core.frame.DataFrame'>\n",
      "RangeIndex: 120 entries, 0 to 119\n",
      "Data columns (total 2 columns):\n",
      " #   Column  Non-Null Count  Dtype  \n",
      "---  ------  --------------  -----  \n",
      " 0   before  120 non-null    float64\n",
      " 1   after   120 non-null    float64\n",
      "dtypes: float64(2)\n",
      "memory usage: 2.0 KB\n"
     ]
    }
   ],
   "source": [
    "df.info()"
   ]
  },
  {
   "cell_type": "code",
   "execution_count": 65,
   "id": "779c7644-9024-49b1-b0dc-0cf8326399e1",
   "metadata": {},
   "outputs": [
    {
     "data": {
      "image/png": "[encoded data removed]",
      "text/plain": [
       "<Figure size 640x480 with 2 Axes>"
      ]
     },
     "metadata": {},
     "output_type": "display_data"
    }
   ],
   "source": [
    "fig ,ax = plt.subplots(1,2)\n",
    "ax[0].boxplot(df['before'])\n",
    "ax[1].boxplot(df['after'])\n",
    "ax[0].set_xticklabels(['before'])\n",
    "ax[1].set_xticklabels(['after'])\n",
    "ax[0].set_ylim(100,350)\n",
    "ax[1].set_ylim(100,350)\n",
    "ax[1].get_yaxis().set_visible(False)\n",
    "ax[0].set_ylabel('value')\n",
    "plt.show()"
   ]
  },
  {
   "cell_type": "code",
   "execution_count": 66,
   "id": "63851430-93cb-425c-bbb5-79643d744660",
   "metadata": {},
   "outputs": [
    {
     "name": "stdout",
     "output_type": "stream",
     "text": [
      "ShapiroResult(statistic=0.9907895922660828, pvalue=0.6065835952758789)\n",
      "ShapiroResult(statistic=0.9916961193084717, pvalue=0.6923638582229614)\n"
     ]
    }
   ],
   "source": [
    "before = df['before']\n",
    "after = df['after']\n",
    "\n",
    "print(shapiro(before))\n",
    "print(shapiro(after))"
   ]
  },
  {
   "cell_type": "markdown",
   "id": "5040dfd0-7a80-4a92-a11d-f2d919c164f9",
   "metadata": {},
   "source": [
    "두 그룹은 shapiro 검정 결과, p-value가 0.05를 넘으므로 귀무가설(정규성을 가진다)을 채택한다. 따라서 두 그룹은 정규성을 가진다."
   ]
  },
  {
   "cell_type": "code",
   "execution_count": 67,
   "id": "976c62b5-4e54-4e38-a4e1-8b1bf217b019",
   "metadata": {},
   "outputs": [
    {
     "name": "stdout",
     "output_type": "stream",
     "text": [
      "LeveneResult(statistic=0.06427968690211128, pvalue=0.8000741651677987)\n"
     ]
    }
   ],
   "source": [
    "print(levene(before, after))"
   ]
  },
  {
   "cell_type": "markdown",
   "id": "87189583-97d5-47b7-abfc-a0b91a2574f5",
   "metadata": {},
   "source": [
    "두 그룹은 levene 검정 결과, p-value가 0.05를 넘으므로 귀무가설(등분산이다)을 채택한다. 따라서 두 그룹은 등분산이다."
   ]
  },
  {
   "cell_type": "code",
   "execution_count": 68,
   "id": "2ebc6690-53b0-42cd-b051-cce563fac58e",
   "metadata": {},
   "outputs": [
    {
     "name": "stdout",
     "output_type": "stream",
     "text": [
      "TtestResult(statistic=-2.5535473487670677, pvalue=0.011926744724546513, df=119)\n"
     ]
    }
   ],
   "source": [
    "print(ttest_rel(before, after))"
   ]
  },
  {
   "cell_type": "markdown",
   "id": "12203500-7272-4013-8804-971cb4dc6b54",
   "metadata": {},
   "source": [
    "두 그룹은 대응 표본 t 검정 결과, p-value가 0.05보다 작으므로 귀무가설(전 후 평균은 같다)을 기각하고 대립가설을 채택하게 된다. 따라서 투약 전 후 평균은 같지 않게 된다."
   ]
  },
  {
   "cell_type": "code",
   "execution_count": 69,
   "id": "47dad8ea-a0e9-4dae-87cb-30c0152079d4",
   "metadata": {},
   "outputs": [
    {
     "data": {
      "text/html": [
       "<div>\n",
       "<style scoped>\n",
       "    .dataframe tbody tr th:only-of-type {\n",
       "        vertical-align: middle;\n",
       "    }\n",
       "\n",
       "    .dataframe tbody tr th {\n",
       "        vertical-align: top;\n",
       "    }\n",
       "\n",
       "    .dataframe thead th {\n",
       "        text-align: right;\n",
       "    }\n",
       "</style>\n",
       "<table border=\"1\" class=\"dataframe\">\n",
       "  <thead>\n",
       "    <tr style=\"text-align: right;\">\n",
       "      <th></th>\n",
       "      <th>before</th>\n",
       "      <th>after</th>\n",
       "    </tr>\n",
       "  </thead>\n",
       "  <tbody>\n",
       "    <tr>\n",
       "      <th>0</th>\n",
       "      <td>253.566615</td>\n",
       "      <td>220.857837</td>\n",
       "    </tr>\n",
       "    <tr>\n",
       "      <th>1</th>\n",
       "      <td>195.080189</td>\n",
       "      <td>209.206667</td>\n",
       "    </tr>\n",
       "    <tr>\n",
       "      <th>2</th>\n",
       "      <td>228.299690</td>\n",
       "      <td>173.070057</td>\n",
       "    </tr>\n",
       "    <tr>\n",
       "      <th>3</th>\n",
       "      <td>279.417367</td>\n",
       "      <td>222.356980</td>\n",
       "    </tr>\n",
       "    <tr>\n",
       "      <th>4</th>\n",
       "      <td>230.062210</td>\n",
       "      <td>248.371045</td>\n",
       "    </tr>\n",
       "  </tbody>\n",
       "</table>\n",
       "</div>"
      ],
      "text/plain": [
       "       before       after\n",
       "0  253.566615  220.857837\n",
       "1  195.080189  209.206667\n",
       "2  228.299690  173.070057\n",
       "3  279.417367  222.356980\n",
       "4  230.062210  248.371045"
      ]
     },
     "execution_count": 69,
     "metadata": {},
     "output_type": "execute_result"
    }
   ],
   "source": [
    "df = pd.read_csv('https://raw.githubusercontent.com/Datamanim/datarepo/main/scipy/rel3.csv')\n",
    "df.head()"
   ]
  },
  {
   "cell_type": "code",
   "execution_count": 70,
   "id": "0d81a3f1-78c7-4b0b-a0a3-52040875dc27",
   "metadata": {},
   "outputs": [
    {
     "name": "stdout",
     "output_type": "stream",
     "text": [
      "<class 'pandas.core.frame.DataFrame'>\n",
      "RangeIndex: 120 entries, 0 to 119\n",
      "Data columns (total 2 columns):\n",
      " #   Column  Non-Null Count  Dtype  \n",
      "---  ------  --------------  -----  \n",
      " 0   before  120 non-null    float64\n",
      " 1   after   120 non-null    float64\n",
      "dtypes: float64(2)\n",
      "memory usage: 2.0 KB\n"
     ]
    }
   ],
   "source": [
    "df.info()"
   ]
  },
  {
   "cell_type": "code",
   "execution_count": 71,
   "id": "886d27c3-e76c-4970-b5ad-62c849845347",
   "metadata": {},
   "outputs": [
    {
     "data": {
      "image/png": "[encoded data removed]",
      "text/plain": [
       "<Figure size 640x480 with 2 Axes>"
      ]
     },
     "metadata": {},
     "output_type": "display_data"
    }
   ],
   "source": [
    "fig ,ax = plt.subplots(1,2)\n",
    "ax[0].boxplot(df['before'])\n",
    "ax[1].boxplot(df['after'])\n",
    "ax[0].set_xticklabels(['before'])\n",
    "ax[1].set_xticklabels(['after'])\n",
    "ax[0].set_ylim(130,300)\n",
    "ax[1].set_ylim(130,300)\n",
    "ax[1].get_yaxis().set_visible(False)\n",
    "ax[0].set_ylabel('value')\n",
    "plt.show()"
   ]
  },
  {
   "cell_type": "code",
   "execution_count": 72,
   "id": "fed0a258-dfc9-4b5c-a3fc-609d41d9d220",
   "metadata": {},
   "outputs": [
    {
     "name": "stdout",
     "output_type": "stream",
     "text": [
      "ShapiroResult(statistic=0.9907895922660828, pvalue=0.6065835952758789)\n",
      "ShapiroResult(statistic=0.9916961193084717, pvalue=0.6923638582229614)\n"
     ]
    }
   ],
   "source": [
    "print(shapiro(before))\n",
    "print(shapiro(after))"
   ]
  },
  {
   "cell_type": "markdown",
   "id": "399df1d3-cb06-4814-a264-ce703009f1fb",
   "metadata": {},
   "source": [
    "두 그룹은 shapiro 검정 결과, p-value가 0.05를 넘으므로 귀무가설(정규성을 가진다)을 채택한다. 따라서 두 그룹은 정규성을 가진다."
   ]
  },
  {
   "cell_type": "code",
   "execution_count": 73,
   "id": "4a48fc96-ede2-4081-b9fd-5000dabb42af",
   "metadata": {},
   "outputs": [
    {
     "name": "stdout",
     "output_type": "stream",
     "text": [
      "LeveneResult(statistic=0.06427968690211128, pvalue=0.8000741651677987)\n"
     ]
    }
   ],
   "source": [
    "print(levene(before, after))"
   ]
  },
  {
   "cell_type": "markdown",
   "id": "3f9ec369-d053-42ea-8f7b-e4302a2aefe7",
   "metadata": {},
   "source": [
    "두 그룹은 levene 검정 결과, p-value가 0.05를 넘으므로 귀무가설(등분산이다)을 채택한다. 따라서 두 그룹은 등분산을 가진다."
   ]
  },
  {
   "cell_type": "code",
   "execution_count": 74,
   "id": "ebe28ac5-fde0-4845-a686-460464041a24",
   "metadata": {},
   "outputs": [
    {
     "name": "stdout",
     "output_type": "stream",
     "text": [
      "TtestResult(statistic=-2.5535473487670677, pvalue=0.011926744724546513, df=119)\n"
     ]
    }
   ],
   "source": [
    "print(ttest_rel(before, after))"
   ]
  },
  {
   "cell_type": "markdown",
   "id": "b9740759-2861-497e-9f8d-557c66be30d2",
   "metadata": {},
   "source": [
    "대응 표본 t-검정 결과, p-value가 0.05보다 작으므로 귀무가설(전 후 평균이 같다)을 기각한다.<br>\n",
    "따라서 투약 전 후 평균은 같지 않다."
   ]
  },
  {
   "cell_type": "code",
   "execution_count": 101,
   "id": "4f565a96-6bb4-4f44-a297-5961a24ca6fd",
   "metadata": {},
   "outputs": [
    {
     "data": {
      "text/html": [
       "<div>\n",
       "<style scoped>\n",
       "    .dataframe tbody tr th:only-of-type {\n",
       "        vertical-align: middle;\n",
       "    }\n",
       "\n",
       "    .dataframe tbody tr th {\n",
       "        vertical-align: top;\n",
       "    }\n",
       "\n",
       "    .dataframe thead th {\n",
       "        text-align: right;\n",
       "    }\n",
       "</style>\n",
       "<table border=\"1\" class=\"dataframe\">\n",
       "  <thead>\n",
       "    <tr style=\"text-align: right;\">\n",
       "      <th></th>\n",
       "      <th>before</th>\n",
       "      <th>after</th>\n",
       "    </tr>\n",
       "  </thead>\n",
       "  <tbody>\n",
       "    <tr>\n",
       "      <th>0</th>\n",
       "      <td>253.566615</td>\n",
       "      <td>220.857837</td>\n",
       "    </tr>\n",
       "    <tr>\n",
       "      <th>1</th>\n",
       "      <td>195.080189</td>\n",
       "      <td>209.206667</td>\n",
       "    </tr>\n",
       "    <tr>\n",
       "      <th>2</th>\n",
       "      <td>228.299690</td>\n",
       "      <td>173.070057</td>\n",
       "    </tr>\n",
       "    <tr>\n",
       "      <th>3</th>\n",
       "      <td>279.417367</td>\n",
       "      <td>222.356980</td>\n",
       "    </tr>\n",
       "    <tr>\n",
       "      <th>4</th>\n",
       "      <td>230.062210</td>\n",
       "      <td>248.371045</td>\n",
       "    </tr>\n",
       "  </tbody>\n",
       "</table>\n",
       "</div>"
      ],
      "text/plain": [
       "       before       after\n",
       "0  253.566615  220.857837\n",
       "1  195.080189  209.206667\n",
       "2  228.299690  173.070057\n",
       "3  279.417367  222.356980\n",
       "4  230.062210  248.371045"
      ]
     },
     "execution_count": 101,
     "metadata": {},
     "output_type": "execute_result"
    }
   ],
   "source": [
    "df = pd.read_csv('https://raw.githubusercontent.com/Datamanim/datarepo/main/scipy/rel3.csv')\n",
    "df.head()"
   ]
  },
  {
   "cell_type": "code",
   "execution_count": 102,
   "id": "f4598ded-a2d1-49fb-b67c-36e4028ddd5e",
   "metadata": {},
   "outputs": [
    {
     "name": "stdout",
     "output_type": "stream",
     "text": [
      "<class 'pandas.core.frame.DataFrame'>\n",
      "RangeIndex: 120 entries, 0 to 119\n",
      "Data columns (total 2 columns):\n",
      " #   Column  Non-Null Count  Dtype  \n",
      "---  ------  --------------  -----  \n",
      " 0   before  120 non-null    float64\n",
      " 1   after   120 non-null    float64\n",
      "dtypes: float64(2)\n",
      "memory usage: 2.0 KB\n"
     ]
    }
   ],
   "source": [
    "df.info()"
   ]
  },
  {
   "cell_type": "code",
   "execution_count": 103,
   "id": "3468eaed-7238-4674-ab0b-67152bae308c",
   "metadata": {},
   "outputs": [
    {
     "data": {
      "image/png": "[encoded data removed]",
      "text/plain": [
       "<Figure size 640x480 with 2 Axes>"
      ]
     },
     "metadata": {},
     "output_type": "display_data"
    }
   ],
   "source": [
    "fig ,ax = plt.subplots(1,2)\n",
    "ax[0].boxplot(df['before'])\n",
    "ax[1].boxplot(df['after'])\n",
    "ax[0].set_xticklabels(['before'])\n",
    "ax[1].set_xticklabels(['after'])\n",
    "ax[0].set_ylim(130,300)\n",
    "ax[1].set_ylim(130,300)\n",
    "ax[1].get_yaxis().set_visible(False)\n",
    "ax[0].set_ylabel('value')\n",
    "plt.show()"
   ]
  },
  {
   "cell_type": "code",
   "execution_count": 104,
   "id": "b3536020-c240-4e4f-92c3-9f1dab2fe8f3",
   "metadata": {},
   "outputs": [
    {
     "name": "stdout",
     "output_type": "stream",
     "text": [
      "ShapiroResult(statistic=0.9907895922660828, pvalue=0.6065835952758789)\n",
      "ShapiroResult(statistic=0.9916961193084717, pvalue=0.6923638582229614)\n"
     ]
    }
   ],
   "source": [
    "print(shapiro(before))\n",
    "print(shapiro(after))"
   ]
  },
  {
   "cell_type": "markdown",
   "id": "c24ac216-03ca-4c05-97b6-4f6c8cc32642",
   "metadata": {},
   "source": [
    "두 그룹 모두 p-value가 0.05를 넘으므로 귀무가설을 채택한다. 따라서 정규성을 만족한다."
   ]
  },
  {
   "cell_type": "code",
   "execution_count": 105,
   "id": "82c0cd23-e74a-4760-91d0-978d89daa17e",
   "metadata": {},
   "outputs": [
    {
     "name": "stdout",
     "output_type": "stream",
     "text": [
      "LeveneResult(statistic=0.06427968690211128, pvalue=0.8000741651677987)\n"
     ]
    }
   ],
   "source": [
    "print(levene(before, after))"
   ]
  },
  {
   "cell_type": "markdown",
   "id": "9d07054b-8d09-4798-a14c-0855bb6e6470",
   "metadata": {},
   "source": [
    "levene 검정 결과 p-value가 0.05를 넘으므로 귀무가설을 채택한다. 따라서 등분산을 가진다."
   ]
  },
  {
   "cell_type": "code",
   "execution_count": 106,
   "id": "680cb9d2-5e28-427c-a661-284e0c2e5bc9",
   "metadata": {},
   "outputs": [
    {
     "name": "stdout",
     "output_type": "stream",
     "text": [
      "TtestResult(statistic=-2.5535473487670677, pvalue=0.011926744724546513, df=119)\n"
     ]
    }
   ],
   "source": [
    "print(ttest_rel(before, after))"
   ]
  },
  {
   "cell_type": "markdown",
   "id": "5e5e0343-b61b-408e-b2c7-aea091f52acd",
   "metadata": {},
   "source": [
    "p-value가 0.05를 넘으므로 귀무가설(전 후 평균은 같다)을 기각한다.<br>\n",
    "따라서 투약 전 후 평균은 같지 않다."
   ]
  },
  {
   "cell_type": "code",
   "execution_count": 108,
   "id": "300e4a4b-50ae-40db-9861-92f8b63e7bbb",
   "metadata": {},
   "outputs": [
    {
     "data": {
      "text/html": [
       "<div>\n",
       "<style scoped>\n",
       "    .dataframe tbody tr th:only-of-type {\n",
       "        vertical-align: middle;\n",
       "    }\n",
       "\n",
       "    .dataframe tbody tr th {\n",
       "        vertical-align: top;\n",
       "    }\n",
       "\n",
       "    .dataframe thead th {\n",
       "        text-align: right;\n",
       "    }\n",
       "</style>\n",
       "<table border=\"1\" class=\"dataframe\">\n",
       "  <thead>\n",
       "    <tr style=\"text-align: right;\">\n",
       "      <th></th>\n",
       "      <th>before</th>\n",
       "      <th>after</th>\n",
       "    </tr>\n",
       "  </thead>\n",
       "  <tbody>\n",
       "    <tr>\n",
       "      <th>0</th>\n",
       "      <td>153</td>\n",
       "      <td>162</td>\n",
       "    </tr>\n",
       "    <tr>\n",
       "      <th>1</th>\n",
       "      <td>153</td>\n",
       "      <td>163</td>\n",
       "    </tr>\n",
       "    <tr>\n",
       "      <th>2</th>\n",
       "      <td>158</td>\n",
       "      <td>159</td>\n",
       "    </tr>\n",
       "    <tr>\n",
       "      <th>3</th>\n",
       "      <td>157</td>\n",
       "      <td>158</td>\n",
       "    </tr>\n",
       "    <tr>\n",
       "      <th>4</th>\n",
       "      <td>167</td>\n",
       "      <td>160</td>\n",
       "    </tr>\n",
       "  </tbody>\n",
       "</table>\n",
       "</div>"
      ],
      "text/plain": [
       "   before  after\n",
       "0     153    162\n",
       "1     153    163\n",
       "2     158    159\n",
       "3     157    158\n",
       "4     167    160"
      ]
     },
     "execution_count": 108,
     "metadata": {},
     "output_type": "execute_result"
    }
   ],
   "source": [
    "df = pd.read_csv('https://raw.githubusercontent.com/Datamanim/datarepo/main/scipy/rel1.csv')\n",
    "df.head()"
   ]
  },
  {
   "cell_type": "code",
   "execution_count": 109,
   "id": "a215b8d7-b497-479a-9b1f-39297a8ebf75",
   "metadata": {},
   "outputs": [
    {
     "name": "stdout",
     "output_type": "stream",
     "text": [
      "<class 'pandas.core.frame.DataFrame'>\n",
      "RangeIndex: 50 entries, 0 to 49\n",
      "Data columns (total 2 columns):\n",
      " #   Column  Non-Null Count  Dtype\n",
      "---  ------  --------------  -----\n",
      " 0   before  50 non-null     int64\n",
      " 1   after   50 non-null     int64\n",
      "dtypes: int64(2)\n",
      "memory usage: 928.0 bytes\n"
     ]
    }
   ],
   "source": [
    "df.info()"
   ]
  },
  {
   "cell_type": "code",
   "execution_count": 110,
   "id": "117acaf3-c9bb-42d1-8685-a343a34491a0",
   "metadata": {},
   "outputs": [
    {
     "data": {
      "image/png": "[encoded data removed]",
      "text/plain": [
       "<Figure size 640x480 with 2 Axes>"
      ]
     },
     "metadata": {},
     "output_type": "display_data"
    }
   ],
   "source": [
    "fig ,ax = plt.subplots(1,2)\n",
    "ax[0].boxplot(df['before'])\n",
    "ax[1].boxplot(df['after'])\n",
    "ax[0].set_xticklabels(['before'])\n",
    "ax[1].set_xticklabels(['after'])\n",
    "ax[0].set_ylim(145,170)\n",
    "ax[1].set_ylim(145,170)\n",
    "ax[1].get_yaxis().set_visible(False)\n",
    "ax[0].set_ylabel('value')\n",
    "plt.show()"
   ]
  },
  {
   "cell_type": "code",
   "execution_count": 111,
   "id": "9a56ad07-3e66-48ca-8e09-10aba8eb9b76",
   "metadata": {},
   "outputs": [
    {
     "name": "stdout",
     "output_type": "stream",
     "text": [
      "ShapiroResult(statistic=0.9907895922660828, pvalue=0.6065835952758789)\n",
      "ShapiroResult(statistic=0.9916961193084717, pvalue=0.6923638582229614)\n"
     ]
    }
   ],
   "source": [
    "print(shapiro(before))\n",
    "print(shapiro(after))"
   ]
  },
  {
   "cell_type": "markdown",
   "id": "168748be-38cf-466e-b984-3c0b819ac2f1",
   "metadata": {},
   "source": [
    "두 그룹 모두 p-value가 0.05를 넘으므로 귀무가설을 채택한다. 따라서 정규성을 가진다."
   ]
  },
  {
   "cell_type": "code",
   "execution_count": 112,
   "id": "45223661-ee3e-4dc9-81ee-4258c37956a8",
   "metadata": {},
   "outputs": [
    {
     "name": "stdout",
     "output_type": "stream",
     "text": [
      "LeveneResult(statistic=0.06427968690211128, pvalue=0.8000741651677987)\n"
     ]
    }
   ],
   "source": [
    "print(levene(before, after))"
   ]
  },
  {
   "cell_type": "markdown",
   "id": "964f9d6a-fb8c-463b-95a7-60a963c62349",
   "metadata": {},
   "source": [
    "levene 검정 결과 p-value가 0.05를 넘으므로 귀무가설을 채택한다. 따라서 등분산을 가진다."
   ]
  },
  {
   "cell_type": "code",
   "execution_count": 113,
   "id": "0ab4c064-6948-4c1a-992b-78b4e231dd79",
   "metadata": {},
   "outputs": [
    {
     "name": "stdout",
     "output_type": "stream",
     "text": [
      "TtestResult(statistic=-2.5535473487670677, pvalue=0.011926744724546513, df=119)\n"
     ]
    }
   ],
   "source": [
    "print(ttest_rel(before, after))"
   ]
  },
  {
   "cell_type": "markdown",
   "id": "dc1eff86-badb-4a0b-b8ff-1a74a52d77ad",
   "metadata": {},
   "source": [
    "p-vlaue가 0.05를 넘지 않으므로 귀무가설을 채택한다. 따라서 투약 전 후 평균은 같다."
   ]
  },
  {
   "cell_type": "code",
   "execution_count": 114,
   "id": "0f67d8e7-b7a3-479b-a1c4-03f72b984647",
   "metadata": {},
   "outputs": [
    {
     "name": "stdout",
     "output_type": "stream",
     "text": [
      "WilcoxonResult(statistic=2577.0, pvalue=0.005821508354384096)\n"
     ]
    }
   ],
   "source": [
    "print(wilcoxon(before, after))"
   ]
  },
  {
   "cell_type": "markdown",
   "id": "b615b17b-1f47-4df0-b438-fc06eacc1c81",
   "metadata": {},
   "source": [
    "p-value가 0.05를 넘지 않으므로 귀무가설을 기각하고 대립가설을 채택한다. 따라서 투약 전 후 평균은 같지 않다."
   ]
  },
  {
   "cell_type": "markdown",
   "id": "76db8ec6-a515-475e-9b82-b8222316d8ee",
   "metadata": {},
   "source": [
    "**Question 11. 한 기계 부품의 rpm 수치를 두 가지 다른 상황에서 측정했다(총 70세트). b 상황이 a 상황보다 rpm값이 높다고 말할 수 있는지 검정하라.**"
   ]
  },
  {
   "cell_type": "code",
   "execution_count": 137,
   "id": "42546f1c-0c49-4724-a893-91da7f682fc2",
   "metadata": {},
   "outputs": [
    {
     "data": {
      "text/html": [
       "<div>\n",
       "<style scoped>\n",
       "    .dataframe tbody tr th:only-of-type {\n",
       "        vertical-align: middle;\n",
       "    }\n",
       "\n",
       "    .dataframe tbody tr th {\n",
       "        vertical-align: top;\n",
       "    }\n",
       "\n",
       "    .dataframe thead th {\n",
       "        text-align: right;\n",
       "    }\n",
       "</style>\n",
       "<table border=\"1\" class=\"dataframe\">\n",
       "  <thead>\n",
       "    <tr style=\"text-align: right;\">\n",
       "      <th></th>\n",
       "      <th>rpm</th>\n",
       "      <th>group</th>\n",
       "    </tr>\n",
       "  </thead>\n",
       "  <tbody>\n",
       "    <tr>\n",
       "      <th>0</th>\n",
       "      <td>474.551593</td>\n",
       "      <td>a</td>\n",
       "    </tr>\n",
       "    <tr>\n",
       "      <th>1</th>\n",
       "      <td>450.548420</td>\n",
       "      <td>a</td>\n",
       "    </tr>\n",
       "    <tr>\n",
       "      <th>2</th>\n",
       "      <td>563.720934</td>\n",
       "      <td>a</td>\n",
       "    </tr>\n",
       "    <tr>\n",
       "      <th>3</th>\n",
       "      <td>506.886966</td>\n",
       "      <td>a</td>\n",
       "    </tr>\n",
       "    <tr>\n",
       "      <th>4</th>\n",
       "      <td>471.724049</td>\n",
       "      <td>a</td>\n",
       "    </tr>\n",
       "  </tbody>\n",
       "</table>\n",
       "</div>"
      ],
      "text/plain": [
       "          rpm group\n",
       "0  474.551593     a\n",
       "1  450.548420     a\n",
       "2  563.720934     a\n",
       "3  506.886966     a\n",
       "4  471.724049     a"
      ]
     },
     "execution_count": 137,
     "metadata": {},
     "output_type": "execute_result"
    }
   ],
   "source": [
    "df = pd.read_csv('https://raw.githubusercontent.com/Datamanim/datarepo/main/scipy/rel4.csv')\n",
    "df.head()"
   ]
  },
  {
   "cell_type": "code",
   "execution_count": 138,
   "id": "a5d53ee5-4f98-4b74-a8b2-4d1292e717bc",
   "metadata": {},
   "outputs": [
    {
     "name": "stdout",
     "output_type": "stream",
     "text": [
      "<class 'pandas.core.frame.DataFrame'>\n",
      "RangeIndex: 140 entries, 0 to 139\n",
      "Data columns (total 2 columns):\n",
      " #   Column  Non-Null Count  Dtype  \n",
      "---  ------  --------------  -----  \n",
      " 0   rpm     140 non-null    float64\n",
      " 1   group   140 non-null    object \n",
      "dtypes: float64(1), object(1)\n",
      "memory usage: 2.3+ KB\n"
     ]
    }
   ],
   "source": [
    "df.info()"
   ]
  },
  {
   "cell_type": "code",
   "execution_count": 139,
   "id": "901c4945-7c3a-465e-b2f3-5579d40ac6c8",
   "metadata": {},
   "outputs": [
    {
     "data": {
      "image/png": "[encoded data removed]",
      "text/plain": [
       "<Figure size 640x480 with 2 Axes>"
      ]
     },
     "metadata": {},
     "output_type": "display_data"
    }
   ],
   "source": [
    "fig ,ax = plt.subplots(1,2)\n",
    "ax[0].boxplot(df[df['group']=='a'].rpm)\n",
    "ax[1].boxplot(df[df['group']=='b'].rpm)\n",
    "ax[0].set_xticklabels(['a'])\n",
    "ax[1].set_xticklabels(['b'])\n",
    "ax[0].set_ylim(430,600)\n",
    "ax[1].set_ylim(430,600)\n",
    "ax[1].get_yaxis().set_visible(False)\n",
    "ax[0].set_ylabel('rpm')\n",
    "plt.show()"
   ]
  },
  {
   "cell_type": "code",
   "execution_count": 140,
   "id": "71ee8523-d8af-40bf-a2d5-7cfdc35baf1e",
   "metadata": {},
   "outputs": [
    {
     "name": "stdout",
     "output_type": "stream",
     "text": [
      "ShapiroResult(statistic=0.9907217025756836, pvalue=0.8884284496307373)\n",
      "ShapiroResult(statistic=0.984674870967865, pvalue=0.5505106449127197)\n"
     ]
    }
   ],
   "source": [
    "a = df[df['group']=='a'].rpm\n",
    "b =  df[df['group']=='b'].rpm\n",
    "\n",
    "print(shapiro(a))\n",
    "print(shapiro(b))"
   ]
  },
  {
   "cell_type": "markdown",
   "id": "dc2ca62d-df1b-4a7b-8f61-a2d0a3473107",
   "metadata": {},
   "source": [
    "귀무가설을 기각하지 못하므로 정규성을 가진다."
   ]
  },
  {
   "cell_type": "code",
   "execution_count": 141,
   "id": "82eb24c4-a879-4540-a4e1-33573988efd7",
   "metadata": {},
   "outputs": [
    {
     "name": "stdout",
     "output_type": "stream",
     "text": [
      "LeveneResult(statistic=0.06716114122680159, pvalue=0.7959020864923277)\n"
     ]
    }
   ],
   "source": [
    "print(levene(a, b))"
   ]
  },
  {
   "cell_type": "markdown",
   "id": "61990c70-ac31-49a7-83c6-ccd4adc34927",
   "metadata": {},
   "source": [
    "귀무가설을 기각하지 못하므로 등분산을 가진다."
   ]
  },
  {
   "cell_type": "code",
   "execution_count": 142,
   "id": "68757d13-01ce-44de-ad9d-54f9a51d84c9",
   "metadata": {},
   "outputs": [
    {
     "name": "stdout",
     "output_type": "stream",
     "text": [
      "TtestResult(statistic=1.9018108294460812, pvalue=0.030685663464464715, df=69)\n"
     ]
    }
   ],
   "source": [
    "print(ttest_rel(b, a, alternative='greater')) # greater의 의미는 a>b가 대립가설이 된다는 것"
   ]
  },
  {
   "cell_type": "markdown",
   "id": "e3904ddc-9402-487b-a4b5-c5046657c1b2",
   "metadata": {},
   "source": [
    "p-value가 0.05를 넘지 않으므로 귀무가설을 기각하고 대립가설을 채택한다. 따라서 b 상황이 a 상황보다 rpm 값이 높다고 할 수 있다."
   ]
  },
  {
   "cell_type": "markdown",
   "id": "b9536c4c-99f7-4591-bc85-5d406ba009ff",
   "metadata": {
    "tags": []
   },
   "source": [
    "# 6. 카이제곱 검정 (교차분석)"
   ]
  },
  {
   "cell_type": "markdown",
   "id": "56849fd9-44d9-4624-b022-d9e705d8cd5b",
   "metadata": {},
   "source": [
    "- **일원 카이제곱검정(chisquare, 카이제곱 적합도 검정)**\n",
    "  - 한 개의 요인에 의해 k개의 범주를 가질 때 이론적 분포를 따르는지에 대한 검정\n",
    "- **이원 카이제곱검정(chi2_contingency, fisher_exact(빈도수 5개 이하 셀이 20% 이상일 때), 카이제곱독립검정)**\n",
    "  - 모집단이 두 개의 변수에 의해 범주화되었을 때 두 변수들 사이의 관계가 독립인지 아닌지 검정"
   ]
  },
  {
   "cell_type": "markdown",
   "id": "d66243bd-a600-4efc-b981-a8f751542a05",
   "metadata": {},
   "source": [
    "**Question 12. 144회 주사위를 던졌을 때, 눈금별로 나온 횟수를 나타낸다. 이 데이터는 주사위의 분포에서 나올 가능성이 있는지 검정하라.**"
   ]
  },
  {
   "cell_type": "code",
   "execution_count": 121,
   "id": "72c6eeba-285b-45ae-9016-5b936dcaa6e0",
   "metadata": {},
   "outputs": [
    {
     "data": {
      "text/html": [
       "<div>\n",
       "<style scoped>\n",
       "    .dataframe tbody tr th:only-of-type {\n",
       "        vertical-align: middle;\n",
       "    }\n",
       "\n",
       "    .dataframe tbody tr th {\n",
       "        vertical-align: top;\n",
       "    }\n",
       "\n",
       "    .dataframe thead th {\n",
       "        text-align: right;\n",
       "    }\n",
       "</style>\n",
       "<table border=\"1\" class=\"dataframe\">\n",
       "  <thead>\n",
       "    <tr style=\"text-align: right;\">\n",
       "      <th></th>\n",
       "      <th>dice_number</th>\n",
       "      <th>counts</th>\n",
       "    </tr>\n",
       "  </thead>\n",
       "  <tbody>\n",
       "    <tr>\n",
       "      <th>0</th>\n",
       "      <td>1</td>\n",
       "      <td>24</td>\n",
       "    </tr>\n",
       "    <tr>\n",
       "      <th>1</th>\n",
       "      <td>2</td>\n",
       "      <td>20</td>\n",
       "    </tr>\n",
       "    <tr>\n",
       "      <th>2</th>\n",
       "      <td>3</td>\n",
       "      <td>28</td>\n",
       "    </tr>\n",
       "    <tr>\n",
       "      <th>3</th>\n",
       "      <td>4</td>\n",
       "      <td>22</td>\n",
       "    </tr>\n",
       "    <tr>\n",
       "      <th>4</th>\n",
       "      <td>5</td>\n",
       "      <td>28</td>\n",
       "    </tr>\n",
       "  </tbody>\n",
       "</table>\n",
       "</div>"
      ],
      "text/plain": [
       "   dice_number  counts\n",
       "0            1      24\n",
       "1            2      20\n",
       "2            3      28\n",
       "3            4      22\n",
       "4            5      28"
      ]
     },
     "execution_count": 121,
     "metadata": {},
     "output_type": "execute_result"
    }
   ],
   "source": [
    "df = pd.read_csv('https://raw.githubusercontent.com/Datamanim/datarepo/main/scipy/dice.csv')\n",
    "df.head()"
   ]
  },
  {
   "cell_type": "code",
   "execution_count": 122,
   "id": "dc900cf8-502e-4e9b-88e6-eaaf80caf5f0",
   "metadata": {},
   "outputs": [
    {
     "name": "stdout",
     "output_type": "stream",
     "text": [
      "<class 'pandas.core.frame.DataFrame'>\n",
      "RangeIndex: 6 entries, 0 to 5\n",
      "Data columns (total 2 columns):\n",
      " #   Column       Non-Null Count  Dtype\n",
      "---  ------       --------------  -----\n",
      " 0   dice_number  6 non-null      int64\n",
      " 1   counts       6 non-null      int64\n",
      "dtypes: int64(2)\n",
      "memory usage: 224.0 bytes\n"
     ]
    }
   ],
   "source": [
    "df.info()"
   ]
  },
  {
   "cell_type": "code",
   "execution_count": 123,
   "id": "71908249-155d-4a71-b794-ddbc88a5d1b6",
   "metadata": {},
   "outputs": [
    {
     "data": {
      "image/png": "[encoded data removed]",
      "text/plain": [
       "<Figure size 640x480 with 1 Axes>"
      ]
     },
     "metadata": {},
     "output_type": "display_data"
    }
   ],
   "source": [
    "plt.bar(df.dice_number,df.counts)\n",
    "plt.xlabel('dice value')\n",
    "plt.ylabel('counts')\n",
    "plt.show()"
   ]
  },
  {
   "cell_type": "code",
   "execution_count": 124,
   "id": "268d3d6b-065d-475d-af52-59c557bd17c2",
   "metadata": {},
   "outputs": [
    {
     "name": "stdout",
     "output_type": "stream",
     "text": [
      "Power_divergenceResult(statistic=2.333333333333333, pvalue=0.8013589222076911)\n"
     ]
    }
   ],
   "source": [
    "df['expected'] = (df['counts'].sum()/6).astype('int')\n",
    "print(chisquare(df.counts, df.expected)) "
   ]
  },
  {
   "cell_type": "markdown",
   "id": "d6357c2f-bd74-4f40-b128-6552435ea1df",
   "metadata": {},
   "source": [
    "p-value가 0.05를 넘지 않으므로 귀무가설을 채택한다. 따라서 각 주사위 눈금 발생 비율을 동일하다고 할 수 있다."
   ]
  },
  {
   "cell_type": "markdown",
   "id": "4a65edf0-eba9-470c-b4a4-81a1c7a483b7",
   "metadata": {},
   "source": [
    "**Question 13. 다음 데이터는 어떤 집단의 왼손잡이, 오른손 잡이의 숫자를 나타낸다. 인간의 왼손잡이와 오른손잡이의 비율을 0.2:0.8로 알려져있다.\n",
    "이 집단에서 왼손과 오른손 잡이의 비율이 적합한지 검정하라.**"
   ]
  },
  {
   "cell_type": "code",
   "execution_count": 125,
   "id": "2e6a5450-19cb-45d7-b74f-061a30804c60",
   "metadata": {},
   "outputs": [
    {
     "data": {
      "text/html": [
       "<div>\n",
       "<style scoped>\n",
       "    .dataframe tbody tr th:only-of-type {\n",
       "        vertical-align: middle;\n",
       "    }\n",
       "\n",
       "    .dataframe tbody tr th {\n",
       "        vertical-align: top;\n",
       "    }\n",
       "\n",
       "    .dataframe thead th {\n",
       "        text-align: right;\n",
       "    }\n",
       "</style>\n",
       "<table border=\"1\" class=\"dataframe\">\n",
       "  <thead>\n",
       "    <tr style=\"text-align: right;\">\n",
       "      <th></th>\n",
       "      <th>hands</th>\n",
       "    </tr>\n",
       "  </thead>\n",
       "  <tbody>\n",
       "    <tr>\n",
       "      <th>0</th>\n",
       "      <td>right</td>\n",
       "    </tr>\n",
       "    <tr>\n",
       "      <th>1</th>\n",
       "      <td>right</td>\n",
       "    </tr>\n",
       "    <tr>\n",
       "      <th>2</th>\n",
       "      <td>left</td>\n",
       "    </tr>\n",
       "    <tr>\n",
       "      <th>3</th>\n",
       "      <td>right</td>\n",
       "    </tr>\n",
       "    <tr>\n",
       "      <th>4</th>\n",
       "      <td>right</td>\n",
       "    </tr>\n",
       "  </tbody>\n",
       "</table>\n",
       "</div>"
      ],
      "text/plain": [
       "   hands\n",
       "0  right\n",
       "1  right\n",
       "2   left\n",
       "3  right\n",
       "4  right"
      ]
     },
     "execution_count": 125,
     "metadata": {},
     "output_type": "execute_result"
    }
   ],
   "source": [
    "df = pd.read_csv('https://raw.githubusercontent.com/Datamanim/datarepo/main/scipy/hands2.csv')\n",
    "df.head()"
   ]
  },
  {
   "cell_type": "code",
   "execution_count": 126,
   "id": "9cd718da-8730-4e80-8cd0-33026c0c4cc4",
   "metadata": {},
   "outputs": [
    {
     "name": "stdout",
     "output_type": "stream",
     "text": [
      "<class 'pandas.core.frame.DataFrame'>\n",
      "RangeIndex: 500 entries, 0 to 499\n",
      "Data columns (total 1 columns):\n",
      " #   Column  Non-Null Count  Dtype \n",
      "---  ------  --------------  ----- \n",
      " 0   hands   500 non-null    object\n",
      "dtypes: object(1)\n",
      "memory usage: 4.0+ KB\n"
     ]
    }
   ],
   "source": [
    "df.info()"
   ]
  },
  {
   "cell_type": "markdown",
   "id": "d5f21f7b-a69b-4c3a-8193-6750a284f7e9",
   "metadata": {},
   "source": [
    "데이터에서 알려진 비율로 계산된 기댓값을 구하여 카이제곱검정을 시행한다."
   ]
  },
  {
   "cell_type": "code",
   "execution_count": 127,
   "id": "6da4f82d-7de9-41a2-b13f-74392194dd2d",
   "metadata": {},
   "outputs": [
    {
     "data": {
      "text/html": [
       "<div>\n",
       "<style scoped>\n",
       "    .dataframe tbody tr th:only-of-type {\n",
       "        vertical-align: middle;\n",
       "    }\n",
       "\n",
       "    .dataframe tbody tr th {\n",
       "        vertical-align: top;\n",
       "    }\n",
       "\n",
       "    .dataframe thead th {\n",
       "        text-align: right;\n",
       "    }\n",
       "</style>\n",
       "<table border=\"1\" class=\"dataframe\">\n",
       "  <thead>\n",
       "    <tr style=\"text-align: right;\">\n",
       "      <th></th>\n",
       "      <th>hands</th>\n",
       "      <th>expected</th>\n",
       "    </tr>\n",
       "  </thead>\n",
       "  <tbody>\n",
       "    <tr>\n",
       "      <th>right</th>\n",
       "      <td>420</td>\n",
       "      <td>400</td>\n",
       "    </tr>\n",
       "    <tr>\n",
       "      <th>left</th>\n",
       "      <td>80</td>\n",
       "      <td>100</td>\n",
       "    </tr>\n",
       "  </tbody>\n",
       "</table>\n",
       "</div>"
      ],
      "text/plain": [
       "       hands  expected\n",
       "right    420       400\n",
       "left      80       100"
      ]
     },
     "metadata": {},
     "output_type": "display_data"
    }
   ],
   "source": [
    "target = df.hands.value_counts().to_frame()\n",
    "target['expected'] = [int(target.hands.sum()*0.8), int(target.hands.sum()*0.2)]\n",
    "display(target)"
   ]
  },
  {
   "cell_type": "code",
   "execution_count": 128,
   "id": "60fb53b3-aa67-4830-8d59-5fc9cda02e18",
   "metadata": {},
   "outputs": [
    {
     "name": "stdout",
     "output_type": "stream",
     "text": [
      "Power_divergenceResult(statistic=5.0, pvalue=0.025347318677468325)\n"
     ]
    }
   ],
   "source": [
    "print(chisquare(target.hands, target.expected))"
   ]
  },
  {
   "cell_type": "markdown",
   "id": "4bf5b621-7782-44d4-b6db-2747896654f8",
   "metadata": {},
   "source": [
    "p-value가 0.05를 넘지 않으므로 대립가설을 채택한다. 따라서 왼손과 오른손 잡이의 비율이 0.2, 0.8이라고 볼 수 없다."
   ]
  },
  {
   "cell_type": "markdown",
   "id": "22483516-fc17-46f5-83ab-f634d97c8650",
   "metadata": {},
   "source": [
    "**Question 14. 다음 데이터는 국민 기초체력을 조사한 데이터이다. 성별과 등급이 독립적인지 검정하라.**"
   ]
  },
  {
   "cell_type": "code",
   "execution_count": 129,
   "id": "a064090a-7911-4f8b-9d47-ac7a48db43a0",
   "metadata": {},
   "outputs": [
    {
     "data": {
      "text/html": [
       "<div>\n",
       "<style scoped>\n",
       "    .dataframe tbody tr th:only-of-type {\n",
       "        vertical-align: middle;\n",
       "    }\n",
       "\n",
       "    .dataframe tbody tr th {\n",
       "        vertical-align: top;\n",
       "    }\n",
       "\n",
       "    .dataframe thead th {\n",
       "        text-align: right;\n",
       "    }\n",
       "</style>\n",
       "<table border=\"1\" class=\"dataframe\">\n",
       "  <thead>\n",
       "    <tr style=\"text-align: right;\">\n",
       "      <th></th>\n",
       "      <th>측정나이</th>\n",
       "      <th>측정회원성별</th>\n",
       "      <th>신장 : cm</th>\n",
       "      <th>체중 : kg</th>\n",
       "      <th>체지방율 : %</th>\n",
       "      <th>이완기혈압(최저) : mmHg</th>\n",
       "      <th>수축기혈압(최고) : mmHg</th>\n",
       "      <th>악력D : kg</th>\n",
       "      <th>앉아윗몸앞으로굽히기 : cm</th>\n",
       "      <th>교차윗몸일으키기 : 회</th>\n",
       "      <th>제자리 멀리뛰기 : cm</th>\n",
       "      <th>등급</th>\n",
       "    </tr>\n",
       "  </thead>\n",
       "  <tbody>\n",
       "    <tr>\n",
       "      <th>0</th>\n",
       "      <td>59.0</td>\n",
       "      <td>M</td>\n",
       "      <td>175.0</td>\n",
       "      <td>70.6</td>\n",
       "      <td>19.2</td>\n",
       "      <td>91.0</td>\n",
       "      <td>150.0</td>\n",
       "      <td>40.6</td>\n",
       "      <td>12.2</td>\n",
       "      <td>30.0</td>\n",
       "      <td>179.0</td>\n",
       "      <td>C</td>\n",
       "    </tr>\n",
       "    <tr>\n",
       "      <th>1</th>\n",
       "      <td>40.0</td>\n",
       "      <td>F</td>\n",
       "      <td>161.4</td>\n",
       "      <td>45.8</td>\n",
       "      <td>21.7</td>\n",
       "      <td>62.0</td>\n",
       "      <td>119.0</td>\n",
       "      <td>22.1</td>\n",
       "      <td>16.0</td>\n",
       "      <td>32.0</td>\n",
       "      <td>165.0</td>\n",
       "      <td>B</td>\n",
       "    </tr>\n",
       "    <tr>\n",
       "      <th>2</th>\n",
       "      <td>27.0</td>\n",
       "      <td>M</td>\n",
       "      <td>176.6</td>\n",
       "      <td>84.8</td>\n",
       "      <td>19.2</td>\n",
       "      <td>87.0</td>\n",
       "      <td>153.0</td>\n",
       "      <td>45.9</td>\n",
       "      <td>13.2</td>\n",
       "      <td>61.0</td>\n",
       "      <td>216.0</td>\n",
       "      <td>B</td>\n",
       "    </tr>\n",
       "    <tr>\n",
       "      <th>3</th>\n",
       "      <td>38.0</td>\n",
       "      <td>M</td>\n",
       "      <td>167.6</td>\n",
       "      <td>76.7</td>\n",
       "      <td>24.7</td>\n",
       "      <td>63.0</td>\n",
       "      <td>132.0</td>\n",
       "      <td>43.6</td>\n",
       "      <td>16.0</td>\n",
       "      <td>45.0</td>\n",
       "      <td>231.0</td>\n",
       "      <td>A</td>\n",
       "    </tr>\n",
       "    <tr>\n",
       "      <th>4</th>\n",
       "      <td>21.0</td>\n",
       "      <td>M</td>\n",
       "      <td>165.2</td>\n",
       "      <td>66.2</td>\n",
       "      <td>21.5</td>\n",
       "      <td>83.0</td>\n",
       "      <td>106.0</td>\n",
       "      <td>33.5</td>\n",
       "      <td>10.6</td>\n",
       "      <td>46.0</td>\n",
       "      <td>198.0</td>\n",
       "      <td>C</td>\n",
       "    </tr>\n",
       "  </tbody>\n",
       "</table>\n",
       "</div>"
      ],
      "text/plain": [
       "   측정나이 측정회원성별  신장 : cm  체중 : kg  체지방율 : %  이완기혈압(최저) : mmHg  \\\n",
       "0  59.0      M    175.0     70.6      19.2              91.0   \n",
       "1  40.0      F    161.4     45.8      21.7              62.0   \n",
       "2  27.0      M    176.6     84.8      19.2              87.0   \n",
       "3  38.0      M    167.6     76.7      24.7              63.0   \n",
       "4  21.0      M    165.2     66.2      21.5              83.0   \n",
       "\n",
       "   수축기혈압(최고) : mmHg  악력D : kg  앉아윗몸앞으로굽히기 : cm  교차윗몸일으키기 : 회  제자리 멀리뛰기 : cm 등급  \n",
       "0             150.0      40.6             12.2          30.0          179.0  C  \n",
       "1             119.0      22.1             16.0          32.0          165.0  B  \n",
       "2             153.0      45.9             13.2          61.0          216.0  B  \n",
       "3             132.0      43.6             16.0          45.0          231.0  A  \n",
       "4             106.0      33.5             10.6          46.0          198.0  C  "
      ]
     },
     "execution_count": 129,
     "metadata": {},
     "output_type": "execute_result"
    }
   ],
   "source": [
    "df = pd.read_csv('https://raw.githubusercontent.com/Datamanim/datarepo/main/body/body.csv')\n",
    "df.head()"
   ]
  },
  {
   "cell_type": "code",
   "execution_count": 130,
   "id": "967ed598-55e5-4955-a81b-631d8f7aa951",
   "metadata": {},
   "outputs": [
    {
     "name": "stdout",
     "output_type": "stream",
     "text": [
      "<class 'pandas.core.frame.DataFrame'>\n",
      "RangeIndex: 13396 entries, 0 to 13395\n",
      "Data columns (total 12 columns):\n",
      " #   Column            Non-Null Count  Dtype  \n",
      "---  ------            --------------  -----  \n",
      " 0   측정나이              13396 non-null  float64\n",
      " 1   측정회원성별            13396 non-null  object \n",
      " 2   신장 : cm           13396 non-null  float64\n",
      " 3   체중 : kg           13396 non-null  float64\n",
      " 4   체지방율 : %          13396 non-null  float64\n",
      " 5   이완기혈압(최저) : mmHg  13396 non-null  float64\n",
      " 6   수축기혈압(최고) : mmHg  13396 non-null  float64\n",
      " 7   악력D : kg          13396 non-null  float64\n",
      " 8   앉아윗몸앞으로굽히기 : cm   13396 non-null  float64\n",
      " 9   교차윗몸일으키기 : 회      13396 non-null  float64\n",
      " 10  제자리 멀리뛰기 : cm     13396 non-null  float64\n",
      " 11  등급                13396 non-null  object \n",
      "dtypes: float64(10), object(2)\n",
      "memory usage: 1.2+ MB\n"
     ]
    }
   ],
   "source": [
    "df.info()"
   ]
  },
  {
   "cell_type": "code",
   "execution_count": 131,
   "id": "e7be14a9-0578-4c73-89e4-b8f00acec9d0",
   "metadata": {},
   "outputs": [
    {
     "data": {
      "text/html": [
       "<div>\n",
       "<style scoped>\n",
       "    .dataframe tbody tr th:only-of-type {\n",
       "        vertical-align: middle;\n",
       "    }\n",
       "\n",
       "    .dataframe tbody tr th {\n",
       "        vertical-align: top;\n",
       "    }\n",
       "\n",
       "    .dataframe thead th {\n",
       "        text-align: right;\n",
       "    }\n",
       "</style>\n",
       "<table border=\"1\" class=\"dataframe\">\n",
       "  <thead>\n",
       "    <tr style=\"text-align: right;\">\n",
       "      <th>등급</th>\n",
       "      <th>A</th>\n",
       "      <th>B</th>\n",
       "      <th>C</th>\n",
       "      <th>D</th>\n",
       "    </tr>\n",
       "    <tr>\n",
       "      <th>측정회원성별</th>\n",
       "      <th></th>\n",
       "      <th></th>\n",
       "      <th></th>\n",
       "      <th></th>\n",
       "    </tr>\n",
       "  </thead>\n",
       "  <tbody>\n",
       "    <tr>\n",
       "      <th>F</th>\n",
       "      <td>1484</td>\n",
       "      <td>1130</td>\n",
       "      <td>1147</td>\n",
       "      <td>1120</td>\n",
       "    </tr>\n",
       "    <tr>\n",
       "      <th>M</th>\n",
       "      <td>1865</td>\n",
       "      <td>2219</td>\n",
       "      <td>2202</td>\n",
       "      <td>2229</td>\n",
       "    </tr>\n",
       "  </tbody>\n",
       "</table>\n",
       "</div>"
      ],
      "text/plain": [
       "등급         A     B     C     D\n",
       "측정회원성별                        \n",
       "F       1484  1130  1147  1120\n",
       "M       1865  2219  2202  2229"
      ]
     },
     "metadata": {},
     "output_type": "display_data"
    }
   ],
   "source": [
    "cdf = pd.crosstab(df['측정회원성별'] ,df['등급'])\n",
    "display(cdf)"
   ]
  },
  {
   "cell_type": "code",
   "execution_count": 132,
   "id": "fb339eeb-f0ad-4cd2-bf77-8edf52c2dc26",
   "metadata": {},
   "outputs": [
    {
     "name": "stdout",
     "output_type": "stream",
     "text": [
      "Chi2ContingencyResult(statistic=120.06233631119409, pvalue=7.481892813401677e-26, dof=3, expected_freq=array([[1220.25, 1220.25, 1220.25, 1220.25],\n",
      "       [2128.75, 2128.75, 2128.75, 2128.75]]))\n",
      "7.481892813401677e-26\n"
     ]
    }
   ],
   "source": [
    "print(chi2_contingency(cdf))\n",
    "\n",
    "chi2 , p ,dof, expected = chi2_contingency(cdf)\n",
    "print(p)"
   ]
  },
  {
   "cell_type": "markdown",
   "id": "a33176f5-cf43-41a0-9fb0-34cbf97dc873",
   "metadata": {},
   "source": [
    "p-value가 0에 근접하므로 측정 회원 성별고하 등급은 연관이 없다는 귀무가설을 기각하고, 성별과 체력 등급 간에는 관련이 있다고 할 수 있다."
   ]
  },
  {
   "cell_type": "markdown",
   "id": "555508ef-572f-46d0-bcd4-347f5e4cf284",
   "metadata": {},
   "source": [
    "**Question 15. 성별에 따른 동아리 활동 참석 비율을 나타낸 데이터이다. 성별과 참석간에 관련이 있는지 검정하라.**"
   ]
  },
  {
   "cell_type": "code",
   "execution_count": 133,
   "id": "e9e4d6cf-934e-45e8-b040-dad7d2bbbedc",
   "metadata": {},
   "outputs": [
    {
     "data": {
      "text/html": [
       "<div>\n",
       "<style scoped>\n",
       "    .dataframe tbody tr th:only-of-type {\n",
       "        vertical-align: middle;\n",
       "    }\n",
       "\n",
       "    .dataframe tbody tr th {\n",
       "        vertical-align: top;\n",
       "    }\n",
       "\n",
       "    .dataframe thead th {\n",
       "        text-align: right;\n",
       "    }\n",
       "</style>\n",
       "<table border=\"1\" class=\"dataframe\">\n",
       "  <thead>\n",
       "    <tr style=\"text-align: right;\">\n",
       "      <th></th>\n",
       "      <th>불참</th>\n",
       "      <th>참석</th>\n",
       "      <th>총합</th>\n",
       "    </tr>\n",
       "  </thead>\n",
       "  <tbody>\n",
       "    <tr>\n",
       "      <th>남성</th>\n",
       "      <td>4</td>\n",
       "      <td>2</td>\n",
       "      <td>6</td>\n",
       "    </tr>\n",
       "    <tr>\n",
       "      <th>여성</th>\n",
       "      <td>1</td>\n",
       "      <td>9</td>\n",
       "      <td>10</td>\n",
       "    </tr>\n",
       "    <tr>\n",
       "      <th>총합</th>\n",
       "      <td>5</td>\n",
       "      <td>11</td>\n",
       "      <td>16</td>\n",
       "    </tr>\n",
       "  </tbody>\n",
       "</table>\n",
       "</div>"
      ],
      "text/plain": [
       "    불참  참석  총합\n",
       "남성   4   2   6\n",
       "여성   1   9  10\n",
       "총합   5  11  16"
      ]
     },
     "execution_count": 133,
     "metadata": {},
     "output_type": "execute_result"
    }
   ],
   "source": [
    "df = pd.read_csv('https://raw.githubusercontent.com/Datamanim/datarepo/main/scipy/fe2.csv',index_col=0)\n",
    "df"
   ]
  },
  {
   "cell_type": "code",
   "execution_count": 134,
   "id": "5774fe76-d078-4798-9d11-869fd7a21119",
   "metadata": {},
   "outputs": [
    {
     "data": {
      "text/html": [
       "<div>\n",
       "<style scoped>\n",
       "    .dataframe tbody tr th:only-of-type {\n",
       "        vertical-align: middle;\n",
       "    }\n",
       "\n",
       "    .dataframe tbody tr th {\n",
       "        vertical-align: top;\n",
       "    }\n",
       "\n",
       "    .dataframe thead th {\n",
       "        text-align: right;\n",
       "    }\n",
       "</style>\n",
       "<table border=\"1\" class=\"dataframe\">\n",
       "  <thead>\n",
       "    <tr style=\"text-align: right;\">\n",
       "      <th></th>\n",
       "      <th>불참</th>\n",
       "      <th>참석</th>\n",
       "    </tr>\n",
       "  </thead>\n",
       "  <tbody>\n",
       "    <tr>\n",
       "      <th>남성</th>\n",
       "      <td>4</td>\n",
       "      <td>2</td>\n",
       "    </tr>\n",
       "    <tr>\n",
       "      <th>여성</th>\n",
       "      <td>1</td>\n",
       "      <td>9</td>\n",
       "    </tr>\n",
       "  </tbody>\n",
       "</table>\n",
       "</div>"
      ],
      "text/plain": [
       "    불참  참석\n",
       "남성   4   2\n",
       "여성   1   9"
      ]
     },
     "metadata": {},
     "output_type": "display_data"
    }
   ],
   "source": [
    "cdf = df.iloc[:-1,:-1]\n",
    "display(cdf)"
   ]
  },
  {
   "cell_type": "code",
   "execution_count": 135,
   "id": "3bdc165a-a825-4f56-b21e-378390df4fb6",
   "metadata": {},
   "outputs": [
    {
     "name": "stdout",
     "output_type": "stream",
     "text": [
      "Chi2ContingencyResult(statistic=3.277575757575758, pvalue=0.07023259819117404, dof=1, expected_freq=array([[1.875, 4.125],\n",
      "       [3.125, 6.875]]))\n",
      "0.07023259819117404\n",
      "SignificanceResult(statistic=18.0, pvalue=0.03571428571428571)\n"
     ]
    }
   ],
   "source": [
    "print(chi2_contingency(cdf))\n",
    "chi2 , p ,dof, expected = chi2_contingency(cdf)\n",
    "print(p)\n",
    "print(fisher_exact(cdf))"
   ]
  },
  {
   "cell_type": "markdown",
   "id": "ed2c3b74-c51f-4e5b-8cf6-f784ed5f1619",
   "metadata": {},
   "source": [
    "카이제곱 검정 시 p-value는 0.07로 귀무가설을 기각하지 못한다. 따라서 성별과 참석 여부는 관련이 없다(독립이다).<br>\n",
    "하지만 5보다 작은 셀이 20%가 넘어가므로 피셔의 정확 검정을 사용해야 한다.<br>\n",
    "피셔의 정확 검정 시 0.03의 값을 가지므로 귀무가설을 기각한다. 따라서 성별과 참석 여부는 관련이 있다(독립이 아니다)."
   ]
  },
  {
   "cell_type": "markdown",
   "id": "075c9b4d-e4fa-4d22-8547-ddb0bec1083d",
   "metadata": {},
   "source": [
    "# 참고"
   ]
  }
 ],
 "metadata": {
  "kernelspec": {
   "display_name": "Python 3 (ipykernel)",
   "language": "python",
   "name": "python3"
  },
  "language_info": {
   "codemirror_mode": {
    "name": "ipython",
    "version": 3
   },
   "file_extension": ".py",
   "mimetype": "text/x-python",
   "name": "python",
   "nbconvert_exporter": "python",
   "pygments_lexer": "ipython3",
   "version": "3.10.9"
  },
  "toc-autonumbering": false,
  "toc-showcode": false,
  "toc-showmarkdowntxt": false
 },
 "nbformat": 4,
 "nbformat_minor": 5
}
