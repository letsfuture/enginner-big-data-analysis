{
 "cells": [
  {
   "cell_type": "code",
   "execution_count": 1,
   "id": "6900b56b-16c9-4d34-a956-27a73842b28a",
   "metadata": {},
   "outputs": [],
   "source": [
    "import pandas as pd\n",
    "import numpy as np\n",
    "import seaborn as sns\n",
    "\n",
    "# 신뢰구간\n",
    "from scipy.stats import t, sem\n",
    "\n",
    "# 1. 모수 검정\n",
    "# 1-1. 정규성\n",
    "from scipy.stats import shapiro, kstest, normaltest, anderson\n",
    "\n",
    "# 1-2. 등분산성\n",
    "from scipy.stats import bartlett, levene, fligner\n",
    "\n",
    "# 1-3. t-test\n",
    "from scipy.stats import ttest_1samp, ttest_ind, ttest_rel\n",
    "\n",
    "# 1-4. ANOVA(분산분석)\n",
    "from scipy.stats import f_oneway\n",
    "\n",
    "# 2. 비모수 검정\n",
    "# 2-1. 카이제곱 적합도 검정\n",
    "from scipy.stats import chisquare\n",
    "\n",
    "# 2-2. 카이제곱 동질성/독립성 검정\n",
    "from scipy.stats import chi2_contingency\n",
    "from scipy.stats import fisher_exact\n",
    "\n",
    "# 2-3. 중앙값을 사용한 비모수 검정\n",
    "from scipy.stats import wilcoxon, ranksums, mannwhitneyu, kruskal\n",
    "\n",
    "# 2-4. 피셔의 정확 검정\n",
    "from scipy.stats import fisher_exact"
   ]
  },
  {
   "cell_type": "markdown",
   "id": "60e4b943-0544-48f0-a43e-2e1ce2858bc1",
   "metadata": {},
   "source": [
    "# 1. 모수 검정"
   ]
  },
  {
   "cell_type": "markdown",
   "id": "18dedad6-c5ae-440f-832a-64ae527084dc",
   "metadata": {},
   "source": [
    "## 1) 정규성 검정"
   ]
  },
  {
   "cell_type": "markdown",
   "id": "85848ea8-89e4-4b16-ac97-ee139d3d46a2",
   "metadata": {},
   "source": [
    "### 1-1) 정규성 검정의 종류 \n",
    "- **Shapiro-Wilks Test:** 표본 수가 5,000개 미만인 데이터셋에 적합한 정규성 검정\n",
    "- **Kolmogorov-Smirnov Test:** 표본 수가 2,000개 초과인 데이터셋에 적합한 정규성 검정\n",
    "- **Normal Test:** 왜도와 첨도를 통해 정규성 검정, 20개 이상의 데이터 필요- Anderson Darling Test: 표본 수가 5,000개 초과인 데이터셋에 적합한 정규성 검정, 5개의 유의 수준에 대한 임곗값 반환"
   ]
  },
  {
   "cell_type": "code",
   "execution_count": 2,
   "id": "1df6344e-6104-41b8-904f-c59f8ef66708",
   "metadata": {},
   "outputs": [
    {
     "name": "stdout",
     "output_type": "stream",
     "text": [
      "   stime20s  stime40s  ID\n",
      "0         4         5   1\n",
      "1         4         5   2\n",
      "2         5         6   3\n",
      "3         5         7   4\n",
      "4         6         6   5\n"
     ]
    }
   ],
   "source": [
    "df = pd.read_csv('./data_02/sleepage.csv')\n",
    "print(df.head())"
   ]
  },
  {
   "cell_type": "code",
   "execution_count": 3,
   "id": "9c228671-28da-4852-a948-44003a999855",
   "metadata": {},
   "outputs": [
    {
     "name": "stdout",
     "output_type": "stream",
     "text": [
      "<class 'pandas.core.frame.DataFrame'>\n",
      "RangeIndex: 20 entries, 0 to 19\n",
      "Data columns (total 3 columns):\n",
      " #   Column    Non-Null Count  Dtype\n",
      "---  ------    --------------  -----\n",
      " 0   stime20s  20 non-null     int64\n",
      " 1   stime40s  20 non-null     int64\n",
      " 2   ID        20 non-null     int64\n",
      "dtypes: int64(3)\n",
      "memory usage: 608.0 bytes\n"
     ]
    }
   ],
   "source": [
    "df.info()"
   ]
  },
  {
   "cell_type": "code",
   "execution_count": 4,
   "id": "76905a52-7b46-49d9-a2c8-859fe777fe96",
   "metadata": {},
   "outputs": [
    {
     "name": "stdout",
     "output_type": "stream",
     "text": [
      "shapiro 정규성 검정 결과\n",
      "그룹A - statistic: 0.9239 p-value: 0.1180\n",
      "그룹B - statistic: 0.8810 p-value: 0.0184\n",
      "\n",
      "kstest 정규성 검정 결과\n",
      "그룹A - statistic: 0.9987 p-value: 0.0000\n",
      "그룹B - statistic: 1.0000 p-value: 0.0000\n",
      "\n",
      "normaltest 정규성 검정 결과\n",
      "그룹A - statistic: 1.1732 p-value: 0.5562\n",
      "그룹B - statistic: 2.0450 p-value: 0.3597\n",
      "\n",
      "anderson 정규성 검정 결과\n",
      "그룹A - 0.5601097602856164 [0.506 0.577 0.692 0.807 0.96 ] [15.  10.   5.   2.5  1. ]\n",
      "그룹B - 0.8918678522034931 [0.506 0.577 0.692 0.807 0.96 ] [15.  10.   5.   2.5  1. ]\n"
     ]
    }
   ],
   "source": [
    "# [1] 그룹 나누기\n",
    "gA = df['stime20s']\n",
    "gB = df['stime40s']\n",
    "\n",
    "# [2] 정규성 검정 - shaprio\n",
    "shapiro_sA, shapiro_pA = shapiro(gA)\n",
    "shapiro_sB, shapiro_pB = shapiro(gB)\n",
    "\n",
    "# [2] 정규성 검정 - kstest\n",
    "ks_sA, ks_pA = kstest(gA, 'norm') \n",
    "ks_sB, ks_pB = kstest(gB, 'norm')\n",
    "\n",
    "# [3] 정규성 검정 - normaltest\n",
    "normal_sA, normal_pA = normaltest(gA)\n",
    "normal_sB, normal_pB = normaltest(gB)\n",
    "\n",
    "# [4] 정규성 검정 - anderson\n",
    "rA = anderson(gA) # statistic, critical_values, significance_level\n",
    "rB = anderson(gB) # statistic, critical_values, significance_level\n",
    "\n",
    "print('shapiro 정규성 검정 결과')\n",
    "print(f'그룹A - statistic: {shapiro_sA:.04f} p-value: {shapiro_pA:.04f}')\n",
    "print(f'그룹B - statistic: {shapiro_sB:.04f} p-value: {shapiro_pB:.04f}\\n')\n",
    "\n",
    "print('kstest 정규성 검정 결과')\n",
    "print(f'그룹A - statistic: {ks_sA:.04f} p-value: {ks_pA:.04f}')\n",
    "print(f'그룹B - statistic: {ks_sB:.04f} p-value: {ks_pB:.04f}\\n')\n",
    "\n",
    "print('normaltest 정규성 검정 결과')\n",
    "print(f'그룹A - statistic: {normal_sA:.04f} p-value: {normal_pA:.04f}')\n",
    "print(f'그룹B - statistic: {normal_sB:.04f} p-value: {normal_pB:.04f}\\n')\n",
    "\n",
    "print('anderson 정규성 검정 결과')\n",
    "print(f'그룹A -', *rA)\n",
    "print(f'그룹B -', *rB)"
   ]
  },
  {
   "cell_type": "markdown",
   "id": "0f2a351a-3660-46b2-b64b-a73d0b714ff0",
   "metadata": {},
   "source": [
    "## 2) 등분산성 검정"
   ]
  },
  {
   "cell_type": "markdown",
   "id": "537b4c65-c923-4582-ab96-a386cdc23f1a",
   "metadata": {},
   "source": [
    "### 2-1) 등분산성 검정의 종류\n",
    "- **Shapiro-Wilks Test:** 표본 수가 5,000개 미만인 데이터셋에 적합한 정규성 검정\n",
    "- **Kolmogorov-Smirnov Test:** 표본 수가 2,000개 초과인 데이터셋에 적합한 정규성 검정\n",
    "- **Normal Test:** 왜도와 첨도를 통해 정규성 검정, 20개 이상의 데이터 필요\n",
    "- **Anderson Darling Test:** 표본 수가 5,000개 초과인 데이터셋에 적합한 정규성 검정, 5개의 유의 수준에 대한 임곗값 반환"
   ]
  },
  {
   "cell_type": "code",
   "execution_count": 5,
   "id": "c95fff80-ac6a-4b84-8519-1c07a0129271",
   "metadata": {},
   "outputs": [
    {
     "name": "stdout",
     "output_type": "stream",
     "text": [
      "   sepal_length  sepal_width  petal_length  petal_width species\n",
      "0           5.1          3.5           1.4          0.2  setosa\n",
      "1           4.9          3.0           1.4          0.2  setosa\n",
      "2           4.7          3.2           1.3          0.2  setosa\n",
      "3           4.6          3.1           1.5          0.2  setosa\n",
      "4           5.0          3.6           1.4          0.2  setosa\n"
     ]
    }
   ],
   "source": [
    "df = sns.load_dataset('iris')\n",
    "print(df.head())"
   ]
  },
  {
   "cell_type": "code",
   "execution_count": 6,
   "id": "4800a7d4-0049-4394-a3f9-2ab822e289ae",
   "metadata": {},
   "outputs": [
    {
     "name": "stdout",
     "output_type": "stream",
     "text": [
      "<class 'pandas.core.frame.DataFrame'>\n",
      "RangeIndex: 150 entries, 0 to 149\n",
      "Data columns (total 5 columns):\n",
      " #   Column        Non-Null Count  Dtype  \n",
      "---  ------        --------------  -----  \n",
      " 0   sepal_length  150 non-null    float64\n",
      " 1   sepal_width   150 non-null    float64\n",
      " 2   petal_length  150 non-null    float64\n",
      " 3   petal_width   150 non-null    float64\n",
      " 4   species       150 non-null    object \n",
      "dtypes: float64(4), object(1)\n",
      "memory usage: 6.0+ KB\n"
     ]
    }
   ],
   "source": [
    "df.info()"
   ]
  },
  {
   "cell_type": "code",
   "execution_count": 7,
   "id": "c111e2d2-5a05-4269-bb91-dd7bbf699d84",
   "metadata": {},
   "outputs": [
    {
     "name": "stdout",
     "output_type": "stream",
     "text": [
      "0.4595010578632355 0.4647378921508789 0.25831347703933716\n",
      "16.005701874401502 0.0003345076070163035\n",
      "7.381091747801267 0.0008817887814641548\n",
      "13.193438547424174 0.0013648383616752843\n"
     ]
    }
   ],
   "source": [
    "# [1] 그룹 나누기1 \n",
    "# target = 'sepal_length'  \n",
    "# gA = df.loc[df['species']=='setosa', target].to_list()\n",
    "# gB = df.loc[df['species']=='versicolor', target].to_list()\n",
    "# gC = df.loc[df['species']=='virginica', target].to_list()\n",
    "\n",
    "# [1] 그룹 나누기2\n",
    "groups = [x.to_list() for name, x in df.groupby('species')['sepal_length']]\n",
    "# groups = [x.to_list() for name, x in df.groupby('species')['sepal_length']]\n",
    "gA, gB, gC = groups\n",
    "# print(gA)\n",
    "\n",
    "# [2] 정규성 검정\n",
    "_, pA = shapiro(gA)\n",
    "_, pB = shapiro(gB)\n",
    "_, pC = shapiro(gC)\n",
    "print(pA, pB, pC)\n",
    "\n",
    "# [3] 등분산성 검정 - bartlett\n",
    "bartlett_s, bartlett_p = bartlett(gA, gB, gC)\n",
    "print(bartlett_s, bartlett_p)\n",
    "\n",
    "# [4] 등분산성 검정 - levene\n",
    "levene_s, levene_p = levene(gA, gB, gC, center='mean')\n",
    "# levene_s, levene_p = levene(*groups, center='mean')\n",
    "print(levene_s, levene_p)\n",
    "\n",
    "# [4] 등분산성 검정 - fligner\n",
    "fligner_s, fligner_p = fligner(*groups, center='trimmed', proportiontocut=0.05)\n",
    "print(fligner_s, fligner_p)"
   ]
  },
  {
   "cell_type": "markdown",
   "id": "430463d2-9184-4d81-8ce4-a7260b002f11",
   "metadata": {},
   "source": [
    "## 3) T-검정"
   ]
  },
  {
   "cell_type": "markdown",
   "id": "16f81162-f21b-4849-bbe0-f5411403a21c",
   "metadata": {},
   "source": [
    "- 검정 통계량이 귀무가설 하에서 t-분포를 따르는 통계적 가설 검정\n",
    "- 표본을 사용한 모평균 검정 및 두 데이터 세트(집단)의 모평균이 서로 유의하게 다른지 여부를 판별할 수 있음\n",
    "- 검정통계량이 정규분포를 따르며 모집단의 분산, 표준편차를 알지 못할 때 표본으로부터 추정된 분산/표준편차를 사용해 검정함\n",
    "- t-test를 실시하기 위해서는 정규성 및 등분산성의 조건이 만족되어야 함 "
   ]
  },
  {
   "cell_type": "markdown",
   "id": "c053cce6-d726-4529-a78b-cf6a3ae4b503",
   "metadata": {},
   "source": [
    "### 3-1) One sample t-test\n",
    "- 표본을 사용한 모평균 검정 방법\n",
    "- 예) 귀무가설: S사의 USB의 평균 수명은 20,000시간이다."
   ]
  },
  {
   "cell_type": "code",
   "execution_count": 8,
   "id": "78a74e3c-f928-41ea-9515-3a5a99bbeba6",
   "metadata": {},
   "outputs": [
    {
     "name": "stdout",
     "output_type": "stream",
     "text": [
      "   stime20s  stime40s  ID\n",
      "0         4         5   1\n",
      "1         4         5   2\n",
      "2         5         6   3\n",
      "3         5         7   4\n",
      "4         6         6   5\n"
     ]
    }
   ],
   "source": [
    "df = pd.read_csv(\"./data_02/sleepage.csv\")\n",
    "print(df.head())"
   ]
  },
  {
   "cell_type": "code",
   "execution_count": 9,
   "id": "d1278336-3d67-466d-9e8f-efd1cf794f93",
   "metadata": {},
   "outputs": [
    {
     "name": "stdout",
     "output_type": "stream",
     "text": [
      "<class 'pandas.core.frame.DataFrame'>\n",
      "RangeIndex: 20 entries, 0 to 19\n",
      "Data columns (total 3 columns):\n",
      " #   Column    Non-Null Count  Dtype\n",
      "---  ------    --------------  -----\n",
      " 0   stime20s  20 non-null     int64\n",
      " 1   stime40s  20 non-null     int64\n",
      " 2   ID        20 non-null     int64\n",
      "dtypes: int64(3)\n",
      "memory usage: 608.0 bytes\n"
     ]
    }
   ],
   "source": [
    "df.info()"
   ]
  },
  {
   "cell_type": "code",
   "execution_count": 10,
   "id": "484cd6db-4cf5-4cce-936e-e18a83457a89",
   "metadata": {},
   "outputs": [
    {
     "name": "stdout",
     "output_type": "stream",
     "text": [
      "statistic: 0.9239 p-value:0.1180\n",
      "채택\n",
      "\n",
      "statistic: 0.4592 p-value: 0.6513\n",
      "채택\n",
      "\n",
      "statistic: 0.4592 p-value: 0.6743\n",
      "채택\n",
      "\n",
      "statistic: 0.4592 p-value: 0.3257\n",
      "채택\n",
      "\n",
      "5.4663 ~ 6.8337\n"
     ]
    }
   ],
   "source": [
    "# [1] 20대의 수면 시간에 대한 정규성 검정\n",
    "# one sample이므로 등분산 검정이 필요 없음\n",
    "statistic, pvalue = shapiro(df['stime20s'])\n",
    "print(f'statistic: {statistic:.04f} p-value:{pvalue:.04f}')\n",
    "print('기각' if pvalue < 0.05 else '채택\\n')\n",
    "\n",
    "# [2] 20대 수면 시간에 대한 평균 구하기\n",
    "# print(df['stime20s'].mean())\n",
    "\n",
    "# [3] 가설 검정 - ttest_1samp\n",
    "# 귀무가설: 20대 수면 시간의 평균은 6시간이다.\n",
    "# 대립가설: 20대 수면 시간의 평균은 6시간이 아니다.\n",
    "\n",
    "at_s, at_p = ttest_1samp(df['stime20s'], 6, alternative='two-sided')\n",
    "print(f'statistic: {at_s:.04f} p-value: {at_p:.04f}')\n",
    "print('기각' if at_p < 0.05 else '채택\\n')\n",
    "\n",
    "al_s, al_p = ttest_1samp(df['stime20s'], 6, alternative='less')\n",
    "print(f'statistic: {al_s:.04f} p-value: {al_p:.04f}')\n",
    "print('기각' if al_p < 0.05 else '채택\\n')\n",
    "\n",
    "ag_s, ag_p = ttest_1samp(df['stime20s'], 6, alternative='greater')\n",
    "print(f'statistic: {ag_s:.04f} p-value: {ag_p:.04f}')\n",
    "print('기각' if ag_p < 0.05 else '채택\\n')\n",
    "\n",
    "# [4] 95% 신뢰구간 구하기\n",
    "target = df['stime20s']\n",
    "lower, upper = t(df=len(target)-1).interval(0.95, loc=target.mean(), scale=sem(target))\n",
    "print(f'{lower:.04f} ~ {upper:.04f}')"
   ]
  },
  {
   "cell_type": "markdown",
   "id": "da006c5e-d917-474e-8c36-daa18919f5d2",
   "metadata": {},
   "source": [
    "### 3-2) Two-sample t-test\n",
    "- 서로 다른 두 그룹의 표본 평균을 비교하여 두 모집단의 평균 차이가 있는지 검정하는 방법\n",
    "- `equal_var = False`인 경우 Welch’s t-test를 수행"
   ]
  },
  {
   "cell_type": "code",
   "execution_count": 11,
   "id": "03a41972-b635-4737-997a-97d28d3d2472",
   "metadata": {},
   "outputs": [
    {
     "name": "stdout",
     "output_type": "stream",
     "text": [
      "   stime20s  stime40s  ID\n",
      "0         4         5   1\n",
      "1         4         5   2\n",
      "2         5         6   3\n",
      "3         5         7   4\n",
      "4         6         6   5\n"
     ]
    }
   ],
   "source": [
    "df = pd.read_csv('./data_02/sleepage.csv')\n",
    "print(df.head())"
   ]
  },
  {
   "cell_type": "code",
   "execution_count": 12,
   "id": "fe4d306b-e86e-436e-a768-f156f4e82d17",
   "metadata": {},
   "outputs": [
    {
     "name": "stdout",
     "output_type": "stream",
     "text": [
      "<class 'pandas.core.frame.DataFrame'>\n",
      "RangeIndex: 20 entries, 0 to 19\n",
      "Data columns (total 3 columns):\n",
      " #   Column    Non-Null Count  Dtype\n",
      "---  ------    --------------  -----\n",
      " 0   stime20s  20 non-null     int64\n",
      " 1   stime40s  20 non-null     int64\n",
      " 2   ID        20 non-null     int64\n",
      "dtypes: int64(3)\n",
      "memory usage: 608.0 bytes\n"
     ]
    }
   ],
   "source": [
    "df.info()"
   ]
  },
  {
   "cell_type": "code",
   "execution_count": 13,
   "id": "eac5577f-3b9e-4308-9436-eaf4ede1b3c6",
   "metadata": {},
   "outputs": [
    {
     "name": "stdout",
     "output_type": "stream",
     "text": [
      "0.1180 0.0184\n",
      "0.2312 0.1475 0.1808\n",
      "statistic: -0.4988 p-value: 0.6208\n",
      "채택\n",
      "\n",
      "statistic: -0.4988 p-value: 0.3104\n",
      "채택\n",
      "\n",
      "statistic: -0.4988 p-value: 0.6896\n",
      "채택\n",
      "\n"
     ]
    }
   ],
   "source": [
    "# [1] 그룹 나누기\n",
    "gA = df.loc[:, 'stime20s']\n",
    "gB = df.loc[:, 'stime40s']\n",
    "\n",
    "# [2] 정규성 검정\n",
    "sA, pA = shapiro(gA)\n",
    "sB, pB = shapiro(gB)\n",
    "print(f'{pA:.04f} {pB:.04f}')\n",
    "\n",
    "# [3] 등분산성 검정\n",
    "levene_s, levene_p     = levene(gA, gB)\n",
    "bartlett_s, bartlett_p = bartlett(gA, gB)\n",
    "fligner_s, fligner_p   = fligner(gA, gB)\n",
    "print(f'{levene_p:.04f} {bartlett_p:.04f} {fligner_p:.04f}')\n",
    "\n",
    "# [4] 가설 검정 - ttest_ind\n",
    "at_s, at_p = ttest_ind(gA, gB, alternative='two-sided')\n",
    "print(f'statistic: {at_s:.04f} p-value: {at_p:.04f}')\n",
    "print('기각' if at_p < 0.05 else '채택\\n')\n",
    "\n",
    "al_s, al_p = ttest_ind(gA, gB, alternative='less')\n",
    "print(f'statistic: {al_s:.04f} p-value: {al_p:.04f}')\n",
    "print('기각' if al_p < 0.05 else '채택\\n')\n",
    "\n",
    "ag_s, ag_p = ttest_ind(gA, gB, alternative='greater')\n",
    "print(f'statistic: {ag_s:.04f} p-value: {ag_p:.04f}')\n",
    "print('기각' if ag_p < 0.05 else '채택\\n')"
   ]
  },
  {
   "cell_type": "markdown",
   "id": "fb87ea51-433f-419f-a8c4-8f9218382d63",
   "metadata": {},
   "source": [
    "정규성을 만족하지 않으면 비모수 검정의 Wilocoxon rank sum test,Mann-Whitney U test 등을 사용하는 것이 좋다. 예제는 우선 t-test로 진행했다."
   ]
  },
  {
   "cell_type": "markdown",
   "id": "26013771-27b6-4207-b7d4-ca8b15c2f08a",
   "metadata": {},
   "source": [
    "### 3-3) Paired t-test\n",
    "- 동일 개체에 어떤 처리를 하기 전, 후의 자료를 얻을 때 차이 값에 대한 평균 검정을 위한 방법\n",
    "- 가능한 동일한 특성을 갖는 두 개체에 서로 다른 처리를 하여 그 처리의 효과를 비교하는 방법\n",
    "- 예) 매일 1시간씩 한 달 걸으면 2kg이 빠진다(걷기 수행 전/수행 후)\n",
    "- 예) X질병 환자들을 두 집단으로 나누어 A, B 약을 투약해 약의 효과 비교"
   ]
  },
  {
   "cell_type": "code",
   "execution_count": 14,
   "id": "5b06b8d4-8f7b-46be-8a14-04c593390b9b",
   "metadata": {},
   "outputs": [
    {
     "name": "stdout",
     "output_type": "stream",
     "text": [
      "   extra  group  ID\n",
      "0    0.7      1   1\n",
      "1   -1.6      1   2\n",
      "2   -0.2      1   3\n",
      "3   -1.2      1   4\n",
      "4   -0.1      1   5\n"
     ]
    }
   ],
   "source": [
    "df = pd.read_csv('./data_02/sleep.csv')\n",
    "print(df.head())"
   ]
  },
  {
   "cell_type": "code",
   "execution_count": 15,
   "id": "03d941b9-cfc3-416e-910f-6e6dee25d96a",
   "metadata": {},
   "outputs": [
    {
     "name": "stdout",
     "output_type": "stream",
     "text": [
      "<class 'pandas.core.frame.DataFrame'>\n",
      "RangeIndex: 20 entries, 0 to 19\n",
      "Data columns (total 3 columns):\n",
      " #   Column  Non-Null Count  Dtype  \n",
      "---  ------  --------------  -----  \n",
      " 0   extra   20 non-null     float64\n",
      " 1   group   20 non-null     int64  \n",
      " 2   ID      20 non-null     int64  \n",
      "dtypes: float64(1), int64(2)\n",
      "memory usage: 608.0 bytes\n"
     ]
    }
   ],
   "source": [
    "df.info()"
   ]
  },
  {
   "cell_type": "code",
   "execution_count": 16,
   "id": "b9c3d3e1-30c4-4e3b-8ade-9373f6336e73",
   "metadata": {},
   "outputs": [
    {
     "name": "stdout",
     "output_type": "stream",
     "text": [
      "그룹A - statistic: 0.9239 p-value: 0.1180\n",
      "그룹B - statistic: 0.8810 p-value: 0.0184\n",
      "\n",
      "NormaltestResult(statistic=0.8834543265697302, pvalue=0.6429250250799996)\n",
      "NormaltestResult(statistic=1.969150292024901, pvalue=0.373597917789166) \n",
      "\n",
      "statistic: -4.0621 p-value: 0.0028\n",
      "기각\n",
      "statistic: -4.0621 p-value: 0.0014\n",
      "기각\n",
      "statistic: -4.0621 p-value: 0.9986\n",
      "채택\n",
      "\n"
     ]
    },
    {
     "name": "stderr",
     "output_type": "stream",
     "text": [
      "C:\\Users\\futur\\anaconda3\\lib\\site-packages\\scipy\\stats\\_stats_py.py:1736: UserWarning: kurtosistest only valid for n>=20 ... continuing anyway, n=10\n",
      "  warnings.warn(\"kurtosistest only valid for n>=20 ... continuing \"\n"
     ]
    }
   ],
   "source": [
    "# [1] 그룹 나누기\n",
    "gA = df.loc[df.group==1, 'extra']\n",
    "gB = df.loc[df.group==2, 'extra']\n",
    "\n",
    "# [2] 정규성 검정\n",
    "sA, pA = shapiro(gA)\n",
    "sB, pB = shapiro(gB)\n",
    "print(f'그룹A - statistic: {shapiro_sA:.04f} p-value: {shapiro_pA:.04f}')\n",
    "print(f'그룹B - statistic: {shapiro_sB:.04f} p-value: {shapiro_pB:.04f}\\n')\n",
    "\n",
    "# [3] 등분산성 검정 n>=20\n",
    "print(normaltest(gA))\n",
    "print(normaltest(gB), '\\n')\n",
    "      \n",
    "# [4] 가설 검정 - ttest_rel\n",
    "at_s, at_p = ttest_rel(gA, gB, alternative='two-sided')\n",
    "print(f'statistic: {at_s:.04f} p-value: {at_p:.04f}')\n",
    "print('기각' if at_p < 0.05 else '채택\\n')\n",
    "\n",
    "al_s, al_p = ttest_rel(gA, gB, alternative='less')\n",
    "print(f'statistic: {al_s:.04f} p-value: {al_p:.04f}')\n",
    "print('기각' if al_p < 0.05 else '채택\\n')\n",
    "\n",
    "ag_s, ag_p = ttest_rel(gA, gB, alternative='greater')\n",
    "print(f'statistic: {ag_s:.04f} p-value: {ag_p:.04f}')\n",
    "print('기각' if ag_p < 0.05 else '채택\\n')"
   ]
  },
  {
   "cell_type": "markdown",
   "id": "6c8ced0c-2a8c-4aff-b6e2-1837907e719d",
   "metadata": {},
   "source": [
    "### 3-4) 예제"
   ]
  },
  {
   "cell_type": "markdown",
   "id": "e683f63e-7da2-4279-8145-b19dcc96dd3d",
   "metadata": {},
   "source": [
    "다음은 22명의 학생들이 국어시험에서 받은 점수이다. 학생들의 평균이 75보다 크다고 할 수 있는가?\n",
    "- 모집단은 정규분포를 따른다.\n",
    "- 표본의 크기가 충분히 크다."
   ]
  },
  {
   "cell_type": "code",
   "execution_count": 3,
   "id": "5fd6438b-c39f-4b61-b7d8-68d2d2751c6f",
   "metadata": {},
   "outputs": [
    {
     "name": "stdout",
     "output_type": "stream",
     "text": [
      "1.7659\n",
      "0.046\n",
      "기각\n"
     ]
    }
   ],
   "source": [
    "# 귀무가설: 모평균은 mu와 같다. (μ = mu), 학생들의 평균은 75이다\n",
    "# 대립가설: 모평균은 mu보다 크다. (μ > mu), 학생들의 평균은 75보다 크다\n",
    "\n",
    "scores = [75, 80, 68, 72, 77, 82, 81, 79, 70, 74, 76, 78, 81, 73, 81, 78, 75, 72, 74, 79, 78, 79]\n",
    "\n",
    "# 모평균 가설검정\n",
    "mu = 75       # 검정할 모평균\n",
    "alpha = 0.05  # 유의수준\n",
    "\n",
    "statistic, pvalue = ttest_1samp(scores, mu, alternative='greater')\n",
    "\n",
    "print(round(statistic, 4))\n",
    "print(round(pvalue, 4))\n",
    "print('기각' if pvalue < 0.05 else '채택')"
   ]
  },
  {
   "cell_type": "markdown",
   "id": "d160daf3-3a74-47f1-9891-c98e51e3a463",
   "metadata": {},
   "source": [
    "A 회사에서 판매하는 모니터는 평균 5개 보다 적은 불량화소를 포함한다고 주장한다. 이 주장을 판단하기 위해서 데이터를 수집했으며, 주어진 데이터(data_02/defective.csv)에는 모니터 25개에서 조사한 불량화소 개수가 저장되어 있다. 불량화소의 개수는 정규분포를 따른다고 할 때, 이 주장의 타당성 여부를 유의수준 5%에서 검정하여라.\n",
    "\n",
    "- 𝑯_𝟎: 𝝁≥𝟓, 𝑯_𝟏: 𝝁<𝟓, defective_pixel: 불량화소 개수\n",
    "- (a) 불량화소의 표본 평균을 구하시오 (반올림하여 소수 둘째자리까지 계산)\n",
    "- (b) 위의 가설을 검정하기 위한 검정통계량을 입력하시오.(반올림하여 소수 넷째자리까지 계산)\n",
    "- (c) 위의 통계량에 대한 p-값을 구하여 입력하시오. (반올림하여 소수 넷째자리까지 계산)\n",
    "- (d) 유의수준 0.05 하에서 가설검정의 결과를 (채택/기각) 중 하나를 선택하여 입력하시오."
   ]
  },
  {
   "cell_type": "code",
   "execution_count": 17,
   "id": "07662a78-be08-4695-a9cb-845b9e7e1a89",
   "metadata": {},
   "outputs": [
    {
     "name": "stdout",
     "output_type": "stream",
     "text": [
      "4.84\n",
      "-1.4446\n",
      "0.0807\n",
      "채택\n"
     ]
    }
   ],
   "source": [
    "# 귀무가설: A 회사에서 판매하는 모니터의 불량화소 평균이 5개보다 크거나 같다.\n",
    "# 대립가설: A 회사에서 판매하는 모니터의 불량화소 평균이 5개보다 적다.\n",
    "\n",
    "df = pd.read_csv('data_02/defective.csv')\n",
    "# print(df.head())\n",
    "\n",
    "print(round(df['defective_pixel'].mean(), 2))\n",
    "\n",
    "statistic, pvalue = ttest_1samp(df['defective_pixel'], 5, alternative='less')\n",
    "\n",
    "print(round(statistic, 4))\n",
    "print(round(pvalue, 4))\n",
    "\n",
    "print('기각' if pvalue < 0.05 else '채택')"
   ]
  },
  {
   "cell_type": "markdown",
   "id": "41bd2cd9-2f54-468b-9c31-ea88d5cf6e91",
   "metadata": {},
   "source": [
    "주어진 데이터(data_02/blood_pressure.csv)에는 고혈압 환자 120명의 치료 전후의 혈압이 저장되어 있다. 해당 치료가 효과가 있는지 (즉, 치료 후의 혈압이 감소했는지) 쌍체표본 t-검정(paired t-test)를 통해 답하고자 한다. 가설은 아래와 같다.\n",
    "- 𝑯_𝟎: 𝝁_𝒅≥𝟎, 𝑯_𝟏: 𝝁_𝒅<𝟎  (𝝁_𝒅: 치료 후 혈압 – 치료 전 혈압)의 평균\n",
    "- bp_before : 치료 전 혈압, bp_after : 치료 후 혈압\n",
    "- (a) ud의 표본 평균을 구하시오 (반올림하여 소수 둘째자리까지 계산)\n",
    "- (b) 위의 가설을 검정하기 위한 검정통계량을 입력하시오.(반올림하여 소수 넷째자리까지 계산)\n",
    "- (c) 위의 통계량에 대한 p-값을 구하여 입력하시오. (반올림하여 소수 넷째자리까지 계산)\n",
    "- (d) 유의수준 0.05 하에서 가설검정의 결과를 (채택/기각) 중 하나를 선택하여 입력하시오.\n"
   ]
  },
  {
   "cell_type": "code",
   "execution_count": 18,
   "id": "e47cbe1b-2c08-483b-ac9c-b3475152be75",
   "metadata": {},
   "outputs": [
    {
     "name": "stdout",
     "output_type": "stream",
     "text": [
      "-5.09\n",
      "-3.3372\n",
      "0.0006\n",
      "기각\n"
     ]
    }
   ],
   "source": [
    "df = pd.read_csv('data_02/blood_pressure.csv')\n",
    "# print(df.head())\n",
    "\n",
    "df['ud'] = df['bp_after'] - df['bp_before']\n",
    "\n",
    "print(round(df['ud'].mean(), 2))\n",
    "\n",
    "statistic, pvalue = ttest_rel(df['bp_after'], df['bp_before'], alternative='less')\n",
    "\n",
    "print(round(statistic, 4))\n",
    "print(round(pvalue, 4))\n",
    "print('기각' if pvalue < 0.05 else '채택')"
   ]
  },
  {
   "cell_type": "markdown",
   "id": "a9dbf445-74a2-4b63-a20c-ac8d815f5e23",
   "metadata": {},
   "source": [
    "어떤 특정 약물을 복용한 사람들의 평균 체온이 복용하지 않은 사람들의 평균 체온과 유의미하게 다른지 검정해보려고 한다.\n",
    "- 약물을 복용한 그룹과 복용하지 않은 그룹의 체온 데이터가 각각 주어져 있다고 가정한다.\n",
    "- 각 그룹의 체온은 정규분포를 따른다고 가정한다."
   ]
  },
  {
   "cell_type": "code",
   "execution_count": 6,
   "id": "2d9cdfa7-21a6-47e6-920a-d36ded17584b",
   "metadata": {},
   "outputs": [
    {
     "name": "stdout",
     "output_type": "stream",
     "text": [
      "3.7964\n",
      "0.0013\n",
      "기각\n"
     ]
    }
   ],
   "source": [
    "group1 = [36.8, 36.7, 37.1, 36.9, 37.2, 36.8, 36.9, 37.1, 36.7, 37.1]\n",
    "group2 = [36.5, 36.6, 36.3, 36.6, 36.9, 36.7, 36.7, 36.8, 36.5, 36.7]\n",
    "\n",
    "# 가설검정\n",
    "statistic, pvalue = ttest_ind(group1, group2)\n",
    "\n",
    "print(round(statistic, 4))\n",
    "print(round(pvalue, 4))\n",
    "print('기각' if pvalue < 0.05 else '채택')"
   ]
  },
  {
   "cell_type": "markdown",
   "id": "ed8af6ae-038e-4dcc-81ef-90c04f00d0ef",
   "metadata": {},
   "source": [
    "## 4) ANOVA(분산 분석)"
   ]
  },
  {
   "cell_type": "markdown",
   "id": "8a402c1e-67a1-4d9a-8354-d7567eb56e5c",
   "metadata": {},
   "source": [
    "- 독립변수 – 범주형, 종속변수 – 연속형으로 하는 3개 이상의 집단 평균을 비교하는 모수 추론 방법\n",
    "- 집단 간 분산/집단 내 분산 기반의 F 분포를 이용해 가설을 검정하며 정규성, 등분산성, 독립성을 가정함\n",
    "- 귀무가설 기각 시 구체적인 차이를 파악하기 위해, 사후 검정(Post Hoc Test)이 필요함"
   ]
  },
  {
   "cell_type": "markdown",
   "id": "3724ecbc-1d1d-4467-84e1-315ca738c92d",
   "metadata": {},
   "source": [
    "### 4-1) 일원분산분석(One-way ANOVA)\n",
    "- 독립변수의 변화가 종속변수에 미치는 영향이 있는지를 알기 위해 사용\n",
    "- 범주형 독립변수가 한 개인 경우 사용\n",
    "- 예) 계절별 아이스크림 판매량 평균이 동일하다"
   ]
  },
  {
   "cell_type": "code",
   "execution_count": 19,
   "id": "74e66910-d2cc-4b03-8814-64317a7cbe95",
   "metadata": {},
   "outputs": [
    {
     "name": "stdout",
     "output_type": "stream",
     "text": [
      "   sepal_length  sepal_width  petal_length  petal_width  target\n",
      "0           5.1          3.5           1.4          0.2       0\n",
      "1           4.9          3.0           1.4          0.2       0\n",
      "2           4.7          3.2           1.3          0.2       0\n",
      "3           4.6          3.1           1.5          0.2       0\n",
      "4           5.0          3.6           1.4          0.2       0\n"
     ]
    }
   ],
   "source": [
    "df = pd.read_csv('bigdata/iris_data.csv')\n",
    "df.columns = ['sepal_length', 'sepal_width', 'petal_length', 'petal_width', 'target']\n",
    "print(df.head())"
   ]
  },
  {
   "cell_type": "code",
   "execution_count": 20,
   "id": "d622a1d3-46ba-4c0c-b2ce-6b489dbfe6b2",
   "metadata": {},
   "outputs": [
    {
     "name": "stdout",
     "output_type": "stream",
     "text": [
      "0.2715 0.3380 0.1809\n",
      "0.3515\n",
      "p-value가 0.0000이므로 기각\n"
     ]
    }
   ],
   "source": [
    "# 정규성 확인\n",
    "feature = 'sepal_width'\n",
    "\n",
    "data = [x[1].values for x in df.groupby('target')[feature]]\n",
    "\n",
    "_, pvalue0 = shapiro(data[0])\n",
    "_, pvalue1 = shapiro(data[1])\n",
    "_, pvalue2 = shapiro(data[2])\n",
    "print(f'{pvalue0:.4f} {pvalue1:.4f} {pvalue2:.4f}')\n",
    "\n",
    "# 등분산성 확인\n",
    "_, pvalue = bartlett(*data)\n",
    "print(f'{pvalue:.4f}')\n",
    "\n",
    "F, pvalue = f_oneway(*data)\n",
    "print(f'p-value가 {pvalue:.04f}이므로 {\"기각\" if pvalue < 0.05 else \"채택\"}')"
   ]
  },
  {
   "cell_type": "markdown",
   "id": "b642f961-89f5-42e5-987f-590adc4822a4",
   "metadata": {},
   "source": [
    "### 4-2) 예제"
   ]
  },
  {
   "cell_type": "markdown",
   "id": "15a8b508-fa6b-40da-a45b-135e973589ba",
   "metadata": {},
   "source": [
    "세 가지 다른 교육 방법(A, B, C)을 사용하여 수험생들의 시험 성적을 개선시키는 효과를 평가하고자 한다. 30명의 학생들을 무작위로 세 그룹으로 배정하여 교육을 실시하였고, 시험을 보고 성적을 측정하였다.\n",
    "일원배치법을 수행하여 그룹 간의 평균 성적 차이가 있는지 검정하시오.\n",
    "- f값 (소수 둘째자리)\n",
    "- p값 (소수 여섯째자리)\n",
    "- 검정결과 출력"
   ]
  },
  {
   "cell_type": "code",
   "execution_count": 10,
   "id": "c1eb5f82-a86b-459f-a8e1-335ee28d9d03",
   "metadata": {},
   "outputs": [
    {
     "name": "stdout",
     "output_type": "stream",
     "text": [
      "16.88\n",
      "0.000018\n",
      "p-value가 0.000018이므로 기각\n"
     ]
    }
   ],
   "source": [
    "# 귀무가설(H0): 세 그룹(A, B, C) 간의 평균 성적 차이가 없다.\n",
    "# 대립가설(H1 또는 Ha): 세 그룹(A, B, C) 간의 평균 성적 차이가 있다.\n",
    "\n",
    "groupA = [85, 92, 78, 88, 83, 90, 76, 84, 92, 87]\n",
    "groupB = [79, 69, 84, 78, 79, 83, 79, 81, 86, 88]\n",
    "groupC = [75, 68, 74, 65, 77, 72, 70, 73, 78, 75]\n",
    "\n",
    "fvalue, pvalue = f_oneway(groupA, groupB, groupC)\n",
    "\n",
    "print(round(fvalue, 2))\n",
    "\n",
    "print(format(pvalue,'.6f'))\n",
    "print(f'p-value가 {pvalue:.06f}이므로 {\"기각\" if pvalue < 0.05 else \"채택\"}')"
   ]
  },
  {
   "cell_type": "markdown",
   "id": "3f9e8fc5-1e2f-4c07-baec-16dc94cfed29",
   "metadata": {},
   "source": [
    "# 2. 비모수 검정"
   ]
  },
  {
   "cell_type": "markdown",
   "id": "bdbba546-4c06-4bb1-a3cd-403851734e53",
   "metadata": {},
   "source": [
    "- 모집단의 분포에 대해 제약(정규분포, 집단의 등분산 등)을 가하지 않고 실시하는 검정 방법\n",
    "- 평균, 분산과 같은 모수 자체보다 분포 형태에 관한 검정을 실시함\n",
    "- 관측 값들의 순위나 두 관측 값 사이의 부호, 중앙값 등을 이용해 검정"
   ]
  },
  {
   "cell_type": "markdown",
   "id": "36a49d2b-6ada-4286-9832-e8b1ee825198",
   "metadata": {},
   "source": [
    "## 1) 카이제곱 적합도 검정\n",
    "- 한 개 범주형 변수와 각 그룹별 비율과 특정 상수비가 같은지 검정\n",
    "- **귀무가설(H0):** 변수의 분포가 기대 분포와 같다.\n",
    "- **대립가설(H1):** 변수의 분포가 기대 분포와 같지 않다."
   ]
  },
  {
   "cell_type": "markdown",
   "id": "1492fe25-4ab7-41a4-8613-283224a550bb",
   "metadata": {},
   "source": [
    "**특정 비율** A학급 40명의 혈액형 비율을 A, B, O, AB 각각 20%, 20%, 30%, 30%로 예상하였다. 실제 측정 결과 16, 16, 4, 4 명인 경우의 적합도 검정을 수행하여 보자."
   ]
  },
  {
   "cell_type": "code",
   "execution_count": 21,
   "id": "f314d02a-54c9-4ddc-80f1-8906ed691acb",
   "metadata": {},
   "outputs": [
    {
     "name": "stdout",
     "output_type": "stream",
     "text": [
      "[16, 16, 4, 4] [ 8.  8. 12. 12.]\n",
      "26.6667 0.0000\n",
      "기각\n"
     ]
    }
   ],
   "source": [
    "# 귀무가설: 변수의 분포가 기대 분포와 같다\n",
    "# 대립가설: 변수의 분포가 기대 분포와 같지 않다\n",
    "\n",
    "data = {'blood_type': ['A']*16 + ['B']*16 + ['O']*4 + ['AB']*4}\n",
    "data = pd.DataFrame(data)\n",
    "data['blood_type'] = pd.Categorical(data['blood_type'], categories=['A', 'B', 'O', 'AB'])\n",
    "# print(data.head())\n",
    "observed = data['blood_type'].value_counts().sort_index().to_list()\n",
    "expected = sum(observed) * np.array([0.2, 0.2, 0.3, 0.3]) # [8, 8, 12, 12]\n",
    "print(observed, expected)\n",
    "\n",
    "statistic, pvalue = chisquare(observed, expected)\n",
    "print(f'{statistic:.04f} {pvalue:.04f}')\n",
    "print('기각' if pvalue < 0.05 else '채택')"
   ]
  },
  {
   "cell_type": "markdown",
   "id": "690b41e3-7bbe-4d8d-bfd4-a985717b597e",
   "metadata": {},
   "source": [
    "4개의 범주에 대해 동일한 비율이라고 가정하고, 실제측정 한 표본 분포가 다음과 같을 때, 카이제곱 적합도 검정을 수행하여 보자."
   ]
  },
  {
   "cell_type": "code",
   "execution_count": 22,
   "id": "f2bf4378-507a-497f-a605-90a2403c1ba8",
   "metadata": {},
   "outputs": [
    {
     "name": "stdout",
     "output_type": "stream",
     "text": [
      "[54, 46, 60, 40] [50. 50. 50. 50.]\n",
      "4.6400 0.2001\n",
      "채택\n"
     ]
    }
   ],
   "source": [
    "# 귀무가설: 변수의 분포에 비율 차이가 없다.\n",
    "# 대립가설: 변수의 분포에 비율 차이가 있다.\n",
    "\n",
    "observed = [54, 46, 60, 40]\n",
    "expected = sum(observed) * np.array([0.25]*4)\n",
    "print(observed, expected)\n",
    "\n",
    "statistic, pvalue = chisquare(observed, expected)\n",
    "print(f'{statistic:.04f} {pvalue:.04f}')\n",
    "print('기각' if pvalue < 0.05 else '채택')"
   ]
  },
  {
   "cell_type": "markdown",
   "id": "3c8fa5aa-69ff-4bda-bf22-27f44280c0d7",
   "metadata": {},
   "source": [
    "## 2) 카이제곱 동질성/독립성 검정"
   ]
  },
  {
   "cell_type": "markdown",
   "id": "484e57cb-234c-4ab1-ac9c-2b46866a1696",
   "metadata": {},
   "source": [
    "- **동질성 검정:** 각 집단이 범주형 변수에 대해 서로 유사한 성향을 갖는지 검정\n",
    "  - 예) 남자 그룹, 여자 그룹의 표본을 각각 100명씩 추출하여, 각 표본의 핸드폰 모델 선호도를 조사함\n",
    "  - **귀무가설(H0):** 집단 간 변수의 분포가 같다.\n",
    "  - **대립가설(H1):** 집단 간 변수의 분포가 같지 않다.\n",
    "- **독립성 검정:** 두 개 범주형 변수가 서로 독립인지 검정\n",
    "  - 예) 일반인 200명을 임의 추출하고, 성별과 핸드폰 모델 선호도를 조사함\n",
    "  - **귀무가설(H0):** 두 변수는 연관성이 없다(독립이다).\n",
    "  - **대립가설(H1):** 두 변수는 연관성이 있다(독립이 아니다)."
   ]
  },
  {
   "cell_type": "markdown",
   "id": "3da69df6-ba5c-45f0-8453-f04366433bea",
   "metadata": {},
   "source": [
    "**다음의 교차표를 사용하여 성별별 핸드폰 모델 선호도 분포가 같은지 검정하라.**\n",
    "\n",
    "           model_A  model_B  model_C\n",
    "        M       10       40       50\n",
    "        F       30       60       10\n",
    "\n",
    "- 핸드폰 모델만 변수로 보고 성별은 비교 대상이 되는 그룹으로 해석\n",
    "- 남자 그룹, 여자그룹의 표본을 각각 추출하여 각 표본의 핸드폰 모델 선호도를 조사함\n",
    "- H0 : 성별별 핸드폰 모델 선호도 분포는 같다\n",
    "- H1 : 성별별 핸드폰 모델 선호도 분포가 같지 않다       "
   ]
  },
  {
   "cell_type": "code",
   "execution_count": 23,
   "id": "f864dfad-5d9b-4c87-b40f-c7a047ad744a",
   "metadata": {},
   "outputs": [
    {
     "name": "stdout",
     "output_type": "stream",
     "text": [
      "40.6667 0.0000 2.0000\n",
      "\n",
      "      0     1     2\n",
      "0  20.0  50.0  30.0\n",
      "1  20.0  50.0  30.0 \n",
      "\n",
      "기각\n"
     ]
    }
   ],
   "source": [
    "crs_table = pd.DataFrame([[10, 40, 50], [30, 60, 10]], \n",
    "                         index=['M', 'F'], \n",
    "                         columns=['model_A', 'model_B', 'model_C'])\n",
    "# print(crs_table)\n",
    "\n",
    "statistic, pvalue, df, expected = chi2_contingency(crs_table)\n",
    "print(f'{statistic:.04f} {pvalue:.04f} {df:.04f}\\n')\n",
    "print(pd.DataFrame(expected), '\\n')\n",
    "print('기각' if pvalue < 0.05 else '채택')"
   ]
  },
  {
   "cell_type": "markdown",
   "id": "5dc2253c-2280-4c5f-8454-66319c246284",
   "metadata": {},
   "source": [
    "**카이제곱 독립성 검정 data_chi.csv 파일을 사용하여 당뇨와 비만 사이의 관계가 독립인지 검정하라.**"
   ]
  },
  {
   "cell_type": "code",
   "execution_count": 24,
   "id": "c91032ea-1b63-4c87-9578-5f103cd6bb1d",
   "metadata": {},
   "outputs": [
    {
     "name": "stdout",
     "output_type": "stream",
     "text": [
      "0.0000 1.0000 1.0000\n",
      "\n",
      "       0      1\n",
      "0  62.16  21.84\n",
      "1  11.84   4.16 \n",
      "\n",
      "채택\n"
     ]
    }
   ],
   "source": [
    "df = pd.read_csv('./data_02/data_chi.csv')\n",
    "# print(df.head())\n",
    "\n",
    "# 카이제곱 분석을 위한 분할표 만들기\n",
    "crs_table = pd.crosstab(df['당뇨 여부'], df['비만 여부'])\n",
    "# print(crs_table)\n",
    "\n",
    "# chisquare 검정 \n",
    "statistic, pvalue, df, expected = chi2_contingency(crs_table)\n",
    "print(f'{statistic:.04f} {pvalue:.04f} {df:.04f}\\n')\n",
    "print(pd.DataFrame(expected), '\\n')\n",
    "print('기각' if pvalue < 0.05 else '채택')"
   ]
  },
  {
   "cell_type": "markdown",
   "id": "2442b63c-05d2-459a-9893-412a8f59c147",
   "metadata": {},
   "source": [
    "**아내와 남편의 집안일 관계가 독립인지 검정하라.**"
   ]
  },
  {
   "cell_type": "code",
   "execution_count": 25,
   "id": "3b49c85b-e0a0-4646-975c-a6de2211eb07",
   "metadata": {},
   "outputs": [
    {
     "name": "stdout",
     "output_type": "stream",
     "text": [
      "1944.4562 0.0000 36.0000\n",
      "\n",
      "            0          1          2          3\n",
      "0   60.550459  25.633028  38.449541  51.366972\n",
      "1   52.637615  22.283257  33.424885  44.654243\n",
      "2   37.155963  15.729358  23.594037  31.520642\n",
      "3   48.165138  20.389908  30.584862  40.860092\n",
      "4   41.972477  17.768349  26.652523  35.606651\n",
      "5   38.876147  16.457569  24.686353  32.979931\n",
      "6   41.284404  17.477064  26.215596  35.022936\n",
      "7   33.027523  13.981651  20.972477  28.018349\n",
      "8   47.821101  20.244266  30.366399  40.568234\n",
      "9   38.876147  16.457569  24.686353  32.979931\n",
      "10  47.821101  20.244266  30.366399  40.568234\n",
      "11  56.766055  24.030963  36.046445  48.156537\n",
      "12  55.045872  23.302752  34.954128  46.697248 \n",
      "\n",
      "기각\n"
     ]
    }
   ],
   "source": [
    "# 귀무가설: 집안일의 종류와 수행하는 사람의 관계는 독립이다.\n",
    "# 대립가설: 집안일의 종류와 수행하는 사람의 관계가 독립이 아니다.\n",
    "\n",
    "df = pd.read_csv('data_02/housetasks.csv', index_col=0)\n",
    "# print(df.head())\n",
    "\n",
    "# 카이제곱 독립성 검정\n",
    "statistic, pvalue, df, expected = chi2_contingency(df)\n",
    "print(f'{statistic:.04f} {pvalue:.04f} {df:.04f}\\n')\n",
    "print(pd.DataFrame(expected), '\\n')\n",
    "print('기각' if pvalue < 0.05 else '채택')"
   ]
  },
  {
   "cell_type": "markdown",
   "id": "7e91bfef-bd80-450a-8358-6f99a92e7255",
   "metadata": {},
   "source": [
    "## 3) 피셔의 정확 검정"
   ]
  },
  {
   "cell_type": "code",
   "execution_count": 26,
   "id": "b3ec9c56-3045-4755-be9e-a7b082f0a910",
   "metadata": {},
   "outputs": [],
   "source": [
    "# 귀무가설: 약과 효과의 관계는 독립이다. \n",
    "# 대립가설: 약과 효과의 관계가 독립이 아니다."
   ]
  },
  {
   "cell_type": "code",
   "execution_count": 27,
   "id": "eba243db-7418-40ed-9c9e-b52172de9478",
   "metadata": {},
   "outputs": [
    {
     "name": "stdout",
     "output_type": "stream",
     "text": [
      "      가짜 약  진짜 약\n",
      "효과있음     1     6\n",
      "효과없음     5     2\n",
      "0.0667 0.1026\n",
      "채택\n"
     ]
    }
   ],
   "source": [
    "# [1] 분할표 생성\n",
    "df = pd.DataFrame([[1, 6], [5, 2]])\n",
    "df.columns = ['가짜 약','진짜 약']\n",
    "df.index = ['효과있음', '효과없음']\n",
    "print(df.head())\n",
    "\n",
    "# [2] 피셔의 정확 검정\n",
    "oddsratio, pvalue = fisher_exact(df)\n",
    "print(f'{oddsratio:.04f} {pvalue:.04f}')\n",
    "print('기각' if pvalue < 0.05 else '채택')"
   ]
  },
  {
   "cell_type": "markdown",
   "id": "aaabb05b-108c-4bbb-95ef-401c89afb853",
   "metadata": {},
   "source": [
    "## 4) Wilcoxon Signed Rank Test"
   ]
  },
  {
   "cell_type": "markdown",
   "id": "f96b1352-0e3a-44ab-ab98-954ea321db8d",
   "metadata": {},
   "source": [
    "- 1표본/대응표본 T 검정에서 정규성 가정이 만족되지 않을 때 사용하는 비모수 검정법으로 중앙값에 관한 결과를 얻을 수 있음\n",
    "- 가정: 표본은 동일한 모집단에서 추출되어야 하며, 임의, 독립적으로 추출되어야 한다."
   ]
  },
  {
   "cell_type": "markdown",
   "id": "92e29df2-2d4e-409b-aa09-05acd1116a4b",
   "metadata": {},
   "source": [
    "### 4-1) 일표본(One sample)"
   ]
  },
  {
   "cell_type": "markdown",
   "id": "e35b6030-a59a-4540-8dc3-f4225a937d6f",
   "metadata": {},
   "source": [
    "**중량이 100g 으로 표기된 닭가슴살 제품이 100g이라고 할 수 있는가?**\n",
    "- 동일한 회사 제품을 임의로 9개 표본 추출하였음\n",
    "- 통계적 유의수준은 0.05로 사용함"
   ]
  },
  {
   "cell_type": "code",
   "execution_count": 28,
   "id": "3427ddb9-6fcd-441e-a7f7-497a3426abc4",
   "metadata": {},
   "outputs": [
    {
     "name": "stdout",
     "output_type": "stream",
     "text": [
      "statistic: 10.0000 p-value: 0.1641\n",
      "채택\n",
      "\n",
      "statistic: 35.0000 p-value: 0.9355\n",
      "채택\n",
      "\n",
      "statistic: 35.0000 p-value: 0.0820\n",
      "채택\n",
      "\n"
     ]
    }
   ],
   "source": [
    "# 귀무가설: 닭 가슴살 중량의 중앙값은 100g이다.\n",
    "# 대립가설: 닭 가슴살 중량의 중앙값은 100g이 아니다.\n",
    "\n",
    "df = pd.read_csv('data_02/chicken_breast.csv')\n",
    "# print(df.head())\n",
    "\n",
    "at_s, at_p = wilcoxon(df.weight - 100, alternative='two-sided')\n",
    "print(f'statistic: {at_s:.04f} p-value: {at_p:.04f}')\n",
    "print('기각' if at_p < 0.05 else '채택\\n')\n",
    "\n",
    "al_s, al_p = wilcoxon(df.weight - 100, alternative='less')\n",
    "print(f'statistic: {al_s:.04f} p-value: {al_p:.04f}')\n",
    "print('기각' if al_p < 0.05 else '채택\\n')\n",
    "\n",
    "ag_s, ag_p = wilcoxon(df.weight - 100, alternative='greater')\n",
    "print(f'statistic: {ag_s:.04f} p-value: {ag_p:.04f}')\n",
    "print('기각' if ag_p < 0.05 else '채택\\n')"
   ]
  },
  {
   "cell_type": "markdown",
   "id": "bdef5649-8d66-4378-aa7a-60a606aef4e3",
   "metadata": {},
   "source": [
    "### 4-2) 대응표본(Paired)"
   ]
  },
  {
   "cell_type": "code",
   "execution_count": 29,
   "id": "6076206a-b9b5-49cc-9221-5d35f74f7ee9",
   "metadata": {},
   "outputs": [
    {
     "name": "stdout",
     "output_type": "stream",
     "text": [
      "statistic: 1.0000 p-value: 0.0156\n",
      "기각\n",
      "statistic: 1.0000 p-value: 0.0078\n",
      "기각\n",
      "statistic: 1.0000 p-value: 0.9961\n",
      "채택\n",
      "\n"
     ]
    }
   ],
   "source": [
    "# 귀무가설: 다이어트 후 - 다이어트 전 몸무게 중앙값은 0과 같다 \n",
    "# 대립가설: 다이어트 후 - 다이어트 전 몸무게 중앙값은 0과 다르다\n",
    "\n",
    "df = pd.read_csv('data_02/diet_result.csv')\n",
    "# print(df.head())\n",
    "\n",
    "at_s, at_p = wilcoxon(df.after, df.before, alternative='two-sided')\n",
    "print(f'statistic: {at_s:.04f} p-value: {at_p:.04f}')\n",
    "print('기각' if at_p < 0.05 else '채택\\n')\n",
    "\n",
    "al_s, al_p = wilcoxon(df.after, df.before, alternative='less')\n",
    "print(f'statistic: {al_s:.04f} p-value: {al_p:.04f}')\n",
    "print('기각' if al_p < 0.05 else '채택\\n')\n",
    "\n",
    "ag_s, ag_p = wilcoxon(df.after, df.before, alternative='greater')\n",
    "print(f'statistic: {ag_s:.04f} p-value: {ag_p:.04f}')\n",
    "print('기각' if ag_p < 0.05 else '채택\\n')"
   ]
  },
  {
   "cell_type": "markdown",
   "id": "1d650105-cf4e-4031-9fd3-504e3817259d",
   "metadata": {},
   "source": [
    "## 5) Wilcoxon Rank Sum Test"
   ]
  },
  {
   "cell_type": "markdown",
   "id": "3f644665-a0c3-4804-a200-59e8fe742a91",
   "metadata": {},
   "source": [
    "- 독립2표본 T 검정에서 정규성 가정이 만족되지 않을 때 사용하는 비모수 검정법으로 두 표본의 중위수를 비교하는 데에 쓰임"
   ]
  },
  {
   "cell_type": "markdown",
   "id": "c84b14e6-0aa3-4628-b123-75977488db3b",
   "metadata": {
    "tags": []
   },
   "source": [
    "### 5-1) 2표본 독립"
   ]
  },
  {
   "cell_type": "markdown",
   "id": "ae3ffc16-8b5c-4cd8-b848-31bfe82cafe9",
   "metadata": {},
   "source": [
    "**A사 닭가슴살 제품의 중량과 B사 닭가슴살 제품의 중량이 차이가 있는지 확인하라.**\n",
    "- A사 닭가슴살은 40개의 표본, B사 닭가슴살은 20개의 표본이 있으며\n",
    "- 각각 독립적이고 임의로 추출했다\n",
    "- 통계적 유의수준은 0.05 사용"
   ]
  },
  {
   "cell_type": "code",
   "execution_count": 30,
   "id": "2a69be9d-04e8-43da-8149-4fa0baed733a",
   "metadata": {},
   "outputs": [
    {
     "name": "stdout",
     "output_type": "stream",
     "text": [
      "0.5676, 0.0006\n",
      "statistic: -4.8612 p-value: 0.0000\n",
      "기각\n",
      "statistic: -4.8612 p-value: 0.0000\n",
      "기각\n",
      "statistic: -4.8612 p-value: 1.0000\n",
      "채택\n",
      "\n"
     ]
    }
   ],
   "source": [
    "# 귀무가설: A사 닭가슴살 중량과 B사 닭가슴살 중량의 차이가 없다.\n",
    "# 대립가설: A사 닭가슴살 중량과 B사 닭가슴살 중량의 차이가 있다.\n",
    "\n",
    "df = pd.read_csv('data_02/chicken_weight_AB.csv')\n",
    "# print(df.head())\n",
    "\n",
    "gA = df.loc[df['company']=='A', 'weight']\n",
    "gB = df.loc[df['company']=='B', 'weight']\n",
    "\n",
    "_, pA = shapiro(gA)  # 정규성 만족\n",
    "_, pB = shapiro(gB)  # 정규성 만족하지 않음\n",
    "print(f'{pA:.04f}, {pB:.04f}')\n",
    "\n",
    "at_s, at_p = ranksums(gA, gB, alternative='two-sided')\n",
    "print(f'statistic: {at_s:.04f} p-value: {at_p:.04f}')\n",
    "print('기각' if at_p < 0.05 else '채택\\n')\n",
    "\n",
    "al_s, al_p = ranksums(gA, gB, alternative='less')\n",
    "print(f'statistic: {al_s:.04f} p-value: {al_p:.04f}')\n",
    "print('기각' if al_p < 0.05 else '채택\\n')\n",
    "\n",
    "ag_s, ag_p = ranksums(gA, gB, alternative='greater')\n",
    "print(f'statistic: {ag_s:.04f} p-value: {ag_p:.04f}')\n",
    "print('기각' if ag_p < 0.05 else '채택\\n')"
   ]
  },
  {
   "cell_type": "markdown",
   "id": "47997c52-f116-40a4-ad60-505c62081f29",
   "metadata": {},
   "source": [
    "### 5-2) Mann-Whitney U test"
   ]
  },
  {
   "cell_type": "code",
   "execution_count": 31,
   "id": "5a04a0ff-3b8d-43d8-86c8-03b9564f7ad2",
   "metadata": {},
   "outputs": [
    {
     "name": "stdout",
     "output_type": "stream",
     "text": [
      "statistic: 90.0000 p-value: 0.0000\n",
      "기각\n",
      "statistic: 90.0000 p-value: 0.0000\n",
      "기각\n",
      "statistic: 90.0000 p-value: 1.0000\n",
      "채택\n",
      "\n"
     ]
    }
   ],
   "source": [
    "at_s, at_p = mannwhitneyu(gA, gB, alternative='two-sided')\n",
    "print(f'statistic: {at_s:.04f} p-value: {at_p:.04f}')\n",
    "print('기각' if at_p < 0.05 else '채택\\n')\n",
    "\n",
    "al_s, al_p = mannwhitneyu(gA, gB, alternative='less')\n",
    "print(f'statistic: {al_s:.04f} p-value: {al_p:.04f}')\n",
    "print('기각' if al_p < 0.05 else '채택\\n')\n",
    "\n",
    "ag_s, ag_p = mannwhitneyu(gA, gB, alternative='greater')\n",
    "print(f'statistic: {ag_s:.04f} p-value: {ag_p:.04f}')\n",
    "print('기각' if ag_p < 0.05 else '채택\\n')"
   ]
  },
  {
   "cell_type": "markdown",
   "id": "c9853fd1-ea55-43ad-b048-c938b5cdc447",
   "metadata": {},
   "source": [
    "## 6) Kruskal-Wallis H-test"
   ]
  },
  {
   "cell_type": "markdown",
   "id": "5e229dbd-d382-446b-8f18-c821efdbfd4b",
   "metadata": {},
   "source": [
    "- 분산분석에서 정규성 가정이 만족되지 않을 때 사용하는 비모수 검정법으로 중앙값에 관한 결과를 얻을 수 있음\n",
    "- 가정: 표본은 독립적이며, 측정값은 최소 순서형 변수이다(대소 비교가 가능해야 한다)."
   ]
  },
  {
   "cell_type": "markdown",
   "id": "b04e0799-9bae-4387-944c-9163a0e9390d",
   "metadata": {},
   "source": [
    "**A, B, C 고등학교 학생들의 하루 공부 시간을 조사했을 때,고등학교 간에 공부 시간이 차이가 있는지 확인하라.**\n",
    "- 통계적 유의수준은 0.05"
   ]
  },
  {
   "cell_type": "code",
   "execution_count": 32,
   "id": "f216e735-f93b-41b0-9eb3-c788dce1c59a",
   "metadata": {},
   "outputs": [
    {
     "name": "stdout",
     "output_type": "stream",
     "text": [
      "20 30 15\n",
      "A=0.4412 B=0.6307 C=0.2647\n",
      "statistic:34.1434 pvalue: 0.0000\n",
      "statistic:1394.1870 pvalue: 0.0000\n"
     ]
    }
   ],
   "source": [
    "# 귀무가설: A,B,C 고등학교 학생들의 하루 공부시간에 차이가 없다.\n",
    "# 대립가설: A,B,C 고등학교 학생들의 하루 공부시간에 차이가 있다.\n",
    "\n",
    "df = pd.read_csv('data_02/high_school.csv')\n",
    "# print(df.head())\n",
    "\n",
    "gA = df.loc[df.group =='A', 'time']\n",
    "gB = df.loc[df.group =='B', 'time']\n",
    "gC = df.loc[df.group =='C', 'time']\n",
    "print(len(gA), len(gB), len(gC))\n",
    "\n",
    "_, pA = shapiro(gA)  # 정규성 만족\n",
    "_, pB = shapiro(gB)  # 정규성 만족\n",
    "_, pC = shapiro(gC)  # 정규성 만족\n",
    "print(f'A={pA:.4f} B={pB:.4f} C={pC:.4f}')\n",
    "\n",
    "statistic, pvalue = kruskal(gA, gB, gC)\n",
    "print(f'statistic:{statistic:.4f} pvalue: {pvalue:.4f}')\n",
    "\n",
    "statistic, pvalue = f_oneway(gA, gB, gC)\n",
    "print(f'statistic:{statistic:.4f} pvalue: {pvalue:.4f}')"
   ]
  }
 ],
 "metadata": {
  "kernelspec": {
   "display_name": "Python 3 (ipykernel)",
   "language": "python",
   "name": "python3"
  },
  "language_info": {
   "codemirror_mode": {
    "name": "ipython",
    "version": 3
   },
   "file_extension": ".py",
   "mimetype": "text/x-python",
   "name": "python",
   "nbconvert_exporter": "python",
   "pygments_lexer": "ipython3",
   "version": "3.10.9"
  }
 },
 "nbformat": 4,
 "nbformat_minor": 5
}
