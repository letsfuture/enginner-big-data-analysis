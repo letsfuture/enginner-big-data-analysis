{
 "cells": [
  {
   "cell_type": "code",
   "execution_count": 1,
   "id": "697cde1b-2c43-40b3-932f-19a0ef5088b1",
   "metadata": {},
   "outputs": [],
   "source": [
    "import pandas as pd\n",
    "import numpy as np\n",
    "import seaborn as sns\n",
    "import matplotlib.pyplot as plt\n",
    "\n",
    "from sklearn.preprocessing import MinMaxScaler\n",
    "from sklearn.preprocessing import StandardScaler\n",
    "from sklearn.preprocessing import LabelEncoder\n",
    "from sklearn.preprocessing import PolynomialFeatures\n",
    "\n",
    "from sklearn.model_selection import train_test_split\n",
    "\n",
    "from sklearn.linear_model import LinearRegression\n",
    "from sklearn.ensemble import RandomForestRegressor\n",
    "from sklearn.tree import DecisionTreeRegressor\n",
    "from sklearn.linear_model import Ridge\n",
    "from sklearn.linear_model import Lasso\n",
    "from xgboost import XGBRegressor\n",
    "from catboost import CatBoostRegressor\n",
    "from lightgbm import LGBMRegressor\n",
    "\n",
    "# 성능 평가\n",
    "from sklearn.metrics import r2_score\n",
    "from sklearn.metrics import mean_absolute_error as mae\n",
    "from sklearn.metrics import mean_squared_error as mse\n",
    "from sklearn.metrics import mean_squared_log_error as msle"
   ]
  },
  {
   "cell_type": "markdown",
   "id": "64f4c6c4-cccd-40ed-ac44-f3fc43cb961e",
   "metadata": {},
   "source": [
    "# 1. 데이터셋"
   ]
  },
  {
   "cell_type": "code",
   "execution_count": 2,
   "id": "a5ee89ca-232d-4c2a-9497-fea4de802752",
   "metadata": {},
   "outputs": [
    {
     "data": {
      "text/html": [
       "<div>\n",
       "<style scoped>\n",
       "    .dataframe tbody tr th:only-of-type {\n",
       "        vertical-align: middle;\n",
       "    }\n",
       "\n",
       "    .dataframe tbody tr th {\n",
       "        vertical-align: top;\n",
       "    }\n",
       "\n",
       "    .dataframe thead th {\n",
       "        text-align: right;\n",
       "    }\n",
       "</style>\n",
       "<table border=\"1\" class=\"dataframe\">\n",
       "  <thead>\n",
       "    <tr style=\"text-align: right;\">\n",
       "      <th></th>\n",
       "      <th>Row</th>\n",
       "      <th>Day</th>\n",
       "      <th>Day.Of.Week</th>\n",
       "      <th>Date</th>\n",
       "      <th>Page.Loads</th>\n",
       "      <th>Unique.Visits</th>\n",
       "      <th>First.Time.Visits</th>\n",
       "      <th>Returning.Visits</th>\n",
       "    </tr>\n",
       "  </thead>\n",
       "  <tbody>\n",
       "    <tr>\n",
       "      <th>0</th>\n",
       "      <td>1</td>\n",
       "      <td>Sunday</td>\n",
       "      <td>1</td>\n",
       "      <td>9/14/2014</td>\n",
       "      <td>2,146</td>\n",
       "      <td>1,582</td>\n",
       "      <td>1,430</td>\n",
       "      <td>152</td>\n",
       "    </tr>\n",
       "    <tr>\n",
       "      <th>1</th>\n",
       "      <td>2</td>\n",
       "      <td>Monday</td>\n",
       "      <td>2</td>\n",
       "      <td>9/15/2014</td>\n",
       "      <td>3,621</td>\n",
       "      <td>2,528</td>\n",
       "      <td>2,297</td>\n",
       "      <td>231</td>\n",
       "    </tr>\n",
       "    <tr>\n",
       "      <th>2</th>\n",
       "      <td>3</td>\n",
       "      <td>Tuesday</td>\n",
       "      <td>3</td>\n",
       "      <td>9/16/2014</td>\n",
       "      <td>3,698</td>\n",
       "      <td>2,630</td>\n",
       "      <td>2,352</td>\n",
       "      <td>278</td>\n",
       "    </tr>\n",
       "    <tr>\n",
       "      <th>3</th>\n",
       "      <td>4</td>\n",
       "      <td>Wednesday</td>\n",
       "      <td>4</td>\n",
       "      <td>9/17/2014</td>\n",
       "      <td>3,667</td>\n",
       "      <td>2,614</td>\n",
       "      <td>2,327</td>\n",
       "      <td>287</td>\n",
       "    </tr>\n",
       "    <tr>\n",
       "      <th>4</th>\n",
       "      <td>5</td>\n",
       "      <td>Thursday</td>\n",
       "      <td>5</td>\n",
       "      <td>9/18/2014</td>\n",
       "      <td>3,316</td>\n",
       "      <td>2,366</td>\n",
       "      <td>2,130</td>\n",
       "      <td>236</td>\n",
       "    </tr>\n",
       "  </tbody>\n",
       "</table>\n",
       "</div>"
      ],
      "text/plain": [
       "   Row        Day  Day.Of.Week       Date Page.Loads Unique.Visits  \\\n",
       "0    1     Sunday            1  9/14/2014      2,146         1,582   \n",
       "1    2     Monday            2  9/15/2014      3,621         2,528   \n",
       "2    3    Tuesday            3  9/16/2014      3,698         2,630   \n",
       "3    4  Wednesday            4  9/17/2014      3,667         2,614   \n",
       "4    5   Thursday            5  9/18/2014      3,316         2,366   \n",
       "\n",
       "  First.Time.Visits Returning.Visits  \n",
       "0             1,430              152  \n",
       "1             2,297              231  \n",
       "2             2,352              278  \n",
       "3             2,327              287  \n",
       "4             2,130              236  "
      ]
     },
     "execution_count": 2,
     "metadata": {},
     "output_type": "execute_result"
    }
   ],
   "source": [
    "df = pd.read_csv('bigdata/daily-website-visitors.csv')\n",
    "df.head()"
   ]
  },
  {
   "cell_type": "code",
   "execution_count": 3,
   "id": "00c5d2d5-2220-4570-840c-d7f82cbaca6e",
   "metadata": {},
   "outputs": [
    {
     "name": "stdout",
     "output_type": "stream",
     "text": [
      "<class 'pandas.core.frame.DataFrame'>\n",
      "RangeIndex: 2167 entries, 0 to 2166\n",
      "Data columns (total 8 columns):\n",
      " #   Column             Non-Null Count  Dtype \n",
      "---  ------             --------------  ----- \n",
      " 0   Row                2167 non-null   int64 \n",
      " 1   Day                2167 non-null   object\n",
      " 2   Day.Of.Week        2167 non-null   int64 \n",
      " 3   Date               2167 non-null   object\n",
      " 4   Page.Loads         2167 non-null   object\n",
      " 5   Unique.Visits      2167 non-null   object\n",
      " 6   First.Time.Visits  2167 non-null   object\n",
      " 7   Returning.Visits   2167 non-null   object\n",
      "dtypes: int64(2), object(6)\n",
      "memory usage: 135.6+ KB\n"
     ]
    }
   ],
   "source": [
    "df.info()"
   ]
  },
  {
   "cell_type": "code",
   "execution_count": 4,
   "id": "8902d79f-1ee8-4d09-865e-af4e5d40ec22",
   "metadata": {},
   "outputs": [
    {
     "data": {
      "text/plain": [
       "Index(['row', 'day', 'day_of_week', 'date', 'page_loads', 'unique_visits',\n",
       "       'first_time_visits', 'returning_visits'],\n",
       "      dtype='object')"
      ]
     },
     "execution_count": 4,
     "metadata": {},
     "output_type": "execute_result"
    }
   ],
   "source": [
    "df.columns = df.columns.str.replace('.', '_', regex=True).str.lower()\n",
    "df.columns"
   ]
  },
  {
   "cell_type": "code",
   "execution_count": 5,
   "id": "02a43d70-f95c-4e96-9907-880309279b15",
   "metadata": {},
   "outputs": [
    {
     "name": "stdout",
     "output_type": "stream",
     "text": [
      "(1301, 9) (866, 9)\n"
     ]
    }
   ],
   "source": [
    "train_size = len(df) - int(len(df)*0.4)\n",
    "\n",
    "df = df.sample(frac=1, random_state=42)\n",
    "df['ID'] = range(1, len(df) + 1)\n",
    "train = df.iloc[:train_size, :]\n",
    "test = df.iloc[train_size:, :]\n",
    "\n",
    "print(train.shape, test.shape)\n",
    "\n",
    "y = 'unique_visits'\n",
    "\n",
    "X_train = train.drop(columns=y, axis=1)\n",
    "y_train = train[['ID', y]]\n",
    "\n",
    "X_test = test.drop(columns=y, axis=1)\n",
    "y_test = test[['ID', y]]"
   ]
  },
  {
   "cell_type": "code",
   "execution_count": 6,
   "id": "bc58dad4-fced-44ea-94aa-f8814f58f017",
   "metadata": {},
   "outputs": [
    {
     "data": {
      "text/html": [
       "<div>\n",
       "<style scoped>\n",
       "    .dataframe tbody tr th:only-of-type {\n",
       "        vertical-align: middle;\n",
       "    }\n",
       "\n",
       "    .dataframe tbody tr th {\n",
       "        vertical-align: top;\n",
       "    }\n",
       "\n",
       "    .dataframe thead th {\n",
       "        text-align: right;\n",
       "    }\n",
       "</style>\n",
       "<table border=\"1\" class=\"dataframe\">\n",
       "  <thead>\n",
       "    <tr style=\"text-align: right;\">\n",
       "      <th></th>\n",
       "      <th>row</th>\n",
       "      <th>day</th>\n",
       "      <th>day_of_week</th>\n",
       "      <th>date</th>\n",
       "      <th>page_loads</th>\n",
       "      <th>first_time_visits</th>\n",
       "      <th>returning_visits</th>\n",
       "      <th>ID</th>\n",
       "    </tr>\n",
       "  </thead>\n",
       "  <tbody>\n",
       "    <tr>\n",
       "      <th>0</th>\n",
       "      <td>1487</td>\n",
       "      <td>Tuesday</td>\n",
       "      <td>3</td>\n",
       "      <td>10/9/2018</td>\n",
       "      <td>6,126</td>\n",
       "      <td>3,522</td>\n",
       "      <td>651</td>\n",
       "      <td>1</td>\n",
       "    </tr>\n",
       "    <tr>\n",
       "      <th>1</th>\n",
       "      <td>1603</td>\n",
       "      <td>Saturday</td>\n",
       "      <td>7</td>\n",
       "      <td>2/2/2019</td>\n",
       "      <td>2,864</td>\n",
       "      <td>1,596</td>\n",
       "      <td>306</td>\n",
       "      <td>2</td>\n",
       "    </tr>\n",
       "    <tr>\n",
       "      <th>2</th>\n",
       "      <td>1461</td>\n",
       "      <td>Thursday</td>\n",
       "      <td>5</td>\n",
       "      <td>9/13/2018</td>\n",
       "      <td>4,357</td>\n",
       "      <td>2,325</td>\n",
       "      <td>545</td>\n",
       "      <td>3</td>\n",
       "    </tr>\n",
       "    <tr>\n",
       "      <th>3</th>\n",
       "      <td>1135</td>\n",
       "      <td>Sunday</td>\n",
       "      <td>1</td>\n",
       "      <td>10/22/2017</td>\n",
       "      <td>2,851</td>\n",
       "      <td>1,779</td>\n",
       "      <td>363</td>\n",
       "      <td>4</td>\n",
       "    </tr>\n",
       "    <tr>\n",
       "      <th>4</th>\n",
       "      <td>1514</td>\n",
       "      <td>Monday</td>\n",
       "      <td>2</td>\n",
       "      <td>11/5/2018</td>\n",
       "      <td>6,365</td>\n",
       "      <td>3,609</td>\n",
       "      <td>720</td>\n",
       "      <td>5</td>\n",
       "    </tr>\n",
       "  </tbody>\n",
       "</table>\n",
       "</div>"
      ],
      "text/plain": [
       "    row       day  day_of_week        date page_loads first_time_visits  \\\n",
       "0  1487   Tuesday            3   10/9/2018      6,126             3,522   \n",
       "1  1603  Saturday            7    2/2/2019      2,864             1,596   \n",
       "2  1461  Thursday            5   9/13/2018      4,357             2,325   \n",
       "3  1135    Sunday            1  10/22/2017      2,851             1,779   \n",
       "4  1514    Monday            2   11/5/2018      6,365             3,609   \n",
       "\n",
       "  returning_visits  ID  \n",
       "0              651   1  \n",
       "1              306   2  \n",
       "2              545   3  \n",
       "3              363   4  \n",
       "4              720   5  "
      ]
     },
     "execution_count": 6,
     "metadata": {},
     "output_type": "execute_result"
    }
   ],
   "source": [
    "dfX = pd.concat([X_train, X_test], ignore_index=True, axis=0)\n",
    "dfX.head()"
   ]
  },
  {
   "cell_type": "code",
   "execution_count": 7,
   "id": "3be1a381-8736-4037-90a4-afd74afd2bba",
   "metadata": {},
   "outputs": [
    {
     "name": "stdout",
     "output_type": "stream",
     "text": [
      "<class 'pandas.core.frame.DataFrame'>\n",
      "RangeIndex: 2167 entries, 0 to 2166\n",
      "Data columns (total 8 columns):\n",
      " #   Column             Non-Null Count  Dtype \n",
      "---  ------             --------------  ----- \n",
      " 0   row                2167 non-null   int64 \n",
      " 1   day                2167 non-null   object\n",
      " 2   day_of_week        2167 non-null   int64 \n",
      " 3   date               2167 non-null   object\n",
      " 4   page_loads         2167 non-null   object\n",
      " 5   first_time_visits  2167 non-null   object\n",
      " 6   returning_visits   2167 non-null   object\n",
      " 7   ID                 2167 non-null   int64 \n",
      "dtypes: int64(3), object(5)\n",
      "memory usage: 135.6+ KB\n"
     ]
    }
   ],
   "source": [
    "dfX.info()"
   ]
  },
  {
   "cell_type": "code",
   "execution_count": 8,
   "id": "c426d2da-3614-48ab-bef6-148fccfde8f7",
   "metadata": {},
   "outputs": [],
   "source": [
    "dfX['date'] = pd.to_datetime(dfX['date'], format='%m/%d/%Y')"
   ]
  },
  {
   "cell_type": "code",
   "execution_count": 9,
   "id": "9977e5c6-993e-47fc-b2cb-8c26d6f49c0d",
   "metadata": {},
   "outputs": [
    {
     "name": "stdout",
     "output_type": "stream",
     "text": [
      "<class 'pandas.core.frame.DataFrame'>\n",
      "RangeIndex: 2167 entries, 0 to 2166\n",
      "Data columns (total 8 columns):\n",
      " #   Column             Non-Null Count  Dtype         \n",
      "---  ------             --------------  -----         \n",
      " 0   row                2167 non-null   int64         \n",
      " 1   day                2167 non-null   object        \n",
      " 2   day_of_week        2167 non-null   int64         \n",
      " 3   date               2167 non-null   datetime64[ns]\n",
      " 4   page_loads         2167 non-null   object        \n",
      " 5   first_time_visits  2167 non-null   object        \n",
      " 6   returning_visits   2167 non-null   object        \n",
      " 7   ID                 2167 non-null   int64         \n",
      "dtypes: datetime64[ns](1), int64(3), object(4)\n",
      "memory usage: 135.6+ KB\n"
     ]
    }
   ],
   "source": [
    "dfX.info()"
   ]
  },
  {
   "cell_type": "code",
   "execution_count": 10,
   "id": "ffd4606f-a0be-46c5-9e2a-b1228d5515ff",
   "metadata": {},
   "outputs": [],
   "source": [
    "dfX.drop(columns='day', axis=1, inplace=True)"
   ]
  },
  {
   "cell_type": "code",
   "execution_count": 11,
   "id": "a3ae5df6-1c91-4d16-866f-688520f3f0c0",
   "metadata": {},
   "outputs": [
    {
     "name": "stdout",
     "output_type": "stream",
     "text": [
      "<class 'pandas.core.frame.DataFrame'>\n",
      "RangeIndex: 2167 entries, 0 to 2166\n",
      "Data columns (total 7 columns):\n",
      " #   Column             Non-Null Count  Dtype         \n",
      "---  ------             --------------  -----         \n",
      " 0   row                2167 non-null   int64         \n",
      " 1   day_of_week        2167 non-null   int64         \n",
      " 2   date               2167 non-null   datetime64[ns]\n",
      " 3   page_loads         2167 non-null   int32         \n",
      " 4   first_time_visits  2167 non-null   int32         \n",
      " 5   returning_visits   2167 non-null   int32         \n",
      " 6   ID                 2167 non-null   int64         \n",
      "dtypes: datetime64[ns](1), int32(3), int64(3)\n",
      "memory usage: 93.2 KB\n"
     ]
    }
   ],
   "source": [
    "col = ['page_loads', 'first_time_visits', 'returning_visits']\n",
    "dfX[col] = dfX[col].replace(',', '', regex=True).astype(int)\n",
    "dfX.info()"
   ]
  },
  {
   "cell_type": "code",
   "execution_count": 12,
   "id": "045094d3-7ebe-48b6-b9a9-595f8cdef04e",
   "metadata": {},
   "outputs": [
    {
     "name": "stdout",
     "output_type": "stream",
     "text": [
      "<class 'pandas.core.frame.DataFrame'>\n",
      "RangeIndex: 2167 entries, 0 to 2166\n",
      "Data columns (total 9 columns):\n",
      " #   Column             Non-Null Count  Dtype\n",
      "---  ------             --------------  -----\n",
      " 0   row                2167 non-null   int64\n",
      " 1   day_of_week        2167 non-null   int64\n",
      " 2   page_loads         2167 non-null   int32\n",
      " 3   first_time_visits  2167 non-null   int32\n",
      " 4   returning_visits   2167 non-null   int32\n",
      " 5   ID                 2167 non-null   int64\n",
      " 6   year               2167 non-null   int64\n",
      " 7   month              2167 non-null   int64\n",
      " 8   day                2167 non-null   int64\n",
      "dtypes: int32(3), int64(6)\n",
      "memory usage: 127.1 KB\n"
     ]
    }
   ],
   "source": [
    "date = pd.DataFrame()\n",
    "\n",
    "date['year'] = dfX['date'].dt.year\n",
    "date['month'] = dfX['date'].dt.month\n",
    "date['day'] = dfX['date'].dt.day\n",
    "\n",
    "dfX.drop(columns='date', inplace=True)\n",
    "\n",
    "dfX_n = pd.concat([dfX, date], axis=1)\n",
    "dfX_n.info()"
   ]
  },
  {
   "cell_type": "code",
   "execution_count": 13,
   "id": "e26fc24c-4ca4-455b-b632-b3b9f4c5e67d",
   "metadata": {},
   "outputs": [
    {
     "name": "stdout",
     "output_type": "stream",
     "text": [
      "ID                int64\n",
      "unique_visits    object\n",
      "dtype: object\n",
      "ID                int64\n",
      "unique_visits    object\n",
      "dtype: object\n"
     ]
    }
   ],
   "source": [
    "print(y_train.dtypes)\n",
    "print(y_test.dtypes)"
   ]
  },
  {
   "cell_type": "code",
   "execution_count": 14,
   "id": "db4379a4-9826-40a6-9949-54650a51f73e",
   "metadata": {},
   "outputs": [
    {
     "name": "stderr",
     "output_type": "stream",
     "text": [
      "C:\\Users\\futur\\AppData\\Local\\Temp\\ipykernel_16860\\4078436437.py:1: SettingWithCopyWarning: \n",
      "A value is trying to be set on a copy of a slice from a DataFrame.\n",
      "Try using .loc[row_indexer,col_indexer] = value instead\n",
      "\n",
      "See the caveats in the documentation: https://pandas.pydata.org/pandas-docs/stable/user_guide/indexing.html#returning-a-view-versus-a-copy\n",
      "  y_train['unique_visits'] = y_train['unique_visits'].replace(',', '', regex=True).astype(int)\n"
     ]
    }
   ],
   "source": [
    "y_train['unique_visits'] = y_train['unique_visits'].replace(',', '', regex=True).astype(int)"
   ]
  },
  {
   "cell_type": "code",
   "execution_count": 15,
   "id": "be5fc852-e06a-49a3-9081-a9d512a798fd",
   "metadata": {},
   "outputs": [
    {
     "name": "stderr",
     "output_type": "stream",
     "text": [
      "C:\\Users\\futur\\AppData\\Local\\Temp\\ipykernel_16860\\3232408644.py:1: SettingWithCopyWarning: \n",
      "A value is trying to be set on a copy of a slice from a DataFrame.\n",
      "Try using .loc[row_indexer,col_indexer] = value instead\n",
      "\n",
      "See the caveats in the documentation: https://pandas.pydata.org/pandas-docs/stable/user_guide/indexing.html#returning-a-view-versus-a-copy\n",
      "  y_test['unique_visits'] = y_test['unique_visits'].replace(',', '', regex=True).astype(int)\n"
     ]
    }
   ],
   "source": [
    "y_test['unique_visits'] = y_test['unique_visits'].replace(',', '', regex=True).astype(int)"
   ]
  },
  {
   "cell_type": "code",
   "execution_count": 16,
   "id": "c19b3be1-be3b-48ed-8e02-55e0535e8fb0",
   "metadata": {},
   "outputs": [
    {
     "name": "stdout",
     "output_type": "stream",
     "text": [
      "(1301, 10) (2167, 9) (1301, 2)\n"
     ]
    }
   ],
   "source": [
    "dfXY = pd.merge(dfX_n, y_train)\n",
    "print(dfXY.shape, dfX_n.shape, y_train.shape)"
   ]
  },
  {
   "cell_type": "code",
   "execution_count": 17,
   "id": "399c8656-17ad-4e69-adf0-7087e78f653d",
   "metadata": {},
   "outputs": [
    {
     "data": {
      "text/html": [
       "<div>\n",
       "<style scoped>\n",
       "    .dataframe tbody tr th:only-of-type {\n",
       "        vertical-align: middle;\n",
       "    }\n",
       "\n",
       "    .dataframe tbody tr th {\n",
       "        vertical-align: top;\n",
       "    }\n",
       "\n",
       "    .dataframe thead th {\n",
       "        text-align: right;\n",
       "    }\n",
       "</style>\n",
       "<table border=\"1\" class=\"dataframe\">\n",
       "  <thead>\n",
       "    <tr style=\"text-align: right;\">\n",
       "      <th></th>\n",
       "      <th>row</th>\n",
       "      <th>day_of_week</th>\n",
       "      <th>page_loads</th>\n",
       "      <th>first_time_visits</th>\n",
       "      <th>returning_visits</th>\n",
       "      <th>ID</th>\n",
       "      <th>year</th>\n",
       "      <th>month</th>\n",
       "      <th>day</th>\n",
       "      <th>unique_visits</th>\n",
       "    </tr>\n",
       "  </thead>\n",
       "  <tbody>\n",
       "    <tr>\n",
       "      <th>0</th>\n",
       "      <td>1487</td>\n",
       "      <td>3</td>\n",
       "      <td>6126</td>\n",
       "      <td>3522</td>\n",
       "      <td>651</td>\n",
       "      <td>1</td>\n",
       "      <td>2018</td>\n",
       "      <td>10</td>\n",
       "      <td>9</td>\n",
       "      <td>4173</td>\n",
       "    </tr>\n",
       "    <tr>\n",
       "      <th>1</th>\n",
       "      <td>1603</td>\n",
       "      <td>7</td>\n",
       "      <td>2864</td>\n",
       "      <td>1596</td>\n",
       "      <td>306</td>\n",
       "      <td>2</td>\n",
       "      <td>2019</td>\n",
       "      <td>2</td>\n",
       "      <td>2</td>\n",
       "      <td>1902</td>\n",
       "    </tr>\n",
       "    <tr>\n",
       "      <th>2</th>\n",
       "      <td>1461</td>\n",
       "      <td>5</td>\n",
       "      <td>4357</td>\n",
       "      <td>2325</td>\n",
       "      <td>545</td>\n",
       "      <td>3</td>\n",
       "      <td>2018</td>\n",
       "      <td>9</td>\n",
       "      <td>13</td>\n",
       "      <td>2870</td>\n",
       "    </tr>\n",
       "    <tr>\n",
       "      <th>3</th>\n",
       "      <td>1135</td>\n",
       "      <td>1</td>\n",
       "      <td>2851</td>\n",
       "      <td>1779</td>\n",
       "      <td>363</td>\n",
       "      <td>4</td>\n",
       "      <td>2017</td>\n",
       "      <td>10</td>\n",
       "      <td>22</td>\n",
       "      <td>2142</td>\n",
       "    </tr>\n",
       "    <tr>\n",
       "      <th>4</th>\n",
       "      <td>1514</td>\n",
       "      <td>2</td>\n",
       "      <td>6365</td>\n",
       "      <td>3609</td>\n",
       "      <td>720</td>\n",
       "      <td>5</td>\n",
       "      <td>2018</td>\n",
       "      <td>11</td>\n",
       "      <td>5</td>\n",
       "      <td>4329</td>\n",
       "    </tr>\n",
       "    <tr>\n",
       "      <th>...</th>\n",
       "      <td>...</td>\n",
       "      <td>...</td>\n",
       "      <td>...</td>\n",
       "      <td>...</td>\n",
       "      <td>...</td>\n",
       "      <td>...</td>\n",
       "      <td>...</td>\n",
       "      <td>...</td>\n",
       "      <td>...</td>\n",
       "      <td>...</td>\n",
       "    </tr>\n",
       "    <tr>\n",
       "      <th>1296</th>\n",
       "      <td>1785</td>\n",
       "      <td>7</td>\n",
       "      <td>1849</td>\n",
       "      <td>1096</td>\n",
       "      <td>216</td>\n",
       "      <td>1297</td>\n",
       "      <td>2019</td>\n",
       "      <td>8</td>\n",
       "      <td>3</td>\n",
       "      <td>1312</td>\n",
       "    </tr>\n",
       "    <tr>\n",
       "      <th>1297</th>\n",
       "      <td>184</td>\n",
       "      <td>2</td>\n",
       "      <td>5367</td>\n",
       "      <td>3192</td>\n",
       "      <td>579</td>\n",
       "      <td>1298</td>\n",
       "      <td>2015</td>\n",
       "      <td>3</td>\n",
       "      <td>16</td>\n",
       "      <td>3771</td>\n",
       "    </tr>\n",
       "    <tr>\n",
       "      <th>1298</th>\n",
       "      <td>138</td>\n",
       "      <td>5</td>\n",
       "      <td>4377</td>\n",
       "      <td>2679</td>\n",
       "      <td>464</td>\n",
       "      <td>1299</td>\n",
       "      <td>2015</td>\n",
       "      <td>1</td>\n",
       "      <td>29</td>\n",
       "      <td>3143</td>\n",
       "    </tr>\n",
       "    <tr>\n",
       "      <th>1299</th>\n",
       "      <td>900</td>\n",
       "      <td>4</td>\n",
       "      <td>4936</td>\n",
       "      <td>2822</td>\n",
       "      <td>736</td>\n",
       "      <td>1300</td>\n",
       "      <td>2017</td>\n",
       "      <td>3</td>\n",
       "      <td>1</td>\n",
       "      <td>3558</td>\n",
       "    </tr>\n",
       "    <tr>\n",
       "      <th>1300</th>\n",
       "      <td>797</td>\n",
       "      <td>6</td>\n",
       "      <td>4767</td>\n",
       "      <td>2734</td>\n",
       "      <td>690</td>\n",
       "      <td>1301</td>\n",
       "      <td>2016</td>\n",
       "      <td>11</td>\n",
       "      <td>18</td>\n",
       "      <td>3424</td>\n",
       "    </tr>\n",
       "  </tbody>\n",
       "</table>\n",
       "<p>1301 rows × 10 columns</p>\n",
       "</div>"
      ],
      "text/plain": [
       "       row  day_of_week  page_loads  first_time_visits  returning_visits  \\\n",
       "0     1487            3        6126               3522               651   \n",
       "1     1603            7        2864               1596               306   \n",
       "2     1461            5        4357               2325               545   \n",
       "3     1135            1        2851               1779               363   \n",
       "4     1514            2        6365               3609               720   \n",
       "...    ...          ...         ...                ...               ...   \n",
       "1296  1785            7        1849               1096               216   \n",
       "1297   184            2        5367               3192               579   \n",
       "1298   138            5        4377               2679               464   \n",
       "1299   900            4        4936               2822               736   \n",
       "1300   797            6        4767               2734               690   \n",
       "\n",
       "        ID  year  month  day  unique_visits  \n",
       "0        1  2018     10    9           4173  \n",
       "1        2  2019      2    2           1902  \n",
       "2        3  2018      9   13           2870  \n",
       "3        4  2017     10   22           2142  \n",
       "4        5  2018     11    5           4329  \n",
       "...    ...   ...    ...  ...            ...  \n",
       "1296  1297  2019      8    3           1312  \n",
       "1297  1298  2015      3   16           3771  \n",
       "1298  1299  2015      1   29           3143  \n",
       "1299  1300  2017      3    1           3558  \n",
       "1300  1301  2016     11   18           3424  \n",
       "\n",
       "[1301 rows x 10 columns]"
      ]
     },
     "execution_count": 17,
     "metadata": {},
     "output_type": "execute_result"
    }
   ],
   "source": [
    "dfXY"
   ]
  },
  {
   "cell_type": "code",
   "execution_count": 18,
   "id": "5cc89d90-02d3-4c26-9103-d05b217f2add",
   "metadata": {},
   "outputs": [
    {
     "data": {
      "text/plain": [
       "row                  0.036363\n",
       "day_of_week         -0.257838\n",
       "page_loads           0.988933\n",
       "first_time_visits    0.996302\n",
       "returning_visits     0.909094\n",
       "ID                  -0.052310\n",
       "year                 0.047526\n",
       "month               -0.071109\n",
       "day                 -0.023193\n",
       "unique_visits        1.000000\n",
       "Name: unique_visits, dtype: float64"
      ]
     },
     "execution_count": 18,
     "metadata": {},
     "output_type": "execute_result"
    }
   ],
   "source": [
    "dfXY.corr()['unique_visits']"
   ]
  },
  {
   "cell_type": "code",
   "execution_count": 19,
   "id": "41afbd6e-9e2d-43e7-b0ec-8b134c8bb60d",
   "metadata": {},
   "outputs": [
    {
     "data": {
      "text/plain": [
       "day_of_week\n",
       "1    2322.773684\n",
       "2    3492.336788\n",
       "3    3485.035928\n",
       "4    3477.857143\n",
       "5    3360.644809\n",
       "6    2645.142077\n",
       "7    1812.167488\n",
       "Name: unique_visits, dtype: float64"
      ]
     },
     "execution_count": 19,
     "metadata": {},
     "output_type": "execute_result"
    }
   ],
   "source": [
    "# day_of_week에 따른 unique_visits의 평균을 구해본다.\n",
    "temp = dfXY.groupby('day_of_week')['unique_visits'].mean()\n",
    "temp"
   ]
  },
  {
   "cell_type": "code",
   "execution_count": 20,
   "id": "5633adaa-5cb5-4304-8c64-612a76451ff8",
   "metadata": {},
   "outputs": [
    {
     "data": {
      "text/plain": [
       "array([2, 3, 4, 5], dtype=int64)"
      ]
     },
     "execution_count": 20,
     "metadata": {},
     "output_type": "execute_result"
    }
   ],
   "source": [
    "high_dow = temp[temp>3000].index.values\n",
    "high_dow"
   ]
  },
  {
   "cell_type": "code",
   "execution_count": 21,
   "id": "8979b6a8-a9e8-4c4f-a71f-9bfe128b6955",
   "metadata": {},
   "outputs": [
    {
     "data": {
      "text/plain": [
       "month\n",
       "1     2539.275229\n",
       "2     3272.737374\n",
       "3     3214.829268\n",
       "4     3707.914286\n",
       "5     3313.684685\n",
       "6     2608.898148\n",
       "7     2240.339450\n",
       "8     2159.236364\n",
       "9     2605.846847\n",
       "10    3267.336735\n",
       "11    3442.318584\n",
       "12    2685.600000\n",
       "Name: unique_visits, dtype: float64"
      ]
     },
     "execution_count": 21,
     "metadata": {},
     "output_type": "execute_result"
    }
   ],
   "source": [
    "# month에 따른 unique_visits의 평균을 구해본다.\n",
    "temp = dfXY.groupby('month')['unique_visits'].mean()\n",
    "temp"
   ]
  },
  {
   "cell_type": "code",
   "execution_count": 22,
   "id": "fc45128c-a638-4392-9c98-5b9e8f39a33f",
   "metadata": {},
   "outputs": [
    {
     "data": {
      "text/plain": [
       "array([ 2,  3,  4,  5, 10, 11], dtype=int64)"
      ]
     },
     "execution_count": 22,
     "metadata": {},
     "output_type": "execute_result"
    }
   ],
   "source": [
    "high_month = temp[temp > 3000].index.values\n",
    "high_month"
   ]
  },
  {
   "cell_type": "code",
   "execution_count": 23,
   "id": "16c23a81-d45b-41e7-9b72-99a0df50d0a6",
   "metadata": {
    "tags": []
   },
   "outputs": [
    {
     "data": {
      "text/plain": [
       "year\n",
       "2014    2641.530303\n",
       "2015    2876.165975\n",
       "2016    3271.789238\n",
       "2017    2398.257282\n",
       "2018    3030.347222\n",
       "2019    2977.344037\n",
       "2020    3072.404580\n",
       "Name: unique_visits, dtype: float64"
      ]
     },
     "execution_count": 23,
     "metadata": {},
     "output_type": "execute_result"
    }
   ],
   "source": [
    "# year 따른 unique_visits의 평균을 구해본다.\n",
    "temp = dfXY.groupby('year')['unique_visits'].mean()\n",
    "temp"
   ]
  },
  {
   "cell_type": "code",
   "execution_count": 24,
   "id": "456e59f7-721d-45df-b30c-88f81881ba81",
   "metadata": {},
   "outputs": [
    {
     "data": {
      "text/html": [
       "<div>\n",
       "<style scoped>\n",
       "    .dataframe tbody tr th:only-of-type {\n",
       "        vertical-align: middle;\n",
       "    }\n",
       "\n",
       "    .dataframe tbody tr th {\n",
       "        vertical-align: top;\n",
       "    }\n",
       "\n",
       "    .dataframe thead th {\n",
       "        text-align: right;\n",
       "    }\n",
       "</style>\n",
       "<table border=\"1\" class=\"dataframe\">\n",
       "  <thead>\n",
       "    <tr style=\"text-align: right;\">\n",
       "      <th></th>\n",
       "      <th>row</th>\n",
       "      <th>day_of_week</th>\n",
       "      <th>page_loads</th>\n",
       "      <th>first_time_visits</th>\n",
       "      <th>returning_visits</th>\n",
       "      <th>ID</th>\n",
       "      <th>year</th>\n",
       "      <th>month</th>\n",
       "      <th>day</th>\n",
       "      <th>high_dow</th>\n",
       "      <th>high_month</th>\n",
       "    </tr>\n",
       "  </thead>\n",
       "  <tbody>\n",
       "    <tr>\n",
       "      <th>0</th>\n",
       "      <td>1487</td>\n",
       "      <td>3</td>\n",
       "      <td>6126</td>\n",
       "      <td>3522</td>\n",
       "      <td>651</td>\n",
       "      <td>1</td>\n",
       "      <td>2018</td>\n",
       "      <td>10</td>\n",
       "      <td>9</td>\n",
       "      <td>1</td>\n",
       "      <td>1</td>\n",
       "    </tr>\n",
       "    <tr>\n",
       "      <th>1</th>\n",
       "      <td>1603</td>\n",
       "      <td>7</td>\n",
       "      <td>2864</td>\n",
       "      <td>1596</td>\n",
       "      <td>306</td>\n",
       "      <td>2</td>\n",
       "      <td>2019</td>\n",
       "      <td>2</td>\n",
       "      <td>2</td>\n",
       "      <td>0</td>\n",
       "      <td>1</td>\n",
       "    </tr>\n",
       "    <tr>\n",
       "      <th>2</th>\n",
       "      <td>1461</td>\n",
       "      <td>5</td>\n",
       "      <td>4357</td>\n",
       "      <td>2325</td>\n",
       "      <td>545</td>\n",
       "      <td>3</td>\n",
       "      <td>2018</td>\n",
       "      <td>9</td>\n",
       "      <td>13</td>\n",
       "      <td>1</td>\n",
       "      <td>0</td>\n",
       "    </tr>\n",
       "    <tr>\n",
       "      <th>3</th>\n",
       "      <td>1135</td>\n",
       "      <td>1</td>\n",
       "      <td>2851</td>\n",
       "      <td>1779</td>\n",
       "      <td>363</td>\n",
       "      <td>4</td>\n",
       "      <td>2017</td>\n",
       "      <td>10</td>\n",
       "      <td>22</td>\n",
       "      <td>0</td>\n",
       "      <td>1</td>\n",
       "    </tr>\n",
       "    <tr>\n",
       "      <th>4</th>\n",
       "      <td>1514</td>\n",
       "      <td>2</td>\n",
       "      <td>6365</td>\n",
       "      <td>3609</td>\n",
       "      <td>720</td>\n",
       "      <td>5</td>\n",
       "      <td>2018</td>\n",
       "      <td>11</td>\n",
       "      <td>5</td>\n",
       "      <td>1</td>\n",
       "      <td>1</td>\n",
       "    </tr>\n",
       "  </tbody>\n",
       "</table>\n",
       "</div>"
      ],
      "text/plain": [
       "    row  day_of_week  page_loads  first_time_visits  returning_visits  ID  \\\n",
       "0  1487            3        6126               3522               651   1   \n",
       "1  1603            7        2864               1596               306   2   \n",
       "2  1461            5        4357               2325               545   3   \n",
       "3  1135            1        2851               1779               363   4   \n",
       "4  1514            2        6365               3609               720   5   \n",
       "\n",
       "   year  month  day  high_dow  high_month  \n",
       "0  2018     10    9         1           1  \n",
       "1  2019      2    2         0           1  \n",
       "2  2018      9   13         1           0  \n",
       "3  2017     10   22         0           1  \n",
       "4  2018     11    5         1           1  "
      ]
     },
     "execution_count": 24,
     "metadata": {},
     "output_type": "execute_result"
    }
   ],
   "source": [
    "dfX_n['high_dow'] = dfX_n['day_of_week'].isin(high_dow).astype(int)\n",
    "dfX_n['high_month'] = dfX_n['month'].isin(high_month).astype(int)\n",
    "dfX_n.head()"
   ]
  },
  {
   "cell_type": "code",
   "execution_count": 25,
   "id": "1ddbece7-7591-431d-9c5d-225bd67869d3",
   "metadata": {},
   "outputs": [
    {
     "data": {
      "image/png": "[encoded data removed]",
      "text/plain": [
       "<Figure size 640x480 with 1 Axes>"
      ]
     },
     "metadata": {},
     "output_type": "display_data"
    }
   ],
   "source": [
    "dfX_n.plot(kind='box')\n",
    "plt.show()"
   ]
  },
  {
   "cell_type": "code",
   "execution_count": 26,
   "id": "02a4dcde-0ae2-49da-b62d-d3b1dc244fd0",
   "metadata": {},
   "outputs": [
    {
     "data": {
      "image/png": "[encoded data removed]",
      "text/plain": [
       "<Figure size 1000x300 with 1 Axes>"
      ]
     },
     "metadata": {},
     "output_type": "display_data"
    }
   ],
   "source": [
    "# 이상치 확인\n",
    "plt.figure(figsize=(10, 3))\n",
    "sns.boxplot(x='page_loads', data=dfX_n)\n",
    "plt.show()"
   ]
  },
  {
   "cell_type": "code",
   "execution_count": 27,
   "id": "f7da9526-0a24-4655-b9eb-804f89f89954",
   "metadata": {},
   "outputs": [
    {
     "data": {
      "text/plain": [
       "Index(['row', 'day_of_week', 'page_loads', 'first_time_visits',\n",
       "       'returning_visits', 'ID', 'year', 'month', 'day', 'high_dow',\n",
       "       'high_month'],\n",
       "      dtype='object')"
      ]
     },
     "execution_count": 27,
     "metadata": {},
     "output_type": "execute_result"
    }
   ],
   "source": [
    "dfX_n.columns"
   ]
  },
  {
   "cell_type": "code",
   "execution_count": 28,
   "id": "6fda56ad-b0a5-46b8-aa34-421981ab968b",
   "metadata": {},
   "outputs": [],
   "source": [
    "train_size = len(X_train) # 1301\n",
    "\n",
    "use_col = ['day_of_week', # 'page_loads', 'first_time_visits',\n",
    "           'returning_visits', 'year', 'month', 'day', 'high_dow', 'high_month']\n",
    "\n",
    "dfX_n = dfX_n[use_col]\n",
    "X_test = dfX_n[train_size:]      # 제출 데이터\n",
    "\n",
    "X = dfX_n[:train_size]           # 학습 데이터\n",
    "Y = y_train['unique_visits']     # 학습 데이터의 정답"
   ]
  },
  {
   "cell_type": "code",
   "execution_count": 29,
   "id": "0a418d2a-c070-489b-b411-9adf901e6fd6",
   "metadata": {},
   "outputs": [],
   "source": [
    "def modelTrain(model, X, Y, scale=False):\n",
    "    if scale:\n",
    "        X = MinMaxScaler().fit_transform(X)\n",
    "\n",
    "    X_train, X_valid, y_train, y_valid = train_test_split(X, Y,\n",
    "                                                          test_size=0.3,\n",
    "                                                          random_state=42)\n",
    "    \n",
    "    # 모델 학습\n",
    "    model.fit(X_train, y_train)\n",
    "    \n",
    "    # 성능 평가\n",
    "    print('train accuracy:', model.score(X_train, y_train))\n",
    "    print('valid accuracy:', model.score(X_valid, y_valid))"
   ]
  },
  {
   "cell_type": "markdown",
   "id": "81ab4f00-61f7-4023-b08a-2f1c33c72f6f",
   "metadata": {},
   "source": [
    "# 2. 모델 특징 및 사용 방법"
   ]
  },
  {
   "cell_type": "markdown",
   "id": "37ba341a-ec9d-4a18-83de-b67747b27bd5",
   "metadata": {},
   "source": [
    "## 1) Simple Linear Regression"
   ]
  },
  {
   "cell_type": "markdown",
   "id": "1a331b8c-7ed1-4d27-9a6b-940283637760",
   "metadata": {},
   "source": [
    "- $y = \\beta_{0} + \\beta_{1} x + \\epsilon$\n",
    "- 하나의 X 값을 가지고 Y를 예측하는 것"
   ]
  },
  {
   "cell_type": "markdown",
   "id": "a06ec898-8c12-4d0c-82da-a73c2d82e815",
   "metadata": {},
   "source": [
    "## 2) Multiple Linear Regression"
   ]
  },
  {
   "cell_type": "markdown",
   "id": "3fd9b686-226f-43e0-bc4f-400d5d3e0eb8",
   "metadata": {},
   "source": [
    "- $y = \\beta_{0} + \\beta_{1} x_{1} + \\beta_{2} x_{2} + ...+ \\epsilon$"
   ]
  },
  {
   "cell_type": "code",
   "execution_count": 30,
   "id": "3e0e3e6d-47c2-482c-908a-dbcb16dc94bc",
   "metadata": {},
   "outputs": [],
   "source": [
    "lr = LinearRegression()"
   ]
  },
  {
   "cell_type": "code",
   "execution_count": 31,
   "id": "eb8c8d04-101e-4233-aa93-2da6e997d745",
   "metadata": {},
   "outputs": [
    {
     "name": "stdout",
     "output_type": "stream",
     "text": [
      "train accuracy: 0.8659986571919714\n",
      "valid accuracy: 0.8602760739233095\n"
     ]
    }
   ],
   "source": [
    "# 스케일링 이전\n",
    "modelTrain(lr, X, Y)"
   ]
  },
  {
   "cell_type": "code",
   "execution_count": 32,
   "id": "b4b28f0e-ea00-4223-87c8-77d181bacea4",
   "metadata": {},
   "outputs": [
    {
     "name": "stdout",
     "output_type": "stream",
     "text": [
      "train accuracy: 0.865998657191972\n",
      "valid accuracy: 0.8602760739233106\n"
     ]
    }
   ],
   "source": [
    "# 스케일링 이후\n",
    "modelTrain(lr, X, Y, True)"
   ]
  },
  {
   "cell_type": "code",
   "execution_count": 33,
   "id": "ccfe6a45-cee2-436c-a584-5b8226c4ea4a",
   "metadata": {},
   "outputs": [
    {
     "name": "stdout",
     "output_type": "stream",
     "text": [
      "계수: [-169.65306056 3819.97162591  114.05935902  162.19278699  -62.84357492\n",
      "  292.15929755  396.00083761] \n",
      "절편: 957.0931682186031\n"
     ]
    }
   ],
   "source": [
    "print(f'계수: {lr.coef_} \\n절편: {lr.intercept_}')"
   ]
  },
  {
   "cell_type": "markdown",
   "id": "e824a0b5-ad91-47c8-92f5-08a0ece8beff",
   "metadata": {},
   "source": [
    "## 3) Polynomial Regression"
   ]
  },
  {
   "cell_type": "markdown",
   "id": "2bec5519-1db4-4102-8853-d936d46cd02b",
   "metadata": {},
   "source": [
    "- 비선형 데이터 집합을 모델링할 때 사용\n",
    "- 곡선의 다항식 선을 사용\n",
    "- X를 다항식으로 변경하여 모델링의 데이터로 사용\n",
    "- 과대적합이 나타나기 쉬움\n",
    "- - $y = \\beta_{0} + \\beta_{1} x_{1} + \\beta_{2} x_{2} + \\beta_{3} x_{1}^{2} + \\beta_{4} x_{2}^{2} ...+ \\epsilon$"
   ]
  },
  {
   "cell_type": "code",
   "execution_count": 34,
   "id": "454619ad-71e0-4293-b330-bd4c1aa40b85",
   "metadata": {},
   "outputs": [],
   "source": [
    "poly2 = PolynomialFeatures(degree=2, include_bias=False) # include_bias=True로 할 경우 0차항도 함께 만든다\n",
    "Xpoly = poly2.fit_transform(X)"
   ]
  },
  {
   "cell_type": "code",
   "execution_count": 35,
   "id": "4515246e-9da2-471f-b6db-8af20d5563d3",
   "metadata": {},
   "outputs": [
    {
     "data": {
      "text/plain": [
       "((1301, 7), (1301, 35))"
      ]
     },
     "execution_count": 35,
     "metadata": {},
     "output_type": "execute_result"
    }
   ],
   "source": [
    "# X, Xpoly shape 확인\n",
    "X.shape, Xpoly.shape"
   ]
  },
  {
   "cell_type": "code",
   "execution_count": 36,
   "id": "fa666f89-73d8-414a-b324-db27379af28b",
   "metadata": {},
   "outputs": [
    {
     "data": {
      "text/plain": [
       "array(['day_of_week', 'returning_visits', 'year', 'month', 'day',\n",
       "       'high_dow', 'high_month', 'day_of_week^2',\n",
       "       'day_of_week returning_visits', 'day_of_week year',\n",
       "       'day_of_week month', 'day_of_week day', 'day_of_week high_dow',\n",
       "       'day_of_week high_month', 'returning_visits^2',\n",
       "       'returning_visits year', 'returning_visits month',\n",
       "       'returning_visits day', 'returning_visits high_dow',\n",
       "       'returning_visits high_month', 'year^2', 'year month', 'year day',\n",
       "       'year high_dow', 'year high_month', 'month^2', 'month day',\n",
       "       'month high_dow', 'month high_month', 'day^2', 'day high_dow',\n",
       "       'day high_month', 'high_dow^2', 'high_dow high_month',\n",
       "       'high_month^2'], dtype=object)"
      ]
     },
     "execution_count": 36,
     "metadata": {},
     "output_type": "execute_result"
    }
   ],
   "source": [
    "# poly2의 feature_names 확인\n",
    "poly2.get_feature_names_out()"
   ]
  },
  {
   "cell_type": "code",
   "execution_count": 37,
   "id": "fedabcf0-3b6f-4e9e-a5db-4d61bd5ce31b",
   "metadata": {},
   "outputs": [
    {
     "name": "stdout",
     "output_type": "stream",
     "text": [
      "train accuracy: 0.9426581792501125\n",
      "valid accuracy: 0.938445932936455\n"
     ]
    }
   ],
   "source": [
    "# 스케일링 이전\n",
    "modelTrain(lr, Xpoly, Y)"
   ]
  },
  {
   "cell_type": "code",
   "execution_count": 38,
   "id": "7ab0f8e5-d4c9-4c0e-994f-e0ef79c61d9a",
   "metadata": {},
   "outputs": [
    {
     "name": "stdout",
     "output_type": "stream",
     "text": [
      "train accuracy: 0.9426581792474055\n",
      "valid accuracy: 0.9384459327913852\n"
     ]
    }
   ],
   "source": [
    "# 스케일링 이후\n",
    "modelTrain(lr, Xpoly, Y, True)"
   ]
  },
  {
   "cell_type": "markdown",
   "id": "c1791af6-1641-4be3-bcee-76f23b264673",
   "metadata": {
    "tags": []
   },
   "source": [
    "## 4) Ridge Regression"
   ]
  },
  {
   "cell_type": "markdown",
   "id": "42a0a618-cb5f-47e6-a8ee-2322b024ba21",
   "metadata": {},
   "source": [
    "- **L2 normalization을 이용**한다.\n",
    "- 독립변수들 간에 높은 상관관계가 있는 경우, 규제화(regularization)를 적용해 모델의 복잡도를 줄인다.\n",
    "  - 계수 자체가 크면 규제를 주는 수식을 추가한다.\n",
    "- 계수값을 0에 가깝게 만들지만 0이 되지는 않는다.\n",
    "- `alpha` 값 0은 규제를 주지 않겠다는 것이고, 값이 커질수록 규제를 크게 주겠다는 의미이다(coef 값들이 작아진다).\n",
    "- Ridge Regression은 **변수의 크기가 결과에 큰 영향**을 미치기에 변수를 스케일링 해주어 서로 사이즈가 비슷하도록 만들어주는 작업이 필요할 수 있다. 일반적으로 표준편차를 각 predictors마다 구한 뒤 각 데이터에 나누어준다.\n",
    "```python\n",
    "Ridge(alpha=1.0, *, fit_intercept=True, copy_X=True, max_iter=None, tol=0.0001, solver='auto', positive=False, random_state=None)\n",
    "```"
   ]
  },
  {
   "cell_type": "code",
   "execution_count": 39,
   "id": "3e23f17a-f62b-49b2-8daf-213c84536d27",
   "metadata": {},
   "outputs": [],
   "source": [
    "# help(Ridge())"
   ]
  },
  {
   "cell_type": "code",
   "execution_count": 40,
   "id": "57e11a62-4303-41b4-9175-2e079fd3da4b",
   "metadata": {},
   "outputs": [
    {
     "name": "stdout",
     "output_type": "stream",
     "text": [
      "alpha= 0.0000 train accuracy: 0.954572688664983\n",
      "valid accuracy: 0.945447044119976\n",
      "alpha= 0.0010 train accuracy: 0.9617735055554687\n",
      "valid accuracy: 0.9524806368765025\n",
      "alpha= 0.0100 train accuracy: 0.9610449449685591\n",
      "valid accuracy: 0.9520910106003174\n",
      "alpha= 0.1000 train accuracy: 0.9559969857315246\n",
      "valid accuracy: 0.9483073719852354\n",
      "alpha= 1.0000 train accuracy: 0.9447441211059966\n",
      "valid accuracy: 0.9380329493066378\n",
      "alpha= 10.0000 train accuracy: 0.9087755281965347\n",
      "valid accuracy: 0.9025857778069197\n"
     ]
    }
   ],
   "source": [
    "Xscaled = MinMaxScaler().fit_transform(X)\n",
    "poly3 = PolynomialFeatures(degree=3, include_bias=False)\n",
    "Xpoly3 = poly3.fit_transform(Xscaled)\n",
    "ridge_coef = pd.DataFrame()\n",
    "\n",
    "for a in [0, 0.001, 0.01, 0.1, 1, 10]:\n",
    "    print(f'alpha={a: 7.4f}', end=' ')\n",
    "    model = Ridge(alpha=a, random_state=0)\n",
    "    modelTrain(model, Xpoly3, Y)\n",
    "    ridge_coef[f'alpha_{a}'] = model.coef_"
   ]
  },
  {
   "cell_type": "code",
   "execution_count": 41,
   "id": "e89aea81-1a3a-4de1-b9ef-778b55b9c712",
   "metadata": {},
   "outputs": [
    {
     "data": {
      "text/html": [
       "<div>\n",
       "<style scoped>\n",
       "    .dataframe tbody tr th:only-of-type {\n",
       "        vertical-align: middle;\n",
       "    }\n",
       "\n",
       "    .dataframe tbody tr th {\n",
       "        vertical-align: top;\n",
       "    }\n",
       "\n",
       "    .dataframe thead th {\n",
       "        text-align: right;\n",
       "    }\n",
       "</style>\n",
       "<table border=\"1\" class=\"dataframe\">\n",
       "  <thead>\n",
       "    <tr style=\"text-align: right;\">\n",
       "      <th></th>\n",
       "      <th>alpha_0</th>\n",
       "      <th>alpha_0.001</th>\n",
       "      <th>alpha_0.01</th>\n",
       "      <th>alpha_0.1</th>\n",
       "      <th>alpha_1</th>\n",
       "      <th>alpha_10</th>\n",
       "    </tr>\n",
       "  </thead>\n",
       "  <tbody>\n",
       "    <tr>\n",
       "      <th>0</th>\n",
       "      <td>1.289239e+03</td>\n",
       "      <td>442.900061</td>\n",
       "      <td>-45.759604</td>\n",
       "      <td>-21.645191</td>\n",
       "      <td>41.084585</td>\n",
       "      <td>46.172583</td>\n",
       "    </tr>\n",
       "    <tr>\n",
       "      <th>1</th>\n",
       "      <td>5.059449e+03</td>\n",
       "      <td>5109.640149</td>\n",
       "      <td>4117.641888</td>\n",
       "      <td>2886.993999</td>\n",
       "      <td>1857.450568</td>\n",
       "      <td>818.399650</td>\n",
       "    </tr>\n",
       "    <tr>\n",
       "      <th>2</th>\n",
       "      <td>-3.629743e+03</td>\n",
       "      <td>-3519.861144</td>\n",
       "      <td>-2957.140428</td>\n",
       "      <td>-1801.901686</td>\n",
       "      <td>-1255.808102</td>\n",
       "      <td>-438.234556</td>\n",
       "    </tr>\n",
       "    <tr>\n",
       "      <th>3</th>\n",
       "      <td>-3.498097e+03</td>\n",
       "      <td>-3381.406736</td>\n",
       "      <td>-2428.886833</td>\n",
       "      <td>-720.846830</td>\n",
       "      <td>-333.728149</td>\n",
       "      <td>-103.197919</td>\n",
       "    </tr>\n",
       "    <tr>\n",
       "      <th>4</th>\n",
       "      <td>1.102182e+03</td>\n",
       "      <td>1100.143390</td>\n",
       "      <td>912.870373</td>\n",
       "      <td>437.222338</td>\n",
       "      <td>129.650471</td>\n",
       "      <td>44.023466</td>\n",
       "    </tr>\n",
       "    <tr>\n",
       "      <th>...</th>\n",
       "      <td>...</td>\n",
       "      <td>...</td>\n",
       "      <td>...</td>\n",
       "      <td>...</td>\n",
       "      <td>...</td>\n",
       "      <td>...</td>\n",
       "    </tr>\n",
       "    <tr>\n",
       "      <th>114</th>\n",
       "      <td>4.260065e+16</td>\n",
       "      <td>-189.980948</td>\n",
       "      <td>-214.292486</td>\n",
       "      <td>-180.541230</td>\n",
       "      <td>-68.548652</td>\n",
       "      <td>-7.541217</td>\n",
       "    </tr>\n",
       "    <tr>\n",
       "      <th>115</th>\n",
       "      <td>4.966596e+16</td>\n",
       "      <td>-1.726409</td>\n",
       "      <td>57.515020</td>\n",
       "      <td>111.127747</td>\n",
       "      <td>121.114010</td>\n",
       "      <td>150.454715</td>\n",
       "    </tr>\n",
       "    <tr>\n",
       "      <th>116</th>\n",
       "      <td>-5.627164e+16</td>\n",
       "      <td>137.365205</td>\n",
       "      <td>97.538322</td>\n",
       "      <td>46.111738</td>\n",
       "      <td>75.334730</td>\n",
       "      <td>65.908795</td>\n",
       "    </tr>\n",
       "    <tr>\n",
       "      <th>117</th>\n",
       "      <td>-4.839976e+15</td>\n",
       "      <td>137.365205</td>\n",
       "      <td>97.538322</td>\n",
       "      <td>46.111738</td>\n",
       "      <td>75.334730</td>\n",
       "      <td>65.908795</td>\n",
       "    </tr>\n",
       "    <tr>\n",
       "      <th>118</th>\n",
       "      <td>1.018911e+17</td>\n",
       "      <td>293.758659</td>\n",
       "      <td>310.078716</td>\n",
       "      <td>273.170026</td>\n",
       "      <td>202.681470</td>\n",
       "      <td>151.636681</td>\n",
       "    </tr>\n",
       "  </tbody>\n",
       "</table>\n",
       "<p>119 rows × 6 columns</p>\n",
       "</div>"
      ],
      "text/plain": [
       "          alpha_0  alpha_0.001   alpha_0.01    alpha_0.1      alpha_1  \\\n",
       "0    1.289239e+03   442.900061   -45.759604   -21.645191    41.084585   \n",
       "1    5.059449e+03  5109.640149  4117.641888  2886.993999  1857.450568   \n",
       "2   -3.629743e+03 -3519.861144 -2957.140428 -1801.901686 -1255.808102   \n",
       "3   -3.498097e+03 -3381.406736 -2428.886833  -720.846830  -333.728149   \n",
       "4    1.102182e+03  1100.143390   912.870373   437.222338   129.650471   \n",
       "..            ...          ...          ...          ...          ...   \n",
       "114  4.260065e+16  -189.980948  -214.292486  -180.541230   -68.548652   \n",
       "115  4.966596e+16    -1.726409    57.515020   111.127747   121.114010   \n",
       "116 -5.627164e+16   137.365205    97.538322    46.111738    75.334730   \n",
       "117 -4.839976e+15   137.365205    97.538322    46.111738    75.334730   \n",
       "118  1.018911e+17   293.758659   310.078716   273.170026   202.681470   \n",
       "\n",
       "       alpha_10  \n",
       "0     46.172583  \n",
       "1    818.399650  \n",
       "2   -438.234556  \n",
       "3   -103.197919  \n",
       "4     44.023466  \n",
       "..          ...  \n",
       "114   -7.541217  \n",
       "115  150.454715  \n",
       "116   65.908795  \n",
       "117   65.908795  \n",
       "118  151.636681  \n",
       "\n",
       "[119 rows x 6 columns]"
      ]
     },
     "execution_count": 41,
     "metadata": {},
     "output_type": "execute_result"
    }
   ],
   "source": [
    "ridge_coef"
   ]
  },
  {
   "cell_type": "code",
   "execution_count": 42,
   "id": "5d9a00d4-b14e-4010-a965-7f5283f6c39b",
   "metadata": {},
   "outputs": [
    {
     "data": {
      "text/plain": [
       "alpha_0        1.251946e+18\n",
       "alpha_0.001    1.037316e+05\n",
       "alpha_0.01     8.223233e+04\n",
       "alpha_0.1      4.747437e+04\n",
       "alpha_1        2.486471e+04\n",
       "alpha_10       1.412572e+04\n",
       "dtype: float64"
      ]
     },
     "execution_count": 42,
     "metadata": {},
     "output_type": "execute_result"
    }
   ],
   "source": [
    "ridge_coef.abs().sum()"
   ]
  },
  {
   "cell_type": "markdown",
   "id": "7d052f50-f382-4128-88ee-65881377c3b7",
   "metadata": {},
   "source": [
    "## 5) Lasso Regression"
   ]
  },
  {
   "cell_type": "markdown",
   "id": "b6bdac67-4fb6-435e-8d52-c9c8fedda922",
   "metadata": {},
   "source": [
    "- L1 normalization을 이용한다.\n",
    "- Lasso는 최소제곱법과 매우 유사한, 각 계수 절댓값의 합을 수식에 포함하여 계수의 크기도 함께 최소화하도록 만들었다는 차이가 있다.\n",
    "- 규제 강도가 커지면 회귀계수가 작아지고 0이 될 수도 있다.\n",
    "- Lasso를 사용하면 subset selection 효과가 나타난다. Gradient descent를 수행하면서 일부 덜 중요한 계수들이 0으로 수렴하는 결과가 나오기 때문이다.\n",
    "- Lasso를 적용해보고 모델의 performance가 더 좋아졌다면 내가 가진 데이터의 일부 파라미터를 제거하는 것이 더 좋은 결과를 낼 수 있다는 insight를 가질 수 있다. 이를 통해 다른 subset selection 기법을 적용하는 등 모델의 방향을 잡아볼 수 있다.\n",
    "```python\n",
    "Lasso(alpha=1.0, *, fit_intercept=True, precompute=False, copy_X=True, max_iter=1000, tol=0.0001, warm_start=False, positive=False, random_state=None, selection='cyclic')\n",
    "```"
   ]
  },
  {
   "cell_type": "code",
   "execution_count": 43,
   "id": "ed7e6183-3f86-4223-91cd-032140b86580",
   "metadata": {},
   "outputs": [],
   "source": [
    "# help(Lasso())"
   ]
  },
  {
   "cell_type": "code",
   "execution_count": 44,
   "id": "44a661e8-cb04-421d-89cc-899a94ee65d2",
   "metadata": {},
   "outputs": [
    {
     "name": "stdout",
     "output_type": "stream",
     "text": [
      "alpha= 0.0001 train accuracy: 0.9000508044857712\n",
      "valid accuracy: 0.8897910057205488\n",
      "alpha= 0.0010 train accuracy: 0.900052124627676\n",
      "valid accuracy: 0.8897928529965685\n",
      "alpha= 0.0100 train accuracy: 0.9000642650452407\n",
      "valid accuracy: 0.8898071500066315\n",
      "alpha= 0.1000 train accuracy: 0.9001712661933663\n",
      "valid accuracy: 0.8899276674873068\n",
      "alpha= 1.0000 train accuracy: 0.8993162405547435\n",
      "valid accuracy: 0.8891900655082359\n"
     ]
    }
   ],
   "source": [
    "Xscaled = MinMaxScaler().fit_transform(X)\n",
    "poly3 = PolynomialFeatures(degree=3, include_bias=False)\n",
    "Xpoly3 = poly3.fit_transform(Xscaled)\n",
    "lasso_coef = pd.DataFrame()\n",
    "\n",
    "for a in [0.0001, 0.001, 0.01, 0.1, 1]:\n",
    "    print(f'alpha={a: 7.4f}', end=' ')\n",
    "    model = Lasso(alpha=a, max_iter=1000, tol=0.1, random_state=42)\n",
    "    modelTrain(model, Xpoly3, Y)\n",
    "    lasso_coef[f'alpha_{a}'] = model.coef_"
   ]
  },
  {
   "cell_type": "code",
   "execution_count": 45,
   "id": "e31eddc6-7393-499f-a99c-9a8a688aa794",
   "metadata": {},
   "outputs": [
    {
     "data": {
      "text/html": [
       "<div>\n",
       "<style scoped>\n",
       "    .dataframe tbody tr th:only-of-type {\n",
       "        vertical-align: middle;\n",
       "    }\n",
       "\n",
       "    .dataframe tbody tr th {\n",
       "        vertical-align: top;\n",
       "    }\n",
       "\n",
       "    .dataframe thead th {\n",
       "        text-align: right;\n",
       "    }\n",
       "</style>\n",
       "<table border=\"1\" class=\"dataframe\">\n",
       "  <thead>\n",
       "    <tr style=\"text-align: right;\">\n",
       "      <th></th>\n",
       "      <th>alpha_0.0001</th>\n",
       "      <th>alpha_0.001</th>\n",
       "      <th>alpha_0.01</th>\n",
       "      <th>alpha_0.1</th>\n",
       "      <th>alpha_1</th>\n",
       "    </tr>\n",
       "  </thead>\n",
       "  <tbody>\n",
       "    <tr>\n",
       "      <th>0</th>\n",
       "      <td>-692.758652</td>\n",
       "      <td>-692.746559</td>\n",
       "      <td>-692.625629</td>\n",
       "      <td>-691.486204</td>\n",
       "      <td>-677.183504</td>\n",
       "    </tr>\n",
       "    <tr>\n",
       "      <th>1</th>\n",
       "      <td>4390.424464</td>\n",
       "      <td>4390.379915</td>\n",
       "      <td>4389.934432</td>\n",
       "      <td>4385.600045</td>\n",
       "      <td>4335.902267</td>\n",
       "    </tr>\n",
       "    <tr>\n",
       "      <th>2</th>\n",
       "      <td>-3.487329</td>\n",
       "      <td>-3.500160</td>\n",
       "      <td>-3.628478</td>\n",
       "      <td>-5.006294</td>\n",
       "      <td>-13.607278</td>\n",
       "    </tr>\n",
       "    <tr>\n",
       "      <th>3</th>\n",
       "      <td>26.187854</td>\n",
       "      <td>26.151233</td>\n",
       "      <td>25.785027</td>\n",
       "      <td>22.030536</td>\n",
       "      <td>-0.000000</td>\n",
       "    </tr>\n",
       "    <tr>\n",
       "      <th>4</th>\n",
       "      <td>5.155242</td>\n",
       "      <td>5.165399</td>\n",
       "      <td>5.266961</td>\n",
       "      <td>6.046633</td>\n",
       "      <td>4.435647</td>\n",
       "    </tr>\n",
       "    <tr>\n",
       "      <th>...</th>\n",
       "      <td>...</td>\n",
       "      <td>...</td>\n",
       "      <td>...</td>\n",
       "      <td>...</td>\n",
       "      <td>...</td>\n",
       "    </tr>\n",
       "    <tr>\n",
       "      <th>114</th>\n",
       "      <td>-0.933623</td>\n",
       "      <td>-0.928031</td>\n",
       "      <td>-0.880616</td>\n",
       "      <td>-0.437653</td>\n",
       "      <td>-0.000000</td>\n",
       "    </tr>\n",
       "    <tr>\n",
       "      <th>115</th>\n",
       "      <td>19.215451</td>\n",
       "      <td>19.209777</td>\n",
       "      <td>19.159352</td>\n",
       "      <td>18.614822</td>\n",
       "      <td>23.382226</td>\n",
       "    </tr>\n",
       "    <tr>\n",
       "      <th>116</th>\n",
       "      <td>37.780859</td>\n",
       "      <td>37.778336</td>\n",
       "      <td>37.754114</td>\n",
       "      <td>37.357201</td>\n",
       "      <td>33.092979</td>\n",
       "    </tr>\n",
       "    <tr>\n",
       "      <th>117</th>\n",
       "      <td>0.000000</td>\n",
       "      <td>0.000000</td>\n",
       "      <td>0.000000</td>\n",
       "      <td>0.000000</td>\n",
       "      <td>0.000000</td>\n",
       "    </tr>\n",
       "    <tr>\n",
       "      <th>118</th>\n",
       "      <td>6.866181</td>\n",
       "      <td>6.856732</td>\n",
       "      <td>6.762256</td>\n",
       "      <td>5.758514</td>\n",
       "      <td>-0.000000</td>\n",
       "    </tr>\n",
       "  </tbody>\n",
       "</table>\n",
       "<p>119 rows × 5 columns</p>\n",
       "</div>"
      ],
      "text/plain": [
       "     alpha_0.0001  alpha_0.001   alpha_0.01    alpha_0.1      alpha_1\n",
       "0     -692.758652  -692.746559  -692.625629  -691.486204  -677.183504\n",
       "1     4390.424464  4390.379915  4389.934432  4385.600045  4335.902267\n",
       "2       -3.487329    -3.500160    -3.628478    -5.006294   -13.607278\n",
       "3       26.187854    26.151233    25.785027    22.030536    -0.000000\n",
       "4        5.155242     5.165399     5.266961     6.046633     4.435647\n",
       "..            ...          ...          ...          ...          ...\n",
       "114     -0.933623    -0.928031    -0.880616    -0.437653    -0.000000\n",
       "115     19.215451    19.209777    19.159352    18.614822    23.382226\n",
       "116     37.780859    37.778336    37.754114    37.357201    33.092979\n",
       "117      0.000000     0.000000     0.000000     0.000000     0.000000\n",
       "118      6.866181     6.856732     6.762256     5.758514    -0.000000\n",
       "\n",
       "[119 rows x 5 columns]"
      ]
     },
     "execution_count": 45,
     "metadata": {},
     "output_type": "execute_result"
    }
   ],
   "source": [
    "lasso_coef"
   ]
  },
  {
   "cell_type": "code",
   "execution_count": 46,
   "id": "2e2fb35a-05dc-4422-91a3-7aaa69eef206",
   "metadata": {},
   "outputs": [
    {
     "data": {
      "text/plain": [
       "alpha_0.0001    15708.538146\n",
       "alpha_0.001     15703.495992\n",
       "alpha_0.01      15654.345254\n",
       "alpha_0.1       15160.985066\n",
       "alpha_1         11643.528054\n",
       "dtype: float64"
      ]
     },
     "execution_count": 46,
     "metadata": {},
     "output_type": "execute_result"
    }
   ],
   "source": [
    "lasso_coef.abs().sum()"
   ]
  },
  {
   "cell_type": "markdown",
   "id": "5682894f-e4eb-4c06-b211-bfaf6d61b9a7",
   "metadata": {},
   "source": [
    "## 6) DecisionTreeRegressor"
   ]
  },
  {
   "cell_type": "markdown",
   "id": "1deb51d9-9e3a-44f2-aa64-4266bbd34c6c",
   "metadata": {},
   "source": [
    "- 분류(classification)와 회귀 분석(regression)에 모두 사용될 수 있기 때문에 CART(Classification And Regression Tree)라고도 한다.\n",
    "```python\n",
    "DecisionTreeRegressor(*, criterion='squared_error', splitter='best', max_depth=None, min_samples_split=2, min_samples_leaf=1, min_weight_fraction_leaf=0.0, max_features=None, random_state=None, max_leaf_nodes=None, min_impurity_decrease=0.0, ccp_alpha=0.0)\n",
    "```"
   ]
  },
  {
   "cell_type": "code",
   "execution_count": 47,
   "id": "626173ac-aa08-4c27-a361-3f3e530bb566",
   "metadata": {},
   "outputs": [],
   "source": [
    "# help(DecisionTreeRegressor())"
   ]
  },
  {
   "cell_type": "code",
   "execution_count": 48,
   "id": "1cb37ac0-ef7b-463c-8fcd-5dface971a41",
   "metadata": {},
   "outputs": [
    {
     "name": "stdout",
     "output_type": "stream",
     "text": [
      "train accuracy: 1.0\n",
      "valid accuracy: 0.8902392060641527\n"
     ]
    }
   ],
   "source": [
    "dt = DecisionTreeRegressor()\n",
    "modelTrain(dt, X, Y)"
   ]
  },
  {
   "cell_type": "code",
   "execution_count": 49,
   "id": "7ca38264-a0e7-4f6e-ba74-6b5db5b7e2ff",
   "metadata": {},
   "outputs": [
    {
     "name": "stdout",
     "output_type": "stream",
     "text": [
      "train accuracy: 1.0\n",
      "valid accuracy: 0.8898545308512429\n"
     ]
    }
   ],
   "source": [
    "modelTrain(dt, X, Y, True)"
   ]
  },
  {
   "cell_type": "markdown",
   "id": "f0d1e784-288a-467d-8552-5a31d91fca82",
   "metadata": {},
   "source": [
    "이러한 과대적합을 해결하는 방법으로는 다음과 같은 것들이 있다.\n",
    "- ridge, lasso 등 규제를 적용한 모델 이용\n",
    "- Ensemble 모델 이용\n",
    "- 데이터의 크기를 늘리기\n",
    "- hyperparameter 값을 변경"
   ]
  },
  {
   "cell_type": "markdown",
   "id": "a0304604-f0a4-44fc-9df3-1b468485a867",
   "metadata": {
    "tags": []
   },
   "source": [
    "## 7) RandomForestRegressor"
   ]
  },
  {
   "cell_type": "markdown",
   "id": "38f2cd35-ca20-42a4-91d1-922d72250a34",
   "metadata": {},
   "source": [
    "- bagging을 이용한다.\n",
    "  - bagging: 동일한 모형과 모형 모수를 사용하는 대신 부트스트래핑(bootstrapping)과 유사하게 트레이닝 데이터를 랜덤하게 선택해서 **다수결 모형을 적용**한다.\n",
    "- RandomForest의 tree들은 평행하게 작동된다. 트리를 생성할 때 트리들끼리 상호 작용하지 않는다.\n",
    "- 훈련 시간에 다수의 decision tree를 구성하고 개별 트리의 클래스 모드(classification) 또는 평균 예측(regression)인 클래스를 출력하여 작동한다.\n",
    "```python\n",
    "RandomForestRegressor(n_estimators=100, *, criterion='squared_error', max_depth=None, min_samples_split=2, min_samples_leaf=1, min_weight_fraction_leaf=0.0, max_features=1.0, max_leaf_nodes=None, min_impurity_decrease=0.0, bootstrap=True, oob_score=False, n_jobs=None, random_state=None, verbose=0, warm_start=False, ccp_alpha=0.0, max_samples=None)\n",
    "```"
   ]
  },
  {
   "cell_type": "code",
   "execution_count": 50,
   "id": "70f934c5-b4be-47b8-a8b6-32041010cf68",
   "metadata": {},
   "outputs": [],
   "source": [
    "# help(RandomForestRegressor())"
   ]
  },
  {
   "cell_type": "code",
   "execution_count": 51,
   "id": "57f343e6-ae7c-49a1-9b97-aa2c0e7edf7d",
   "metadata": {},
   "outputs": [
    {
     "name": "stdout",
     "output_type": "stream",
     "text": [
      "train accuracy: 0.991725708337154\n",
      "valid accuracy: 0.9456827770423774\n"
     ]
    }
   ],
   "source": [
    "rf = RandomForestRegressor(random_state=42)\n",
    "modelTrain(rf, X, Y)"
   ]
  },
  {
   "cell_type": "code",
   "execution_count": 52,
   "id": "0f27f45d-a603-4bc5-ac5d-72bac7289881",
   "metadata": {},
   "outputs": [
    {
     "name": "stdout",
     "output_type": "stream",
     "text": [
      "train accuracy: 0.991735515196427\n",
      "valid accuracy: 0.9455393986428866\n"
     ]
    }
   ],
   "source": [
    "modelTrain(rf, X, Y, True)"
   ]
  },
  {
   "cell_type": "markdown",
   "id": "328fd4cc-a415-412d-bb08-71c38dfdf3b7",
   "metadata": {
    "tags": []
   },
   "source": [
    "## 8) XGB Regression"
   ]
  },
  {
   "cell_type": "markdown",
   "id": "523f1826-c4fd-4825-bba5-28e12e98fc5d",
   "metadata": {},
   "source": [
    "- 여러 개의 DecisionTree를 조합해서 사용하는 Ensemble 알고리즘\n",
    "- Greedy-algorithm을 사용해 과적합이 잘 발생하지 않는다."
   ]
  },
  {
   "cell_type": "code",
   "execution_count": 53,
   "id": "355534d1-c9b3-40c7-8d30-3dc3b41b1452",
   "metadata": {},
   "outputs": [
    {
     "name": "stdout",
     "output_type": "stream",
     "text": [
      "train accuracy: 0.9996190488212432\n",
      "valid accuracy: 0.9655723837285455\n"
     ]
    }
   ],
   "source": [
    "xgb = XGBRegressor(objective='reg:squarederror', random_state=42)\n",
    "modelTrain(xgb, X, Y)"
   ]
  },
  {
   "cell_type": "code",
   "execution_count": 54,
   "id": "ff0ba4a3-2251-4352-b30f-5a8376b7f917",
   "metadata": {},
   "outputs": [
    {
     "name": "stdout",
     "output_type": "stream",
     "text": [
      "train accuracy: 0.9996190488212432\n",
      "valid accuracy: 0.9651805404554342\n"
     ]
    }
   ],
   "source": [
    "modelTrain(xgb, X, Y, True)"
   ]
  },
  {
   "cell_type": "markdown",
   "id": "aade9b74-fc73-44af-afca-c87a8f17a9bb",
   "metadata": {},
   "source": [
    "## 9) LGBMregressor"
   ]
  },
  {
   "cell_type": "markdown",
   "id": "81960e78-6544-4cad-87d0-692402819d42",
   "metadata": {},
   "source": [
    "- GOSS(Gradient-based One-side Sampling)를 통한 데이터 증폭을 한다.\n",
    "  - GOSS: 가중치가 작은 개체에 상수를 적용하여 데이터 증폭\n",
    "- Leaf Wise한 방식을 이용하여 예측 오류 손실을 최소화한다.\n",
    "- 하지만 Dataset이 충분하지 못하면 과적합이 발생할 확률이 증가한다.\n",
    "- 정수형으로 인코딩된 변수에 대해 좋은 성능을 제공한다."
   ]
  },
  {
   "cell_type": "code",
   "execution_count": 55,
   "id": "bb039b54-1868-4461-b15e-abf2f3cde317",
   "metadata": {},
   "outputs": [
    {
     "name": "stdout",
     "output_type": "stream",
     "text": [
      "train accuracy: 0.9903217702977141\n",
      "valid accuracy: 0.964185332140842\n"
     ]
    }
   ],
   "source": [
    "lgbm = LGBMRegressor(random_state=42)\n",
    "modelTrain(lgbm, X, Y)"
   ]
  },
  {
   "cell_type": "code",
   "execution_count": 56,
   "id": "23f863b2-08b1-40d8-96dc-fb1d28f1974d",
   "metadata": {},
   "outputs": [
    {
     "name": "stdout",
     "output_type": "stream",
     "text": [
      "train accuracy: 0.9903217702977141\n",
      "valid accuracy: 0.964185332140842\n"
     ]
    }
   ],
   "source": [
    "modelTrain(lgbm, X, Y, True)"
   ]
  },
  {
   "cell_type": "markdown",
   "id": "662d06f9-976b-4e66-a3a5-78eedeb0fb3d",
   "metadata": {},
   "source": [
    "## 10) CatBoostRegressor"
   ]
  },
  {
   "cell_type": "markdown",
   "id": "1fc709a4-5fd6-45b3-8e0d-4ed938a41a49",
   "metadata": {},
   "source": [
    "- 순서에 따라 모델을 만들고 예측하는 Ordered Boosting이다.\n",
    "- feature들의 대칭적인 트리 구조를 형성한다.\n",
    "- XGBoost, LGBM보다 학습 속도가 개선된 모델이다.\n",
    "- hyperparameter에 따라 성능이 달라지는 민감한 문제를 해결했다."
   ]
  },
  {
   "cell_type": "code",
   "execution_count": 57,
   "id": "00f74242-c5c2-488d-a322-17726c2dbb07",
   "metadata": {},
   "outputs": [
    {
     "name": "stdout",
     "output_type": "stream",
     "text": [
      "Learning rate set to 0.262246\n",
      "0:\tlearn: 792.0761834\ttotal: 134ms\tremaining: 13.2s\n",
      "1:\tlearn: 657.3601912\ttotal: 135ms\tremaining: 6.63s\n",
      "2:\tlearn: 554.1313914\ttotal: 137ms\tremaining: 4.42s\n",
      "3:\tlearn: 479.9151283\ttotal: 139ms\tremaining: 3.33s\n",
      "4:\tlearn: 431.0099937\ttotal: 140ms\tremaining: 2.65s\n",
      "5:\tlearn: 385.5215484\ttotal: 141ms\tremaining: 2.21s\n",
      "6:\tlearn: 359.8480234\ttotal: 143ms\tremaining: 1.9s\n",
      "7:\tlearn: 329.8983831\ttotal: 144ms\tremaining: 1.66s\n",
      "8:\tlearn: 305.1855611\ttotal: 146ms\tremaining: 1.48s\n",
      "9:\tlearn: 283.4857495\ttotal: 148ms\tremaining: 1.33s\n",
      "10:\tlearn: 270.0612540\ttotal: 149ms\tremaining: 1.21s\n",
      "11:\tlearn: 262.1253268\ttotal: 150ms\tremaining: 1.1s\n",
      "12:\tlearn: 254.7467847\ttotal: 152ms\tremaining: 1.01s\n",
      "13:\tlearn: 247.0944098\ttotal: 153ms\tremaining: 941ms\n",
      "14:\tlearn: 236.9073433\ttotal: 155ms\tremaining: 877ms\n",
      "15:\tlearn: 229.6573835\ttotal: 156ms\tremaining: 820ms\n",
      "16:\tlearn: 224.8724926\ttotal: 158ms\tremaining: 772ms\n",
      "17:\tlearn: 217.2609889\ttotal: 160ms\tremaining: 727ms\n",
      "18:\tlearn: 213.9326560\ttotal: 161ms\tremaining: 687ms\n",
      "19:\tlearn: 207.9857277\ttotal: 163ms\tremaining: 650ms\n",
      "20:\tlearn: 205.3171405\ttotal: 164ms\tremaining: 616ms\n",
      "21:\tlearn: 199.1083198\ttotal: 165ms\tremaining: 585ms\n",
      "22:\tlearn: 192.1668073\ttotal: 167ms\tremaining: 557ms\n",
      "23:\tlearn: 187.7046660\ttotal: 168ms\tremaining: 532ms\n",
      "24:\tlearn: 184.2999214\ttotal: 169ms\tremaining: 508ms\n",
      "25:\tlearn: 181.7381127\ttotal: 171ms\tremaining: 486ms\n",
      "26:\tlearn: 179.0345726\ttotal: 172ms\tremaining: 465ms\n",
      "27:\tlearn: 176.3944357\ttotal: 174ms\tremaining: 446ms\n",
      "28:\tlearn: 175.1234000\ttotal: 175ms\tremaining: 428ms\n",
      "29:\tlearn: 172.4189035\ttotal: 176ms\tremaining: 411ms\n",
      "30:\tlearn: 171.0602324\ttotal: 177ms\tremaining: 395ms\n",
      "31:\tlearn: 167.9370076\ttotal: 179ms\tremaining: 380ms\n",
      "32:\tlearn: 166.4536384\ttotal: 180ms\tremaining: 365ms\n",
      "33:\tlearn: 163.8150802\ttotal: 181ms\tremaining: 352ms\n",
      "34:\tlearn: 161.0936922\ttotal: 183ms\tremaining: 339ms\n",
      "35:\tlearn: 159.3922975\ttotal: 184ms\tremaining: 327ms\n",
      "36:\tlearn: 157.7821393\ttotal: 186ms\tremaining: 316ms\n",
      "37:\tlearn: 156.1180496\ttotal: 187ms\tremaining: 306ms\n",
      "38:\tlearn: 152.8780896\ttotal: 189ms\tremaining: 295ms\n",
      "39:\tlearn: 151.8421590\ttotal: 190ms\tremaining: 285ms\n",
      "40:\tlearn: 149.3822552\ttotal: 192ms\tremaining: 276ms\n",
      "41:\tlearn: 148.5412271\ttotal: 193ms\tremaining: 267ms\n",
      "42:\tlearn: 147.6421585\ttotal: 194ms\tremaining: 258ms\n",
      "43:\tlearn: 146.4695858\ttotal: 196ms\tremaining: 249ms\n",
      "44:\tlearn: 145.0348074\ttotal: 197ms\tremaining: 241ms\n",
      "45:\tlearn: 142.9478811\ttotal: 198ms\tremaining: 233ms\n",
      "46:\tlearn: 141.9990267\ttotal: 200ms\tremaining: 225ms\n",
      "47:\tlearn: 140.8027755\ttotal: 201ms\tremaining: 218ms\n",
      "48:\tlearn: 139.3758475\ttotal: 202ms\tremaining: 210ms\n",
      "49:\tlearn: 137.5484981\ttotal: 204ms\tremaining: 204ms\n",
      "50:\tlearn: 136.2670580\ttotal: 205ms\tremaining: 197ms\n",
      "51:\tlearn: 134.9639529\ttotal: 207ms\tremaining: 191ms\n",
      "52:\tlearn: 133.8903047\ttotal: 208ms\tremaining: 184ms\n",
      "53:\tlearn: 132.6484118\ttotal: 209ms\tremaining: 178ms\n",
      "54:\tlearn: 131.3151058\ttotal: 210ms\tremaining: 172ms\n",
      "55:\tlearn: 129.5009363\ttotal: 212ms\tremaining: 166ms\n",
      "56:\tlearn: 128.9156399\ttotal: 213ms\tremaining: 161ms\n",
      "57:\tlearn: 127.3258761\ttotal: 214ms\tremaining: 155ms\n",
      "58:\tlearn: 126.1852017\ttotal: 216ms\tremaining: 150ms\n",
      "59:\tlearn: 125.2834530\ttotal: 217ms\tremaining: 145ms\n",
      "60:\tlearn: 123.8448513\ttotal: 219ms\tremaining: 140ms\n",
      "61:\tlearn: 122.4173645\ttotal: 220ms\tremaining: 135ms\n",
      "62:\tlearn: 121.6818732\ttotal: 221ms\tremaining: 130ms\n",
      "63:\tlearn: 120.7648351\ttotal: 223ms\tremaining: 125ms\n",
      "64:\tlearn: 119.9838800\ttotal: 224ms\tremaining: 121ms\n",
      "65:\tlearn: 118.8036580\ttotal: 225ms\tremaining: 116ms\n",
      "66:\tlearn: 118.0938091\ttotal: 227ms\tremaining: 112ms\n",
      "67:\tlearn: 117.2007963\ttotal: 228ms\tremaining: 107ms\n",
      "68:\tlearn: 116.3485648\ttotal: 229ms\tremaining: 103ms\n",
      "69:\tlearn: 115.9715649\ttotal: 231ms\tremaining: 98.9ms\n",
      "70:\tlearn: 114.9682104\ttotal: 232ms\tremaining: 94.8ms\n",
      "71:\tlearn: 114.6086962\ttotal: 234ms\tremaining: 90.8ms\n",
      "72:\tlearn: 113.7033600\ttotal: 235ms\tremaining: 86.8ms\n",
      "73:\tlearn: 113.1089856\ttotal: 236ms\tremaining: 82.9ms\n",
      "74:\tlearn: 111.8691574\ttotal: 237ms\tremaining: 79.1ms\n",
      "75:\tlearn: 111.0563037\ttotal: 238ms\tremaining: 75.3ms\n",
      "76:\tlearn: 109.9603889\ttotal: 240ms\tremaining: 71.6ms\n",
      "77:\tlearn: 109.2692459\ttotal: 241ms\tremaining: 68ms\n",
      "78:\tlearn: 108.5691617\ttotal: 242ms\tremaining: 64.4ms\n",
      "79:\tlearn: 107.9398900\ttotal: 244ms\tremaining: 60.9ms\n",
      "80:\tlearn: 107.5926228\ttotal: 245ms\tremaining: 57.4ms\n",
      "81:\tlearn: 107.0730823\ttotal: 246ms\tremaining: 54ms\n",
      "82:\tlearn: 106.5995738\ttotal: 248ms\tremaining: 50.7ms\n",
      "83:\tlearn: 106.0742968\ttotal: 249ms\tremaining: 47.4ms\n",
      "84:\tlearn: 105.1927154\ttotal: 250ms\tremaining: 44.1ms\n",
      "85:\tlearn: 104.1193575\ttotal: 251ms\tremaining: 40.9ms\n",
      "86:\tlearn: 103.8300118\ttotal: 252ms\tremaining: 37.7ms\n",
      "87:\tlearn: 103.2982626\ttotal: 253ms\tremaining: 34.5ms\n",
      "88:\tlearn: 102.4290008\ttotal: 254ms\tremaining: 31.5ms\n",
      "89:\tlearn: 101.6909120\ttotal: 256ms\tremaining: 28.4ms\n",
      "90:\tlearn: 100.9160441\ttotal: 257ms\tremaining: 25.4ms\n",
      "91:\tlearn: 100.1034542\ttotal: 258ms\tremaining: 22.5ms\n",
      "92:\tlearn: 99.4750393\ttotal: 260ms\tremaining: 19.5ms\n",
      "93:\tlearn: 98.4431204\ttotal: 261ms\tremaining: 16.7ms\n",
      "94:\tlearn: 97.9687167\ttotal: 262ms\tremaining: 13.8ms\n",
      "95:\tlearn: 97.3377988\ttotal: 264ms\tremaining: 11ms\n",
      "96:\tlearn: 96.6525835\ttotal: 265ms\tremaining: 8.2ms\n",
      "97:\tlearn: 96.3621537\ttotal: 267ms\tremaining: 5.44ms\n",
      "98:\tlearn: 95.4831529\ttotal: 268ms\tremaining: 2.71ms\n",
      "99:\tlearn: 95.0529315\ttotal: 269ms\tremaining: 0us\n",
      "train accuracy: 0.9905782673991741\n",
      "valid accuracy: 0.9689674014786669\n"
     ]
    }
   ],
   "source": [
    "cat = CatBoostRegressor(iterations=100, random_state=42)\n",
    "modelTrain(cat, X, Y)"
   ]
  },
  {
   "cell_type": "code",
   "execution_count": 58,
   "id": "20292748-8c82-47cb-ada6-9f04523965a9",
   "metadata": {},
   "outputs": [
    {
     "name": "stdout",
     "output_type": "stream",
     "text": [
      "Learning rate set to 0.262246\n",
      "0:\tlearn: 792.0761834\ttotal: 1.66ms\tremaining: 164ms\n",
      "1:\tlearn: 657.3601912\ttotal: 3.19ms\tremaining: 156ms\n",
      "2:\tlearn: 554.1313914\ttotal: 4.6ms\tremaining: 149ms\n",
      "3:\tlearn: 479.9151283\ttotal: 5.96ms\tremaining: 143ms\n",
      "4:\tlearn: 431.0099937\ttotal: 7.09ms\tremaining: 135ms\n",
      "5:\tlearn: 385.5215484\ttotal: 8.31ms\tremaining: 130ms\n",
      "6:\tlearn: 359.8480234\ttotal: 9.54ms\tremaining: 127ms\n",
      "7:\tlearn: 329.8983831\ttotal: 10.9ms\tremaining: 126ms\n",
      "8:\tlearn: 305.1855611\ttotal: 12.3ms\tremaining: 125ms\n",
      "9:\tlearn: 283.4857495\ttotal: 13.7ms\tremaining: 123ms\n",
      "10:\tlearn: 270.0612540\ttotal: 15ms\tremaining: 121ms\n",
      "11:\tlearn: 262.1253268\ttotal: 15.9ms\tremaining: 117ms\n",
      "12:\tlearn: 254.7467847\ttotal: 17.4ms\tremaining: 116ms\n",
      "13:\tlearn: 247.0944098\ttotal: 18.7ms\tremaining: 115ms\n",
      "14:\tlearn: 236.9073433\ttotal: 20.2ms\tremaining: 114ms\n",
      "15:\tlearn: 229.6573835\ttotal: 21.5ms\tremaining: 113ms\n",
      "16:\tlearn: 224.8724926\ttotal: 22.8ms\tremaining: 111ms\n",
      "17:\tlearn: 217.2609889\ttotal: 24.3ms\tremaining: 111ms\n",
      "18:\tlearn: 213.9326560\ttotal: 25.6ms\tremaining: 109ms\n",
      "19:\tlearn: 207.9857277\ttotal: 27.5ms\tremaining: 110ms\n",
      "20:\tlearn: 205.3171405\ttotal: 29ms\tremaining: 109ms\n",
      "21:\tlearn: 199.1083198\ttotal: 30.3ms\tremaining: 107ms\n",
      "22:\tlearn: 192.1668073\ttotal: 31.6ms\tremaining: 106ms\n",
      "23:\tlearn: 187.7046660\ttotal: 32.8ms\tremaining: 104ms\n",
      "24:\tlearn: 184.2999214\ttotal: 34.1ms\tremaining: 102ms\n",
      "25:\tlearn: 181.7381127\ttotal: 35.4ms\tremaining: 101ms\n",
      "26:\tlearn: 179.0345726\ttotal: 36.7ms\tremaining: 99.3ms\n",
      "27:\tlearn: 176.3944357\ttotal: 38ms\tremaining: 97.6ms\n",
      "28:\tlearn: 175.1234000\ttotal: 39.2ms\tremaining: 95.9ms\n",
      "29:\tlearn: 172.4189035\ttotal: 40.5ms\tremaining: 94.5ms\n",
      "30:\tlearn: 171.0602324\ttotal: 41.7ms\tremaining: 92.9ms\n",
      "31:\tlearn: 167.9370076\ttotal: 43.2ms\tremaining: 91.7ms\n",
      "32:\tlearn: 166.4536384\ttotal: 44.5ms\tremaining: 90.3ms\n",
      "33:\tlearn: 163.8150802\ttotal: 45.7ms\tremaining: 88.8ms\n",
      "34:\tlearn: 161.0936922\ttotal: 47.1ms\tremaining: 87.4ms\n",
      "35:\tlearn: 159.3922975\ttotal: 48.4ms\tremaining: 86ms\n",
      "36:\tlearn: 157.7821393\ttotal: 49.7ms\tremaining: 84.6ms\n",
      "37:\tlearn: 156.1180496\ttotal: 51ms\tremaining: 83.2ms\n",
      "38:\tlearn: 152.8780896\ttotal: 52.5ms\tremaining: 82ms\n",
      "39:\tlearn: 151.8421590\ttotal: 54ms\tremaining: 81.1ms\n",
      "40:\tlearn: 149.3822552\ttotal: 55.4ms\tremaining: 79.7ms\n",
      "41:\tlearn: 148.5412271\ttotal: 56.6ms\tremaining: 78.2ms\n",
      "42:\tlearn: 147.6421585\ttotal: 57.8ms\tremaining: 76.7ms\n",
      "43:\tlearn: 146.4695858\ttotal: 59ms\tremaining: 75.1ms\n",
      "44:\tlearn: 145.0348074\ttotal: 60.3ms\tremaining: 73.7ms\n",
      "45:\tlearn: 142.9478811\ttotal: 61.5ms\tremaining: 72.2ms\n",
      "46:\tlearn: 141.9990267\ttotal: 62.9ms\tremaining: 70.9ms\n",
      "47:\tlearn: 140.8027755\ttotal: 64.1ms\tremaining: 69.4ms\n",
      "48:\tlearn: 139.3758475\ttotal: 65.5ms\tremaining: 68.2ms\n",
      "49:\tlearn: 137.5484981\ttotal: 66.9ms\tremaining: 66.9ms\n",
      "50:\tlearn: 136.2670580\ttotal: 68.2ms\tremaining: 65.5ms\n",
      "51:\tlearn: 134.9639529\ttotal: 69.5ms\tremaining: 64.2ms\n",
      "52:\tlearn: 133.8903047\ttotal: 71.1ms\tremaining: 63ms\n",
      "53:\tlearn: 132.6484118\ttotal: 72.3ms\tremaining: 61.6ms\n",
      "54:\tlearn: 131.3151058\ttotal: 73.7ms\tremaining: 60.3ms\n",
      "55:\tlearn: 129.5009363\ttotal: 75.1ms\tremaining: 59ms\n",
      "56:\tlearn: 128.9156399\ttotal: 76.4ms\tremaining: 57.6ms\n",
      "57:\tlearn: 127.3258761\ttotal: 77.7ms\tremaining: 56.2ms\n",
      "58:\tlearn: 126.1852017\ttotal: 79ms\tremaining: 54.9ms\n",
      "59:\tlearn: 125.2834530\ttotal: 80.2ms\tremaining: 53.5ms\n",
      "60:\tlearn: 123.8448513\ttotal: 81.6ms\tremaining: 52.2ms\n",
      "61:\tlearn: 122.4173645\ttotal: 83ms\tremaining: 50.9ms\n",
      "62:\tlearn: 121.6818732\ttotal: 84.7ms\tremaining: 49.7ms\n",
      "63:\tlearn: 120.7648351\ttotal: 86.1ms\tremaining: 48.5ms\n",
      "64:\tlearn: 119.9838800\ttotal: 87.5ms\tremaining: 47.1ms\n",
      "65:\tlearn: 118.8036580\ttotal: 88.7ms\tremaining: 45.7ms\n",
      "66:\tlearn: 118.0938091\ttotal: 90ms\tremaining: 44.3ms\n",
      "67:\tlearn: 117.2007963\ttotal: 91.2ms\tremaining: 42.9ms\n",
      "68:\tlearn: 116.3485648\ttotal: 92.6ms\tremaining: 41.6ms\n",
      "69:\tlearn: 115.9715649\ttotal: 93.8ms\tremaining: 40.2ms\n",
      "70:\tlearn: 114.9682104\ttotal: 95.2ms\tremaining: 38.9ms\n",
      "71:\tlearn: 114.6086962\ttotal: 96.5ms\tremaining: 37.5ms\n",
      "72:\tlearn: 113.7033600\ttotal: 97.8ms\tremaining: 36.2ms\n",
      "73:\tlearn: 113.1089856\ttotal: 99.2ms\tremaining: 34.8ms\n",
      "74:\tlearn: 111.8691574\ttotal: 100ms\tremaining: 33.5ms\n",
      "75:\tlearn: 111.0563037\ttotal: 102ms\tremaining: 32.1ms\n",
      "76:\tlearn: 109.9603889\ttotal: 103ms\tremaining: 30.8ms\n",
      "77:\tlearn: 109.2692459\ttotal: 104ms\tremaining: 29.4ms\n",
      "78:\tlearn: 108.5691617\ttotal: 106ms\tremaining: 28.1ms\n",
      "79:\tlearn: 107.9398900\ttotal: 107ms\tremaining: 26.7ms\n",
      "80:\tlearn: 107.5926228\ttotal: 108ms\tremaining: 25.4ms\n",
      "81:\tlearn: 107.0730823\ttotal: 110ms\tremaining: 24.1ms\n",
      "82:\tlearn: 106.5995738\ttotal: 111ms\tremaining: 22.8ms\n",
      "83:\tlearn: 106.0742968\ttotal: 112ms\tremaining: 21.4ms\n",
      "84:\tlearn: 105.1927154\ttotal: 114ms\tremaining: 20.1ms\n",
      "85:\tlearn: 104.1193575\ttotal: 115ms\tremaining: 18.8ms\n",
      "86:\tlearn: 103.8300118\ttotal: 117ms\tremaining: 17.4ms\n",
      "87:\tlearn: 103.2982626\ttotal: 118ms\tremaining: 16.1ms\n",
      "88:\tlearn: 102.4290008\ttotal: 119ms\tremaining: 14.7ms\n",
      "89:\tlearn: 101.6909120\ttotal: 121ms\tremaining: 13.4ms\n",
      "90:\tlearn: 100.9160441\ttotal: 122ms\tremaining: 12.1ms\n",
      "91:\tlearn: 100.1034542\ttotal: 123ms\tremaining: 10.7ms\n",
      "92:\tlearn: 99.4750393\ttotal: 125ms\tremaining: 9.4ms\n",
      "93:\tlearn: 98.4431204\ttotal: 126ms\tremaining: 8.06ms\n",
      "94:\tlearn: 97.9687167\ttotal: 128ms\tremaining: 6.72ms\n",
      "95:\tlearn: 97.3377988\ttotal: 129ms\tremaining: 5.37ms\n",
      "96:\tlearn: 96.6525835\ttotal: 130ms\tremaining: 4.03ms\n",
      "97:\tlearn: 96.3621537\ttotal: 132ms\tremaining: 2.69ms\n",
      "98:\tlearn: 95.4831529\ttotal: 133ms\tremaining: 1.34ms\n",
      "99:\tlearn: 95.0529315\ttotal: 135ms\tremaining: 0us\n",
      "train accuracy: 0.9905782673991741\n",
      "valid accuracy: 0.9689515246752407\n"
     ]
    }
   ],
   "source": [
    "modelTrain(cat, X, Y, True)"
   ]
  },
  {
   "cell_type": "markdown",
   "id": "109c9e99-f197-48b0-8fcf-f2b2efcc8927",
   "metadata": {},
   "source": [
    "# 3.회귀 모델 성능평가\n",
    "\n",
    "- $R^2$ **score**\n",
    "  - `model.score(X, y)`\n",
    "  - `sklearn.metrics.r2_score(y_true, y_pred)`\n",
    "  - 분산 기반으로 예측 성능을 평가\n",
    "  - 예측값 분산 / 실제값 분산\n",
    "- **MAE(Mean Absolute Error)**\n",
    "   - `sklearn.metrics.mean_absolute_error(y_true, y_pred)`\n",
    "   - 실제 값과 예측 값의 차이를 절댓값으로 변환해 평균한 것\n",
    "- **MSE(Mean Squared Error)**\n",
    "   - `sklearn.metrics.mean_squared_error(y_true, y_pred)`\n",
    "   - 실제 값과 예측 값의 차이를 제곱해 평균한 것\n",
    "- **RMSE(Root Mean Squared Error)**\n",
    "   - sklearn API에 없음\n",
    "   - MSE에 np.sqrt() 또는 ** 0.5를 사용함\n",
    "   - MSE 값은 오류의 제곱을 구하므로 실제 오류 평균보다 더 커지는 특성이 있어 MSE에 루트를 씌운 것\n",
    "- **MSLE(Mean Squared Log Error)**\n",
    "   - `sklearn.metrics.mean_squared_log_error(y_true, y_pred)`\n",
    "   - MSE에 로그를 적용해준 지표\n",
    "- **RMSLE(Root Mean Square Log Error)**\n",
    "   - RMSE에 로그를 적용해준 지표\n",
    "   - 이상치가 있더라도 변동폭이 크지 않음(이상치에 강건함)\n",
    "   - 실제값보다 예측값이 작을 때 더 큰 패널티 부여\n",
    "   - 작게 예측하면 안되는 경우 사용하면 좋음(배달 시간 예측)\n",
    "   - 실제값, 예측값에 음수가 있으면 안됨(오류 발생)\n",
    "\n",
    "- R2_socre만 1에 가까울수록 좋으며, MAE, MSE, RMSE, MSLE, RMSLE는 0에 가까울수록 좋다."
   ]
  },
  {
   "cell_type": "code",
   "execution_count": 59,
   "id": "66196ded-5da7-4245-9417-fa1b9d3a4a01",
   "metadata": {},
   "outputs": [],
   "source": [
    "def get_scores(model, X, Y):\n",
    "    pred = model.predict(X)\n",
    "    \n",
    "    A = r2_score(Y, pred)\n",
    "    B = mae(Y, pred)\n",
    "    C = mse(Y, pred)\n",
    "    E = np.sqrt(C) # rmse\n",
    "    \n",
    "    # msle, rmsle는 음수가 있어서는 안됨\n",
    "    pred = np.where(pred<0, 0, pred)\n",
    "    D = msle(Y, pred)\n",
    "    F = np.sqrt(D) # rmsle\n",
    "    \n",
    "    return f'r2: {A:.4} mae: {B:.4} mse: {C:.4} msle: {D:.4} rmse {E:.4} rmsle: {F:.4}'"
   ]
  },
  {
   "cell_type": "code",
   "execution_count": 60,
   "id": "ec451f94-c22c-47a7-a88e-1ebccbaaf556",
   "metadata": {},
   "outputs": [],
   "source": [
    "def modelTrain2(model, X, Y, scale=False):\n",
    "    if scale:\n",
    "        X = MinMaxScaler().fit_transform(X)\n",
    "    \n",
    "    X_train, X_valid, y_train, y_valid = train_test_split(X, Y,\n",
    "                                                         test_size=0.3,\n",
    "                                                         random_state=42)\n",
    "    \n",
    "    model.fit(X_train, y_train)\n",
    "    \n",
    "    print(model.__class__)\n",
    "    print(f'train: {get_scores(model, X_train, y_train)}')\n",
    "    print(f'valid: {get_scores(model, X_valid, y_valid)}')\n",
    "    print()\n",
    "    \n",
    "    return model"
   ]
  },
  {
   "cell_type": "code",
   "execution_count": 61,
   "id": "591c52af-fdfd-48a7-9179-cfa516281fea",
   "metadata": {},
   "outputs": [
    {
     "name": "stdout",
     "output_type": "stream",
     "text": [
      "<class 'sklearn.linear_model._base.LinearRegression'>\n",
      "train: r2: 0.866 mae: 284.3 mse: 1.285e+05 msle: 0.01976 rmse 358.5 rmsle: 0.1406\n",
      "valid: r2: 0.8603 mae: 294.5 mse: 1.35e+05 msle: 0.02009 rmse 367.5 rmsle: 0.1417\n",
      "\n"
     ]
    },
    {
     "data": {
      "text/html": [
       "<style>#sk-container-id-1 {color: black;background-color: white;}#sk-container-id-1 pre{padding: 0;}#sk-container-id-1 div.sk-toggleable {background-color: white;}#sk-container-id-1 label.sk-toggleable__label {cursor: pointer;display: block;width: 100%;margin-bottom: 0;padding: 0.3em;box-sizing: border-box;text-align: center;}#sk-container-id-1 label.sk-toggleable__label-arrow:before {content: \"▸\";float: left;margin-right: 0.25em;color: #696969;}#sk-container-id-1 label.sk-toggleable__label-arrow:hover:before {color: black;}#sk-container-id-1 div.sk-estimator:hover label.sk-toggleable__label-arrow:before {color: black;}#sk-container-id-1 div.sk-toggleable__content {max-height: 0;max-width: 0;overflow: hidden;text-align: left;background-color: #f0f8ff;}#sk-container-id-1 div.sk-toggleable__content pre {margin: 0.2em;color: black;border-radius: 0.25em;background-color: #f0f8ff;}#sk-container-id-1 input.sk-toggleable__control:checked~div.sk-toggleable__content {max-height: 200px;max-width: 100%;overflow: auto;}#sk-container-id-1 input.sk-toggleable__control:checked~label.sk-toggleable__label-arrow:before {content: \"▾\";}#sk-container-id-1 div.sk-estimator input.sk-toggleable__control:checked~label.sk-toggleable__label {background-color: #d4ebff;}#sk-container-id-1 div.sk-label input.sk-toggleable__control:checked~label.sk-toggleable__label {background-color: #d4ebff;}#sk-container-id-1 input.sk-hidden--visually {border: 0;clip: rect(1px 1px 1px 1px);clip: rect(1px, 1px, 1px, 1px);height: 1px;margin: -1px;overflow: hidden;padding: 0;position: absolute;width: 1px;}#sk-container-id-1 div.sk-estimator {font-family: monospace;background-color: #f0f8ff;border: 1px dotted black;border-radius: 0.25em;box-sizing: border-box;margin-bottom: 0.5em;}#sk-container-id-1 div.sk-estimator:hover {background-color: #d4ebff;}#sk-container-id-1 div.sk-parallel-item::after {content: \"\";width: 100%;border-bottom: 1px solid gray;flex-grow: 1;}#sk-container-id-1 div.sk-label:hover label.sk-toggleable__label {background-color: #d4ebff;}#sk-container-id-1 div.sk-serial::before {content: \"\";position: absolute;border-left: 1px solid gray;box-sizing: border-box;top: 0;bottom: 0;left: 50%;z-index: 0;}#sk-container-id-1 div.sk-serial {display: flex;flex-direction: column;align-items: center;background-color: white;padding-right: 0.2em;padding-left: 0.2em;position: relative;}#sk-container-id-1 div.sk-item {position: relative;z-index: 1;}#sk-container-id-1 div.sk-parallel {display: flex;align-items: stretch;justify-content: center;background-color: white;position: relative;}#sk-container-id-1 div.sk-item::before, #sk-container-id-1 div.sk-parallel-item::before {content: \"\";position: absolute;border-left: 1px solid gray;box-sizing: border-box;top: 0;bottom: 0;left: 50%;z-index: -1;}#sk-container-id-1 div.sk-parallel-item {display: flex;flex-direction: column;z-index: 1;position: relative;background-color: white;}#sk-container-id-1 div.sk-parallel-item:first-child::after {align-self: flex-end;width: 50%;}#sk-container-id-1 div.sk-parallel-item:last-child::after {align-self: flex-start;width: 50%;}#sk-container-id-1 div.sk-parallel-item:only-child::after {width: 0;}#sk-container-id-1 div.sk-dashed-wrapped {border: 1px dashed gray;margin: 0 0.4em 0.5em 0.4em;box-sizing: border-box;padding-bottom: 0.4em;background-color: white;}#sk-container-id-1 div.sk-label label {font-family: monospace;font-weight: bold;display: inline-block;line-height: 1.2em;}#sk-container-id-1 div.sk-label-container {text-align: center;}#sk-container-id-1 div.sk-container {/* jupyter's `normalize.less` sets `[hidden] { display: none; }` but bootstrap.min.css set `[hidden] { display: none !important; }` so we also need the `!important` here to be able to override the default hidden behavior on the sphinx rendered scikit-learn.org. See: https://github.com/scikit-learn/scikit-learn/issues/21755 */display: inline-block !important;position: relative;}#sk-container-id-1 div.sk-text-repr-fallback {display: none;}</style><div id=\"sk-container-id-1\" class=\"sk-top-container\"><div class=\"sk-text-repr-fallback\"><pre>LinearRegression()</pre><b>In a Jupyter environment, please rerun this cell to show the HTML representation or trust the notebook. <br />On GitHub, the HTML representation is unable to render, please try loading this page with nbviewer.org.</b></div><div class=\"sk-container\" hidden><div class=\"sk-item\"><div class=\"sk-estimator sk-toggleable\"><input class=\"sk-toggleable__control sk-hidden--visually\" id=\"sk-estimator-id-1\" type=\"checkbox\" checked><label for=\"sk-estimator-id-1\" class=\"sk-toggleable__label sk-toggleable__label-arrow\">LinearRegression</label><div class=\"sk-toggleable__content\"><pre>LinearRegression()</pre></div></div></div></div></div>"
      ],
      "text/plain": [
       "LinearRegression()"
      ]
     },
     "execution_count": 61,
     "metadata": {},
     "output_type": "execute_result"
    }
   ],
   "source": [
    "modelTrain2(lr, X, Y)"
   ]
  },
  {
   "cell_type": "code",
   "execution_count": 62,
   "id": "0376c22b-9e6e-4fbe-86ce-dc5d58c71434",
   "metadata": {},
   "outputs": [
    {
     "name": "stdout",
     "output_type": "stream",
     "text": [
      "<class 'sklearn.tree._classes.DecisionTreeRegressor'>\n",
      "train: r2: 1.0 mae: 0.0 mse: 0.0 msle: 0.0 rmse 0.0 rmsle: 0.0\n",
      "valid: r2: 0.8894 mae: 242.9 mse: 1.069e+05 msle: 0.01558 rmse 327.0 rmsle: 0.1248\n",
      "\n"
     ]
    },
    {
     "data": {
      "text/html": [
       "<style>#sk-container-id-2 {color: black;background-color: white;}#sk-container-id-2 pre{padding: 0;}#sk-container-id-2 div.sk-toggleable {background-color: white;}#sk-container-id-2 label.sk-toggleable__label {cursor: pointer;display: block;width: 100%;margin-bottom: 0;padding: 0.3em;box-sizing: border-box;text-align: center;}#sk-container-id-2 label.sk-toggleable__label-arrow:before {content: \"▸\";float: left;margin-right: 0.25em;color: #696969;}#sk-container-id-2 label.sk-toggleable__label-arrow:hover:before {color: black;}#sk-container-id-2 div.sk-estimator:hover label.sk-toggleable__label-arrow:before {color: black;}#sk-container-id-2 div.sk-toggleable__content {max-height: 0;max-width: 0;overflow: hidden;text-align: left;background-color: #f0f8ff;}#sk-container-id-2 div.sk-toggleable__content pre {margin: 0.2em;color: black;border-radius: 0.25em;background-color: #f0f8ff;}#sk-container-id-2 input.sk-toggleable__control:checked~div.sk-toggleable__content {max-height: 200px;max-width: 100%;overflow: auto;}#sk-container-id-2 input.sk-toggleable__control:checked~label.sk-toggleable__label-arrow:before {content: \"▾\";}#sk-container-id-2 div.sk-estimator input.sk-toggleable__control:checked~label.sk-toggleable__label {background-color: #d4ebff;}#sk-container-id-2 div.sk-label input.sk-toggleable__control:checked~label.sk-toggleable__label {background-color: #d4ebff;}#sk-container-id-2 input.sk-hidden--visually {border: 0;clip: rect(1px 1px 1px 1px);clip: rect(1px, 1px, 1px, 1px);height: 1px;margin: -1px;overflow: hidden;padding: 0;position: absolute;width: 1px;}#sk-container-id-2 div.sk-estimator {font-family: monospace;background-color: #f0f8ff;border: 1px dotted black;border-radius: 0.25em;box-sizing: border-box;margin-bottom: 0.5em;}#sk-container-id-2 div.sk-estimator:hover {background-color: #d4ebff;}#sk-container-id-2 div.sk-parallel-item::after {content: \"\";width: 100%;border-bottom: 1px solid gray;flex-grow: 1;}#sk-container-id-2 div.sk-label:hover label.sk-toggleable__label {background-color: #d4ebff;}#sk-container-id-2 div.sk-serial::before {content: \"\";position: absolute;border-left: 1px solid gray;box-sizing: border-box;top: 0;bottom: 0;left: 50%;z-index: 0;}#sk-container-id-2 div.sk-serial {display: flex;flex-direction: column;align-items: center;background-color: white;padding-right: 0.2em;padding-left: 0.2em;position: relative;}#sk-container-id-2 div.sk-item {position: relative;z-index: 1;}#sk-container-id-2 div.sk-parallel {display: flex;align-items: stretch;justify-content: center;background-color: white;position: relative;}#sk-container-id-2 div.sk-item::before, #sk-container-id-2 div.sk-parallel-item::before {content: \"\";position: absolute;border-left: 1px solid gray;box-sizing: border-box;top: 0;bottom: 0;left: 50%;z-index: -1;}#sk-container-id-2 div.sk-parallel-item {display: flex;flex-direction: column;z-index: 1;position: relative;background-color: white;}#sk-container-id-2 div.sk-parallel-item:first-child::after {align-self: flex-end;width: 50%;}#sk-container-id-2 div.sk-parallel-item:last-child::after {align-self: flex-start;width: 50%;}#sk-container-id-2 div.sk-parallel-item:only-child::after {width: 0;}#sk-container-id-2 div.sk-dashed-wrapped {border: 1px dashed gray;margin: 0 0.4em 0.5em 0.4em;box-sizing: border-box;padding-bottom: 0.4em;background-color: white;}#sk-container-id-2 div.sk-label label {font-family: monospace;font-weight: bold;display: inline-block;line-height: 1.2em;}#sk-container-id-2 div.sk-label-container {text-align: center;}#sk-container-id-2 div.sk-container {/* jupyter's `normalize.less` sets `[hidden] { display: none; }` but bootstrap.min.css set `[hidden] { display: none !important; }` so we also need the `!important` here to be able to override the default hidden behavior on the sphinx rendered scikit-learn.org. See: https://github.com/scikit-learn/scikit-learn/issues/21755 */display: inline-block !important;position: relative;}#sk-container-id-2 div.sk-text-repr-fallback {display: none;}</style><div id=\"sk-container-id-2\" class=\"sk-top-container\"><div class=\"sk-text-repr-fallback\"><pre>DecisionTreeRegressor()</pre><b>In a Jupyter environment, please rerun this cell to show the HTML representation or trust the notebook. <br />On GitHub, the HTML representation is unable to render, please try loading this page with nbviewer.org.</b></div><div class=\"sk-container\" hidden><div class=\"sk-item\"><div class=\"sk-estimator sk-toggleable\"><input class=\"sk-toggleable__control sk-hidden--visually\" id=\"sk-estimator-id-2\" type=\"checkbox\" checked><label for=\"sk-estimator-id-2\" class=\"sk-toggleable__label sk-toggleable__label-arrow\">DecisionTreeRegressor</label><div class=\"sk-toggleable__content\"><pre>DecisionTreeRegressor()</pre></div></div></div></div></div>"
      ],
      "text/plain": [
       "DecisionTreeRegressor()"
      ]
     },
     "execution_count": 62,
     "metadata": {},
     "output_type": "execute_result"
    }
   ],
   "source": [
    "modelTrain2(dt, X, Y)"
   ]
  },
  {
   "cell_type": "code",
   "execution_count": 63,
   "id": "23c418cb-19f5-412e-b639-a34418eefae9",
   "metadata": {},
   "outputs": [
    {
     "name": "stdout",
     "output_type": "stream",
     "text": [
      "<class 'sklearn.ensemble._forest.RandomForestRegressor'>\n",
      "train: r2: 0.9917 mae: 67.56 mse: 7.935e+03 msle: 0.00127 rmse 89.08 rmsle: 0.03564\n",
      "valid: r2: 0.9457 mae: 180.1 mse: 5.25e+04 msle: 0.008314 rmse 229.1 rmsle: 0.09118\n",
      "\n"
     ]
    },
    {
     "data": {
      "text/html": [
       "<style>#sk-container-id-3 {color: black;background-color: white;}#sk-container-id-3 pre{padding: 0;}#sk-container-id-3 div.sk-toggleable {background-color: white;}#sk-container-id-3 label.sk-toggleable__label {cursor: pointer;display: block;width: 100%;margin-bottom: 0;padding: 0.3em;box-sizing: border-box;text-align: center;}#sk-container-id-3 label.sk-toggleable__label-arrow:before {content: \"▸\";float: left;margin-right: 0.25em;color: #696969;}#sk-container-id-3 label.sk-toggleable__label-arrow:hover:before {color: black;}#sk-container-id-3 div.sk-estimator:hover label.sk-toggleable__label-arrow:before {color: black;}#sk-container-id-3 div.sk-toggleable__content {max-height: 0;max-width: 0;overflow: hidden;text-align: left;background-color: #f0f8ff;}#sk-container-id-3 div.sk-toggleable__content pre {margin: 0.2em;color: black;border-radius: 0.25em;background-color: #f0f8ff;}#sk-container-id-3 input.sk-toggleable__control:checked~div.sk-toggleable__content {max-height: 200px;max-width: 100%;overflow: auto;}#sk-container-id-3 input.sk-toggleable__control:checked~label.sk-toggleable__label-arrow:before {content: \"▾\";}#sk-container-id-3 div.sk-estimator input.sk-toggleable__control:checked~label.sk-toggleable__label {background-color: #d4ebff;}#sk-container-id-3 div.sk-label input.sk-toggleable__control:checked~label.sk-toggleable__label {background-color: #d4ebff;}#sk-container-id-3 input.sk-hidden--visually {border: 0;clip: rect(1px 1px 1px 1px);clip: rect(1px, 1px, 1px, 1px);height: 1px;margin: -1px;overflow: hidden;padding: 0;position: absolute;width: 1px;}#sk-container-id-3 div.sk-estimator {font-family: monospace;background-color: #f0f8ff;border: 1px dotted black;border-radius: 0.25em;box-sizing: border-box;margin-bottom: 0.5em;}#sk-container-id-3 div.sk-estimator:hover {background-color: #d4ebff;}#sk-container-id-3 div.sk-parallel-item::after {content: \"\";width: 100%;border-bottom: 1px solid gray;flex-grow: 1;}#sk-container-id-3 div.sk-label:hover label.sk-toggleable__label {background-color: #d4ebff;}#sk-container-id-3 div.sk-serial::before {content: \"\";position: absolute;border-left: 1px solid gray;box-sizing: border-box;top: 0;bottom: 0;left: 50%;z-index: 0;}#sk-container-id-3 div.sk-serial {display: flex;flex-direction: column;align-items: center;background-color: white;padding-right: 0.2em;padding-left: 0.2em;position: relative;}#sk-container-id-3 div.sk-item {position: relative;z-index: 1;}#sk-container-id-3 div.sk-parallel {display: flex;align-items: stretch;justify-content: center;background-color: white;position: relative;}#sk-container-id-3 div.sk-item::before, #sk-container-id-3 div.sk-parallel-item::before {content: \"\";position: absolute;border-left: 1px solid gray;box-sizing: border-box;top: 0;bottom: 0;left: 50%;z-index: -1;}#sk-container-id-3 div.sk-parallel-item {display: flex;flex-direction: column;z-index: 1;position: relative;background-color: white;}#sk-container-id-3 div.sk-parallel-item:first-child::after {align-self: flex-end;width: 50%;}#sk-container-id-3 div.sk-parallel-item:last-child::after {align-self: flex-start;width: 50%;}#sk-container-id-3 div.sk-parallel-item:only-child::after {width: 0;}#sk-container-id-3 div.sk-dashed-wrapped {border: 1px dashed gray;margin: 0 0.4em 0.5em 0.4em;box-sizing: border-box;padding-bottom: 0.4em;background-color: white;}#sk-container-id-3 div.sk-label label {font-family: monospace;font-weight: bold;display: inline-block;line-height: 1.2em;}#sk-container-id-3 div.sk-label-container {text-align: center;}#sk-container-id-3 div.sk-container {/* jupyter's `normalize.less` sets `[hidden] { display: none; }` but bootstrap.min.css set `[hidden] { display: none !important; }` so we also need the `!important` here to be able to override the default hidden behavior on the sphinx rendered scikit-learn.org. See: https://github.com/scikit-learn/scikit-learn/issues/21755 */display: inline-block !important;position: relative;}#sk-container-id-3 div.sk-text-repr-fallback {display: none;}</style><div id=\"sk-container-id-3\" class=\"sk-top-container\"><div class=\"sk-text-repr-fallback\"><pre>RandomForestRegressor(random_state=42)</pre><b>In a Jupyter environment, please rerun this cell to show the HTML representation or trust the notebook. <br />On GitHub, the HTML representation is unable to render, please try loading this page with nbviewer.org.</b></div><div class=\"sk-container\" hidden><div class=\"sk-item\"><div class=\"sk-estimator sk-toggleable\"><input class=\"sk-toggleable__control sk-hidden--visually\" id=\"sk-estimator-id-3\" type=\"checkbox\" checked><label for=\"sk-estimator-id-3\" class=\"sk-toggleable__label sk-toggleable__label-arrow\">RandomForestRegressor</label><div class=\"sk-toggleable__content\"><pre>RandomForestRegressor(random_state=42)</pre></div></div></div></div></div>"
      ],
      "text/plain": [
       "RandomForestRegressor(random_state=42)"
      ]
     },
     "execution_count": 63,
     "metadata": {},
     "output_type": "execute_result"
    }
   ],
   "source": [
    "modelTrain2(rf, X, Y)"
   ]
  },
  {
   "cell_type": "code",
   "execution_count": 64,
   "id": "69d62ece-eafb-44ad-9a64-aa5607b472b1",
   "metadata": {},
   "outputs": [
    {
     "name": "stdout",
     "output_type": "stream",
     "text": [
      "<class 'xgboost.sklearn.XGBRegressor'>\n",
      "train: r2: 0.9996 mae: 13.53 mse: 365.3 msle: 5.223e-05 rmse 19.11 rmsle: 0.007227\n",
      "valid: r2: 0.9656 mae: 141.9 mse: 3.328e+04 msle: 0.005064 rmse 182.4 rmsle: 0.07116\n",
      "\n"
     ]
    },
    {
     "data": {
      "text/html": [
       "<style>#sk-container-id-4 {color: black;background-color: white;}#sk-container-id-4 pre{padding: 0;}#sk-container-id-4 div.sk-toggleable {background-color: white;}#sk-container-id-4 label.sk-toggleable__label {cursor: pointer;display: block;width: 100%;margin-bottom: 0;padding: 0.3em;box-sizing: border-box;text-align: center;}#sk-container-id-4 label.sk-toggleable__label-arrow:before {content: \"▸\";float: left;margin-right: 0.25em;color: #696969;}#sk-container-id-4 label.sk-toggleable__label-arrow:hover:before {color: black;}#sk-container-id-4 div.sk-estimator:hover label.sk-toggleable__label-arrow:before {color: black;}#sk-container-id-4 div.sk-toggleable__content {max-height: 0;max-width: 0;overflow: hidden;text-align: left;background-color: #f0f8ff;}#sk-container-id-4 div.sk-toggleable__content pre {margin: 0.2em;color: black;border-radius: 0.25em;background-color: #f0f8ff;}#sk-container-id-4 input.sk-toggleable__control:checked~div.sk-toggleable__content {max-height: 200px;max-width: 100%;overflow: auto;}#sk-container-id-4 input.sk-toggleable__control:checked~label.sk-toggleable__label-arrow:before {content: \"▾\";}#sk-container-id-4 div.sk-estimator input.sk-toggleable__control:checked~label.sk-toggleable__label {background-color: #d4ebff;}#sk-container-id-4 div.sk-label input.sk-toggleable__control:checked~label.sk-toggleable__label {background-color: #d4ebff;}#sk-container-id-4 input.sk-hidden--visually {border: 0;clip: rect(1px 1px 1px 1px);clip: rect(1px, 1px, 1px, 1px);height: 1px;margin: -1px;overflow: hidden;padding: 0;position: absolute;width: 1px;}#sk-container-id-4 div.sk-estimator {font-family: monospace;background-color: #f0f8ff;border: 1px dotted black;border-radius: 0.25em;box-sizing: border-box;margin-bottom: 0.5em;}#sk-container-id-4 div.sk-estimator:hover {background-color: #d4ebff;}#sk-container-id-4 div.sk-parallel-item::after {content: \"\";width: 100%;border-bottom: 1px solid gray;flex-grow: 1;}#sk-container-id-4 div.sk-label:hover label.sk-toggleable__label {background-color: #d4ebff;}#sk-container-id-4 div.sk-serial::before {content: \"\";position: absolute;border-left: 1px solid gray;box-sizing: border-box;top: 0;bottom: 0;left: 50%;z-index: 0;}#sk-container-id-4 div.sk-serial {display: flex;flex-direction: column;align-items: center;background-color: white;padding-right: 0.2em;padding-left: 0.2em;position: relative;}#sk-container-id-4 div.sk-item {position: relative;z-index: 1;}#sk-container-id-4 div.sk-parallel {display: flex;align-items: stretch;justify-content: center;background-color: white;position: relative;}#sk-container-id-4 div.sk-item::before, #sk-container-id-4 div.sk-parallel-item::before {content: \"\";position: absolute;border-left: 1px solid gray;box-sizing: border-box;top: 0;bottom: 0;left: 50%;z-index: -1;}#sk-container-id-4 div.sk-parallel-item {display: flex;flex-direction: column;z-index: 1;position: relative;background-color: white;}#sk-container-id-4 div.sk-parallel-item:first-child::after {align-self: flex-end;width: 50%;}#sk-container-id-4 div.sk-parallel-item:last-child::after {align-self: flex-start;width: 50%;}#sk-container-id-4 div.sk-parallel-item:only-child::after {width: 0;}#sk-container-id-4 div.sk-dashed-wrapped {border: 1px dashed gray;margin: 0 0.4em 0.5em 0.4em;box-sizing: border-box;padding-bottom: 0.4em;background-color: white;}#sk-container-id-4 div.sk-label label {font-family: monospace;font-weight: bold;display: inline-block;line-height: 1.2em;}#sk-container-id-4 div.sk-label-container {text-align: center;}#sk-container-id-4 div.sk-container {/* jupyter's `normalize.less` sets `[hidden] { display: none; }` but bootstrap.min.css set `[hidden] { display: none !important; }` so we also need the `!important` here to be able to override the default hidden behavior on the sphinx rendered scikit-learn.org. See: https://github.com/scikit-learn/scikit-learn/issues/21755 */display: inline-block !important;position: relative;}#sk-container-id-4 div.sk-text-repr-fallback {display: none;}</style><div id=\"sk-container-id-4\" class=\"sk-top-container\"><div class=\"sk-text-repr-fallback\"><pre>XGBRegressor(base_score=None, booster=None, callbacks=None,\n",
       "             colsample_bylevel=None, colsample_bynode=None,\n",
       "             colsample_bytree=None, early_stopping_rounds=None,\n",
       "             enable_categorical=False, eval_metric=None, feature_types=None,\n",
       "             gamma=None, gpu_id=None, grow_policy=None, importance_type=None,\n",
       "             interaction_constraints=None, learning_rate=None, max_bin=None,\n",
       "             max_cat_threshold=None, max_cat_to_onehot=None,\n",
       "             max_delta_step=None, max_depth=None, max_leaves=None,\n",
       "             min_child_weight=None, missing=nan, monotone_constraints=None,\n",
       "             n_estimators=100, n_jobs=None, num_parallel_tree=None,\n",
       "             predictor=None, random_state=42, ...)</pre><b>In a Jupyter environment, please rerun this cell to show the HTML representation or trust the notebook. <br />On GitHub, the HTML representation is unable to render, please try loading this page with nbviewer.org.</b></div><div class=\"sk-container\" hidden><div class=\"sk-item\"><div class=\"sk-estimator sk-toggleable\"><input class=\"sk-toggleable__control sk-hidden--visually\" id=\"sk-estimator-id-4\" type=\"checkbox\" checked><label for=\"sk-estimator-id-4\" class=\"sk-toggleable__label sk-toggleable__label-arrow\">XGBRegressor</label><div class=\"sk-toggleable__content\"><pre>XGBRegressor(base_score=None, booster=None, callbacks=None,\n",
       "             colsample_bylevel=None, colsample_bynode=None,\n",
       "             colsample_bytree=None, early_stopping_rounds=None,\n",
       "             enable_categorical=False, eval_metric=None, feature_types=None,\n",
       "             gamma=None, gpu_id=None, grow_policy=None, importance_type=None,\n",
       "             interaction_constraints=None, learning_rate=None, max_bin=None,\n",
       "             max_cat_threshold=None, max_cat_to_onehot=None,\n",
       "             max_delta_step=None, max_depth=None, max_leaves=None,\n",
       "             min_child_weight=None, missing=nan, monotone_constraints=None,\n",
       "             n_estimators=100, n_jobs=None, num_parallel_tree=None,\n",
       "             predictor=None, random_state=42, ...)</pre></div></div></div></div></div>"
      ],
      "text/plain": [
       "XGBRegressor(base_score=None, booster=None, callbacks=None,\n",
       "             colsample_bylevel=None, colsample_bynode=None,\n",
       "             colsample_bytree=None, early_stopping_rounds=None,\n",
       "             enable_categorical=False, eval_metric=None, feature_types=None,\n",
       "             gamma=None, gpu_id=None, grow_policy=None, importance_type=None,\n",
       "             interaction_constraints=None, learning_rate=None, max_bin=None,\n",
       "             max_cat_threshold=None, max_cat_to_onehot=None,\n",
       "             max_delta_step=None, max_depth=None, max_leaves=None,\n",
       "             min_child_weight=None, missing=nan, monotone_constraints=None,\n",
       "             n_estimators=100, n_jobs=None, num_parallel_tree=None,\n",
       "             predictor=None, random_state=42, ...)"
      ]
     },
     "execution_count": 64,
     "metadata": {},
     "output_type": "execute_result"
    }
   ],
   "source": [
    "modelTrain2(xgb, X, Y)"
   ]
  },
  {
   "cell_type": "code",
   "execution_count": 65,
   "id": "336f7924-b062-49ce-92ac-27fbafb6d708",
   "metadata": {},
   "outputs": [
    {
     "name": "stdout",
     "output_type": "stream",
     "text": [
      "<class 'lightgbm.sklearn.LGBMRegressor'>\n",
      "train: r2: 0.9903 mae: 73.67 mse: 9.281e+03 msle: 0.001379 rmse 96.34 rmsle: 0.03713\n",
      "valid: r2: 0.9642 mae: 142.7 mse: 3.462e+04 msle: 0.004691 rmse 186.1 rmsle: 0.06849\n",
      "\n"
     ]
    },
    {
     "data": {
      "text/html": [
       "<style>#sk-container-id-5 {color: black;background-color: white;}#sk-container-id-5 pre{padding: 0;}#sk-container-id-5 div.sk-toggleable {background-color: white;}#sk-container-id-5 label.sk-toggleable__label {cursor: pointer;display: block;width: 100%;margin-bottom: 0;padding: 0.3em;box-sizing: border-box;text-align: center;}#sk-container-id-5 label.sk-toggleable__label-arrow:before {content: \"▸\";float: left;margin-right: 0.25em;color: #696969;}#sk-container-id-5 label.sk-toggleable__label-arrow:hover:before {color: black;}#sk-container-id-5 div.sk-estimator:hover label.sk-toggleable__label-arrow:before {color: black;}#sk-container-id-5 div.sk-toggleable__content {max-height: 0;max-width: 0;overflow: hidden;text-align: left;background-color: #f0f8ff;}#sk-container-id-5 div.sk-toggleable__content pre {margin: 0.2em;color: black;border-radius: 0.25em;background-color: #f0f8ff;}#sk-container-id-5 input.sk-toggleable__control:checked~div.sk-toggleable__content {max-height: 200px;max-width: 100%;overflow: auto;}#sk-container-id-5 input.sk-toggleable__control:checked~label.sk-toggleable__label-arrow:before {content: \"▾\";}#sk-container-id-5 div.sk-estimator input.sk-toggleable__control:checked~label.sk-toggleable__label {background-color: #d4ebff;}#sk-container-id-5 div.sk-label input.sk-toggleable__control:checked~label.sk-toggleable__label {background-color: #d4ebff;}#sk-container-id-5 input.sk-hidden--visually {border: 0;clip: rect(1px 1px 1px 1px);clip: rect(1px, 1px, 1px, 1px);height: 1px;margin: -1px;overflow: hidden;padding: 0;position: absolute;width: 1px;}#sk-container-id-5 div.sk-estimator {font-family: monospace;background-color: #f0f8ff;border: 1px dotted black;border-radius: 0.25em;box-sizing: border-box;margin-bottom: 0.5em;}#sk-container-id-5 div.sk-estimator:hover {background-color: #d4ebff;}#sk-container-id-5 div.sk-parallel-item::after {content: \"\";width: 100%;border-bottom: 1px solid gray;flex-grow: 1;}#sk-container-id-5 div.sk-label:hover label.sk-toggleable__label {background-color: #d4ebff;}#sk-container-id-5 div.sk-serial::before {content: \"\";position: absolute;border-left: 1px solid gray;box-sizing: border-box;top: 0;bottom: 0;left: 50%;z-index: 0;}#sk-container-id-5 div.sk-serial {display: flex;flex-direction: column;align-items: center;background-color: white;padding-right: 0.2em;padding-left: 0.2em;position: relative;}#sk-container-id-5 div.sk-item {position: relative;z-index: 1;}#sk-container-id-5 div.sk-parallel {display: flex;align-items: stretch;justify-content: center;background-color: white;position: relative;}#sk-container-id-5 div.sk-item::before, #sk-container-id-5 div.sk-parallel-item::before {content: \"\";position: absolute;border-left: 1px solid gray;box-sizing: border-box;top: 0;bottom: 0;left: 50%;z-index: -1;}#sk-container-id-5 div.sk-parallel-item {display: flex;flex-direction: column;z-index: 1;position: relative;background-color: white;}#sk-container-id-5 div.sk-parallel-item:first-child::after {align-self: flex-end;width: 50%;}#sk-container-id-5 div.sk-parallel-item:last-child::after {align-self: flex-start;width: 50%;}#sk-container-id-5 div.sk-parallel-item:only-child::after {width: 0;}#sk-container-id-5 div.sk-dashed-wrapped {border: 1px dashed gray;margin: 0 0.4em 0.5em 0.4em;box-sizing: border-box;padding-bottom: 0.4em;background-color: white;}#sk-container-id-5 div.sk-label label {font-family: monospace;font-weight: bold;display: inline-block;line-height: 1.2em;}#sk-container-id-5 div.sk-label-container {text-align: center;}#sk-container-id-5 div.sk-container {/* jupyter's `normalize.less` sets `[hidden] { display: none; }` but bootstrap.min.css set `[hidden] { display: none !important; }` so we also need the `!important` here to be able to override the default hidden behavior on the sphinx rendered scikit-learn.org. See: https://github.com/scikit-learn/scikit-learn/issues/21755 */display: inline-block !important;position: relative;}#sk-container-id-5 div.sk-text-repr-fallback {display: none;}</style><div id=\"sk-container-id-5\" class=\"sk-top-container\"><div class=\"sk-text-repr-fallback\"><pre>LGBMRegressor(random_state=42)</pre><b>In a Jupyter environment, please rerun this cell to show the HTML representation or trust the notebook. <br />On GitHub, the HTML representation is unable to render, please try loading this page with nbviewer.org.</b></div><div class=\"sk-container\" hidden><div class=\"sk-item\"><div class=\"sk-estimator sk-toggleable\"><input class=\"sk-toggleable__control sk-hidden--visually\" id=\"sk-estimator-id-5\" type=\"checkbox\" checked><label for=\"sk-estimator-id-5\" class=\"sk-toggleable__label sk-toggleable__label-arrow\">LGBMRegressor</label><div class=\"sk-toggleable__content\"><pre>LGBMRegressor(random_state=42)</pre></div></div></div></div></div>"
      ],
      "text/plain": [
       "LGBMRegressor(random_state=42)"
      ]
     },
     "execution_count": 65,
     "metadata": {},
     "output_type": "execute_result"
    }
   ],
   "source": [
    "modelTrain2(lgbm, X, Y)"
   ]
  },
  {
   "cell_type": "code",
   "execution_count": 66,
   "id": "2cd3850b-eff5-4680-a604-03bbd6734775",
   "metadata": {},
   "outputs": [
    {
     "name": "stdout",
     "output_type": "stream",
     "text": [
      "Learning rate set to 0.262246\n",
      "0:\tlearn: 792.0761834\ttotal: 1.67ms\tremaining: 165ms\n",
      "1:\tlearn: 657.3601912\ttotal: 2.96ms\tremaining: 145ms\n",
      "2:\tlearn: 554.1313914\ttotal: 4.11ms\tremaining: 133ms\n",
      "3:\tlearn: 479.9151283\ttotal: 5.45ms\tremaining: 131ms\n",
      "4:\tlearn: 431.0099937\ttotal: 6.33ms\tremaining: 120ms\n",
      "5:\tlearn: 385.5215484\ttotal: 7.61ms\tremaining: 119ms\n",
      "6:\tlearn: 359.8480234\ttotal: 9.01ms\tremaining: 120ms\n",
      "7:\tlearn: 329.8983831\ttotal: 10.3ms\tremaining: 119ms\n",
      "8:\tlearn: 305.1855611\ttotal: 11.6ms\tremaining: 117ms\n",
      "9:\tlearn: 283.4857495\ttotal: 12.9ms\tremaining: 116ms\n",
      "10:\tlearn: 270.0612540\ttotal: 14.3ms\tremaining: 116ms\n",
      "11:\tlearn: 262.1253268\ttotal: 15.4ms\tremaining: 113ms\n",
      "12:\tlearn: 254.7467847\ttotal: 16.6ms\tremaining: 111ms\n",
      "13:\tlearn: 247.0944098\ttotal: 17.8ms\tremaining: 109ms\n",
      "14:\tlearn: 236.9073433\ttotal: 19.2ms\tremaining: 109ms\n",
      "15:\tlearn: 229.6573835\ttotal: 21.1ms\tremaining: 111ms\n",
      "16:\tlearn: 224.8724926\ttotal: 22.7ms\tremaining: 111ms\n",
      "17:\tlearn: 217.2609889\ttotal: 24.1ms\tremaining: 110ms\n",
      "18:\tlearn: 213.9326560\ttotal: 25.4ms\tremaining: 108ms\n",
      "19:\tlearn: 207.9857277\ttotal: 26.6ms\tremaining: 106ms\n",
      "20:\tlearn: 205.3171405\ttotal: 27.9ms\tremaining: 105ms\n",
      "21:\tlearn: 199.1083198\ttotal: 29.4ms\tremaining: 104ms\n",
      "22:\tlearn: 192.1668073\ttotal: 30.7ms\tremaining: 103ms\n",
      "23:\tlearn: 187.7046660\ttotal: 31.9ms\tremaining: 101ms\n",
      "24:\tlearn: 184.2999214\ttotal: 33.2ms\tremaining: 99.5ms\n",
      "25:\tlearn: 181.7381127\ttotal: 34.5ms\tremaining: 98.1ms\n",
      "26:\tlearn: 179.0345726\ttotal: 35.8ms\tremaining: 96.8ms\n",
      "27:\tlearn: 176.3944357\ttotal: 37ms\tremaining: 95.2ms\n",
      "28:\tlearn: 175.1234000\ttotal: 38.3ms\tremaining: 93.7ms\n",
      "29:\tlearn: 172.4189035\ttotal: 39.5ms\tremaining: 92.2ms\n",
      "30:\tlearn: 171.0602324\ttotal: 40.8ms\tremaining: 90.8ms\n",
      "31:\tlearn: 167.9370076\ttotal: 42ms\tremaining: 89.2ms\n",
      "32:\tlearn: 166.4536384\ttotal: 43.5ms\tremaining: 88.3ms\n",
      "33:\tlearn: 163.8150802\ttotal: 44.8ms\tremaining: 87ms\n",
      "34:\tlearn: 161.0936922\ttotal: 46ms\tremaining: 85.4ms\n",
      "35:\tlearn: 159.3922975\ttotal: 47.2ms\tremaining: 83.9ms\n",
      "36:\tlearn: 157.7821393\ttotal: 48.5ms\tremaining: 82.5ms\n",
      "37:\tlearn: 156.1180496\ttotal: 49.7ms\tremaining: 81.1ms\n",
      "38:\tlearn: 152.8780896\ttotal: 50.9ms\tremaining: 79.6ms\n",
      "39:\tlearn: 151.8421590\ttotal: 52.1ms\tremaining: 78.2ms\n",
      "40:\tlearn: 149.3822552\ttotal: 53.4ms\tremaining: 76.9ms\n",
      "41:\tlearn: 148.5412271\ttotal: 54.7ms\tremaining: 75.5ms\n",
      "42:\tlearn: 147.6421585\ttotal: 56ms\tremaining: 74.2ms\n",
      "43:\tlearn: 146.4695858\ttotal: 57.3ms\tremaining: 72.9ms\n",
      "44:\tlearn: 145.0348074\ttotal: 59.1ms\tremaining: 72.2ms\n",
      "45:\tlearn: 142.9478811\ttotal: 60.4ms\tremaining: 71ms\n",
      "46:\tlearn: 141.9990267\ttotal: 61.7ms\tremaining: 69.6ms\n",
      "47:\tlearn: 140.8027755\ttotal: 62.9ms\tremaining: 68.1ms\n",
      "48:\tlearn: 139.3758475\ttotal: 64.2ms\tremaining: 66.8ms\n",
      "49:\tlearn: 137.5484981\ttotal: 65.3ms\tremaining: 65.3ms\n",
      "50:\tlearn: 136.2670580\ttotal: 66.7ms\tremaining: 64.1ms\n",
      "51:\tlearn: 134.9639529\ttotal: 67.9ms\tremaining: 62.7ms\n",
      "52:\tlearn: 133.8903047\ttotal: 69.3ms\tremaining: 61.4ms\n",
      "53:\tlearn: 132.6484118\ttotal: 70.7ms\tremaining: 60.2ms\n",
      "54:\tlearn: 131.3151058\ttotal: 72.4ms\tremaining: 59.2ms\n",
      "55:\tlearn: 129.5009363\ttotal: 73.9ms\tremaining: 58ms\n",
      "56:\tlearn: 128.9156399\ttotal: 75.3ms\tremaining: 56.8ms\n",
      "57:\tlearn: 127.3258761\ttotal: 76.6ms\tremaining: 55.5ms\n",
      "58:\tlearn: 126.1852017\ttotal: 77.8ms\tremaining: 54.1ms\n",
      "59:\tlearn: 125.2834530\ttotal: 79.1ms\tremaining: 52.7ms\n",
      "60:\tlearn: 123.8448513\ttotal: 80.4ms\tremaining: 51.4ms\n",
      "61:\tlearn: 122.4173645\ttotal: 81.8ms\tremaining: 50.2ms\n",
      "62:\tlearn: 121.6818732\ttotal: 83.2ms\tremaining: 48.8ms\n",
      "63:\tlearn: 120.7648351\ttotal: 84.4ms\tremaining: 47.5ms\n",
      "64:\tlearn: 119.9838800\ttotal: 85.9ms\tremaining: 46.2ms\n",
      "65:\tlearn: 118.8036580\ttotal: 87.6ms\tremaining: 45.1ms\n",
      "66:\tlearn: 118.0938091\ttotal: 89ms\tremaining: 43.8ms\n",
      "67:\tlearn: 117.2007963\ttotal: 90.3ms\tremaining: 42.5ms\n",
      "68:\tlearn: 116.3485648\ttotal: 91.6ms\tremaining: 41.1ms\n",
      "69:\tlearn: 115.9715649\ttotal: 93ms\tremaining: 39.9ms\n",
      "70:\tlearn: 114.9682104\ttotal: 94.3ms\tremaining: 38.5ms\n",
      "71:\tlearn: 114.6086962\ttotal: 95.8ms\tremaining: 37.2ms\n",
      "72:\tlearn: 113.7033600\ttotal: 97ms\tremaining: 35.9ms\n",
      "73:\tlearn: 113.1089856\ttotal: 98.4ms\tremaining: 34.6ms\n",
      "74:\tlearn: 111.8691574\ttotal: 99.8ms\tremaining: 33.3ms\n",
      "75:\tlearn: 111.0563037\ttotal: 101ms\tremaining: 32ms\n",
      "76:\tlearn: 109.9603889\ttotal: 103ms\tremaining: 30.8ms\n",
      "77:\tlearn: 109.2692459\ttotal: 105ms\tremaining: 29.5ms\n",
      "78:\tlearn: 108.5691617\ttotal: 106ms\tremaining: 28.2ms\n",
      "79:\tlearn: 107.9398900\ttotal: 107ms\tremaining: 26.8ms\n",
      "80:\tlearn: 107.5926228\ttotal: 108ms\tremaining: 25.4ms\n",
      "81:\tlearn: 107.0730823\ttotal: 110ms\tremaining: 24.1ms\n",
      "82:\tlearn: 106.5995738\ttotal: 111ms\tremaining: 22.8ms\n",
      "83:\tlearn: 106.0742968\ttotal: 112ms\tremaining: 21.4ms\n",
      "84:\tlearn: 105.1927154\ttotal: 114ms\tremaining: 20.1ms\n",
      "85:\tlearn: 104.1193575\ttotal: 116ms\tremaining: 18.9ms\n",
      "86:\tlearn: 103.8300118\ttotal: 118ms\tremaining: 17.6ms\n",
      "87:\tlearn: 103.2982626\ttotal: 119ms\tremaining: 16.2ms\n",
      "88:\tlearn: 102.4290008\ttotal: 120ms\tremaining: 14.9ms\n",
      "89:\tlearn: 101.6909120\ttotal: 121ms\tremaining: 13.5ms\n",
      "90:\tlearn: 100.9160441\ttotal: 123ms\tremaining: 12.1ms\n",
      "91:\tlearn: 100.1034542\ttotal: 124ms\tremaining: 10.8ms\n",
      "92:\tlearn: 99.4750393\ttotal: 125ms\tremaining: 9.43ms\n",
      "93:\tlearn: 98.4431204\ttotal: 126ms\tremaining: 8.06ms\n",
      "94:\tlearn: 97.9687167\ttotal: 128ms\tremaining: 6.72ms\n",
      "95:\tlearn: 97.3377988\ttotal: 131ms\tremaining: 5.45ms\n",
      "96:\tlearn: 96.6525835\ttotal: 132ms\tremaining: 4.09ms\n",
      "97:\tlearn: 96.3621537\ttotal: 133ms\tremaining: 2.72ms\n",
      "98:\tlearn: 95.4831529\ttotal: 135ms\tremaining: 1.36ms\n",
      "99:\tlearn: 95.0529315\ttotal: 136ms\tremaining: 0us\n",
      "<class 'catboost.core.CatBoostRegressor'>\n",
      "train: r2: 0.9906 mae: 73.97 mse: 9.035e+03 msle: 0.001257 rmse 95.05 rmsle: 0.03546\n",
      "valid: r2: 0.969 mae: 130.9 mse: 2.999e+04 msle: 0.004965 rmse 173.2 rmsle: 0.07047\n",
      "\n"
     ]
    },
    {
     "data": {
      "text/plain": [
       "<catboost.core.CatBoostRegressor at 0x21bfd187370>"
      ]
     },
     "execution_count": 66,
     "metadata": {},
     "output_type": "execute_result"
    }
   ],
   "source": [
    "modelTrain2(cat, X, Y)"
   ]
  },
  {
   "cell_type": "code",
   "execution_count": 67,
   "id": "e3ff69a3-fcdc-4850-9ff2-407daa9abab7",
   "metadata": {},
   "outputs": [],
   "source": [
    "# <class 'sklearn.linear_model._base.LinearRegression'>\n",
    "# train: r2: 0.866 mae: 284.3 mse: 1.285e+05 msle: 0.01976 rmse 358.5 rmsle: 0.1406\n",
    "# valid: r2: 0.8603 mae: 294.5 mse: 1.35e+05 msle: 0.02009 rmse 367.5 rmsle: 0.1417\n",
    "\n",
    "# <class 'sklearn.tree._classes.DecisionTreeRegressor'>\n",
    "# train: r2: 1.0 mae: 0.0 mse: 0.0 msle: 0.0 rmse 0.0 rmsle: 0.0\n",
    "# valid: r2: 0.8883 mae: 246.8 mse: 1.08e+05 msle: 0.01605 rmse 328.6 rmsle: 0.1267\n",
    "\n",
    "# <class 'sklearn.ensemble._forest.RandomForestRegressor'>\n",
    "# train: r2: 0.9917 mae: 67.56 mse: 7.935e+03 msle: 0.00127 rmse 89.08 rmsle: 0.03564\n",
    "# valid: r2: 0.9457 mae: 180.1 mse: 5.25e+04 msle: 0.008314 rmse 229.1 rmsle: 0.09118\n",
    "\n",
    "# <class 'xgboost.sklearn.XGBRegressor'>\n",
    "# train: r2: 0.9996 mae: 13.53 mse: 365.3 msle: 5.223e-05 rmse 19.11 rmsle: 0.007227\n",
    "# valid: r2: 0.9656 mae: 141.9 mse: 3.328e+04 msle: 0.005064 rmse 182.4 rmsle: 0.07116\n",
    "\n",
    "# <class 'lightgbm.sklearn.LGBMRegressor'>\n",
    "# train: r2: 0.9903 mae: 73.67 mse: 9.281e+03 msle: 0.001379 rmse 96.34 rmsle: 0.03713\n",
    "# valid: r2: 0.9642 mae: 142.7 mse: 3.462e+04 msle: 0.004691 rmse 186.1 rmsle: 0.06849\n",
    "\n",
    "# <class 'catboost.core.CatBoostRegressor'>\n",
    "# train: r2: 0.9906 mae: 73.97 mse: 9.035e+03 msle: 0.001257 rmse 95.05 rmsle: 0.03546\n",
    "# valid: r2: 0.969 mae: 130.9 mse: 2.999e+04 msle: 0.004965 rmse 173.2 rmsle: 0.07047"
   ]
  },
  {
   "cell_type": "markdown",
   "id": "798b0dd2-551b-40e4-a53b-0d5645b9b178",
   "metadata": {},
   "source": [
    "# 4. 예측값 저장"
   ]
  },
  {
   "cell_type": "code",
   "execution_count": 68,
   "id": "2698d66f-c1a8-4ea3-be36-5232ed392b51",
   "metadata": {},
   "outputs": [],
   "source": [
    "y_pred = xgb.predict(X_test)\n",
    "submission = pd.DataFrame({'ID': test['ID'], 'unique_visits': y_pred})\n",
    "submission.to_csv('submission.csv', index=False)"
   ]
  },
  {
   "cell_type": "code",
   "execution_count": 69,
   "id": "140f9edc-b100-4809-8953-029a91df9703",
   "metadata": {},
   "outputs": [
    {
     "data": {
      "text/plain": [
       "42760.57299319699"
      ]
     },
     "execution_count": 69,
     "metadata": {},
     "output_type": "execute_result"
    }
   ],
   "source": [
    "mse(y_test['unique_visits'], y_pred)"
   ]
  },
  {
   "cell_type": "code",
   "execution_count": 70,
   "id": "f4dab86a-57e6-49da-bc9b-3c3b204bb967",
   "metadata": {},
   "outputs": [
    {
     "data": {
      "text/plain": [
       "206.7862978855151"
      ]
     },
     "execution_count": 70,
     "metadata": {},
     "output_type": "execute_result"
    }
   ],
   "source": [
    "mse(y_test['unique_visits'], y_pred) ** 0.5"
   ]
  },
  {
   "cell_type": "markdown",
   "id": "6bdd669d-c4b5-4703-a239-3f530e7b429f",
   "metadata": {},
   "source": [
    "# 참고"
   ]
  },
  {
   "cell_type": "markdown",
   "id": "1aeb68db-0778-4b28-b93d-46d74b87cbfa",
   "metadata": {},
   "source": [
    "- [Ridge regression(능형 회귀) 간단한 설명과 장점](https://modern-manual.tistory.com/entry/Ridge-regression%EB%8A%A5%ED%98%95-%ED%9A%8C%EA%B7%80-%EA%B0%84%EB%8B%A8%ED%95%9C-%EC%84%A4%EB%AA%85%EA%B3%BC-%EC%9E%A5%EC%A0%90)\n",
    "- [Lasso 간단한 설명과 ridge, lasso 비교](https://modern-manual.tistory.com/entry/Lasso-%EA%B0%84%EB%8B%A8%ED%95%9C-%EC%84%A4%EB%AA%85%EA%B3%BC-ridge-lasso-%EB%B9%84%EA%B5%90)\n",
    "- [[ML]Random Forest Regression](https://hororolol.tistory.com/208)\n",
    "- [[ML] 랜덤 포레스트(Random Forest)란?](https://wooono.tistory.com/115)\n",
    "- [XGBoost (2) - Parameter 이해와 현업자의 설정 방법](https://dining-developer.tistory.com/4)\n",
    "- [머신러닝 - 17. 회귀 평가 지표](https://bkshin.tistory.com/entry/%EB%A8%B8%EC%8B%A0%EB%9F%AC%EB%8B%9D-17-%ED%9A%8C%EA%B7%80-%ED%8F%89%EA%B0%80-%EC%A7%80%ED%91%9C)"
   ]
  }
 ],
 "metadata": {
  "kernelspec": {
   "display_name": "Python 3 (ipykernel)",
   "language": "python",
   "name": "python3"
  },
  "language_info": {
   "codemirror_mode": {
    "name": "ipython",
    "version": 3
   },
   "file_extension": ".py",
   "mimetype": "text/x-python",
   "name": "python",
   "nbconvert_exporter": "python",
   "pygments_lexer": "ipython3",
   "version": "3.10.9"
  },
  "toc-autonumbering": false,
  "toc-showcode": false,
  "toc-showmarkdowntxt": false
 },
 "nbformat": 4,
 "nbformat_minor": 5
}
