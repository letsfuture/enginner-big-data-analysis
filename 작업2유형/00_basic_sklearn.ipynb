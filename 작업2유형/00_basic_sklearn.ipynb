{
 "cells": [
  {
   "cell_type": "code",
   "execution_count": 1,
   "id": "6b95021b",
   "metadata": {},
   "outputs": [],
   "source": [
    "import pandas as pd\n",
    "from sklearn.preprocessing import StandardScaler\n",
    "from sklearn.model_selection import train_test_split\n",
    "from sklearn.model_selection import GridSearchCV\n",
    "from sklearn.neighbors import KNeighborsClassifier"
   ]
  },
  {
   "cell_type": "markdown",
   "id": "4b21c326",
   "metadata": {},
   "source": [
    "# 1. 데이터 전처리"
   ]
  },
  {
   "cell_type": "markdown",
   "id": "14ac46e0",
   "metadata": {},
   "source": [
    "**X_train, X_test를 합쳐서 전처리 작업을 할 경우**\n",
    "- 전처리 작업 후 분리해서 X_train은 학습모델을 생성하는 데에, X_test는 제출용 값을 구하는 데에 사용한다.\n",
    "- `sclaer.fit_transform(X_train + X_test)`\n",
    "\n",
    "**X_train, X_test를 각각 전처리 작업을 할 경우**\n",
    "- X_train에 적용된 전처리가 그대로 X_test에 적용되어야 한다.\n",
    "- `scaler.fit(X_train)`: 전처리에 필요한 값 준비(scaler를 return)\n",
    "- `scaler.transform(X_train)`: X_train 전처리 실행\n",
    "- `scaler.transform(X_test)`: X_test 전처리 실행"
   ]
  },
  {
   "cell_type": "markdown",
   "id": "99712d9f",
   "metadata": {},
   "source": [
    "## 1-1. 데이터 정규화"
   ]
  },
  {
   "cell_type": "markdown",
   "id": "7576fc40",
   "metadata": {},
   "source": [
    "- `fit(X_train)`: 전처리에 필요한 값 준비\n",
    "  - return scaler\n",
    "- `transform(X_trian)`: 전처리 실행\n",
    "  - return 변환된 값\n",
    "- `fit_transform(X_train)`: 전처리에 필요한 값 준비 및 처리\n",
    "  - return 변환된 값"
   ]
  },
  {
   "cell_type": "markdown",
   "id": "ed0f4d78",
   "metadata": {},
   "source": [
    "### ① StandardScaler"
   ]
  },
  {
   "cell_type": "markdown",
   "id": "4615755d",
   "metadata": {},
   "source": [
    "- 기존 변수의 범위를 정규분포로 변환하는 것으로 데이터의 최소 최대를 모를 때 사용한다.\n",
    "- 모든 피쳐의 평균을 0, 분산을 1로 만든다.\n",
    "- 이상치가 있다면 평균과 표준편차에 영향을 미치기 때문에 이상치가 많다면 사용하지 않는 것이 좋다(이상치가 있다면 균형 잡힌 척도를 보장할 수 없다).\n",
    "- 회귀 모델보다 **분류 모델**에 적합하다."
   ]
  },
  {
   "cell_type": "markdown",
   "id": "37e8dd5b",
   "metadata": {},
   "source": [
    "### ② MinMaxScaler"
   ]
  },
  {
   "cell_type": "markdown",
   "id": "215483b6",
   "metadata": {},
   "source": [
    "- 데이터의 값들을 0~1 사이의 값으로 변환시킨다.\n",
    "- 각 변수가 정규분포가 아니거나 표준편차가 작을 때 효과적이다.\n",
    "- 하지만 StandardSclaer와 같이 이상치 존재에 민감하다.\n",
    "- 분류 모델보다 **회귀 모델**에 적합하다.\n",
    "- 보통 이미지 쪽에서 쓰인다."
   ]
  },
  {
   "cell_type": "markdown",
   "id": "af0f0a6d",
   "metadata": {},
   "source": [
    "### ③ MaxAbsScaler"
   ]
  },
  {
   "cell_type": "markdown",
   "id": "e2fa1857",
   "metadata": {},
   "source": [
    "- 절댓값이 0~1 사이에 매핑되도록 한다.\n",
    "- 즉 0을 기준으로 절댓값이 가장 큰 수가 1 또는 -1 사이로 재조정한다.\n",
    "- 양수 데이터로만 구성된 특정 데이터셋에서는 MinMaxScaler와 유사하게 동작하며, 큰 이상치에 민감할 수 있다."
   ]
  },
  {
   "cell_type": "markdown",
   "id": "9d2e710b",
   "metadata": {},
   "source": [
    "### ④ RobustScaler"
   ]
  },
  {
   "cell_type": "markdown",
   "id": "20dc7c91",
   "metadata": {},
   "source": [
    "- 모든 피쳐가 같은 크기를 갖는다는 점이 StandardScaler와 유사하다.\n",
    "- 평균과 분산이 아닌 중위수(median)과 IQR(사분위수)를 사용한다.\n",
    "- StandardScaler에 비해 이상치의 영향이 적다."
   ]
  },
  {
   "cell_type": "markdown",
   "id": "c6cc47d7",
   "metadata": {},
   "source": [
    "### ⑤ Normalizer"
   ]
  },
  {
   "cell_type": "markdown",
   "id": "a9498db3",
   "metadata": {},
   "source": [
    "- 앞선 4가지 방법은 열(columns)을 대상으로 각 피쳐의 통계치를 이용한다.\n",
    "- 그러나 Normalizser의 경우 각 행(row)마다 정규화가 진행된다.\n",
    "- 각 변수의 값을 원점으로부터 1만큼 떨어져 있는 범위 내로(유클리드 거리가 1이 되도록) 변환한다.\n",
    "- 빠르게 학습할 수 있고, 과대적합 롹률을 낮출 수 있다."
   ]
  },
  {
   "cell_type": "markdown",
   "id": "cf4d41f4",
   "metadata": {},
   "source": [
    "Scaling 과정을 마친 후에는 항상 데이터의 describe()를 확인하는 습관이 필요하다.<br>\n",
    "각 Scaler의 범위 안에 들어오는지 확인해야 한다."
   ]
  },
  {
   "cell_type": "code",
   "execution_count": 2,
   "id": "17e014aa",
   "metadata": {},
   "outputs": [
    {
     "name": "stderr",
     "output_type": "stream",
     "text": [
      "fatal: destination path 'bigdata' already exists and is not an empty directory.\n"
     ]
    }
   ],
   "source": [
    "!git clone https://github.com/Soyoung-Yoon/bigdata"
   ]
  },
  {
   "cell_type": "code",
   "execution_count": 3,
   "id": "5b015d1e",
   "metadata": {},
   "outputs": [],
   "source": [
    "df = pd.read_csv('bigdata/iris_data.csv')"
   ]
  },
  {
   "cell_type": "code",
   "execution_count": 4,
   "id": "939003ad",
   "metadata": {},
   "outputs": [
    {
     "data": {
      "text/html": [
       "<div>\n",
       "<style scoped>\n",
       "    .dataframe tbody tr th:only-of-type {\n",
       "        vertical-align: middle;\n",
       "    }\n",
       "\n",
       "    .dataframe tbody tr th {\n",
       "        vertical-align: top;\n",
       "    }\n",
       "\n",
       "    .dataframe thead th {\n",
       "        text-align: right;\n",
       "    }\n",
       "</style>\n",
       "<table border=\"1\" class=\"dataframe\">\n",
       "  <thead>\n",
       "    <tr style=\"text-align: right;\">\n",
       "      <th></th>\n",
       "      <th>sepal length (cm)</th>\n",
       "      <th>sepal width (cm)</th>\n",
       "      <th>petal length (cm)</th>\n",
       "      <th>petal width (cm)</th>\n",
       "      <th>target</th>\n",
       "    </tr>\n",
       "  </thead>\n",
       "  <tbody>\n",
       "    <tr>\n",
       "      <th>0</th>\n",
       "      <td>5.1</td>\n",
       "      <td>3.5</td>\n",
       "      <td>1.4</td>\n",
       "      <td>0.2</td>\n",
       "      <td>0</td>\n",
       "    </tr>\n",
       "    <tr>\n",
       "      <th>1</th>\n",
       "      <td>4.9</td>\n",
       "      <td>3.0</td>\n",
       "      <td>1.4</td>\n",
       "      <td>0.2</td>\n",
       "      <td>0</td>\n",
       "    </tr>\n",
       "    <tr>\n",
       "      <th>2</th>\n",
       "      <td>4.7</td>\n",
       "      <td>3.2</td>\n",
       "      <td>1.3</td>\n",
       "      <td>0.2</td>\n",
       "      <td>0</td>\n",
       "    </tr>\n",
       "    <tr>\n",
       "      <th>3</th>\n",
       "      <td>4.6</td>\n",
       "      <td>3.1</td>\n",
       "      <td>1.5</td>\n",
       "      <td>0.2</td>\n",
       "      <td>0</td>\n",
       "    </tr>\n",
       "    <tr>\n",
       "      <th>4</th>\n",
       "      <td>5.0</td>\n",
       "      <td>3.6</td>\n",
       "      <td>1.4</td>\n",
       "      <td>0.2</td>\n",
       "      <td>0</td>\n",
       "    </tr>\n",
       "  </tbody>\n",
       "</table>\n",
       "</div>"
      ],
      "text/plain": [
       "   sepal length (cm)  sepal width (cm)  petal length (cm)  petal width (cm)  \\\n",
       "0                5.1               3.5                1.4               0.2   \n",
       "1                4.9               3.0                1.4               0.2   \n",
       "2                4.7               3.2                1.3               0.2   \n",
       "3                4.6               3.1                1.5               0.2   \n",
       "4                5.0               3.6                1.4               0.2   \n",
       "\n",
       "   target  \n",
       "0       0  \n",
       "1       0  \n",
       "2       0  \n",
       "3       0  \n",
       "4       0  "
      ]
     },
     "execution_count": 4,
     "metadata": {},
     "output_type": "execute_result"
    }
   ],
   "source": [
    "df.head()"
   ]
  },
  {
   "cell_type": "code",
   "execution_count": 5,
   "id": "a580d169",
   "metadata": {},
   "outputs": [],
   "source": [
    "# X, Y 데이터로 분리\n",
    "X = df.iloc[:, :-1]\n",
    "Y = df.iloc[:, -1] # df['target']"
   ]
  },
  {
   "cell_type": "code",
   "execution_count": 6,
   "id": "d5d37a8e",
   "metadata": {},
   "outputs": [
    {
     "name": "stdout",
     "output_type": "stream",
     "text": [
      "-4.855375361027351e-16 1.0\n"
     ]
    }
   ],
   "source": [
    "scaledX = StandardScaler().fit_transform(X)\n",
    "print(scaledX.mean(), scaledX.std())"
   ]
  },
  {
   "cell_type": "code",
   "execution_count": 7,
   "id": "01038593",
   "metadata": {},
   "outputs": [
    {
     "name": "stdout",
     "output_type": "stream",
     "text": [
      "-4.855375361027351e-16 1.0\n"
     ]
    }
   ],
   "source": [
    "scaler = StandardScaler().fit(X)\n",
    "scaledX = scaler.transform(X)\n",
    "print(scaledX.mean(), scaledX.std())\n",
    "# scaledX_submission = scaler.traonsform(X_test)"
   ]
  },
  {
   "cell_type": "markdown",
   "id": "0dbbb8f2",
   "metadata": {},
   "source": [
    "# 2. 데이터 분할"
   ]
  },
  {
   "cell_type": "markdown",
   "id": "f9566cbd",
   "metadata": {},
   "source": [
    "`sklearn.model_selection.train_test_split`\n",
    "```python\n",
    "x_train, x_test, y_train, y_test = train_test_split(X, Y, test_size, train_size, random_state, shuffle, stratify)\n",
    "```\n",
    "- `shuffle = True`: 데이터셋을 섞을지 말지 결정 (default=True)\n",
    "- `stratify`: Y의 지정한 데이터 비율을 유지(층화추출), Y가 **범주형**일 때 사용"
   ]
  },
  {
   "cell_type": "code",
   "execution_count": 8,
   "id": "4dc825bd",
   "metadata": {},
   "outputs": [
    {
     "name": "stdout",
     "output_type": "stream",
     "text": [
      "[[7, 9, 1, 3, 8, 6, 4, 0], [2, 5]]\n",
      "[7, 9, 1, 3, 8, 6, 4, 0] [2, 5]\n"
     ]
    }
   ],
   "source": [
    "# train, test 8:2로 나누기\n",
    "a = list(range(10))\n",
    "x = train_test_split(a, test_size=0.2)\n",
    "print(x)\n",
    "\n",
    "x_train, x_test = x\n",
    "print(x_train, x_test)"
   ]
  },
  {
   "cell_type": "code",
   "execution_count": 9,
   "id": "bb7ffec6",
   "metadata": {},
   "outputs": [
    {
     "name": "stdout",
     "output_type": "stream",
     "text": [
      "[1, 3, 1, 1, 1, 2, 1, 2, 3, 2, 3, 1, 1, 1, 3, 2] [3, 2, 1, 1]\n",
      "[2, 1, 3, 1, 1, 3, 1, 1, 2, 3, 1, 2] [3, 1, 1, 1, 3, 1, 2, 2]\n"
     ]
    }
   ],
   "source": [
    "# 층화추출 이해하기(비율 맞춰 나누기)\n",
    "a = [1, 1, 2, 3] * 5\n",
    "x_train, x_test = train_test_split(a, test_size=0.2, stratify=a) # 1, 2, 3 => 2: 1: 1\n",
    "print(x_train, x_test)\n",
    "\n",
    "x_train, x_test = train_test_split(a, test_size=0.4, stratify=a) # 1, 2, 3 => 2: 1: 1\n",
    "print(x_train, x_test)"
   ]
  },
  {
   "cell_type": "code",
   "execution_count": 10,
   "id": "1d32ceac",
   "metadata": {},
   "outputs": [
    {
     "data": {
      "text/plain": [
       "[[5, 0, 7, 2, 9, 4, 3, 6], [8, 1], [5, 0, 7, 2, 9, 4, 3, 6], [8, 1]]"
      ]
     },
     "execution_count": 10,
     "metadata": {},
     "output_type": "execute_result"
    }
   ],
   "source": [
    "# 여러 개의 데이터셋을 분할하기 위해서는 행의 개수가 같아야 함\n",
    "a = list(range(10))\n",
    "b = list(range(10))\n",
    "\n",
    "train_test_split(a, b, test_size=0.2, random_state=42)"
   ]
  },
  {
   "cell_type": "code",
   "execution_count": 11,
   "id": "101ed4d6",
   "metadata": {},
   "outputs": [
    {
     "name": "stdout",
     "output_type": "stream",
     "text": [
      "(120, 4) (30, 4) (120,) (30,)\n"
     ]
    }
   ],
   "source": [
    "x_train, x_test, y_train, y_test = train_test_split(scaledX, Y,\n",
    "                                                    test_size=0.2,\n",
    "                                                    random_state=42,\n",
    "                                                    stratify=Y) # 회귀에서는 사용하지 않음\n",
    "print(x_train.shape, x_test.shape, y_train.shape, y_test.shape)"
   ]
  },
  {
   "cell_type": "markdown",
   "id": "892e7ae2",
   "metadata": {},
   "source": [
    "# 3. 머신러닝 모델(Estimator) Interface"
   ]
  },
  {
   "cell_type": "markdown",
   "id": "50ec0b02",
   "metadata": {},
   "source": [
    "- `fit(X_train, y_train)`: 모델 학습 훈련\n",
    "- `score(X_test, y_test)`: 성능 측정(1에 가까울수록 좋은 성능)\n",
    "- `predict(X_test)`: 예측값 반환"
   ]
  },
  {
   "cell_type": "code",
   "execution_count": 12,
   "id": "642060c2",
   "metadata": {},
   "outputs": [
    {
     "name": "stdout",
     "output_type": "stream",
     "text": [
      "Help on class KNeighborsClassifier in module sklearn.neighbors._classification:\n",
      "\n",
      "class KNeighborsClassifier(sklearn.neighbors._base.KNeighborsMixin, sklearn.base.ClassifierMixin, sklearn.neighbors._base.NeighborsBase)\n",
      " |  KNeighborsClassifier(n_neighbors=5, *, weights='uniform', algorithm='auto', leaf_size=30, p=2, metric='minkowski', metric_params=None, n_jobs=None)\n",
      " |  \n",
      " |  Classifier implementing the k-nearest neighbors vote.\n",
      " |  \n",
      " |  Read more in the :ref:`User Guide <classification>`.\n",
      " |  \n",
      " |  Parameters\n",
      " |  ----------\n",
      " |  n_neighbors : int, default=5\n",
      " |      Number of neighbors to use by default for :meth:`kneighbors` queries.\n",
      " |  \n",
      " |  weights : {'uniform', 'distance'}, callable or None, default='uniform'\n",
      " |      Weight function used in prediction.  Possible values:\n",
      " |  \n",
      " |      - 'uniform' : uniform weights.  All points in each neighborhood\n",
      " |        are weighted equally.\n",
      " |      - 'distance' : weight points by the inverse of their distance.\n",
      " |        in this case, closer neighbors of a query point will have a\n",
      " |        greater influence than neighbors which are further away.\n",
      " |      - [callable] : a user-defined function which accepts an\n",
      " |        array of distances, and returns an array of the same shape\n",
      " |        containing the weights.\n",
      " |  \n",
      " |  algorithm : {'auto', 'ball_tree', 'kd_tree', 'brute'}, default='auto'\n",
      " |      Algorithm used to compute the nearest neighbors:\n",
      " |  \n",
      " |      - 'ball_tree' will use :class:`BallTree`\n",
      " |      - 'kd_tree' will use :class:`KDTree`\n",
      " |      - 'brute' will use a brute-force search.\n",
      " |      - 'auto' will attempt to decide the most appropriate algorithm\n",
      " |        based on the values passed to :meth:`fit` method.\n",
      " |  \n",
      " |      Note: fitting on sparse input will override the setting of\n",
      " |      this parameter, using brute force.\n",
      " |  \n",
      " |  leaf_size : int, default=30\n",
      " |      Leaf size passed to BallTree or KDTree.  This can affect the\n",
      " |      speed of the construction and query, as well as the memory\n",
      " |      required to store the tree.  The optimal value depends on the\n",
      " |      nature of the problem.\n",
      " |  \n",
      " |  p : int, default=2\n",
      " |      Power parameter for the Minkowski metric. When p = 1, this is\n",
      " |      equivalent to using manhattan_distance (l1), and euclidean_distance\n",
      " |      (l2) for p = 2. For arbitrary p, minkowski_distance (l_p) is used.\n",
      " |  \n",
      " |  metric : str or callable, default='minkowski'\n",
      " |      Metric to use for distance computation. Default is \"minkowski\", which\n",
      " |      results in the standard Euclidean distance when p = 2. See the\n",
      " |      documentation of `scipy.spatial.distance\n",
      " |      <https://docs.scipy.org/doc/scipy/reference/spatial.distance.html>`_ and\n",
      " |      the metrics listed in\n",
      " |      :class:`~sklearn.metrics.pairwise.distance_metrics` for valid metric\n",
      " |      values.\n",
      " |  \n",
      " |      If metric is \"precomputed\", X is assumed to be a distance matrix and\n",
      " |      must be square during fit. X may be a :term:`sparse graph`, in which\n",
      " |      case only \"nonzero\" elements may be considered neighbors.\n",
      " |  \n",
      " |      If metric is a callable function, it takes two arrays representing 1D\n",
      " |      vectors as inputs and must return one value indicating the distance\n",
      " |      between those vectors. This works for Scipy's metrics, but is less\n",
      " |      efficient than passing the metric name as a string.\n",
      " |  \n",
      " |  metric_params : dict, default=None\n",
      " |      Additional keyword arguments for the metric function.\n",
      " |  \n",
      " |  n_jobs : int, default=None\n",
      " |      The number of parallel jobs to run for neighbors search.\n",
      " |      ``None`` means 1 unless in a :obj:`joblib.parallel_backend` context.\n",
      " |      ``-1`` means using all processors. See :term:`Glossary <n_jobs>`\n",
      " |      for more details.\n",
      " |      Doesn't affect :meth:`fit` method.\n",
      " |  \n",
      " |  Attributes\n",
      " |  ----------\n",
      " |  classes_ : array of shape (n_classes,)\n",
      " |      Class labels known to the classifier\n",
      " |  \n",
      " |  effective_metric_ : str or callble\n",
      " |      The distance metric used. It will be same as the `metric` parameter\n",
      " |      or a synonym of it, e.g. 'euclidean' if the `metric` parameter set to\n",
      " |      'minkowski' and `p` parameter set to 2.\n",
      " |  \n",
      " |  effective_metric_params_ : dict\n",
      " |      Additional keyword arguments for the metric function. For most metrics\n",
      " |      will be same with `metric_params` parameter, but may also contain the\n",
      " |      `p` parameter value if the `effective_metric_` attribute is set to\n",
      " |      'minkowski'.\n",
      " |  \n",
      " |  n_features_in_ : int\n",
      " |      Number of features seen during :term:`fit`.\n",
      " |  \n",
      " |      .. versionadded:: 0.24\n",
      " |  \n",
      " |  feature_names_in_ : ndarray of shape (`n_features_in_`,)\n",
      " |      Names of features seen during :term:`fit`. Defined only when `X`\n",
      " |      has feature names that are all strings.\n",
      " |  \n",
      " |      .. versionadded:: 1.0\n",
      " |  \n",
      " |  n_samples_fit_ : int\n",
      " |      Number of samples in the fitted data.\n",
      " |  \n",
      " |  outputs_2d_ : bool\n",
      " |      False when `y`'s shape is (n_samples, ) or (n_samples, 1) during fit\n",
      " |      otherwise True.\n",
      " |  \n",
      " |  See Also\n",
      " |  --------\n",
      " |  RadiusNeighborsClassifier: Classifier based on neighbors within a fixed radius.\n",
      " |  KNeighborsRegressor: Regression based on k-nearest neighbors.\n",
      " |  RadiusNeighborsRegressor: Regression based on neighbors within a fixed radius.\n",
      " |  NearestNeighbors: Unsupervised learner for implementing neighbor searches.\n",
      " |  \n",
      " |  Notes\n",
      " |  -----\n",
      " |  See :ref:`Nearest Neighbors <neighbors>` in the online documentation\n",
      " |  for a discussion of the choice of ``algorithm`` and ``leaf_size``.\n",
      " |  \n",
      " |  .. warning::\n",
      " |  \n",
      " |     Regarding the Nearest Neighbors algorithms, if it is found that two\n",
      " |     neighbors, neighbor `k+1` and `k`, have identical distances\n",
      " |     but different labels, the results will depend on the ordering of the\n",
      " |     training data.\n",
      " |  \n",
      " |  https://en.wikipedia.org/wiki/K-nearest_neighbor_algorithm\n",
      " |  \n",
      " |  Examples\n",
      " |  --------\n",
      " |  >>> X = [[0], [1], [2], [3]]\n",
      " |  >>> y = [0, 0, 1, 1]\n",
      " |  >>> from sklearn.neighbors import KNeighborsClassifier\n",
      " |  >>> neigh = KNeighborsClassifier(n_neighbors=3)\n",
      " |  >>> neigh.fit(X, y)\n",
      " |  KNeighborsClassifier(...)\n",
      " |  >>> print(neigh.predict([[1.1]]))\n",
      " |  [0]\n",
      " |  >>> print(neigh.predict_proba([[0.9]]))\n",
      " |  [[0.666... 0.333...]]\n",
      " |  \n",
      " |  Method resolution order:\n",
      " |      KNeighborsClassifier\n",
      " |      sklearn.neighbors._base.KNeighborsMixin\n",
      " |      sklearn.base.ClassifierMixin\n",
      " |      sklearn.neighbors._base.NeighborsBase\n",
      " |      sklearn.base.MultiOutputMixin\n",
      " |      sklearn.base.BaseEstimator\n",
      " |      builtins.object\n",
      " |  \n",
      " |  Methods defined here:\n",
      " |  \n",
      " |  __init__(self, n_neighbors=5, *, weights='uniform', algorithm='auto', leaf_size=30, p=2, metric='minkowski', metric_params=None, n_jobs=None)\n",
      " |      Initialize self.  See help(type(self)) for accurate signature.\n",
      " |  \n",
      " |  fit(self, X, y)\n",
      " |      Fit the k-nearest neighbors classifier from the training dataset.\n",
      " |      \n",
      " |      Parameters\n",
      " |      ----------\n",
      " |      X : {array-like, sparse matrix} of shape (n_samples, n_features) or                 (n_samples, n_samples) if metric='precomputed'\n",
      " |          Training data.\n",
      " |      \n",
      " |      y : {array-like, sparse matrix} of shape (n_samples,) or                 (n_samples, n_outputs)\n",
      " |          Target values.\n",
      " |      \n",
      " |      Returns\n",
      " |      -------\n",
      " |      self : KNeighborsClassifier\n",
      " |          The fitted k-nearest neighbors classifier.\n",
      " |  \n",
      " |  predict(self, X)\n",
      " |      Predict the class labels for the provided data.\n",
      " |      \n",
      " |      Parameters\n",
      " |      ----------\n",
      " |      X : {array-like, sparse matrix} of shape (n_queries, n_features),                 or (n_queries, n_indexed) if metric == 'precomputed'\n",
      " |          Test samples.\n",
      " |      \n",
      " |      Returns\n",
      " |      -------\n",
      " |      y : ndarray of shape (n_queries,) or (n_queries, n_outputs)\n",
      " |          Class labels for each data sample.\n",
      " |  \n",
      " |  predict_proba(self, X)\n",
      " |      Return probability estimates for the test data X.\n",
      " |      \n",
      " |      Parameters\n",
      " |      ----------\n",
      " |      X : {array-like, sparse matrix} of shape (n_queries, n_features),                 or (n_queries, n_indexed) if metric == 'precomputed'\n",
      " |          Test samples.\n",
      " |      \n",
      " |      Returns\n",
      " |      -------\n",
      " |      p : ndarray of shape (n_queries, n_classes), or a list of n_outputs                 of such arrays if n_outputs > 1.\n",
      " |          The class probabilities of the input samples. Classes are ordered\n",
      " |          by lexicographic order.\n",
      " |  \n",
      " |  ----------------------------------------------------------------------\n",
      " |  Data and other attributes defined here:\n",
      " |  \n",
      " |  __abstractmethods__ = frozenset()\n",
      " |  \n",
      " |  __annotations__ = {'_parameter_constraints': <class 'dict'>}\n",
      " |  \n",
      " |  ----------------------------------------------------------------------\n",
      " |  Methods inherited from sklearn.neighbors._base.KNeighborsMixin:\n",
      " |  \n",
      " |  kneighbors(self, X=None, n_neighbors=None, return_distance=True)\n",
      " |      Find the K-neighbors of a point.\n",
      " |      \n",
      " |      Returns indices of and distances to the neighbors of each point.\n",
      " |      \n",
      " |      Parameters\n",
      " |      ----------\n",
      " |      X : {array-like, sparse matrix}, shape (n_queries, n_features),             or (n_queries, n_indexed) if metric == 'precomputed', default=None\n",
      " |          The query point or points.\n",
      " |          If not provided, neighbors of each indexed point are returned.\n",
      " |          In this case, the query point is not considered its own neighbor.\n",
      " |      \n",
      " |      n_neighbors : int, default=None\n",
      " |          Number of neighbors required for each sample. The default is the\n",
      " |          value passed to the constructor.\n",
      " |      \n",
      " |      return_distance : bool, default=True\n",
      " |          Whether or not to return the distances.\n",
      " |      \n",
      " |      Returns\n",
      " |      -------\n",
      " |      neigh_dist : ndarray of shape (n_queries, n_neighbors)\n",
      " |          Array representing the lengths to points, only present if\n",
      " |          return_distance=True.\n",
      " |      \n",
      " |      neigh_ind : ndarray of shape (n_queries, n_neighbors)\n",
      " |          Indices of the nearest points in the population matrix.\n",
      " |      \n",
      " |      Examples\n",
      " |      --------\n",
      " |      In the following example, we construct a NearestNeighbors\n",
      " |      class from an array representing our data set and ask who's\n",
      " |      the closest point to [1,1,1]\n",
      " |      \n",
      " |      >>> samples = [[0., 0., 0.], [0., .5, 0.], [1., 1., .5]]\n",
      " |      >>> from sklearn.neighbors import NearestNeighbors\n",
      " |      >>> neigh = NearestNeighbors(n_neighbors=1)\n",
      " |      >>> neigh.fit(samples)\n",
      " |      NearestNeighbors(n_neighbors=1)\n",
      " |      >>> print(neigh.kneighbors([[1., 1., 1.]]))\n",
      " |      (array([[0.5]]), array([[2]]))\n",
      " |      \n",
      " |      As you can see, it returns [[0.5]], and [[2]], which means that the\n",
      " |      element is at distance 0.5 and is the third element of samples\n",
      " |      (indexes start at 0). You can also query for multiple points:\n",
      " |      \n",
      " |      >>> X = [[0., 1., 0.], [1., 0., 1.]]\n",
      " |      >>> neigh.kneighbors(X, return_distance=False)\n",
      " |      array([[1],\n",
      " |             [2]]...)\n",
      " |  \n",
      " |  kneighbors_graph(self, X=None, n_neighbors=None, mode='connectivity')\n",
      " |      Compute the (weighted) graph of k-Neighbors for points in X.\n",
      " |      \n",
      " |      Parameters\n",
      " |      ----------\n",
      " |      X : {array-like, sparse matrix} of shape (n_queries, n_features),             or (n_queries, n_indexed) if metric == 'precomputed', default=None\n",
      " |          The query point or points.\n",
      " |          If not provided, neighbors of each indexed point are returned.\n",
      " |          In this case, the query point is not considered its own neighbor.\n",
      " |          For ``metric='precomputed'`` the shape should be\n",
      " |          (n_queries, n_indexed). Otherwise the shape should be\n",
      " |          (n_queries, n_features).\n",
      " |      \n",
      " |      n_neighbors : int, default=None\n",
      " |          Number of neighbors for each sample. The default is the value\n",
      " |          passed to the constructor.\n",
      " |      \n",
      " |      mode : {'connectivity', 'distance'}, default='connectivity'\n",
      " |          Type of returned matrix: 'connectivity' will return the\n",
      " |          connectivity matrix with ones and zeros, in 'distance' the\n",
      " |          edges are distances between points, type of distance\n",
      " |          depends on the selected metric parameter in\n",
      " |          NearestNeighbors class.\n",
      " |      \n",
      " |      Returns\n",
      " |      -------\n",
      " |      A : sparse-matrix of shape (n_queries, n_samples_fit)\n",
      " |          `n_samples_fit` is the number of samples in the fitted data.\n",
      " |          `A[i, j]` gives the weight of the edge connecting `i` to `j`.\n",
      " |          The matrix is of CSR format.\n",
      " |      \n",
      " |      See Also\n",
      " |      --------\n",
      " |      NearestNeighbors.radius_neighbors_graph : Compute the (weighted) graph\n",
      " |          of Neighbors for points in X.\n",
      " |      \n",
      " |      Examples\n",
      " |      --------\n",
      " |      >>> X = [[0], [3], [1]]\n",
      " |      >>> from sklearn.neighbors import NearestNeighbors\n",
      " |      >>> neigh = NearestNeighbors(n_neighbors=2)\n",
      " |      >>> neigh.fit(X)\n",
      " |      NearestNeighbors(n_neighbors=2)\n",
      " |      >>> A = neigh.kneighbors_graph(X)\n",
      " |      >>> A.toarray()\n",
      " |      array([[1., 0., 1.],\n",
      " |             [0., 1., 1.],\n",
      " |             [1., 0., 1.]])\n",
      " |  \n",
      " |  ----------------------------------------------------------------------\n",
      " |  Data descriptors inherited from sklearn.neighbors._base.KNeighborsMixin:\n",
      " |  \n",
      " |  __dict__\n",
      " |      dictionary for instance variables (if defined)\n",
      " |  \n",
      " |  __weakref__\n",
      " |      list of weak references to the object (if defined)\n",
      " |  \n",
      " |  ----------------------------------------------------------------------\n",
      " |  Methods inherited from sklearn.base.ClassifierMixin:\n",
      " |  \n",
      " |  score(self, X, y, sample_weight=None)\n",
      " |      Return the mean accuracy on the given test data and labels.\n",
      " |      \n",
      " |      In multi-label classification, this is the subset accuracy\n",
      " |      which is a harsh metric since you require for each sample that\n",
      " |      each label set be correctly predicted.\n",
      " |      \n",
      " |      Parameters\n",
      " |      ----------\n",
      " |      X : array-like of shape (n_samples, n_features)\n",
      " |          Test samples.\n",
      " |      \n",
      " |      y : array-like of shape (n_samples,) or (n_samples, n_outputs)\n",
      " |          True labels for `X`.\n",
      " |      \n",
      " |      sample_weight : array-like of shape (n_samples,), default=None\n",
      " |          Sample weights.\n",
      " |      \n",
      " |      Returns\n",
      " |      -------\n",
      " |      score : float\n",
      " |          Mean accuracy of ``self.predict(X)`` wrt. `y`.\n",
      " |  \n",
      " |  ----------------------------------------------------------------------\n",
      " |  Methods inherited from sklearn.base.BaseEstimator:\n",
      " |  \n",
      " |  __getstate__(self)\n",
      " |  \n",
      " |  __repr__(self, N_CHAR_MAX=700)\n",
      " |      Return repr(self).\n",
      " |  \n",
      " |  __setstate__(self, state)\n",
      " |  \n",
      " |  get_params(self, deep=True)\n",
      " |      Get parameters for this estimator.\n",
      " |      \n",
      " |      Parameters\n",
      " |      ----------\n",
      " |      deep : bool, default=True\n",
      " |          If True, will return the parameters for this estimator and\n",
      " |          contained subobjects that are estimators.\n",
      " |      \n",
      " |      Returns\n",
      " |      -------\n",
      " |      params : dict\n",
      " |          Parameter names mapped to their values.\n",
      " |  \n",
      " |  set_params(self, **params)\n",
      " |      Set the parameters of this estimator.\n",
      " |      \n",
      " |      The method works on simple estimators as well as on nested objects\n",
      " |      (such as :class:`~sklearn.pipeline.Pipeline`). The latter have\n",
      " |      parameters of the form ``<component>__<parameter>`` so that it's\n",
      " |      possible to update each component of a nested object.\n",
      " |      \n",
      " |      Parameters\n",
      " |      ----------\n",
      " |      **params : dict\n",
      " |          Estimator parameters.\n",
      " |      \n",
      " |      Returns\n",
      " |      -------\n",
      " |      self : estimator instance\n",
      " |          Estimator instance.\n",
      "\n"
     ]
    }
   ],
   "source": [
    "help(KNeighborsClassifier)"
   ]
  },
  {
   "cell_type": "markdown",
   "id": "4c3f64e9",
   "metadata": {},
   "source": [
    "```\n",
    "KNeighborsClassifier(n_neighbors=5, *, weights='uniform', algorithm='auto',\n",
    "                     leaf_size=30, p=2, metric='minkowski', metric_params=None, n_jobs=None)\n",
    "```"
   ]
  },
  {
   "cell_type": "code",
   "execution_count": 13,
   "id": "648fcd74",
   "metadata": {},
   "outputs": [
    {
     "data": {
      "text/html": [
       "<style>#sk-container-id-1 {color: black;background-color: white;}#sk-container-id-1 pre{padding: 0;}#sk-container-id-1 div.sk-toggleable {background-color: white;}#sk-container-id-1 label.sk-toggleable__label {cursor: pointer;display: block;width: 100%;margin-bottom: 0;padding: 0.3em;box-sizing: border-box;text-align: center;}#sk-container-id-1 label.sk-toggleable__label-arrow:before {content: \"▸\";float: left;margin-right: 0.25em;color: #696969;}#sk-container-id-1 label.sk-toggleable__label-arrow:hover:before {color: black;}#sk-container-id-1 div.sk-estimator:hover label.sk-toggleable__label-arrow:before {color: black;}#sk-container-id-1 div.sk-toggleable__content {max-height: 0;max-width: 0;overflow: hidden;text-align: left;background-color: #f0f8ff;}#sk-container-id-1 div.sk-toggleable__content pre {margin: 0.2em;color: black;border-radius: 0.25em;background-color: #f0f8ff;}#sk-container-id-1 input.sk-toggleable__control:checked~div.sk-toggleable__content {max-height: 200px;max-width: 100%;overflow: auto;}#sk-container-id-1 input.sk-toggleable__control:checked~label.sk-toggleable__label-arrow:before {content: \"▾\";}#sk-container-id-1 div.sk-estimator input.sk-toggleable__control:checked~label.sk-toggleable__label {background-color: #d4ebff;}#sk-container-id-1 div.sk-label input.sk-toggleable__control:checked~label.sk-toggleable__label {background-color: #d4ebff;}#sk-container-id-1 input.sk-hidden--visually {border: 0;clip: rect(1px 1px 1px 1px);clip: rect(1px, 1px, 1px, 1px);height: 1px;margin: -1px;overflow: hidden;padding: 0;position: absolute;width: 1px;}#sk-container-id-1 div.sk-estimator {font-family: monospace;background-color: #f0f8ff;border: 1px dotted black;border-radius: 0.25em;box-sizing: border-box;margin-bottom: 0.5em;}#sk-container-id-1 div.sk-estimator:hover {background-color: #d4ebff;}#sk-container-id-1 div.sk-parallel-item::after {content: \"\";width: 100%;border-bottom: 1px solid gray;flex-grow: 1;}#sk-container-id-1 div.sk-label:hover label.sk-toggleable__label {background-color: #d4ebff;}#sk-container-id-1 div.sk-serial::before {content: \"\";position: absolute;border-left: 1px solid gray;box-sizing: border-box;top: 0;bottom: 0;left: 50%;z-index: 0;}#sk-container-id-1 div.sk-serial {display: flex;flex-direction: column;align-items: center;background-color: white;padding-right: 0.2em;padding-left: 0.2em;position: relative;}#sk-container-id-1 div.sk-item {position: relative;z-index: 1;}#sk-container-id-1 div.sk-parallel {display: flex;align-items: stretch;justify-content: center;background-color: white;position: relative;}#sk-container-id-1 div.sk-item::before, #sk-container-id-1 div.sk-parallel-item::before {content: \"\";position: absolute;border-left: 1px solid gray;box-sizing: border-box;top: 0;bottom: 0;left: 50%;z-index: -1;}#sk-container-id-1 div.sk-parallel-item {display: flex;flex-direction: column;z-index: 1;position: relative;background-color: white;}#sk-container-id-1 div.sk-parallel-item:first-child::after {align-self: flex-end;width: 50%;}#sk-container-id-1 div.sk-parallel-item:last-child::after {align-self: flex-start;width: 50%;}#sk-container-id-1 div.sk-parallel-item:only-child::after {width: 0;}#sk-container-id-1 div.sk-dashed-wrapped {border: 1px dashed gray;margin: 0 0.4em 0.5em 0.4em;box-sizing: border-box;padding-bottom: 0.4em;background-color: white;}#sk-container-id-1 div.sk-label label {font-family: monospace;font-weight: bold;display: inline-block;line-height: 1.2em;}#sk-container-id-1 div.sk-label-container {text-align: center;}#sk-container-id-1 div.sk-container {/* jupyter's `normalize.less` sets `[hidden] { display: none; }` but bootstrap.min.css set `[hidden] { display: none !important; }` so we also need the `!important` here to be able to override the default hidden behavior on the sphinx rendered scikit-learn.org. See: https://github.com/scikit-learn/scikit-learn/issues/21755 */display: inline-block !important;position: relative;}#sk-container-id-1 div.sk-text-repr-fallback {display: none;}</style><div id=\"sk-container-id-1\" class=\"sk-top-container\"><div class=\"sk-text-repr-fallback\"><pre>KNeighborsClassifier(n_neighbors=3)</pre><b>In a Jupyter environment, please rerun this cell to show the HTML representation or trust the notebook. <br />On GitHub, the HTML representation is unable to render, please try loading this page with nbviewer.org.</b></div><div class=\"sk-container\" hidden><div class=\"sk-item\"><div class=\"sk-estimator sk-toggleable\"><input class=\"sk-toggleable__control sk-hidden--visually\" id=\"sk-estimator-id-1\" type=\"checkbox\" checked><label for=\"sk-estimator-id-1\" class=\"sk-toggleable__label sk-toggleable__label-arrow\">KNeighborsClassifier</label><div class=\"sk-toggleable__content\"><pre>KNeighborsClassifier(n_neighbors=3)</pre></div></div></div></div></div>"
      ],
      "text/plain": [
       "KNeighborsClassifier(n_neighbors=3)"
      ]
     },
     "execution_count": 13,
     "metadata": {},
     "output_type": "execute_result"
    }
   ],
   "source": [
    "# k가 3인 knn 분류기 생성\n",
    "knn = KNeighborsClassifier(n_neighbors=3)\n",
    "\n",
    "# knn에 train set 전달하여 모델 생성(학습)\n",
    "knn.fit(x_train, y_train)"
   ]
  },
  {
   "cell_type": "code",
   "execution_count": 14,
   "id": "2d060b46",
   "metadata": {},
   "outputs": [],
   "source": [
    "# 위와 동일한 결과\n",
    "knn = KNeighborsClassifier(n_neighbors=3).fit(x_train, y_train)"
   ]
  },
  {
   "cell_type": "code",
   "execution_count": 15,
   "id": "f55d7e7b",
   "metadata": {},
   "outputs": [
    {
     "name": "stdout",
     "output_type": "stream",
     "text": [
      "train 성능: 0.9666666666666667\n",
      "test 성능: 0.9333333333333333\n"
     ]
    }
   ],
   "source": [
    "# 평가하기\n",
    "print('train 성능:', knn.score(x_train, y_train))\n",
    "print('test 성능:', knn.score(x_test, y_test))"
   ]
  },
  {
   "cell_type": "markdown",
   "id": "e9d91e6a",
   "metadata": {},
   "source": [
    "성능이 낮은 경우에는\n",
    "1. 하이퍼파라미터를 조절하거나,\n",
    "2. model을 변경하거나,\n",
    "3. 데이터전처리 변경 등을 통해 성능을 향상할 수 있다."
   ]
  },
  {
   "cell_type": "code",
   "execution_count": 16,
   "id": "324d7abe",
   "metadata": {
    "scrolled": true
   },
   "outputs": [
    {
     "data": {
      "text/plain": [
       "array([0, 2, 1, 1, 0, 1, 0, 0, 2, 1, 2, 2, 2, 1, 0, 0, 0, 1, 1, 1, 0, 2,\n",
       "       1, 1, 2, 1, 1, 0, 2, 0], dtype=int64)"
      ]
     },
     "execution_count": 16,
     "metadata": {},
     "output_type": "execute_result"
    }
   ],
   "source": [
    "# knn 모델에 test set 적용하여 예측치 얻기\n",
    "pred = knn.predict(x_test)\n",
    "pred"
   ]
  },
  {
   "cell_type": "code",
   "execution_count": 17,
   "id": "d8b4957e",
   "metadata": {},
   "outputs": [
    {
     "name": "stdout",
     "output_type": "stream",
     "text": [
      "[0 2 1 1 0 1 0 0 2 1 2 2 2 1 0 0 0 1 1 1 0 2 1 1 2 1 1 0 2 0]\n",
      "[0 2 1 1 0 1 0 0 2 1 2 2 2 1 0 0 0 1 1 2 0 2 1 2 2 1 1 0 2 0]\n"
     ]
    }
   ],
   "source": [
    "print(pred)\n",
    "print(y_test.to_numpy())"
   ]
  },
  {
   "cell_type": "code",
   "execution_count": 18,
   "id": "c10964ca",
   "metadata": {
    "scrolled": true
   },
   "outputs": [
    {
     "name": "stdout",
     "output_type": "stream",
     "text": [
      "[[1.         0.         0.        ]\n",
      " [0.         0.         1.        ]\n",
      " [0.         1.         0.        ]\n",
      " [0.         1.         0.        ]\n",
      " [1.         0.         0.        ]\n",
      " [0.         0.66666667 0.33333333]\n",
      " [1.         0.         0.        ]\n",
      " [1.         0.         0.        ]\n",
      " [0.         0.         1.        ]\n",
      " [0.         1.         0.        ]\n",
      " [0.         0.         1.        ]\n",
      " [0.         0.         1.        ]\n",
      " [0.         0.         1.        ]\n",
      " [0.         1.         0.        ]\n",
      " [1.         0.         0.        ]\n",
      " [1.         0.         0.        ]\n",
      " [1.         0.         0.        ]\n",
      " [0.         1.         0.        ]\n",
      " [0.         1.         0.        ]\n",
      " [0.         0.66666667 0.33333333]\n",
      " [1.         0.         0.        ]\n",
      " [0.         0.         1.        ]\n",
      " [0.         1.         0.        ]\n",
      " [0.         0.66666667 0.33333333]\n",
      " [0.         0.         1.        ]\n",
      " [0.         0.66666667 0.33333333]\n",
      " [0.         1.         0.        ]\n",
      " [1.         0.         0.        ]\n",
      " [0.         0.         1.        ]\n",
      " [1.         0.         0.        ]]\n"
     ]
    }
   ],
   "source": [
    "# 예측 확률값\n",
    "pred_proba = knn.predict_proba(x_test)\n",
    "print(pred_proba)"
   ]
  },
  {
   "cell_type": "markdown",
   "id": "9c8cdc07",
   "metadata": {},
   "source": [
    "# 4. GridSearchCV 사용"
   ]
  },
  {
   "cell_type": "markdown",
   "id": "91b2b627",
   "metadata": {},
   "source": [
    "`sklearn.model_selection.GridSearchCV`\n",
    "```\n",
    "(estimator, param_grid, , scoring=None, n_jobs=None, refit=True, cv=None, verbose=0, pre_dispatch='2n_jobs', error_score=nan, return_train_score=False)\n",
    "```\n",
    "- estimator: 학습 모델\n",
    "- param_grid: 실행해 볼 하이퍼파라미터 목록, dict 객체\n",
    "- cv: CrossValidation에 사용할 나누는 개수(default: 5)\n",
    "- verbose: 0(default): 메시지 출력 안함, 1: 간단한 메시지, 2: 하이퍼파라미터별 메시지 출력\n",
    "- n_jobs: -1로 지정하면 모든 코어를 다 사용하여 속도가 빨라짐"
   ]
  },
  {
   "cell_type": "code",
   "execution_count": 19,
   "id": "e48df8d0",
   "metadata": {},
   "outputs": [
    {
     "data": {
      "text/plain": [
       "array([0, 0, 0, 0, 0, 0, 0, 0, 0, 0, 0, 0, 0, 0, 0, 0, 0, 0, 0, 0, 0, 0,\n",
       "       0, 0, 0, 0, 0, 0, 0, 0, 0, 0, 0, 0, 0, 0, 0, 0, 0, 0, 0, 0, 0, 0,\n",
       "       0, 0, 0, 0, 0, 0, 1, 1, 1, 1, 1, 1, 1, 1, 1, 1, 1, 1, 1, 1, 1, 1,\n",
       "       1, 1, 1, 1, 1, 1, 1, 1, 1, 1, 1, 1, 1, 1, 1, 1, 1, 1, 1, 1, 1, 1,\n",
       "       1, 1, 1, 1, 1, 1, 1, 1, 1, 1, 1, 1, 2, 2, 2, 2, 2, 2, 2, 2, 2, 2,\n",
       "       2, 2, 2, 2, 2, 2, 2, 2, 2, 2, 2, 2, 2, 2, 2, 2, 2, 2, 2, 2, 2, 2,\n",
       "       2, 2, 2, 2, 2, 2, 2, 2, 2, 2, 2, 2, 2, 2, 2, 2, 2, 2], dtype=int64)"
      ]
     },
     "execution_count": 19,
     "metadata": {},
     "output_type": "execute_result"
    }
   ],
   "source": [
    "df['target'].to_numpy()"
   ]
  },
  {
   "cell_type": "code",
   "execution_count": 20,
   "id": "9bff2b83",
   "metadata": {},
   "outputs": [
    {
     "data": {
      "text/html": [
       "<style>#sk-container-id-2 {color: black;background-color: white;}#sk-container-id-2 pre{padding: 0;}#sk-container-id-2 div.sk-toggleable {background-color: white;}#sk-container-id-2 label.sk-toggleable__label {cursor: pointer;display: block;width: 100%;margin-bottom: 0;padding: 0.3em;box-sizing: border-box;text-align: center;}#sk-container-id-2 label.sk-toggleable__label-arrow:before {content: \"▸\";float: left;margin-right: 0.25em;color: #696969;}#sk-container-id-2 label.sk-toggleable__label-arrow:hover:before {color: black;}#sk-container-id-2 div.sk-estimator:hover label.sk-toggleable__label-arrow:before {color: black;}#sk-container-id-2 div.sk-toggleable__content {max-height: 0;max-width: 0;overflow: hidden;text-align: left;background-color: #f0f8ff;}#sk-container-id-2 div.sk-toggleable__content pre {margin: 0.2em;color: black;border-radius: 0.25em;background-color: #f0f8ff;}#sk-container-id-2 input.sk-toggleable__control:checked~div.sk-toggleable__content {max-height: 200px;max-width: 100%;overflow: auto;}#sk-container-id-2 input.sk-toggleable__control:checked~label.sk-toggleable__label-arrow:before {content: \"▾\";}#sk-container-id-2 div.sk-estimator input.sk-toggleable__control:checked~label.sk-toggleable__label {background-color: #d4ebff;}#sk-container-id-2 div.sk-label input.sk-toggleable__control:checked~label.sk-toggleable__label {background-color: #d4ebff;}#sk-container-id-2 input.sk-hidden--visually {border: 0;clip: rect(1px 1px 1px 1px);clip: rect(1px, 1px, 1px, 1px);height: 1px;margin: -1px;overflow: hidden;padding: 0;position: absolute;width: 1px;}#sk-container-id-2 div.sk-estimator {font-family: monospace;background-color: #f0f8ff;border: 1px dotted black;border-radius: 0.25em;box-sizing: border-box;margin-bottom: 0.5em;}#sk-container-id-2 div.sk-estimator:hover {background-color: #d4ebff;}#sk-container-id-2 div.sk-parallel-item::after {content: \"\";width: 100%;border-bottom: 1px solid gray;flex-grow: 1;}#sk-container-id-2 div.sk-label:hover label.sk-toggleable__label {background-color: #d4ebff;}#sk-container-id-2 div.sk-serial::before {content: \"\";position: absolute;border-left: 1px solid gray;box-sizing: border-box;top: 0;bottom: 0;left: 50%;z-index: 0;}#sk-container-id-2 div.sk-serial {display: flex;flex-direction: column;align-items: center;background-color: white;padding-right: 0.2em;padding-left: 0.2em;position: relative;}#sk-container-id-2 div.sk-item {position: relative;z-index: 1;}#sk-container-id-2 div.sk-parallel {display: flex;align-items: stretch;justify-content: center;background-color: white;position: relative;}#sk-container-id-2 div.sk-item::before, #sk-container-id-2 div.sk-parallel-item::before {content: \"\";position: absolute;border-left: 1px solid gray;box-sizing: border-box;top: 0;bottom: 0;left: 50%;z-index: -1;}#sk-container-id-2 div.sk-parallel-item {display: flex;flex-direction: column;z-index: 1;position: relative;background-color: white;}#sk-container-id-2 div.sk-parallel-item:first-child::after {align-self: flex-end;width: 50%;}#sk-container-id-2 div.sk-parallel-item:last-child::after {align-self: flex-start;width: 50%;}#sk-container-id-2 div.sk-parallel-item:only-child::after {width: 0;}#sk-container-id-2 div.sk-dashed-wrapped {border: 1px dashed gray;margin: 0 0.4em 0.5em 0.4em;box-sizing: border-box;padding-bottom: 0.4em;background-color: white;}#sk-container-id-2 div.sk-label label {font-family: monospace;font-weight: bold;display: inline-block;line-height: 1.2em;}#sk-container-id-2 div.sk-label-container {text-align: center;}#sk-container-id-2 div.sk-container {/* jupyter's `normalize.less` sets `[hidden] { display: none; }` but bootstrap.min.css set `[hidden] { display: none !important; }` so we also need the `!important` here to be able to override the default hidden behavior on the sphinx rendered scikit-learn.org. See: https://github.com/scikit-learn/scikit-learn/issues/21755 */display: inline-block !important;position: relative;}#sk-container-id-2 div.sk-text-repr-fallback {display: none;}</style><div id=\"sk-container-id-2\" class=\"sk-top-container\"><div class=\"sk-text-repr-fallback\"><pre>GridSearchCV(cv=5, estimator=KNeighborsClassifier(),\n",
       "             param_grid={&#x27;n_neighbors&#x27;: range(3, 10), &#x27;p&#x27;: [1, 2]})</pre><b>In a Jupyter environment, please rerun this cell to show the HTML representation or trust the notebook. <br />On GitHub, the HTML representation is unable to render, please try loading this page with nbviewer.org.</b></div><div class=\"sk-container\" hidden><div class=\"sk-item sk-dashed-wrapped\"><div class=\"sk-label-container\"><div class=\"sk-label sk-toggleable\"><input class=\"sk-toggleable__control sk-hidden--visually\" id=\"sk-estimator-id-2\" type=\"checkbox\" ><label for=\"sk-estimator-id-2\" class=\"sk-toggleable__label sk-toggleable__label-arrow\">GridSearchCV</label><div class=\"sk-toggleable__content\"><pre>GridSearchCV(cv=5, estimator=KNeighborsClassifier(),\n",
       "             param_grid={&#x27;n_neighbors&#x27;: range(3, 10), &#x27;p&#x27;: [1, 2]})</pre></div></div></div><div class=\"sk-parallel\"><div class=\"sk-parallel-item\"><div class=\"sk-item\"><div class=\"sk-label-container\"><div class=\"sk-label sk-toggleable\"><input class=\"sk-toggleable__control sk-hidden--visually\" id=\"sk-estimator-id-3\" type=\"checkbox\" ><label for=\"sk-estimator-id-3\" class=\"sk-toggleable__label sk-toggleable__label-arrow\">estimator: KNeighborsClassifier</label><div class=\"sk-toggleable__content\"><pre>KNeighborsClassifier()</pre></div></div></div><div class=\"sk-serial\"><div class=\"sk-item\"><div class=\"sk-estimator sk-toggleable\"><input class=\"sk-toggleable__control sk-hidden--visually\" id=\"sk-estimator-id-4\" type=\"checkbox\" ><label for=\"sk-estimator-id-4\" class=\"sk-toggleable__label sk-toggleable__label-arrow\">KNeighborsClassifier</label><div class=\"sk-toggleable__content\"><pre>KNeighborsClassifier()</pre></div></div></div></div></div></div></div></div></div></div>"
      ],
      "text/plain": [
       "GridSearchCV(cv=5, estimator=KNeighborsClassifier(),\n",
       "             param_grid={'n_neighbors': range(3, 10), 'p': [1, 2]})"
      ]
     },
     "execution_count": 20,
     "metadata": {},
     "output_type": "execute_result"
    }
   ],
   "source": [
    "# 데이터 섞기\n",
    "df2 = df.sample(frac=1, random_state=42)\n",
    "\n",
    "# X, Y 분리하기\n",
    "X = df.iloc[:, :-1]\n",
    "Y = df.iloc[:, -1]\n",
    "\n",
    "# X에 대해 Scale\n",
    "scaledX = StandardScaler().fit_transform(X)\n",
    "\n",
    "# 시도해 볼 하이퍼파라미터 종류 나여하기\n",
    "params = {'n_neighbors': range(3, 10),\n",
    "          'p': [1, 2]}\n",
    "\n",
    "# knn 학습 모델 객체 생성하기\n",
    "model = KNeighborsClassifier()\n",
    "\n",
    "# GridSearchCV 객체 만들기 (위에어 생성한 model, params를 사용하고, cv의 개수를 지정함)\n",
    "gs = GridSearchCV(model, params, cv=5)\n",
    "\n",
    "# gs를 학습하기\n",
    "gs.fit(scaledX, Y)"
   ]
  },
  {
   "cell_type": "markdown",
   "id": "4ad495e7",
   "metadata": {},
   "source": [
    "`df.sample`\n",
    "- `n=5`: n개의 row를 random하게 return\n",
    "- `frac=1`: 전체 row에서 특정 비율의 데이터를 random하게 return"
   ]
  },
  {
   "cell_type": "code",
   "execution_count": 21,
   "id": "f1dc9c1e",
   "metadata": {},
   "outputs": [
    {
     "name": "stdout",
     "output_type": "stream",
     "text": [
      "['__abstractmethods__', '__annotations__', '__class__', '__delattr__', '__dict__', '__dir__', '__doc__', '__eq__', '__format__', '__ge__', '__getattribute__', '__getstate__', '__gt__', '__hash__', '__init__', '__init_subclass__', '__le__', '__lt__', '__module__', '__ne__', '__new__', '__reduce__', '__reduce_ex__', '__repr__', '__setattr__', '__setstate__', '__sizeof__', '__str__', '__subclasshook__', '__weakref__', '_abc_impl', '_check_feature_names', '_check_n_features', '_check_refit_for_multimetric', '_estimator_type', '_format_results', '_get_param_names', '_get_tags', '_more_tags', '_repr_html_', '_repr_html_inner', '_repr_mimebundle_', '_required_parameters', '_run_search', '_select_best_index', '_validate_data', '_validate_params', 'best_estimator_', 'best_index_', 'best_params_', 'best_score_', 'classes_', 'cv', 'cv_results_', 'decision_function', 'error_score', 'estimator', 'fit', 'get_params', 'inverse_transform', 'multimetric_', 'n_features_in_', 'n_jobs', 'n_splits_', 'param_grid', 'pre_dispatch', 'predict', 'predict_log_proba', 'predict_proba', 'refit', 'refit_time_', 'return_train_score', 'score', 'score_samples', 'scorer_', 'scoring', 'set_params', 'transform', 'verbose']\n"
     ]
    }
   ],
   "source": [
    "# gs의 주요 attribute 살펴보기\n",
    "print(dir(gs))"
   ]
  },
  {
   "cell_type": "code",
   "execution_count": 22,
   "id": "d2528ee1",
   "metadata": {},
   "outputs": [
    {
     "data": {
      "text/plain": [
       "{'mean_fit_time': array([0.00058365, 0.00040021, 0.00085521, 0.00089025, 0.00092573,\n",
       "        0.00051584, 0.00080414, 0.00120411, 0.00062485, 0.00071182,\n",
       "        0.00091138, 0.00102663, 0.00101924, 0.00091381]),\n",
       " 'std_fit_time': array([4.81135710e-04, 4.90154449e-04, 4.40912862e-04, 4.67161941e-04,\n",
       "        5.03705221e-04, 4.55863945e-04, 4.02101268e-04, 2.47007291e-04,\n",
       "        5.10625216e-04, 4.03443114e-04, 5.01263722e-04, 1.86619468e-05,\n",
       "        2.91906023e-04, 1.81191243e-04]),\n",
       " 'mean_score_time': array([0.00203757, 0.00190377, 0.00177469, 0.00166526, 0.00152822,\n",
       "        0.00191269, 0.0014442 , 0.00180922, 0.00218315, 0.00218482,\n",
       "        0.00200953, 0.00209746, 0.00222621, 0.00204067]),\n",
       " 'std_score_time': array([0.00068809, 0.0004901 , 0.00040644, 0.00053357, 0.00046668,\n",
       "        0.00045031, 0.00066288, 0.00051603, 0.00052478, 0.00049941,\n",
       "        0.00043251, 0.00011827, 0.00035987, 0.0006872 ]),\n",
       " 'param_n_neighbors': masked_array(data=[3, 3, 4, 4, 5, 5, 6, 6, 7, 7, 8, 8, 9, 9],\n",
       "              mask=[False, False, False, False, False, False, False, False,\n",
       "                    False, False, False, False, False, False],\n",
       "        fill_value='?',\n",
       "             dtype=object),\n",
       " 'param_p': masked_array(data=[1, 2, 1, 2, 1, 2, 1, 2, 1, 2, 1, 2, 1, 2],\n",
       "              mask=[False, False, False, False, False, False, False, False,\n",
       "                    False, False, False, False, False, False],\n",
       "        fill_value='?',\n",
       "             dtype=object),\n",
       " 'params': [{'n_neighbors': 3, 'p': 1},\n",
       "  {'n_neighbors': 3, 'p': 2},\n",
       "  {'n_neighbors': 4, 'p': 1},\n",
       "  {'n_neighbors': 4, 'p': 2},\n",
       "  {'n_neighbors': 5, 'p': 1},\n",
       "  {'n_neighbors': 5, 'p': 2},\n",
       "  {'n_neighbors': 6, 'p': 1},\n",
       "  {'n_neighbors': 6, 'p': 2},\n",
       "  {'n_neighbors': 7, 'p': 1},\n",
       "  {'n_neighbors': 7, 'p': 2},\n",
       "  {'n_neighbors': 8, 'p': 1},\n",
       "  {'n_neighbors': 8, 'p': 2},\n",
       "  {'n_neighbors': 9, 'p': 1},\n",
       "  {'n_neighbors': 9, 'p': 2}],\n",
       " 'split0_test_score': array([0.96666667, 0.96666667, 0.96666667, 0.96666667, 0.96666667,\n",
       "        0.96666667, 0.96666667, 0.96666667, 0.96666667, 0.96666667,\n",
       "        0.96666667, 0.96666667, 0.96666667, 0.96666667]),\n",
       " 'split1_test_score': array([0.96666667, 0.96666667, 0.96666667, 0.96666667, 0.96666667,\n",
       "        0.96666667, 0.96666667, 0.96666667, 0.96666667, 0.96666667,\n",
       "        0.96666667, 0.96666667, 0.96666667, 0.96666667]),\n",
       " 'split2_test_score': array([0.9       , 0.93333333, 0.96666667, 1.        , 0.9       ,\n",
       "        0.93333333, 0.96666667, 1.        , 0.96666667, 0.93333333,\n",
       "        0.96666667, 1.        , 0.93333333, 0.96666667]),\n",
       " 'split3_test_score': array([0.93333333, 0.9       , 0.9       , 0.86666667, 0.9       ,\n",
       "        0.93333333, 0.86666667, 0.9       , 0.9       , 0.9       ,\n",
       "        0.86666667, 0.93333333, 0.86666667, 0.9       ]),\n",
       " 'split4_test_score': array([1.        , 1.        , 0.96666667, 0.96666667, 1.        ,\n",
       "        1.        , 1.        , 1.        , 1.        , 1.        ,\n",
       "        1.        , 0.96666667, 1.        , 1.        ]),\n",
       " 'mean_test_score': array([0.95333333, 0.95333333, 0.95333333, 0.95333333, 0.94666667,\n",
       "        0.96      , 0.95333333, 0.96666667, 0.96      , 0.95333333,\n",
       "        0.95333333, 0.96666667, 0.94666667, 0.96      ]),\n",
       " 'std_test_score': array([0.03399346, 0.03399346, 0.02666667, 0.04521553, 0.04      ,\n",
       "        0.02494438, 0.04521553, 0.03651484, 0.03265986, 0.03399346,\n",
       "        0.04521553, 0.02108185, 0.04521553, 0.03265986]),\n",
       " 'rank_test_score': array([ 6,  6,  6,  6, 13,  3,  6,  1,  3,  6,  6,  1, 13,  3])}"
      ]
     },
     "execution_count": 22,
     "metadata": {},
     "output_type": "execute_result"
    }
   ],
   "source": [
    "gs.cv_results_"
   ]
  },
  {
   "cell_type": "code",
   "execution_count": 23,
   "id": "af22c2a5",
   "metadata": {},
   "outputs": [
    {
     "data": {
      "text/html": [
       "<div>\n",
       "<style scoped>\n",
       "    .dataframe tbody tr th:only-of-type {\n",
       "        vertical-align: middle;\n",
       "    }\n",
       "\n",
       "    .dataframe tbody tr th {\n",
       "        vertical-align: top;\n",
       "    }\n",
       "\n",
       "    .dataframe thead th {\n",
       "        text-align: right;\n",
       "    }\n",
       "</style>\n",
       "<table border=\"1\" class=\"dataframe\">\n",
       "  <thead>\n",
       "    <tr style=\"text-align: right;\">\n",
       "      <th></th>\n",
       "      <th>mean_fit_time</th>\n",
       "      <th>std_fit_time</th>\n",
       "      <th>mean_score_time</th>\n",
       "      <th>std_score_time</th>\n",
       "      <th>param_n_neighbors</th>\n",
       "      <th>param_p</th>\n",
       "      <th>params</th>\n",
       "      <th>split0_test_score</th>\n",
       "      <th>split1_test_score</th>\n",
       "      <th>split2_test_score</th>\n",
       "      <th>split3_test_score</th>\n",
       "      <th>split4_test_score</th>\n",
       "      <th>mean_test_score</th>\n",
       "      <th>std_test_score</th>\n",
       "      <th>rank_test_score</th>\n",
       "    </tr>\n",
       "  </thead>\n",
       "  <tbody>\n",
       "    <tr>\n",
       "      <th>0</th>\n",
       "      <td>0.000584</td>\n",
       "      <td>0.000481</td>\n",
       "      <td>0.002038</td>\n",
       "      <td>0.000688</td>\n",
       "      <td>3</td>\n",
       "      <td>1</td>\n",
       "      <td>{'n_neighbors': 3, 'p': 1}</td>\n",
       "      <td>0.966667</td>\n",
       "      <td>0.966667</td>\n",
       "      <td>0.900000</td>\n",
       "      <td>0.933333</td>\n",
       "      <td>1.000000</td>\n",
       "      <td>0.953333</td>\n",
       "      <td>0.033993</td>\n",
       "      <td>6</td>\n",
       "    </tr>\n",
       "    <tr>\n",
       "      <th>1</th>\n",
       "      <td>0.000400</td>\n",
       "      <td>0.000490</td>\n",
       "      <td>0.001904</td>\n",
       "      <td>0.000490</td>\n",
       "      <td>3</td>\n",
       "      <td>2</td>\n",
       "      <td>{'n_neighbors': 3, 'p': 2}</td>\n",
       "      <td>0.966667</td>\n",
       "      <td>0.966667</td>\n",
       "      <td>0.933333</td>\n",
       "      <td>0.900000</td>\n",
       "      <td>1.000000</td>\n",
       "      <td>0.953333</td>\n",
       "      <td>0.033993</td>\n",
       "      <td>6</td>\n",
       "    </tr>\n",
       "    <tr>\n",
       "      <th>2</th>\n",
       "      <td>0.000855</td>\n",
       "      <td>0.000441</td>\n",
       "      <td>0.001775</td>\n",
       "      <td>0.000406</td>\n",
       "      <td>4</td>\n",
       "      <td>1</td>\n",
       "      <td>{'n_neighbors': 4, 'p': 1}</td>\n",
       "      <td>0.966667</td>\n",
       "      <td>0.966667</td>\n",
       "      <td>0.966667</td>\n",
       "      <td>0.900000</td>\n",
       "      <td>0.966667</td>\n",
       "      <td>0.953333</td>\n",
       "      <td>0.026667</td>\n",
       "      <td>6</td>\n",
       "    </tr>\n",
       "    <tr>\n",
       "      <th>3</th>\n",
       "      <td>0.000890</td>\n",
       "      <td>0.000467</td>\n",
       "      <td>0.001665</td>\n",
       "      <td>0.000534</td>\n",
       "      <td>4</td>\n",
       "      <td>2</td>\n",
       "      <td>{'n_neighbors': 4, 'p': 2}</td>\n",
       "      <td>0.966667</td>\n",
       "      <td>0.966667</td>\n",
       "      <td>1.000000</td>\n",
       "      <td>0.866667</td>\n",
       "      <td>0.966667</td>\n",
       "      <td>0.953333</td>\n",
       "      <td>0.045216</td>\n",
       "      <td>6</td>\n",
       "    </tr>\n",
       "    <tr>\n",
       "      <th>4</th>\n",
       "      <td>0.000926</td>\n",
       "      <td>0.000504</td>\n",
       "      <td>0.001528</td>\n",
       "      <td>0.000467</td>\n",
       "      <td>5</td>\n",
       "      <td>1</td>\n",
       "      <td>{'n_neighbors': 5, 'p': 1}</td>\n",
       "      <td>0.966667</td>\n",
       "      <td>0.966667</td>\n",
       "      <td>0.900000</td>\n",
       "      <td>0.900000</td>\n",
       "      <td>1.000000</td>\n",
       "      <td>0.946667</td>\n",
       "      <td>0.040000</td>\n",
       "      <td>13</td>\n",
       "    </tr>\n",
       "    <tr>\n",
       "      <th>5</th>\n",
       "      <td>0.000516</td>\n",
       "      <td>0.000456</td>\n",
       "      <td>0.001913</td>\n",
       "      <td>0.000450</td>\n",
       "      <td>5</td>\n",
       "      <td>2</td>\n",
       "      <td>{'n_neighbors': 5, 'p': 2}</td>\n",
       "      <td>0.966667</td>\n",
       "      <td>0.966667</td>\n",
       "      <td>0.933333</td>\n",
       "      <td>0.933333</td>\n",
       "      <td>1.000000</td>\n",
       "      <td>0.960000</td>\n",
       "      <td>0.024944</td>\n",
       "      <td>3</td>\n",
       "    </tr>\n",
       "    <tr>\n",
       "      <th>6</th>\n",
       "      <td>0.000804</td>\n",
       "      <td>0.000402</td>\n",
       "      <td>0.001444</td>\n",
       "      <td>0.000663</td>\n",
       "      <td>6</td>\n",
       "      <td>1</td>\n",
       "      <td>{'n_neighbors': 6, 'p': 1}</td>\n",
       "      <td>0.966667</td>\n",
       "      <td>0.966667</td>\n",
       "      <td>0.966667</td>\n",
       "      <td>0.866667</td>\n",
       "      <td>1.000000</td>\n",
       "      <td>0.953333</td>\n",
       "      <td>0.045216</td>\n",
       "      <td>6</td>\n",
       "    </tr>\n",
       "    <tr>\n",
       "      <th>7</th>\n",
       "      <td>0.001204</td>\n",
       "      <td>0.000247</td>\n",
       "      <td>0.001809</td>\n",
       "      <td>0.000516</td>\n",
       "      <td>6</td>\n",
       "      <td>2</td>\n",
       "      <td>{'n_neighbors': 6, 'p': 2}</td>\n",
       "      <td>0.966667</td>\n",
       "      <td>0.966667</td>\n",
       "      <td>1.000000</td>\n",
       "      <td>0.900000</td>\n",
       "      <td>1.000000</td>\n",
       "      <td>0.966667</td>\n",
       "      <td>0.036515</td>\n",
       "      <td>1</td>\n",
       "    </tr>\n",
       "    <tr>\n",
       "      <th>8</th>\n",
       "      <td>0.000625</td>\n",
       "      <td>0.000511</td>\n",
       "      <td>0.002183</td>\n",
       "      <td>0.000525</td>\n",
       "      <td>7</td>\n",
       "      <td>1</td>\n",
       "      <td>{'n_neighbors': 7, 'p': 1}</td>\n",
       "      <td>0.966667</td>\n",
       "      <td>0.966667</td>\n",
       "      <td>0.966667</td>\n",
       "      <td>0.900000</td>\n",
       "      <td>1.000000</td>\n",
       "      <td>0.960000</td>\n",
       "      <td>0.032660</td>\n",
       "      <td>3</td>\n",
       "    </tr>\n",
       "    <tr>\n",
       "      <th>9</th>\n",
       "      <td>0.000712</td>\n",
       "      <td>0.000403</td>\n",
       "      <td>0.002185</td>\n",
       "      <td>0.000499</td>\n",
       "      <td>7</td>\n",
       "      <td>2</td>\n",
       "      <td>{'n_neighbors': 7, 'p': 2}</td>\n",
       "      <td>0.966667</td>\n",
       "      <td>0.966667</td>\n",
       "      <td>0.933333</td>\n",
       "      <td>0.900000</td>\n",
       "      <td>1.000000</td>\n",
       "      <td>0.953333</td>\n",
       "      <td>0.033993</td>\n",
       "      <td>6</td>\n",
       "    </tr>\n",
       "    <tr>\n",
       "      <th>10</th>\n",
       "      <td>0.000911</td>\n",
       "      <td>0.000501</td>\n",
       "      <td>0.002010</td>\n",
       "      <td>0.000433</td>\n",
       "      <td>8</td>\n",
       "      <td>1</td>\n",
       "      <td>{'n_neighbors': 8, 'p': 1}</td>\n",
       "      <td>0.966667</td>\n",
       "      <td>0.966667</td>\n",
       "      <td>0.966667</td>\n",
       "      <td>0.866667</td>\n",
       "      <td>1.000000</td>\n",
       "      <td>0.953333</td>\n",
       "      <td>0.045216</td>\n",
       "      <td>6</td>\n",
       "    </tr>\n",
       "    <tr>\n",
       "      <th>11</th>\n",
       "      <td>0.001027</td>\n",
       "      <td>0.000019</td>\n",
       "      <td>0.002097</td>\n",
       "      <td>0.000118</td>\n",
       "      <td>8</td>\n",
       "      <td>2</td>\n",
       "      <td>{'n_neighbors': 8, 'p': 2}</td>\n",
       "      <td>0.966667</td>\n",
       "      <td>0.966667</td>\n",
       "      <td>1.000000</td>\n",
       "      <td>0.933333</td>\n",
       "      <td>0.966667</td>\n",
       "      <td>0.966667</td>\n",
       "      <td>0.021082</td>\n",
       "      <td>1</td>\n",
       "    </tr>\n",
       "    <tr>\n",
       "      <th>12</th>\n",
       "      <td>0.001019</td>\n",
       "      <td>0.000292</td>\n",
       "      <td>0.002226</td>\n",
       "      <td>0.000360</td>\n",
       "      <td>9</td>\n",
       "      <td>1</td>\n",
       "      <td>{'n_neighbors': 9, 'p': 1}</td>\n",
       "      <td>0.966667</td>\n",
       "      <td>0.966667</td>\n",
       "      <td>0.933333</td>\n",
       "      <td>0.866667</td>\n",
       "      <td>1.000000</td>\n",
       "      <td>0.946667</td>\n",
       "      <td>0.045216</td>\n",
       "      <td>13</td>\n",
       "    </tr>\n",
       "    <tr>\n",
       "      <th>13</th>\n",
       "      <td>0.000914</td>\n",
       "      <td>0.000181</td>\n",
       "      <td>0.002041</td>\n",
       "      <td>0.000687</td>\n",
       "      <td>9</td>\n",
       "      <td>2</td>\n",
       "      <td>{'n_neighbors': 9, 'p': 2}</td>\n",
       "      <td>0.966667</td>\n",
       "      <td>0.966667</td>\n",
       "      <td>0.966667</td>\n",
       "      <td>0.900000</td>\n",
       "      <td>1.000000</td>\n",
       "      <td>0.960000</td>\n",
       "      <td>0.032660</td>\n",
       "      <td>3</td>\n",
       "    </tr>\n",
       "  </tbody>\n",
       "</table>\n",
       "</div>"
      ],
      "text/plain": [
       "    mean_fit_time  std_fit_time  mean_score_time  std_score_time  \\\n",
       "0        0.000584      0.000481         0.002038        0.000688   \n",
       "1        0.000400      0.000490         0.001904        0.000490   \n",
       "2        0.000855      0.000441         0.001775        0.000406   \n",
       "3        0.000890      0.000467         0.001665        0.000534   \n",
       "4        0.000926      0.000504         0.001528        0.000467   \n",
       "5        0.000516      0.000456         0.001913        0.000450   \n",
       "6        0.000804      0.000402         0.001444        0.000663   \n",
       "7        0.001204      0.000247         0.001809        0.000516   \n",
       "8        0.000625      0.000511         0.002183        0.000525   \n",
       "9        0.000712      0.000403         0.002185        0.000499   \n",
       "10       0.000911      0.000501         0.002010        0.000433   \n",
       "11       0.001027      0.000019         0.002097        0.000118   \n",
       "12       0.001019      0.000292         0.002226        0.000360   \n",
       "13       0.000914      0.000181         0.002041        0.000687   \n",
       "\n",
       "   param_n_neighbors param_p                      params  split0_test_score  \\\n",
       "0                  3       1  {'n_neighbors': 3, 'p': 1}           0.966667   \n",
       "1                  3       2  {'n_neighbors': 3, 'p': 2}           0.966667   \n",
       "2                  4       1  {'n_neighbors': 4, 'p': 1}           0.966667   \n",
       "3                  4       2  {'n_neighbors': 4, 'p': 2}           0.966667   \n",
       "4                  5       1  {'n_neighbors': 5, 'p': 1}           0.966667   \n",
       "5                  5       2  {'n_neighbors': 5, 'p': 2}           0.966667   \n",
       "6                  6       1  {'n_neighbors': 6, 'p': 1}           0.966667   \n",
       "7                  6       2  {'n_neighbors': 6, 'p': 2}           0.966667   \n",
       "8                  7       1  {'n_neighbors': 7, 'p': 1}           0.966667   \n",
       "9                  7       2  {'n_neighbors': 7, 'p': 2}           0.966667   \n",
       "10                 8       1  {'n_neighbors': 8, 'p': 1}           0.966667   \n",
       "11                 8       2  {'n_neighbors': 8, 'p': 2}           0.966667   \n",
       "12                 9       1  {'n_neighbors': 9, 'p': 1}           0.966667   \n",
       "13                 9       2  {'n_neighbors': 9, 'p': 2}           0.966667   \n",
       "\n",
       "    split1_test_score  split2_test_score  split3_test_score  \\\n",
       "0            0.966667           0.900000           0.933333   \n",
       "1            0.966667           0.933333           0.900000   \n",
       "2            0.966667           0.966667           0.900000   \n",
       "3            0.966667           1.000000           0.866667   \n",
       "4            0.966667           0.900000           0.900000   \n",
       "5            0.966667           0.933333           0.933333   \n",
       "6            0.966667           0.966667           0.866667   \n",
       "7            0.966667           1.000000           0.900000   \n",
       "8            0.966667           0.966667           0.900000   \n",
       "9            0.966667           0.933333           0.900000   \n",
       "10           0.966667           0.966667           0.866667   \n",
       "11           0.966667           1.000000           0.933333   \n",
       "12           0.966667           0.933333           0.866667   \n",
       "13           0.966667           0.966667           0.900000   \n",
       "\n",
       "    split4_test_score  mean_test_score  std_test_score  rank_test_score  \n",
       "0            1.000000         0.953333        0.033993                6  \n",
       "1            1.000000         0.953333        0.033993                6  \n",
       "2            0.966667         0.953333        0.026667                6  \n",
       "3            0.966667         0.953333        0.045216                6  \n",
       "4            1.000000         0.946667        0.040000               13  \n",
       "5            1.000000         0.960000        0.024944                3  \n",
       "6            1.000000         0.953333        0.045216                6  \n",
       "7            1.000000         0.966667        0.036515                1  \n",
       "8            1.000000         0.960000        0.032660                3  \n",
       "9            1.000000         0.953333        0.033993                6  \n",
       "10           1.000000         0.953333        0.045216                6  \n",
       "11           0.966667         0.966667        0.021082                1  \n",
       "12           1.000000         0.946667        0.045216               13  \n",
       "13           1.000000         0.960000        0.032660                3  "
      ]
     },
     "execution_count": 23,
     "metadata": {},
     "output_type": "execute_result"
    }
   ],
   "source": [
    "result = pd.DataFrame(gs.cv_results_)\n",
    "result"
   ]
  },
  {
   "cell_type": "code",
   "execution_count": 24,
   "id": "a08847b6",
   "metadata": {},
   "outputs": [
    {
     "name": "stdout",
     "output_type": "stream",
     "text": [
      "0.9666666666666667 0.9666666666666667 {'n_neighbors': 6, 'p': 2}\n"
     ]
    }
   ],
   "source": [
    "model = gs.best_estimator_\n",
    "print(model.score(x_test, y_test), gs.score(x_test, y_test), gs.best_params_)\n",
    "# refit=True으로 되어있기 때문에 best_estimator로 model에 적용되어 있음\n",
    "# 따라서 gs.best_estimator_를 적용한 model의 socre와 gs.score(x_test, y_test)는 동일함"
   ]
  },
  {
   "cell_type": "code",
   "execution_count": 25,
   "id": "a72f1074",
   "metadata": {},
   "outputs": [
    {
     "data": {
      "text/plain": [
       "array([[1.        , 0.        , 0.        ],\n",
       "       [0.        , 0.16666667, 0.83333333],\n",
       "       [0.        , 1.        , 0.        ],\n",
       "       [0.        , 1.        , 0.        ],\n",
       "       [1.        , 0.        , 0.        ],\n",
       "       [0.        , 0.83333333, 0.16666667],\n",
       "       [1.        , 0.        , 0.        ],\n",
       "       [1.        , 0.        , 0.        ],\n",
       "       [0.        , 0.        , 1.        ],\n",
       "       [0.        , 1.        , 0.        ],\n",
       "       [0.        , 0.        , 1.        ],\n",
       "       [0.        , 0.        , 1.        ],\n",
       "       [0.        , 0.        , 1.        ],\n",
       "       [0.        , 1.        , 0.        ],\n",
       "       [1.        , 0.        , 0.        ],\n",
       "       [1.        , 0.        , 0.        ],\n",
       "       [1.        , 0.        , 0.        ],\n",
       "       [0.        , 1.        , 0.        ],\n",
       "       [0.        , 0.83333333, 0.16666667],\n",
       "       [0.        , 0.33333333, 0.66666667],\n",
       "       [1.        , 0.        , 0.        ],\n",
       "       [0.        , 0.        , 1.        ],\n",
       "       [0.        , 1.        , 0.        ],\n",
       "       [0.        , 0.5       , 0.5       ],\n",
       "       [0.        , 0.        , 1.        ],\n",
       "       [0.        , 0.5       , 0.5       ],\n",
       "       [0.        , 1.        , 0.        ],\n",
       "       [1.        , 0.        , 0.        ],\n",
       "       [0.        , 0.16666667, 0.83333333],\n",
       "       [1.        , 0.        , 0.        ]])"
      ]
     },
     "execution_count": 25,
     "metadata": {},
     "output_type": "execute_result"
    }
   ],
   "source": [
    "# 각 class별 예측 확률 구하기 (분류인 경우)\n",
    "# model.predict(x_test)\n",
    "model.predict_proba(x_test)"
   ]
  }
 ],
 "metadata": {
  "kernelspec": {
   "display_name": "Python 3 (ipykernel)",
   "language": "python",
   "name": "python3"
  },
  "language_info": {
   "codemirror_mode": {
    "name": "ipython",
    "version": 3
   },
   "file_extension": ".py",
   "mimetype": "text/x-python",
   "name": "python",
   "nbconvert_exporter": "python",
   "pygments_lexer": "ipython3",
   "version": "3.10.9"
  }
 },
 "nbformat": 4,
 "nbformat_minor": 5
}
